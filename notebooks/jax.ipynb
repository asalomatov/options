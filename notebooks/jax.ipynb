{
 "cells": [
  {
   "cell_type": "code",
   "execution_count": 1,
   "metadata": {},
   "outputs": [],
   "source": [
    "import jax\n",
    "import jax.numpy as jnp\n",
    "from jax import grad, jit, vmap\n",
    "from jax import random\n",
    "import numpy as np\n",
    "import pandas as pd\n",
    "from matplotlib import pyplot as plt\n",
    "from sklearn.model_selection import train_test_split"
   ]
  },
  {
   "cell_type": "code",
   "execution_count": 2,
   "metadata": {},
   "outputs": [],
   "source": [
    "%config Completer.use_jedi = False"
   ]
  },
  {
   "cell_type": "markdown",
   "metadata": {},
   "source": [
    "## Tutorial"
   ]
  },
  {
   "cell_type": "markdown",
   "metadata": {},
   "source": [
    "### Fit a linear regression"
   ]
  },
  {
   "cell_type": "code",
   "execution_count": 3,
   "metadata": {},
   "outputs": [
    {
     "data": {
      "image/png": "[encoded data removed]",
      "text/plain": [
       "<Figure size 432x288 with 1 Axes>"
      ]
     },
     "metadata": {
      "needs_background": "light"
     },
     "output_type": "display_data"
    }
   ],
   "source": [
    "import numpy as np\n",
    "import matplotlib.pyplot as plt\n",
    "\n",
    "n = 300\n",
    "xs = np.random.normal(size=(n,))\n",
    "noise = np.random.normal(scale=0.5, size=(n,))\n",
    "ys = xs * 3 - 1 + noise\n",
    "\n",
    "plt.scatter(xs, ys);"
   ]
  },
  {
   "cell_type": "code",
   "execution_count": 4,
   "metadata": {},
   "outputs": [],
   "source": [
    "# theta = [w, b] - model parameters\n",
    "def model(theta, x):\n",
    "  \"\"\"Computes wx + b on a batch of input x.\"\"\"\n",
    "  w, b = theta\n",
    "  return w * x + b"
   ]
  },
  {
   "cell_type": "markdown",
   "metadata": {},
   "source": [
    "Loss function is the sum of squared errors, $ L = \\Sigma (y - y_{pred})^2$"
   ]
  },
  {
   "cell_type": "code",
   "execution_count": 5,
   "metadata": {},
   "outputs": [],
   "source": [
    "def loss_fn(theta, x, y):\n",
    "  prediction = model(theta, x)\n",
    "  return jnp.mean((prediction-y)**2)"
   ]
  },
  {
   "cell_type": "code",
   "execution_count": 6,
   "metadata": {},
   "outputs": [
    {
     "data": {
      "text/plain": [
       "Array(9., dtype=float32)"
      ]
     },
     "execution_count": 6,
     "metadata": {},
     "output_type": "execute_result"
    }
   ],
   "source": [
    "loss_fn((3,1), 0, 4)"
   ]
  },
  {
   "cell_type": "code",
   "execution_count": 7,
   "metadata": {},
   "outputs": [
    {
     "data": {
      "text/plain": [
       "Array(4.189866, dtype=float32)"
      ]
     },
     "execution_count": 7,
     "metadata": {},
     "output_type": "execute_result"
    }
   ],
   "source": [
    "loss_fn((3,1), xs, ys)"
   ]
  },
  {
   "cell_type": "markdown",
   "metadata": {},
   "source": [
    "Use gradient discend to find the optimal parameters, \n",
    "$$\n",
    "\\theta_{updated}=\\theta + \\lambda\\nabla_{\\theta}L(\\theta, x, y)\n",
    "$$\n",
    "where $\\lambda$ is learning rate."
   ]
  },
  {
   "cell_type": "code",
   "execution_count": 8,
   "metadata": {},
   "outputs": [],
   "source": [
    "@jax.jit\n",
    "def update(theta, x, y, lr=0.1):\n",
    "  return theta - lr * grad(loss_fn)(theta, x, y)"
   ]
  },
  {
   "cell_type": "code",
   "execution_count": 9,
   "metadata": {},
   "outputs": [
    {
     "data": {
      "text/plain": [
       "Array([1., 1.], dtype=float32)"
      ]
     },
     "execution_count": 9,
     "metadata": {},
     "output_type": "execute_result"
    }
   ],
   "source": [
    "theta = jnp.array([1., 1.])\n",
    "theta"
   ]
  },
  {
   "cell_type": "code",
   "execution_count": 10,
   "metadata": {},
   "outputs": [
    {
     "data": {
      "text/plain": [
       "Array([2., 2.], dtype=float32)"
      ]
     },
     "execution_count": 10,
     "metadata": {},
     "output_type": "execute_result"
    }
   ],
   "source": [
    "grad(loss_fn)(theta, 1., 1.)"
   ]
  },
  {
   "cell_type": "code",
   "execution_count": 11,
   "metadata": {},
   "outputs": [
    {
     "data": {
      "text/plain": [
       "Array([16.,  8.], dtype=float32)"
      ]
     },
     "execution_count": 11,
     "metadata": {},
     "output_type": "execute_result"
    }
   ],
   "source": [
    "grad(loss_fn)(theta, 2., -1.)"
   ]
  },
  {
   "cell_type": "markdown",
   "metadata": {},
   "source": [
    "Gradient returns the average gradient for vectors of parameters."
   ]
  },
  {
   "cell_type": "code",
   "execution_count": 12,
   "metadata": {},
   "outputs": [
    {
     "data": {
      "text/plain": [
       "Array([9., 5.], dtype=float32)"
      ]
     },
     "execution_count": 12,
     "metadata": {},
     "output_type": "execute_result"
    }
   ],
   "source": [
    "grad(loss_fn)(theta, jnp.array([1., 2.]), jnp.array([1., -1.]))"
   ]
  },
  {
   "cell_type": "code",
   "execution_count": 13,
   "metadata": {},
   "outputs": [
    {
     "data": {
      "text/plain": [
       "Array([ 2.9492686 , -0.98865217], dtype=float32)"
      ]
     },
     "execution_count": 13,
     "metadata": {},
     "output_type": "execute_result"
    }
   ],
   "source": [
    "# initial parateters\n",
    "theta = jnp.array([1., 1.])\n",
    "theta\n",
    "n_iterations = 200\n",
    "lr = .1\n",
    "for i in range(n_iterations):\n",
    "    theta = update(theta, xs, ys, lr=lr)\n",
    "theta"
   ]
  },
  {
   "cell_type": "markdown",
   "metadata": {},
   "source": [
    "### Compute greeks of Black-Scholes option prices with jax.grad"
   ]
  },
  {
   "cell_type": "code",
   "execution_count": 14,
   "metadata": {},
   "outputs": [],
   "source": [
    "#@jax.jit\n",
    "def bs_call(S, X, T, sig, r):\n",
    "    d1 = (jnp.log(S/X) + (r + .5 * sig**2) * T)/(jnp.sqrt(T) * sig)\n",
    "    print(f'd1 = {d1}')\n",
    "    d2 = d1 - jnp.sqrt(T) * sig\n",
    "    print(f'd2 = {d2}')\n",
    "    c = S * jax.scipy.stats.norm.cdf(d1) - X * jnp.exp(-r*T)* jax.scipy.stats.norm.cdf(d2)\n",
    "    print(f'delta = {jax.scipy.stats.norm.cdf(d1)}')\n",
    "    return c"
   ]
  },
  {
   "cell_type": "code",
   "execution_count": 15,
   "metadata": {},
   "outputs": [
    {
     "name": "stdout",
     "output_type": "stream",
     "text": [
      "d1 = -0.3252846896648407\n",
      "d2 = -0.4752846956253052\n",
      "delta = 0.3724828064441681\n"
     ]
    },
    {
     "data": {
      "text/plain": [
       "Array(2.1333694, dtype=float32)"
      ]
     },
     "execution_count": 15,
     "metadata": {},
     "output_type": "execute_result"
    }
   ],
   "source": [
    "S=60.\n",
    "X=65.\n",
    "r=.08\n",
    "sig=.30\n",
    "T=.25\n",
    "bs_call(S, X, T, sig, r)"
   ]
  },
  {
   "cell_type": "code",
   "execution_count": 16,
   "metadata": {},
   "outputs": [],
   "source": [
    "# pars = [S, X, T, sig, r]\n",
    "def euro_call(pars):\n",
    "    S, X, T, sig, r = pars\n",
    "    c = bs_call(S, X, T, sig, r)\n",
    "    return c"
   ]
  },
  {
   "cell_type": "code",
   "execution_count": 17,
   "metadata": {},
   "outputs": [
    {
     "name": "stdout",
     "output_type": "stream",
     "text": [
      "d1 = -0.3252846896648407\n",
      "d2 = -0.4752846956253052\n",
      "delta = 0.3724828064441681\n"
     ]
    },
    {
     "data": {
      "text/plain": [
       "Array(2.1333694, dtype=float32)"
      ]
     },
     "execution_count": 17,
     "metadata": {},
     "output_type": "execute_result"
    }
   ],
   "source": [
    "euro_call([S, X, T, sig, r])"
   ]
  },
  {
   "cell_type": "code",
   "execution_count": null,
   "metadata": {},
   "outputs": [],
   "source": []
  },
  {
   "cell_type": "code",
   "execution_count": 18,
   "metadata": {},
   "outputs": [
    {
     "name": "stdout",
     "output_type": "stream",
     "text": [
      "d1 = Traced<ConcreteArray(-0.3252846896648407, dtype=float32, weak_type=True)>with<JVPTrace(level=2/0)> with\n",
      "  primal = Array(-0.3252847, dtype=float32, weak_type=True)\n",
      "  tangent = Traced<ShapedArray(float32[], weak_type=True)>with<JaxprTrace(level=1/0)> with\n",
      "    pval = (ShapedArray(float32[], weak_type=True), None)\n",
      "    recipe = JaxprEqnRecipe(eqn_id=<object object at 0x7fe54af42a40>, in_tracers=(Traced<ConcreteArray(0.15000000596046448, dtype=float32, weak_type=True):JaxprTrace(level=1/0)>, Traced<ConcreteArray(-0.048792704939842224, dtype=float32, weak_type=True):JaxprTrace(level=1/0)>, Traced<ConcreteArray(44.44444274902344, dtype=float32, weak_type=True):JaxprTrace(level=1/0)>, Traced<ShapedArray(float32[], weak_type=True):JaxprTrace(level=1/0)>, Traced<ShapedArray(float32[], weak_type=True):JaxprTrace(level=1/0)>), out_tracer_refs=[<weakref at 0x7fe54c2125c0; to 'JaxprTracer' at 0x7fe54c212480>], out_avals=[ShapedArray(float32[], weak_type=True)], primitive=xla_call, params={'device': None, 'backend': None, 'name': 'true_divide', 'donated_invars': (False, False, False, False, False), 'inline': True, 'keep_unused': False, 'call_jaxpr': { lambda ; a:f32[] b:f32[] c:f32[] d:f32[] e:f32[]. let\n",
      "    f:f32[] = div d a\n",
      "    g:f32[] = neg e\n",
      "    h:f32[] = mul g b\n",
      "    i:f32[] = mul h c\n",
      "    j:f32[] = add_any f i\n",
      "  in (j,) }}, effects=set(), source_info=SourceInfo(traceback=<jaxlib.xla_extension.Traceback object at 0x7fe54c21ddb0>, name_stack=NameStack(stack=(Transform(name='jvp'),))))\n",
      "d2 = Traced<ConcreteArray(-0.4752846956253052, dtype=float32, weak_type=True)>with<JVPTrace(level=2/0)> with\n",
      "  primal = Array(-0.4752847, dtype=float32, weak_type=True)\n",
      "  tangent = Traced<ShapedArray(float32[], weak_type=True)>with<JaxprTrace(level=1/0)> with\n",
      "    pval = (ShapedArray(float32[], weak_type=True), None)\n",
      "    recipe = JaxprEqnRecipe(eqn_id=<object object at 0x7fe54af42ae0>, in_tracers=(Traced<ShapedArray(float32[], weak_type=True):JaxprTrace(level=1/0)>, Traced<ShapedArray(float32[], weak_type=True):JaxprTrace(level=1/0)>), out_tracer_refs=[<weakref at 0x7fe54c2307c0; to 'JaxprTracer' at 0x7fe54c2305e0>], out_avals=[ShapedArray(float32[], weak_type=True)], primitive=xla_call, params={'device': None, 'backend': None, 'name': '<lambda>', 'donated_invars': (False, False), 'inline': True, 'keep_unused': False, 'call_jaxpr': { lambda ; a:f32[] b:f32[]. let c:f32[] = sub a b in (c,) }}, effects=set(), source_info=SourceInfo(traceback=<jaxlib.xla_extension.Traceback object at 0x7fe54c224330>, name_stack=NameStack(stack=(Transform(name='jvp'),))))\n",
      "delta = Traced<ConcreteArray(0.3724828064441681, dtype=float32)>with<JVPTrace(level=2/0)> with\n",
      "  primal = Array(0.3724828, dtype=float32)\n",
      "  tangent = Traced<ShapedArray(float32[])>with<JaxprTrace(level=1/0)> with\n",
      "    pval = (ShapedArray(float32[]), None)\n",
      "    recipe = JaxprEqnRecipe(eqn_id=<object object at 0x7fe54af432c0>, in_tracers=(Traced<ConcreteArray(0.5, dtype=float32):JaxprTrace(level=1/0)>, Traced<ShapedArray(float32[]):JaxprTrace(level=1/0)>), out_tracer_refs=[<weakref at 0x7fe54c269670; to 'JaxprTracer' at 0x7fe54c269490>], out_avals=[ShapedArray(float32[])], primitive=xla_call, params={'device': None, 'backend': None, 'name': 'fn', 'donated_invars': (False, False), 'inline': True, 'keep_unused': False, 'call_jaxpr': { lambda ; a:f32[] b:f32[]. let c:f32[] = mul a b in (c,) }}, effects=set(), source_info=SourceInfo(traceback=<jaxlib.xla_extension.Traceback object at 0x7fe54c263670>, name_stack=NameStack(stack=(Transform(name='jvp'),))))\n"
     ]
    },
    {
     "data": {
      "text/plain": [
       "[Array(0.3724828, dtype=float32, weak_type=True),\n",
       " Array(-0.31100923, dtype=float32, weak_type=True),\n",
       " Array(8.428175, dtype=float32, weak_type=True),\n",
       " Array(11.351544, dtype=float32, weak_type=True),\n",
       " Array(5.0539, dtype=float32, weak_type=True)]"
      ]
     },
     "execution_count": 18,
     "metadata": {},
     "output_type": "execute_result"
    }
   ],
   "source": [
    "pars = [S, X, T, sig, r]\n",
    "jax.grad(euro_call)(pars)"
   ]
  },
  {
   "cell_type": "code",
   "execution_count": null,
   "metadata": {},
   "outputs": [],
   "source": [
    "\n"
   ]
  },
  {
   "cell_type": "code",
   "execution_count": 19,
   "metadata": {},
   "outputs": [
    {
     "data": {
      "text/plain": [
       "4.0"
      ]
     },
     "execution_count": 19,
     "metadata": {},
     "output_type": "execute_result"
    }
   ],
   "source": [
    "np.sqrt(4) + 2"
   ]
  },
  {
   "cell_type": "markdown",
   "metadata": {},
   "source": [
    "### Random numbers"
   ]
  },
  {
   "cell_type": "code",
   "execution_count": 20,
   "metadata": {},
   "outputs": [
    {
     "name": "stdout",
     "output_type": "stream",
     "text": [
      "[ 0.6122652  1.1225883 -0.8544134 -0.8127325 -0.890405 ]\n",
      "[ 0.6122652  1.1225883 -0.8544134 -0.8127325 -0.890405 ]\n"
     ]
    }
   ],
   "source": [
    "key = jax.random.PRNGKey(42)\n",
    "print(random.normal(key, shape=(5,)))\n",
    "print(random.normal(key, shape=(5,)))"
   ]
  },
  {
   "cell_type": "code",
   "execution_count": 21,
   "metadata": {},
   "outputs": [
    {
     "name": "stdout",
     "output_type": "stream",
     "text": [
      "[-0.55338794  0.944283   -0.74176395 -0.5769758   1.1251862 ]\n",
      "[-0.32761317 -0.4066346   1.2469071   1.1900425   1.100263  ]\n"
     ]
    }
   ],
   "source": [
    "# never reuse a key\n",
    "key, subkey = random.split(key)\n",
    "print(random.normal(subkey, shape=(5,)))\n",
    "key, subkey = random.split(key)\n",
    "print(random.normal(subkey, shape=(5,)))"
   ]
  },
  {
   "cell_type": "code",
   "execution_count": null,
   "metadata": {},
   "outputs": [],
   "source": []
  },
  {
   "cell_type": "markdown",
   "metadata": {},
   "source": [
    "## Common models"
   ]
  },
  {
   "cell_type": "markdown",
   "metadata": {},
   "source": [
    "### Linear model"
   ]
  },
  {
   "cell_type": "markdown",
   "metadata": {},
   "source": [
    "$y = wx + b$\n",
    "\n",
    "Generate observed values"
   ]
  },
  {
   "cell_type": "code",
   "execution_count": 22,
   "metadata": {},
   "outputs": [
    {
     "name": "stdout",
     "output_type": "stream",
     "text": [
      "[ 1. -1.  3.  5. -2.  2.]\n"
     ]
    }
   ],
   "source": [
    "key = jax.random.PRNGKey(212)\n",
    "w = jnp.array([1., -1., 3., 5., -2.])\n",
    "b = 2\n",
    "theta_true = jnp.append(w, b)\n",
    "print(theta_true)"
   ]
  },
  {
   "cell_type": "code",
   "execution_count": 23,
   "metadata": {},
   "outputs": [],
   "source": [
    "@jax.jit\n",
    "def model(theta, x):\n",
    "    w = theta[:-1]\n",
    "    b = theta[-1]\n",
    "    y = jnp.dot(w, x) + b\n",
    "    return y\n",
    "\n",
    "model_vmap = jax.vmap(model, in_axes=[None, 1])"
   ]
  },
  {
   "cell_type": "code",
   "execution_count": 24,
   "metadata": {},
   "outputs": [
    {
     "data": {
      "text/plain": [
       "Array(20., dtype=float32)"
      ]
     },
     "execution_count": 24,
     "metadata": {},
     "output_type": "execute_result"
    }
   ],
   "source": [
    "model(theta_true, jnp.array([1, 2, 3, 4, 5]))"
   ]
  },
  {
   "cell_type": "code",
   "execution_count": 25,
   "metadata": {},
   "outputs": [
    {
     "data": {
      "text/plain": [
       "array([[1, 2],\n",
       "       [3, 4],\n",
       "       [5, 1],\n",
       "       [2, 3],\n",
       "       [4, 5]])"
      ]
     },
     "execution_count": 25,
     "metadata": {},
     "output_type": "execute_result"
    }
   ],
   "source": [
    "np.array([1, 2, 3, 4, 5, 1, 2, 3, 4, 5]).reshape(5, 2)"
   ]
  },
  {
   "cell_type": "code",
   "execution_count": 26,
   "metadata": {},
   "outputs": [],
   "source": [
    "#model_vmap(theta, np.array([1, 2, 3, 4, 5, 1, 2, 3, 4, 5]).reshape(5, 2))"
   ]
  },
  {
   "cell_type": "code",
   "execution_count": 27,
   "metadata": {},
   "outputs": [
    {
     "name": "stdout",
     "output_type": "stream",
     "text": [
      "(5, 50)\n",
      "[-1.9834332  3.693717  -2.6479702  1.790731  12.152575 ]\n"
     ]
    }
   ],
   "source": [
    "n_obs = 50\n",
    "x_observed = jax.random.normal(key, shape=(5,n_obs))\n",
    "print(x_observed.shape)\n",
    "print(jnp.sum(x_observed, axis=1))\n"
   ]
  },
  {
   "cell_type": "code",
   "execution_count": 28,
   "metadata": {},
   "outputs": [
    {
     "name": "stdout",
     "output_type": "stream",
     "text": [
      "[  5.061532     2.4697185   -3.1689067   -7.6509895   -3.878571\n",
      "  11.230026     1.4037006    4.2314587    9.178272     5.9207597\n",
      "  -1.3583989   -4.3980184    5.3401203    0.41575944  -1.9732022\n",
      "  -8.83993      6.2698207   -2.5513077    6.314845    -8.689926\n",
      "  -1.7106991   -5.669702     8.188997    10.294529     5.785759\n",
      "  -5.8465557   17.606495     5.477191    11.000769     7.3086863\n",
      "  -3.7401242    6.787878     8.182899     1.5911278    1.0267415\n",
      "   4.3348236   -5.980621   -11.129906    -4.772352    -3.095614\n",
      "  -0.26369235  -5.845175    -2.9242475    3.4858134   11.435972\n",
      "  11.133466    -4.316735     0.92751443  -5.489374    -8.450031  ]\n"
     ]
    }
   ],
   "source": [
    "# observations - model plus some noise\n",
    "y_observed = model(theta_true, x_observed) + jax.random.normal(key, shape=(n_obs,))\n",
    "print(y_observed)"
   ]
  },
  {
   "cell_type": "code",
   "execution_count": 29,
   "metadata": {},
   "outputs": [
    {
     "data": {
      "text/plain": [
       "Text(0.5, 1.0, 'Noisy observations vs underlying model')"
      ]
     },
     "execution_count": 29,
     "metadata": {},
     "output_type": "execute_result"
    },
    {
     "data": {
      "image/png": "[encoded data removed]",
      "text/plain": [
       "<Figure size 432x288 with 1 Axes>"
      ]
     },
     "metadata": {
      "needs_background": "light"
     },
     "output_type": "display_data"
    }
   ],
   "source": [
    "plt.scatter(model(theta_true, x_observed), y_observed)\n",
    "plt.plot(model(theta_true, x_observed), model(theta_true, x_observed))\n",
    "plt.title('Noisy observations vs underlying model')"
   ]
  },
  {
   "cell_type": "code",
   "execution_count": 30,
   "metadata": {},
   "outputs": [
    {
     "name": "stdout",
     "output_type": "stream",
     "text": [
      "5.7 µs ± 66.4 ns per loop (mean ± std. dev. of 7 runs, 100,000 loops each)\n"
     ]
    }
   ],
   "source": [
    "%timeit model(theta_true, x_observed)"
   ]
  },
  {
   "cell_type": "code",
   "execution_count": 31,
   "metadata": {},
   "outputs": [
    {
     "name": "stdout",
     "output_type": "stream",
     "text": [
      "[ 2.9883358e+00  2.3349292e+00 -1.5650349e+00 -6.1130486e+00\n",
      " -5.0836453e+00  1.2472522e+01  1.8045750e+00  5.0270219e+00\n",
      "  1.0129258e+01  5.9141598e+00 -1.4724889e+00 -4.2724571e+00\n",
      "  6.0810962e+00  5.5440164e-01 -1.5313129e+00 -7.7776632e+00\n",
      "  6.5286217e+00 -2.9492378e+00  6.2737894e+00 -7.3210154e+00\n",
      "  1.4329433e-02 -5.8055058e+00  7.4530363e+00  8.3956413e+00\n",
      "  4.1605120e+00 -5.3344989e+00  1.8990660e+01  6.3681188e+00\n",
      "  1.0795193e+01  7.7783060e+00 -1.1883299e+00  6.2501445e+00\n",
      "  7.3560805e+00  1.6167390e+00  3.5765314e-01  6.0111747e+00\n",
      " -5.7826834e+00 -1.1694789e+01 -7.5610752e+00 -2.0660710e+00\n",
      " -2.2288561e-01 -5.6120420e+00 -2.8691711e+00  4.5343022e+00\n",
      "  1.0853861e+01  1.2338906e+01 -4.6002135e+00  1.9807792e+00\n",
      " -5.6962886e+00 -7.8172445e+00]\n"
     ]
    }
   ],
   "source": [
    "y_observed = model_vmap(theta_true, x_observed)\n",
    "print(y_observed)"
   ]
  },
  {
   "cell_type": "code",
   "execution_count": 32,
   "metadata": {},
   "outputs": [
    {
     "name": "stdout",
     "output_type": "stream",
     "text": [
      "497 µs ± 4.6 µs per loop (mean ± std. dev. of 7 runs, 1,000 loops each)\n"
     ]
    }
   ],
   "source": [
    "# slower tham model?\n",
    "%timeit model_vmap(theta_true, x_observed)"
   ]
  },
  {
   "cell_type": "code",
   "execution_count": 33,
   "metadata": {},
   "outputs": [],
   "source": [
    "# loss function - mean squared error\n",
    "def loss_fn(theta, x, y):\n",
    "  prediction = model(theta, x)\n",
    "  return jnp.mean((prediction-y)**2)"
   ]
  },
  {
   "cell_type": "code",
   "execution_count": 34,
   "metadata": {},
   "outputs": [],
   "source": [
    "# update step\n",
    "@jax.jit\n",
    "def update(theta, x, y, lr=0.01):\n",
    "  return theta - lr * grad(loss_fn)(theta, x, y)"
   ]
  },
  {
   "cell_type": "code",
   "execution_count": 35,
   "metadata": {},
   "outputs": [
    {
     "name": "stdout",
     "output_type": "stream",
     "text": [
      "[ 1.0000066 -0.9999936  2.9999955  5.0000114 -1.9999946  1.999995 ]\n",
      "[ 1. -1.  3.  5. -2.  2.]\n"
     ]
    }
   ],
   "source": [
    "# initial parateters\n",
    "theta = jnp.array([1., 1., 1., 1., 1., 1.])\n",
    "theta\n",
    "n_iterations = 1000\n",
    "lr = .01\n",
    "for i in range(n_iterations):\n",
    "    theta = update(theta, x_observed, y_observed, lr=lr)\n",
    "print(theta)\n",
    "print(theta_true)\n"
   ]
  },
  {
   "cell_type": "markdown",
   "metadata": {},
   "source": [
    "### Logistic regression classifier"
   ]
  },
  {
   "cell_type": "markdown",
   "metadata": {},
   "source": [
    "First, we create data using bivariate normal distribution."
   ]
  },
  {
   "cell_type": "code",
   "execution_count": 36,
   "metadata": {},
   "outputs": [
    {
     "data": {
      "text/plain": [
       "Array([[ 2.2076726 ,  0.6332452 ],\n",
       "       [ 0.53972983, -0.51073563],\n",
       "       [ 1.6998711 ,  1.4444137 ],\n",
       "       [-0.05809402,  1.330411  ],\n",
       "       [ 0.23326337,  0.6060622 ]], dtype=float32)"
      ]
     },
     "execution_count": 36,
     "metadata": {},
     "output_type": "execute_result"
    }
   ],
   "source": [
    "class1 = random.multivariate_normal(key,\n",
    "                           mean=jnp.array([1, 1]),\n",
    "                           cov=.5*np.array([1, .5, .5, 1]).reshape(2,2),\n",
    "                          shape=[100,])\n",
    "class1[:5,:]"
   ]
  },
  {
   "cell_type": "code",
   "execution_count": 37,
   "metadata": {},
   "outputs": [
    {
     "data": {
      "text/plain": [
       "<matplotlib.collections.PathCollection at 0x7fe54d061ff0>"
      ]
     },
     "execution_count": 37,
     "metadata": {},
     "output_type": "execute_result"
    },
    {
     "data": {
      "image/png": "[encoded data removed]",
      "text/plain": [
       "<Figure size 432x288 with 1 Axes>"
      ]
     },
     "metadata": {
      "needs_background": "light"
     },
     "output_type": "display_data"
    }
   ],
   "source": [
    "plt.scatter(class1[:, 0], class1[:, 1])"
   ]
  },
  {
   "cell_type": "code",
   "execution_count": 38,
   "metadata": {},
   "outputs": [
    {
     "data": {
      "text/plain": [
       "Array([[3.4657753, 3.195562 ],\n",
       "       [2.5691884, 3.163034 ],\n",
       "       [2.985951 , 2.7663414],\n",
       "       [2.1083503, 2.027696 ],\n",
       "       [2.6487987, 2.8870454]], dtype=float32)"
      ]
     },
     "execution_count": 38,
     "metadata": {},
     "output_type": "execute_result"
    }
   ],
   "source": [
    "key, subkey = random.split(key)\n",
    "class2 = random.multivariate_normal(key,\n",
    "                           mean=jnp.array([3, 3]),\n",
    "                           cov=.25*np.array([1, .7, .7, 1]).reshape(2,2),\n",
    "                          shape=[100,])\n",
    "class2[:5,:]"
   ]
  },
  {
   "cell_type": "code",
   "execution_count": 109,
   "metadata": {},
   "outputs": [
    {
     "data": {
      "text/plain": [
       "<matplotlib.legend.Legend at 0x7fe539a7d7e0>"
      ]
     },
     "execution_count": 109,
     "metadata": {},
     "output_type": "execute_result"
    },
    {
     "data": {
      "image/png": "[encoded data removed]",
      "text/plain": [
       "<Figure size 432x288 with 1 Axes>"
      ]
     },
     "metadata": {
      "needs_background": "light"
     },
     "output_type": "display_data"
    }
   ],
   "source": [
    "\n",
    "fig = plt.figure()\n",
    "ax1 = fig.add_subplot(111)\n",
    "\n",
    "ax1.scatter(class1[:, 0], class1[:, 1], s=10, c='b', marker=\"s\", label='class1')\n",
    "ax1.scatter(class2[:, 0], class2[:, 1], s=10, c='r', marker=\"s\", label='class2')\n",
    "plt.title('Two classes')\n",
    "plt.legend()\n"
   ]
  },
  {
   "cell_type": "markdown",
   "metadata": {},
   "source": [
    "Logistic regression models the probability of belonging to $class1$ as\n",
    "$$\n",
    "p = \\frac{1}{1+e^{-(wx + b)}},\n",
    "$$\n",
    "where, in our case, $w = (w_1, w_2), x = (x_1, x_2)$, and $b$ is a scalar.\n",
    "The loss function at $p_k, y_k$ is defined as \n",
    "\n",
    "$$\n",
    "\\left\\{\n",
    "\\begin{array}{l}\n",
    "      -log(p_k),\\ if\\  y_k = 1\\ \\    (class 1),\\\\\n",
    "      -log(1-p_k),\\ if\\  y_k=0 \\ \\    (class 2).\n",
    "      \\end{array}\n",
    "  \\right.\n",
    "$$\n",
    "Combining, we get cross entropy loss function\n",
    "\n",
    "$$\n",
    "L = -\\Sigma_1^N (y_k\\log(p_k) + (1-y_k)log(1-p_k)).\n",
    "$$"
   ]
  },
  {
   "cell_type": "code",
   "execution_count": 63,
   "metadata": {},
   "outputs": [],
   "source": [
    "# implement functions\n",
    "@jax.jit\n",
    "def sigmoid(t):\n",
    "    return 1/(1 + jnp.exp(-t))\n",
    "\n",
    "@jax.jit\n",
    "def model(theta, x):\n",
    "    w = theta[:-1]\n",
    "    b = theta[-1]\n",
    "    t = jnp.dot(w, x) + b\n",
    "    p = sigmoid(t)\n",
    "    return p\n",
    "\n",
    "# loss function - cross entropy\n",
    "def loss_fn(theta, x, y):\n",
    "  p = model(theta, x)\n",
    "#  print(theta.dtype)\n",
    "#  print(y.dtype)\n",
    "# print(y*(jnp.log(p) + (1-y)*jnp.log(1-p)))    \n",
    "  return -jnp.mean(y*jnp.log(p) + (1-y)*jnp.log(1-p))\n",
    "\n",
    "# update step\n",
    "@jax.jit\n",
    "def update(theta, x, y, lr=0.01):\n",
    "  return theta - lr * grad(loss_fn)(theta, x, y)"
   ]
  },
  {
   "cell_type": "code",
   "execution_count": 64,
   "metadata": {},
   "outputs": [
    {
     "data": {
      "text/plain": [
       "Array([[ 2.2076726 ,  0.6332452 ],\n",
       "       [ 0.53972983, -0.51073563],\n",
       "       [ 1.6998711 ,  1.4444137 ],\n",
       "       [-0.05809402,  1.330411  ],\n",
       "       [ 0.23326337,  0.6060622 ]], dtype=float32)"
      ]
     },
     "execution_count": 64,
     "metadata": {},
     "output_type": "execute_result"
    }
   ],
   "source": [
    "class1[:5, :]"
   ]
  },
  {
   "cell_type": "code",
   "execution_count": 65,
   "metadata": {},
   "outputs": [
    {
     "data": {
      "text/plain": [
       "Array([0.97897756, 0.73672086, 0.98439276, 0.9065582 , 0.8628689 ],      dtype=float32)"
      ]
     },
     "execution_count": 65,
     "metadata": {},
     "output_type": "execute_result"
    }
   ],
   "source": [
    "theta = np.array([1., 1., 1.])\n",
    "model(theta, class1[:5, :].transpose())"
   ]
  },
  {
   "cell_type": "code",
   "execution_count": 71,
   "metadata": {},
   "outputs": [
    {
     "data": {
      "text/plain": [
       "Array(3.5610645, dtype=float32)"
      ]
     },
     "execution_count": 71,
     "metadata": {},
     "output_type": "execute_result"
    }
   ],
   "source": [
    "loss_fn(theta, data[:,:-1].transpose(), lbl)"
   ]
  },
  {
   "cell_type": "code",
   "execution_count": 72,
   "metadata": {},
   "outputs": [
    {
     "data": {
      "text/plain": [
       "3.5610647238290882"
      ]
     },
     "execution_count": 72,
     "metadata": {},
     "output_type": "execute_result"
    }
   ],
   "source": [
    "# alternative cross entropy function\n",
    "from sklearn.metrics import log_loss\n",
    "lbl = jnp.concatenate((jnp.ones(shape=(len(class1),)), jnp.zeros(shape=(len(class2),))))\n",
    "data = jnp.column_stack((jnp.row_stack((class1, class2)), lbl))\n",
    "log_loss(lbl, model(theta, data[:,:-1].transpose()))"
   ]
  },
  {
   "cell_type": "code",
   "execution_count": 73,
   "metadata": {},
   "outputs": [],
   "source": [
    "def BinaryCrossEntropy(y_true, y_pred):\n",
    "    y_pred = np.clip(y_pred, 1e-7, 1 - 1e-7)\n",
    "    term_0 = (1-y_true) * np.log(1-y_pred + 1e-7)\n",
    "    term_1 = y_true * np.log(y_pred + 1e-7)\n",
    "    return -np.mean(term_0+term_1, axis=0)"
   ]
  },
  {
   "cell_type": "code",
   "execution_count": 74,
   "metadata": {},
   "outputs": [
    {
     "data": {
      "text/plain": [
       "Array(3.5609667, dtype=float32)"
      ]
     },
     "execution_count": 74,
     "metadata": {},
     "output_type": "execute_result"
    }
   ],
   "source": [
    "BinaryCrossEntropy(lbl, model(theta, data[:,:-1].transpose()))"
   ]
  },
  {
   "cell_type": "code",
   "execution_count": null,
   "metadata": {},
   "outputs": [],
   "source": []
  },
  {
   "cell_type": "code",
   "execution_count": 69,
   "metadata": {},
   "outputs": [
    {
     "data": {
      "text/plain": [
       "Array([1.0003867, 1.0003953, 1.0009131], dtype=float32)"
      ]
     },
     "execution_count": 69,
     "metadata": {},
     "output_type": "execute_result"
    }
   ],
   "source": [
    "update(theta, class1[:, :].transpose(), jnp.ones(shape=(len(class1),)))"
   ]
  },
  {
   "cell_type": "code",
   "execution_count": 75,
   "metadata": {},
   "outputs": [
    {
     "name": "stdout",
     "output_type": "stream",
     "text": [
      "(200, 3)\n",
      "[[ 2.2076726   0.6332452   1.        ]\n",
      " [ 0.53972983 -0.51073563  1.        ]\n",
      " [ 1.6998711   1.4444137   1.        ]\n",
      " [-0.05809402  1.330411    1.        ]\n",
      " [ 0.23326337  0.6060622   1.        ]]\n",
      "[[3.8604279 4.300192  0.       ]\n",
      " [3.019225  2.9260416 0.       ]\n",
      " [3.8114538 3.4090698 0.       ]\n",
      " [3.5774093 3.9309077 0.       ]\n",
      " [1.5694052 1.8653797 0.       ]]\n"
     ]
    }
   ],
   "source": [
    "#input data\n",
    "lbl = jnp.concatenate((jnp.ones(shape=(len(class1),)), jnp.zeros(shape=(len(class2),))))\n",
    "data = jnp.column_stack((jnp.row_stack((class1, class2)), lbl))\n",
    "print(data.shape)\n",
    "print(data[:5, :])\n",
    "print(data[-5:, :])\n",
    "# train/test split\n",
    "X_train, X_test, y_train, y_test = train_test_split(\n",
    "    data[:,:-1], \n",
    "    data[:,-1], \n",
    "    test_size=0.3, random_state=212\n",
    ")"
   ]
  },
  {
   "cell_type": "code",
   "execution_count": 76,
   "metadata": {},
   "outputs": [
    {
     "name": "stdout",
     "output_type": "stream",
     "text": [
      "(140, 2)\n",
      "(60, 2)\n",
      "(140,)\n",
      "(60,)\n",
      "30.0\n"
     ]
    }
   ],
   "source": [
    "print(X_train.shape)\n",
    "print(X_test.shape)\n",
    "print(y_train.shape)\n",
    "print(y_test.shape)\n",
    "print(y_test.sum())"
   ]
  },
  {
   "cell_type": "code",
   "execution_count": 77,
   "metadata": {},
   "outputs": [
    {
     "name": "stdout",
     "output_type": "stream",
     "text": [
      "[-1.5511609 -1.0677812  5.084245 ]\n"
     ]
    }
   ],
   "source": [
    "# fit parameters\n",
    "# initial parateters\n",
    "theta = jnp.array([1., 1., 1.])\n",
    "n_iterations = 1000\n",
    "lr = .1\n",
    "for i in range(n_iterations):\n",
    "    #print(theta)\n",
    "    theta = update(theta, X_train.transpose(), y_train, lr=lr)\n",
    "    #print(loss_fn(theta, X_train.transpose(), y_train))\n",
    "print(theta)"
   ]
  },
  {
   "cell_type": "code",
   "execution_count": 78,
   "metadata": {},
   "outputs": [
    {
     "data": {
      "text/plain": [
       "Array([[0.20930234, 0.        ],\n",
       "       [0.9831487 , 1.        ],\n",
       "       [0.00866498, 0.        ],\n",
       "       [0.02403557, 0.        ],\n",
       "       [0.9526377 , 1.        ],\n",
       "       [0.02701292, 0.        ],\n",
       "       [0.25623667, 1.        ],\n",
       "       [0.07659077, 0.        ],\n",
       "       [0.11618116, 0.        ],\n",
       "       [0.06938237, 0.        ],\n",
       "       [0.20087484, 0.        ],\n",
       "       [0.990144  , 1.        ],\n",
       "       [0.08447833, 0.        ],\n",
       "       [0.07320185, 0.        ],\n",
       "       [0.4130719 , 0.        ],\n",
       "       [0.8133388 , 1.        ],\n",
       "       [0.01310753, 0.        ],\n",
       "       [0.9780342 , 1.        ],\n",
       "       [0.85499614, 1.        ],\n",
       "       [0.01387923, 0.        ],\n",
       "       [0.17093155, 0.        ],\n",
       "       [0.00493845, 0.        ],\n",
       "       [0.02507334, 0.        ],\n",
       "       [0.03229025, 0.        ],\n",
       "       [0.979902  , 1.        ],\n",
       "       [0.9336192 , 1.        ],\n",
       "       [0.00937117, 0.        ],\n",
       "       [0.00810273, 0.        ],\n",
       "       [0.20283605, 0.        ],\n",
       "       [0.18599209, 0.        ],\n",
       "       [0.6850621 , 1.        ],\n",
       "       [0.12275984, 0.        ],\n",
       "       [0.47053397, 1.        ],\n",
       "       [0.02821917, 0.        ],\n",
       "       [0.8214896 , 1.        ],\n",
       "       [0.30912971, 0.        ],\n",
       "       [0.92579305, 1.        ],\n",
       "       [0.24678685, 0.        ],\n",
       "       [0.09550897, 0.        ],\n",
       "       [0.03726637, 0.        ],\n",
       "       [0.04642823, 0.        ],\n",
       "       [0.9962125 , 1.        ],\n",
       "       [0.953836  , 1.        ],\n",
       "       [0.14241926, 0.        ],\n",
       "       [0.9116624 , 1.        ],\n",
       "       [0.8526776 , 1.        ],\n",
       "       [0.47173527, 1.        ],\n",
       "       [0.01977437, 0.        ],\n",
       "       [0.9378697 , 1.        ],\n",
       "       [0.93077815, 1.        ],\n",
       "       [0.9911907 , 1.        ],\n",
       "       [0.9925931 , 1.        ],\n",
       "       [0.00715944, 0.        ],\n",
       "       [0.00833832, 0.        ],\n",
       "       [0.9630569 , 1.        ],\n",
       "       [0.99278766, 1.        ],\n",
       "       [0.91357356, 1.        ],\n",
       "       [0.77325404, 1.        ],\n",
       "       [0.93291765, 1.        ],\n",
       "       [0.01911535, 0.        ],\n",
       "       [0.03101579, 0.        ],\n",
       "       [0.1309674 , 0.        ],\n",
       "       [0.9116447 , 1.        ],\n",
       "       [0.02948308, 0.        ],\n",
       "       [0.07576761, 0.        ],\n",
       "       [0.9874019 , 1.        ],\n",
       "       [0.03718635, 0.        ],\n",
       "       [0.9906651 , 1.        ],\n",
       "       [0.9735516 , 1.        ],\n",
       "       [0.9771071 , 1.        ],\n",
       "       [0.14473772, 1.        ],\n",
       "       [0.9468036 , 1.        ],\n",
       "       [0.05280567, 0.        ],\n",
       "       [0.0327285 , 0.        ],\n",
       "       [0.3871608 , 0.        ],\n",
       "       [0.9926703 , 1.        ],\n",
       "       [0.9759458 , 1.        ],\n",
       "       [0.00935689, 0.        ],\n",
       "       [0.3091611 , 1.        ],\n",
       "       [0.9878928 , 1.        ],\n",
       "       [0.01046009, 0.        ],\n",
       "       [0.9953864 , 1.        ],\n",
       "       [0.20170687, 0.        ],\n",
       "       [0.679963  , 1.        ],\n",
       "       [0.9859351 , 1.        ],\n",
       "       [0.27097362, 0.        ],\n",
       "       [0.82303315, 1.        ],\n",
       "       [0.04447253, 0.        ],\n",
       "       [0.9839408 , 1.        ],\n",
       "       [0.837014  , 1.        ],\n",
       "       [0.01014234, 0.        ],\n",
       "       [0.27063134, 0.        ],\n",
       "       [0.03646781, 0.        ],\n",
       "       [0.17107992, 0.        ],\n",
       "       [0.59205705, 1.        ],\n",
       "       [0.31038594, 1.        ],\n",
       "       [0.1414081 , 0.        ],\n",
       "       [0.03821869, 0.        ],\n",
       "       [0.01537895, 0.        ],\n",
       "       [0.02159291, 0.        ],\n",
       "       [0.9909122 , 1.        ],\n",
       "       [0.06806694, 0.        ],\n",
       "       [0.00863714, 0.        ],\n",
       "       [0.9592311 , 1.        ],\n",
       "       [0.05721784, 0.        ],\n",
       "       [0.98180676, 1.        ],\n",
       "       [0.9292115 , 1.        ],\n",
       "       [0.44139445, 1.        ],\n",
       "       [0.95831746, 1.        ],\n",
       "       [0.1138899 , 0.        ],\n",
       "       [0.97724074, 1.        ],\n",
       "       [0.9015369 , 1.        ],\n",
       "       [0.9405357 , 1.        ],\n",
       "       [0.9542388 , 1.        ],\n",
       "       [0.87796   , 1.        ],\n",
       "       [0.960313  , 1.        ],\n",
       "       [0.96919525, 1.        ],\n",
       "       [0.23939425, 0.        ],\n",
       "       [0.36147943, 0.        ],\n",
       "       [0.7278264 , 1.        ],\n",
       "       [0.9842258 , 1.        ],\n",
       "       [0.03405254, 0.        ],\n",
       "       [0.00479093, 0.        ],\n",
       "       [0.11755269, 0.        ],\n",
       "       [0.03486614, 0.        ],\n",
       "       [0.98822045, 1.        ],\n",
       "       [0.99660337, 1.        ],\n",
       "       [0.99177563, 1.        ],\n",
       "       [0.10971392, 0.        ],\n",
       "       [0.9618256 , 1.        ],\n",
       "       [0.9628743 , 1.        ],\n",
       "       [0.02852162, 0.        ],\n",
       "       [0.01133934, 0.        ],\n",
       "       [0.9738569 , 1.        ],\n",
       "       [0.00448978, 0.        ],\n",
       "       [0.00933421, 0.        ],\n",
       "       [0.9113901 , 1.        ],\n",
       "       [0.09040526, 0.        ],\n",
       "       [0.981327  , 1.        ],\n",
       "       [0.98139805, 1.        ]], dtype=float32)"
      ]
     },
     "execution_count": 78,
     "metadata": {},
     "output_type": "execute_result"
    }
   ],
   "source": [
    "jnp.column_stack((model(theta, X_train.transpose()), y_train))"
   ]
  },
  {
   "cell_type": "code",
   "execution_count": 87,
   "metadata": {},
   "outputs": [
    {
     "data": {
      "text/html": [
       "<div>\n",
       "<style scoped>\n",
       "    .dataframe tbody tr th:only-of-type {\n",
       "        vertical-align: middle;\n",
       "    }\n",
       "\n",
       "    .dataframe tbody tr th {\n",
       "        vertical-align: top;\n",
       "    }\n",
       "\n",
       "    .dataframe thead th {\n",
       "        text-align: right;\n",
       "    }\n",
       "</style>\n",
       "<table border=\"1\" class=\"dataframe\">\n",
       "  <thead>\n",
       "    <tr style=\"text-align: right;\">\n",
       "      <th></th>\n",
       "      <th>Prevalence</th>\n",
       "      <th>Sensitivity</th>\n",
       "      <th>Specificity</th>\n",
       "      <th>Accuracy</th>\n",
       "      <th>Precision</th>\n",
       "      <th>F1</th>\n",
       "      <th>FPR</th>\n",
       "      <th>MCC</th>\n",
       "      <th>AUC</th>\n",
       "      <th>LogLoss</th>\n",
       "    </tr>\n",
       "  </thead>\n",
       "  <tbody>\n",
       "    <tr>\n",
       "      <th>0</th>\n",
       "      <td>0.5</td>\n",
       "      <td>0.9</td>\n",
       "      <td>1.0</td>\n",
       "      <td>0.95</td>\n",
       "      <td>1.0</td>\n",
       "      <td>0.9474</td>\n",
       "      <td>0.0</td>\n",
       "      <td>0.9045</td>\n",
       "      <td>0.9945</td>\n",
       "      <td>0.1431</td>\n",
       "    </tr>\n",
       "  </tbody>\n",
       "</table>\n",
       "</div>"
      ],
      "text/plain": [
       "   Prevalence  Sensitivity  Specificity  Accuracy  Precision      F1  FPR  \\\n",
       "0         0.5          0.9          1.0      0.95        1.0  0.9474  0.0   \n",
       "\n",
       "      MCC     AUC  LogLoss  \n",
       "0  0.9045  0.9945   0.1431  "
      ]
     },
     "execution_count": 87,
     "metadata": {},
     "output_type": "execute_result"
    }
   ],
   "source": [
    "from usefulml.ml_utils import  binary_classification_metrics\n",
    "binary_classification_metrics(y_train,\n",
    "                              jnp.round(model(theta, X_train.transpose()), 0),\n",
    "                              model(theta, X_train.transpose()),\n",
    "                              4\n",
    "                             )"
   ]
  },
  {
   "cell_type": "code",
   "execution_count": 88,
   "metadata": {},
   "outputs": [
    {
     "data": {
      "text/html": [
       "<div>\n",
       "<style scoped>\n",
       "    .dataframe tbody tr th:only-of-type {\n",
       "        vertical-align: middle;\n",
       "    }\n",
       "\n",
       "    .dataframe tbody tr th {\n",
       "        vertical-align: top;\n",
       "    }\n",
       "\n",
       "    .dataframe thead th {\n",
       "        text-align: right;\n",
       "    }\n",
       "</style>\n",
       "<table border=\"1\" class=\"dataframe\">\n",
       "  <thead>\n",
       "    <tr style=\"text-align: right;\">\n",
       "      <th></th>\n",
       "      <th>Prevalence</th>\n",
       "      <th>Sensitivity</th>\n",
       "      <th>Specificity</th>\n",
       "      <th>Accuracy</th>\n",
       "      <th>Precision</th>\n",
       "      <th>F1</th>\n",
       "      <th>FPR</th>\n",
       "      <th>MCC</th>\n",
       "      <th>AUC</th>\n",
       "      <th>LogLoss</th>\n",
       "    </tr>\n",
       "  </thead>\n",
       "  <tbody>\n",
       "    <tr>\n",
       "      <th>0</th>\n",
       "      <td>0.5</td>\n",
       "      <td>1.0</td>\n",
       "      <td>0.9333</td>\n",
       "      <td>0.9667</td>\n",
       "      <td>0.9375</td>\n",
       "      <td>0.9677</td>\n",
       "      <td>0.0667</td>\n",
       "      <td>0.9354</td>\n",
       "      <td>0.9956</td>\n",
       "      <td>0.161</td>\n",
       "    </tr>\n",
       "  </tbody>\n",
       "</table>\n",
       "</div>"
      ],
      "text/plain": [
       "   Prevalence  Sensitivity  Specificity  Accuracy  Precision      F1     FPR  \\\n",
       "0         0.5          1.0       0.9333    0.9667     0.9375  0.9677  0.0667   \n",
       "\n",
       "      MCC     AUC  LogLoss  \n",
       "0  0.9354  0.9956    0.161  "
      ]
     },
     "execution_count": 88,
     "metadata": {},
     "output_type": "execute_result"
    }
   ],
   "source": [
    "# now for test data\n",
    "binary_classification_metrics(y_test,\n",
    "                              jnp.round(model(theta, X_test.transpose()), 0),\n",
    "                              model(theta, X_test.transpose()),\n",
    "                              4\n",
    "                             )"
   ]
  },
  {
   "cell_type": "markdown",
   "metadata": {},
   "source": [
    "Draw a decision boundary using cutoff of 0.5\n",
    "$$\n",
    "w_1x_1 + w_2x_2 + b = 0, \\newline\n",
    "x_2 = -\\frac{w_1}{w_2}x_1 - \\frac{b}{w_2}\n",
    "$$ "
   ]
  },
  {
   "cell_type": "code",
   "execution_count": 110,
   "metadata": {},
   "outputs": [
    {
     "data": {
      "text/plain": [
       "<matplotlib.legend.Legend at 0x7fe539b06c80>"
      ]
     },
     "execution_count": 110,
     "metadata": {},
     "output_type": "execute_result"
    },
    {
     "data": {
      "image/png": "[encoded data removed]",
      "text/plain": [
       "<Figure size 432x288 with 1 Axes>"
      ]
     },
     "metadata": {
      "needs_background": "light"
     },
     "output_type": "display_data"
    }
   ],
   "source": [
    "fig = plt.figure()\n",
    "ax1 = fig.add_subplot(111)\n",
    "\n",
    "ax1.scatter(class1[:, 0], class1[:, 1], s=10, c='b', marker=\"s\", label='class1')\n",
    "ax1.scatter(class2[:, 0], class2[:, 1], s=10, c='r', marker=\"s\", label='class2')\n",
    "x1 = jnp.linspace(.5, 3.5, 50)\n",
    "x2 = ( -theta[0]*x1 - theta[2])/theta[1]\n",
    "ax1.plot(x1, x2, c='g')\n",
    "plt.title('Two classes with a decision boundary.')\n",
    "plt.legend()\n"
   ]
  },
  {
   "cell_type": "code",
   "execution_count": 99,
   "metadata": {},
   "outputs": [
    {
     "data": {
      "text/plain": [
       "Array(5.084245, dtype=float32)"
      ]
     },
     "execution_count": 99,
     "metadata": {},
     "output_type": "execute_result"
    }
   ],
   "source": [
    "theta[2]"
   ]
  },
  {
   "cell_type": "code",
   "execution_count": null,
   "metadata": {},
   "outputs": [],
   "source": []
  },
  {
   "cell_type": "markdown",
   "metadata": {},
   "source": [
    "### Fully connected neural network."
   ]
  },
  {
   "cell_type": "markdown",
   "metadata": {},
   "source": []
  },
  {
   "cell_type": "code",
   "execution_count": null,
   "metadata": {},
   "outputs": [],
   "source": []
  },
  {
   "cell_type": "code",
   "execution_count": null,
   "metadata": {},
   "outputs": [],
   "source": []
  },
  {
   "cell_type": "code",
   "execution_count": null,
   "metadata": {},
   "outputs": [],
   "source": []
  },
  {
   "cell_type": "code",
   "execution_count": null,
   "metadata": {},
   "outputs": [],
   "source": []
  },
  {
   "cell_type": "code",
   "execution_count": 80,
   "metadata": {},
   "outputs": [
    {
     "data": {
      "text/plain": [
       "'/Users/andrei.salomatov/miniconda3/envs/options/lib/python3.10/site-packages/jax/__init__.py'"
      ]
     },
     "execution_count": 80,
     "metadata": {},
     "output_type": "execute_result"
    }
   ],
   "source": [
    "jax.__file__"
   ]
  },
  {
   "cell_type": "markdown",
   "metadata": {},
   "source": [
    "### LSTM by chatGPT"
   ]
  },
  {
   "cell_type": "code",
   "execution_count": 256,
   "metadata": {},
   "outputs": [
    {
     "ename": "AttributeError",
     "evalue": "module 'jax.numpy' has no attribute 'scan'",
     "output_type": "error",
     "traceback": [
      "\u001b[0;31m---------------------------------------------------------------------------\u001b[0m",
      "\u001b[0;31mAttributeError\u001b[0m                            Traceback (most recent call last)",
      "Input \u001b[0;32mIn [256]\u001b[0m, in \u001b[0;36m<cell line: 47>\u001b[0;34m()\u001b[0m\n\u001b[1;32m     44\u001b[0m initial_cell_state \u001b[38;5;241m=\u001b[39m np\u001b[38;5;241m.\u001b[39mzeros((\u001b[38;5;241m2\u001b[39m, \u001b[38;5;241m10\u001b[39m))\n\u001b[1;32m     45\u001b[0m params \u001b[38;5;241m=\u001b[39m [np\u001b[38;5;241m.\u001b[39mzeros((\u001b[38;5;241m3\u001b[39m, \u001b[38;5;241m10\u001b[39m)), np\u001b[38;5;241m.\u001b[39mzeros(\u001b[38;5;241m10\u001b[39m), np\u001b[38;5;241m.\u001b[39mzeros((\u001b[38;5;241m3\u001b[39m, \u001b[38;5;241m10\u001b[39m)), np\u001b[38;5;241m.\u001b[39mzeros(\u001b[38;5;241m10\u001b[39m), np\u001b[38;5;241m.\u001b[39mzeros((\u001b[38;5;241m3\u001b[39m, \u001b[38;5;241m10\u001b[39m)), np\u001b[38;5;241m.\u001b[39mzeros(\u001b[38;5;241m10\u001b[39m), np\u001b[38;5;241m.\u001b[39mzeros((\u001b[38;5;241m3\u001b[39m, \u001b[38;5;241m10\u001b[39m)), np\u001b[38;5;241m.\u001b[39mzeros(\u001b[38;5;241m10\u001b[39m)]\n\u001b[0;32m---> 47\u001b[0m hidden_states, cell_states \u001b[38;5;241m=\u001b[39m \u001b[43mlstm\u001b[49m\u001b[43m(\u001b[49m\u001b[43minputs\u001b[49m\u001b[43m,\u001b[49m\u001b[43m \u001b[49m\u001b[43minitial_hidden_state\u001b[49m\u001b[43m,\u001b[49m\u001b[43m \u001b[49m\u001b[43minitial_cell_state\u001b[49m\u001b[43m,\u001b[49m\u001b[43m \u001b[49m\u001b[43mparams\u001b[49m\u001b[43m)\u001b[49m\n",
      "Input \u001b[0;32mIn [256]\u001b[0m, in \u001b[0;36mlstm\u001b[0;34m(inputs, initial_hidden_state, initial_cell_state, params)\u001b[0m\n\u001b[1;32m     36\u001b[0m     new_hidden_state, new_cell_state \u001b[38;5;241m=\u001b[39m lstm_cell(hidden_state, cell_state, input_vector, params)\n\u001b[1;32m     37\u001b[0m     \u001b[38;5;28;01mreturn\u001b[39;00m new_hidden_state, new_cell_state\n\u001b[0;32m---> 38\u001b[0m hidden_states, cell_states \u001b[38;5;241m=\u001b[39m \u001b[43mnp\u001b[49m\u001b[38;5;241;43m.\u001b[39;49m\u001b[43mscan\u001b[49m(step, inputs, (initial_hidden_state, initial_cell_state))\n\u001b[1;32m     39\u001b[0m \u001b[38;5;28;01mreturn\u001b[39;00m hidden_states, cell_states\n",
      "\u001b[0;31mAttributeError\u001b[0m: module 'jax.numpy' has no attribute 'scan'"
     ]
    }
   ],
   "source": [
    "import jax.numpy as np\n",
    "from jax import grad, jit, vmap\n",
    "\n",
    "def sigmoid(x):\n",
    "    return 1 / (1 + np.exp(-x))\n",
    "\n",
    "def tanh(x):\n",
    "    return np.tanh(x)\n",
    "\n",
    "def lstm_cell(hidden_state, cell_state, input_vector, params):\n",
    "    W_f, b_f, W_i, b_i, W_o, b_o, W_c, b_c = params\n",
    "\n",
    "    # forget gate\n",
    "    forget_gate = sigmoid(np.dot(input_vector, W_f) + np.dot(hidden_state, W_f) + b_f)\n",
    "\n",
    "    # input gate\n",
    "    input_gate = sigmoid(np.dot(input_vector, W_i) + np.dot(hidden_state, W_i) + b_i)\n",
    "\n",
    "    # candidate cell state\n",
    "    candidate_cell_state = tanh(np.dot(input_vector, W_c) + np.dot(hidden_state, W_c) + b_c)\n",
    "\n",
    "    # cell state\n",
    "    cell_state = forget_gate * cell_state + input_gate * candidate_cell_state\n",
    "\n",
    "    # output gate\n",
    "    output_gate = sigmoid(np.dot(input_vector, W_o) + np.dot(hidden_state, W_o) + b_o)\n",
    "\n",
    "    # hidden state\n",
    "    hidden_state = output_gate * tanh(cell_state)\n",
    "\n",
    "    return hidden_state, cell_state\n",
    "\n",
    "def lstm(inputs, initial_hidden_state, initial_cell_state, params):\n",
    "    def step(hidden_state_and_cell_state, input_vector):\n",
    "        hidden_state, cell_state = hidden_state_and_cell_state\n",
    "        new_hidden_state, new_cell_state = lstm_cell(hidden_state, cell_state, input_vector, params)\n",
    "        return new_hidden_state, new_cell_state\n",
    "    hidden_states, cell_states = np.scan(step, inputs, (initial_hidden_state, initial_cell_state))\n",
    "    return hidden_states, cell_states\n",
    "\n",
    "# example usage\n",
    "inputs = np.array([[1, 2, 3], [4, 5, 6]])\n",
    "initial_hidden_state = np.zeros((2, 10))\n",
    "initial_cell_state = np.zeros((2, 10))\n",
    "params = [np.zeros((3, 10)), np.zeros(10), np.zeros((3, 10)), np.zeros(10), np.zeros((3, 10)), np.zeros(10), np.zeros((3, 10)), np.zeros(10)]\n",
    "\n",
    "hidden_states, cell_states = lstm(inputs, initial_hidden_state, initial_cell_state, params)\n"
   ]
  },
  {
   "cell_type": "code",
   "execution_count": null,
   "metadata": {},
   "outputs": [],
   "source": []
  }
 ],
 "metadata": {
  "kernelspec": {
   "display_name": "options",
   "language": "python",
   "name": "options"
  },
  "language_info": {
   "codemirror_mode": {
    "name": "ipython",
    "version": 3
   },
   "file_extension": ".py",
   "mimetype": "text/x-python",
   "name": "python",
   "nbconvert_exporter": "python",
   "pygments_lexer": "ipython3",
   "version": "3.10.4"
  }
 },
 "nbformat": 4,
 "nbformat_minor": 4
}
