{
 "cells": [
  {
   "cell_type": "code",
   "execution_count": 3,
   "metadata": {},
   "outputs": [],
   "source": [
    "import jax\n",
    "import jax.numpy as jnp\n",
    "from jax import grad, jit, vmap\n",
    "from jax import random\n",
    "import numpy as np\n",
    "import pandas as pd\n",
    "from matplotlib import pyplot as plt\n",
    "from sklearn.model_selection import train_test_split"
   ]
  },
  {
   "cell_type": "code",
   "execution_count": 4,
   "metadata": {},
   "outputs": [],
   "source": [
    "%config Completer.use_jedi = False"
   ]
  },
  {
   "cell_type": "markdown",
   "metadata": {},
   "source": [
    "## Tutorial"
   ]
  },
  {
   "cell_type": "markdown",
   "metadata": {},
   "source": [
    "### Fit a linear regression"
   ]
  },
  {
   "cell_type": "code",
   "execution_count": 5,
   "metadata": {},
   "outputs": [
    {
     "data": {
      "image/png": "[encoded data removed]",
      "text/plain": [
       "<Figure size 432x288 with 1 Axes>"
      ]
     },
     "metadata": {
      "needs_background": "light"
     },
     "output_type": "display_data"
    }
   ],
   "source": [
    "import numpy as np\n",
    "import matplotlib.pyplot as plt\n",
    "\n",
    "n = 300\n",
    "xs = np.random.normal(size=(n,))\n",
    "noise = np.random.normal(scale=0.5, size=(n,))\n",
    "ys = xs * 3 - 1 + noise\n",
    "\n",
    "plt.scatter(xs, ys);"
   ]
  },
  {
   "cell_type": "code",
   "execution_count": 6,
   "metadata": {},
   "outputs": [],
   "source": [
    "# theta = [w, b] - model parameters\n",
    "def model(theta, x):\n",
    "  \"\"\"Computes wx + b on a batch of input x.\"\"\"\n",
    "  w, b = theta\n",
    "  return w * x + b"
   ]
  },
  {
   "cell_type": "markdown",
   "metadata": {},
   "source": [
    "Loss function is the sum of squared errors, $ L = \\Sigma (y - y_{pred})^2$"
   ]
  },
  {
   "cell_type": "code",
   "execution_count": 7,
   "metadata": {},
   "outputs": [],
   "source": [
    "def loss_fn(theta, x, y):\n",
    "  prediction = model(theta, x)\n",
    "  return jnp.mean((prediction-y)**2)"
   ]
  },
  {
   "cell_type": "code",
   "execution_count": 8,
   "metadata": {},
   "outputs": [
    {
     "data": {
      "text/plain": [
       "Array(9., dtype=float32)"
      ]
     },
     "execution_count": 8,
     "metadata": {},
     "output_type": "execute_result"
    }
   ],
   "source": [
    "loss_fn((3,1), 0, 4)"
   ]
  },
  {
   "cell_type": "code",
   "execution_count": 9,
   "metadata": {},
   "outputs": [
    {
     "data": {
      "text/plain": [
       "Array(4.0649104, dtype=float32)"
      ]
     },
     "execution_count": 9,
     "metadata": {},
     "output_type": "execute_result"
    }
   ],
   "source": [
    "loss_fn((3,1), xs, ys)"
   ]
  },
  {
   "cell_type": "markdown",
   "metadata": {},
   "source": [
    "Use gradient discend to find the optimal parameters, \n",
    "$$\n",
    "\\theta_{updated}=\\theta + \\lambda\\nabla_{\\theta}L(\\theta, x, y)\n",
    "$$\n",
    "where $\\lambda$ is learning rate."
   ]
  },
  {
   "cell_type": "code",
   "execution_count": 10,
   "metadata": {},
   "outputs": [],
   "source": [
    "@jax.jit\n",
    "def update(theta, x, y, lr=0.1):\n",
    "  return theta - lr * grad(loss_fn)(theta, x, y)"
   ]
  },
  {
   "cell_type": "code",
   "execution_count": 11,
   "metadata": {},
   "outputs": [
    {
     "data": {
      "text/plain": [
       "Array([1., 1.], dtype=float32)"
      ]
     },
     "execution_count": 11,
     "metadata": {},
     "output_type": "execute_result"
    }
   ],
   "source": [
    "theta = jnp.array([1., 1.])\n",
    "theta"
   ]
  },
  {
   "cell_type": "code",
   "execution_count": 12,
   "metadata": {},
   "outputs": [
    {
     "data": {
      "text/plain": [
       "Array([2., 2.], dtype=float32)"
      ]
     },
     "execution_count": 12,
     "metadata": {},
     "output_type": "execute_result"
    }
   ],
   "source": [
    "grad(loss_fn)(theta, 1., 1.)"
   ]
  },
  {
   "cell_type": "code",
   "execution_count": 13,
   "metadata": {},
   "outputs": [
    {
     "data": {
      "text/plain": [
       "Array([16.,  8.], dtype=float32)"
      ]
     },
     "execution_count": 13,
     "metadata": {},
     "output_type": "execute_result"
    }
   ],
   "source": [
    "grad(loss_fn)(theta, 2., -1.)"
   ]
  },
  {
   "cell_type": "markdown",
   "metadata": {},
   "source": [
    "Gradient returns the average gradient for vectors of parameters."
   ]
  },
  {
   "cell_type": "code",
   "execution_count": 14,
   "metadata": {},
   "outputs": [
    {
     "data": {
      "text/plain": [
       "Array([9., 5.], dtype=float32)"
      ]
     },
     "execution_count": 14,
     "metadata": {},
     "output_type": "execute_result"
    }
   ],
   "source": [
    "grad(loss_fn)(theta, jnp.array([1., 2.]), jnp.array([1., -1.]))"
   ]
  },
  {
   "cell_type": "code",
   "execution_count": 15,
   "metadata": {},
   "outputs": [
    {
     "data": {
      "text/plain": [
       "Array([ 2.9829342 , -0.94883674], dtype=float32)"
      ]
     },
     "execution_count": 15,
     "metadata": {},
     "output_type": "execute_result"
    }
   ],
   "source": [
    "# initial parateters\n",
    "theta = jnp.array([1., 1.])\n",
    "theta\n",
    "n_iterations = 200\n",
    "lr = .1\n",
    "for i in range(n_iterations):\n",
    "    theta = update(theta, xs, ys, lr=lr)\n",
    "theta"
   ]
  },
  {
   "cell_type": "markdown",
   "metadata": {},
   "source": [
    "### Compute greeks of Black-Scholes option prices with jax.grad"
   ]
  },
  {
   "cell_type": "code",
   "execution_count": 16,
   "metadata": {},
   "outputs": [],
   "source": [
    "#@jax.jit\n",
    "def bs_call(S, X, T, sig, r):\n",
    "    d1 = (jnp.log(S/X) + (r + .5 * sig**2) * T)/(jnp.sqrt(T) * sig)\n",
    "    print(f'd1 = {d1}')\n",
    "    d2 = d1 - jnp.sqrt(T) * sig\n",
    "    print(f'd2 = {d2}')\n",
    "    c = S * jax.scipy.stats.norm.cdf(d1) - X * jnp.exp(-r*T)* jax.scipy.stats.norm.cdf(d2)\n",
    "    print(f'delta = {jax.scipy.stats.norm.cdf(d1)}')\n",
    "    return c"
   ]
  },
  {
   "cell_type": "code",
   "execution_count": 17,
   "metadata": {},
   "outputs": [
    {
     "name": "stdout",
     "output_type": "stream",
     "text": [
      "d1 = -0.3252846896648407\n",
      "d2 = -0.4752846956253052\n",
      "delta = 0.3724828064441681\n"
     ]
    },
    {
     "data": {
      "text/plain": [
       "Array(2.1333694, dtype=float32)"
      ]
     },
     "execution_count": 17,
     "metadata": {},
     "output_type": "execute_result"
    }
   ],
   "source": [
    "S=60.\n",
    "X=65.\n",
    "r=.08\n",
    "sig=.30\n",
    "T=.25\n",
    "bs_call(S, X, T, sig, r)"
   ]
  },
  {
   "cell_type": "code",
   "execution_count": 18,
   "metadata": {},
   "outputs": [],
   "source": [
    "# pars = [S, X, T, sig, r]\n",
    "def euro_call(pars):\n",
    "    S, X, T, sig, r = pars\n",
    "    c = bs_call(S, X, T, sig, r)\n",
    "    return c"
   ]
  },
  {
   "cell_type": "code",
   "execution_count": 19,
   "metadata": {},
   "outputs": [
    {
     "name": "stdout",
     "output_type": "stream",
     "text": [
      "d1 = -0.3252846896648407\n",
      "d2 = -0.4752846956253052\n",
      "delta = 0.3724828064441681\n"
     ]
    },
    {
     "data": {
      "text/plain": [
       "Array(2.1333694, dtype=float32)"
      ]
     },
     "execution_count": 19,
     "metadata": {},
     "output_type": "execute_result"
    }
   ],
   "source": [
    "euro_call([S, X, T, sig, r])"
   ]
  },
  {
   "cell_type": "code",
   "execution_count": null,
   "metadata": {},
   "outputs": [],
   "source": []
  },
  {
   "cell_type": "code",
   "execution_count": 20,
   "metadata": {},
   "outputs": [
    {
     "name": "stdout",
     "output_type": "stream",
     "text": [
      "d1 = Traced<ConcreteArray(-0.3252846896648407, dtype=float32, weak_type=True)>with<JVPTrace(level=2/0)> with\n",
      "  primal = Array(-0.3252847, dtype=float32, weak_type=True)\n",
      "  tangent = Traced<ShapedArray(float32[], weak_type=True)>with<JaxprTrace(level=1/0)> with\n",
      "    pval = (ShapedArray(float32[], weak_type=True), None)\n",
      "    recipe = JaxprEqnRecipe(eqn_id=<object object at 0x7fb24a6971f0>, in_tracers=(Traced<ConcreteArray(0.15000000596046448, dtype=float32, weak_type=True):JaxprTrace(level=1/0)>, Traced<ConcreteArray(-0.048792704939842224, dtype=float32, weak_type=True):JaxprTrace(level=1/0)>, Traced<ConcreteArray(44.44444274902344, dtype=float32, weak_type=True):JaxprTrace(level=1/0)>, Traced<ShapedArray(float32[], weak_type=True):JaxprTrace(level=1/0)>, Traced<ShapedArray(float32[], weak_type=True):JaxprTrace(level=1/0)>), out_tracer_refs=[<weakref at 0x7fb24c3c2ca0; to 'JaxprTracer' at 0x7fb24c3c25c0>], out_avals=[ShapedArray(float32[], weak_type=True)], primitive=xla_call, params={'device': None, 'backend': None, 'name': 'true_divide', 'donated_invars': (False, False, False, False, False), 'inline': True, 'keep_unused': False, 'call_jaxpr': { lambda ; a:f32[] b:f32[] c:f32[] d:f32[] e:f32[]. let\n",
      "    f:f32[] = div d a\n",
      "    g:f32[] = neg e\n",
      "    h:f32[] = mul g b\n",
      "    i:f32[] = mul h c\n",
      "    j:f32[] = add_any f i\n",
      "  in (j,) }}, effects=set(), source_info=SourceInfo(traceback=<jaxlib.xla_extension.Traceback object at 0x7fb24c3d8d30>, name_stack=NameStack(stack=(Transform(name='jvp'),))))\n",
      "d2 = Traced<ConcreteArray(-0.4752846956253052, dtype=float32, weak_type=True)>with<JVPTrace(level=2/0)> with\n",
      "  primal = Array(-0.4752847, dtype=float32, weak_type=True)\n",
      "  tangent = Traced<ShapedArray(float32[], weak_type=True)>with<JaxprTrace(level=1/0)> with\n",
      "    pval = (ShapedArray(float32[], weak_type=True), None)\n",
      "    recipe = JaxprEqnRecipe(eqn_id=<object object at 0x7fb24a697290>, in_tracers=(Traced<ShapedArray(float32[], weak_type=True):JaxprTrace(level=1/0)>, Traced<ShapedArray(float32[], weak_type=True):JaxprTrace(level=1/0)>), out_tracer_refs=[<weakref at 0x7fb24c3e1030; to 'JaxprTracer' at 0x7fb24c3e0fe0>], out_avals=[ShapedArray(float32[], weak_type=True)], primitive=xla_call, params={'device': None, 'backend': None, 'name': '<lambda>', 'donated_invars': (False, False), 'inline': True, 'keep_unused': False, 'call_jaxpr': { lambda ; a:f32[] b:f32[]. let c:f32[] = sub a b in (c,) }}, effects=set(), source_info=SourceInfo(traceback=<jaxlib.xla_extension.Traceback object at 0x7fb24c3d9b30>, name_stack=NameStack(stack=(Transform(name='jvp'),))))\n",
      "delta = Traced<ConcreteArray(0.3724828064441681, dtype=float32)>with<JVPTrace(level=2/0)> with\n",
      "  primal = Array(0.3724828, dtype=float32)\n",
      "  tangent = Traced<ShapedArray(float32[])>with<JaxprTrace(level=1/0)> with\n",
      "    pval = (ShapedArray(float32[]), None)\n",
      "    recipe = JaxprEqnRecipe(eqn_id=<object object at 0x7fb24a697a70>, in_tracers=(Traced<ConcreteArray(0.5, dtype=float32):JaxprTrace(level=1/0)>, Traced<ShapedArray(float32[]):JaxprTrace(level=1/0)>), out_tracer_refs=[<weakref at 0x7fb24c71a340; to 'JaxprTracer' at 0x7fb24c71a160>], out_avals=[ShapedArray(float32[])], primitive=xla_call, params={'device': None, 'backend': None, 'name': 'fn', 'donated_invars': (False, False), 'inline': True, 'keep_unused': False, 'call_jaxpr': { lambda ; a:f32[] b:f32[]. let c:f32[] = mul a b in (c,) }}, effects=set(), source_info=SourceInfo(traceback=<jaxlib.xla_extension.Traceback object at 0x7fb24c71fdb0>, name_stack=NameStack(stack=(Transform(name='jvp'),))))\n"
     ]
    },
    {
     "data": {
      "text/plain": [
       "[Array(0.3724828, dtype=float32, weak_type=True),\n",
       " Array(-0.31100923, dtype=float32, weak_type=True),\n",
       " Array(8.428175, dtype=float32, weak_type=True),\n",
       " Array(11.351544, dtype=float32, weak_type=True),\n",
       " Array(5.0539, dtype=float32, weak_type=True)]"
      ]
     },
     "execution_count": 20,
     "metadata": {},
     "output_type": "execute_result"
    }
   ],
   "source": [
    "pars = [S, X, T, sig, r]\n",
    "jax.grad(euro_call)(pars)"
   ]
  },
  {
   "cell_type": "code",
   "execution_count": null,
   "metadata": {},
   "outputs": [],
   "source": [
    "\n"
   ]
  },
  {
   "cell_type": "code",
   "execution_count": 21,
   "metadata": {},
   "outputs": [
    {
     "data": {
      "text/plain": [
       "4.0"
      ]
     },
     "execution_count": 21,
     "metadata": {},
     "output_type": "execute_result"
    }
   ],
   "source": [
    "np.sqrt(4) + 2"
   ]
  },
  {
   "cell_type": "markdown",
   "metadata": {},
   "source": [
    "### Random numbers"
   ]
  },
  {
   "cell_type": "code",
   "execution_count": 22,
   "metadata": {},
   "outputs": [
    {
     "name": "stdout",
     "output_type": "stream",
     "text": [
      "[ 0.6122652  1.1225883 -0.8544134 -0.8127325 -0.890405 ]\n",
      "[ 0.6122652  1.1225883 -0.8544134 -0.8127325 -0.890405 ]\n"
     ]
    }
   ],
   "source": [
    "key = jax.random.PRNGKey(42)\n",
    "print(random.normal(key, shape=(5,)))\n",
    "print(random.normal(key, shape=(5,)))"
   ]
  },
  {
   "cell_type": "code",
   "execution_count": 23,
   "metadata": {},
   "outputs": [
    {
     "name": "stdout",
     "output_type": "stream",
     "text": [
      "[-0.55338794  0.944283   -0.74176395 -0.5769758   1.1251862 ]\n",
      "[-0.32761317 -0.4066346   1.2469071   1.1900425   1.100263  ]\n"
     ]
    }
   ],
   "source": [
    "# never reuse a key\n",
    "key, subkey = random.split(key)\n",
    "print(random.normal(subkey, shape=(5,)))\n",
    "key, subkey = random.split(key)\n",
    "print(random.normal(subkey, shape=(5,)))"
   ]
  },
  {
   "cell_type": "code",
   "execution_count": null,
   "metadata": {},
   "outputs": [],
   "source": []
  },
  {
   "cell_type": "markdown",
   "metadata": {},
   "source": [
    "## Common models"
   ]
  },
  {
   "cell_type": "markdown",
   "metadata": {},
   "source": [
    "### Linear model"
   ]
  },
  {
   "cell_type": "markdown",
   "metadata": {},
   "source": [
    "$y = wx + b$\n",
    "\n",
    "Generate observed values"
   ]
  },
  {
   "cell_type": "code",
   "execution_count": 24,
   "metadata": {},
   "outputs": [
    {
     "name": "stdout",
     "output_type": "stream",
     "text": [
      "[ 1. -1.  3.  5. -2.  2.]\n"
     ]
    }
   ],
   "source": [
    "key = jax.random.PRNGKey(212)\n",
    "w = jnp.array([1., -1., 3., 5., -2.])\n",
    "b = 2\n",
    "theta_true = jnp.append(w, b)\n",
    "print(theta_true)"
   ]
  },
  {
   "cell_type": "code",
   "execution_count": 25,
   "metadata": {},
   "outputs": [],
   "source": [
    "@jax.jit\n",
    "def model(theta, x):\n",
    "    w = theta[:-1]\n",
    "    b = theta[-1]\n",
    "    y = jnp.dot(w, x) + b\n",
    "    return y\n",
    "\n",
    "model_vmap = jax.vmap(model, in_axes=[None, 1])"
   ]
  },
  {
   "cell_type": "code",
   "execution_count": 26,
   "metadata": {},
   "outputs": [
    {
     "data": {
      "text/plain": [
       "Array(20., dtype=float32)"
      ]
     },
     "execution_count": 26,
     "metadata": {},
     "output_type": "execute_result"
    }
   ],
   "source": [
    "model(theta_true, jnp.array([1, 2, 3, 4, 5]))"
   ]
  },
  {
   "cell_type": "code",
   "execution_count": 27,
   "metadata": {},
   "outputs": [
    {
     "data": {
      "text/plain": [
       "array([[1, 2],\n",
       "       [3, 4],\n",
       "       [5, 1],\n",
       "       [2, 3],\n",
       "       [4, 5]])"
      ]
     },
     "execution_count": 27,
     "metadata": {},
     "output_type": "execute_result"
    }
   ],
   "source": [
    "np.array([1, 2, 3, 4, 5, 1, 2, 3, 4, 5]).reshape(5, 2)"
   ]
  },
  {
   "cell_type": "code",
   "execution_count": 29,
   "metadata": {},
   "outputs": [],
   "source": [
    "#model_vmap(theta, np.array([1, 2, 3, 4, 5, 1, 2, 3, 4, 5]).reshape(5, 2))"
   ]
  },
  {
   "cell_type": "code",
   "execution_count": 30,
   "metadata": {},
   "outputs": [
    {
     "name": "stdout",
     "output_type": "stream",
     "text": [
      "(5, 50)\n",
      "[-1.9834332  3.693717  -2.6479702  1.790731  12.152575 ]\n"
     ]
    }
   ],
   "source": [
    "n_obs = 50\n",
    "x_observed = jax.random.normal(key, shape=(5,n_obs))\n",
    "print(x_observed.shape)\n",
    "print(jnp.sum(x_observed, axis=1))\n"
   ]
  },
  {
   "cell_type": "code",
   "execution_count": 31,
   "metadata": {},
   "outputs": [
    {
     "name": "stdout",
     "output_type": "stream",
     "text": [
      "[  5.061532     2.4697185   -3.1689067   -7.6509895   -3.878571\n",
      "  11.230026     1.4037006    4.2314587    9.178272     5.9207597\n",
      "  -1.3583989   -4.3980184    5.3401203    0.41575944  -1.9732022\n",
      "  -8.83993      6.2698207   -2.5513077    6.314845    -8.689926\n",
      "  -1.7106991   -5.669702     8.188997    10.294529     5.785759\n",
      "  -5.8465557   17.606495     5.477191    11.000769     7.3086863\n",
      "  -3.7401242    6.787878     8.182899     1.5911278    1.0267415\n",
      "   4.3348236   -5.980621   -11.129906    -4.772352    -3.095614\n",
      "  -0.26369235  -5.845175    -2.9242475    3.4858134   11.435972\n",
      "  11.133466    -4.316735     0.92751443  -5.489374    -8.450031  ]\n"
     ]
    }
   ],
   "source": [
    "# observations - model plus some noise\n",
    "y_observed = model(theta_true, x_observed) + jax.random.normal(key, shape=(n_obs,))\n",
    "print(y_observed)"
   ]
  },
  {
   "cell_type": "code",
   "execution_count": 32,
   "metadata": {},
   "outputs": [
    {
     "data": {
      "text/plain": [
       "Text(0.5, 1.0, 'Noisy observations vs underlying model')"
      ]
     },
     "execution_count": 32,
     "metadata": {},
     "output_type": "execute_result"
    },
    {
     "data": {
      "image/png": "[encoded data removed]",
      "text/plain": [
       "<Figure size 432x288 with 1 Axes>"
      ]
     },
     "metadata": {
      "needs_background": "light"
     },
     "output_type": "display_data"
    }
   ],
   "source": [
    "plt.scatter(model(theta_true, x_observed), y_observed)\n",
    "plt.plot(model(theta_true, x_observed), model(theta_true, x_observed))\n",
    "plt.title('Noisy observations vs underlying model')"
   ]
  },
  {
   "cell_type": "code",
   "execution_count": 34,
   "metadata": {},
   "outputs": [
    {
     "name": "stdout",
     "output_type": "stream",
     "text": [
      "6 µs ± 111 ns per loop (mean ± std. dev. of 7 runs, 100,000 loops each)\n"
     ]
    }
   ],
   "source": [
    "%timeit model(theta_true, x_observed)"
   ]
  },
  {
   "cell_type": "code",
   "execution_count": 35,
   "metadata": {},
   "outputs": [
    {
     "name": "stdout",
     "output_type": "stream",
     "text": [
      "[ 2.9883358e+00  2.3349292e+00 -1.5650349e+00 -6.1130486e+00\n",
      " -5.0836453e+00  1.2472522e+01  1.8045750e+00  5.0270219e+00\n",
      "  1.0129258e+01  5.9141598e+00 -1.4724889e+00 -4.2724571e+00\n",
      "  6.0810962e+00  5.5440164e-01 -1.5313129e+00 -7.7776632e+00\n",
      "  6.5286217e+00 -2.9492378e+00  6.2737894e+00 -7.3210154e+00\n",
      "  1.4329433e-02 -5.8055058e+00  7.4530363e+00  8.3956413e+00\n",
      "  4.1605120e+00 -5.3344989e+00  1.8990660e+01  6.3681188e+00\n",
      "  1.0795193e+01  7.7783060e+00 -1.1883299e+00  6.2501445e+00\n",
      "  7.3560805e+00  1.6167390e+00  3.5765314e-01  6.0111747e+00\n",
      " -5.7826834e+00 -1.1694789e+01 -7.5610752e+00 -2.0660710e+00\n",
      " -2.2288561e-01 -5.6120420e+00 -2.8691711e+00  4.5343022e+00\n",
      "  1.0853861e+01  1.2338906e+01 -4.6002135e+00  1.9807792e+00\n",
      " -5.6962886e+00 -7.8172445e+00]\n"
     ]
    }
   ],
   "source": [
    "y_observed = model_vmap(theta_true, x_observed)\n",
    "print(y_observed)"
   ]
  },
  {
   "cell_type": "code",
   "execution_count": 36,
   "metadata": {},
   "outputs": [
    {
     "name": "stdout",
     "output_type": "stream",
     "text": [
      "513 µs ± 10.8 µs per loop (mean ± std. dev. of 7 runs, 1,000 loops each)\n"
     ]
    }
   ],
   "source": [
    "# slower tham model?\n",
    "%timeit model_vmap(theta_true, x_observed)"
   ]
  },
  {
   "cell_type": "code",
   "execution_count": 38,
   "metadata": {},
   "outputs": [],
   "source": [
    "# loss function - mean squared error\n",
    "def loss_fn(theta, x, y):\n",
    "  prediction = model(theta, x)\n",
    "  return jnp.mean((prediction-y)**2)"
   ]
  },
  {
   "cell_type": "code",
   "execution_count": 39,
   "metadata": {},
   "outputs": [],
   "source": [
    "# update step\n",
    "@jax.jit\n",
    "def update(theta, x, y, lr=0.01):\n",
    "  return theta - lr * grad(loss_fn)(theta, x, y)"
   ]
  },
  {
   "cell_type": "code",
   "execution_count": 40,
   "metadata": {},
   "outputs": [
    {
     "name": "stdout",
     "output_type": "stream",
     "text": [
      "[ 1.0000066 -0.9999936  2.9999955  5.0000114 -1.9999946  1.999995 ]\n",
      "[ 1. -1.  3.  5. -2.  2.]\n"
     ]
    }
   ],
   "source": [
    "# initial parateters\n",
    "theta = jnp.array([1., 1., 1., 1., 1., 1.])\n",
    "theta\n",
    "n_iterations = 1000\n",
    "lr = .01\n",
    "for i in range(n_iterations):\n",
    "    theta = update(theta, x_observed, y_observed, lr=lr)\n",
    "print(theta)\n",
    "print(theta_true)\n"
   ]
  },
  {
   "cell_type": "markdown",
   "metadata": {},
   "source": [
    "### Logistic regression classifier"
   ]
  },
  {
   "cell_type": "markdown",
   "metadata": {},
   "source": [
    "First, we create data using bivariate normal distribution."
   ]
  },
  {
   "cell_type": "code",
   "execution_count": 41,
   "metadata": {},
   "outputs": [
    {
     "data": {
      "text/plain": [
       "Array([[ 2.2076726 ,  0.6332452 ],\n",
       "       [ 0.53972983, -0.51073563],\n",
       "       [ 1.6998711 ,  1.4444137 ],\n",
       "       [-0.05809402,  1.330411  ],\n",
       "       [ 0.23326337,  0.6060622 ]], dtype=float32)"
      ]
     },
     "execution_count": 41,
     "metadata": {},
     "output_type": "execute_result"
    }
   ],
   "source": [
    "class1 = random.multivariate_normal(key,\n",
    "                           mean=jnp.array([1, 1]),\n",
    "                           cov=.5*np.array([1, .5, .5, 1]).reshape(2,2),\n",
    "                          shape=[100,])\n",
    "class1[:5,:]"
   ]
  },
  {
   "cell_type": "code",
   "execution_count": 42,
   "metadata": {},
   "outputs": [
    {
     "data": {
      "text/plain": [
       "<matplotlib.collections.PathCollection at 0x7fb2375a3ac0>"
      ]
     },
     "execution_count": 42,
     "metadata": {},
     "output_type": "execute_result"
    },
    {
     "data": {
      "image/png": "[encoded data removed]",
      "text/plain": [
       "<Figure size 432x288 with 1 Axes>"
      ]
     },
     "metadata": {
      "needs_background": "light"
     },
     "output_type": "display_data"
    }
   ],
   "source": [
    "plt.scatter(class1[:, 0], class1[:, 1])"
   ]
  },
  {
   "cell_type": "code",
   "execution_count": 43,
   "metadata": {},
   "outputs": [
    {
     "data": {
      "text/plain": [
       "Array([[3.4657753, 3.195562 ],\n",
       "       [2.5691884, 3.163034 ],\n",
       "       [2.985951 , 2.7663414],\n",
       "       [2.1083503, 2.027696 ],\n",
       "       [2.6487987, 2.8870454]], dtype=float32)"
      ]
     },
     "execution_count": 43,
     "metadata": {},
     "output_type": "execute_result"
    }
   ],
   "source": [
    "key, subkey = random.split(key)\n",
    "class2 = random.multivariate_normal(key,\n",
    "                           mean=jnp.array([3, 3]),\n",
    "                           cov=.25*np.array([1, .7, .7, 1]).reshape(2,2),\n",
    "                          shape=[100,])\n",
    "class2[:5,:]"
   ]
  },
  {
   "cell_type": "code",
   "execution_count": 44,
   "metadata": {},
   "outputs": [
    {
     "data": {
      "text/plain": [
       "<matplotlib.legend.Legend at 0x7fb237c8aa10>"
      ]
     },
     "execution_count": 44,
     "metadata": {},
     "output_type": "execute_result"
    },
    {
     "data": {
      "image/png": "[encoded data removed]",
      "text/plain": [
       "<Figure size 432x288 with 1 Axes>"
      ]
     },
     "metadata": {
      "needs_background": "light"
     },
     "output_type": "display_data"
    }
   ],
   "source": [
    "\n",
    "fig = plt.figure()\n",
    "ax1 = fig.add_subplot(111)\n",
    "\n",
    "ax1.scatter(class1[:, 0], class1[:, 1], s=10, c='b', marker=\"s\", label='class1')\n",
    "ax1.scatter(class2[:, 0], class1[:, 1], s=10, c='r', marker=\"s\", label='class2')\n",
    "plt.title('Two classes')\n",
    "plt.legend()\n"
   ]
  },
  {
   "cell_type": "markdown",
   "metadata": {},
   "source": [
    "Logistic regression models the probability of belonging to $class1$ as\n",
    "$$\n",
    "p = \\frac{1}{1+e^{-(wx + b)}},\n",
    "$$\n",
    "where, in our case, $w = (w_1, w_2), x = (x_1, x_2)$, and $b$ is a scalar.\n",
    "The loss function at $p_k, y_k$ is defined as \n",
    "\n",
    "$$\n",
    "\\left\\{\n",
    "\\begin{array}{l}\n",
    "      -log(p_k),\\ if\\  y_k = 1\\ \\    (class 1),\\\\\n",
    "      -log(1-p_k),\\ if\\  y_k=0 \\ \\    (class 2).\n",
    "      \\end{array}\n",
    "  \\right.\n",
    "$$\n",
    "Combining, we get cross entropy loss function\n",
    "\n",
    "$$\n",
    "L = -\\Sigma_1^N (y_k\\log(p_k) + (1-y_k)log(1-p_k)).\n",
    "$$"
   ]
  },
  {
   "cell_type": "code",
   "execution_count": 65,
   "metadata": {},
   "outputs": [],
   "source": [
    "# implement functions\n",
    "@jax.jit\n",
    "def sigmoid(t):\n",
    "    return 1/(1 + jnp.exp(-t))\n",
    "\n",
    "@jax.jit\n",
    "def model(theta, x):\n",
    "    w = theta[:-1]\n",
    "    b = theta[-1]\n",
    "    t = jnp.dot(w, x) + b\n",
    "    p = sigmoid(t)\n",
    "    return p\n",
    "\n",
    "# loss function - cross entropy\n",
    "def loss_fn(theta, x, y):\n",
    "  p = model(theta, x)\n",
    "#  print(theta.dtype)\n",
    "#  print(y.dtype)\n",
    "# print(y*(jnp.log(p) + (1-y)*jnp.log(1-p)))    \n",
    "  return -jnp.mean(y*(jnp.log(p) + (1-y)*jnp.log(1-p)))\n",
    "\n",
    "# update step\n",
    "@jax.jit\n",
    "def update(theta, x, y, lr=0.01):\n",
    "  return theta - lr * grad(loss_fn)(theta, x, y)"
   ]
  },
  {
   "cell_type": "code",
   "execution_count": 66,
   "metadata": {},
   "outputs": [
    {
     "data": {
      "text/plain": [
       "Array([[ 2.2076726 ,  0.6332452 ],\n",
       "       [ 0.53972983, -0.51073563],\n",
       "       [ 1.6998711 ,  1.4444137 ],\n",
       "       [-0.05809402,  1.330411  ],\n",
       "       [ 0.23326337,  0.6060622 ]], dtype=float32)"
      ]
     },
     "execution_count": 66,
     "metadata": {},
     "output_type": "execute_result"
    }
   ],
   "source": [
    "class1[:5, :]"
   ]
  },
  {
   "cell_type": "code",
   "execution_count": 67,
   "metadata": {},
   "outputs": [
    {
     "data": {
      "text/plain": [
       "Array([0.97897756, 0.73672086, 0.98439276, 0.9065582 , 0.8628689 ],      dtype=float32)"
      ]
     },
     "execution_count": 67,
     "metadata": {},
     "output_type": "execute_result"
    }
   ],
   "source": [
    "theta = np.array([1., 1., 1.])\n",
    "model(theta, class1[:5, :].transpose())"
   ]
  },
  {
   "cell_type": "code",
   "execution_count": 68,
   "metadata": {},
   "outputs": [
    {
     "data": {
      "text/plain": [
       "Array(0.09995721, dtype=float32)"
      ]
     },
     "execution_count": 68,
     "metadata": {},
     "output_type": "execute_result"
    }
   ],
   "source": [
    "loss_fn(theta, class1[:, :].transpose(), jnp.ones(shape=(len(class1),)))"
   ]
  },
  {
   "cell_type": "code",
   "execution_count": 69,
   "metadata": {},
   "outputs": [
    {
     "data": {
      "text/plain": [
       "Array([1.0003867, 1.0003953, 1.0009131], dtype=float32)"
      ]
     },
     "execution_count": 69,
     "metadata": {},
     "output_type": "execute_result"
    }
   ],
   "source": [
    "update(theta, class1[:, :].transpose(), jnp.ones(shape=(len(class1),)))"
   ]
  },
  {
   "cell_type": "code",
   "execution_count": 70,
   "metadata": {},
   "outputs": [
    {
     "name": "stdout",
     "output_type": "stream",
     "text": [
      "(200, 3)\n",
      "[[ 2.2076726   0.6332452   1.        ]\n",
      " [ 0.53972983 -0.51073563  1.        ]\n",
      " [ 1.6998711   1.4444137   1.        ]\n",
      " [-0.05809402  1.330411    1.        ]\n",
      " [ 0.23326337  0.6060622   1.        ]]\n",
      "[[3.8604279 4.300192  0.       ]\n",
      " [3.019225  2.9260416 0.       ]\n",
      " [3.8114538 3.4090698 0.       ]\n",
      " [3.5774093 3.9309077 0.       ]\n",
      " [1.5694052 1.8653797 0.       ]]\n"
     ]
    }
   ],
   "source": [
    "#input data\n",
    "lbl = jnp.concatenate((jnp.ones(shape=(len(class1),)), jnp.zeros(shape=(len(class2),))))\n",
    "data = jnp.column_stack((jnp.row_stack((class1, class2)), lbl))\n",
    "print(data.shape)\n",
    "print(data[:5, :])\n",
    "print(data[-5:, :])\n",
    "# train/test split\n",
    "X_train, X_test, y_train, y_test = train_test_split(\n",
    "    data[:,:-1], \n",
    "    data[:,-1], \n",
    "    test_size=0.3, random_state=212\n",
    ")"
   ]
  },
  {
   "cell_type": "code",
   "execution_count": 71,
   "metadata": {},
   "outputs": [
    {
     "name": "stdout",
     "output_type": "stream",
     "text": [
      "(140, 2)\n",
      "(60, 2)\n",
      "(140,)\n",
      "(60,)\n",
      "30.0\n"
     ]
    }
   ],
   "source": [
    "print(X_train.shape)\n",
    "print(X_test.shape)\n",
    "print(y_train.shape)\n",
    "print(y_test.shape)\n",
    "print(y_test.sum())"
   ]
  },
  {
   "cell_type": "code",
   "execution_count": 82,
   "metadata": {},
   "outputs": [
    {
     "name": "stdout",
     "output_type": "stream",
     "text": [
      "0.053826768\n",
      "0.053521108\n",
      "0.05321896\n",
      "0.052920252\n",
      "0.05262494\n",
      "0.052332953\n",
      "0.05204425\n",
      "0.05175876\n",
      "0.051476434\n",
      "0.051197223\n",
      "0.050921068\n",
      "0.050647937\n",
      "0.050377756\n",
      "0.05011049\n",
      "0.04984609\n",
      "0.049584508\n",
      "0.049325697\n",
      "0.04906961\n",
      "0.04881621\n",
      "0.048565462\n",
      "0.048317306\n",
      "0.04807172\n",
      "0.04782865\n",
      "0.047588058\n",
      "0.04734991\n",
      "0.047114175\n",
      "0.046880808\n",
      "0.046649776\n",
      "0.046421032\n",
      "0.046194557\n",
      "0.045970306\n",
      "0.045748264\n",
      "0.045528382\n",
      "0.045310624\n",
      "0.045094974\n",
      "0.044881392\n",
      "0.044669855\n",
      "0.044460338\n",
      "0.04425279\n",
      "0.0440472\n",
      "0.04384353\n",
      "0.043641765\n",
      "0.043441873\n",
      "0.04324383\n",
      "0.04304761\n",
      "0.042853177\n",
      "0.042660516\n",
      "0.0424696\n",
      "0.04228041\n",
      "0.042092912\n",
      "0.041907094\n",
      "0.041722935\n",
      "0.041540407\n",
      "0.04135948\n",
      "0.04118015\n",
      "0.04100238\n",
      "0.040826157\n",
      "0.040651463\n",
      "0.040478278\n",
      "0.040306576\n",
      "0.040136337\n",
      "0.03996755\n",
      "0.039800197\n",
      "0.03963425\n",
      "0.0394697\n",
      "0.03930652\n",
      "0.039144706\n",
      "0.038984224\n",
      "0.03882508\n",
      "0.038667236\n",
      "0.038510684\n",
      "0.038355414\n",
      "0.038201403\n",
      "0.038048636\n",
      "0.037897095\n",
      "0.03774678\n",
      "0.03759765\n",
      "0.037449714\n",
      "0.037302952\n",
      "0.03715734\n",
      "0.03701288\n",
      "0.036869545\n",
      "0.03672733\n",
      "0.03658622\n",
      "0.0364462\n",
      "0.03630726\n",
      "0.036169387\n",
      "0.036032554\n",
      "0.035896778\n",
      "0.035762023\n",
      "0.035628293\n",
      "0.03549556\n",
      "0.035363827\n",
      "0.035233077\n",
      "0.0351033\n",
      "0.034974486\n",
      "0.034846615\n",
      "0.034719694\n",
      "0.03459369\n",
      "0.034468614\n",
      "0.034344446\n",
      "0.034221187\n",
      "0.034098808\n",
      "0.03397731\n",
      "0.033856686\n",
      "0.033736918\n",
      "0.033618003\n",
      "0.03349993\n",
      "0.03338269\n",
      "0.03326628\n",
      "0.033150688\n",
      "0.033035897\n",
      "0.0329219\n",
      "0.032808706\n",
      "0.032696288\n",
      "0.03258465\n",
      "0.03247377\n",
      "0.032363653\n",
      "0.032254282\n",
      "0.032145664\n",
      "0.032037772\n",
      "0.031930607\n",
      "0.031824168\n",
      "0.031718444\n",
      "0.031613413\n",
      "0.031509094\n",
      "0.031405464\n",
      "0.031302515\n",
      "0.031200245\n",
      "0.031098645\n",
      "0.03099772\n",
      "0.03089744\n",
      "0.030797822\n",
      "0.030698838\n",
      "0.0306005\n",
      "0.030502789\n",
      "0.030405711\n",
      "0.030309254\n",
      "0.030213414\n",
      "0.030118173\n",
      "0.030023545\n",
      "0.029929511\n",
      "0.02983607\n",
      "0.029743202\n",
      "0.029650927\n",
      "0.029559225\n",
      "0.029468093\n",
      "0.02937753\n",
      "0.029287523\n",
      "0.029198071\n",
      "0.029109158\n",
      "0.029020794\n",
      "0.02893297\n",
      "0.028845679\n",
      "0.028758917\n",
      "0.028672682\n",
      "0.02858696\n",
      "0.028501755\n",
      "0.02841706\n",
      "0.028332869\n",
      "0.028249176\n",
      "0.028165981\n",
      "0.028083283\n",
      "0.028001072\n",
      "0.02791934\n",
      "0.027838092\n",
      "0.027757315\n",
      "0.027677005\n",
      "0.027597163\n",
      "0.027517788\n",
      "0.027438872\n",
      "0.027360406\n",
      "0.027282389\n",
      "0.027204823\n",
      "0.027127692\n",
      "0.027051006\n",
      "0.026974754\n",
      "0.026898935\n",
      "0.026823545\n",
      "0.02674857\n",
      "0.02667402\n",
      "0.026599886\n",
      "0.026526166\n",
      "0.026452862\n",
      "0.026379963\n",
      "0.026307456\n",
      "0.026235359\n",
      "0.026163656\n",
      "0.02609235\n",
      "0.02602143\n",
      "0.025950894\n",
      "0.025880747\n",
      "0.025810974\n",
      "0.02574158\n",
      "0.02567257\n",
      "0.025603922\n",
      "0.02553564\n",
      "0.02546773\n",
      "0.025400175\n",
      "0.02533299\n",
      "0.025266154\n",
      "0.025199674\n",
      "0.025133539\n",
      "0.025067762\n",
      "0.025002327\n",
      "0.024937231\n",
      "0.02487248\n",
      "0.024808062\n",
      "0.02474398\n",
      "0.024680229\n",
      "0.02461681\n",
      "0.024553714\n",
      "0.024490943\n",
      "0.024428496\n",
      "0.02436637\n",
      "0.024304561\n",
      "0.024243066\n",
      "0.02418188\n",
      "0.024120998\n",
      "0.024060434\n",
      "0.024000172\n",
      "0.02394021\n",
      "0.023880547\n",
      "0.023821188\n",
      "0.02376212\n",
      "0.02370335\n",
      "0.023644872\n",
      "0.02358668\n",
      "0.023528771\n",
      "0.023471154\n",
      "0.023413815\n",
      "0.02335676\n",
      "0.023299985\n",
      "0.023243485\n",
      "0.023187261\n",
      "0.023131305\n",
      "0.023075625\n",
      "0.023020213\n",
      "0.022965066\n",
      "0.022910183\n",
      "0.022855565\n",
      "0.022801202\n",
      "0.022747105\n",
      "0.022693263\n",
      "0.02263968\n",
      "0.022586346\n",
      "0.02253327\n",
      "0.022480438\n",
      "0.022427857\n",
      "0.022375518\n",
      "0.02232343\n",
      "0.022271585\n",
      "0.022219975\n",
      "0.022168607\n",
      "0.022117486\n",
      "0.022066591\n",
      "0.02201593\n",
      "0.021965507\n",
      "0.021915317\n",
      "0.021865351\n",
      "0.021815617\n",
      "0.021766108\n",
      "0.021716826\n",
      "0.021667764\n",
      "0.021618932\n",
      "0.021570317\n",
      "0.021521918\n",
      "0.021473734\n",
      "0.021425772\n",
      "0.021378018\n",
      "0.021330487\n",
      "0.02128316\n",
      "0.021236043\n",
      "0.021189144\n",
      "0.02114245\n",
      "0.021095958\n",
      "0.021049673\n",
      "0.021003589\n",
      "0.020957708\n",
      "0.02091203\n",
      "0.020866554\n",
      "0.020821271\n",
      "0.020776184\n",
      "0.020731295\n",
      "0.020686602\n",
      "0.020642098\n",
      "0.020597791\n",
      "0.020553669\n",
      "0.020509748\n",
      "0.020465998\n",
      "0.020422446\n",
      "0.020379078\n",
      "0.020335892\n",
      "0.02029289\n",
      "0.020250075\n",
      "0.020207431\n",
      "0.020164978\n",
      "0.020122692\n",
      "0.020080596\n",
      "0.020038666\n",
      "0.019996915\n",
      "0.019955335\n",
      "0.01991394\n",
      "0.019872706\n",
      "0.019831644\n",
      "0.019790757\n",
      "0.019750033\n",
      "0.019709485\n",
      "0.0196691\n",
      "0.019628875\n",
      "0.019588824\n",
      "0.019548934\n",
      "0.019509198\n",
      "0.019469632\n",
      "0.019430226\n",
      "0.019390978\n",
      "0.019351892\n",
      "0.019312961\n",
      "0.019274188\n",
      "0.019235566\n",
      "0.019197106\n",
      "0.0191588\n",
      "0.019120645\n",
      "0.019082641\n",
      "0.01904479\n",
      "0.019007087\n",
      "0.018969532\n",
      "0.018932132\n",
      "0.018894877\n",
      "0.018857772\n",
      "0.018820805\n",
      "0.018783992\n",
      "0.018747317\n",
      "0.018710783\n",
      "0.018674398\n",
      "0.018638154\n",
      "0.018602047\n",
      "0.018566083\n",
      "0.01853026\n",
      "0.018494576\n",
      "0.01845902\n",
      "0.018423615\n",
      "0.018388335\n",
      "0.018353194\n",
      "0.01831819\n",
      "0.018283317\n",
      "0.018248573\n",
      "0.018213967\n",
      "0.018179491\n",
      "0.018145146\n",
      "0.018110927\n",
      "0.018076843\n",
      "0.018042881\n",
      "0.018009055\n",
      "0.01797535\n",
      "0.017941779\n",
      "0.017908324\n",
      "0.017874997\n",
      "0.017841795\n",
      "0.01780871\n",
      "0.017775754\n",
      "0.017742923\n",
      "0.017710213\n",
      "0.017677624\n",
      "0.017645149\n",
      "0.017612794\n",
      "0.017580563\n",
      "0.017548446\n",
      "0.01751645\n",
      "0.017484566\n",
      "0.017452806\n",
      "0.017421152\n",
      "0.017389623\n",
      "0.0173582\n",
      "0.017326897\n",
      "0.017295705\n",
      "0.017264618\n",
      "0.017233653\n",
      "0.017202796\n",
      "0.01717205\n",
      "0.017141411\n",
      "0.017110886\n",
      "0.017080469\n",
      "0.017050156\n",
      "0.017019957\n",
      "0.016989859\n",
      "0.016959868\n",
      "0.016929986\n",
      "0.016900213\n",
      "0.016870536\n",
      "0.01684097\n",
      "0.016811509\n",
      "0.016782144\n",
      "0.016752884\n",
      "0.01672373\n",
      "0.016694676\n",
      "0.016665718\n",
      "0.016636863\n",
      "0.016608113\n",
      "0.016579455\n",
      "0.016550902\n",
      "0.016522441\n",
      "0.016494084\n",
      "0.016465826\n",
      "0.01643767\n",
      "0.016409598\n",
      "0.016381621\n",
      "0.016353741\n",
      "0.016325958\n",
      "0.016298274\n",
      "0.01627068\n",
      "0.01624318\n",
      "0.016215773\n",
      "0.016188465\n",
      "0.016161246\n",
      "0.016134113\n",
      "0.016107075\n",
      "0.016080132\n",
      "0.01605327\n",
      "0.016026504\n",
      "0.015999824\n",
      "0.015973238\n",
      "0.015946735\n",
      "0.015920319\n",
      "0.015894001\n",
      "0.01586776\n",
      "0.015841601\n",
      "0.015815541\n",
      "0.015789563\n",
      "0.015763668\n",
      "0.015737854\n",
      "0.015712133\n",
      "0.015686492\n",
      "0.015660932\n",
      "0.015635462\n",
      "0.015610072\n",
      "0.0155847585\n",
      "0.01555954\n",
      "0.015534397\n",
      "0.015509333\n",
      "0.0154843535\n",
      "0.015459449\n",
      "0.015434629\n",
      "0.015409887\n",
      "0.015385229\n",
      "0.015360643\n",
      "0.015336142\n",
      "0.015311714\n",
      "0.015287372\n",
      "0.015263096\n",
      "0.015238908\n",
      "0.015214786\n",
      "0.015190748\n",
      "0.015166788\n",
      "0.015142895\n",
      "0.015119081\n",
      "0.015095343\n",
      "0.015071678\n",
      "0.015048093\n",
      "0.015024578\n",
      "0.015001137\n",
      "0.014977769\n",
      "0.014954475\n",
      "0.014931251\n",
      "0.014908102\n",
      "0.014885024\n",
      "0.014862011\n",
      "0.0148390755\n",
      "0.014816206\n",
      "0.01479341\n",
      "0.014770685\n",
      "0.014748032\n",
      "0.014725445\n",
      "0.014702933\n",
      "0.014680484\n",
      "0.014658106\n",
      "0.014635797\n",
      "0.014613557\n",
      "0.014591386\n",
      "0.014569272\n",
      "0.014547234\n",
      "0.014525264\n",
      "0.014503356\n",
      "0.014481514\n",
      "0.014459736\n",
      "0.014438029\n",
      "0.0144163845\n",
      "0.014394806\n",
      "0.014373292\n",
      "0.014351838\n",
      "0.01433045\n",
      "0.014309131\n",
      "0.014287874\n",
      "0.014266675\n",
      "0.01424554\n",
      "0.014224477\n",
      "0.0142034665\n",
      "0.01418252\n",
      "0.014161635\n",
      "0.014140812\n",
      "0.014120056\n",
      "0.014099352\n",
      "0.014078716\n",
      "0.01405813\n",
      "0.014037616\n",
      "0.014017158\n",
      "0.013996759\n",
      "0.013976411\n",
      "0.013956129\n",
      "0.0139359115\n",
      "0.013915745\n",
      "0.013895645\n",
      "0.013875595\n",
      "0.01385561\n",
      "0.013835677\n",
      "0.013815809\n",
      "0.013795988\n",
      "0.013776229\n",
      "0.0137565285\n",
      "0.013736883\n",
      "0.01371729\n",
      "0.013697758\n",
      "0.01367828\n",
      "0.013658852\n",
      "0.013639492\n",
      "0.01362018\n",
      "0.013600921\n",
      "0.013581717\n",
      "0.013562563\n",
      "0.013543469\n",
      "0.013524422\n",
      "0.013505435\n",
      "0.013486506\n",
      "0.01346762\n",
      "0.013448795\n",
      "0.013430022\n",
      "0.013411297\n",
      "0.013392625\n",
      "0.013374008\n",
      "0.01335544\n",
      "0.013336921\n",
      "0.013318455\n",
      "0.013300046\n",
      "0.0132816825\n",
      "0.013263372\n",
      "0.013245104\n",
      "0.013226896\n",
      "0.013208733\n",
      "0.013190625\n",
      "0.013172565\n",
      "0.013154554\n",
      "0.013136592\n",
      "0.013118678\n",
      "0.0131008085\n",
      "0.013082993\n",
      "0.013065229\n",
      "0.01304751\n",
      "0.013029835\n",
      "0.01301221\n",
      "0.012994639\n",
      "0.012977109\n",
      "0.012959628\n",
      "0.012942193\n",
      "0.012924806\n",
      "0.012907474\n",
      "0.012890179\n",
      "0.012872933\n",
      "0.012855731\n",
      "0.012838578\n",
      "0.012821471\n",
      "0.012804407\n",
      "0.012787388\n",
      "0.012770414\n",
      "0.012753486\n",
      "0.012736608\n",
      "0.012719772\n",
      "0.012702977\n",
      "0.0126862265\n",
      "0.012669518\n",
      "0.01265286\n",
      "0.012636244\n",
      "0.0126196705\n",
      "0.012603143\n",
      "0.012586652\n",
      "0.012570213\n",
      "0.012553811\n",
      "0.012537454\n",
      "0.012521143\n",
      "0.012504871\n",
      "0.012488644\n",
      "0.012472454\n",
      "0.012456308\n",
      "0.0124402065\n",
      "0.01242414\n",
      "0.012408123\n",
      "0.012392143\n",
      "0.012376206\n",
      "0.012360309\n",
      "0.012344451\n",
      "0.012328639\n",
      "0.012312862\n",
      "0.012297129\n",
      "0.012281436\n",
      "0.012265776\n",
      "0.012250166\n",
      "0.012234596\n",
      "0.012219055\n",
      "0.012203559\n",
      "0.012188104\n",
      "0.01217269\n",
      "0.012157311\n",
      "0.012141972\n",
      "0.01212667\n",
      "0.012111407\n",
      "0.012096182\n",
      "0.012080996\n",
      "0.012065851\n",
      "0.012050746\n",
      "0.012035671\n",
      "0.012020636\n",
      "0.012005641\n",
      "0.011990682\n",
      "0.0119757615\n",
      "0.011960875\n",
      "0.011946031\n",
      "0.011931225\n",
      "0.011916448\n",
      "0.011901718\n",
      "0.0118870195\n",
      "0.011872351\n",
      "0.011857723\n",
      "0.011843135\n",
      "0.011828579\n",
      "0.011814062\n",
      "0.011799578\n",
      "0.011785133\n",
      "0.011770715\n",
      "0.011756338\n",
      "0.011741998\n",
      "0.011727691\n",
      "0.011713418\n",
      "0.011699182\n",
      "0.011684974\n",
      "0.011670804\n",
      "0.011656677\n",
      "0.01164257\n",
      "0.011628504\n",
      "0.011614473\n",
      "0.011600478\n",
      "0.011586512\n",
      "0.011572579\n",
      "0.011558683\n",
      "0.011544823\n",
      "0.011530993\n",
      "0.01151719\n",
      "0.011503425\n",
      "0.0114897\n",
      "0.011475995\n",
      "0.011462335\n",
      "0.011448706\n",
      "0.0114351045\n",
      "0.011421532\n",
      "0.011407996\n",
      "0.011394496\n",
      "0.011381024\n",
      "0.011367582\n",
      "0.011354173\n",
      "0.011340793\n",
      "0.011327444\n",
      "0.011314136\n",
      "0.011300857\n",
      "0.011287603\n",
      "0.011274384\n",
      "0.011261199\n",
      "0.011248035\n",
      "0.011234907\n",
      "0.011221811\n",
      "0.011208742\n",
      "0.011195711\n",
      "0.011182704\n",
      "0.011169731\n",
      "0.011156783\n",
      "0.011143867\n",
      "0.01113098\n",
      "0.011118126\n",
      "0.0111053\n",
      "0.011092508\n",
      "0.011079738\n",
      "0.011066998\n",
      "0.011054293\n",
      "0.011041617\n",
      "0.011028965\n",
      "0.011016348\n",
      "0.011003757\n",
      "0.010991197\n",
      "0.0109786615\n",
      "0.010966155\n",
      "0.010953678\n",
      "0.01094123\n",
      "0.010928812\n",
      "0.010916418\n",
      "0.010904055\n",
      "0.010891722\n",
      "0.010879407\n",
      "0.010867129\n",
      "0.010854876\n",
      "0.01084265\n",
      "0.010830458\n",
      "0.010818288\n",
      "0.010806143\n",
      "0.010794029\n",
      "0.010781935\n",
      "0.010769881\n",
      "0.010757844\n",
      "0.010745836\n",
      "0.010733858\n",
      "0.010721903\n",
      "0.010709976\n",
      "0.0106980745\n",
      "0.010686194\n",
      "0.010674356\n",
      "0.0106625315\n",
      "0.01065074\n",
      "0.010638966\n",
      "0.01062723\n",
      "0.010615509\n",
      "0.010603819\n",
      "0.010592152\n",
      "0.010580511\n",
      "0.010568898\n",
      "0.010557308\n",
      "0.01054575\n",
      "0.01053421\n",
      "0.010522698\n",
      "0.010511211\n",
      "0.0104997475\n",
      "0.010488312\n",
      "0.0104769\n",
      "0.010465517\n",
      "0.010454147\n",
      "0.010442816\n",
      "0.010431499\n",
      "0.010420217\n",
      "0.01040895\n",
      "0.01039771\n",
      "0.010386492\n",
      "0.010375306\n",
      "0.010364134\n",
      "0.0103529915\n",
      "0.01034187\n",
      "0.010330778\n",
      "0.010319707\n",
      "0.010308662\n",
      "0.010297633\n",
      "0.010286632\n",
      "0.010275661\n",
      "0.010264705\n",
      "0.010253772\n",
      "0.010242865\n",
      "0.010231983\n",
      "0.010221124\n",
      "0.010210283\n",
      "0.010199473\n",
      "0.010188678\n",
      "0.010177908\n",
      "0.010167163\n",
      "0.0101564415\n",
      "0.01014574\n",
      "0.01013506\n",
      "0.010124404\n",
      "0.010113772\n",
      "0.010103161\n",
      "0.010092572\n",
      "0.010082008\n",
      "0.010071462\n",
      "0.010060941\n",
      "0.010050441\n",
      "0.010039966\n",
      "0.010029505\n",
      "0.010019074\n",
      "0.010008655\n",
      "0.009998269\n",
      "0.009987896\n",
      "0.009977549\n",
      "0.009967224\n",
      "0.0099569205\n",
      "0.009946634\n",
      "0.009936375\n",
      "0.009926134\n",
      "0.009915908\n",
      "0.009905712\n",
      "0.009895533\n",
      "0.009885373\n",
      "0.009875233\n",
      "0.009865115\n",
      "0.009855022\n",
      "0.009844948\n",
      "0.009834891\n",
      "0.009824862\n",
      "0.009814857\n",
      "0.00980486\n",
      "0.009794886\n",
      "0.00978493\n",
      "0.009775\n",
      "0.009765092\n",
      "0.009755194\n",
      "0.009745327\n",
      "0.009735472\n",
      "0.009725639\n",
      "0.009715835\n",
      "0.009706038\n",
      "0.009696268\n",
      "0.009686516\n",
      "0.00967679\n",
      "0.009667078\n",
      "0.009657381\n",
      "0.009647705\n",
      "0.009638057\n",
      "0.009628421\n",
      "0.009618805\n",
      "0.009609206\n",
      "0.00959963\n",
      "0.009590073\n",
      "0.009580527\n",
      "0.00957101\n",
      "0.00956151\n",
      "0.009552029\n",
      "0.009542564\n",
      "0.009533118\n",
      "0.009523694\n",
      "0.009514286\n",
      "0.009504896\n",
      "0.0094955275\n",
      "0.009486175\n",
      "0.009476842\n",
      "0.009467529\n",
      "0.009458232\n",
      "0.00944895\n",
      "0.009439691\n",
      "0.009430453\n",
      "0.009421229\n",
      "0.0094120195\n",
      "0.009402828\n",
      "0.009393664\n",
      "0.00938451\n",
      "0.009375375\n",
      "0.009366262\n",
      "0.009357164\n",
      "0.00934808\n",
      "0.009339021\n",
      "0.009329969\n",
      "0.00932094\n",
      "0.0093119275\n",
      "0.009302938\n",
      "0.009293962\n",
      "0.009285005\n",
      "0.00927606\n",
      "0.009267141\n",
      "0.009258231\n",
      "0.009249342\n",
      "0.009240469\n",
      "0.009231613\n",
      "0.009222775\n",
      "0.0092139505\n",
      "0.009205149\n",
      "0.0091963615\n",
      "0.009187591\n",
      "0.009178838\n",
      "0.009170098\n",
      "0.009161378\n",
      "0.009152677\n",
      "0.009143987\n",
      "0.009135316\n",
      "0.009126663\n",
      "0.009118022\n",
      "0.009109398\n",
      "0.009100793\n",
      "0.009092206\n",
      "0.00908363\n",
      "0.009075071\n",
      "0.009066532\n",
      "0.009058009\n",
      "0.009049499\n",
      "0.009041004\n",
      "0.00903253\n",
      "0.009024068\n",
      "0.00901562\n",
      "0.00900719\n",
      "0.008998777\n",
      "0.008990384\n",
      "0.008981999\n",
      "0.008973631\n",
      "0.008965281\n",
      "0.008956945\n",
      "0.0089486325\n",
      "0.008940324\n",
      "0.008932037\n",
      "0.008923764\n",
      "0.008915505\n",
      "0.0089072585\n",
      "0.008899031\n",
      "0.0088908225\n",
      "0.008882623\n",
      "0.008874444\n",
      "0.008866273\n",
      "0.00885812\n",
      "0.008849985\n",
      "0.008841858\n",
      "0.008833755\n",
      "0.0088256635\n",
      "0.008817584\n",
      "0.008809523\n",
      "0.008801479\n",
      "0.008793438\n",
      "0.008785422\n",
      "0.008777416\n",
      "0.008769426\n",
      "0.008761459\n",
      "0.008753494\n",
      "0.008745552\n",
      "0.008737619\n",
      "0.008729697\n",
      "0.008721794\n",
      "0.008713907\n",
      "0.008706039\n",
      "0.008698173\n",
      "0.008690327\n",
      "0.008682502\n",
      "0.008674682\n"
     ]
    },
    {
     "name": "stdout",
     "output_type": "stream",
     "text": [
      "0.00866688\n",
      "0.008659087\n",
      "0.008651313\n",
      "0.008643551\n",
      "0.008635806\n",
      "0.008628074\n",
      "0.008620354\n",
      "0.008612651\n",
      "0.008604956\n",
      "0.008597277\n",
      "0.00858961\n",
      "0.008581961\n",
      "0.008574328\n",
      "0.008566702\n",
      "0.008559092\n",
      "0.008551494\n",
      "0.008543912\n",
      "0.008536344\n",
      "0.008528788\n",
      "0.008521246\n",
      "0.008513712\n",
      "0.0085061975\n",
      "0.008498694\n",
      "0.008491205\n",
      "0.00848373\n",
      "0.008476267\n",
      "0.008468815\n",
      "0.008461378\n",
      "0.008453957\n",
      "0.008446545\n",
      "0.00843914\n",
      "0.008431765\n",
      "0.008424389\n",
      "0.008417026\n",
      "0.008409683\n",
      "0.008402348\n",
      "0.008395033\n",
      "0.008387719\n",
      "0.008380428\n",
      "0.008373144\n",
      "0.008365876\n",
      "0.008358622\n",
      "0.008351378\n",
      "0.008344143\n",
      "0.008336925\n",
      "0.008329719\n",
      "0.008322524\n",
      "0.008315341\n",
      "0.008308172\n",
      "0.008301018\n",
      "0.008293871\n",
      "0.008286735\n",
      "0.008279617\n",
      "0.00827251\n",
      "0.008265415\n",
      "0.0082583325\n",
      "0.008251257\n",
      "0.008244204\n",
      "0.008237157\n",
      "0.008230118\n",
      "0.008223092\n",
      "0.008216092\n",
      "0.008209089\n",
      "0.008202096\n",
      "0.008195125\n",
      "0.008188157\n",
      "0.008181206\n",
      "0.008174275\n",
      "0.008167345\n",
      "0.008160425\n",
      "0.008153523\n",
      "[1.4880625 1.4798967 2.7190077]\n"
     ]
    }
   ],
   "source": [
    "# fit parameters\n",
    "# initial parateters\n",
    "theta = jnp.array([1., 1., 1.])\n",
    "n_iterations = 1000\n",
    "lr = .1\n",
    "for i in range(n_iterations):\n",
    "    #print(theta)\n",
    "    theta = update(theta, X_train.transpose(), y_train, lr=lr)\n",
    "    print(loss_fn(theta, X_train.transpose(), y_train))\n",
    "print(theta)"
   ]
  },
  {
   "cell_type": "code",
   "execution_count": 83,
   "metadata": {},
   "outputs": [
    {
     "data": {
      "text/plain": [
       "Array([[0.9999496 , 0.        ],\n",
       "       [0.98426384, 1.        ],\n",
       "       [0.99999917, 0.        ],\n",
       "       [0.99999666, 0.        ],\n",
       "       [0.9934238 , 1.        ],\n",
       "       [0.9999962 , 0.        ],\n",
       "       [0.99994874, 1.        ],\n",
       "       [0.9999877 , 0.        ],\n",
       "       [0.99997735, 0.        ],\n",
       "       [0.9999877 , 0.        ],\n",
       "       [0.99995565, 0.        ],\n",
       "       [0.96947   , 1.        ],\n",
       "       [0.9999883 , 0.        ],\n",
       "       [0.9999863 , 0.        ],\n",
       "       [0.99985766, 0.        ],\n",
       "       [0.9990909 , 1.        ],\n",
       "       [0.9999987 , 0.        ],\n",
       "       [0.9862389 , 1.        ],\n",
       "       [0.9985317 , 1.        ],\n",
       "       [0.99999857, 0.        ],\n",
       "       [0.9999708 , 0.        ],\n",
       "       [0.9999995 , 0.        ],\n",
       "       [0.9999963 , 0.        ],\n",
       "       [0.9999956 , 0.        ],\n",
       "       [0.9735058 , 1.        ],\n",
       "       [0.9943652 , 1.        ],\n",
       "       [0.99999917, 0.        ],\n",
       "       [0.99999905, 0.        ],\n",
       "       [0.99995375, 0.        ],\n",
       "       [0.99996126, 0.        ],\n",
       "       [0.99951553, 1.        ],\n",
       "       [0.9999758 , 0.        ],\n",
       "       [0.9998523 , 1.        ],\n",
       "       [0.99999595, 0.        ],\n",
       "       [0.99901795, 1.        ],\n",
       "       [0.9999106 , 0.        ],\n",
       "       [0.99699676, 1.        ],\n",
       "       [0.9999479 , 0.        ],\n",
       "       [0.99998355, 0.        ],\n",
       "       [0.9999958 , 0.        ],\n",
       "       [0.99999297, 0.        ],\n",
       "       [0.8906573 , 1.        ],\n",
       "       [0.99243236, 1.        ],\n",
       "       [0.99997663, 0.        ],\n",
       "       [0.99721706, 1.        ],\n",
       "       [0.9983418 , 1.        ],\n",
       "       [0.999747  , 1.        ],\n",
       "       [0.9999975 , 0.        ],\n",
       "       [0.9946649 , 1.        ],\n",
       "       [0.9967063 , 1.        ],\n",
       "       [0.9696157 , 1.        ],\n",
       "       [0.9384761 , 1.        ],\n",
       "       [0.9999993 , 0.        ],\n",
       "       [0.9999989 , 0.        ],\n",
       "       [0.99057215, 1.        ],\n",
       "       [0.95535815, 1.        ],\n",
       "       [0.9970817 , 1.        ],\n",
       "       [0.9989961 , 1.        ],\n",
       "       [0.99616075, 1.        ],\n",
       "       [0.9999976 , 0.        ],\n",
       "       [0.99999535, 0.        ],\n",
       "       [0.99997497, 0.        ],\n",
       "       [0.99764246, 1.        ],\n",
       "       [0.9999963 , 0.        ],\n",
       "       [0.9999871 , 0.        ],\n",
       "       [0.9736742 , 1.        ],\n",
       "       [0.999995  , 0.        ],\n",
       "       [0.95960724, 1.        ],\n",
       "       [0.98794276, 1.        ],\n",
       "       [0.99006236, 1.        ],\n",
       "       [0.9999752 , 1.        ],\n",
       "       [0.9940754 , 1.        ],\n",
       "       [0.9999912 , 0.        ],\n",
       "       [0.9999957 , 0.        ],\n",
       "       [0.99987996, 0.        ],\n",
       "       [0.9587113 , 1.        ],\n",
       "       [0.98570246, 1.        ],\n",
       "       [0.99999905, 0.        ],\n",
       "       [0.9999163 , 1.        ],\n",
       "       [0.96913975, 1.        ],\n",
       "       [0.9999989 , 0.        ],\n",
       "       [0.9251263 , 1.        ],\n",
       "       [0.99995136, 0.        ],\n",
       "       [0.99955636, 1.        ],\n",
       "       [0.97720337, 1.        ],\n",
       "       [0.99994016, 0.        ],\n",
       "       [0.99904436, 1.        ],\n",
       "       [0.99999404, 0.        ],\n",
       "       [0.9759237 , 1.        ],\n",
       "       [0.99825925, 1.        ],\n",
       "       [0.9999987 , 0.        ],\n",
       "       [0.99993336, 0.        ],\n",
       "       [0.99999475, 0.        ],\n",
       "       [0.99996424, 0.        ],\n",
       "       [0.99969435, 1.        ],\n",
       "       [0.99991786, 1.        ],\n",
       "       [0.99997115, 0.        ],\n",
       "       [0.99999464, 0.        ],\n",
       "       [0.9999982 , 0.        ],\n",
       "       [0.99999714, 0.        ],\n",
       "       [0.94439274, 1.        ],\n",
       "       [0.9999901 , 0.        ],\n",
       "       [0.99999905, 0.        ],\n",
       "       [0.9898573 , 1.        ],\n",
       "       [0.999992  , 0.        ],\n",
       "       [0.9795558 , 1.        ],\n",
       "       [0.99660873, 1.        ],\n",
       "       [0.99979883, 1.        ],\n",
       "       [0.99399805, 1.        ],\n",
       "       [0.9999777 , 0.        ],\n",
       "       [0.99162513, 1.        ],\n",
       "       [0.99753344, 1.        ],\n",
       "       [0.99547344, 1.        ],\n",
       "       [0.99411666, 1.        ],\n",
       "       [0.9980704 , 1.        ],\n",
       "       [0.99301755, 1.        ],\n",
       "       [0.98884016, 1.        ],\n",
       "       [0.9999429 , 0.        ],\n",
       "       [0.9998994 , 0.        ],\n",
       "       [0.9990339 , 1.        ],\n",
       "       [0.9798916 , 1.        ],\n",
       "       [0.9999956 , 0.        ],\n",
       "       [0.9999995 , 0.        ],\n",
       "       [0.99997723, 0.        ],\n",
       "       [0.9999957 , 0.        ],\n",
       "       [0.9665208 , 1.        ],\n",
       "       [0.90049374, 1.        ],\n",
       "       [0.9408287 , 1.        ],\n",
       "       [0.9999771 , 0.        ],\n",
       "       [0.99467105, 1.        ],\n",
       "       [0.9921244 , 1.        ],\n",
       "       [0.99999595, 0.        ],\n",
       "       [0.99999857, 0.        ],\n",
       "       [0.9851421 , 1.        ],\n",
       "       [0.9999995 , 0.        ],\n",
       "       [0.99999905, 0.        ],\n",
       "       [0.99756646, 1.        ],\n",
       "       [0.99998415, 0.        ],\n",
       "       [0.9820681 , 1.        ],\n",
       "       [0.98371255, 1.        ]], dtype=float32)"
      ]
     },
     "execution_count": 83,
     "metadata": {},
     "output_type": "execute_result"
    }
   ],
   "source": [
    "jnp.column_stack((model(theta, X_train.transpose()), y_train))"
   ]
  },
  {
   "cell_type": "code",
   "execution_count": null,
   "metadata": {},
   "outputs": [],
   "source": []
  },
  {
   "cell_type": "markdown",
   "metadata": {},
   "source": [
    "### LSTM by chatGPT"
   ]
  },
  {
   "cell_type": "code",
   "execution_count": 256,
   "metadata": {},
   "outputs": [
    {
     "ename": "AttributeError",
     "evalue": "module 'jax.numpy' has no attribute 'scan'",
     "output_type": "error",
     "traceback": [
      "\u001b[0;31m---------------------------------------------------------------------------\u001b[0m",
      "\u001b[0;31mAttributeError\u001b[0m                            Traceback (most recent call last)",
      "Input \u001b[0;32mIn [256]\u001b[0m, in \u001b[0;36m<cell line: 47>\u001b[0;34m()\u001b[0m\n\u001b[1;32m     44\u001b[0m initial_cell_state \u001b[38;5;241m=\u001b[39m np\u001b[38;5;241m.\u001b[39mzeros((\u001b[38;5;241m2\u001b[39m, \u001b[38;5;241m10\u001b[39m))\n\u001b[1;32m     45\u001b[0m params \u001b[38;5;241m=\u001b[39m [np\u001b[38;5;241m.\u001b[39mzeros((\u001b[38;5;241m3\u001b[39m, \u001b[38;5;241m10\u001b[39m)), np\u001b[38;5;241m.\u001b[39mzeros(\u001b[38;5;241m10\u001b[39m), np\u001b[38;5;241m.\u001b[39mzeros((\u001b[38;5;241m3\u001b[39m, \u001b[38;5;241m10\u001b[39m)), np\u001b[38;5;241m.\u001b[39mzeros(\u001b[38;5;241m10\u001b[39m), np\u001b[38;5;241m.\u001b[39mzeros((\u001b[38;5;241m3\u001b[39m, \u001b[38;5;241m10\u001b[39m)), np\u001b[38;5;241m.\u001b[39mzeros(\u001b[38;5;241m10\u001b[39m), np\u001b[38;5;241m.\u001b[39mzeros((\u001b[38;5;241m3\u001b[39m, \u001b[38;5;241m10\u001b[39m)), np\u001b[38;5;241m.\u001b[39mzeros(\u001b[38;5;241m10\u001b[39m)]\n\u001b[0;32m---> 47\u001b[0m hidden_states, cell_states \u001b[38;5;241m=\u001b[39m \u001b[43mlstm\u001b[49m\u001b[43m(\u001b[49m\u001b[43minputs\u001b[49m\u001b[43m,\u001b[49m\u001b[43m \u001b[49m\u001b[43minitial_hidden_state\u001b[49m\u001b[43m,\u001b[49m\u001b[43m \u001b[49m\u001b[43minitial_cell_state\u001b[49m\u001b[43m,\u001b[49m\u001b[43m \u001b[49m\u001b[43mparams\u001b[49m\u001b[43m)\u001b[49m\n",
      "Input \u001b[0;32mIn [256]\u001b[0m, in \u001b[0;36mlstm\u001b[0;34m(inputs, initial_hidden_state, initial_cell_state, params)\u001b[0m\n\u001b[1;32m     36\u001b[0m     new_hidden_state, new_cell_state \u001b[38;5;241m=\u001b[39m lstm_cell(hidden_state, cell_state, input_vector, params)\n\u001b[1;32m     37\u001b[0m     \u001b[38;5;28;01mreturn\u001b[39;00m new_hidden_state, new_cell_state\n\u001b[0;32m---> 38\u001b[0m hidden_states, cell_states \u001b[38;5;241m=\u001b[39m \u001b[43mnp\u001b[49m\u001b[38;5;241;43m.\u001b[39;49m\u001b[43mscan\u001b[49m(step, inputs, (initial_hidden_state, initial_cell_state))\n\u001b[1;32m     39\u001b[0m \u001b[38;5;28;01mreturn\u001b[39;00m hidden_states, cell_states\n",
      "\u001b[0;31mAttributeError\u001b[0m: module 'jax.numpy' has no attribute 'scan'"
     ]
    }
   ],
   "source": [
    "import jax.numpy as np\n",
    "from jax import grad, jit, vmap\n",
    "\n",
    "def sigmoid(x):\n",
    "    return 1 / (1 + np.exp(-x))\n",
    "\n",
    "def tanh(x):\n",
    "    return np.tanh(x)\n",
    "\n",
    "def lstm_cell(hidden_state, cell_state, input_vector, params):\n",
    "    W_f, b_f, W_i, b_i, W_o, b_o, W_c, b_c = params\n",
    "\n",
    "    # forget gate\n",
    "    forget_gate = sigmoid(np.dot(input_vector, W_f) + np.dot(hidden_state, W_f) + b_f)\n",
    "\n",
    "    # input gate\n",
    "    input_gate = sigmoid(np.dot(input_vector, W_i) + np.dot(hidden_state, W_i) + b_i)\n",
    "\n",
    "    # candidate cell state\n",
    "    candidate_cell_state = tanh(np.dot(input_vector, W_c) + np.dot(hidden_state, W_c) + b_c)\n",
    "\n",
    "    # cell state\n",
    "    cell_state = forget_gate * cell_state + input_gate * candidate_cell_state\n",
    "\n",
    "    # output gate\n",
    "    output_gate = sigmoid(np.dot(input_vector, W_o) + np.dot(hidden_state, W_o) + b_o)\n",
    "\n",
    "    # hidden state\n",
    "    hidden_state = output_gate * tanh(cell_state)\n",
    "\n",
    "    return hidden_state, cell_state\n",
    "\n",
    "def lstm(inputs, initial_hidden_state, initial_cell_state, params):\n",
    "    def step(hidden_state_and_cell_state, input_vector):\n",
    "        hidden_state, cell_state = hidden_state_and_cell_state\n",
    "        new_hidden_state, new_cell_state = lstm_cell(hidden_state, cell_state, input_vector, params)\n",
    "        return new_hidden_state, new_cell_state\n",
    "    hidden_states, cell_states = np.scan(step, inputs, (initial_hidden_state, initial_cell_state))\n",
    "    return hidden_states, cell_states\n",
    "\n",
    "# example usage\n",
    "inputs = np.array([[1, 2, 3], [4, 5, 6]])\n",
    "initial_hidden_state = np.zeros((2, 10))\n",
    "initial_cell_state = np.zeros((2, 10))\n",
    "params = [np.zeros((3, 10)), np.zeros(10), np.zeros((3, 10)), np.zeros(10), np.zeros((3, 10)), np.zeros(10), np.zeros((3, 10)), np.zeros(10)]\n",
    "\n",
    "hidden_states, cell_states = lstm(inputs, initial_hidden_state, initial_cell_state, params)\n"
   ]
  },
  {
   "cell_type": "code",
   "execution_count": null,
   "metadata": {},
   "outputs": [],
   "source": []
  }
 ],
 "metadata": {
  "kernelspec": {
   "display_name": "options",
   "language": "python",
   "name": "options"
  },
  "language_info": {
   "codemirror_mode": {
    "name": "ipython",
    "version": 3
   },
   "file_extension": ".py",
   "mimetype": "text/x-python",
   "name": "python",
   "nbconvert_exporter": "python",
   "pygments_lexer": "ipython3",
   "version": "3.10.4"
  }
 },
 "nbformat": 4,
 "nbformat_minor": 4
}
