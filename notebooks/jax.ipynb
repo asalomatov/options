{
 "cells": [
  {
   "cell_type": "code",
   "execution_count": 1,
   "metadata": {},
   "outputs": [],
   "source": [
    "import jax\n",
    "import jax.numpy as jnp\n",
    "from jax import grad, jit, vmap\n",
    "from jax import random\n",
    "import numpy as np\n",
    "import pandas as pd\n",
    "from matplotlib import pyplot as plt\n",
    "from sklearn.model_selection import train_test_split"
   ]
  },
  {
   "cell_type": "code",
   "execution_count": 3,
   "metadata": {},
   "outputs": [],
   "source": [
    "import optax"
   ]
  },
  {
   "cell_type": "code",
   "execution_count": 4,
   "metadata": {},
   "outputs": [],
   "source": [
    "%config Completer.use_jedi = False"
   ]
  },
  {
   "cell_type": "markdown",
   "metadata": {},
   "source": [
    "## Tutorial"
   ]
  },
  {
   "cell_type": "markdown",
   "metadata": {},
   "source": [
    "### Fit a linear regression"
   ]
  },
  {
   "cell_type": "code",
   "execution_count": 5,
   "metadata": {},
   "outputs": [
    {
     "data": {
      "image/png": "[encoded data removed]",
      "text/plain": [
       "<Figure size 432x288 with 1 Axes>"
      ]
     },
     "metadata": {
      "needs_background": "light"
     },
     "output_type": "display_data"
    }
   ],
   "source": [
    "import numpy as np\n",
    "import matplotlib.pyplot as plt\n",
    "\n",
    "n = 300\n",
    "xs = np.random.normal(size=(n,))\n",
    "noise = np.random.normal(scale=0.5, size=(n,))\n",
    "ys = xs * 3 - 1 + noise\n",
    "\n",
    "plt.scatter(xs, ys);"
   ]
  },
  {
   "cell_type": "code",
   "execution_count": 6,
   "metadata": {},
   "outputs": [],
   "source": [
    "# theta = [w, b] - model parameters\n",
    "def model(theta, x):\n",
    "  \"\"\"Computes wx + b on a batch of input x.\"\"\"\n",
    "  w, b = theta\n",
    "  return w * x + b"
   ]
  },
  {
   "cell_type": "markdown",
   "metadata": {},
   "source": [
    "Loss function is the sum of squared errors, $ L = \\Sigma (y - y_{pred})^2$"
   ]
  },
  {
   "cell_type": "code",
   "execution_count": 7,
   "metadata": {},
   "outputs": [],
   "source": [
    "def loss_fn(theta, x, y):\n",
    "  prediction = model(theta, x)\n",
    "  return jnp.mean((prediction-y)**2)"
   ]
  },
  {
   "cell_type": "code",
   "execution_count": 8,
   "metadata": {},
   "outputs": [
    {
     "data": {
      "text/plain": [
       "Array(9., dtype=float32)"
      ]
     },
     "execution_count": 8,
     "metadata": {},
     "output_type": "execute_result"
    }
   ],
   "source": [
    "loss_fn((3,1), 0, 4)"
   ]
  },
  {
   "cell_type": "code",
   "execution_count": 9,
   "metadata": {},
   "outputs": [
    {
     "data": {
      "text/plain": [
       "Array(4.2634077, dtype=float32)"
      ]
     },
     "execution_count": 9,
     "metadata": {},
     "output_type": "execute_result"
    }
   ],
   "source": [
    "loss_fn((3,1), xs, ys)"
   ]
  },
  {
   "cell_type": "markdown",
   "metadata": {},
   "source": [
    "Use gradient discend to find the optimal parameters, \n",
    "$$\n",
    "\\theta_{updated}=\\theta + \\lambda\\nabla_{\\theta}L(\\theta, x, y)\n",
    "$$\n",
    "where $\\lambda$ is learning rate."
   ]
  },
  {
   "cell_type": "code",
   "execution_count": 10,
   "metadata": {},
   "outputs": [],
   "source": [
    "@jax.jit\n",
    "def update(theta, x, y, lr=0.1):\n",
    "  return theta - lr * grad(loss_fn)(theta, x, y)"
   ]
  },
  {
   "cell_type": "code",
   "execution_count": 11,
   "metadata": {},
   "outputs": [
    {
     "data": {
      "text/plain": [
       "Array([1., 1.], dtype=float32)"
      ]
     },
     "execution_count": 11,
     "metadata": {},
     "output_type": "execute_result"
    }
   ],
   "source": [
    "theta = jnp.array([1., 1.])\n",
    "theta"
   ]
  },
  {
   "cell_type": "code",
   "execution_count": 12,
   "metadata": {},
   "outputs": [
    {
     "data": {
      "text/plain": [
       "Array([2., 2.], dtype=float32)"
      ]
     },
     "execution_count": 12,
     "metadata": {},
     "output_type": "execute_result"
    }
   ],
   "source": [
    "grad(loss_fn)(theta, 1., 1.)"
   ]
  },
  {
   "cell_type": "code",
   "execution_count": 13,
   "metadata": {},
   "outputs": [
    {
     "data": {
      "text/plain": [
       "Array([16.,  8.], dtype=float32)"
      ]
     },
     "execution_count": 13,
     "metadata": {},
     "output_type": "execute_result"
    }
   ],
   "source": [
    "grad(loss_fn)(theta, 2., -1.)"
   ]
  },
  {
   "cell_type": "markdown",
   "metadata": {},
   "source": [
    "Gradient returns the average gradient for vectors of variables."
   ]
  },
  {
   "cell_type": "code",
   "execution_count": 14,
   "metadata": {},
   "outputs": [
    {
     "data": {
      "text/plain": [
       "Array([9., 5.], dtype=float32)"
      ]
     },
     "execution_count": 14,
     "metadata": {},
     "output_type": "execute_result"
    }
   ],
   "source": [
    "grad(loss_fn)(theta, jnp.array([1., 2.]), jnp.array([1., -1.]))"
   ]
  },
  {
   "cell_type": "code",
   "execution_count": 15,
   "metadata": {},
   "outputs": [
    {
     "data": {
      "text/plain": [
       "Array([ 2.995783 , -1.0006436], dtype=float32)"
      ]
     },
     "execution_count": 15,
     "metadata": {},
     "output_type": "execute_result"
    }
   ],
   "source": [
    "# initial parateters\n",
    "theta = jnp.array([1., 1.])\n",
    "theta\n",
    "n_iterations = 200\n",
    "lr = .1\n",
    "for i in range(n_iterations):\n",
    "    theta = update(theta, xs, ys, lr=lr)\n",
    "theta"
   ]
  },
  {
   "cell_type": "markdown",
   "metadata": {},
   "source": [
    "### Compute greeks of Black-Scholes option prices with jax.grad"
   ]
  },
  {
   "cell_type": "code",
   "execution_count": 16,
   "metadata": {},
   "outputs": [],
   "source": [
    "#@jax.jit\n",
    "def bs_call(S, X, T, sig, r):\n",
    "    d1 = (jnp.log(S/X) + (r + .5 * sig**2) * T)/(jnp.sqrt(T) * sig)\n",
    "    print(f'd1 = {d1}')\n",
    "    d2 = d1 - jnp.sqrt(T) * sig\n",
    "    print(f'd2 = {d2}')\n",
    "    c = S * jax.scipy.stats.norm.cdf(d1) - X * jnp.exp(-r*T)* jax.scipy.stats.norm.cdf(d2)\n",
    "    print(f'delta = {jax.scipy.stats.norm.cdf(d1)}')\n",
    "    return c"
   ]
  },
  {
   "cell_type": "code",
   "execution_count": 17,
   "metadata": {},
   "outputs": [
    {
     "name": "stdout",
     "output_type": "stream",
     "text": [
      "d1 = -0.3252846896648407\n",
      "d2 = -0.4752846956253052\n",
      "delta = 0.3724828064441681\n"
     ]
    },
    {
     "data": {
      "text/plain": [
       "Array(2.1333694, dtype=float32)"
      ]
     },
     "execution_count": 17,
     "metadata": {},
     "output_type": "execute_result"
    }
   ],
   "source": [
    "S=60.\n",
    "X=65.\n",
    "r=.08\n",
    "sig=.30\n",
    "T=.25\n",
    "bs_call(S, X, T, sig, r)"
   ]
  },
  {
   "cell_type": "code",
   "execution_count": 18,
   "metadata": {},
   "outputs": [],
   "source": [
    "# pars = [S, X, T, sig, r]\n",
    "def euro_call(pars):\n",
    "    S, X, T, sig, r = pars\n",
    "    c = bs_call(S, X, T, sig, r)\n",
    "    return c"
   ]
  },
  {
   "cell_type": "code",
   "execution_count": 19,
   "metadata": {},
   "outputs": [
    {
     "name": "stdout",
     "output_type": "stream",
     "text": [
      "d1 = -0.3252846896648407\n",
      "d2 = -0.4752846956253052\n",
      "delta = 0.3724828064441681\n"
     ]
    },
    {
     "data": {
      "text/plain": [
       "Array(2.1333694, dtype=float32)"
      ]
     },
     "execution_count": 19,
     "metadata": {},
     "output_type": "execute_result"
    }
   ],
   "source": [
    "euro_call([S, X, T, sig, r])"
   ]
  },
  {
   "cell_type": "code",
   "execution_count": null,
   "metadata": {},
   "outputs": [],
   "source": []
  },
  {
   "cell_type": "code",
   "execution_count": 20,
   "metadata": {},
   "outputs": [
    {
     "name": "stdout",
     "output_type": "stream",
     "text": [
      "d1 = Traced<ConcreteArray(-0.3252846896648407, dtype=float32, weak_type=True)>with<JVPTrace(level=2/0)> with\n",
      "  primal = Array(-0.3252847, dtype=float32, weak_type=True)\n",
      "  tangent = Traced<ShapedArray(float32[], weak_type=True)>with<JaxprTrace(level=1/0)> with\n",
      "    pval = (ShapedArray(float32[], weak_type=True), None)\n",
      "    recipe = JaxprEqnRecipe(eqn_id=<object object at 0x7f86775d1930>, in_tracers=(Traced<ShapedArray(float32[], weak_type=True):JaxprTrace(level=1/0)>, Traced<ShapedArray(float32[], weak_type=True):JaxprTrace(level=1/0)>, Traced<ConcreteArray(0.15000000596046448, dtype=float32, weak_type=True):JaxprTrace(level=1/0)>, Traced<ConcreteArray(-0.048792704939842224, dtype=float32, weak_type=True):JaxprTrace(level=1/0)>, Traced<ConcreteArray(44.44444274902344, dtype=float32, weak_type=True):JaxprTrace(level=1/0)>), out_tracer_refs=[<weakref at 0x7f8677c596c0; to 'JaxprTracer' at 0x7f8677c59670>], out_avals=[ShapedArray(float32[], weak_type=True)], primitive=pjit, params={'jaxpr': { lambda ; a:f32[] b:f32[] c:f32[] d:f32[] e:f32[]. let\n",
      "    f:f32[] = div a c\n",
      "    g:f32[] = neg b\n",
      "    h:f32[] = mul g d\n",
      "    i:f32[] = mul h e\n",
      "    j:f32[] = add_any f i\n",
      "  in (j,) }, 'in_shardings': (UnspecifiedValue, UnspecifiedValue, UnspecifiedValue, UnspecifiedValue, UnspecifiedValue), 'out_shardings': (UnspecifiedValue,), 'resource_env': None, 'donated_invars': (False, False, False, False, False), 'name': 'true_divide', 'keep_unused': False, 'inline': True}, effects=set(), source_info=SourceInfo(traceback=<jaxlib.xla_extension.Traceback object at 0x7f8677c56cf0>, name_stack=NameStack(stack=(Transform(name='jvp'),))))\n",
      "d2 = Traced<ConcreteArray(-0.4752846956253052, dtype=float32, weak_type=True)>with<JVPTrace(level=2/0)> with\n",
      "  primal = Array(-0.4752847, dtype=float32, weak_type=True)\n",
      "  tangent = Traced<ShapedArray(float32[], weak_type=True)>with<JaxprTrace(level=1/0)> with\n",
      "    pval = (ShapedArray(float32[], weak_type=True), None)\n",
      "    recipe = JaxprEqnRecipe(eqn_id=<object object at 0x7f86775d1a80>, in_tracers=(Traced<ShapedArray(float32[], weak_type=True):JaxprTrace(level=1/0)>, Traced<ShapedArray(float32[], weak_type=True):JaxprTrace(level=1/0)>), out_tracer_refs=[<weakref at 0x7f8677c5b740; to 'JaxprTracer' at 0x7f8677c5bc40>], out_avals=[ShapedArray(float32[], weak_type=True)], primitive=pjit, params={'jaxpr': { lambda ; a:f32[] b:f32[]. let c:f32[] = sub a b in (c,) }, 'in_shardings': (UnspecifiedValue, UnspecifiedValue), 'out_shardings': (UnspecifiedValue,), 'resource_env': None, 'donated_invars': (False, False), 'name': '<lambda>', 'keep_unused': False, 'inline': True}, effects=set(), source_info=SourceInfo(traceback=<jaxlib.xla_extension.Traceback object at 0x7f8677c65930>, name_stack=NameStack(stack=(Transform(name='jvp'),))))\n",
      "delta = Traced<ConcreteArray(0.3724828064441681, dtype=float32)>with<JVPTrace(level=2/0)> with\n",
      "  primal = Array(0.3724828, dtype=float32)\n",
      "  tangent = Traced<ShapedArray(float32[])>with<JaxprTrace(level=1/0)> with\n",
      "    pval = (ShapedArray(float32[]), None)\n",
      "    recipe = JaxprEqnRecipe(eqn_id=<object object at 0x7f86775d2b80>, in_tracers=(Traced<ShapedArray(float32[]):JaxprTrace(level=1/0)>, Traced<ConcreteArray(0.5, dtype=float32):JaxprTrace(level=1/0)>), out_tracer_refs=[<weakref at 0x7f8677caf830; to 'JaxprTracer' at 0x7f8677caf790>], out_avals=[ShapedArray(float32[])], primitive=pjit, params={'jaxpr': { lambda ; a:f32[] b:f32[]. let c:f32[] = mul b a in (c,) }, 'in_shardings': (UnspecifiedValue, UnspecifiedValue), 'out_shardings': (UnspecifiedValue,), 'resource_env': None, 'donated_invars': (False, False), 'name': 'fn', 'keep_unused': False, 'inline': True}, effects=set(), source_info=SourceInfo(traceback=<jaxlib.xla_extension.Traceback object at 0x7f8677cba330>, name_stack=NameStack(stack=(Transform(name='jvp'),))))\n"
     ]
    },
    {
     "data": {
      "text/plain": [
       "[Array(0.3724828, dtype=float32, weak_type=True),\n",
       " Array(-0.31100923, dtype=float32, weak_type=True),\n",
       " Array(8.428175, dtype=float32, weak_type=True),\n",
       " Array(11.351544, dtype=float32, weak_type=True),\n",
       " Array(5.0539, dtype=float32, weak_type=True)]"
      ]
     },
     "execution_count": 20,
     "metadata": {},
     "output_type": "execute_result"
    }
   ],
   "source": [
    "pars = [S, X, T, sig, r]\n",
    "jax.grad(euro_call)(pars)"
   ]
  },
  {
   "cell_type": "code",
   "execution_count": null,
   "metadata": {},
   "outputs": [],
   "source": [
    "\n"
   ]
  },
  {
   "cell_type": "code",
   "execution_count": 21,
   "metadata": {},
   "outputs": [
    {
     "data": {
      "text/plain": [
       "4.0"
      ]
     },
     "execution_count": 21,
     "metadata": {},
     "output_type": "execute_result"
    }
   ],
   "source": [
    "np.sqrt(4) + 2"
   ]
  },
  {
   "cell_type": "markdown",
   "metadata": {},
   "source": [
    "### Random numbers"
   ]
  },
  {
   "cell_type": "code",
   "execution_count": 22,
   "metadata": {},
   "outputs": [
    {
     "name": "stdout",
     "output_type": "stream",
     "text": [
      "[ 0.6122652  1.1225883 -0.8544134 -0.8127325 -0.890405 ]\n",
      "[ 0.6122652  1.1225883 -0.8544134 -0.8127325 -0.890405 ]\n"
     ]
    }
   ],
   "source": [
    "key = jax.random.PRNGKey(42)\n",
    "print(random.normal(key, shape=(5,)))\n",
    "print(random.normal(key, shape=(5,)))"
   ]
  },
  {
   "cell_type": "code",
   "execution_count": 23,
   "metadata": {},
   "outputs": [
    {
     "name": "stdout",
     "output_type": "stream",
     "text": [
      "[-0.55338794  0.944283   -0.74176395 -0.5769758   1.1251862 ]\n",
      "[-0.32761317 -0.4066346   1.2469071   1.1900425   1.100263  ]\n"
     ]
    }
   ],
   "source": [
    "# never reuse a key\n",
    "key = jax.random.PRNGKey(42)\n",
    "key, subkey = random.split(key)\n",
    "print(random.normal(subkey, shape=(5,)))\n",
    "key, subkey = random.split(key)\n",
    "print(random.normal(subkey, shape=(5,)))"
   ]
  },
  {
   "cell_type": "code",
   "execution_count": null,
   "metadata": {},
   "outputs": [],
   "source": []
  },
  {
   "cell_type": "markdown",
   "metadata": {},
   "source": [
    "## Common models"
   ]
  },
  {
   "cell_type": "markdown",
   "metadata": {},
   "source": [
    "### Linear model"
   ]
  },
  {
   "cell_type": "markdown",
   "metadata": {},
   "source": [
    "$y = wx + b$\n",
    "\n",
    "Generate observed values"
   ]
  },
  {
   "cell_type": "code",
   "execution_count": 24,
   "metadata": {},
   "outputs": [
    {
     "name": "stdout",
     "output_type": "stream",
     "text": [
      "[ 1. -1.  3.  5. -2.  2.]\n"
     ]
    }
   ],
   "source": [
    "key = jax.random.PRNGKey(212)\n",
    "w = jnp.array([1., -1., 3., 5., -2.])\n",
    "b = 2\n",
    "theta_true = jnp.append(w, b)\n",
    "print(theta_true)"
   ]
  },
  {
   "cell_type": "code",
   "execution_count": 25,
   "metadata": {},
   "outputs": [],
   "source": [
    "@jax.jit\n",
    "def model(theta, x):\n",
    "    w = theta[:-1]\n",
    "    b = theta[-1]\n",
    "    y = jnp.dot(w, x) + b\n",
    "    return y\n",
    "\n",
    "model_vmap = jax.vmap(model, in_axes=[None, 1])"
   ]
  },
  {
   "cell_type": "code",
   "execution_count": 26,
   "metadata": {},
   "outputs": [
    {
     "data": {
      "text/plain": [
       "Array(20., dtype=float32)"
      ]
     },
     "execution_count": 26,
     "metadata": {},
     "output_type": "execute_result"
    }
   ],
   "source": [
    "model(theta_true, jnp.array([1, 2, 3, 4, 5]))"
   ]
  },
  {
   "cell_type": "code",
   "execution_count": 27,
   "metadata": {},
   "outputs": [
    {
     "data": {
      "text/plain": [
       "array([[1, 2],\n",
       "       [3, 4],\n",
       "       [5, 1],\n",
       "       [2, 3],\n",
       "       [4, 5]])"
      ]
     },
     "execution_count": 27,
     "metadata": {},
     "output_type": "execute_result"
    }
   ],
   "source": [
    "np.array([1, 2, 3, 4, 5, 1, 2, 3, 4, 5]).reshape(5, 2)"
   ]
  },
  {
   "cell_type": "code",
   "execution_count": 28,
   "metadata": {},
   "outputs": [],
   "source": [
    "#model_vmap(theta, np.array([1, 2, 3, 4, 5, 1, 2, 3, 4, 5]).reshape(5, 2))"
   ]
  },
  {
   "cell_type": "code",
   "execution_count": 29,
   "metadata": {},
   "outputs": [
    {
     "name": "stdout",
     "output_type": "stream",
     "text": [
      "(5, 50)\n",
      "[-1.9834332  3.693717  -2.6479702  1.790731  12.152575 ]\n"
     ]
    }
   ],
   "source": [
    "n_obs = 50\n",
    "x_observed = jax.random.normal(key, shape=(5,n_obs))\n",
    "print(x_observed.shape)\n",
    "print(jnp.sum(x_observed, axis=1))\n"
   ]
  },
  {
   "cell_type": "code",
   "execution_count": 30,
   "metadata": {},
   "outputs": [
    {
     "name": "stdout",
     "output_type": "stream",
     "text": [
      "[  5.061532     2.4697185   -3.1689067   -7.6509895   -3.878571\n",
      "  11.230026     1.4037006    4.2314587    9.178272     5.9207597\n",
      "  -1.3583989   -4.3980184    5.3401203    0.41575944  -1.9732022\n",
      "  -8.83993      6.2698207   -2.5513077    6.314845    -8.689926\n",
      "  -1.7106991   -5.669702     8.188997    10.294529     5.785759\n",
      "  -5.8465557   17.606495     5.477191    11.000769     7.3086863\n",
      "  -3.7401242    6.787878     8.182899     1.5911278    1.0267415\n",
      "   4.3348236   -5.980621   -11.129906    -4.772352    -3.095614\n",
      "  -0.26369235  -5.845175    -2.9242475    3.4858134   11.435972\n",
      "  11.133466    -4.316735     0.92751443  -5.489374    -8.450031  ]\n"
     ]
    }
   ],
   "source": [
    "# observations - model plus some noise\n",
    "y_observed = model(theta_true, x_observed) + jax.random.normal(key, shape=(n_obs,))\n",
    "print(y_observed)"
   ]
  },
  {
   "cell_type": "code",
   "execution_count": 31,
   "metadata": {},
   "outputs": [
    {
     "data": {
      "text/plain": [
       "Text(0.5, 1.0, 'Noisy observations vs underlying model')"
      ]
     },
     "execution_count": 31,
     "metadata": {},
     "output_type": "execute_result"
    },
    {
     "data": {
      "image/png": "[encoded data removed]",
      "text/plain": [
       "<Figure size 432x288 with 1 Axes>"
      ]
     },
     "metadata": {
      "needs_background": "light"
     },
     "output_type": "display_data"
    }
   ],
   "source": [
    "plt.scatter(model(theta_true, x_observed), y_observed)\n",
    "plt.plot(model(theta_true, x_observed), model(theta_true, x_observed))\n",
    "plt.title('Noisy observations vs underlying model')"
   ]
  },
  {
   "cell_type": "code",
   "execution_count": 32,
   "metadata": {},
   "outputs": [
    {
     "name": "stdout",
     "output_type": "stream",
     "text": [
      "7.6 µs ± 137 ns per loop (mean ± std. dev. of 7 runs, 100,000 loops each)\n"
     ]
    }
   ],
   "source": [
    "%timeit model(theta_true, x_observed)"
   ]
  },
  {
   "cell_type": "code",
   "execution_count": 33,
   "metadata": {},
   "outputs": [
    {
     "name": "stdout",
     "output_type": "stream",
     "text": [
      "[ 2.9883358e+00  2.3349292e+00 -1.5650349e+00 -6.1130486e+00\n",
      " -5.0836453e+00  1.2472522e+01  1.8045750e+00  5.0270219e+00\n",
      "  1.0129258e+01  5.9141598e+00 -1.4724889e+00 -4.2724571e+00\n",
      "  6.0810962e+00  5.5440164e-01 -1.5313129e+00 -7.7776632e+00\n",
      "  6.5286217e+00 -2.9492378e+00  6.2737894e+00 -7.3210154e+00\n",
      "  1.4329433e-02 -5.8055058e+00  7.4530363e+00  8.3956413e+00\n",
      "  4.1605120e+00 -5.3344989e+00  1.8990660e+01  6.3681188e+00\n",
      "  1.0795193e+01  7.7783060e+00 -1.1883299e+00  6.2501445e+00\n",
      "  7.3560805e+00  1.6167390e+00  3.5765314e-01  6.0111747e+00\n",
      " -5.7826834e+00 -1.1694789e+01 -7.5610752e+00 -2.0660710e+00\n",
      " -2.2288561e-01 -5.6120420e+00 -2.8691711e+00  4.5343022e+00\n",
      "  1.0853861e+01  1.2338906e+01 -4.6002135e+00  1.9807792e+00\n",
      " -5.6962886e+00 -7.8172445e+00]\n"
     ]
    }
   ],
   "source": [
    "y_observed = model_vmap(theta_true, x_observed)\n",
    "print(y_observed)"
   ]
  },
  {
   "cell_type": "code",
   "execution_count": 34,
   "metadata": {},
   "outputs": [
    {
     "name": "stdout",
     "output_type": "stream",
     "text": [
      "717 µs ± 12.6 µs per loop (mean ± std. dev. of 7 runs, 1,000 loops each)\n"
     ]
    }
   ],
   "source": [
    "# slower tham model?\n",
    "%timeit model_vmap(theta_true, x_observed)"
   ]
  },
  {
   "cell_type": "code",
   "execution_count": 35,
   "metadata": {},
   "outputs": [],
   "source": [
    "# loss function - mean squared error\n",
    "def loss_fn(theta, x, y):\n",
    "  prediction = model(theta, x)\n",
    "  return jnp.mean((prediction-y)**2)"
   ]
  },
  {
   "cell_type": "code",
   "execution_count": 36,
   "metadata": {},
   "outputs": [],
   "source": [
    "# update step\n",
    "@jax.jit\n",
    "def update(theta, x, y, lr=0.01):\n",
    "  return theta - lr * grad(loss_fn)(theta, x, y)"
   ]
  },
  {
   "cell_type": "code",
   "execution_count": 37,
   "metadata": {},
   "outputs": [
    {
     "name": "stdout",
     "output_type": "stream",
     "text": [
      "[ 1.0000066 -0.9999936  2.9999955  5.0000114 -1.9999946  1.999995 ]\n",
      "[ 1. -1.  3.  5. -2.  2.]\n"
     ]
    }
   ],
   "source": [
    "# initial parateters\n",
    "theta = jnp.array([1., 1., 1., 1., 1., 1.])\n",
    "theta\n",
    "n_iterations = 1000\n",
    "lr = .01\n",
    "for i in range(n_iterations):\n",
    "    theta = update(theta, x_observed, y_observed, lr=lr)\n",
    "print(theta)\n",
    "print(theta_true)\n"
   ]
  },
  {
   "cell_type": "markdown",
   "metadata": {},
   "source": [
    "### Logistic regression classifier"
   ]
  },
  {
   "cell_type": "markdown",
   "metadata": {},
   "source": [
    "First, we create data using bivariate normal distribution."
   ]
  },
  {
   "cell_type": "code",
   "execution_count": 38,
   "metadata": {},
   "outputs": [
    {
     "data": {
      "text/plain": [
       "Array([[ 2.2076726 ,  0.6332452 ],\n",
       "       [ 0.53972983, -0.51073563],\n",
       "       [ 1.6998711 ,  1.4444137 ],\n",
       "       [-0.05809402,  1.330411  ],\n",
       "       [ 0.23326337,  0.6060622 ]], dtype=float32)"
      ]
     },
     "execution_count": 38,
     "metadata": {},
     "output_type": "execute_result"
    }
   ],
   "source": [
    "class1 = random.multivariate_normal(key,\n",
    "                           mean=jnp.array([1, 1]),\n",
    "                           cov=.5*np.array([1, .5, .5, 1]).reshape(2,2),\n",
    "                          shape=[100,])\n",
    "class1[:5,:]"
   ]
  },
  {
   "cell_type": "code",
   "execution_count": 39,
   "metadata": {},
   "outputs": [
    {
     "data": {
      "text/plain": [
       "<matplotlib.collections.PathCollection at 0x7f8678cf8940>"
      ]
     },
     "execution_count": 39,
     "metadata": {},
     "output_type": "execute_result"
    },
    {
     "data": {
      "image/png": "[encoded data removed]",
      "text/plain": [
       "<Figure size 432x288 with 1 Axes>"
      ]
     },
     "metadata": {
      "needs_background": "light"
     },
     "output_type": "display_data"
    }
   ],
   "source": [
    "plt.scatter(class1[:, 0], class1[:, 1])"
   ]
  },
  {
   "cell_type": "code",
   "execution_count": 40,
   "metadata": {},
   "outputs": [
    {
     "data": {
      "text/plain": [
       "Array([[3.4657753, 3.195562 ],\n",
       "       [2.5691884, 3.163034 ],\n",
       "       [2.985951 , 2.7663414],\n",
       "       [2.1083503, 2.027696 ],\n",
       "       [2.6487987, 2.8870454]], dtype=float32)"
      ]
     },
     "execution_count": 40,
     "metadata": {},
     "output_type": "execute_result"
    }
   ],
   "source": [
    "key, subkey = random.split(key)\n",
    "class2 = random.multivariate_normal(key,\n",
    "                           mean=jnp.array([3, 3]),\n",
    "                           cov=.25*np.array([1, .7, .7, 1]).reshape(2,2),\n",
    "                          shape=[100,])\n",
    "class2[:5,:]"
   ]
  },
  {
   "cell_type": "code",
   "execution_count": 41,
   "metadata": {},
   "outputs": [
    {
     "data": {
      "text/plain": [
       "<matplotlib.legend.Legend at 0x7f86799225f0>"
      ]
     },
     "execution_count": 41,
     "metadata": {},
     "output_type": "execute_result"
    },
    {
     "data": {
      "image/png": "[encoded data removed]",
      "text/plain": [
       "<Figure size 432x288 with 1 Axes>"
      ]
     },
     "metadata": {
      "needs_background": "light"
     },
     "output_type": "display_data"
    }
   ],
   "source": [
    "\n",
    "fig = plt.figure()\n",
    "ax1 = fig.add_subplot(111)\n",
    "\n",
    "ax1.scatter(class1[:, 0], class1[:, 1], s=10, c='b', marker=\"s\", label='class1')\n",
    "ax1.scatter(class2[:, 0], class2[:, 1], s=10, c='r', marker=\"s\", label='class2')\n",
    "plt.title('Two classes')\n",
    "plt.legend()\n"
   ]
  },
  {
   "cell_type": "markdown",
   "metadata": {},
   "source": [
    "Logistic regression models the probability of belonging to $class1$ as\n",
    "$$\n",
    "p = \\frac{1}{1+e^{-(wx + b)}},\n",
    "$$\n",
    "where, in our case, $w = (w_1, w_2), x = (x_1, x_2)$, and $b$ is a scalar.\n",
    "The loss function at $p_k, y_k$ is defined as \n",
    "\n",
    "$$\n",
    "\\left\\{\n",
    "\\begin{array}{l}\n",
    "      -log(p_k),\\ if\\  y_k = 1\\ \\    (class 1),\\\\\n",
    "      -log(1-p_k),\\ if\\  y_k=0 \\ \\    (class 2).\n",
    "      \\end{array}\n",
    "  \\right.\n",
    "$$\n",
    "Combining, we get cross entropy loss function\n",
    "\n",
    "$$\n",
    "L = -\\Sigma_1^N (y_k\\log(p_k) + (1-y_k)log(1-p_k)).\n",
    "$$"
   ]
  },
  {
   "cell_type": "code",
   "execution_count": 42,
   "metadata": {},
   "outputs": [],
   "source": [
    "# implement functions\n",
    "@jax.jit\n",
    "def sigmoid(t):\n",
    "    return 1/(1 + jnp.exp(-t))\n",
    "\n",
    "@jax.jit\n",
    "def model(theta, x):\n",
    "    w = theta[:-1]\n",
    "    b = theta[-1]\n",
    "    t = jnp.dot(w, x) + b\n",
    "    p = sigmoid(t)\n",
    "    return p\n",
    "\n",
    "# loss function - cross entropy\n",
    "def loss_fn(theta, x, y):\n",
    "  p = model(theta, x)\n",
    "#  print(theta.dtype)\n",
    "#  print(y.dtype)\n",
    "# print(y*(jnp.log(p) + (1-y)*jnp.log(1-p)))    \n",
    "  return -jnp.mean(y*jnp.log(p) + (1-y)*jnp.log(1-p))\n",
    "\n",
    "# update step\n",
    "@jax.jit\n",
    "def update(theta, x, y, lr=0.01):\n",
    "  return theta - lr * grad(loss_fn)(theta, x, y)"
   ]
  },
  {
   "cell_type": "code",
   "execution_count": 43,
   "metadata": {},
   "outputs": [
    {
     "data": {
      "text/plain": [
       "Array([[ 2.2076726 ,  0.6332452 ],\n",
       "       [ 0.53972983, -0.51073563],\n",
       "       [ 1.6998711 ,  1.4444137 ],\n",
       "       [-0.05809402,  1.330411  ],\n",
       "       [ 0.23326337,  0.6060622 ]], dtype=float32)"
      ]
     },
     "execution_count": 43,
     "metadata": {},
     "output_type": "execute_result"
    }
   ],
   "source": [
    "class1[:5, :]"
   ]
  },
  {
   "cell_type": "code",
   "execution_count": 44,
   "metadata": {},
   "outputs": [
    {
     "data": {
      "text/plain": [
       "Array([0.97897756, 0.73672086, 0.98439276, 0.9065582 , 0.8628689 ],      dtype=float32)"
      ]
     },
     "execution_count": 44,
     "metadata": {},
     "output_type": "execute_result"
    }
   ],
   "source": [
    "theta = np.array([1., 1., 1.])\n",
    "model(theta, class1[:5, :].transpose())"
   ]
  },
  {
   "cell_type": "code",
   "execution_count": 47,
   "metadata": {},
   "outputs": [],
   "source": [
    "#loss_fn(theta, data[:,:-1].transpose(), lbl)"
   ]
  },
  {
   "cell_type": "code",
   "execution_count": 48,
   "metadata": {},
   "outputs": [
    {
     "data": {
      "text/plain": [
       "3.5610647238290882"
      ]
     },
     "execution_count": 48,
     "metadata": {},
     "output_type": "execute_result"
    }
   ],
   "source": [
    "# alternative cross entropy function\n",
    "from sklearn.metrics import log_loss\n",
    "lbl = jnp.concatenate((jnp.ones(shape=(len(class1),)), jnp.zeros(shape=(len(class2),))))\n",
    "data = jnp.column_stack((jnp.row_stack((class1, class2)), lbl))\n",
    "log_loss(lbl, model(theta, data[:,:-1].transpose()))"
   ]
  },
  {
   "cell_type": "code",
   "execution_count": 49,
   "metadata": {},
   "outputs": [],
   "source": [
    "def BinaryCrossEntropy(y_true, y_pred):\n",
    "    y_pred = np.clip(y_pred, 1e-7, 1 - 1e-7)\n",
    "    term_0 = (1-y_true) * np.log(1-y_pred + 1e-7)\n",
    "    term_1 = y_true * np.log(y_pred + 1e-7)\n",
    "    return -np.mean(term_0+term_1, axis=0)"
   ]
  },
  {
   "cell_type": "code",
   "execution_count": 50,
   "metadata": {},
   "outputs": [
    {
     "data": {
      "text/plain": [
       "Array(3.5609667, dtype=float32)"
      ]
     },
     "execution_count": 50,
     "metadata": {},
     "output_type": "execute_result"
    }
   ],
   "source": [
    "BinaryCrossEntropy(lbl, model(theta, data[:,:-1].transpose()))"
   ]
  },
  {
   "cell_type": "code",
   "execution_count": null,
   "metadata": {},
   "outputs": [],
   "source": []
  },
  {
   "cell_type": "code",
   "execution_count": 51,
   "metadata": {},
   "outputs": [
    {
     "data": {
      "text/plain": [
       "Array([1.0003867, 1.0003953, 1.0009131], dtype=float32)"
      ]
     },
     "execution_count": 51,
     "metadata": {},
     "output_type": "execute_result"
    }
   ],
   "source": [
    "update(theta, class1[:, :].transpose(), jnp.ones(shape=(len(class1),)))"
   ]
  },
  {
   "cell_type": "code",
   "execution_count": 52,
   "metadata": {},
   "outputs": [
    {
     "name": "stdout",
     "output_type": "stream",
     "text": [
      "(200, 3)\n",
      "[[ 2.2076726   0.6332452   1.        ]\n",
      " [ 0.53972983 -0.51073563  1.        ]\n",
      " [ 1.6998711   1.4444137   1.        ]\n",
      " [-0.05809402  1.330411    1.        ]\n",
      " [ 0.23326337  0.6060622   1.        ]]\n",
      "[[3.8604279 4.300192  0.       ]\n",
      " [3.019225  2.9260416 0.       ]\n",
      " [3.8114538 3.4090698 0.       ]\n",
      " [3.5774093 3.9309077 0.       ]\n",
      " [1.5694052 1.8653797 0.       ]]\n"
     ]
    }
   ],
   "source": [
    "#input data\n",
    "lbl = jnp.concatenate((jnp.ones(shape=(len(class1),)), jnp.zeros(shape=(len(class2),))))\n",
    "data = jnp.column_stack((jnp.row_stack((class1, class2)), lbl))\n",
    "print(data.shape)\n",
    "print(data[:5, :])\n",
    "print(data[-5:, :])\n",
    "# train/test split\n",
    "X_train, X_test, y_train, y_test = train_test_split(\n",
    "    data[:,:-1], \n",
    "    data[:,-1], \n",
    "    test_size=0.3, random_state=212\n",
    ")"
   ]
  },
  {
   "cell_type": "code",
   "execution_count": 53,
   "metadata": {},
   "outputs": [
    {
     "name": "stdout",
     "output_type": "stream",
     "text": [
      "(140, 2)\n",
      "(60, 2)\n",
      "(140,)\n",
      "(60,)\n",
      "30.0\n"
     ]
    }
   ],
   "source": [
    "print(X_train.shape)\n",
    "print(X_test.shape)\n",
    "print(y_train.shape)\n",
    "print(y_test.shape)\n",
    "print(y_test.sum())"
   ]
  },
  {
   "cell_type": "code",
   "execution_count": 54,
   "metadata": {},
   "outputs": [
    {
     "name": "stdout",
     "output_type": "stream",
     "text": [
      "[-1.5511609 -1.0677812  5.084245 ]\n"
     ]
    }
   ],
   "source": [
    "# fit parameters\n",
    "# initial parateters\n",
    "theta = jnp.array([1., 1., 1.])\n",
    "n_iterations = 1000\n",
    "lr = .1\n",
    "for i in range(n_iterations):\n",
    "    #print(theta)\n",
    "    theta = update(theta, X_train.transpose(), y_train, lr=lr)\n",
    "    #print(loss_fn(theta, X_train.transpose(), y_train))\n",
    "print(theta)"
   ]
  },
  {
   "cell_type": "code",
   "execution_count": 55,
   "metadata": {},
   "outputs": [
    {
     "data": {
      "text/plain": [
       "Array([[0.20930234, 0.        ],\n",
       "       [0.9831487 , 1.        ],\n",
       "       [0.00866498, 0.        ],\n",
       "       [0.02403557, 0.        ],\n",
       "       [0.9526377 , 1.        ],\n",
       "       [0.02701292, 0.        ],\n",
       "       [0.25623667, 1.        ],\n",
       "       [0.07659077, 0.        ],\n",
       "       [0.11618116, 0.        ],\n",
       "       [0.06938237, 0.        ],\n",
       "       [0.20087484, 0.        ],\n",
       "       [0.990144  , 1.        ],\n",
       "       [0.08447833, 0.        ],\n",
       "       [0.07320185, 0.        ],\n",
       "       [0.4130719 , 0.        ],\n",
       "       [0.8133388 , 1.        ],\n",
       "       [0.01310753, 0.        ],\n",
       "       [0.9780342 , 1.        ],\n",
       "       [0.85499614, 1.        ],\n",
       "       [0.01387923, 0.        ],\n",
       "       [0.17093155, 0.        ],\n",
       "       [0.00493845, 0.        ],\n",
       "       [0.02507334, 0.        ],\n",
       "       [0.03229025, 0.        ],\n",
       "       [0.979902  , 1.        ],\n",
       "       [0.9336192 , 1.        ],\n",
       "       [0.00937117, 0.        ],\n",
       "       [0.00810273, 0.        ],\n",
       "       [0.20283605, 0.        ],\n",
       "       [0.18599209, 0.        ],\n",
       "       [0.6850621 , 1.        ],\n",
       "       [0.12275984, 0.        ],\n",
       "       [0.47053397, 1.        ],\n",
       "       [0.02821917, 0.        ],\n",
       "       [0.8214896 , 1.        ],\n",
       "       [0.30912971, 0.        ],\n",
       "       [0.92579305, 1.        ],\n",
       "       [0.24678685, 0.        ],\n",
       "       [0.09550897, 0.        ],\n",
       "       [0.03726637, 0.        ],\n",
       "       [0.04642823, 0.        ],\n",
       "       [0.9962125 , 1.        ],\n",
       "       [0.953836  , 1.        ],\n",
       "       [0.14241926, 0.        ],\n",
       "       [0.9116624 , 1.        ],\n",
       "       [0.8526776 , 1.        ],\n",
       "       [0.47173527, 1.        ],\n",
       "       [0.01977437, 0.        ],\n",
       "       [0.9378697 , 1.        ],\n",
       "       [0.93077815, 1.        ],\n",
       "       [0.9911907 , 1.        ],\n",
       "       [0.9925931 , 1.        ],\n",
       "       [0.00715944, 0.        ],\n",
       "       [0.00833832, 0.        ],\n",
       "       [0.9630569 , 1.        ],\n",
       "       [0.99278766, 1.        ],\n",
       "       [0.91357356, 1.        ],\n",
       "       [0.77325404, 1.        ],\n",
       "       [0.93291765, 1.        ],\n",
       "       [0.01911535, 0.        ],\n",
       "       [0.03101579, 0.        ],\n",
       "       [0.1309674 , 0.        ],\n",
       "       [0.9116447 , 1.        ],\n",
       "       [0.02948308, 0.        ],\n",
       "       [0.07576761, 0.        ],\n",
       "       [0.9874019 , 1.        ],\n",
       "       [0.03718635, 0.        ],\n",
       "       [0.9906651 , 1.        ],\n",
       "       [0.9735516 , 1.        ],\n",
       "       [0.9771071 , 1.        ],\n",
       "       [0.14473772, 1.        ],\n",
       "       [0.9468036 , 1.        ],\n",
       "       [0.05280567, 0.        ],\n",
       "       [0.0327285 , 0.        ],\n",
       "       [0.3871608 , 0.        ],\n",
       "       [0.9926703 , 1.        ],\n",
       "       [0.9759458 , 1.        ],\n",
       "       [0.00935689, 0.        ],\n",
       "       [0.3091611 , 1.        ],\n",
       "       [0.9878928 , 1.        ],\n",
       "       [0.01046009, 0.        ],\n",
       "       [0.9953864 , 1.        ],\n",
       "       [0.20170687, 0.        ],\n",
       "       [0.679963  , 1.        ],\n",
       "       [0.9859351 , 1.        ],\n",
       "       [0.27097362, 0.        ],\n",
       "       [0.82303315, 1.        ],\n",
       "       [0.04447253, 0.        ],\n",
       "       [0.9839408 , 1.        ],\n",
       "       [0.837014  , 1.        ],\n",
       "       [0.01014234, 0.        ],\n",
       "       [0.27063134, 0.        ],\n",
       "       [0.03646781, 0.        ],\n",
       "       [0.17107992, 0.        ],\n",
       "       [0.59205705, 1.        ],\n",
       "       [0.31038594, 1.        ],\n",
       "       [0.1414081 , 0.        ],\n",
       "       [0.03821869, 0.        ],\n",
       "       [0.01537895, 0.        ],\n",
       "       [0.02159291, 0.        ],\n",
       "       [0.9909122 , 1.        ],\n",
       "       [0.06806694, 0.        ],\n",
       "       [0.00863714, 0.        ],\n",
       "       [0.9592311 , 1.        ],\n",
       "       [0.05721784, 0.        ],\n",
       "       [0.98180676, 1.        ],\n",
       "       [0.9292115 , 1.        ],\n",
       "       [0.44139445, 1.        ],\n",
       "       [0.95831746, 1.        ],\n",
       "       [0.1138899 , 0.        ],\n",
       "       [0.97724074, 1.        ],\n",
       "       [0.9015369 , 1.        ],\n",
       "       [0.9405357 , 1.        ],\n",
       "       [0.9542388 , 1.        ],\n",
       "       [0.87796   , 1.        ],\n",
       "       [0.960313  , 1.        ],\n",
       "       [0.96919525, 1.        ],\n",
       "       [0.23939425, 0.        ],\n",
       "       [0.36147943, 0.        ],\n",
       "       [0.7278264 , 1.        ],\n",
       "       [0.9842258 , 1.        ],\n",
       "       [0.03405254, 0.        ],\n",
       "       [0.00479093, 0.        ],\n",
       "       [0.11755269, 0.        ],\n",
       "       [0.03486614, 0.        ],\n",
       "       [0.98822045, 1.        ],\n",
       "       [0.99660337, 1.        ],\n",
       "       [0.99177563, 1.        ],\n",
       "       [0.10971392, 0.        ],\n",
       "       [0.9618256 , 1.        ],\n",
       "       [0.9628743 , 1.        ],\n",
       "       [0.02852162, 0.        ],\n",
       "       [0.01133934, 0.        ],\n",
       "       [0.9738569 , 1.        ],\n",
       "       [0.00448978, 0.        ],\n",
       "       [0.00933421, 0.        ],\n",
       "       [0.9113901 , 1.        ],\n",
       "       [0.09040526, 0.        ],\n",
       "       [0.981327  , 1.        ],\n",
       "       [0.98139805, 1.        ]], dtype=float32)"
      ]
     },
     "execution_count": 55,
     "metadata": {},
     "output_type": "execute_result"
    }
   ],
   "source": [
    "jnp.column_stack((model(theta, X_train.transpose()), y_train))"
   ]
  },
  {
   "cell_type": "code",
   "execution_count": 56,
   "metadata": {},
   "outputs": [
    {
     "data": {
      "text/html": [
       "<div>\n",
       "<style scoped>\n",
       "    .dataframe tbody tr th:only-of-type {\n",
       "        vertical-align: middle;\n",
       "    }\n",
       "\n",
       "    .dataframe tbody tr th {\n",
       "        vertical-align: top;\n",
       "    }\n",
       "\n",
       "    .dataframe thead th {\n",
       "        text-align: right;\n",
       "    }\n",
       "</style>\n",
       "<table border=\"1\" class=\"dataframe\">\n",
       "  <thead>\n",
       "    <tr style=\"text-align: right;\">\n",
       "      <th></th>\n",
       "      <th>Prevalence</th>\n",
       "      <th>Sensitivity</th>\n",
       "      <th>Specificity</th>\n",
       "      <th>Accuracy</th>\n",
       "      <th>Precision</th>\n",
       "      <th>F1</th>\n",
       "      <th>FPR</th>\n",
       "      <th>MCC</th>\n",
       "      <th>AUC</th>\n",
       "      <th>LogLoss</th>\n",
       "    </tr>\n",
       "  </thead>\n",
       "  <tbody>\n",
       "    <tr>\n",
       "      <th>0</th>\n",
       "      <td>0.5</td>\n",
       "      <td>0.9</td>\n",
       "      <td>1.0</td>\n",
       "      <td>0.95</td>\n",
       "      <td>1.0</td>\n",
       "      <td>0.9474</td>\n",
       "      <td>0.0</td>\n",
       "      <td>0.9045</td>\n",
       "      <td>0.9945</td>\n",
       "      <td>0.1431</td>\n",
       "    </tr>\n",
       "  </tbody>\n",
       "</table>\n",
       "</div>"
      ],
      "text/plain": [
       "   Prevalence  Sensitivity  Specificity  Accuracy  Precision      F1  FPR  \\\n",
       "0         0.5          0.9          1.0      0.95        1.0  0.9474  0.0   \n",
       "\n",
       "      MCC     AUC  LogLoss  \n",
       "0  0.9045  0.9945   0.1431  "
      ]
     },
     "execution_count": 56,
     "metadata": {},
     "output_type": "execute_result"
    }
   ],
   "source": [
    "from usefulml.ml_utils import  binary_classification_metrics\n",
    "binary_classification_metrics(y_train,\n",
    "                              jnp.round(model(theta, X_train.transpose()), 0),\n",
    "                              model(theta, X_train.transpose()),\n",
    "                              4\n",
    "                             )"
   ]
  },
  {
   "cell_type": "code",
   "execution_count": 57,
   "metadata": {},
   "outputs": [
    {
     "data": {
      "text/html": [
       "<div>\n",
       "<style scoped>\n",
       "    .dataframe tbody tr th:only-of-type {\n",
       "        vertical-align: middle;\n",
       "    }\n",
       "\n",
       "    .dataframe tbody tr th {\n",
       "        vertical-align: top;\n",
       "    }\n",
       "\n",
       "    .dataframe thead th {\n",
       "        text-align: right;\n",
       "    }\n",
       "</style>\n",
       "<table border=\"1\" class=\"dataframe\">\n",
       "  <thead>\n",
       "    <tr style=\"text-align: right;\">\n",
       "      <th></th>\n",
       "      <th>Prevalence</th>\n",
       "      <th>Sensitivity</th>\n",
       "      <th>Specificity</th>\n",
       "      <th>Accuracy</th>\n",
       "      <th>Precision</th>\n",
       "      <th>F1</th>\n",
       "      <th>FPR</th>\n",
       "      <th>MCC</th>\n",
       "      <th>AUC</th>\n",
       "      <th>LogLoss</th>\n",
       "    </tr>\n",
       "  </thead>\n",
       "  <tbody>\n",
       "    <tr>\n",
       "      <th>0</th>\n",
       "      <td>0.5</td>\n",
       "      <td>1.0</td>\n",
       "      <td>0.9333</td>\n",
       "      <td>0.9667</td>\n",
       "      <td>0.9375</td>\n",
       "      <td>0.9677</td>\n",
       "      <td>0.0667</td>\n",
       "      <td>0.9354</td>\n",
       "      <td>0.9956</td>\n",
       "      <td>0.161</td>\n",
       "    </tr>\n",
       "  </tbody>\n",
       "</table>\n",
       "</div>"
      ],
      "text/plain": [
       "   Prevalence  Sensitivity  Specificity  Accuracy  Precision      F1     FPR  \\\n",
       "0         0.5          1.0       0.9333    0.9667     0.9375  0.9677  0.0667   \n",
       "\n",
       "      MCC     AUC  LogLoss  \n",
       "0  0.9354  0.9956    0.161  "
      ]
     },
     "execution_count": 57,
     "metadata": {},
     "output_type": "execute_result"
    }
   ],
   "source": [
    "# now for test data\n",
    "binary_classification_metrics(y_test,\n",
    "                              jnp.round(model(theta, X_test.transpose()), 0),\n",
    "                              model(theta, X_test.transpose()),\n",
    "                              4\n",
    "                             )"
   ]
  },
  {
   "cell_type": "markdown",
   "metadata": {},
   "source": [
    "Draw a decision boundary using cutoff of 0.5\n",
    "$$\n",
    "w_1x_1 + w_2x_2 + b = 0, \\newline\n",
    "x_2 = -\\frac{w_1}{w_2}x_1 - \\frac{b}{w_2}\n",
    "$$ "
   ]
  },
  {
   "cell_type": "code",
   "execution_count": 58,
   "metadata": {},
   "outputs": [
    {
     "data": {
      "text/plain": [
       "<matplotlib.legend.Legend at 0x7f865c3b7a90>"
      ]
     },
     "execution_count": 58,
     "metadata": {},
     "output_type": "execute_result"
    },
    {
     "data": {
      "image/png": "[encoded data removed]",
      "text/plain": [
       "<Figure size 432x288 with 1 Axes>"
      ]
     },
     "metadata": {
      "needs_background": "light"
     },
     "output_type": "display_data"
    }
   ],
   "source": [
    "fig = plt.figure()\n",
    "ax1 = fig.add_subplot(111)\n",
    "\n",
    "ax1.scatter(class1[:, 0], class1[:, 1], s=10, c='b', marker=\"s\", label='class1')\n",
    "ax1.scatter(class2[:, 0], class2[:, 1], s=10, c='r', marker=\"s\", label='class2')\n",
    "x1 = jnp.linspace(.5, 3.5, 50)\n",
    "x2 = ( -theta[0]*x1 - theta[2])/theta[1]\n",
    "ax1.plot(x1, x2, c='g')\n",
    "plt.title('Two classes with a decision boundary.')\n",
    "plt.legend()\n"
   ]
  },
  {
   "cell_type": "code",
   "execution_count": 59,
   "metadata": {},
   "outputs": [
    {
     "data": {
      "text/plain": [
       "Array(5.084245, dtype=float32)"
      ]
     },
     "execution_count": 59,
     "metadata": {},
     "output_type": "execute_result"
    }
   ],
   "source": [
    "theta[2]"
   ]
  },
  {
   "cell_type": "code",
   "execution_count": null,
   "metadata": {},
   "outputs": [],
   "source": []
  },
  {
   "cell_type": "markdown",
   "metadata": {},
   "source": [
    "### Fully connected neural network."
   ]
  },
  {
   "cell_type": "markdown",
   "metadata": {},
   "source": [
    "$x \\in R^n$, an input vector, transformed to a vector of length $m$ via \n",
    "$$\n",
    "x = xW + b, \\newline\n",
    "x = activation\\_function(x),\n",
    "$$\n",
    "where $W \\in R^{n\\times m}, b \\in R^m$.\n",
    "This represents one layer of the network. The final layer transforms to the dimension of the output, and in case of classsification - sigmoid.\n"
   ]
  },
  {
   "cell_type": "code",
   "execution_count": 60,
   "metadata": {},
   "outputs": [],
   "source": [
    "# A link to the data is availailable in the following blog post\n",
    "# https://scipython.com/blog/a-shallow-neural-network-for-simple-nonlinear-classification/\n",
    "df = pd.read_csv('../non_linear_class_example/labeled_points.txt', sep=' ',\n",
    "                usecols=[1,3,5], names=['x1', 'x2', 'label'])"
   ]
  },
  {
   "cell_type": "code",
   "execution_count": 61,
   "metadata": {},
   "outputs": [
    {
     "data": {
      "text/html": [
       "<div>\n",
       "<style scoped>\n",
       "    .dataframe tbody tr th:only-of-type {\n",
       "        vertical-align: middle;\n",
       "    }\n",
       "\n",
       "    .dataframe tbody tr th {\n",
       "        vertical-align: top;\n",
       "    }\n",
       "\n",
       "    .dataframe thead th {\n",
       "        text-align: right;\n",
       "    }\n",
       "</style>\n",
       "<table border=\"1\" class=\"dataframe\">\n",
       "  <thead>\n",
       "    <tr style=\"text-align: right;\">\n",
       "      <th></th>\n",
       "      <th>x1</th>\n",
       "      <th>x2</th>\n",
       "      <th>label</th>\n",
       "    </tr>\n",
       "  </thead>\n",
       "  <tbody>\n",
       "    <tr>\n",
       "      <th>0</th>\n",
       "      <td>0.50873</td>\n",
       "      <td>0.08490</td>\n",
       "      <td>1</td>\n",
       "    </tr>\n",
       "    <tr>\n",
       "      <th>1</th>\n",
       "      <td>0.96767</td>\n",
       "      <td>0.96752</td>\n",
       "      <td>1</td>\n",
       "    </tr>\n",
       "    <tr>\n",
       "      <th>2</th>\n",
       "      <td>0.72096</td>\n",
       "      <td>0.90628</td>\n",
       "      <td>1</td>\n",
       "    </tr>\n",
       "    <tr>\n",
       "      <th>3</th>\n",
       "      <td>0.66071</td>\n",
       "      <td>0.32757</td>\n",
       "      <td>1</td>\n",
       "    </tr>\n",
       "    <tr>\n",
       "      <th>4</th>\n",
       "      <td>0.48690</td>\n",
       "      <td>0.58265</td>\n",
       "      <td>0</td>\n",
       "    </tr>\n",
       "  </tbody>\n",
       "</table>\n",
       "</div>"
      ],
      "text/plain": [
       "        x1       x2  label\n",
       "0  0.50873  0.08490      1\n",
       "1  0.96767  0.96752      1\n",
       "2  0.72096  0.90628      1\n",
       "3  0.66071  0.32757      1\n",
       "4  0.48690  0.58265      0"
      ]
     },
     "execution_count": 61,
     "metadata": {},
     "output_type": "execute_result"
    }
   ],
   "source": [
    "df.head()"
   ]
  },
  {
   "cell_type": "code",
   "execution_count": 62,
   "metadata": {},
   "outputs": [
    {
     "data": {
      "text/plain": [
       "<matplotlib.legend.Legend at 0x7f865c6576d0>"
      ]
     },
     "execution_count": 62,
     "metadata": {},
     "output_type": "execute_result"
    },
    {
     "data": {
      "image/png": "[encoded data removed]",
      "text/plain": [
       "<Figure size 432x288 with 1 Axes>"
      ]
     },
     "metadata": {
      "needs_background": "light"
     },
     "output_type": "display_data"
    }
   ],
   "source": [
    "fig = plt.figure()\n",
    "ax1 = fig.add_subplot(111)\n",
    "df_cl1 = df[df.label == 0]\n",
    "df_cl2 = df[df.label == 1]\n",
    "ax1.scatter(df_cl1.x1, df_cl1.x2, s=5, c='b', marker=\"s\", label='class1')\n",
    "ax1.scatter(df_cl2.x1, df_cl2.x2, s=5, c='r', marker=\"s\", label='class2')\n",
    "fig.tight_layout()\n",
    "plt.title('Two classes')\n",
    "plt.legend()\n"
   ]
  },
  {
   "cell_type": "code",
   "execution_count": 63,
   "metadata": {},
   "outputs": [],
   "source": [
    "# implement functions\n",
    "@jax.jit\n",
    "def sigmoid(t):\n",
    "    return 1/(1 + jnp.exp(-t))\n",
    "\n",
    "@jax.jit\n",
    "def tanh(x):\n",
    "    return jnp.tanh(x)\n",
    "\n",
    "#@jax.jit\n",
    "# def model(theta, x):\n",
    "#     W, b, w_o = theta\n",
    "#     y = jnp.dot(x, W) + b # input dim = 2, W is 2xN, N - num hidden neurons, b is dim N\n",
    "#     y = tanh(y)  # vector dim N\n",
    "#     y = jnp.dot(y, w_o)  # w_o is Nx1, output layer is a scalar\n",
    "#     p = sigmoid(y)  # map to (0, 1)\n",
    "#     return p\n",
    "\n",
    "#2 hidden layers\n",
    "@jax.jit\n",
    "def model(theta, x):\n",
    "    W, b, W1, b1, w_o = theta\n",
    "    y = jnp.dot(x, W) + b # input dim = 2, W is 2xN, N - num hidden neurons, b is dim N\n",
    "    y = tanh(y)  # vector dim N\n",
    "    y = jnp.dot(y, W1) + b1 # input dim = N, W is NxN, N - num hidden neurons, b is dim N\n",
    "    y = tanh(y)  # vector dim N\n",
    "    y = jnp.dot(y, w_o)  # w_o is Nx1, output layer is a scalar\n",
    "    p = sigmoid(y)  # map to (0, 1)\n",
    "    return p\n",
    "\n",
    "# loss function - cross entropy\n",
    "def loss_fn(theta, x, y):\n",
    "  p = model(theta, x)\n",
    "  return -jnp.mean(y*jnp.log(p) + (1-y)*jnp.log(1-p))\n",
    "\n",
    "# update step\n",
    "# handle the updates\n",
    "@jax.jit\n",
    "def update(theta, x, y, lr=0.01):\n",
    "    W, b, W1, b1, w_o = theta\n",
    "    gr_W, gr_b, gr_W1, gr_b1, gr_w_o = grad(loss_fn)(theta, x, y)\n",
    "    return (W - lr * gr_W, b - lr * gr_b, W1 - lr * gr_W1, b1 - lr * gr_b1, w_o - lr * gr_w_o)"
   ]
  },
  {
   "cell_type": "code",
   "execution_count": 64,
   "metadata": {},
   "outputs": [
    {
     "name": "stdout",
     "output_type": "stream",
     "text": [
      "(2506, 2)\n",
      "(2506,)\n"
     ]
    }
   ],
   "source": [
    "# lets see how grad works\n",
    "x = jnp.array(df[['x1', 'x2']])\n",
    "y = jnp.array(df['label'])\n",
    "print(x.shape)\n",
    "print(y.shape)"
   ]
  },
  {
   "cell_type": "code",
   "execution_count": 65,
   "metadata": {},
   "outputs": [
    {
     "name": "stdout",
     "output_type": "stream",
     "text": [
      "[0.50873 0.0849 ]\n",
      "init inputs with random numbers:\n",
      "dimensions:\n",
      "W: (2, 10)\n",
      "b: (1, 10)\n",
      "W1: (10, 10)\n",
      "b1: (1, 10)\n",
      "w: (10, 1)\n",
      "model:\n",
      "[[0.500121  ]\n",
      " [0.5001213 ]\n",
      " [0.5001215 ]\n",
      " [0.50012106]\n",
      " [0.5001215 ]\n",
      " [0.50012153]\n",
      " [0.50012046]\n",
      " [0.5001213 ]\n",
      " [0.5001212 ]\n",
      " [0.5001213 ]]\n",
      "loss function:\n",
      "0.6930502\n",
      "gradient dim:\n",
      "[(2, 10), (1, 10), (10, 10), (1, 10), (10, 1)]\n"
     ]
    }
   ],
   "source": [
    "#first point\n",
    "print(x[0])\n",
    "# W dim\n",
    "input_dim = 2\n",
    "hidden_dim = 10\n",
    "#key = jax.random.PRNGKey(42)\n",
    "#key, subkey = random.split(key)\n",
    "#print(random.normal(subkey, shape=(5,)))\n",
    "print('init inputs with random numbers:')\n",
    "W = jax.random.normal(key, shape=(input_dim, hidden_dim)) * .01\n",
    "b = jax.random.normal(key, shape=(1, hidden_dim)) * .01\n",
    "W1 = jax.random.normal(key, shape=(hidden_dim, hidden_dim)) * .01\n",
    "b1 = jax.random.normal(key, shape=(1, hidden_dim)) * .01\n",
    "w = jax.random.normal(key, shape=(hidden_dim, 1)) * .01\n",
    "print('dimensions:')\n",
    "print('W:', W.shape)\n",
    "print('b:', b.shape)\n",
    "print('W1:', W1.shape)\n",
    "print('b1:', b1.shape)\n",
    "print('w:', w.shape)\n",
    "print('model:')\n",
    "print(model((W, b, W1, b1, w), x[0:10]))\n",
    "print('loss function:')\n",
    "print(loss_fn((W, b, W1, b1, w), x[0:10], y[0:10]))\n",
    "print('gradient dim:')\n",
    "print(list(map(lambda i: i.shape, grad(loss_fn)((W, b, W1, b1, w), x[0:5], y[0:5]))))"
   ]
  },
  {
   "cell_type": "code",
   "execution_count": 66,
   "metadata": {},
   "outputs": [
    {
     "name": "stdout",
     "output_type": "stream",
     "text": [
      "[(1754, 2), (752, 2), (1754,), (752,)]\n",
      "1051 451\n"
     ]
    }
   ],
   "source": [
    "# split the data\n",
    "X_train, X_test, y_train, y_test = train_test_split(\n",
    "    x, \n",
    "    y,\n",
    "    stratify=y,\n",
    "    test_size=0.3, random_state=212\n",
    ")\n",
    "print(list(map(lambda i: i.shape, (X_train, X_test, y_train, y_test))))\n",
    "print(y_train.sum(), y_test.sum())"
   ]
  },
  {
   "cell_type": "code",
   "execution_count": 67,
   "metadata": {},
   "outputs": [
    {
     "name": "stdout",
     "output_type": "stream",
     "text": [
      "Initial parameters:\n",
      "(Array([[ 6.9056982e-03,  2.0546889e-02,  3.0855844e-03, -1.9563239e-02,\n",
      "         1.3135438e-02,  7.3980745e-03,  3.3009914e-03,  5.7546115e-03,\n",
      "        -5.0278604e-03, -5.0521867e-06],\n",
      "       [ 1.9147096e-02, -3.0574058e-03,  1.5100390e-03, -6.7560915e-03,\n",
      "         8.8257054e-03,  3.5839947e-04, -4.3939496e-03,  9.4707329e-03,\n",
      "         1.2318322e-02, -9.1858662e-04]], dtype=float32), Array([[-0.00263982, -0.00850684, -0.00018801, -0.00092177,  0.00396955,\n",
      "        -0.00661077,  0.00506398, -0.00301285, -0.01707132,  0.00432915]],      dtype=float32), Array([[-9.67075676e-03, -1.30032785e-02,  7.13126361e-03,\n",
      "        -3.38842464e-03,  1.83017030e-02, -2.00674706e-03,\n",
      "         1.07202781e-02,  7.59253418e-03,  3.54917790e-03,\n",
      "        -1.02124820e-02],\n",
      "       [ 1.67941265e-02, -4.64424677e-03,  1.69534422e-02,\n",
      "         1.37889320e-02,  2.57551018e-02,  6.93527795e-03,\n",
      "         1.18399486e-02,  2.11708825e-02,  1.61819272e-02,\n",
      "        -4.87724692e-03],\n",
      "       [-1.23170288e-02,  1.70508232e-02,  3.24264081e-04,\n",
      "         1.33420061e-02,  3.15965246e-03,  8.19055829e-03,\n",
      "         2.28934381e-02, -7.97515549e-03,  5.19515132e-04,\n",
      "         3.02021229e-03],\n",
      "       [ 2.70191091e-03,  1.11501468e-02, -2.66739726e-03,\n",
      "         1.33147677e-02,  7.77659658e-03, -1.63228542e-03,\n",
      "         1.56675768e-03, -6.20109262e-03, -1.28900423e-03,\n",
      "         3.32386745e-03],\n",
      "       [ 7.39039388e-05, -3.32756387e-03,  9.13196336e-03,\n",
      "        -2.66315555e-03,  2.58192141e-03,  2.84685241e-03,\n",
      "        -1.72791642e-03, -7.40701007e-03,  6.71461457e-03,\n",
      "         1.25324642e-02],\n",
      "       [-1.15633793e-02,  1.04010606e-03, -1.44594461e-02,\n",
      "        -1.13336882e-02,  2.60042516e-03, -1.57321077e-02,\n",
      "         4.17950749e-03, -8.19056109e-03,  6.38282392e-03,\n",
      "         1.70980440e-03],\n",
      "       [ 5.87811740e-03,  2.01056842e-02,  1.21608777e-02,\n",
      "         9.55741096e-04, -8.28392338e-03, -6.53289538e-03,\n",
      "         9.79260635e-03,  1.22218570e-02, -4.98434994e-04,\n",
      "        -1.08414143e-02],\n",
      "       [ 4.42614965e-03, -9.76886600e-03, -4.43746848e-03,\n",
      "        -2.98396614e-03, -9.74355440e-04,  1.08418362e-02,\n",
      "        -3.31094675e-03,  1.15601369e-03,  4.96566645e-04,\n",
      "        -7.52798980e-04],\n",
      "       [ 3.26227932e-03,  1.03465440e-02, -5.48979826e-03,\n",
      "        -1.07729656e-03,  6.70996204e-04,  6.41490740e-04,\n",
      "        -1.89834915e-03, -9.72689304e-04, -6.22175261e-03,\n",
      "        -7.84468837e-03],\n",
      "       [-1.13845952e-02,  6.40853215e-03,  8.62701144e-03,\n",
      "        -1.41662657e-02,  1.59937907e-02, -1.14652636e-02,\n",
      "         3.35223507e-03,  9.06975567e-03, -5.46709821e-03,\n",
      "         4.58644424e-03]], dtype=float32), Array([[-0.00263982, -0.00850684, -0.00018801, -0.00092177,  0.00396955,\n",
      "        -0.00661077,  0.00506398, -0.00301285, -0.01707132,  0.00432915]],      dtype=float32), Array([[-0.00263982],\n",
      "       [-0.00850684],\n",
      "       [-0.00018801],\n",
      "       [-0.00092177],\n",
      "       [ 0.00396955],\n",
      "       [-0.00661077],\n",
      "       [ 0.00506398],\n",
      "       [-0.00301285],\n",
      "       [-0.01707132],\n",
      "       [ 0.00432915]], dtype=float32))\n",
      "0.6930889 0.69308835\n",
      "0.69307667 0.6930767\n",
      "0.693063 0.693062\n",
      "0.69304425 0.6930438\n",
      "0.6930236 0.693023\n",
      "0.69299793 0.69299626\n",
      "0.69296706 0.69296545\n",
      "0.69293 0.69292897\n",
      "0.69288516 0.6928836\n",
      "0.6928306 0.6928288\n",
      "0.6927651 0.69276375\n",
      "0.69268775 0.6926852\n",
      "0.69259447 0.6925915\n",
      "0.6924812 0.6924773\n",
      "0.69234747 0.692343\n",
      "0.69218606 0.69218117\n",
      "0.6919944 0.69198817\n",
      "0.6917684 0.69176096\n",
      "0.6914992 0.6914899\n",
      "0.6911822 0.69117117\n",
      "0.69080985 0.69079715\n",
      "0.69037557 0.69036025\n",
      "0.6898724 0.68985367\n",
      "0.68929267 0.6892711\n",
      "0.68863344 0.68860793\n",
      "0.68789154 0.68786067\n",
      "0.6870634 0.6870279\n",
      "0.6861561 0.68611383\n",
      "0.68517435 0.68512636\n",
      "0.6841337 0.684078\n",
      "0.6830508 0.6829868\n",
      "0.6819482 0.68187505\n",
      "0.68085 0.68076825\n",
      "0.679785 0.6796931\n",
      "0.6787761 0.67867434\n",
      "0.67784595 0.67773426\n",
      "0.67700946 0.67688835\n",
      "0.67627835 0.6761475\n",
      "0.67565465 0.675514\n",
      "0.675134 0.6749852\n",
      "0.6747101 0.674553\n",
      "0.6743726 0.67420775\n",
      "0.6741082 0.6739362\n",
      "0.6739048 0.6737277\n",
      "0.6737506 0.6735682\n",
      "0.6736358 0.6734484\n",
      "0.6735507 0.6733596\n",
      "0.6734886 0.6732939\n",
      "0.67344385 0.67324615\n",
      "0.67341197 0.67321146\n",
      "0.67338896 0.67318624\n",
      "0.6733723 0.67316777\n",
      "0.67336065 0.6731548\n",
      "0.6733525 0.67314523\n",
      "0.6733471 0.67313826\n",
      "0.67334354 0.67313415\n",
      "0.6733404 0.6731301\n",
      "0.67333806 0.67312723\n",
      "0.6733369 0.6731255\n",
      "0.67333585 0.67312443\n",
      "0.6733355 0.67312294\n",
      "0.673335 0.67312217\n",
      "0.6733349 0.6731218\n",
      "0.6733345 0.6731216\n",
      "0.67333436 0.6731211\n",
      "0.673334 0.6731211\n",
      "0.6733343 0.67312074\n",
      "0.6733343 0.6731209\n",
      "0.6733345 0.6731205\n",
      "0.6733337 0.6731202\n",
      "0.6733341 0.67312014\n",
      "0.6733339 0.6731205\n",
      "0.6733336 0.67312014\n",
      "0.67333364 0.67311984\n",
      "0.6733339 0.67312014\n",
      "0.673334 0.67312\n",
      "0.6733342 0.6731201\n",
      "0.67333424 0.6731202\n",
      "0.67333406 0.6731201\n",
      "0.67333406 0.6731202\n",
      "0.673334 0.67312026\n",
      "0.6733341 0.67312026\n",
      "0.67333406 0.6731202\n",
      "0.6733341 0.6731203\n",
      "0.6733341 0.67312026\n",
      "0.6733342 0.67312014\n",
      "0.6733341 0.6731201\n",
      "0.67333424 0.67312014\n",
      "0.67333424 0.67312\n",
      "0.6733342 0.67312\n",
      "0.67333424 0.67312014\n",
      "0.67333424 0.6731202\n",
      "0.67333424 0.6731202\n",
      "0.67333424 0.67312014\n",
      "0.67333424 0.67312014\n",
      "0.67333424 0.6731202\n",
      "0.6733343 0.6731202\n",
      "0.6733343 0.67312014\n",
      "0.67333424 0.6731202\n",
      "0.67333424 0.6731202\n",
      "Calibrated parameters:\n",
      "(Array([[ 0.01036755,  0.01680801,  0.00296065, -0.02107829,  0.01430222,\n",
      "         0.008721  ,  0.00051726,  0.00566574, -0.00697074,  0.00393359],\n",
      "       [ 0.02254888, -0.00673172,  0.0013872 , -0.00824484,  0.00997208,\n",
      "         0.00165857, -0.00712981,  0.00938331,  0.01040906,  0.00295211]],      dtype=float32), Array([[ 0.00444291, -0.0161535 , -0.00044328, -0.00402256,  0.00635823,\n",
      "        -0.00390471, -0.00062968, -0.00319414, -0.02104727,  0.01238574]],      dtype=float32), Array([[-0.01084167, -0.01661296,  0.00713752, -0.00384106,  0.02002005,\n",
      "        -0.00477894,  0.01290067,  0.00633693, -0.00296832, -0.00834589],\n",
      "       [ 0.01723563, -0.00329561,  0.01695053,  0.0139602 ,  0.02510852,\n",
      "         0.00797448,  0.01102071,  0.02164346,  0.01856081, -0.0055793 ],\n",
      "       [-0.01245916,  0.01660988,  0.0003249 ,  0.0132872 ,  0.00336853,\n",
      "         0.0078527 ,  0.02315875, -0.00812775, -0.00028914,  0.00324718],\n",
      "       [ 0.00394732,  0.01500048, -0.00267359,  0.01379569,  0.00594774,\n",
      "         0.00132159, -0.0007549 , -0.00486488,  0.00571213,  0.001337  ],\n",
      "       [-0.00119449, -0.00725088,  0.00913818, -0.00315286,  0.00444474,\n",
      "        -0.00016247,  0.00063704, -0.00876802, -0.00042773,  0.01455628],\n",
      "       [-0.01148853,  0.00127868, -0.01445953, -0.01130511,  0.00248974,\n",
      "        -0.01555114,  0.00403832, -0.00810979,  0.00684827,  0.00158941],\n",
      "       [ 0.00584336,  0.01998387,  0.01216044,  0.00094299, -0.00823133,\n",
      "        -0.00662227,  0.00986073,  0.01218362, -0.0007839 , -0.01078396],\n",
      "       [ 0.00409654, -0.01079039, -0.00443593, -0.00311113, -0.00049007,\n",
      "         0.01005885, -0.00269592,  0.00080221, -0.00137219, -0.00022661],\n",
      "       [ 0.004542  ,  0.01430092, -0.00549624, -0.00058304, -0.00120803,\n",
      "         0.00367572, -0.00428349,  0.0004002 ,  0.00095899, -0.009886  ],\n",
      "       [-0.01214575,  0.0040707 ,  0.00863145, -0.01446091,  0.01710986,\n",
      "        -0.01326311,  0.00476758,  0.00825414, -0.00964931,  0.0057986 ]],      dtype=float32), Array([[-8.39982629e-02, -2.60558873e-01,  2.01087561e-04,\n",
      "        -3.23181748e-02,  1.23495914e-01, -1.99820146e-01,\n",
      "         1.56846702e-01, -9.03305858e-02, -4.77649778e-01,\n",
      "         1.34192809e-01]], dtype=float32), Array([[-0.08455124],\n",
      "       [-0.2640823 ],\n",
      "       [ 0.00055356],\n",
      "       [-0.03279483],\n",
      "       [ 0.12404271],\n",
      "       [-0.20127091],\n",
      "       [ 0.15768047],\n",
      "       [-0.09042153],\n",
      "       [-0.49573582],\n",
      "       [ 0.13483933]], dtype=float32))\n"
     ]
    }
   ],
   "source": [
    "theta = (W, b, W1, b1, w)\n",
    "print('Initial parameters:')\n",
    "print(theta)\n",
    "n_iterations = 100\n",
    "lr = 1\n",
    "for i in range(n_iterations):\n",
    "    #print(theta)\n",
    "    theta = update(theta, X_train, y_train, lr=lr)\n",
    "    print(loss_fn(theta, X_train, y_train), loss_fn(theta, X_test, y_test))\n",
    "print('Calibrated parameters:')\n",
    "print(theta)"
   ]
  },
  {
   "cell_type": "code",
   "execution_count": 68,
   "metadata": {},
   "outputs": [
    {
     "name": "stderr",
     "output_type": "stream",
     "text": [
      "/Users/andrei.salomatov/miniconda3/envs/options/lib/python3.10/site-packages/usefulml/ml_utils.py:100: RuntimeWarning: invalid value encountered in scalar divide\n",
      "  'MCC': [(TP * TN - FP * FN)/((TP + FP) * (FN + TN) * (FP + TN) * (TP + FN))**0.5],\n"
     ]
    },
    {
     "data": {
      "text/html": [
       "<div>\n",
       "<style scoped>\n",
       "    .dataframe tbody tr th:only-of-type {\n",
       "        vertical-align: middle;\n",
       "    }\n",
       "\n",
       "    .dataframe tbody tr th {\n",
       "        vertical-align: top;\n",
       "    }\n",
       "\n",
       "    .dataframe thead th {\n",
       "        text-align: right;\n",
       "    }\n",
       "</style>\n",
       "<table border=\"1\" class=\"dataframe\">\n",
       "  <thead>\n",
       "    <tr style=\"text-align: right;\">\n",
       "      <th></th>\n",
       "      <th>Prevalence</th>\n",
       "      <th>Sensitivity</th>\n",
       "      <th>Specificity</th>\n",
       "      <th>Accuracy</th>\n",
       "      <th>Precision</th>\n",
       "      <th>F1</th>\n",
       "      <th>FPR</th>\n",
       "      <th>MCC</th>\n",
       "      <th>AUC</th>\n",
       "      <th>LogLoss</th>\n",
       "    </tr>\n",
       "  </thead>\n",
       "  <tbody>\n",
       "    <tr>\n",
       "      <th>0</th>\n",
       "      <td>0.5997</td>\n",
       "      <td>1.0</td>\n",
       "      <td>0.0</td>\n",
       "      <td>0.5997</td>\n",
       "      <td>0.5997</td>\n",
       "      <td>0.7498</td>\n",
       "      <td>1.0</td>\n",
       "      <td>NaN</td>\n",
       "      <td>0.59</td>\n",
       "      <td>0.6731</td>\n",
       "    </tr>\n",
       "  </tbody>\n",
       "</table>\n",
       "</div>"
      ],
      "text/plain": [
       "   Prevalence  Sensitivity  Specificity  Accuracy  Precision      F1  FPR  \\\n",
       "0      0.5997          1.0          0.0    0.5997     0.5997  0.7498  1.0   \n",
       "\n",
       "   MCC   AUC  LogLoss  \n",
       "0  NaN  0.59   0.6731  "
      ]
     },
     "execution_count": 68,
     "metadata": {},
     "output_type": "execute_result"
    }
   ],
   "source": [
    "# performance metrics\n",
    "binary_classification_metrics(y_test,\n",
    "                              jnp.round(model(theta, X_test), 0),\n",
    "                              model(theta, X_test),\n",
    "                              4\n",
    "                             )"
   ]
  },
  {
   "cell_type": "code",
   "execution_count": 69,
   "metadata": {},
   "outputs": [
    {
     "ename": "ValueError",
     "evalue": "not enough values to unpack (expected 5, got 3)",
     "output_type": "error",
     "traceback": [
      "\u001b[0;31m---------------------------------------------------------------------------\u001b[0m",
      "\u001b[0;31mValueError\u001b[0m                                Traceback (most recent call last)",
      "Input \u001b[0;32mIn [69]\u001b[0m, in \u001b[0;36m<cell line: 1>\u001b[0;34m()\u001b[0m\n\u001b[0;32m----> 1\u001b[0m W \u001b[38;5;241m+\u001b[39m \u001b[38;5;241m.01\u001b[39m \u001b[38;5;241m*\u001b[39m \u001b[43mgrad\u001b[49m\u001b[43m(\u001b[49m\u001b[43mloss_fn\u001b[49m\u001b[43m)\u001b[49m\u001b[43m(\u001b[49m\u001b[43m(\u001b[49m\u001b[43mW\u001b[49m\u001b[43m,\u001b[49m\u001b[43m \u001b[49m\u001b[43mb\u001b[49m\u001b[43m,\u001b[49m\u001b[43m \u001b[49m\u001b[43mw\u001b[49m\u001b[43m)\u001b[49m\u001b[43m,\u001b[49m\u001b[43m \u001b[49m\u001b[43mx\u001b[49m\u001b[43m[\u001b[49m\u001b[38;5;241;43m0\u001b[39;49m\u001b[43m:\u001b[49m\u001b[38;5;241;43m5\u001b[39;49m\u001b[43m]\u001b[49m\u001b[43m,\u001b[49m\u001b[43m \u001b[49m\u001b[43my\u001b[49m\u001b[43m[\u001b[49m\u001b[38;5;241;43m0\u001b[39;49m\u001b[43m:\u001b[49m\u001b[38;5;241;43m5\u001b[39;49m\u001b[43m]\u001b[49m\u001b[43m)\u001b[49m[\u001b[38;5;241m0\u001b[39m]\n",
      "    \u001b[0;31m[... skipping hidden 10 frame]\u001b[0m\n",
      "Input \u001b[0;32mIn [63]\u001b[0m, in \u001b[0;36mloss_fn\u001b[0;34m(theta, x, y)\u001b[0m\n\u001b[1;32m     32\u001b[0m \u001b[38;5;28;01mdef\u001b[39;00m \u001b[38;5;21mloss_fn\u001b[39m(theta, x, y):\n\u001b[0;32m---> 33\u001b[0m   p \u001b[38;5;241m=\u001b[39m \u001b[43mmodel\u001b[49m\u001b[43m(\u001b[49m\u001b[43mtheta\u001b[49m\u001b[43m,\u001b[49m\u001b[43m \u001b[49m\u001b[43mx\u001b[49m\u001b[43m)\u001b[49m\n\u001b[1;32m     34\u001b[0m   \u001b[38;5;28;01mreturn\u001b[39;00m \u001b[38;5;241m-\u001b[39mjnp\u001b[38;5;241m.\u001b[39mmean(y\u001b[38;5;241m*\u001b[39mjnp\u001b[38;5;241m.\u001b[39mlog(p) \u001b[38;5;241m+\u001b[39m (\u001b[38;5;241m1\u001b[39m\u001b[38;5;241m-\u001b[39my)\u001b[38;5;241m*\u001b[39mjnp\u001b[38;5;241m.\u001b[39mlog(\u001b[38;5;241m1\u001b[39m\u001b[38;5;241m-\u001b[39mp))\n",
      "    \u001b[0;31m[... skipping hidden 12 frame]\u001b[0m\n",
      "Input \u001b[0;32mIn [63]\u001b[0m, in \u001b[0;36mmodel\u001b[0;34m(theta, x)\u001b[0m\n\u001b[1;32m     20\u001b[0m \u001b[38;5;129m@jax\u001b[39m\u001b[38;5;241m.\u001b[39mjit\n\u001b[1;32m     21\u001b[0m \u001b[38;5;28;01mdef\u001b[39;00m \u001b[38;5;21mmodel\u001b[39m(theta, x):\n\u001b[0;32m---> 22\u001b[0m     W, b, W1, b1, w_o \u001b[38;5;241m=\u001b[39m theta\n\u001b[1;32m     23\u001b[0m     y \u001b[38;5;241m=\u001b[39m jnp\u001b[38;5;241m.\u001b[39mdot(x, W) \u001b[38;5;241m+\u001b[39m b \u001b[38;5;66;03m# input dim = 2, W is 2xN, N - num hidden neurons, b is dim N\u001b[39;00m\n\u001b[1;32m     24\u001b[0m     y \u001b[38;5;241m=\u001b[39m tanh(y)  \u001b[38;5;66;03m# vector dim N\u001b[39;00m\n",
      "\u001b[0;31mValueError\u001b[0m: not enough values to unpack (expected 5, got 3)"
     ]
    }
   ],
   "source": [
    "W + .01 * grad(loss_fn)((W, b, w), x[0:5], y[0:5])[0]"
   ]
  },
  {
   "cell_type": "markdown",
   "metadata": {},
   "source": [
    "#### The above nn is not performing, let's try using an optimizer"
   ]
  },
  {
   "cell_type": "code",
   "execution_count": 70,
   "metadata": {},
   "outputs": [
    {
     "name": "stdout",
     "output_type": "stream",
     "text": [
      "Dimensions are  2 16 2\n",
      "Dimensions of w1 are  (2, 16)\n",
      "Dimensions of b1 are  (1, 16)\n",
      "Dimensions of w3 are  (16, 2)\n",
      "Dimensions of b3 are  (1, 2)\n"
     ]
    }
   ],
   "source": [
    "key, w1key, b1key, w2key, b2key, w3key, b3key = jax.random.split(key, 7)\n",
    "num_input = X_train.shape[1]\n",
    "num_hidden1 = 16\n",
    "num_labels = y_train.max() + 1\n",
    "print('Dimensions are ', num_input, num_hidden1, num_labels)\n",
    "#num_hidden2 = 1024\n",
    "params = dict(\n",
    "    w1 = 1e-2*jax.random.normal(w1key, (num_input, num_hidden1)),\n",
    "    b1 = 1e-2*jax.random.normal(b1key, (1, num_hidden1)),\n",
    "#    w2 = 1e-2*jax.random.normal(w2key, (num_hidden1, num_hidden2)),\n",
    "#    b2 = 1e-2*jax.random.normal(b2key, (1, num_hidden2)),\n",
    "    w3 = 1e-2*jax.random.normal(w3key, (num_hidden1, num_labels)),\n",
    "    b3 = 1e-2*jax.random.normal(b3key, (1, num_labels)),\n",
    ")\n",
    "for k in params.keys():\n",
    "    print(f'Dimensions of {k} are ', params[k].shape)"
   ]
  },
  {
   "cell_type": "code",
   "execution_count": 126,
   "metadata": {},
   "outputs": [],
   "source": [
    "@jax.jit\n",
    "def net(params, x):\n",
    "    x = jax.nn.relu(x@params[\"w1\"] + params[\"b1\"])\n",
    "#    x = jax.nn.relu(x@params[\"w2\"] + params[\"b2\"])\n",
    "    x = x@params[\"w3\"] + params[\"b3\"]\n",
    "#    x = sigmoid(x)\n",
    "    return x"
   ]
  },
  {
   "cell_type": "code",
   "execution_count": 128,
   "metadata": {},
   "outputs": [
    {
     "data": {
      "text/plain": [
       "Array(1.3849089, dtype=float32)"
      ]
     },
     "execution_count": 128,
     "metadata": {},
     "output_type": "execute_result"
    }
   ],
   "source": [
    "@jax.jit\n",
    "def loss(params: optax.Params, batch: jnp.ndarray, labels: jnp.ndarray) -> jnp.ndarray:\n",
    "  y_hat = net(params, batch)\n",
    "\n",
    "  # optax also provides a number of common loss functions.\n",
    "  loss_value = optax.sigmoid_binary_cross_entropy(y_hat, labels).sum(axis=-1)\n",
    "\n",
    "  return loss_value.mean()\n",
    "\n",
    "loss(params, X_train, jax.nn.one_hot(y_train, 2))"
   ]
  },
  {
   "cell_type": "code",
   "execution_count": 97,
   "metadata": {},
   "outputs": [],
   "source": [
    "@jax.jit\n",
    "def xeloss(x, y):\n",
    "    _elementwise_xeloss = jax.vmap(lambda x, y: -jax.nn.log_softmax(x)[y])\n",
    "    #print(_elementwise_xeloss(x, y))\n",
    "    return _elementwise_xeloss(x, y).mean()"
   ]
  },
  {
   "cell_type": "code",
   "execution_count": 129,
   "metadata": {},
   "outputs": [
    {
     "name": "stdout",
     "output_type": "stream",
     "text": [
      "model:\n",
      "[[-0.00094365  0.0135731 ]\n",
      " [-0.00072579  0.01329562]\n",
      " [-0.00073587  0.01333194]\n",
      " [-0.00090673  0.01348859]\n",
      " [-0.00082399  0.01343765]\n",
      " [-0.00091512  0.0135971 ]\n",
      " [-0.0010734   0.01339558]\n",
      " [-0.00087602  0.01348371]\n",
      " [-0.00081115  0.01339003]\n",
      " [-0.00092671  0.01355761]]\n",
      "loss function:\n",
      "0.69033426\n"
     ]
    }
   ],
   "source": [
    "print('model:')\n",
    "print(net(params, x[0:10]))\n",
    "print('loss function:')\n",
    "print(xeloss(net(params, x[0:10]), y[0:10]))"
   ]
  },
  {
   "cell_type": "code",
   "execution_count": 130,
   "metadata": {},
   "outputs": [
    {
     "data": {
      "text/plain": [
       "Array(70., dtype=float32)"
      ]
     },
     "execution_count": 130,
     "metadata": {},
     "output_type": "execute_result"
    }
   ],
   "source": [
    "@jax.jit\n",
    "def accuracy(x, y):\n",
    "    return 100*(jnp.argmax(x, 1) == y).mean()\n",
    "accuracy(net(params, x[0:10]), y[0:10])"
   ]
  },
  {
   "cell_type": "code",
   "execution_count": 131,
   "metadata": {},
   "outputs": [
    {
     "data": {
      "text/plain": [
       "Array(0.69033426, dtype=float32)"
      ]
     },
     "execution_count": 131,
     "metadata": {},
     "output_type": "execute_result"
    }
   ],
   "source": [
    "@jax.jit\n",
    "def lossforward(params, x, y):\n",
    "    x = net(params, x)\n",
    "    loss = xeloss(x, y)\n",
    "    return loss\n",
    "lossforward(params, x[0:10], y[0:10])"
   ]
  },
  {
   "cell_type": "code",
   "execution_count": 91,
   "metadata": {},
   "outputs": [
    {
     "name": "stdout",
     "output_type": "stream",
     "text": [
      "[1 1 1 1 0 0 1 1 1 0]\n"
     ]
    },
    {
     "data": {
      "text/plain": [
       "Array([[0., 1.],\n",
       "       [0., 1.],\n",
       "       [0., 1.],\n",
       "       [0., 1.],\n",
       "       [1., 0.],\n",
       "       [1., 0.],\n",
       "       [0., 1.],\n",
       "       [0., 1.],\n",
       "       [0., 1.],\n",
       "       [1., 0.]], dtype=float32)"
      ]
     },
     "execution_count": 91,
     "metadata": {},
     "output_type": "execute_result"
    }
   ],
   "source": [
    "print(y[0:10])\n",
    "jax.nn.one_hot(y[0:10], 2)"
   ]
  },
  {
   "cell_type": "code",
   "execution_count": 122,
   "metadata": {},
   "outputs": [
    {
     "data": {
      "text/plain": [
       "Array(1.3834784, dtype=float32)"
      ]
     },
     "execution_count": 122,
     "metadata": {},
     "output_type": "execute_result"
    }
   ],
   "source": [
    "#import optax\n",
    "optax.sigmoid_binary_cross_entropy(forward(params, x[0:10]), jax.nn.one_hot(y[0:10], 2)).sum(axis=-1).mean()"
   ]
  },
  {
   "cell_type": "code",
   "execution_count": 132,
   "metadata": {},
   "outputs": [
    {
     "name": "stdout",
     "output_type": "stream",
     "text": [
      "[[0.         0.68638366]\n",
      " [0.         0.6865215 ]\n",
      " [0.         0.68650347]\n",
      " [0.         0.6864257 ]\n",
      " [0.6935593  0.        ]\n",
      " [0.6936048  0.        ]\n",
      " [0.         0.6864719 ]\n",
      " [0.         0.68642807]\n",
      " [0.         0.68647456]\n",
      " [0.69361055 0.        ]]\n",
      "[[0.6926755  0.        ]\n",
      " [0.69278437 0.        ]\n",
      " [0.69277936 0.        ]\n",
      " [0.69269395 0.        ]\n",
      " [0.         0.6998886 ]\n",
      " [0.         0.6999688 ]\n",
      " [0.6926106  0.        ]\n",
      " [0.6927092  0.        ]\n",
      " [0.6927417  0.        ]\n",
      " [0.         0.69994897]]\n",
      "[[0.6926755  0.68638366]\n",
      " [0.69278437 0.6865215 ]\n",
      " [0.69277936 0.68650347]\n",
      " [0.69269395 0.6864257 ]\n",
      " [0.6935593  0.6998886 ]\n",
      " [0.6936048  0.6999688 ]\n",
      " [0.6926106  0.6864719 ]\n",
      " [0.6927092  0.68642807]\n",
      " [0.6927417  0.68647456]\n",
      " [0.69361055 0.69994897]]\n"
     ]
    },
    {
     "data": {
      "text/plain": [
       "Array(1.3834784, dtype=float32)"
      ]
     },
     "execution_count": 132,
     "metadata": {},
     "output_type": "execute_result"
    }
   ],
   "source": [
    "print(-jnp.log(sigmoid(net(params, x[0:10]))) * jax.nn.one_hot(y[0:10], 2))\n",
    "print(-jnp.log(sigmoid(-net(params, x[0:10]))) * (1-jax.nn.one_hot(y[0:10], 2)))\n",
    "print(-jnp.log(sigmoid(net(params, x[0:10]))) * jax.nn.one_hot(y[0:10], 2) -\n",
    "    jnp.log(sigmoid(-net(params, x[0:10]))) * (1-jax.nn.one_hot(y[0:10], 2)))\n",
    "xe = (-jnp.log(sigmoid(net(params, x[0:10]))) * jax.nn.one_hot(y[0:10], 2) -\n",
    "    jnp.log(sigmoid(-net(params, x[0:10]))) * (1-jax.nn.one_hot(y[0:10], 2)))\n",
    "xe.sum(axis=-1).mean()"
   ]
  },
  {
   "cell_type": "code",
   "execution_count": 133,
   "metadata": {},
   "outputs": [
    {
     "data": {
      "text/plain": [
       "Array(-0.69361055, dtype=float32, weak_type=True)"
      ]
     },
     "execution_count": 133,
     "metadata": {},
     "output_type": "execute_result"
    }
   ],
   "source": [
    "jnp.log(sigmoid(-0.00092671))"
   ]
  },
  {
   "cell_type": "code",
   "execution_count": 134,
   "metadata": {},
   "outputs": [
    {
     "data": {
      "text/plain": [
       "Array(-0.69361055, dtype=float32, weak_type=True)"
      ]
     },
     "execution_count": 134,
     "metadata": {},
     "output_type": "execute_result"
    }
   ],
   "source": [
    "jnp.log(jax.nn.sigmoid(-0.00092671))"
   ]
  },
  {
   "cell_type": "code",
   "execution_count": 135,
   "metadata": {},
   "outputs": [
    {
     "data": {
      "text/plain": [
       "Array(-0.69361067, dtype=float32, weak_type=True)"
      ]
     },
     "execution_count": 135,
     "metadata": {},
     "output_type": "execute_result"
    }
   ],
   "source": [
    "jax.nn.log_sigmoid(-0.00092671)"
   ]
  },
  {
   "cell_type": "code",
   "execution_count": 137,
   "metadata": {},
   "outputs": [
    {
     "data": {
      "text/plain": [
       "(1754, 2)"
      ]
     },
     "execution_count": 137,
     "metadata": {},
     "output_type": "execute_result"
    }
   ],
   "source": [
    "X_train.shape"
   ]
  },
  {
   "cell_type": "code",
   "execution_count": 163,
   "metadata": {},
   "outputs": [
    {
     "name": "stdout",
     "output_type": "stream",
     "text": [
      "step 0, loss: 0.598785936832428\n",
      "step 100, loss: 0.5715406537055969\n",
      "step 200, loss: 0.570359468460083\n",
      "step 300, loss: 0.5453932285308838\n",
      "step 400, loss: 0.5833352208137512\n",
      "step 500, loss: 0.6247240304946899\n",
      "step 600, loss: 0.5735737085342407\n",
      "step 700, loss: 0.5805879831314087\n",
      "step 800, loss: 0.5799704194068909\n",
      "step 900, loss: 0.5655677914619446\n",
      "step 1000, loss: 0.5357812643051147\n",
      "step 1100, loss: 0.5685309171676636\n",
      "step 1200, loss: 0.5617254376411438\n",
      "step 1300, loss: 0.6207291483879089\n",
      "step 1400, loss: 0.5976947546005249\n",
      "step 1500, loss: 0.5944401621818542\n",
      "step 1600, loss: 0.5266226530075073\n",
      "step 1700, loss: 0.5471101403236389\n",
      "step 1800, loss: 0.5175892114639282\n",
      "step 1900, loss: 0.591132640838623\n"
     ]
    }
   ],
   "source": [
    "# optimizer\n",
    "# import optax\n",
    "# learning_rate = 0.001\n",
    "batch_size = 1500\n",
    "train_size = X_train.shape[0]\n",
    "num_steps = 2000\n",
    "def fit(params: optax.Params, optimizer: optax.GradientTransformation) -> optax.Params:\n",
    "    opt_state = optimizer.init(params)\n",
    "\n",
    "    @jax.jit\n",
    "    def step(params, opt_state, batch, labels):\n",
    "        loss_value, grads = jax.value_and_grad(loss)(params, batch, labels)\n",
    "        updates, opt_state = optimizer.update(grads, opt_state, params)\n",
    "        params = optax.apply_updates(params, updates)\n",
    "        return params, opt_state, loss_value\n",
    "    key = jax.random.PRNGKey(42)\n",
    "    for i in range(num_steps):\n",
    "        # draw a batch randomly from training set\n",
    "        key, key1 = jax.random.split(key)\n",
    "        idxs = jax.random.randint(key1, (batch_size,), 0, train_size)\n",
    "        x = X_train[idxs]\n",
    "        y = jax.nn.one_hot(y_train[idxs], 2)\n",
    "\n",
    "        params, opt_state, loss_value = step(params, opt_state, x, y)\n",
    "        if i % 100 == 0:\n",
    "          print(f'step {i}, loss: {loss_value}')\n",
    "\n",
    "    return params\n",
    "\n",
    "# Finally, we can fit our parametrized function using the Adam optimizer\n",
    "# provided by optax.\n",
    "optimizer = optax.adam(learning_rate=1e-1)\n",
    "params = fit(params, optimizer)\n"
   ]
  },
  {
   "cell_type": "code",
   "execution_count": 164,
   "metadata": {},
   "outputs": [
    {
     "data": {
      "text/plain": [
       "Array([ 7.015007  , -0.56479764, -1.107229  , ...,  2.200839  ,\n",
       "       -2.1612394 , -0.9534478 ], dtype=float32)"
      ]
     },
     "execution_count": 164,
     "metadata": {},
     "output_type": "execute_result"
    }
   ],
   "source": [
    "net(params, X_train)[:, 1] #, jax.nn.one_hot(y_train, 2))"
   ]
  },
  {
   "cell_type": "code",
   "execution_count": 165,
   "metadata": {},
   "outputs": [
    {
     "data": {
      "text/plain": [
       "Array([1., 0., 0., ..., 1., 0., 0.], dtype=float32)"
      ]
     },
     "execution_count": 165,
     "metadata": {},
     "output_type": "execute_result"
    }
   ],
   "source": [
    "jnp.round(sigmoid(net(params, X_train)[:, 1]),0)"
   ]
  },
  {
   "cell_type": "code",
   "execution_count": 166,
   "metadata": {},
   "outputs": [
    {
     "data": {
      "text/html": [
       "<div>\n",
       "<style scoped>\n",
       "    .dataframe tbody tr th:only-of-type {\n",
       "        vertical-align: middle;\n",
       "    }\n",
       "\n",
       "    .dataframe tbody tr th {\n",
       "        vertical-align: top;\n",
       "    }\n",
       "\n",
       "    .dataframe thead th {\n",
       "        text-align: right;\n",
       "    }\n",
       "</style>\n",
       "<table border=\"1\" class=\"dataframe\">\n",
       "  <thead>\n",
       "    <tr style=\"text-align: right;\">\n",
       "      <th></th>\n",
       "      <th>Prevalence</th>\n",
       "      <th>Sensitivity</th>\n",
       "      <th>Specificity</th>\n",
       "      <th>Accuracy</th>\n",
       "      <th>Precision</th>\n",
       "      <th>F1</th>\n",
       "      <th>FPR</th>\n",
       "      <th>MCC</th>\n",
       "      <th>AUC</th>\n",
       "      <th>LogLoss</th>\n",
       "    </tr>\n",
       "  </thead>\n",
       "  <tbody>\n",
       "    <tr>\n",
       "      <th>0</th>\n",
       "      <td>0.5992</td>\n",
       "      <td>0.8544</td>\n",
       "      <td>0.9644</td>\n",
       "      <td>0.8985</td>\n",
       "      <td>0.9729</td>\n",
       "      <td>0.9098</td>\n",
       "      <td>0.0356</td>\n",
       "      <td>0.8037</td>\n",
       "      <td>0.9338</td>\n",
       "      <td>0.2809</td>\n",
       "    </tr>\n",
       "  </tbody>\n",
       "</table>\n",
       "</div>"
      ],
      "text/plain": [
       "   Prevalence  Sensitivity  Specificity  Accuracy  Precision      F1     FPR  \\\n",
       "0      0.5992       0.8544       0.9644    0.8985     0.9729  0.9098  0.0356   \n",
       "\n",
       "      MCC     AUC  LogLoss  \n",
       "0  0.8037  0.9338   0.2809  "
      ]
     },
     "execution_count": 166,
     "metadata": {},
     "output_type": "execute_result"
    }
   ],
   "source": [
    "# performance metrics\n",
    "binary_classification_metrics(y_train,\n",
    "                              jnp.round(sigmoid(net(params, X_train)[:, 1]),0),\n",
    "                              sigmoid(net(params, X_train)[:, 1]),\n",
    "                              4\n",
    "                             )"
   ]
  },
  {
   "cell_type": "code",
   "execution_count": 167,
   "metadata": {},
   "outputs": [
    {
     "data": {
      "text/html": [
       "<div>\n",
       "<style scoped>\n",
       "    .dataframe tbody tr th:only-of-type {\n",
       "        vertical-align: middle;\n",
       "    }\n",
       "\n",
       "    .dataframe tbody tr th {\n",
       "        vertical-align: top;\n",
       "    }\n",
       "\n",
       "    .dataframe thead th {\n",
       "        text-align: right;\n",
       "    }\n",
       "</style>\n",
       "<table border=\"1\" class=\"dataframe\">\n",
       "  <thead>\n",
       "    <tr style=\"text-align: right;\">\n",
       "      <th></th>\n",
       "      <th>Prevalence</th>\n",
       "      <th>Sensitivity</th>\n",
       "      <th>Specificity</th>\n",
       "      <th>Accuracy</th>\n",
       "      <th>Precision</th>\n",
       "      <th>F1</th>\n",
       "      <th>FPR</th>\n",
       "      <th>MCC</th>\n",
       "      <th>AUC</th>\n",
       "      <th>LogLoss</th>\n",
       "    </tr>\n",
       "  </thead>\n",
       "  <tbody>\n",
       "    <tr>\n",
       "      <th>0</th>\n",
       "      <td>0.5997</td>\n",
       "      <td>0.847</td>\n",
       "      <td>0.9568</td>\n",
       "      <td>0.891</td>\n",
       "      <td>0.9671</td>\n",
       "      <td>0.9031</td>\n",
       "      <td>0.0432</td>\n",
       "      <td>0.7887</td>\n",
       "      <td>0.9415</td>\n",
       "      <td>0.2728</td>\n",
       "    </tr>\n",
       "  </tbody>\n",
       "</table>\n",
       "</div>"
      ],
      "text/plain": [
       "   Prevalence  Sensitivity  Specificity  Accuracy  Precision      F1     FPR  \\\n",
       "0      0.5997        0.847       0.9568     0.891     0.9671  0.9031  0.0432   \n",
       "\n",
       "      MCC     AUC  LogLoss  \n",
       "0  0.7887  0.9415   0.2728  "
      ]
     },
     "execution_count": 167,
     "metadata": {},
     "output_type": "execute_result"
    }
   ],
   "source": [
    "# performance metrics\n",
    "binary_classification_metrics(y_test,\n",
    "                              jnp.round(sigmoid(net(params, X_test)[:, 1]),0),\n",
    "                              sigmoid(net(params, X_test)[:, 1]),\n",
    "                              4\n",
    "                             )"
   ]
  },
  {
   "cell_type": "code",
   "execution_count": null,
   "metadata": {},
   "outputs": [],
   "source": []
  },
  {
   "cell_type": "code",
   "execution_count": 136,
   "metadata": {},
   "outputs": [],
   "source": [
    "@jax.jit\n",
    "def train_step(step, optim_state, x, y):\n",
    "    params = optim_params(optim_state)\n",
    "    loss, grads = jax.value_and_grad(lossforward)(params, x, y)\n",
    "    optim_state = optim_update(step, grads, optim_state)\n",
    "    return loss, optim_state"
   ]
  },
  {
   "cell_type": "code",
   "execution_count": null,
   "metadata": {},
   "outputs": [],
   "source": [
    "history = []\n",
    "batch_size = 100\n",
    "num_steps = 2000\n",
    "for step in range(num_steps):\n",
    "    if step%200 == 0 or step == num_steps - 1:\n",
    "        valid_logits = forward(optim_params(optim_state), valid_values)\n",
    "        valid_loss = xeloss(valid_logits, valid_labels)\n",
    "        valid_accuracy = accuracy(valid_logits, valid_labels)\n",
    "        history.append((step, valid_loss, valid_accuracy))\n",
    "        print(f\"Step {step:5.0f}\\t Valid. Acc. = {valid_accuracy:5.2f}\")\n",
    "    prng, key = jax.random.split(prng)\n",
    "    idxs = jax.random.randint(key, (batch_size,), 0, train_size)\n",
    "    x = train_values[idxs]\n",
    "    y = train_labels[idxs]\n",
    "    loss, optim_state = train_step(step, optim_state, x, y)"
   ]
  },
  {
   "cell_type": "code",
   "execution_count": null,
   "metadata": {},
   "outputs": [],
   "source": []
  },
  {
   "cell_type": "code",
   "execution_count": null,
   "metadata": {},
   "outputs": [],
   "source": []
  },
  {
   "cell_type": "markdown",
   "metadata": {},
   "source": [
    "### LSTM by chatGPT"
   ]
  },
  {
   "cell_type": "code",
   "execution_count": 256,
   "metadata": {},
   "outputs": [
    {
     "ename": "AttributeError",
     "evalue": "module 'jax.numpy' has no attribute 'scan'",
     "output_type": "error",
     "traceback": [
      "\u001b[0;31m---------------------------------------------------------------------------\u001b[0m",
      "\u001b[0;31mAttributeError\u001b[0m                            Traceback (most recent call last)",
      "Input \u001b[0;32mIn [256]\u001b[0m, in \u001b[0;36m<cell line: 47>\u001b[0;34m()\u001b[0m\n\u001b[1;32m     44\u001b[0m initial_cell_state \u001b[38;5;241m=\u001b[39m np\u001b[38;5;241m.\u001b[39mzeros((\u001b[38;5;241m2\u001b[39m, \u001b[38;5;241m10\u001b[39m))\n\u001b[1;32m     45\u001b[0m params \u001b[38;5;241m=\u001b[39m [np\u001b[38;5;241m.\u001b[39mzeros((\u001b[38;5;241m3\u001b[39m, \u001b[38;5;241m10\u001b[39m)), np\u001b[38;5;241m.\u001b[39mzeros(\u001b[38;5;241m10\u001b[39m), np\u001b[38;5;241m.\u001b[39mzeros((\u001b[38;5;241m3\u001b[39m, \u001b[38;5;241m10\u001b[39m)), np\u001b[38;5;241m.\u001b[39mzeros(\u001b[38;5;241m10\u001b[39m), np\u001b[38;5;241m.\u001b[39mzeros((\u001b[38;5;241m3\u001b[39m, \u001b[38;5;241m10\u001b[39m)), np\u001b[38;5;241m.\u001b[39mzeros(\u001b[38;5;241m10\u001b[39m), np\u001b[38;5;241m.\u001b[39mzeros((\u001b[38;5;241m3\u001b[39m, \u001b[38;5;241m10\u001b[39m)), np\u001b[38;5;241m.\u001b[39mzeros(\u001b[38;5;241m10\u001b[39m)]\n\u001b[0;32m---> 47\u001b[0m hidden_states, cell_states \u001b[38;5;241m=\u001b[39m \u001b[43mlstm\u001b[49m\u001b[43m(\u001b[49m\u001b[43minputs\u001b[49m\u001b[43m,\u001b[49m\u001b[43m \u001b[49m\u001b[43minitial_hidden_state\u001b[49m\u001b[43m,\u001b[49m\u001b[43m \u001b[49m\u001b[43minitial_cell_state\u001b[49m\u001b[43m,\u001b[49m\u001b[43m \u001b[49m\u001b[43mparams\u001b[49m\u001b[43m)\u001b[49m\n",
      "Input \u001b[0;32mIn [256]\u001b[0m, in \u001b[0;36mlstm\u001b[0;34m(inputs, initial_hidden_state, initial_cell_state, params)\u001b[0m\n\u001b[1;32m     36\u001b[0m     new_hidden_state, new_cell_state \u001b[38;5;241m=\u001b[39m lstm_cell(hidden_state, cell_state, input_vector, params)\n\u001b[1;32m     37\u001b[0m     \u001b[38;5;28;01mreturn\u001b[39;00m new_hidden_state, new_cell_state\n\u001b[0;32m---> 38\u001b[0m hidden_states, cell_states \u001b[38;5;241m=\u001b[39m \u001b[43mnp\u001b[49m\u001b[38;5;241;43m.\u001b[39;49m\u001b[43mscan\u001b[49m(step, inputs, (initial_hidden_state, initial_cell_state))\n\u001b[1;32m     39\u001b[0m \u001b[38;5;28;01mreturn\u001b[39;00m hidden_states, cell_states\n",
      "\u001b[0;31mAttributeError\u001b[0m: module 'jax.numpy' has no attribute 'scan'"
     ]
    }
   ],
   "source": [
    "import jax.numpy as np\n",
    "from jax import grad, jit, vmap\n",
    "\n",
    "def sigmoid(x):\n",
    "    return 1 / (1 + np.exp(-x))\n",
    "\n",
    "def tanh(x):\n",
    "    return np.tanh(x)\n",
    "\n",
    "def lstm_cell(hidden_state, cell_state, input_vector, params):\n",
    "    W_f, b_f, W_i, b_i, W_o, b_o, W_c, b_c = params\n",
    "\n",
    "    # forget gate\n",
    "    forget_gate = sigmoid(np.dot(input_vector, W_f) + np.dot(hidden_state, W_f) + b_f)\n",
    "\n",
    "    # input gate\n",
    "    input_gate = sigmoid(np.dot(input_vector, W_i) + np.dot(hidden_state, W_i) + b_i)\n",
    "\n",
    "    # candidate cell state\n",
    "    candidate_cell_state = tanh(np.dot(input_vector, W_c) + np.dot(hidden_state, W_c) + b_c)\n",
    "\n",
    "    # cell state\n",
    "    cell_state = forget_gate * cell_state + input_gate * candidate_cell_state\n",
    "\n",
    "    # output gate\n",
    "    output_gate = sigmoid(np.dot(input_vector, W_o) + np.dot(hidden_state, W_o) + b_o)\n",
    "\n",
    "    # hidden state\n",
    "    hidden_state = output_gate * tanh(cell_state)\n",
    "\n",
    "    return hidden_state, cell_state\n",
    "\n",
    "def lstm(inputs, initial_hidden_state, initial_cell_state, params):\n",
    "    def step(hidden_state_and_cell_state, input_vector):\n",
    "        hidden_state, cell_state = hidden_state_and_cell_state\n",
    "        new_hidden_state, new_cell_state = lstm_cell(hidden_state, cell_state, input_vector, params)\n",
    "        return new_hidden_state, new_cell_state\n",
    "    hidden_states, cell_states = np.scan(step, inputs, (initial_hidden_state, initial_cell_state))\n",
    "    return hidden_states, cell_states\n",
    "\n",
    "# example usage\n",
    "inputs = np.array([[1, 2, 3], [4, 5, 6]])\n",
    "initial_hidden_state = np.zeros((2, 10))\n",
    "initial_cell_state = np.zeros((2, 10))\n",
    "params = [np.zeros((3, 10)), np.zeros(10), np.zeros((3, 10)), np.zeros(10), np.zeros((3, 10)), np.zeros(10), np.zeros((3, 10)), np.zeros(10)]\n",
    "\n",
    "hidden_states, cell_states = lstm(inputs, initial_hidden_state, initial_cell_state, params)\n"
   ]
  },
  {
   "cell_type": "code",
   "execution_count": null,
   "metadata": {},
   "outputs": [],
   "source": []
  }
 ],
 "metadata": {
  "kernelspec": {
   "display_name": "options",
   "language": "python",
   "name": "options"
  },
  "language_info": {
   "codemirror_mode": {
    "name": "ipython",
    "version": 3
   },
   "file_extension": ".py",
   "mimetype": "text/x-python",
   "name": "python",
   "nbconvert_exporter": "python",
   "pygments_lexer": "ipython3",
   "version": "3.10.4"
  }
 },
 "nbformat": 4,
 "nbformat_minor": 4
}
