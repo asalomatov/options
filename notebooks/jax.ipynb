{
 "cells": [
  {
   "cell_type": "code",
   "execution_count": 1,
   "metadata": {},
   "outputs": [
    {
     "name": "stdout",
     "output_type": "stream",
     "text": [
      "/home/aps/miniconda3/envs/options/bin/python\n"
     ]
    }
   ],
   "source": [
    "import sys\n",
    "print(sys.executable) "
   ]
  },
  {
   "cell_type": "code",
   "execution_count": 2,
   "metadata": {
    "id": "rjra_QLxe9E7"
   },
   "outputs": [],
   "source": [
    "import jax\n",
    "import jax.numpy as jnp\n",
    "from jax import grad, jit, vmap\n",
    "from jax import random\n",
    "import numpy as np\n",
    "import pandas as pd\n",
    "from matplotlib import pyplot as plt\n",
    "from sklearn.model_selection import train_test_split\n",
    "import optax"
   ]
  },
  {
   "cell_type": "code",
   "execution_count": 3,
   "metadata": {},
   "outputs": [],
   "source": [
    "# to make envs available in notebooks\n",
    "# pip install jax pandas matplotlib seaborn scikit-learn optax jaxopt\n",
    "# conda install notebook ipykernel\n",
    "# ipython kernel install --user --name=options"
   ]
  },
  {
   "cell_type": "code",
   "execution_count": null,
   "metadata": {
    "id": "WUAcYZLse9E9"
   },
   "outputs": [],
   "source": []
  },
  {
   "cell_type": "code",
   "execution_count": 4,
   "metadata": {
    "id": "8lEDnC57e9E-"
   },
   "outputs": [],
   "source": [
    "# needed this on mac to get autocomplete to work\n",
    "# %config Completer.use_jedi = False"
   ]
  },
  {
   "cell_type": "markdown",
   "metadata": {
    "id": "YmejtTEMe9E-"
   },
   "source": [
    "## Use jax to implement major models"
   ]
  },
  {
   "cell_type": "markdown",
   "metadata": {},
   "source": [
    "### What device is being used for computing?\n",
    "\n",
    "Use conda to install cuda: conda install cuda -c nvidia"
   ]
  },
  {
   "cell_type": "code",
   "execution_count": 5,
   "metadata": {},
   "outputs": [
    {
     "data": {
      "text/plain": [
       "[StreamExecutorGpuDevice(id=0, process_index=0, slice_index=0)]"
      ]
     },
     "execution_count": 5,
     "metadata": {},
     "output_type": "execute_result"
    }
   ],
   "source": [
    "jax.devices()"
   ]
  },
  {
   "cell_type": "code",
   "execution_count": 6,
   "metadata": {},
   "outputs": [
    {
     "data": {
      "text/plain": [
       "'gpu'"
      ]
     },
     "execution_count": 6,
     "metadata": {},
     "output_type": "execute_result"
    }
   ],
   "source": [
    "jax.devices()[0].platform"
   ]
  },
  {
   "cell_type": "code",
   "execution_count": 7,
   "metadata": {},
   "outputs": [
    {
     "data": {
      "text/plain": [
       "True"
      ]
     },
     "execution_count": 7,
     "metadata": {},
     "output_type": "execute_result"
    }
   ],
   "source": [
    "def jax_has_gpu():\n",
    "    try:\n",
    "        _ = jax.device_put(jax.numpy.ones(1), device=jax.devices('gpu')[0])\n",
    "        return True\n",
    "    except:\n",
    "        return False\n",
    "jax_has_gpu()"
   ]
  },
  {
   "cell_type": "markdown",
   "metadata": {
    "id": "pSko_JT7e9E_"
   },
   "source": [
    "### Fit a linear regression"
   ]
  },
  {
   "cell_type": "code",
   "execution_count": 8,
   "metadata": {
    "colab": {
     "base_uri": "https://localhost:8080/",
     "height": 430
    },
    "id": "_-uHDp0Le9E_",
    "outputId": "4a19c968-27c6-4bd1-8c79-4f6dfce72465"
   },
   "outputs": [
    {
     "data": {
      "image/png": "[encoded data removed]",
      "text/plain": [
       "<Figure size 640x480 with 1 Axes>"
      ]
     },
     "metadata": {},
     "output_type": "display_data"
    }
   ],
   "source": [
    "import numpy as np\n",
    "import matplotlib.pyplot as plt\n",
    "\n",
    "n = 300\n",
    "xs = np.random.normal(size=(n,))\n",
    "noise = np.random.normal(scale=0.5, size=(n,))\n",
    "ys = xs * 3 - 1 + noise\n",
    "\n",
    "plt.scatter(xs, ys);"
   ]
  },
  {
   "cell_type": "code",
   "execution_count": 9,
   "metadata": {
    "id": "zjSp7xbse9FA"
   },
   "outputs": [],
   "source": [
    "# theta = [w, b] - model parameters\n",
    "def model(theta, x):\n",
    "  \"\"\"Computes wx + b on a batch of input x.\"\"\"\n",
    "  w, b = theta\n",
    "  return w * x + b"
   ]
  },
  {
   "cell_type": "markdown",
   "metadata": {
    "id": "gPFl84X1e9FA"
   },
   "source": [
    "Loss function is the sum of squared errors, $ L = \\frac{\\Sigma (y - y_{pred})^2}{N}$"
   ]
  },
  {
   "cell_type": "code",
   "execution_count": 10,
   "metadata": {
    "id": "Ka_WB-QEe9FB"
   },
   "outputs": [],
   "source": [
    "def loss_fn(theta, x, y):\n",
    "  prediction = model(theta, x)\n",
    "  return jnp.mean((prediction-y)**2)"
   ]
  },
  {
   "cell_type": "code",
   "execution_count": 11,
   "metadata": {
    "colab": {
     "base_uri": "https://localhost:8080/"
    },
    "id": "_-kcBdBte9FB",
    "outputId": "68f90dfd-7662-456d-aa75-20791b53360a"
   },
   "outputs": [
    {
     "data": {
      "text/plain": [
       "Array(9., dtype=float32)"
      ]
     },
     "execution_count": 11,
     "metadata": {},
     "output_type": "execute_result"
    }
   ],
   "source": [
    "loss_fn((3,1), 0, 4)"
   ]
  },
  {
   "cell_type": "code",
   "execution_count": 13,
   "metadata": {
    "colab": {
     "base_uri": "https://localhost:8080/"
    },
    "id": "RlgvVP48e9FB",
    "outputId": "d142a33f-43df-48db-b3b3-d2cc303a8205"
   },
   "outputs": [
    {
     "data": {
      "text/plain": [
       "Array(4.327121, dtype=float32)"
      ]
     },
     "execution_count": 13,
     "metadata": {},
     "output_type": "execute_result"
    }
   ],
   "source": [
    "loss_fn((3,1), xs, ys)"
   ]
  },
  {
   "cell_type": "markdown",
   "metadata": {
    "id": "8lDLTj_Ee9FC"
   },
   "source": [
    "Use gradient discend to find the optimal parameters, \n",
    "$$\n",
    "\\theta_{updated}=\\theta - \\lambda\\nabla_{\\theta}L(\\theta, x, y)\n",
    "$$\n",
    "where $\\lambda$ is learning rate."
   ]
  },
  {
   "cell_type": "code",
   "execution_count": 14,
   "metadata": {
    "id": "aamwPgFle9FC"
   },
   "outputs": [],
   "source": [
    "@jax.jit\n",
    "def update(theta, x, y, lr=0.1):\n",
    "  return theta - lr * grad(loss_fn)(theta, x, y)"
   ]
  },
  {
   "cell_type": "code",
   "execution_count": 15,
   "metadata": {
    "colab": {
     "base_uri": "https://localhost:8080/"
    },
    "id": "6ItzMia8e9FC",
    "outputId": "de00ef03-ace8-43c3-a86e-62ce122de252"
   },
   "outputs": [
    {
     "data": {
      "text/plain": [
       "Array([1., 1.], dtype=float32)"
      ]
     },
     "execution_count": 15,
     "metadata": {},
     "output_type": "execute_result"
    }
   ],
   "source": [
    "theta = jnp.array([1., 1.])\n",
    "theta"
   ]
  },
  {
   "cell_type": "code",
   "execution_count": 16,
   "metadata": {
    "colab": {
     "base_uri": "https://localhost:8080/"
    },
    "id": "Onw08G1le9FC",
    "outputId": "fd5bab3b-934f-4583-b785-2d3869ab06d5"
   },
   "outputs": [
    {
     "data": {
      "text/plain": [
       "Array([2., 2.], dtype=float32)"
      ]
     },
     "execution_count": 16,
     "metadata": {},
     "output_type": "execute_result"
    }
   ],
   "source": [
    "grad(loss_fn)(theta, 1., 1.)"
   ]
  },
  {
   "cell_type": "code",
   "execution_count": 17,
   "metadata": {
    "colab": {
     "base_uri": "https://localhost:8080/"
    },
    "id": "hkKajHdYe9FD",
    "outputId": "7f5ccef5-82e5-447e-ee8d-fd5ea4a29322"
   },
   "outputs": [
    {
     "data": {
      "text/plain": [
       "Array([16.,  8.], dtype=float32)"
      ]
     },
     "execution_count": 17,
     "metadata": {},
     "output_type": "execute_result"
    }
   ],
   "source": [
    "grad(loss_fn)(theta, 2., -1.)"
   ]
  },
  {
   "cell_type": "markdown",
   "metadata": {
    "id": "z879vkfUe9FD"
   },
   "source": [
    "Gradient returns the average gradient for vectors of variables."
   ]
  },
  {
   "cell_type": "code",
   "execution_count": 18,
   "metadata": {
    "colab": {
     "base_uri": "https://localhost:8080/"
    },
    "id": "fJhC70ZIe9FD",
    "outputId": "0fc0b61f-9930-4b68-b1ce-c6387e47075a"
   },
   "outputs": [
    {
     "data": {
      "text/plain": [
       "Array([9., 5.], dtype=float32)"
      ]
     },
     "execution_count": 18,
     "metadata": {},
     "output_type": "execute_result"
    }
   ],
   "source": [
    "grad(loss_fn)(theta, jnp.array([1., 2.]), jnp.array([1., -1.]))"
   ]
  },
  {
   "cell_type": "code",
   "execution_count": 19,
   "metadata": {
    "colab": {
     "base_uri": "https://localhost:8080/"
    },
    "id": "WSWTjVMHe9FD",
    "outputId": "1460f6fa-0917-4aa2-e0f7-f372a20d1fce"
   },
   "outputs": [
    {
     "data": {
      "text/plain": [
       "Array([ 3.0025022, -1.0143135], dtype=float32)"
      ]
     },
     "execution_count": 19,
     "metadata": {},
     "output_type": "execute_result"
    }
   ],
   "source": [
    "# initial parateters\n",
    "theta = jnp.array([1., 1.])\n",
    "theta\n",
    "n_iterations = 200\n",
    "lr = .1\n",
    "for i in range(n_iterations):\n",
    "    theta = update(theta, xs, ys, lr=lr)\n",
    "theta"
   ]
  },
  {
   "cell_type": "markdown",
   "metadata": {
    "id": "ERVBgYYye9FD"
   },
   "source": [
    "### Compute greeks of Black-Scholes option prices with jax.grad"
   ]
  },
  {
   "cell_type": "code",
   "execution_count": 20,
   "metadata": {
    "id": "b5QEu6tse9FE"
   },
   "outputs": [],
   "source": [
    "#@jax.jit\n",
    "def bs_call(S, X, T, sig, r):\n",
    "    d1 = (jnp.log(S/X) + (r + .5 * sig**2) * T)/(jnp.sqrt(T) * sig)\n",
    "    print(f'd1 = {d1}')\n",
    "    d2 = d1 - jnp.sqrt(T) * sig\n",
    "    print(f'd2 = {d2}')\n",
    "    c = S * jax.scipy.stats.norm.cdf(d1) - X * jnp.exp(-r*T)* jax.scipy.stats.norm.cdf(d2)\n",
    "    print(f'delta = {jax.scipy.stats.norm.cdf(d1)}')\n",
    "    return c"
   ]
  },
  {
   "cell_type": "code",
   "execution_count": 21,
   "metadata": {
    "colab": {
     "base_uri": "https://localhost:8080/"
    },
    "id": "OtYCw929e9FE",
    "outputId": "fd34ab79-daa4-4d90-f1d7-13d180fa5615"
   },
   "outputs": [
    {
     "name": "stdout",
     "output_type": "stream",
     "text": [
      "d1 = -0.3252846896648407\n",
      "d2 = -0.4752846956253052\n",
      "delta = 0.3724828064441681\n"
     ]
    },
    {
     "data": {
      "text/plain": [
       "Array(2.1333694, dtype=float32)"
      ]
     },
     "execution_count": 21,
     "metadata": {},
     "output_type": "execute_result"
    }
   ],
   "source": [
    "S=60.\n",
    "X=65.\n",
    "r=.08\n",
    "sig=.30\n",
    "T=.25\n",
    "bs_call(S, X, T, sig, r)"
   ]
  },
  {
   "cell_type": "code",
   "execution_count": 22,
   "metadata": {
    "id": "8ER9zC_ze9FE"
   },
   "outputs": [],
   "source": [
    "# pars = [S, X, T, sig, r]\n",
    "def euro_call(pars):\n",
    "    S, X, T, sig, r = pars\n",
    "    c = bs_call(S, X, T, sig, r)\n",
    "    return c"
   ]
  },
  {
   "cell_type": "code",
   "execution_count": 23,
   "metadata": {
    "colab": {
     "base_uri": "https://localhost:8080/"
    },
    "id": "qv2akFTRe9FE",
    "outputId": "a2ce70e4-d018-4fb8-debe-41d06bc0d6c0"
   },
   "outputs": [
    {
     "name": "stdout",
     "output_type": "stream",
     "text": [
      "d1 = -0.3252846896648407\n",
      "d2 = -0.4752846956253052\n",
      "delta = 0.3724828064441681\n"
     ]
    },
    {
     "data": {
      "text/plain": [
       "Array(2.1333694, dtype=float32)"
      ]
     },
     "execution_count": 23,
     "metadata": {},
     "output_type": "execute_result"
    }
   ],
   "source": [
    "euro_call([S, X, T, sig, r])"
   ]
  },
  {
   "cell_type": "code",
   "execution_count": 17,
   "metadata": {
    "id": "4slqBtZse9FF"
   },
   "outputs": [],
   "source": []
  },
  {
   "cell_type": "code",
   "execution_count": 24,
   "metadata": {
    "colab": {
     "base_uri": "https://localhost:8080/"
    },
    "id": "hJntMTVWe9FF",
    "outputId": "8f5e066e-458a-4fc4-c88e-e51b2d387d54"
   },
   "outputs": [
    {
     "name": "stdout",
     "output_type": "stream",
     "text": [
      "d1 = Traced<ConcreteArray(-0.3252846896648407, dtype=float32, weak_type=True)>with<JVPTrace(level=2/0)> with\n",
      "  primal = Array(-0.3252847, dtype=float32, weak_type=True)\n",
      "  tangent = Traced<ShapedArray(float32[], weak_type=True)>with<JaxprTrace(level=1/0)> with\n",
      "    pval = (ShapedArray(float32[], weak_type=True), None)\n",
      "    recipe = JaxprEqnRecipe(eqn_id=<object object at 0x7f97e819e3b0>, in_tracers=(Traced<ShapedArray(float32[], weak_type=True):JaxprTrace(level=1/0)>, Traced<ShapedArray(float32[], weak_type=True):JaxprTrace(level=1/0)>, Traced<ConcreteArray(0.15000000596046448, dtype=float32, weak_type=True):JaxprTrace(level=1/0)>, Traced<ConcreteArray(-0.048792704939842224, dtype=float32, weak_type=True):JaxprTrace(level=1/0)>, Traced<ConcreteArray(44.44444274902344, dtype=float32, weak_type=True):JaxprTrace(level=1/0)>), out_tracer_refs=[<weakref at 0x7f97c4725620; to 'JaxprTracer' at 0x7f97c4725580>], out_avals=[ShapedArray(float32[], weak_type=True)], primitive=pjit, params={'jaxpr': { lambda ; a:f32[] b:f32[] c:f32[] d:f32[] e:f32[]. let\n",
      "    f:f32[] = div a c\n",
      "    g:f32[] = neg b\n",
      "    h:f32[] = mul g d\n",
      "    i:f32[] = mul h e\n",
      "    j:f32[] = add_any f i\n",
      "  in (j,) }, 'in_shardings': (UnspecifiedValue, UnspecifiedValue, UnspecifiedValue, UnspecifiedValue, UnspecifiedValue), 'out_shardings': (UnspecifiedValue,), 'resource_env': None, 'donated_invars': (False, False, False, False, False), 'name': 'true_divide', 'keep_unused': False, 'inline': True}, effects=set(), source_info=SourceInfo(traceback=<jaxlib.xla_extension.Traceback object at 0x7f97c47237b0>, name_stack=NameStack(stack=(Transform(name='jvp'),))))\n",
      "d2 = Traced<ConcreteArray(-0.4752846956253052, dtype=float32, weak_type=True)>with<JVPTrace(level=2/0)> with\n",
      "  primal = Array(-0.4752847, dtype=float32, weak_type=True)\n",
      "  tangent = Traced<ShapedArray(float32[], weak_type=True)>with<JaxprTrace(level=1/0)> with\n",
      "    pval = (ShapedArray(float32[], weak_type=True), None)\n",
      "    recipe = JaxprEqnRecipe(eqn_id=<object object at 0x7f97e819e430>, in_tracers=(Traced<ShapedArray(float32[], weak_type=True):JaxprTrace(level=1/0)>, Traced<ShapedArray(float32[], weak_type=True):JaxprTrace(level=1/0)>), out_tracer_refs=[<weakref at 0x7f97c4730220; to 'JaxprTracer' at 0x7f97c47301d0>], out_avals=[ShapedArray(float32[], weak_type=True)], primitive=pjit, params={'jaxpr': { lambda ; a:f32[] b:f32[]. let c:f32[] = sub a b in (c,) }, 'in_shardings': (UnspecifiedValue, UnspecifiedValue), 'out_shardings': (UnspecifiedValue,), 'resource_env': None, 'donated_invars': (False, False), 'name': '<lambda>', 'keep_unused': False, 'inline': True}, effects=set(), source_info=SourceInfo(traceback=<jaxlib.xla_extension.Traceback object at 0x7f97c4729830>, name_stack=NameStack(stack=(Transform(name='jvp'),))))\n",
      "delta = Traced<ConcreteArray(0.3724828064441681, dtype=float32)>with<JVPTrace(level=2/0)> with\n",
      "  primal = Array(0.3724828, dtype=float32)\n",
      "  tangent = Traced<ShapedArray(float32[])>with<JaxprTrace(level=1/0)> with\n",
      "    pval = (ShapedArray(float32[]), None)\n",
      "    recipe = JaxprEqnRecipe(eqn_id=<object object at 0x7f97e819fb20>, in_tracers=(Traced<ShapedArray(float32[]):JaxprTrace(level=1/0)>, Traced<ConcreteArray(0.5, dtype=float32):JaxprTrace(level=1/0)>), out_tracer_refs=[<weakref at 0x7f97c4770040; to 'JaxprTracer' at 0x7f97c4767fb0>], out_avals=[ShapedArray(float32[])], primitive=pjit, params={'jaxpr': { lambda ; a:f32[] b:f32[]. let c:f32[] = mul b a in (c,) }, 'in_shardings': (UnspecifiedValue, UnspecifiedValue), 'out_shardings': (UnspecifiedValue,), 'resource_env': None, 'donated_invars': (False, False), 'name': 'fn', 'keep_unused': False, 'inline': True}, effects=set(), source_info=SourceInfo(traceback=<jaxlib.xla_extension.Traceback object at 0x7f97c476f7f0>, name_stack=NameStack(stack=(Transform(name='jvp'),))))\n"
     ]
    },
    {
     "data": {
      "text/plain": [
       "[Array(0.3724828, dtype=float32, weak_type=True),\n",
       " Array(-0.31100923, dtype=float32, weak_type=True),\n",
       " Array(8.428175, dtype=float32, weak_type=True),\n",
       " Array(11.351544, dtype=float32, weak_type=True),\n",
       " Array(5.0539, dtype=float32, weak_type=True)]"
      ]
     },
     "execution_count": 24,
     "metadata": {},
     "output_type": "execute_result"
    }
   ],
   "source": [
    "pars = [S, X, T, sig, r]\n",
    "jax.grad(euro_call)(pars)"
   ]
  },
  {
   "cell_type": "code",
   "execution_count": 18,
   "metadata": {
    "id": "m3T0zDBre9FF"
   },
   "outputs": [],
   "source": [
    "\n"
   ]
  },
  {
   "cell_type": "code",
   "execution_count": 19,
   "metadata": {
    "colab": {
     "base_uri": "https://localhost:8080/"
    },
    "id": "8H_439MFe9FF",
    "outputId": "366b393f-cee2-4d89-9644-72ee553c1d49"
   },
   "outputs": [
    {
     "data": {
      "text/plain": [
       "4.0"
      ]
     },
     "execution_count": 19,
     "metadata": {},
     "output_type": "execute_result"
    }
   ],
   "source": [
    "np.sqrt(4) + 2"
   ]
  },
  {
   "cell_type": "markdown",
   "metadata": {
    "id": "TgpSLrqve9FF"
   },
   "source": [
    "### Random numbers"
   ]
  },
  {
   "cell_type": "code",
   "execution_count": 25,
   "metadata": {
    "colab": {
     "base_uri": "https://localhost:8080/"
    },
    "id": "WJ_6fjWie9FG",
    "outputId": "bce349e0-a21f-480e-c064-de9238a1bd14"
   },
   "outputs": [
    {
     "name": "stdout",
     "output_type": "stream",
     "text": [
      "[ 0.6122652  1.1225883 -0.8544134 -0.8127325 -0.890405 ]\n",
      "[ 0.6122652  1.1225883 -0.8544134 -0.8127325 -0.890405 ]\n"
     ]
    }
   ],
   "source": [
    "key = jax.random.PRNGKey(42)\n",
    "print(random.normal(key, shape=(5,)))\n",
    "print(random.normal(key, shape=(5,)))"
   ]
  },
  {
   "cell_type": "code",
   "execution_count": 26,
   "metadata": {
    "colab": {
     "base_uri": "https://localhost:8080/"
    },
    "id": "Mg36TNqVe9FG",
    "outputId": "0d28641a-afdd-477e-92e4-1cbd78845212"
   },
   "outputs": [
    {
     "name": "stdout",
     "output_type": "stream",
     "text": [
      "[-0.55338794  0.944283   -0.74176395 -0.5769758   1.1251862 ]\n",
      "[-0.32761317 -0.4066346   1.2469071   1.1900425   1.100263  ]\n"
     ]
    }
   ],
   "source": [
    "# never reuse a key\n",
    "key = jax.random.PRNGKey(42)\n",
    "key, subkey = random.split(key)\n",
    "print(random.normal(subkey, shape=(5,)))\n",
    "key, subkey = random.split(key)\n",
    "print(random.normal(subkey, shape=(5,)))"
   ]
  },
  {
   "cell_type": "code",
   "execution_count": 21,
   "metadata": {
    "id": "FyRrkcRFe9FG"
   },
   "outputs": [],
   "source": []
  },
  {
   "cell_type": "markdown",
   "metadata": {
    "id": "NOlqFRrbe9FG"
   },
   "source": [
    "## Common models"
   ]
  },
  {
   "cell_type": "markdown",
   "metadata": {
    "id": "JcVVHRXte9FG"
   },
   "source": [
    "### Linear model"
   ]
  },
  {
   "cell_type": "markdown",
   "metadata": {
    "id": "wUmd6HX0e9FG"
   },
   "source": [
    "$y = wx + b$\n",
    "\n",
    "Generate observed values"
   ]
  },
  {
   "cell_type": "code",
   "execution_count": 27,
   "metadata": {
    "colab": {
     "base_uri": "https://localhost:8080/"
    },
    "id": "0I1_wPx6e9FG",
    "outputId": "6c8f5fe2-29bd-4481-902a-a6538370a150"
   },
   "outputs": [
    {
     "name": "stdout",
     "output_type": "stream",
     "text": [
      "[ 1. -1.  3.  5. -2.  2.]\n"
     ]
    }
   ],
   "source": [
    "key = jax.random.PRNGKey(212)\n",
    "w = jnp.array([1., -1., 3., 5., -2.])\n",
    "b = 2\n",
    "theta_true = jnp.append(w, b)\n",
    "print(theta_true)"
   ]
  },
  {
   "cell_type": "code",
   "execution_count": 28,
   "metadata": {
    "id": "RleLnXPRe9FH"
   },
   "outputs": [],
   "source": [
    "@jax.jit\n",
    "def model(theta, x):\n",
    "    w = theta[:-1]\n",
    "    b = theta[-1]\n",
    "    y = jnp.dot(w, x) + b\n",
    "    return y\n",
    "\n",
    "model_vmap = jax.vmap(model, in_axes=[None, 1])"
   ]
  },
  {
   "cell_type": "code",
   "execution_count": 29,
   "metadata": {
    "colab": {
     "base_uri": "https://localhost:8080/"
    },
    "id": "jHQKvm67e9FH",
    "outputId": "57582346-855a-4759-cc81-0b0a1e89d467"
   },
   "outputs": [
    {
     "data": {
      "text/plain": [
       "Array(20., dtype=float32)"
      ]
     },
     "execution_count": 29,
     "metadata": {},
     "output_type": "execute_result"
    }
   ],
   "source": [
    "model(theta_true, jnp.array([1, 2, 3, 4, 5]))"
   ]
  },
  {
   "cell_type": "code",
   "execution_count": 30,
   "metadata": {
    "colab": {
     "base_uri": "https://localhost:8080/"
    },
    "id": "24pWVd6Me9FH",
    "outputId": "ddef0480-305c-4c5b-b20a-9944d40cd26e"
   },
   "outputs": [
    {
     "data": {
      "text/plain": [
       "array([[1, 2],\n",
       "       [3, 4],\n",
       "       [5, 1],\n",
       "       [2, 3],\n",
       "       [4, 5]])"
      ]
     },
     "execution_count": 30,
     "metadata": {},
     "output_type": "execute_result"
    }
   ],
   "source": [
    "np.array([1, 2, 3, 4, 5, 1, 2, 3, 4, 5]).reshape(5, 2)"
   ]
  },
  {
   "cell_type": "code",
   "execution_count": 31,
   "metadata": {
    "id": "Kr_rTy8Oe9FH"
   },
   "outputs": [],
   "source": [
    "#model_vmap(theta, np.array([1, 2, 3, 4, 5, 1, 2, 3, 4, 5]).reshape(5, 2))"
   ]
  },
  {
   "cell_type": "code",
   "execution_count": 32,
   "metadata": {
    "colab": {
     "base_uri": "https://localhost:8080/"
    },
    "id": "lrxjSHpMe9FH",
    "outputId": "1fb1afdc-d54c-4969-eedb-c80c72554e80"
   },
   "outputs": [
    {
     "name": "stdout",
     "output_type": "stream",
     "text": [
      "(5, 50)\n",
      "[-1.9834338  3.6937184 -2.6479697  1.7907314 12.152573 ]\n"
     ]
    }
   ],
   "source": [
    "n_obs = 50\n",
    "x_observed = jax.random.normal(key, shape=(5,n_obs))\n",
    "print(x_observed.shape)\n",
    "print(jnp.sum(x_observed, axis=1))\n"
   ]
  },
  {
   "cell_type": "code",
   "execution_count": 33,
   "metadata": {
    "colab": {
     "base_uri": "https://localhost:8080/"
    },
    "id": "VGFFvG0Ve9FH",
    "outputId": "78660b16-6f0e-4e74-a1d3-8429035692ba"
   },
   "outputs": [
    {
     "name": "stdout",
     "output_type": "stream",
     "text": [
      "[  5.0615315    2.4697185   -3.1689072   -7.6509895   -3.878571\n",
      "  11.230026     1.4037006    4.231458     9.178272     5.9207597\n",
      "  -1.3583989   -4.3980184    5.34012      0.41575944  -1.9732018\n",
      "  -8.83993      6.2698207   -2.5513077    6.314845    -8.689926\n",
      "  -1.7106981   -5.669702     8.188997    10.294529     5.785759\n",
      "  -5.8465557   17.606491     5.4771914   11.000769     7.3086863\n",
      "  -3.7401242    6.7878776    8.182899     1.5911285    1.0267415\n",
      "   4.3348236   -5.980621   -11.129906    -4.772352    -3.095614\n",
      "  -0.26369235  -5.845175    -2.924248     3.485813    11.435972\n",
      "  11.133466    -4.316735     0.92751515  -5.489374    -8.450031  ]\n"
     ]
    }
   ],
   "source": [
    "# observations - model plus some noise\n",
    "y_observed = model(theta_true, x_observed) + jax.random.normal(key, shape=(n_obs,))\n",
    "print(y_observed)"
   ]
  },
  {
   "cell_type": "code",
   "execution_count": 34,
   "metadata": {
    "colab": {
     "base_uri": "https://localhost:8080/",
     "height": 470
    },
    "id": "9v89eEq5e9FI",
    "outputId": "31461a1c-4870-482c-842a-974f7ae6118b"
   },
   "outputs": [
    {
     "data": {
      "text/plain": [
       "Text(0.5, 1.0, 'Noisy observations vs underlying model')"
      ]
     },
     "execution_count": 34,
     "metadata": {},
     "output_type": "execute_result"
    },
    {
     "data": {
      "image/png": "[encoded data removed]",
      "text/plain": [
       "<Figure size 640x480 with 1 Axes>"
      ]
     },
     "metadata": {},
     "output_type": "display_data"
    }
   ],
   "source": [
    "plt.scatter(model(theta_true, x_observed), y_observed)\n",
    "plt.plot(model(theta_true, x_observed), model(theta_true, x_observed))\n",
    "plt.title('Noisy observations vs underlying model')"
   ]
  },
  {
   "cell_type": "code",
   "execution_count": 36,
   "metadata": {
    "id": "jL4r5SlJe9FI",
    "outputId": "195c760e-c53c-4154-bf98-db5ed2fd8ed2"
   },
   "outputs": [
    {
     "name": "stdout",
     "output_type": "stream",
     "text": [
      "52.1 µs ± 3.77 µs per loop (mean ± std. dev. of 7 runs, 10,000 loops each)\n"
     ]
    }
   ],
   "source": [
    "%timeit model(theta_true, x_observed)"
   ]
  },
  {
   "cell_type": "code",
   "execution_count": 37,
   "metadata": {
    "colab": {
     "base_uri": "https://localhost:8080/"
    },
    "id": "wD_ywQ2ve9FI",
    "outputId": "7b6cf1f0-eadf-4f4b-93b5-e824d857dd94"
   },
   "outputs": [
    {
     "name": "stdout",
     "output_type": "stream",
     "text": [
      "[ 2.9883356e+00  2.3349292e+00 -1.5650353e+00 -6.1130486e+00\n",
      " -5.0836453e+00  1.2472522e+01  1.8045750e+00  5.0270214e+00\n",
      "  1.0129258e+01  5.9141598e+00 -1.4724889e+00 -4.2724571e+00\n",
      "  6.0810957e+00  5.5440164e-01 -1.5313125e+00 -7.7776632e+00\n",
      "  6.5286217e+00 -2.9492378e+00  6.2737894e+00 -7.3210154e+00\n",
      "  1.4330387e-02 -5.8055058e+00  7.4530363e+00  8.3956413e+00\n",
      "  4.1605120e+00 -5.3344989e+00  1.8990658e+01  6.3681192e+00\n",
      "  1.0795193e+01  7.7783060e+00 -1.1883299e+00  6.2501440e+00\n",
      "  7.3560801e+00  1.6167397e+00  3.5765314e-01  6.0111747e+00\n",
      " -5.7826834e+00 -1.1694789e+01 -7.5610752e+00 -2.0660710e+00\n",
      " -2.2288561e-01 -5.6120420e+00 -2.8691716e+00  4.5343018e+00\n",
      "  1.0853861e+01  1.2338906e+01 -4.6002135e+00  1.9807799e+00\n",
      " -5.6962886e+00 -7.8172445e+00]\n"
     ]
    }
   ],
   "source": [
    "y_observed = model_vmap(theta_true, x_observed)\n",
    "print(y_observed)"
   ]
  },
  {
   "cell_type": "code",
   "execution_count": 38,
   "metadata": {
    "id": "XMEl_bLte9FI",
    "outputId": "40a4124b-bb75-44a8-d7c3-6cae1ad40f64"
   },
   "outputs": [
    {
     "name": "stdout",
     "output_type": "stream",
     "text": [
      "697 µs ± 3.82 µs per loop (mean ± std. dev. of 7 runs, 1,000 loops each)\n"
     ]
    }
   ],
   "source": [
    "# slower tham model?\n",
    "%timeit model_vmap(theta_true, x_observed)"
   ]
  },
  {
   "cell_type": "code",
   "execution_count": 39,
   "metadata": {
    "id": "vdnjyjGpe9FI"
   },
   "outputs": [],
   "source": [
    "# loss function - mean squared error\n",
    "def loss_fn(theta, x, y):\n",
    "  prediction = model(theta, x)\n",
    "  return jnp.mean((prediction-y)**2)"
   ]
  },
  {
   "cell_type": "code",
   "execution_count": 40,
   "metadata": {
    "id": "KSB1AqW_e9FI"
   },
   "outputs": [],
   "source": [
    "# update step\n",
    "@jax.jit\n",
    "def update(theta, x, y, lr=0.01):\n",
    "  return theta - lr * grad(loss_fn)(theta, x, y)"
   ]
  },
  {
   "cell_type": "code",
   "execution_count": 41,
   "metadata": {
    "colab": {
     "base_uri": "https://localhost:8080/"
    },
    "id": "8o8zevxme9FJ",
    "outputId": "16b3d3a4-7517-45dc-e542-07bc7a2481df"
   },
   "outputs": [
    {
     "name": "stdout",
     "output_type": "stream",
     "text": [
      "True vs fitted parameters:\n",
      "[[ 1. -1.  3.  5. -2.  2.]\n",
      " [ 1. -1.  3.  5. -2.  2.]]\n"
     ]
    }
   ],
   "source": [
    "# initial parateters\n",
    "theta = jnp.array([1., 1., 1., 1., 1., 1.])\n",
    "theta\n",
    "n_iterations = 1000\n",
    "lr = .01\n",
    "for i in range(n_iterations):\n",
    "    theta = update(theta, x_observed, y_observed, lr=lr)\n",
    "print('True vs fitted parameters:')\n",
    "print(jnp.vstack([jnp.round(theta, 4), theta_true]))\n"
   ]
  },
  {
   "cell_type": "markdown",
   "metadata": {
    "id": "XMDjCiSle9FJ"
   },
   "source": [
    "### Logistic regression classifier"
   ]
  },
  {
   "cell_type": "markdown",
   "metadata": {
    "id": "ePrjFvEAe9FJ"
   },
   "source": [
    "First, we create data using bivariate normal distribution."
   ]
  },
  {
   "cell_type": "code",
   "execution_count": 42,
   "metadata": {
    "colab": {
     "base_uri": "https://localhost:8080/"
    },
    "id": "_oSYnBtne9FJ",
    "outputId": "a5468855-96ac-4a1e-c006-ca8663396167"
   },
   "outputs": [
    {
     "data": {
      "text/plain": [
       "Array([[ 2.2076726 ,  0.63324547],\n",
       "       [ 0.53972983, -0.5107355 ],\n",
       "       [ 1.6998711 ,  1.4444137 ],\n",
       "       [-0.05809402,  1.3304108 ],\n",
       "       [ 0.23326337,  0.6060622 ]], dtype=float32)"
      ]
     },
     "execution_count": 42,
     "metadata": {},
     "output_type": "execute_result"
    }
   ],
   "source": [
    "class1 = random.multivariate_normal(key,\n",
    "                           mean=jnp.array([1, 1]),\n",
    "                           cov=.5*np.array([1, .5, .5, 1]).reshape(2,2),\n",
    "                          shape=[100,])\n",
    "class1[:5,:]"
   ]
  },
  {
   "cell_type": "code",
   "execution_count": 43,
   "metadata": {
    "colab": {
     "base_uri": "https://localhost:8080/",
     "height": 450
    },
    "id": "r0CUv8Sre9FJ",
    "outputId": "e3f77fb2-c2c1-4d50-bb64-fc8ceeed0cdb"
   },
   "outputs": [
    {
     "data": {
      "text/plain": [
       "<matplotlib.collections.PathCollection at 0x7f97c4412890>"
      ]
     },
     "execution_count": 43,
     "metadata": {},
     "output_type": "execute_result"
    },
    {
     "data": {
      "image/png": "[encoded data removed]",
      "text/plain": [
       "<Figure size 640x480 with 1 Axes>"
      ]
     },
     "metadata": {},
     "output_type": "display_data"
    }
   ],
   "source": [
    "plt.scatter(class1[:, 0], class1[:, 1])"
   ]
  },
  {
   "cell_type": "code",
   "execution_count": 44,
   "metadata": {
    "colab": {
     "base_uri": "https://localhost:8080/"
    },
    "id": "r-eDDdpze9FJ",
    "outputId": "bd46ac85-9a5e-43fc-d845-6300669c6d7b"
   },
   "outputs": [
    {
     "data": {
      "text/plain": [
       "Array([[3.6587057, 3.276566 ],\n",
       "       [2.3907404, 3.2305648],\n",
       "       [2.9801316, 2.669557 ],\n",
       "       [1.739017 , 1.6249541],\n",
       "       [2.5033264, 2.8402581]], dtype=float32)"
      ]
     },
     "execution_count": 44,
     "metadata": {},
     "output_type": "execute_result"
    }
   ],
   "source": [
    "key, subkey = random.split(key)\n",
    "class2 = random.multivariate_normal(key,\n",
    "                           mean=jnp.array([3, 3]),\n",
    "                           cov=.5*np.array([1, .7, .7, 1]).reshape(2,2),\n",
    "                          shape=[100,])\n",
    "class2[:5,:]"
   ]
  },
  {
   "cell_type": "code",
   "execution_count": 45,
   "metadata": {
    "colab": {
     "base_uri": "https://localhost:8080/",
     "height": 470
    },
    "id": "3vA8YMIDe9FK",
    "outputId": "e3cfd479-37b0-44e7-b764-23d33990b37f"
   },
   "outputs": [
    {
     "data": {
      "text/plain": [
       "<matplotlib.legend.Legend at 0x7f97c452c390>"
      ]
     },
     "execution_count": 45,
     "metadata": {},
     "output_type": "execute_result"
    },
    {
     "data": {
      "image/png": "[encoded data removed]",
      "text/plain": [
       "<Figure size 640x480 with 1 Axes>"
      ]
     },
     "metadata": {},
     "output_type": "display_data"
    }
   ],
   "source": [
    "\n",
    "fig = plt.figure()\n",
    "ax1 = fig.add_subplot(111)\n",
    "\n",
    "ax1.scatter(class1[:, 0], class1[:, 1], s=10, c='b', marker=\"s\", label='class1')\n",
    "ax1.scatter(class2[:, 0], class2[:, 1], s=10, c='r', marker=\"s\", label='class2')\n",
    "plt.title('Two classes')\n",
    "plt.legend()\n"
   ]
  },
  {
   "cell_type": "markdown",
   "metadata": {
    "id": "RiX2d9que9FK"
   },
   "source": [
    "Logistic regression models the probability of belonging to $class1$ as\n",
    "$$\n",
    "p = \\frac{1}{1+e^{-(wx + b)}},\n",
    "$$\n",
    "where, in our case, $w = (w_1, w_2), x = (x_1, x_2)$, and $b$ is a scalar.\n",
    "The loss function at $p_k, y_k$ is defined as \n",
    "\n",
    "$$\n",
    "\\left\\{\n",
    "\\begin{array}{l}\n",
    "      -log(p_k),\\ if\\  y_k = 1\\ \\    (class 1),\\\\\n",
    "      -log(1-p_k),\\ if\\  y_k=0 \\ \\    (class 2).\n",
    "      \\end{array}\n",
    "  \\right.\n",
    "$$\n",
    "Combining, we get cross entropy loss function\n",
    "\n",
    "$$\n",
    "L = -\\Sigma_1^N (y_k\\log(p_k) + (1-y_k)log(1-p_k)).\n",
    "$$"
   ]
  },
  {
   "cell_type": "code",
   "execution_count": 46,
   "metadata": {
    "id": "ZIFK2PhDe9FK"
   },
   "outputs": [],
   "source": [
    "# implement functions\n",
    "@jax.jit\n",
    "def sigmoid(t):\n",
    "    return 1/(1 + jnp.exp(-t))\n",
    "\n",
    "@jax.jit\n",
    "def model(theta, x):\n",
    "    w = theta[:-1]\n",
    "    b = theta[-1]\n",
    "    t = jnp.dot(w, x) + b\n",
    "    p = sigmoid(t)\n",
    "    return p\n",
    "\n",
    "# loss function - cross entropy\n",
    "def loss_fn(theta, x, y):\n",
    "  p = model(theta, x)\n",
    "#  print(theta.dtype)\n",
    "#  print(y.dtype)\n",
    "# print(y*(jnp.log(p) + (1-y)*jnp.log(1-p)))    \n",
    "  return -jnp.mean(y*jnp.log(p) + (1-y)*jnp.log(1-p))\n",
    "\n",
    "# update step\n",
    "@jax.jit\n",
    "def update(theta, x, y, lr=0.01):\n",
    "  return theta - lr * grad(loss_fn)(theta, x, y)"
   ]
  },
  {
   "cell_type": "code",
   "execution_count": 47,
   "metadata": {
    "colab": {
     "base_uri": "https://localhost:8080/"
    },
    "id": "WKRzeTE3e9FK",
    "outputId": "69a2fb55-dc17-4382-ab99-9b6b5135d71f"
   },
   "outputs": [
    {
     "data": {
      "text/plain": [
       "Array([[ 2.2076726 ,  0.63324547],\n",
       "       [ 0.53972983, -0.5107355 ],\n",
       "       [ 1.6998711 ,  1.4444137 ],\n",
       "       [-0.05809402,  1.3304108 ],\n",
       "       [ 0.23326337,  0.6060622 ]], dtype=float32)"
      ]
     },
     "execution_count": 47,
     "metadata": {},
     "output_type": "execute_result"
    }
   ],
   "source": [
    "class1[:5, :]"
   ]
  },
  {
   "cell_type": "code",
   "execution_count": 48,
   "metadata": {
    "colab": {
     "base_uri": "https://localhost:8080/"
    },
    "id": "vcYvh6Lee9FK",
    "outputId": "fddf18d9-0618-4412-ca9a-55466e301d0e"
   },
   "outputs": [
    {
     "data": {
      "text/plain": [
       "Array([0.97897756, 0.73672086, 0.98439276, 0.9065582 , 0.8628689 ],      dtype=float32)"
      ]
     },
     "execution_count": 48,
     "metadata": {},
     "output_type": "execute_result"
    }
   ],
   "source": [
    "theta = np.array([1., 1., 1.])\n",
    "model(theta, class1[:5, :].transpose())"
   ]
  },
  {
   "cell_type": "code",
   "execution_count": 54,
   "metadata": {
    "id": "Vf7G130xe9FK"
   },
   "outputs": [
    {
     "data": {
      "text/plain": [
       "Array(3.5659707, dtype=float32)"
      ]
     },
     "execution_count": 54,
     "metadata": {},
     "output_type": "execute_result"
    }
   ],
   "source": [
    "loss_fn(theta, data[:,:-1].transpose(), lbl)"
   ]
  },
  {
   "cell_type": "code",
   "execution_count": 50,
   "metadata": {
    "colab": {
     "base_uri": "https://localhost:8080/"
    },
    "id": "7l8gBW1qe9FL",
    "outputId": "d27933bb-d61b-4939-835d-8a4f9fc34169"
   },
   "outputs": [
    {
     "data": {
      "text/plain": [
       "3.565970814956701"
      ]
     },
     "execution_count": 50,
     "metadata": {},
     "output_type": "execute_result"
    }
   ],
   "source": [
    "# alternative cross entropy function\n",
    "from sklearn.metrics import log_loss\n",
    "lbl = jnp.concatenate((jnp.ones(shape=(len(class1),)), jnp.zeros(shape=(len(class2),))))\n",
    "data = jnp.column_stack((jnp.row_stack((class1, class2)), lbl))\n",
    "log_loss(lbl, model(theta, data[:,:-1].transpose()))"
   ]
  },
  {
   "cell_type": "code",
   "execution_count": 51,
   "metadata": {
    "id": "huPH9UG1e9FL"
   },
   "outputs": [],
   "source": [
    "def BinaryCrossEntropy(y_true, y_pred):\n",
    "    y_pred = np.clip(y_pred, 1e-7, 1 - 1e-7)\n",
    "    term_0 = (1-y_true) * np.log(1-y_pred + 1e-7)\n",
    "    term_1 = y_true * np.log(y_pred + 1e-7)\n",
    "    return -np.mean(term_0+term_1, axis=0)"
   ]
  },
  {
   "cell_type": "code",
   "execution_count": 52,
   "metadata": {
    "colab": {
     "base_uri": "https://localhost:8080/"
    },
    "id": "1S_eNwWDe9FL",
    "outputId": "619b1143-9fe9-40e2-c207-93a57b8c21f6"
   },
   "outputs": [
    {
     "data": {
      "text/plain": [
       "Array(3.5658102, dtype=float32)"
      ]
     },
     "execution_count": 52,
     "metadata": {},
     "output_type": "execute_result"
    }
   ],
   "source": [
    "BinaryCrossEntropy(lbl, model(theta, data[:,:-1].transpose()))"
   ]
  },
  {
   "cell_type": "code",
   "execution_count": null,
   "metadata": {
    "id": "q67Za-zde9FL"
   },
   "outputs": [],
   "source": []
  },
  {
   "cell_type": "code",
   "execution_count": 56,
   "metadata": {
    "colab": {
     "base_uri": "https://localhost:8080/"
    },
    "id": "vIB-FBT0e9FL",
    "outputId": "142e3b2f-d3ec-422a-bd33-41d701fa86eb"
   },
   "outputs": [
    {
     "data": {
      "text/plain": [
       "Array([1.0003867, 1.0003953, 1.0009131], dtype=float32)"
      ]
     },
     "execution_count": 56,
     "metadata": {},
     "output_type": "execute_result"
    }
   ],
   "source": [
    "update(theta, class1[:, :].transpose(), jnp.ones(shape=(len(class1),)))"
   ]
  },
  {
   "cell_type": "code",
   "execution_count": 57,
   "metadata": {
    "colab": {
     "base_uri": "https://localhost:8080/"
    },
    "id": "9gIBobSre9FL",
    "outputId": "8006609e-c8fb-427e-8dcc-088bdc3fce9b"
   },
   "outputs": [
    {
     "name": "stdout",
     "output_type": "stream",
     "text": [
      "(200, 3)\n",
      "[[ 2.2076726   0.63324547  1.        ]\n",
      " [ 0.53972983 -0.5107355   1.        ]\n",
      " [ 1.6998711   1.4444137   1.        ]\n",
      " [-0.05809402  1.3304108   1.        ]\n",
      " [ 0.23326337  0.6060622   1.        ]]\n",
      "[[4.2168283 4.838749  0.       ]\n",
      " [3.027188  2.895407  0.       ]\n",
      " [4.1475687 3.578512  0.       ]\n",
      " [3.8165798 4.3165026 0.       ]\n",
      " [0.9768336 1.3954045 0.       ]]\n"
     ]
    }
   ],
   "source": [
    "#input data\n",
    "lbl = jnp.concatenate((jnp.ones(shape=(len(class1),)), jnp.zeros(shape=(len(class2),))))\n",
    "data = jnp.column_stack((jnp.row_stack((class1, class2)), lbl))\n",
    "print(data.shape)\n",
    "print(data[:5, :])\n",
    "print(data[-5:, :])\n",
    "# train/test split\n",
    "X_train, X_test, y_train, y_test = train_test_split(\n",
    "    data[:,:-1], \n",
    "    data[:,-1], \n",
    "    test_size=0.3, random_state=212\n",
    ")"
   ]
  },
  {
   "cell_type": "code",
   "execution_count": 58,
   "metadata": {
    "colab": {
     "base_uri": "https://localhost:8080/"
    },
    "id": "RbcrkPsbe9FL",
    "outputId": "1866de34-8ca4-47ac-fcb5-5bae938b2254"
   },
   "outputs": [
    {
     "name": "stdout",
     "output_type": "stream",
     "text": [
      "(140, 2)\n",
      "(60, 2)\n",
      "(140,)\n",
      "(60,)\n",
      "30.0\n"
     ]
    }
   ],
   "source": [
    "print(X_train.shape)\n",
    "print(X_test.shape)\n",
    "print(y_train.shape)\n",
    "print(y_test.shape)\n",
    "print(y_test.sum())"
   ]
  },
  {
   "cell_type": "code",
   "execution_count": 72,
   "metadata": {
    "colab": {
     "base_uri": "https://localhost:8080/"
    },
    "id": "uqFPE2Fze9FM",
    "outputId": "a4c48fd1-f407-4c4c-c963-33521d221a1b"
   },
   "outputs": [
    {
     "name": "stdout",
     "output_type": "stream",
     "text": [
      "3.1687317 2.9157207\n",
      "2.6889741 2.48175\n",
      "2.2205 2.059703\n",
      "1.7718313 1.6576842\n",
      "1.3596144 1.2906746\n",
      "1.012599 0.98337924\n",
      "0.7634139 0.7628756\n",
      "0.6172642 0.6326694\n",
      "0.5421018 0.56481814\n",
      "0.50348717 0.5293926\n",
      "0.4822276 0.50956506\n",
      "0.46948668 0.49749896\n",
      "0.46118453 0.48953354\n",
      "0.45532972 0.4838617\n",
      "0.4508901 0.4795364\n",
      "0.44730198 0.47603482\n",
      "0.44424433 0.4730556\n",
      "0.44152758 0.4704189\n",
      "0.43903673 0.46801388\n",
      "0.43670037 0.46577084\n",
      "0.4344732 0.46364474\n",
      "0.43232614 0.46160612\n",
      "0.43024018 0.45963505\n",
      "0.42820278 0.45771822\n",
      "0.4262054 0.4558463\n",
      "0.42424244 0.4540127\n",
      "0.42230982 0.45221266\n",
      "0.42040488 0.45044288\n",
      "0.41852564 0.44870064\n",
      "0.41667068 0.44698408\n",
      "0.41483882 0.44529164\n",
      "0.41302928 0.44362205\n",
      "0.41124144 0.4419744\n",
      "0.4094747 0.44034776\n",
      "0.40772858 0.4387415\n",
      "0.4060027 0.437155\n",
      "0.40429667 0.43558767\n",
      "0.40261012 0.43403912\n",
      "0.40094277 0.4325088\n",
      "0.39929432 0.43099642\n",
      "0.39766443 0.4295015\n",
      "0.39605284 0.42802376\n",
      "0.39445928 0.42656285\n",
      "0.39288348 0.4251185\n",
      "0.39132515 0.42369038\n",
      "0.38978404 0.42227817\n",
      "0.38825995 0.42088175\n",
      "0.3867526 0.41950068\n",
      "0.3852617 0.41813487\n",
      "0.38378704 0.416784\n",
      "0.38232848 0.4154478\n",
      "0.38088563 0.4141261\n",
      "0.37945834 0.41281867\n",
      "0.37804642 0.41152534\n",
      "0.37664962 0.41024584\n",
      "0.37526768 0.40897998\n",
      "0.37390044 0.40772754\n",
      "0.3725477 0.4064884\n",
      "0.37120923 0.40526226\n",
      "0.36988482 0.40404904\n",
      "0.36857426 0.40284848\n",
      "0.36727738 0.40166047\n",
      "0.365994 0.40048477\n",
      "0.36472392 0.39932126\n",
      "0.36346695 0.3981697\n",
      "0.36222288 0.39702994\n",
      "0.3609916 0.3959019\n",
      "0.35977286 0.39478537\n",
      "0.35856652 0.39368016\n",
      "0.3573724 0.3925861\n",
      "0.35619032 0.3915031\n",
      "0.35502014 0.39043105\n",
      "0.35386166 0.38936964\n",
      "0.35271475 0.38831884\n",
      "0.35157928 0.38727853\n",
      "0.35045505 0.3862485\n",
      "0.3493419 0.38522863\n",
      "0.34823975 0.38421887\n",
      "0.34714833 0.3832189\n",
      "0.3460676 0.38222882\n",
      "0.34499738 0.3812483\n",
      "0.34393755 0.38027734\n",
      "0.3428879 0.3793157\n",
      "0.3418484 0.37836334\n",
      "0.34081885 0.37742016\n",
      "0.3397991 0.37648603\n",
      "0.3387891 0.37556076\n",
      "0.33778864 0.3746443\n",
      "0.33679762 0.37373653\n",
      "0.33581597 0.37283728\n",
      "0.3348435 0.37194654\n",
      "0.33388007 0.3710641\n",
      "0.33292565 0.37018996\n",
      "0.33198008 0.36932394\n",
      "0.33104318 0.36846593\n",
      "0.33011496 0.36761585\n",
      "0.32919523 0.36677364\n",
      "0.3282839 0.36593914\n",
      "0.32738087 0.36511222\n",
      "0.32648605 0.36429292\n",
      "0.32559928 0.36348104\n",
      "0.3247205 0.3626765\n",
      "0.3238496 0.36187923\n",
      "0.3229865 0.36108914\n",
      "0.32213107 0.36030608\n",
      "0.32128322 0.35953012\n",
      "0.32044291 0.358761\n",
      "0.31960997 0.35799873\n",
      "0.31878433 0.3572432\n",
      "0.31796592 0.35649434\n",
      "0.31715465 0.35575205\n",
      "0.31635043 0.3550163\n",
      "0.3155531 0.35428688\n",
      "0.3147627 0.35356385\n",
      "0.3139791 0.35284713\n",
      "0.31320217 0.35213655\n",
      "0.31243187 0.35143209\n",
      "0.31166813 0.3507337\n",
      "0.31091085 0.3500413\n",
      "0.31015995 0.3493548\n",
      "0.30941537 0.34867412\n",
      "0.30867702 0.34799922\n",
      "0.3079448 0.34733003\n",
      "0.30721873 0.34666649\n",
      "0.30649868 0.34600845\n",
      "0.3057845 0.34535593\n",
      "0.30507627 0.34470892\n",
      "0.30437383 0.34406722\n",
      "0.3036771 0.34343085\n",
      "0.3029861 0.34279978\n",
      "0.30230066 0.34217384\n",
      "0.30162075 0.34155306\n",
      "0.30094638 0.3409374\n",
      "0.30027738 0.3403267\n",
      "0.29961374 0.339721\n",
      "0.2989554 0.33912018\n",
      "0.2983023 0.33852425\n",
      "0.29765433 0.33793312\n",
      "0.29701155 0.33734667\n",
      "0.29637375 0.336765\n",
      "0.29574096 0.3361879\n",
      "0.29511315 0.3356154\n",
      "0.29449016 0.33504745\n",
      "0.2938721 0.33448398\n",
      "0.2932588 0.33392495\n",
      "0.29265016 0.33337033\n",
      "0.29204625 0.33282003\n",
      "0.29144695 0.33227402\n",
      "0.2908522 0.33173233\n",
      "0.290262 0.33119476\n",
      "0.28967628 0.3306614\n",
      "0.28909498 0.33013213\n",
      "0.28851804 0.3296069\n",
      "0.2879454 0.3290857\n",
      "0.2873771 0.32856855\n",
      "0.286813 0.32805526\n",
      "0.28625315 0.32754594\n",
      "0.28569734 0.32704043\n",
      "0.28514567 0.32653877\n",
      "0.2845981 0.32604083\n",
      "0.28405452 0.32554665\n",
      "0.2835149 0.32505623\n",
      "0.2829792 0.3245694\n",
      "0.2824474 0.32408622\n",
      "0.28191948 0.32360664\n",
      "0.28139535 0.32313055\n",
      "0.2808749 0.322658\n",
      "0.28035828 0.32218897\n",
      "0.27984533 0.3217233\n",
      "0.27933604 0.3212611\n",
      "0.27883035 0.32080224\n",
      "0.27832818 0.3203467\n",
      "0.27782965 0.3198945\n",
      "0.27733457 0.31944555\n",
      "0.27684298 0.31899983\n",
      "0.2763548 0.31855735\n",
      "0.27587003 0.31811798\n",
      "0.2753886 0.31768182\n",
      "0.2749105 0.3172487\n",
      "0.27443576 0.31681868\n",
      "0.2739642 0.3163917\n",
      "0.27349594 0.31596777\n",
      "0.27303085 0.3155468\n",
      "0.2725689 0.31512877\n",
      "0.27211016 0.31471375\n",
      "0.27165446 0.31430158\n",
      "0.27120188 0.31389228\n",
      "0.27075228 0.3134858\n",
      "0.27030575 0.31308216\n",
      "0.26986217 0.3126813\n",
      "0.2694216 0.31228322\n",
      "0.2689839 0.3118879\n",
      "0.26854914 0.3114952\n",
      "0.2681172 0.3111053\n",
      "0.26768816 0.31071797\n",
      "0.2672619 0.31033334\n",
      "0.26683846 0.30995128\n",
      "0.26641774 0.30957183\n",
      "0.26599976 0.30919495\n",
      "0.26558453 0.30882055\n",
      "0.26517195 0.30844867\n",
      "0.26476207 0.30807936\n",
      "0.26435477 0.3077124\n",
      "0.2639501 0.30734798\n",
      "0.26354802 0.30698594\n",
      "0.2631485 0.30662626\n",
      "0.26275152 0.30626902\n",
      "0.26235703 0.30591413\n",
      "0.26196507 0.3055615\n",
      "0.26157555 0.30521128\n",
      "0.26118848 0.30486327\n",
      "0.26080385 0.30451757\n",
      "0.2604216 0.30417413\n",
      "0.26004174 0.30383286\n",
      "0.2596642 0.30349383\n",
      "0.25928903 0.30315703\n",
      "0.25891617 0.30282235\n",
      "0.2585456 0.30248988\n",
      "0.2581773 0.30215946\n",
      "0.25781128 0.30183113\n",
      "0.25744745 0.30150497\n",
      "0.25708586 0.30118087\n",
      "0.25672644 0.30085883\n",
      "0.2563692 0.30053878\n",
      "0.25601414 0.30022082\n",
      "0.2556612 0.29990485\n",
      "0.25531033 0.29959083\n",
      "0.2549616 0.29927877\n",
      "0.25461495 0.29896864\n",
      "0.25427034 0.2986605\n",
      "0.25392777 0.29835427\n",
      "0.25358725 0.2980499\n",
      "0.25324872 0.29774743\n",
      "0.2529122 0.2974469\n",
      "0.25257763 0.29714814\n",
      "0.252245 0.29685122\n",
      "0.25191432 0.29655614\n",
      "0.25158557 0.29626283\n",
      "0.25125873 0.29597136\n",
      "0.2509338 0.29568166\n",
      "0.2506107 0.29539365\n",
      "0.2502895 0.29510748\n",
      "0.24997011 0.294823\n",
      "0.24965253 0.29454023\n",
      "0.24933681 0.29425916\n",
      "0.24902287 0.29397976\n",
      "0.24871069 0.293702\n",
      "0.24840029 0.29342598\n",
      "0.24809167 0.2931516\n",
      "0.24778472 0.2928788\n",
      "0.24747953 0.29260764\n",
      "0.24717604 0.29233813\n",
      "0.24687427 0.29207015\n",
      "0.24657413 0.29180375\n",
      "0.24627571 0.29153895\n",
      "0.24597892 0.29127568\n",
      "0.24568376 0.291014\n",
      "0.24539024 0.29075375\n",
      "0.24509834 0.2904951\n",
      "0.24480797 0.29023793\n",
      "0.24451926 0.28998223\n",
      "0.24423212 0.28972802\n",
      "0.24394651 0.28947526\n",
      "0.24366248 0.289224\n",
      "0.24337998 0.28897417\n",
      "0.24309899 0.28872576\n",
      "0.24281952 0.2884788\n",
      "0.24254154 0.2882332\n",
      "0.24226505 0.28798905\n",
      "0.24199003 0.28774625\n",
      "0.24171649 0.28750485\n",
      "0.2414444 0.28726485\n",
      "0.24117374 0.28702617\n",
      "0.24090454 0.28678882\n",
      "0.24063672 0.2865528\n",
      "0.24037035 0.28631815\n",
      "0.24010533 0.28608477\n",
      "0.23984173 0.2858527\n",
      "0.2395795 0.28562194\n",
      "0.23931862 0.28539246\n",
      "0.23905912 0.28516427\n",
      "0.23880094 0.2849373\n",
      "0.23854408 0.28471163\n",
      "0.23828861 0.28448716\n",
      "0.23803438 0.28426394\n",
      "0.2377815 0.284042\n",
      "0.23752992 0.28382123\n",
      "0.2372796 0.28360167\n",
      "0.23703055 0.2833833\n",
      "0.23678279 0.28316617\n",
      "0.23653628 0.2829502\n",
      "0.23629099 0.28273535\n",
      "0.23604693 0.2825217\n",
      "0.23580416 0.28230923\n",
      "0.23556255 0.2820979\n",
      "0.23532213 0.2818877\n",
      "0.23508295 0.2816786\n",
      "0.23484497 0.28147063\n",
      "0.23460816 0.2812638\n",
      "0.23437256 0.28105807\n",
      "0.23413806 0.28085342\n",
      "0.23390476 0.2806499\n",
      "0.2336726 0.2804474\n",
      "0.23344155 0.280246\n",
      "0.23321165 0.28004566\n",
      "0.23298289 0.2798464\n",
      "0.23275523 0.27964815\n",
      "0.23252869 0.27945095\n",
      "0.23230323 0.27925482\n",
      "0.23207888 0.27905968\n",
      "0.23185559 0.27886558\n",
      "0.23163341 0.2786725\n",
      "0.23141229 0.2784804\n",
      "0.23119223 0.2782893\n",
      "0.23097318 0.2780992\n",
      "0.23075521 0.2779101\n",
      "0.2305383 0.277722\n",
      "0.2303224 0.2775348\n",
      "0.2301075 0.2773486\n",
      "0.22989365 0.27716333\n",
      "0.22968079 0.27697906\n",
      "0.22946894 0.2767957\n",
      "0.2292581 0.2766133\n",
      "0.2290482 0.2764318\n",
      "0.22883935 0.27625123\n",
      "0.22863144 0.2760716\n",
      "0.22842449 0.27589285\n",
      "0.22821851 0.27571502\n",
      "0.2280135 0.2755381\n",
      "0.22780941 0.2753621\n",
      "0.22760627 0.2751869\n",
      "0.22740407 0.27501267\n",
      "0.2272028 0.27483922\n",
      "0.22700244 0.27466673\n",
      "0.226803 0.274495\n",
      "0.22660449 0.27432424\n",
      "0.22640686 0.27415428\n",
      "0.22621015 0.27398518\n",
      "0.2260143 0.27381688\n",
      "0.22581936 0.27364942\n",
      "0.22562528 0.2734828\n",
      "0.22543208 0.27331704\n",
      "0.22523974 0.27315202\n",
      "0.2250483 0.27298784\n",
      "0.22485767 0.27282453\n",
      "0.22466792 0.27266195\n",
      "0.22447899 0.2725002\n",
      "0.22429094 0.2723392\n",
      "0.22410369 0.272179\n",
      "0.22391729 0.2720196\n",
      "0.2237317 0.27186096\n",
      "0.22354692 0.2717031\n",
      "0.22336297 0.271546\n",
      "0.2231798 0.27138963\n",
      "0.22299747 0.271234\n",
      "0.2228159 0.2710792\n",
      "0.22263514 0.2709251\n",
      "0.22245516 0.27077174\n",
      "0.22227596 0.2706191\n",
      "0.22209756 0.2704672\n",
      "0.22191991 0.27031603\n",
      "0.22174302 0.2701656\n",
      "0.22156692 0.27001587\n",
      "0.22139154 0.26986682\n",
      "0.22121693 0.26971853\n",
      "0.22104305 0.2695709\n",
      "0.22086994 0.26942402\n",
      "0.22069757 0.26927778\n",
      "0.2205259 0.26913226\n",
      "0.22035499 0.2689874\n",
      "0.22018477 0.26884323\n",
      "0.2200153 0.26869974\n",
      "0.21984653 0.2685569\n",
      "0.21967848 0.26841474\n",
      "0.21951112 0.26827323\n",
      "0.21934447 0.26813242\n",
      "0.21917853 0.26799223\n",
      "0.21901327 0.2678527\n",
      "0.21884868 0.26771384\n",
      "0.21868479 0.2675756\n",
      "0.21852158 0.267438\n",
      "0.21835905 0.26730102\n",
      "0.21819717 0.26716468\n",
      "0.21803597 0.267029\n",
      "0.21787542 0.26689392\n",
      "0.21771558 0.26675946\n",
      "0.21755636 0.26662558\n",
      "0.21739778 0.26649237\n",
      "0.21723987 0.26635972\n",
      "0.21708259 0.2662277\n",
      "0.21692595 0.26609626\n",
      "0.21676995 0.26596543\n",
      "0.21661456 0.2658352\n",
      "0.21645984 0.26570556\n",
      "0.2163057 0.2655765\n",
      "0.21615222 0.26544803\n",
      "0.21599932 0.26532015\n",
      "0.21584705 0.2651928\n",
      "0.21569538 0.26506606\n"
     ]
    },
    {
     "name": "stdout",
     "output_type": "stream",
     "text": [
      "0.21554434 0.26493987\n",
      "0.21539389 0.26481426\n",
      "0.21524405 0.2646892\n",
      "0.21509479 0.2645647\n",
      "0.21494612 0.26444077\n",
      "0.21479803 0.26431736\n",
      "0.21465054 0.26419455\n",
      "0.21450363 0.26407224\n",
      "0.21435732 0.2639505\n",
      "0.21421154 0.2638293\n",
      "0.21406634 0.2637086\n",
      "0.21392173 0.26358843\n",
      "0.21377765 0.26346883\n",
      "0.21363416 0.26334974\n",
      "0.21349122 0.26323122\n",
      "0.21334882 0.26311314\n",
      "0.21320699 0.2629956\n",
      "0.21306571 0.2628786\n",
      "0.21292496 0.2627621\n",
      "0.21278477 0.26264608\n",
      "0.21264513 0.2625306\n",
      "0.21250598 0.2624156\n",
      "0.2123674 0.26230112\n",
      "0.21222933 0.26218712\n",
      "0.21209179 0.2620736\n",
      "0.21195477 0.2619606\n",
      "0.2118183 0.26184806\n",
      "0.2116823 0.26173604\n",
      "0.21154684 0.2616245\n",
      "0.2114119 0.2615134\n",
      "0.21127746 0.2614028\n",
      "0.21114352 0.26129267\n",
      "0.21101008 0.26118302\n",
      "0.21087717 0.26107383\n",
      "0.21074474 0.26096508\n",
      "0.21061279 0.26085684\n",
      "0.21048135 0.26074907\n",
      "0.21035041 0.26064172\n",
      "0.21021993 0.26053485\n",
      "0.21008995 0.26042843\n",
      "0.20996042 0.26032245\n",
      "0.2098314 0.26021692\n",
      "0.20970286 0.26011184\n",
      "0.20957479 0.26000723\n",
      "0.20944718 0.259903\n",
      "0.20932004 0.25979924\n",
      "0.20919336 0.25969592\n",
      "0.20906717 0.259593\n",
      "0.20894143 0.25949058\n",
      "0.20881614 0.25938857\n",
      "0.2086913 0.25928694\n",
      "0.20856693 0.25918576\n",
      "0.20844302 0.259085\n",
      "0.20831954 0.25898466\n",
      "0.2081965 0.25888476\n",
      "0.20807391 0.25878522\n",
      "0.20795177 0.25868616\n",
      "0.20783006 0.25858748\n",
      "0.20770879 0.25848922\n",
      "0.20758797 0.2583913\n",
      "0.20746754 0.25829384\n",
      "0.20734757 0.25819674\n",
      "0.207228 0.25810012\n",
      "0.2071089 0.25800383\n",
      "0.2069902 0.25790796\n",
      "0.20687193 0.2578125\n",
      "0.20675406 0.25771737\n",
      "0.20663662 0.2576227\n",
      "0.20651959 0.25752836\n",
      "0.20640297 0.25743446\n",
      "0.20628676 0.25734088\n",
      "0.20617093 0.25724775\n",
      "0.20605557 0.2571549\n",
      "0.20594057 0.25706252\n",
      "0.20582595 0.2569705\n",
      "0.20571178 0.25687882\n",
      "0.20559798 0.2567875\n",
      "0.20548458 0.2566966\n",
      "0.20537157 0.256606\n",
      "0.20525895 0.2565158\n",
      "0.20514673 0.256426\n",
      "0.20503488 0.25633654\n",
      "0.20492342 0.2562474\n",
      "0.20481235 0.25615865\n",
      "0.20470166 0.25607026\n",
      "0.20459136 0.25598222\n",
      "0.20448142 0.2558945\n",
      "0.20437187 0.25580716\n",
      "0.20426267 0.25572014\n",
      "0.20415385 0.2556335\n",
      "0.2040454 0.2555472\n",
      "0.20393732 0.25546122\n",
      "0.2038296 0.25537562\n",
      "0.20372227 0.25529033\n",
      "0.20361528 0.25520536\n",
      "0.20350865 0.25512075\n",
      "0.20340239 0.25503647\n",
      "0.20329647 0.25495252\n",
      "0.20319092 0.2548689\n",
      "0.2030857 0.25478563\n",
      "0.20298086 0.25470266\n",
      "[-1.211554   -0.83357614  3.6837006 ]\n"
     ]
    }
   ],
   "source": [
    "# fit parameters\n",
    "# initial parateters\n",
    "theta = jnp.array([1., 1., 1.])\n",
    "n_iterations = 500\n",
    "lr = .1\n",
    "for i in range(n_iterations):\n",
    "    #print(theta)\n",
    "    theta = update(theta, X_train.transpose(), y_train, lr=lr)\n",
    "    print(loss_fn(theta, X_train.transpose(), y_train), loss_fn(theta, X_test.transpose(), y_test))\n",
    "print(theta)\n"
   ]
  },
  {
   "cell_type": "code",
   "execution_count": 63,
   "metadata": {
    "id": "-3EbI1sUe9FM"
   },
   "outputs": [],
   "source": [
    "#jnp.column_stack((model(theta, X_train.transpose()), y_train))"
   ]
  },
  {
   "cell_type": "code",
   "execution_count": 73,
   "metadata": {
    "id": "qTnVU-ORe9FM",
    "outputId": "da5a2cb5-2f5e-4c7c-f55a-b1538ba50a6b"
   },
   "outputs": [
    {
     "data": {
      "text/html": [
       "<div>\n",
       "<style scoped>\n",
       "    .dataframe tbody tr th:only-of-type {\n",
       "        vertical-align: middle;\n",
       "    }\n",
       "\n",
       "    .dataframe tbody tr th {\n",
       "        vertical-align: top;\n",
       "    }\n",
       "\n",
       "    .dataframe thead th {\n",
       "        text-align: right;\n",
       "    }\n",
       "</style>\n",
       "<table border=\"1\" class=\"dataframe\">\n",
       "  <thead>\n",
       "    <tr style=\"text-align: right;\">\n",
       "      <th></th>\n",
       "      <th>Prevalence</th>\n",
       "      <th>Sensitivity</th>\n",
       "      <th>Specificity</th>\n",
       "      <th>Accuracy</th>\n",
       "      <th>Precision</th>\n",
       "      <th>F1</th>\n",
       "      <th>FPR</th>\n",
       "      <th>MCC</th>\n",
       "      <th>AUC</th>\n",
       "      <th>LogLoss</th>\n",
       "    </tr>\n",
       "  </thead>\n",
       "  <tbody>\n",
       "    <tr>\n",
       "      <th>0</th>\n",
       "      <td>0.5</td>\n",
       "      <td>0.9</td>\n",
       "      <td>0.9714</td>\n",
       "      <td>0.9357</td>\n",
       "      <td>0.9692</td>\n",
       "      <td>0.9333</td>\n",
       "      <td>0.0286</td>\n",
       "      <td>0.8737</td>\n",
       "      <td>0.9855</td>\n",
       "      <td>0.203</td>\n",
       "    </tr>\n",
       "  </tbody>\n",
       "</table>\n",
       "</div>"
      ],
      "text/plain": [
       "   Prevalence  Sensitivity  Specificity  Accuracy  Precision      F1     FPR  \\\n",
       "0         0.5          0.9       0.9714    0.9357     0.9692  0.9333  0.0286   \n",
       "\n",
       "      MCC     AUC  LogLoss  \n",
       "0  0.8737  0.9855    0.203  "
      ]
     },
     "execution_count": 73,
     "metadata": {},
     "output_type": "execute_result"
    }
   ],
   "source": [
    "from ml.ml_utils import  binary_classification_metrics\n",
    "binary_classification_metrics(y_train,\n",
    "                              jnp.round(model(theta, X_train.transpose()), 0),\n",
    "                              model(theta, X_train.transpose()),\n",
    "                              4\n",
    "                             )"
   ]
  },
  {
   "cell_type": "code",
   "execution_count": 74,
   "metadata": {
    "id": "h7oP6shDe9FM",
    "outputId": "02c23dee-cdbe-48eb-b55a-e4f50d997f2d"
   },
   "outputs": [
    {
     "data": {
      "text/html": [
       "<div>\n",
       "<style scoped>\n",
       "    .dataframe tbody tr th:only-of-type {\n",
       "        vertical-align: middle;\n",
       "    }\n",
       "\n",
       "    .dataframe tbody tr th {\n",
       "        vertical-align: top;\n",
       "    }\n",
       "\n",
       "    .dataframe thead th {\n",
       "        text-align: right;\n",
       "    }\n",
       "</style>\n",
       "<table border=\"1\" class=\"dataframe\">\n",
       "  <thead>\n",
       "    <tr style=\"text-align: right;\">\n",
       "      <th></th>\n",
       "      <th>Prevalence</th>\n",
       "      <th>Sensitivity</th>\n",
       "      <th>Specificity</th>\n",
       "      <th>Accuracy</th>\n",
       "      <th>Precision</th>\n",
       "      <th>F1</th>\n",
       "      <th>FPR</th>\n",
       "      <th>MCC</th>\n",
       "      <th>AUC</th>\n",
       "      <th>LogLoss</th>\n",
       "    </tr>\n",
       "  </thead>\n",
       "  <tbody>\n",
       "    <tr>\n",
       "      <th>0</th>\n",
       "      <td>0.5</td>\n",
       "      <td>0.9667</td>\n",
       "      <td>0.9333</td>\n",
       "      <td>0.95</td>\n",
       "      <td>0.9355</td>\n",
       "      <td>0.9508</td>\n",
       "      <td>0.0667</td>\n",
       "      <td>0.9005</td>\n",
       "      <td>0.9656</td>\n",
       "      <td>0.2547</td>\n",
       "    </tr>\n",
       "  </tbody>\n",
       "</table>\n",
       "</div>"
      ],
      "text/plain": [
       "   Prevalence  Sensitivity  Specificity  Accuracy  Precision      F1     FPR  \\\n",
       "0         0.5       0.9667       0.9333      0.95     0.9355  0.9508  0.0667   \n",
       "\n",
       "      MCC     AUC  LogLoss  \n",
       "0  0.9005  0.9656   0.2547  "
      ]
     },
     "execution_count": 74,
     "metadata": {},
     "output_type": "execute_result"
    }
   ],
   "source": [
    "# now for test data\n",
    "binary_classification_metrics(y_test,\n",
    "                              jnp.round(model(theta, X_test.transpose()), 0),\n",
    "                              model(theta, X_test.transpose()),\n",
    "                              4\n",
    "                             )"
   ]
  },
  {
   "cell_type": "markdown",
   "metadata": {
    "id": "FSgPMq1Me9FM"
   },
   "source": [
    "Draw a decision boundary using cutoff of 0.5\n",
    "$$\n",
    "w_1x_1 + w_2x_2 + b = 0, \\newline\n",
    "x_2 = -\\frac{w_1}{w_2}x_1 - \\frac{b}{w_2}\n",
    "$$ "
   ]
  },
  {
   "cell_type": "code",
   "execution_count": 75,
   "metadata": {
    "colab": {
     "base_uri": "https://localhost:8080/",
     "height": 470
    },
    "id": "VIObCU3qe9FM",
    "outputId": "344a513f-42fa-42d8-a41d-c2d8d2b60634"
   },
   "outputs": [
    {
     "data": {
      "text/plain": [
       "<matplotlib.legend.Legend at 0x7f976419ef50>"
      ]
     },
     "execution_count": 75,
     "metadata": {},
     "output_type": "execute_result"
    },
    {
     "data": {
      "image/png": "[encoded data removed]",
      "text/plain": [
       "<Figure size 640x480 with 1 Axes>"
      ]
     },
     "metadata": {},
     "output_type": "display_data"
    }
   ],
   "source": [
    "fig = plt.figure()\n",
    "ax1 = fig.add_subplot(111)\n",
    "\n",
    "ax1.scatter(class1[:, 0], class1[:, 1], s=10, c='b', marker=\"s\", label='class1')\n",
    "ax1.scatter(class2[:, 0], class2[:, 1], s=10, c='r', marker=\"s\", label='class2')\n",
    "x1 = jnp.linspace(.5, 3.5, 50)\n",
    "x2 = ( -theta[0]*x1 - theta[2])/theta[1]\n",
    "ax1.plot(x1, x2, c='g')\n",
    "plt.title('Two classes with a decision boundary.')\n",
    "plt.legend()\n"
   ]
  },
  {
   "cell_type": "code",
   "execution_count": null,
   "metadata": {
    "id": "Ip9Nr5Noe9FM",
    "outputId": "09086ddb-2450-4bd7-90b3-fffa43231070"
   },
   "outputs": [
    {
     "data": {
      "text/plain": [
       "Array(5.084245, dtype=float32)"
      ]
     },
     "execution_count": 59,
     "metadata": {},
     "output_type": "execute_result"
    }
   ],
   "source": [
    "theta[2]"
   ]
  },
  {
   "cell_type": "code",
   "execution_count": null,
   "metadata": {
    "id": "9LQbiExqe9FN"
   },
   "outputs": [],
   "source": []
  },
  {
   "cell_type": "markdown",
   "metadata": {
    "id": "vc2KmO3de9FN"
   },
   "source": [
    "### Fully connected neural network."
   ]
  },
  {
   "cell_type": "markdown",
   "metadata": {
    "id": "Mf1_Tm_ee9FN"
   },
   "source": [
    "$x \\in R^n$, an input vector, transformed to a vector of length $m$ via \n",
    "$$\n",
    "x = xW + b, \\newline\n",
    "x = activation\\_function(x),\n",
    "$$\n",
    "where $W \\in R^{n\\times m}, b \\in R^m$.\n",
    "This represents one layer of the network. The final layer transforms to the dimension of the output, and in case of classsification - sigmoid.\n"
   ]
  },
  {
   "cell_type": "code",
   "execution_count": 76,
   "metadata": {
    "id": "PDVc1PGce9FN"
   },
   "outputs": [],
   "source": [
    "# A link to the data is availailable in the following blog post\n",
    "# https://scipython.com/blog/a-shallow-neural-network-for-simple-nonlinear-classification/\n",
    "df = pd.read_csv('../non_linear_class_example/labeled_points.txt', sep=' ',\n",
    "                usecols=[1,3,5], names=['x1', 'x2', 'label'])"
   ]
  },
  {
   "cell_type": "code",
   "execution_count": 77,
   "metadata": {
    "id": "1jxFukGFe9FN",
    "outputId": "c768784e-9557-457e-ad90-0d67ef3ceae8"
   },
   "outputs": [
    {
     "data": {
      "text/html": [
       "<div>\n",
       "<style scoped>\n",
       "    .dataframe tbody tr th:only-of-type {\n",
       "        vertical-align: middle;\n",
       "    }\n",
       "\n",
       "    .dataframe tbody tr th {\n",
       "        vertical-align: top;\n",
       "    }\n",
       "\n",
       "    .dataframe thead th {\n",
       "        text-align: right;\n",
       "    }\n",
       "</style>\n",
       "<table border=\"1\" class=\"dataframe\">\n",
       "  <thead>\n",
       "    <tr style=\"text-align: right;\">\n",
       "      <th></th>\n",
       "      <th>x1</th>\n",
       "      <th>x2</th>\n",
       "      <th>label</th>\n",
       "    </tr>\n",
       "  </thead>\n",
       "  <tbody>\n",
       "    <tr>\n",
       "      <th>0</th>\n",
       "      <td>0.50873</td>\n",
       "      <td>0.08490</td>\n",
       "      <td>1</td>\n",
       "    </tr>\n",
       "    <tr>\n",
       "      <th>1</th>\n",
       "      <td>0.96767</td>\n",
       "      <td>0.96752</td>\n",
       "      <td>1</td>\n",
       "    </tr>\n",
       "    <tr>\n",
       "      <th>2</th>\n",
       "      <td>0.72096</td>\n",
       "      <td>0.90628</td>\n",
       "      <td>1</td>\n",
       "    </tr>\n",
       "    <tr>\n",
       "      <th>3</th>\n",
       "      <td>0.66071</td>\n",
       "      <td>0.32757</td>\n",
       "      <td>1</td>\n",
       "    </tr>\n",
       "    <tr>\n",
       "      <th>4</th>\n",
       "      <td>0.48690</td>\n",
       "      <td>0.58265</td>\n",
       "      <td>0</td>\n",
       "    </tr>\n",
       "  </tbody>\n",
       "</table>\n",
       "</div>"
      ],
      "text/plain": [
       "        x1       x2  label\n",
       "0  0.50873  0.08490      1\n",
       "1  0.96767  0.96752      1\n",
       "2  0.72096  0.90628      1\n",
       "3  0.66071  0.32757      1\n",
       "4  0.48690  0.58265      0"
      ]
     },
     "execution_count": 77,
     "metadata": {},
     "output_type": "execute_result"
    }
   ],
   "source": [
    "df.head()"
   ]
  },
  {
   "cell_type": "code",
   "execution_count": 78,
   "metadata": {
    "id": "hD9-_C_ie9FN",
    "outputId": "e3b5d89d-e3e1-42a3-b440-2330884e3af3"
   },
   "outputs": [
    {
     "data": {
      "text/plain": [
       "<matplotlib.legend.Legend at 0x7f976412c2d0>"
      ]
     },
     "execution_count": 78,
     "metadata": {},
     "output_type": "execute_result"
    },
    {
     "data": {
      "image/png": "[encoded data removed]",
      "text/plain": [
       "<Figure size 640x480 with 1 Axes>"
      ]
     },
     "metadata": {},
     "output_type": "display_data"
    }
   ],
   "source": [
    "fig = plt.figure()\n",
    "ax1 = fig.add_subplot(111)\n",
    "df_cl1 = df[df.label == 0]\n",
    "df_cl2 = df[df.label == 1]\n",
    "ax1.scatter(df_cl1.x1, df_cl1.x2, s=5, c='b', marker=\"s\", label='class1')\n",
    "ax1.scatter(df_cl2.x1, df_cl2.x2, s=5, c='r', marker=\"s\", label='class2')\n",
    "fig.tight_layout()\n",
    "plt.title('Two classes')\n",
    "plt.legend()\n"
   ]
  },
  {
   "cell_type": "code",
   "execution_count": 80,
   "metadata": {
    "id": "gcziA3tze9FN",
    "outputId": "e7954141-2c31-4d09-8538-b4686eb52cb7"
   },
   "outputs": [
    {
     "name": "stdout",
     "output_type": "stream",
     "text": [
      "(2506, 2)\n",
      "(2506,)\n"
     ]
    }
   ],
   "source": [
    "# \n",
    "x = jnp.array(df[['x1', 'x2']])\n",
    "y = jnp.array(df['label'])\n",
    "print(x.shape)\n",
    "print(y.shape)"
   ]
  },
  {
   "cell_type": "code",
   "execution_count": 81,
   "metadata": {
    "id": "o-aZXiKDe9FO",
    "outputId": "c6f2fd0e-2dd9-430f-fe16-b5743c190774"
   },
   "outputs": [
    {
     "name": "stdout",
     "output_type": "stream",
     "text": [
      "[0.50873 0.0849 ]\n",
      "init inputs with random numbers:\n",
      "dimensions:\n",
      "W: (2, 10)\n",
      "b: (1, 10)\n",
      "W1: (10, 10)\n",
      "b1: (1, 10)\n",
      "w: (10, 1)\n",
      "model:\n"
     ]
    },
    {
     "ename": "TypeError",
     "evalue": "dot requires ndarray or scalar arguments, got <class 'tuple'> at position 0.",
     "output_type": "error",
     "traceback": [
      "\u001b[0;31m---------------------------------------------------------------------------\u001b[0m",
      "\u001b[0;31mTypeError\u001b[0m                                 Traceback (most recent call last)",
      "Cell \u001b[0;32mIn[81], line 22\u001b[0m\n\u001b[1;32m     20\u001b[0m \u001b[38;5;28mprint\u001b[39m(\u001b[38;5;124m'\u001b[39m\u001b[38;5;124mw:\u001b[39m\u001b[38;5;124m'\u001b[39m, w\u001b[38;5;241m.\u001b[39mshape)\n\u001b[1;32m     21\u001b[0m \u001b[38;5;28mprint\u001b[39m(\u001b[38;5;124m'\u001b[39m\u001b[38;5;124mmodel:\u001b[39m\u001b[38;5;124m'\u001b[39m)\n\u001b[0;32m---> 22\u001b[0m \u001b[38;5;28mprint\u001b[39m(model((W, b, W1, b1, w), x[\u001b[38;5;241m0\u001b[39m:\u001b[38;5;241m10\u001b[39m]))\n\u001b[1;32m     23\u001b[0m \u001b[38;5;28mprint\u001b[39m(\u001b[38;5;124m'\u001b[39m\u001b[38;5;124mloss function:\u001b[39m\u001b[38;5;124m'\u001b[39m)\n\u001b[1;32m     24\u001b[0m \u001b[38;5;28mprint\u001b[39m(loss_fn((W, b, W1, b1, w), x[\u001b[38;5;241m0\u001b[39m:\u001b[38;5;241m10\u001b[39m], y[\u001b[38;5;241m0\u001b[39m:\u001b[38;5;241m10\u001b[39m]))\n",
      "    \u001b[0;31m[... skipping hidden 12 frame]\u001b[0m\n",
      "Cell \u001b[0;32mIn[46], line 10\u001b[0m, in \u001b[0;36mmodel\u001b[0;34m(theta, x)\u001b[0m\n\u001b[1;32m      8\u001b[0m w \u001b[38;5;241m=\u001b[39m theta[:\u001b[38;5;241m-\u001b[39m\u001b[38;5;241m1\u001b[39m]\n\u001b[1;32m      9\u001b[0m b \u001b[38;5;241m=\u001b[39m theta[\u001b[38;5;241m-\u001b[39m\u001b[38;5;241m1\u001b[39m]\n\u001b[0;32m---> 10\u001b[0m t \u001b[38;5;241m=\u001b[39m jnp\u001b[38;5;241m.\u001b[39mdot(w, x) \u001b[38;5;241m+\u001b[39m b\n\u001b[1;32m     11\u001b[0m p \u001b[38;5;241m=\u001b[39m sigmoid(t)\n\u001b[1;32m     12\u001b[0m \u001b[38;5;28;01mreturn\u001b[39;00m p\n",
      "    \u001b[0;31m[... skipping hidden 12 frame]\u001b[0m\n",
      "File \u001b[0;32m~/miniconda3/envs/options/lib/python3.11/site-packages/jax/_src/numpy/lax_numpy.py:3015\u001b[0m, in \u001b[0;36mdot\u001b[0;34m(a, b, precision)\u001b[0m\n\u001b[1;32m   3012\u001b[0m \u001b[38;5;129m@util\u001b[39m\u001b[38;5;241m.\u001b[39m_wraps(np\u001b[38;5;241m.\u001b[39mdot, lax_description\u001b[38;5;241m=\u001b[39m_PRECISION_DOC)\n\u001b[1;32m   3013\u001b[0m \u001b[38;5;129m@partial\u001b[39m(jit, static_argnames\u001b[38;5;241m=\u001b[39m(\u001b[38;5;124m'\u001b[39m\u001b[38;5;124mprecision\u001b[39m\u001b[38;5;124m'\u001b[39m,), inline\u001b[38;5;241m=\u001b[39m\u001b[38;5;28;01mTrue\u001b[39;00m)\n\u001b[1;32m   3014\u001b[0m \u001b[38;5;28;01mdef\u001b[39;00m \u001b[38;5;21mdot\u001b[39m(a, b, \u001b[38;5;241m*\u001b[39m, precision\u001b[38;5;241m=\u001b[39m\u001b[38;5;28;01mNone\u001b[39;00m):  \u001b[38;5;66;03m# pylint: disable=missing-docstring\u001b[39;00m\n\u001b[0;32m-> 3015\u001b[0m   util\u001b[38;5;241m.\u001b[39mcheck_arraylike(\u001b[38;5;124m\"\u001b[39m\u001b[38;5;124mdot\u001b[39m\u001b[38;5;124m\"\u001b[39m, a, b)\n\u001b[1;32m   3016\u001b[0m   a, b \u001b[38;5;241m=\u001b[39m util\u001b[38;5;241m.\u001b[39mpromote_dtypes(a, b)\n\u001b[1;32m   3017\u001b[0m   a_ndim, b_ndim \u001b[38;5;241m=\u001b[39m ndim(a), ndim(b)\n",
      "File \u001b[0;32m~/miniconda3/envs/options/lib/python3.11/site-packages/jax/_src/numpy/util.py:328\u001b[0m, in \u001b[0;36mcheck_arraylike\u001b[0;34m(fun_name, *args)\u001b[0m\n\u001b[1;32m    325\u001b[0m pos, arg \u001b[38;5;241m=\u001b[39m \u001b[38;5;28mnext\u001b[39m((i, arg) \u001b[38;5;28;01mfor\u001b[39;00m i, arg \u001b[38;5;129;01min\u001b[39;00m \u001b[38;5;28menumerate\u001b[39m(args)\n\u001b[1;32m    326\u001b[0m                 \u001b[38;5;28;01mif\u001b[39;00m \u001b[38;5;129;01mnot\u001b[39;00m _arraylike(arg))\n\u001b[1;32m    327\u001b[0m msg \u001b[38;5;241m=\u001b[39m \u001b[38;5;124m\"\u001b[39m\u001b[38;5;132;01m{}\u001b[39;00m\u001b[38;5;124m requires ndarray or scalar arguments, got \u001b[39m\u001b[38;5;132;01m{}\u001b[39;00m\u001b[38;5;124m at position \u001b[39m\u001b[38;5;132;01m{}\u001b[39;00m\u001b[38;5;124m.\u001b[39m\u001b[38;5;124m\"\u001b[39m\n\u001b[0;32m--> 328\u001b[0m \u001b[38;5;28;01mraise\u001b[39;00m \u001b[38;5;167;01mTypeError\u001b[39;00m(msg\u001b[38;5;241m.\u001b[39mformat(fun_name, \u001b[38;5;28mtype\u001b[39m(arg), pos))\n",
      "\u001b[0;31mTypeError\u001b[0m: dot requires ndarray or scalar arguments, got <class 'tuple'> at position 0."
     ]
    }
   ],
   "source": [
    "#first point\n",
    "print(x[0])\n",
    "# W dim\n",
    "input_dim = 2\n",
    "hidden_dim = 10\n",
    "#key = jax.random.PRNGKey(42)\n",
    "#key, subkey = random.split(key)\n",
    "#print(random.normal(subkey, shape=(5,)))\n",
    "print('init inputs with random numbers:')\n",
    "W = jax.random.normal(key, shape=(input_dim, hidden_dim)) * .01\n",
    "b = jax.random.normal(key, shape=(1, hidden_dim)) * .01\n",
    "W1 = jax.random.normal(key, shape=(hidden_dim, hidden_dim)) * .01\n",
    "b1 = jax.random.normal(key, shape=(1, hidden_dim)) * .01\n",
    "w = jax.random.normal(key, shape=(hidden_dim, 1)) * .01\n",
    "print('dimensions:')\n",
    "print('W:', W.shape)\n",
    "print('b:', b.shape)\n",
    "print('W1:', W1.shape)\n",
    "print('b1:', b1.shape)\n",
    "print('w:', w.shape)\n",
    "print('model:')\n",
    "print(model((W, b, W1, b1, w), x[0:10]))\n",
    "print('loss function:')\n",
    "print(loss_fn((W, b, W1, b1, w), x[0:10], y[0:10]))\n",
    "print('gradient dim:')\n",
    "print(list(map(lambda i: i.shape, grad(loss_fn)((W, b, W1, b1, w), x[0:5], y[0:5]))))"
   ]
  },
  {
   "cell_type": "code",
   "execution_count": 82,
   "metadata": {
    "id": "7xqSv6pge9FO",
    "outputId": "ef877d46-7353-4899-e36a-ac8b2d4e2efe"
   },
   "outputs": [
    {
     "name": "stdout",
     "output_type": "stream",
     "text": [
      "[(1754, 2), (752, 2), (1754,), (752,)]\n",
      "1051 451\n"
     ]
    }
   ],
   "source": [
    "# split the data\n",
    "X_train, X_test, y_train, y_test = train_test_split(\n",
    "    x, \n",
    "    y,\n",
    "    stratify=y,\n",
    "    test_size=0.3, random_state=212\n",
    ")\n",
    "print(list(map(lambda i: i.shape, (X_train, X_test, y_train, y_test))))\n",
    "print(y_train.sum(), y_test.sum())"
   ]
  },
  {
   "cell_type": "markdown",
   "metadata": {
    "id": "587E8wrLe9FO"
   },
   "source": [
    "#### 2-layer nn using optax for optimization"
   ]
  },
  {
   "cell_type": "code",
   "execution_count": 83,
   "metadata": {
    "id": "U6L-nnEqe9FO",
    "outputId": "8c843fbe-2abd-4ced-941b-907afa649e10"
   },
   "outputs": [
    {
     "name": "stdout",
     "output_type": "stream",
     "text": [
      "Dimensions are  2 100 2\n",
      "Dimensions of w1 are  (2, 100)\n",
      "Dimensions of b1 are  (1, 100)\n",
      "Dimensions of w2 are  (100, 100)\n",
      "Dimensions of b2 are  (1, 100)\n",
      "Dimensions of w3 are  (100, 2)\n",
      "Dimensions of b3 are  (1, 2)\n"
     ]
    }
   ],
   "source": [
    "key, w1key, b1key, w2key, b2key, w3key, b3key = jax.random.split(key, 7)\n",
    "num_input = X_train.shape[1]\n",
    "num_hidden1 = 100\n",
    "num_hidden2 = 100\n",
    "num_labels = y_train.max() + 1\n",
    "print('Dimensions are ', num_input, num_hidden1, num_labels)\n",
    "#num_hidden2 = 1024\n",
    "params = dict(\n",
    "    w1 = 1e-2*jax.random.normal(w1key, (num_input, num_hidden1)),\n",
    "    b1 = 1e-2*jax.random.normal(b1key, (1, num_hidden1)),\n",
    "    w2 = 1e-2*jax.random.normal(w2key, (num_hidden1, num_hidden2)),\n",
    "    b2 = 1e-2*jax.random.normal(b2key, (1, num_hidden2)),\n",
    "    w3 = 1e-2*jax.random.normal(w3key, (num_hidden2, num_labels)),\n",
    "    b3 = 1e-2*jax.random.normal(b3key, (1, num_labels)),\n",
    ")\n",
    "for k in params.keys():\n",
    "    print(f'Dimensions of {k} are ', params[k].shape)"
   ]
  },
  {
   "cell_type": "code",
   "execution_count": 84,
   "metadata": {
    "id": "JWGwE2QMe9FO"
   },
   "outputs": [],
   "source": [
    "@jax.jit\n",
    "def net(params, x):\n",
    "    x = jax.nn.relu(x@params[\"w1\"] + params[\"b1\"])\n",
    "    x = jax.nn.relu(x@params[\"w2\"] + params[\"b2\"])\n",
    "    x = x@params[\"w3\"] + params[\"b3\"]\n",
    "#    x = sigmoid(x)\n",
    "    return x"
   ]
  },
  {
   "cell_type": "code",
   "execution_count": 85,
   "metadata": {
    "id": "iUC_VPrUe9FO",
    "outputId": "6ea76d40-577a-42ca-b906-ebbf20999dbf"
   },
   "outputs": [
    {
     "data": {
      "text/plain": [
       "Array(1.3849983, dtype=float32)"
      ]
     },
     "execution_count": 85,
     "metadata": {},
     "output_type": "execute_result"
    }
   ],
   "source": [
    "@jax.jit\n",
    "def loss(params: optax.Params, batch: jnp.ndarray, labels: jnp.ndarray) -> jnp.ndarray:\n",
    "  y_hat = net(params, batch)\n",
    "\n",
    "  # optax also provides a number of common loss functions.\n",
    "  loss_value = optax.sigmoid_binary_cross_entropy(y_hat, labels).sum(axis=-1)\n",
    "\n",
    "  return loss_value.mean()\n",
    "\n",
    "loss(params, X_train, jax.nn.one_hot(y_train, 2))"
   ]
  },
  {
   "cell_type": "code",
   "execution_count": 86,
   "metadata": {
    "id": "1YUDWma8e9FO"
   },
   "outputs": [],
   "source": [
    "@jax.jit\n",
    "def xeloss(x, y):\n",
    "    _elementwise_xeloss = jax.vmap(lambda x, y: -jax.nn.log_softmax(x)[y])\n",
    "    #print(_elementwise_xeloss(x, y))\n",
    "    return _elementwise_xeloss(x, y).mean()"
   ]
  },
  {
   "cell_type": "code",
   "execution_count": 87,
   "metadata": {
    "id": "4FvEhe2te9FP",
    "outputId": "d3f22a94-3631-46bf-f74f-4d260bb3f033"
   },
   "outputs": [
    {
     "name": "stdout",
     "output_type": "stream",
     "text": [
      "model:\n",
      "[[0.00013565 0.01345432]\n",
      " [0.00017942 0.01341061]\n",
      " [0.000179   0.01341772]\n",
      " [0.00014493 0.0134439 ]\n",
      " [0.00016437 0.01343642]\n",
      " [0.00013976 0.01343746]\n",
      " [0.00012404 0.01347168]\n",
      " [0.00015432 0.01344244]\n",
      " [0.00016074 0.0134269 ]\n",
      " [0.00014328 0.01344578]]\n",
      "loss functions:\n",
      "0.69051343\n",
      "1.3836566\n"
     ]
    }
   ],
   "source": [
    "print('model:')\n",
    "print(net(params, x[0:10]))\n",
    "print('loss functions:')\n",
    "print(xeloss(net(params, x[0:10]), y[0:10]))\n",
    "print(loss(params, net(params, x[0:10]), jax.nn.one_hot(y[0:10], 2)))"
   ]
  },
  {
   "cell_type": "code",
   "execution_count": 88,
   "metadata": {
    "id": "-STpYjcje9FP",
    "outputId": "16fbe091-4afa-47ab-9650-eca8e2cfb623"
   },
   "outputs": [
    {
     "data": {
      "text/plain": [
       "Array(70., dtype=float32)"
      ]
     },
     "execution_count": 88,
     "metadata": {},
     "output_type": "execute_result"
    }
   ],
   "source": [
    "@jax.jit\n",
    "def accuracy(x, y):\n",
    "    return 100*(jnp.argmax(x, 1) == y).mean()\n",
    "accuracy(net(params, x[0:10]), y[0:10])"
   ]
  },
  {
   "cell_type": "code",
   "execution_count": 89,
   "metadata": {
    "id": "NJZW7yUZe9FP",
    "outputId": "2d02ed07-7d5a-4ee6-b6c1-57d1596fd949"
   },
   "outputs": [
    {
     "data": {
      "text/plain": [
       "Array(0.69051343, dtype=float32)"
      ]
     },
     "execution_count": 89,
     "metadata": {},
     "output_type": "execute_result"
    }
   ],
   "source": [
    "@jax.jit\n",
    "def lossforward(params, x, y):\n",
    "    x = net(params, x)\n",
    "    loss = xeloss(x, y)\n",
    "    return loss\n",
    "lossforward(params, x[0:10], y[0:10])"
   ]
  },
  {
   "cell_type": "code",
   "execution_count": 90,
   "metadata": {
    "id": "r078GrVfe9FP",
    "outputId": "f0fc0357-e15f-4c99-ecd9-85502764d585"
   },
   "outputs": [
    {
     "name": "stdout",
     "output_type": "stream",
     "text": [
      "[1 1 1 1 0 0 1 1 1 0]\n"
     ]
    },
    {
     "data": {
      "text/plain": [
       "Array([[0., 1.],\n",
       "       [0., 1.],\n",
       "       [0., 1.],\n",
       "       [0., 1.],\n",
       "       [1., 0.],\n",
       "       [1., 0.],\n",
       "       [0., 1.],\n",
       "       [0., 1.],\n",
       "       [0., 1.],\n",
       "       [1., 0.]], dtype=float32)"
      ]
     },
     "execution_count": 90,
     "metadata": {},
     "output_type": "execute_result"
    }
   ],
   "source": [
    "print(y[0:10])\n",
    "jax.nn.one_hot(y[0:10], 2)"
   ]
  },
  {
   "cell_type": "code",
   "execution_count": 93,
   "metadata": {
    "id": "dI1PQR5Ce9FP",
    "outputId": "cf2f5cf1-2f82-4af2-da9f-425dcfcb5990"
   },
   "outputs": [
    {
     "data": {
      "text/plain": [
       "Array(1.383661, dtype=float32)"
      ]
     },
     "execution_count": 93,
     "metadata": {},
     "output_type": "execute_result"
    }
   ],
   "source": [
    "#import optax\n",
    "optax.sigmoid_binary_cross_entropy(net(params, x[0:10]), jax.nn.one_hot(y[0:10], 2)).sum(axis=-1).mean()"
   ]
  },
  {
   "cell_type": "code",
   "execution_count": 94,
   "metadata": {
    "id": "tOZINWKwe9FP",
    "outputId": "0e06f501-d5ed-460c-f2ce-8c258fd257b4"
   },
   "outputs": [
    {
     "name": "stdout",
     "output_type": "stream",
     "text": [
      "[[0.         0.68644273]\n",
      " [0.         0.68646437]\n",
      " [0.         0.68646085]\n",
      " [0.         0.6864478 ]\n",
      " [0.6930649  0.        ]\n",
      " [0.6930773  0.        ]\n",
      " [0.         0.6864341 ]\n",
      " [0.         0.68644863]\n",
      " [0.         0.6864563 ]\n",
      " [0.69307554 0.        ]]\n",
      "[[0.693215   0.        ]\n",
      " [0.6932368  0.        ]\n",
      " [0.6932367  0.        ]\n",
      " [0.69321966 0.        ]\n",
      " [0.         0.6998879 ]\n",
      " [0.         0.69988847]\n",
      " [0.6932092  0.        ]\n",
      " [0.69322443 0.        ]\n",
      " [0.6932275  0.        ]\n",
      " [0.         0.69989264]]\n",
      "[[0.693215   0.68644273]\n",
      " [0.6932368  0.68646437]\n",
      " [0.6932367  0.68646085]\n",
      " [0.69321966 0.6864478 ]\n",
      " [0.6930649  0.6998879 ]\n",
      " [0.6930773  0.69988847]\n",
      " [0.6932092  0.6864341 ]\n",
      " [0.69322443 0.68644863]\n",
      " [0.6932275  0.6864563 ]\n",
      " [0.69307554 0.69989264]]\n"
     ]
    },
    {
     "data": {
      "text/plain": [
       "Array(1.383661, dtype=float32)"
      ]
     },
     "execution_count": 94,
     "metadata": {},
     "output_type": "execute_result"
    }
   ],
   "source": [
    "print(-jnp.log(sigmoid(net(params, x[0:10]))) * jax.nn.one_hot(y[0:10], 2))\n",
    "print(-jnp.log(sigmoid(-net(params, x[0:10]))) * (1-jax.nn.one_hot(y[0:10], 2)))\n",
    "print(-jnp.log(sigmoid(net(params, x[0:10]))) * jax.nn.one_hot(y[0:10], 2) -\n",
    "    jnp.log(sigmoid(-net(params, x[0:10]))) * (1-jax.nn.one_hot(y[0:10], 2)))\n",
    "xe = (-jnp.log(sigmoid(net(params, x[0:10]))) * jax.nn.one_hot(y[0:10], 2) -\n",
    "    jnp.log(sigmoid(-net(params, x[0:10]))) * (1-jax.nn.one_hot(y[0:10], 2)))\n",
    "xe.sum(axis=-1).mean()"
   ]
  },
  {
   "cell_type": "code",
   "execution_count": 95,
   "metadata": {
    "id": "a1urJ5DWe9FP",
    "outputId": "c79a11a5-0688-40f6-9807-066b2be09e3e"
   },
   "outputs": [
    {
     "data": {
      "text/plain": [
       "Array(-0.6936107, dtype=float32, weak_type=True)"
      ]
     },
     "execution_count": 95,
     "metadata": {},
     "output_type": "execute_result"
    }
   ],
   "source": [
    "jnp.log(sigmoid(-0.00092671))"
   ]
  },
  {
   "cell_type": "code",
   "execution_count": 96,
   "metadata": {
    "id": "2mzpMXtne9FQ",
    "outputId": "7aca5799-e046-45b7-fca8-b3d2bc7095a4"
   },
   "outputs": [
    {
     "data": {
      "text/plain": [
       "Array(-0.6936107, dtype=float32, weak_type=True)"
      ]
     },
     "execution_count": 96,
     "metadata": {},
     "output_type": "execute_result"
    }
   ],
   "source": [
    "jnp.log(jax.nn.sigmoid(-0.00092671))"
   ]
  },
  {
   "cell_type": "code",
   "execution_count": 97,
   "metadata": {
    "id": "5gKCeh6Pe9FQ",
    "outputId": "f2075b09-3e0e-4874-8860-2e824ce3b553"
   },
   "outputs": [
    {
     "data": {
      "text/plain": [
       "Array(-0.6936107, dtype=float32, weak_type=True)"
      ]
     },
     "execution_count": 97,
     "metadata": {},
     "output_type": "execute_result"
    }
   ],
   "source": [
    "jax.nn.log_sigmoid(-0.00092671)"
   ]
  },
  {
   "cell_type": "code",
   "execution_count": 98,
   "metadata": {
    "id": "vl_DPYSAe9FQ",
    "outputId": "a6649344-e20b-4d31-df39-1c739cec2654"
   },
   "outputs": [
    {
     "data": {
      "text/plain": [
       "(1754, 2)"
      ]
     },
     "execution_count": 98,
     "metadata": {},
     "output_type": "execute_result"
    }
   ],
   "source": [
    "X_train.shape"
   ]
  },
  {
   "cell_type": "code",
   "execution_count": 111,
   "metadata": {
    "id": "tMlHuNw1e9FQ",
    "outputId": "b9b5e5ab-f018-47c5-96fb-848a7dda3726"
   },
   "outputs": [
    {
     "name": "stdout",
     "output_type": "stream",
     "text": [
      "step 0, loss: 0.30800119042396545\n",
      "step 100, loss: 0.2980051636695862\n",
      "step 200, loss: 0.37304094433784485\n",
      "step 300, loss: 0.3044019043445587\n",
      "step 400, loss: 0.3810301721096039\n",
      "step 500, loss: 0.3174772560596466\n",
      "step 600, loss: 0.30186763405799866\n",
      "step 700, loss: 0.3340805470943451\n",
      "step 800, loss: 0.28965190052986145\n",
      "step 900, loss: 0.3332858383655548\n",
      "step 1000, loss: 0.2863539755344391\n",
      "step 1100, loss: 0.29791319370269775\n",
      "step 1200, loss: 0.36586833000183105\n",
      "step 1300, loss: 0.3075803816318512\n",
      "step 1400, loss: 0.33505165576934814\n",
      "step 1500, loss: 0.3435748815536499\n",
      "step 1600, loss: 0.3336401581764221\n",
      "step 1700, loss: 0.3090008497238159\n",
      "step 1800, loss: 0.35675758123397827\n",
      "step 1900, loss: 0.3169739544391632\n",
      "step 2000, loss: 0.34567439556121826\n",
      "step 2100, loss: 0.2790144085884094\n",
      "step 2200, loss: 0.3453656733036041\n",
      "step 2300, loss: 0.25979986786842346\n",
      "step 2400, loss: 0.3037690222263336\n",
      "step 2500, loss: 0.2976619005203247\n",
      "step 2600, loss: 0.3018406629562378\n",
      "step 2700, loss: 0.3318489193916321\n",
      "step 2800, loss: 0.3246699571609497\n",
      "step 2900, loss: 0.3221947252750397\n",
      "step 3000, loss: 0.33157458901405334\n",
      "step 3100, loss: 0.3553963005542755\n",
      "step 3200, loss: 0.33288705348968506\n",
      "step 3300, loss: 0.6273736357688904\n",
      "step 3400, loss: 0.27607131004333496\n",
      "step 3500, loss: 0.3725414276123047\n",
      "step 3600, loss: 0.344967782497406\n",
      "step 3700, loss: 0.5499781966209412\n",
      "step 3800, loss: 0.3117266297340393\n",
      "step 3900, loss: 0.3879295885562897\n",
      "step 4000, loss: 0.3058442771434784\n",
      "step 4100, loss: 0.3242432475090027\n",
      "step 4200, loss: 0.3126676380634308\n",
      "step 4300, loss: 0.3081083297729492\n",
      "step 4400, loss: 0.30298879742622375\n",
      "step 4500, loss: 0.3268253207206726\n",
      "step 4600, loss: 0.2846299111843109\n",
      "step 4700, loss: 0.31202712655067444\n",
      "step 4800, loss: 0.32053613662719727\n",
      "step 4900, loss: 0.29557687044143677\n"
     ]
    }
   ],
   "source": [
    "# optimizer\n",
    "# import optax\n",
    "# learning_rate = 0.001\n",
    "batch_size = 1000\n",
    "train_size = X_train.shape[0]\n",
    "num_steps = 5000\n",
    "def fit(params: optax.Params, optimizer: optax.GradientTransformation) -> optax.Params:\n",
    "    opt_state = optimizer.init(params)\n",
    "\n",
    "    @jax.jit\n",
    "    def step(params, opt_state, batch, labels):\n",
    "        loss_value, grads = jax.value_and_grad(loss)(params, batch, labels)\n",
    "        updates, opt_state = optimizer.update(grads, opt_state, params)\n",
    "        params = optax.apply_updates(params, updates)\n",
    "        return params, opt_state, loss_value\n",
    "    key = jax.random.PRNGKey(42)\n",
    "    for i in range(num_steps):\n",
    "        # draw a batch randomly from training set\n",
    "        key, key1 = jax.random.split(key)\n",
    "        idxs = jax.random.randint(key1, (batch_size,), 0, train_size)\n",
    "        x = X_train[idxs]\n",
    "        y = jax.nn.one_hot(y_train[idxs], 2)\n",
    "\n",
    "        params, opt_state, loss_value = step(params, opt_state, x, y)\n",
    "        if i % 100 == 0:\n",
    "          print(f'step {i}, loss: {loss_value}')\n",
    "\n",
    "    return params\n",
    "\n",
    "# Finally, we can fit our parametrized function using the Adam optimizer\n",
    "# provided by optax.\n",
    "optimizer = optax.adam(learning_rate=1e-1)\n",
    "params = fit(params, optimizer)\n"
   ]
  },
  {
   "cell_type": "code",
   "execution_count": 106,
   "metadata": {
    "id": "jmkzfVIxe9FQ",
    "outputId": "77988331-5695-4e30-d846-7ead408a1df2"
   },
   "outputs": [
    {
     "data": {
      "text/plain": [
       "Array(0.3559274, dtype=float32)"
      ]
     },
     "execution_count": 106,
     "metadata": {},
     "output_type": "execute_result"
    }
   ],
   "source": [
    "loss(params, X_train, jax.nn.one_hot(y_train, 2))"
   ]
  },
  {
   "cell_type": "code",
   "execution_count": 107,
   "metadata": {
    "id": "x8JIUMAFe9FQ",
    "outputId": "eca0a281-532c-4869-f073-a43d12859a73"
   },
   "outputs": [
    {
     "data": {
      "text/plain": [
       "Array([ 2.0603037, -6.248559 , -5.8633833, ...,  9.663134 , -6.248559 ,\n",
       "       -6.248559 ], dtype=float32)"
      ]
     },
     "execution_count": 107,
     "metadata": {},
     "output_type": "execute_result"
    }
   ],
   "source": [
    "net(params, X_train)[:, 1] #, jax.nn.one_hot(y_train, 2))"
   ]
  },
  {
   "cell_type": "code",
   "execution_count": 108,
   "metadata": {
    "id": "V5PAh8oye9FQ",
    "outputId": "620d1e67-4d40-408f-abb8-a131e3640221"
   },
   "outputs": [
    {
     "data": {
      "text/plain": [
       "Array([1., 0., 0., ..., 1., 0., 0.], dtype=float32)"
      ]
     },
     "execution_count": 108,
     "metadata": {},
     "output_type": "execute_result"
    }
   ],
   "source": [
    "jnp.round(sigmoid(net(params, X_train)[:, 1]),0)"
   ]
  },
  {
   "cell_type": "code",
   "execution_count": 112,
   "metadata": {
    "id": "HlHi65E8e9FR",
    "outputId": "28d93cf3-d177-4ae9-a0d9-65c554e52896"
   },
   "outputs": [
    {
     "data": {
      "text/html": [
       "<div>\n",
       "<style scoped>\n",
       "    .dataframe tbody tr th:only-of-type {\n",
       "        vertical-align: middle;\n",
       "    }\n",
       "\n",
       "    .dataframe tbody tr th {\n",
       "        vertical-align: top;\n",
       "    }\n",
       "\n",
       "    .dataframe thead th {\n",
       "        text-align: right;\n",
       "    }\n",
       "</style>\n",
       "<table border=\"1\" class=\"dataframe\">\n",
       "  <thead>\n",
       "    <tr style=\"text-align: right;\">\n",
       "      <th></th>\n",
       "      <th>Prevalence</th>\n",
       "      <th>Sensitivity</th>\n",
       "      <th>Specificity</th>\n",
       "      <th>Accuracy</th>\n",
       "      <th>Precision</th>\n",
       "      <th>F1</th>\n",
       "      <th>FPR</th>\n",
       "      <th>MCC</th>\n",
       "      <th>AUC</th>\n",
       "      <th>LogLoss</th>\n",
       "    </tr>\n",
       "  </thead>\n",
       "  <tbody>\n",
       "    <tr>\n",
       "      <th>0</th>\n",
       "      <td>0.5992</td>\n",
       "      <td>0.8963</td>\n",
       "      <td>0.9929</td>\n",
       "      <td>0.935</td>\n",
       "      <td>0.9947</td>\n",
       "      <td>0.9429</td>\n",
       "      <td>0.0071</td>\n",
       "      <td>0.8743</td>\n",
       "      <td>0.974</td>\n",
       "      <td>0.1581</td>\n",
       "    </tr>\n",
       "  </tbody>\n",
       "</table>\n",
       "</div>"
      ],
      "text/plain": [
       "   Prevalence  Sensitivity  Specificity  Accuracy  Precision      F1     FPR  \\\n",
       "0      0.5992       0.8963       0.9929     0.935     0.9947  0.9429  0.0071   \n",
       "\n",
       "      MCC    AUC  LogLoss  \n",
       "0  0.8743  0.974   0.1581  "
      ]
     },
     "execution_count": 112,
     "metadata": {},
     "output_type": "execute_result"
    }
   ],
   "source": [
    "# performance metrics on training set\n",
    "binary_classification_metrics(y_train,\n",
    "                              jnp.round(sigmoid(net(params, X_train)[:, 1]),0),\n",
    "                              sigmoid(net(params, X_train)[:, 1]),\n",
    "                              4\n",
    "                             )"
   ]
  },
  {
   "cell_type": "code",
   "execution_count": 113,
   "metadata": {
    "id": "KShQCNrAe9FR",
    "outputId": "90c8c9db-2a10-440e-acd3-05627023ce61"
   },
   "outputs": [
    {
     "data": {
      "text/html": [
       "<div>\n",
       "<style scoped>\n",
       "    .dataframe tbody tr th:only-of-type {\n",
       "        vertical-align: middle;\n",
       "    }\n",
       "\n",
       "    .dataframe tbody tr th {\n",
       "        vertical-align: top;\n",
       "    }\n",
       "\n",
       "    .dataframe thead th {\n",
       "        text-align: right;\n",
       "    }\n",
       "</style>\n",
       "<table border=\"1\" class=\"dataframe\">\n",
       "  <thead>\n",
       "    <tr style=\"text-align: right;\">\n",
       "      <th></th>\n",
       "      <th>Prevalence</th>\n",
       "      <th>Sensitivity</th>\n",
       "      <th>Specificity</th>\n",
       "      <th>Accuracy</th>\n",
       "      <th>Precision</th>\n",
       "      <th>F1</th>\n",
       "      <th>FPR</th>\n",
       "      <th>MCC</th>\n",
       "      <th>AUC</th>\n",
       "      <th>LogLoss</th>\n",
       "    </tr>\n",
       "  </thead>\n",
       "  <tbody>\n",
       "    <tr>\n",
       "      <th>0</th>\n",
       "      <td>0.5997</td>\n",
       "      <td>0.878</td>\n",
       "      <td>0.9801</td>\n",
       "      <td>0.9189</td>\n",
       "      <td>0.9851</td>\n",
       "      <td>0.9285</td>\n",
       "      <td>0.0199</td>\n",
       "      <td>0.8429</td>\n",
       "      <td>0.9688</td>\n",
       "      <td>0.1773</td>\n",
       "    </tr>\n",
       "  </tbody>\n",
       "</table>\n",
       "</div>"
      ],
      "text/plain": [
       "   Prevalence  Sensitivity  Specificity  Accuracy  Precision      F1     FPR  \\\n",
       "0      0.5997        0.878       0.9801    0.9189     0.9851  0.9285  0.0199   \n",
       "\n",
       "      MCC     AUC  LogLoss  \n",
       "0  0.8429  0.9688   0.1773  "
      ]
     },
     "execution_count": 113,
     "metadata": {},
     "output_type": "execute_result"
    }
   ],
   "source": [
    "# performance metrics on validation set\n",
    "binary_classification_metrics(y_test,\n",
    "                              jnp.round(sigmoid(net(params, X_test)[:, 1]),0),\n",
    "                              sigmoid(net(params, X_test)[:, 1]),\n",
    "                              4\n",
    "                             )"
   ]
  },
  {
   "cell_type": "code",
   "execution_count": null,
   "metadata": {
    "id": "mF738tWIe9FR"
   },
   "outputs": [],
   "source": []
  },
  {
   "cell_type": "code",
   "execution_count": null,
   "metadata": {
    "id": "5TlSqvyHe9FR"
   },
   "outputs": [],
   "source": [
    "# @jax.jit\n",
    "# def train_step(step, optim_state, x, y):\n",
    "#     params = optim_params(optim_state)\n",
    "#     loss, grads = jax.value_and_grad(lossforward)(params, x, y)\n",
    "#     optim_state = optim_update(step, grads, optim_state)\n",
    "#     return loss, optim_state"
   ]
  },
  {
   "cell_type": "code",
   "execution_count": null,
   "metadata": {
    "id": "6euc4znZe9FR"
   },
   "outputs": [],
   "source": [
    "# history = []\n",
    "# batch_size = 100\n",
    "# num_steps = 2000\n",
    "# for step in range(num_steps):\n",
    "#     if step%200 == 0 or step == num_steps - 1:\n",
    "#         valid_logits = forward(optim_params(optim_state), valid_values)\n",
    "#         valid_loss = xeloss(valid_logits, valid_labels)\n",
    "#         valid_accuracy = accuracy(valid_logits, valid_labels)\n",
    "#         history.append((step, valid_loss, valid_accuracy))\n",
    "#         print(f\"Step {step:5.0f}\\t Valid. Acc. = {valid_accuracy:5.2f}\")\n",
    "#     prng, key = jax.random.split(prng)\n",
    "#     idxs = jax.random.randint(key, (batch_size,), 0, train_size)\n",
    "#     x = train_values[idxs]\n",
    "#     y = train_labels[idxs]\n",
    "#     loss, optim_state = train_step(step, optim_state, x, y)"
   ]
  },
  {
   "cell_type": "code",
   "execution_count": null,
   "metadata": {
    "id": "5M7diHfoe9FR"
   },
   "outputs": [],
   "source": []
  },
  {
   "cell_type": "code",
   "execution_count": null,
   "metadata": {
    "id": "ygXEJIK2e9FR"
   },
   "outputs": [],
   "source": []
  },
  {
   "cell_type": "markdown",
   "metadata": {
    "id": "inqDP5e1e9FR"
   },
   "source": [
    "### LSTM by chatGPT"
   ]
  },
  {
   "cell_type": "code",
   "execution_count": null,
   "metadata": {
    "id": "DbKdXDMoe9FR",
    "outputId": "cbf15810-5e29-43fc-ea7e-5169caa7e8c6"
   },
   "outputs": [
    {
     "ename": "AttributeError",
     "evalue": "module 'jax.numpy' has no attribute 'scan'",
     "output_type": "error",
     "traceback": [
      "\u001b[0;31m---------------------------------------------------------------------------\u001b[0m",
      "\u001b[0;31mAttributeError\u001b[0m                            Traceback (most recent call last)",
      "Input \u001b[0;32mIn [256]\u001b[0m, in \u001b[0;36m<cell line: 47>\u001b[0;34m()\u001b[0m\n\u001b[1;32m     44\u001b[0m initial_cell_state \u001b[38;5;241m=\u001b[39m np\u001b[38;5;241m.\u001b[39mzeros((\u001b[38;5;241m2\u001b[39m, \u001b[38;5;241m10\u001b[39m))\n\u001b[1;32m     45\u001b[0m params \u001b[38;5;241m=\u001b[39m [np\u001b[38;5;241m.\u001b[39mzeros((\u001b[38;5;241m3\u001b[39m, \u001b[38;5;241m10\u001b[39m)), np\u001b[38;5;241m.\u001b[39mzeros(\u001b[38;5;241m10\u001b[39m), np\u001b[38;5;241m.\u001b[39mzeros((\u001b[38;5;241m3\u001b[39m, \u001b[38;5;241m10\u001b[39m)), np\u001b[38;5;241m.\u001b[39mzeros(\u001b[38;5;241m10\u001b[39m), np\u001b[38;5;241m.\u001b[39mzeros((\u001b[38;5;241m3\u001b[39m, \u001b[38;5;241m10\u001b[39m)), np\u001b[38;5;241m.\u001b[39mzeros(\u001b[38;5;241m10\u001b[39m), np\u001b[38;5;241m.\u001b[39mzeros((\u001b[38;5;241m3\u001b[39m, \u001b[38;5;241m10\u001b[39m)), np\u001b[38;5;241m.\u001b[39mzeros(\u001b[38;5;241m10\u001b[39m)]\n\u001b[0;32m---> 47\u001b[0m hidden_states, cell_states \u001b[38;5;241m=\u001b[39m \u001b[43mlstm\u001b[49m\u001b[43m(\u001b[49m\u001b[43minputs\u001b[49m\u001b[43m,\u001b[49m\u001b[43m \u001b[49m\u001b[43minitial_hidden_state\u001b[49m\u001b[43m,\u001b[49m\u001b[43m \u001b[49m\u001b[43minitial_cell_state\u001b[49m\u001b[43m,\u001b[49m\u001b[43m \u001b[49m\u001b[43mparams\u001b[49m\u001b[43m)\u001b[49m\n",
      "Input \u001b[0;32mIn [256]\u001b[0m, in \u001b[0;36mlstm\u001b[0;34m(inputs, initial_hidden_state, initial_cell_state, params)\u001b[0m\n\u001b[1;32m     36\u001b[0m     new_hidden_state, new_cell_state \u001b[38;5;241m=\u001b[39m lstm_cell(hidden_state, cell_state, input_vector, params)\n\u001b[1;32m     37\u001b[0m     \u001b[38;5;28;01mreturn\u001b[39;00m new_hidden_state, new_cell_state\n\u001b[0;32m---> 38\u001b[0m hidden_states, cell_states \u001b[38;5;241m=\u001b[39m \u001b[43mnp\u001b[49m\u001b[38;5;241;43m.\u001b[39;49m\u001b[43mscan\u001b[49m(step, inputs, (initial_hidden_state, initial_cell_state))\n\u001b[1;32m     39\u001b[0m \u001b[38;5;28;01mreturn\u001b[39;00m hidden_states, cell_states\n",
      "\u001b[0;31mAttributeError\u001b[0m: module 'jax.numpy' has no attribute 'scan'"
     ]
    }
   ],
   "source": [
    "import jax.numpy as np\n",
    "from jax import grad, jit, vmap\n",
    "\n",
    "def sigmoid(x):\n",
    "    return 1 / (1 + np.exp(-x))\n",
    "\n",
    "def tanh(x):\n",
    "    return np.tanh(x)\n",
    "\n",
    "def lstm_cell(hidden_state, cell_state, input_vector, params):\n",
    "    W_f, b_f, W_i, b_i, W_o, b_o, W_c, b_c = params\n",
    "\n",
    "    # forget gate\n",
    "    forget_gate = sigmoid(np.dot(input_vector, W_f) + np.dot(hidden_state, W_f) + b_f)\n",
    "\n",
    "    # input gate\n",
    "    input_gate = sigmoid(np.dot(input_vector, W_i) + np.dot(hidden_state, W_i) + b_i)\n",
    "\n",
    "    # candidate cell state\n",
    "    candidate_cell_state = tanh(np.dot(input_vector, W_c) + np.dot(hidden_state, W_c) + b_c)\n",
    "\n",
    "    # cell state\n",
    "    cell_state = forget_gate * cell_state + input_gate * candidate_cell_state\n",
    "\n",
    "    # output gate\n",
    "    output_gate = sigmoid(np.dot(input_vector, W_o) + np.dot(hidden_state, W_o) + b_o)\n",
    "\n",
    "    # hidden state\n",
    "    hidden_state = output_gate * tanh(cell_state)\n",
    "\n",
    "    return hidden_state, cell_state\n",
    "\n",
    "def lstm(inputs, initial_hidden_state, initial_cell_state, params):\n",
    "    def step(hidden_state_and_cell_state, input_vector):\n",
    "        hidden_state, cell_state = hidden_state_and_cell_state\n",
    "        new_hidden_state, new_cell_state = lstm_cell(hidden_state, cell_state, input_vector, params)\n",
    "        return new_hidden_state, new_cell_state\n",
    "    hidden_states, cell_states = np.scan(step, inputs, (initial_hidden_state, initial_cell_state))\n",
    "    return hidden_states, cell_states\n",
    "\n",
    "# example usage\n",
    "inputs = np.array([[1, 2, 3], [4, 5, 6]])\n",
    "initial_hidden_state = np.zeros((2, 10))\n",
    "initial_cell_state = np.zeros((2, 10))\n",
    "params = [np.zeros((3, 10)), np.zeros(10), np.zeros((3, 10)), np.zeros(10), np.zeros((3, 10)), np.zeros(10), np.zeros((3, 10)), np.zeros(10)]\n",
    "\n",
    "hidden_states, cell_states = lstm(inputs, initial_hidden_state, initial_cell_state, params)\n"
   ]
  },
  {
   "cell_type": "code",
   "execution_count": null,
   "metadata": {
    "id": "IUaBHlJ-e9FS"
   },
   "outputs": [],
   "source": []
  }
 ],
 "metadata": {
  "colab": {
   "provenance": []
  },
  "gpuClass": "standard",
  "kernelspec": {
   "display_name": "options",
   "language": "python",
   "name": "options"
  },
  "language_info": {
   "codemirror_mode": {
    "name": "ipython",
    "version": 3
   },
   "file_extension": ".py",
   "mimetype": "text/x-python",
   "name": "python",
   "nbconvert_exporter": "python",
   "pygments_lexer": "ipython3",
   "version": "3.11.3"
  }
 },
 "nbformat": 4,
 "nbformat_minor": 1
}
