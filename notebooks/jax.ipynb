{
  "cells": [
    {
      "cell_type": "code",
      "execution_count": 1,
      "metadata": {
        "id": "rjra_QLxe9E7"
      },
      "outputs": [],
      "source": [
        "import jax\n",
        "import jax.numpy as jnp\n",
        "from jax import grad, jit, vmap\n",
        "from jax import random\n",
        "import numpy as np\n",
        "import pandas as pd\n",
        "from matplotlib import pyplot as plt\n",
        "from sklearn.model_selection import train_test_split"
      ]
    },
    {
      "cell_type": "code",
      "execution_count": 2,
      "metadata": {
        "id": "WUAcYZLse9E9"
      },
      "outputs": [],
      "source": [
        "import optax"
      ]
    },
    {
      "cell_type": "code",
      "execution_count": null,
      "metadata": {
        "id": "8lEDnC57e9E-"
      },
      "outputs": [],
      "source": [
        "%config Completer.use_jedi = False"
      ]
    },
    {
      "cell_type": "markdown",
      "metadata": {
        "id": "YmejtTEMe9E-"
      },
      "source": [
        "## Tutorial"
      ]
    },
    {
      "cell_type": "markdown",
      "metadata": {
        "id": "pSko_JT7e9E_"
      },
      "source": [
        "### Fit a linear regression"
      ]
    },
    {
      "cell_type": "code",
      "execution_count": 3,
      "metadata": {
        "id": "_-uHDp0Le9E_",
        "outputId": "4a19c968-27c6-4bd1-8c79-4f6dfce72465",
        "colab": {
          "base_uri": "https://localhost:8080/",
          "height": 430
        }
      },
      "outputs": [
        {
          "output_type": "display_data",
          "data": {
            "text/plain": [
              "<Figure size 640x480 with 1 Axes>"
            ],
            "image/png": "[encoded data removed]"
          },
          "metadata": {}
        }
      ],
      "source": [
        "import numpy as np\n",
        "import matplotlib.pyplot as plt\n",
        "\n",
        "n = 300\n",
        "xs = np.random.normal(size=(n,))\n",
        "noise = np.random.normal(scale=0.5, size=(n,))\n",
        "ys = xs * 3 - 1 + noise\n",
        "\n",
        "plt.scatter(xs, ys);"
      ]
    },
    {
      "cell_type": "code",
      "execution_count": 4,
      "metadata": {
        "id": "zjSp7xbse9FA"
      },
      "outputs": [],
      "source": [
        "# theta = [w, b] - model parameters\n",
        "def model(theta, x):\n",
        "  \"\"\"Computes wx + b on a batch of input x.\"\"\"\n",
        "  w, b = theta\n",
        "  return w * x + b"
      ]
    },
    {
      "cell_type": "markdown",
      "metadata": {
        "id": "gPFl84X1e9FA"
      },
      "source": [
        "Loss function is the sum of squared errors, $ L = \\frac{\\Sigma (y - y_{pred})^2}{N}$"
      ]
    },
    {
      "cell_type": "code",
      "execution_count": 5,
      "metadata": {
        "id": "Ka_WB-QEe9FB"
      },
      "outputs": [],
      "source": [
        "def loss_fn(theta, x, y):\n",
        "  prediction = model(theta, x)\n",
        "  return jnp.mean((prediction-y)**2)"
      ]
    },
    {
      "cell_type": "code",
      "execution_count": 6,
      "metadata": {
        "id": "_-kcBdBte9FB",
        "outputId": "68f90dfd-7662-456d-aa75-20791b53360a",
        "colab": {
          "base_uri": "https://localhost:8080/"
        }
      },
      "outputs": [
        {
          "output_type": "stream",
          "name": "stderr",
          "text": [
            "WARNING:jax._src.xla_bridge:No GPU/TPU found, falling back to CPU. (Set TF_CPP_MIN_LOG_LEVEL=0 and rerun for more info.)\n"
          ]
        },
        {
          "output_type": "execute_result",
          "data": {
            "text/plain": [
              "Array(9., dtype=float32)"
            ]
          },
          "metadata": {},
          "execution_count": 6
        }
      ],
      "source": [
        "loss_fn((3,1), 0, 4)"
      ]
    },
    {
      "cell_type": "code",
      "execution_count": 7,
      "metadata": {
        "id": "RlgvVP48e9FB",
        "outputId": "d142a33f-43df-48db-b3b3-d2cc303a8205",
        "colab": {
          "base_uri": "https://localhost:8080/"
        }
      },
      "outputs": [
        {
          "output_type": "execute_result",
          "data": {
            "text/plain": [
              "Array(4.403984, dtype=float32)"
            ]
          },
          "metadata": {},
          "execution_count": 7
        }
      ],
      "source": [
        "loss_fn((3,1), xs, ys)"
      ]
    },
    {
      "cell_type": "markdown",
      "metadata": {
        "id": "8lDLTj_Ee9FC"
      },
      "source": [
        "Use gradient discend to find the optimal parameters, \n",
        "$$\n",
        "\\theta_{updated}=\\theta - \\lambda\\nabla_{\\theta}L(\\theta, x, y)\n",
        "$$\n",
        "where $\\lambda$ is learning rate."
      ]
    },
    {
      "cell_type": "code",
      "execution_count": 8,
      "metadata": {
        "id": "aamwPgFle9FC"
      },
      "outputs": [],
      "source": [
        "@jax.jit\n",
        "def update(theta, x, y, lr=0.1):\n",
        "  return theta - lr * grad(loss_fn)(theta, x, y)"
      ]
    },
    {
      "cell_type": "code",
      "execution_count": 9,
      "metadata": {
        "id": "6ItzMia8e9FC",
        "outputId": "de00ef03-ace8-43c3-a86e-62ce122de252",
        "colab": {
          "base_uri": "https://localhost:8080/"
        }
      },
      "outputs": [
        {
          "output_type": "execute_result",
          "data": {
            "text/plain": [
              "Array([1., 1.], dtype=float32)"
            ]
          },
          "metadata": {},
          "execution_count": 9
        }
      ],
      "source": [
        "theta = jnp.array([1., 1.])\n",
        "theta"
      ]
    },
    {
      "cell_type": "code",
      "execution_count": 10,
      "metadata": {
        "id": "Onw08G1le9FC",
        "outputId": "fd5bab3b-934f-4583-b785-2d3869ab06d5",
        "colab": {
          "base_uri": "https://localhost:8080/"
        }
      },
      "outputs": [
        {
          "output_type": "execute_result",
          "data": {
            "text/plain": [
              "Array([2., 2.], dtype=float32)"
            ]
          },
          "metadata": {},
          "execution_count": 10
        }
      ],
      "source": [
        "grad(loss_fn)(theta, 1., 1.)"
      ]
    },
    {
      "cell_type": "code",
      "execution_count": 11,
      "metadata": {
        "id": "hkKajHdYe9FD",
        "outputId": "7f5ccef5-82e5-447e-ee8d-fd5ea4a29322",
        "colab": {
          "base_uri": "https://localhost:8080/"
        }
      },
      "outputs": [
        {
          "output_type": "execute_result",
          "data": {
            "text/plain": [
              "Array([16.,  8.], dtype=float32)"
            ]
          },
          "metadata": {},
          "execution_count": 11
        }
      ],
      "source": [
        "grad(loss_fn)(theta, 2., -1.)"
      ]
    },
    {
      "cell_type": "markdown",
      "metadata": {
        "id": "z879vkfUe9FD"
      },
      "source": [
        "Gradient returns the average gradient for vectors of variables."
      ]
    },
    {
      "cell_type": "code",
      "execution_count": 12,
      "metadata": {
        "id": "fJhC70ZIe9FD",
        "outputId": "0fc0b61f-9930-4b68-b1ce-c6387e47075a",
        "colab": {
          "base_uri": "https://localhost:8080/"
        }
      },
      "outputs": [
        {
          "output_type": "execute_result",
          "data": {
            "text/plain": [
              "Array([9., 5.], dtype=float32)"
            ]
          },
          "metadata": {},
          "execution_count": 12
        }
      ],
      "source": [
        "grad(loss_fn)(theta, jnp.array([1., 2.]), jnp.array([1., -1.]))"
      ]
    },
    {
      "cell_type": "code",
      "execution_count": 13,
      "metadata": {
        "id": "WSWTjVMHe9FD",
        "outputId": "1460f6fa-0917-4aa2-e0f7-f372a20d1fce",
        "colab": {
          "base_uri": "https://localhost:8080/"
        }
      },
      "outputs": [
        {
          "output_type": "execute_result",
          "data": {
            "text/plain": [
              "Array([ 3.0219727, -1.0363901], dtype=float32)"
            ]
          },
          "metadata": {},
          "execution_count": 13
        }
      ],
      "source": [
        "# initial parateters\n",
        "theta = jnp.array([1., 1.])\n",
        "theta\n",
        "n_iterations = 200\n",
        "lr = .1\n",
        "for i in range(n_iterations):\n",
        "    theta = update(theta, xs, ys, lr=lr)\n",
        "theta"
      ]
    },
    {
      "cell_type": "markdown",
      "metadata": {
        "id": "ERVBgYYye9FD"
      },
      "source": [
        "### Compute greeks of Black-Scholes option prices with jax.grad"
      ]
    },
    {
      "cell_type": "code",
      "execution_count": 14,
      "metadata": {
        "id": "b5QEu6tse9FE"
      },
      "outputs": [],
      "source": [
        "#@jax.jit\n",
        "def bs_call(S, X, T, sig, r):\n",
        "    d1 = (jnp.log(S/X) + (r + .5 * sig**2) * T)/(jnp.sqrt(T) * sig)\n",
        "    print(f'd1 = {d1}')\n",
        "    d2 = d1 - jnp.sqrt(T) * sig\n",
        "    print(f'd2 = {d2}')\n",
        "    c = S * jax.scipy.stats.norm.cdf(d1) - X * jnp.exp(-r*T)* jax.scipy.stats.norm.cdf(d2)\n",
        "    print(f'delta = {jax.scipy.stats.norm.cdf(d1)}')\n",
        "    return c"
      ]
    },
    {
      "cell_type": "code",
      "execution_count": 15,
      "metadata": {
        "id": "OtYCw929e9FE",
        "outputId": "fd34ab79-daa4-4d90-f1d7-13d180fa5615",
        "colab": {
          "base_uri": "https://localhost:8080/"
        }
      },
      "outputs": [
        {
          "output_type": "stream",
          "name": "stdout",
          "text": [
            "d1 = -0.3252846896648407\n",
            "d2 = -0.4752846956253052\n",
            "delta = 0.3724828064441681\n"
          ]
        },
        {
          "output_type": "execute_result",
          "data": {
            "text/plain": [
              "Array(2.1333694, dtype=float32)"
            ]
          },
          "metadata": {},
          "execution_count": 15
        }
      ],
      "source": [
        "S=60.\n",
        "X=65.\n",
        "r=.08\n",
        "sig=.30\n",
        "T=.25\n",
        "bs_call(S, X, T, sig, r)"
      ]
    },
    {
      "cell_type": "code",
      "execution_count": 16,
      "metadata": {
        "id": "8ER9zC_ze9FE"
      },
      "outputs": [],
      "source": [
        "# pars = [S, X, T, sig, r]\n",
        "def euro_call(pars):\n",
        "    S, X, T, sig, r = pars\n",
        "    c = bs_call(S, X, T, sig, r)\n",
        "    return c"
      ]
    },
    {
      "cell_type": "code",
      "execution_count": 17,
      "metadata": {
        "id": "qv2akFTRe9FE",
        "outputId": "a2ce70e4-d018-4fb8-debe-41d06bc0d6c0",
        "colab": {
          "base_uri": "https://localhost:8080/"
        }
      },
      "outputs": [
        {
          "output_type": "stream",
          "name": "stdout",
          "text": [
            "d1 = -0.3252846896648407\n",
            "d2 = -0.4752846956253052\n",
            "delta = 0.3724828064441681\n"
          ]
        },
        {
          "output_type": "execute_result",
          "data": {
            "text/plain": [
              "Array(2.1333694, dtype=float32)"
            ]
          },
          "metadata": {},
          "execution_count": 17
        }
      ],
      "source": [
        "euro_call([S, X, T, sig, r])"
      ]
    },
    {
      "cell_type": "code",
      "execution_count": 17,
      "metadata": {
        "id": "4slqBtZse9FF"
      },
      "outputs": [],
      "source": []
    },
    {
      "cell_type": "code",
      "execution_count": 18,
      "metadata": {
        "id": "hJntMTVWe9FF",
        "outputId": "8f5e066e-458a-4fc4-c88e-e51b2d387d54",
        "colab": {
          "base_uri": "https://localhost:8080/"
        }
      },
      "outputs": [
        {
          "output_type": "stream",
          "name": "stdout",
          "text": [
            "d1 = Traced<ConcreteArray(-0.3252846896648407, dtype=float32, weak_type=True)>with<JVPTrace(level=2/0)> with\n",
            "  primal = Array(-0.3252847, dtype=float32, weak_type=True)\n",
            "  tangent = Traced<ShapedArray(float32[], weak_type=True)>with<JaxprTrace(level=1/0)> with\n",
            "    pval = (ShapedArray(float32[], weak_type=True), None)\n",
            "    recipe = JaxprEqnRecipe(eqn_id=<object object at 0x7ff1d6244c80>, in_tracers=(Traced<ShapedArray(float32[], weak_type=True):JaxprTrace(level=1/0)>, Traced<ShapedArray(float32[], weak_type=True):JaxprTrace(level=1/0)>, Traced<ConcreteArray(0.15000000596046448, dtype=float32, weak_type=True):JaxprTrace(level=1/0)>, Traced<ConcreteArray(-0.048792704939842224, dtype=float32, weak_type=True):JaxprTrace(level=1/0)>, Traced<ConcreteArray(44.44444274902344, dtype=float32, weak_type=True):JaxprTrace(level=1/0)>), out_tracer_refs=[<weakref at 0x7ff1d6088400; to 'JaxprTracer' at 0x7ff1d6088040>], out_avals=[ShapedArray(float32[], weak_type=True)], primitive=pjit, params={'jaxpr': { lambda ; a:f32[] b:f32[] c:f32[] d:f32[] e:f32[]. let\n",
            "    f:f32[] = div a c\n",
            "    g:f32[] = neg b\n",
            "    h:f32[] = mul g d\n",
            "    i:f32[] = mul h e\n",
            "    j:f32[] = add_any f i\n",
            "  in (j,) }, 'in_shardings': (UnspecifiedValue, UnspecifiedValue, UnspecifiedValue, UnspecifiedValue, UnspecifiedValue), 'out_shardings': (UnspecifiedValue,), 'resource_env': None, 'donated_invars': (False, False, False, False, False), 'name': 'true_divide', 'keep_unused': False, 'inline': True}, effects=set(), source_info=SourceInfo(traceback=<jaxlib.xla_extension.Traceback object at 0x7ff1d605af70>, name_stack=NameStack(stack=(Transform(name='jvp'),))))\n",
            "d2 = Traced<ConcreteArray(-0.4752846956253052, dtype=float32, weak_type=True)>with<JVPTrace(level=2/0)> with\n",
            "  primal = Array(-0.4752847, dtype=float32, weak_type=True)\n",
            "  tangent = Traced<ShapedArray(float32[], weak_type=True)>with<JaxprTrace(level=1/0)> with\n",
            "    pval = (ShapedArray(float32[], weak_type=True), None)\n",
            "    recipe = JaxprEqnRecipe(eqn_id=<object object at 0x7ff1d6244a30>, in_tracers=(Traced<ShapedArray(float32[], weak_type=True):JaxprTrace(level=1/0)>, Traced<ShapedArray(float32[], weak_type=True):JaxprTrace(level=1/0)>), out_tracer_refs=[<weakref at 0x7ff1c95b49a0; to 'JaxprTracer' at 0x7ff1c95b4c20>], out_avals=[ShapedArray(float32[], weak_type=True)], primitive=pjit, params={'jaxpr': { lambda ; a:f32[] b:f32[]. let c:f32[] = sub a b in (c,) }, 'in_shardings': (UnspecifiedValue, UnspecifiedValue), 'out_shardings': (UnspecifiedValue,), 'resource_env': None, 'donated_invars': (False, False), 'name': '<lambda>', 'keep_unused': False, 'inline': True}, effects=set(), source_info=SourceInfo(traceback=<jaxlib.xla_extension.Traceback object at 0x7ff1d60603b0>, name_stack=NameStack(stack=(Transform(name='jvp'),))))\n",
            "delta = Traced<ConcreteArray(0.3724828064441681, dtype=float32)>with<JVPTrace(level=2/0)> with\n",
            "  primal = Array(0.3724828, dtype=float32)\n",
            "  tangent = Traced<ShapedArray(float32[])>with<JaxprTrace(level=1/0)> with\n",
            "    pval = (ShapedArray(float32[]), None)\n",
            "    recipe = JaxprEqnRecipe(eqn_id=<object object at 0x7ff1d607e500>, in_tracers=(Traced<ShapedArray(float32[]):JaxprTrace(level=1/0)>, Traced<ConcreteArray(0.5, dtype=float32):JaxprTrace(level=1/0)>), out_tracer_refs=[<weakref at 0x7ff1c95d1c70; to 'JaxprTracer' at 0x7ff1c95d1bd0>], out_avals=[ShapedArray(float32[])], primitive=pjit, params={'jaxpr': { lambda ; a:f32[] b:f32[]. let c:f32[] = mul b a in (c,) }, 'in_shardings': (UnspecifiedValue, UnspecifiedValue), 'out_shardings': (UnspecifiedValue,), 'resource_env': None, 'donated_invars': (False, False), 'name': 'fn', 'keep_unused': False, 'inline': True}, effects=set(), source_info=SourceInfo(traceback=<jaxlib.xla_extension.Traceback object at 0x7ff1c95d3070>, name_stack=NameStack(stack=(Transform(name='jvp'),))))\n"
          ]
        },
        {
          "output_type": "execute_result",
          "data": {
            "text/plain": [
              "[Array(0.3724828, dtype=float32, weak_type=True),\n",
              " Array(-0.31100923, dtype=float32, weak_type=True),\n",
              " Array(8.428175, dtype=float32, weak_type=True),\n",
              " Array(11.351544, dtype=float32, weak_type=True),\n",
              " Array(5.0539, dtype=float32, weak_type=True)]"
            ]
          },
          "metadata": {},
          "execution_count": 18
        }
      ],
      "source": [
        "pars = [S, X, T, sig, r]\n",
        "jax.grad(euro_call)(pars)"
      ]
    },
    {
      "cell_type": "code",
      "execution_count": 18,
      "metadata": {
        "id": "m3T0zDBre9FF"
      },
      "outputs": [],
      "source": [
        "\n"
      ]
    },
    {
      "cell_type": "code",
      "execution_count": 19,
      "metadata": {
        "id": "8H_439MFe9FF",
        "outputId": "366b393f-cee2-4d89-9644-72ee553c1d49",
        "colab": {
          "base_uri": "https://localhost:8080/"
        }
      },
      "outputs": [
        {
          "output_type": "execute_result",
          "data": {
            "text/plain": [
              "4.0"
            ]
          },
          "metadata": {},
          "execution_count": 19
        }
      ],
      "source": [
        "np.sqrt(4) + 2"
      ]
    },
    {
      "cell_type": "markdown",
      "metadata": {
        "id": "TgpSLrqve9FF"
      },
      "source": [
        "### Random numbers"
      ]
    },
    {
      "cell_type": "code",
      "execution_count": 20,
      "metadata": {
        "id": "WJ_6fjWie9FG",
        "outputId": "bce349e0-a21f-480e-c064-de9238a1bd14",
        "colab": {
          "base_uri": "https://localhost:8080/"
        }
      },
      "outputs": [
        {
          "output_type": "stream",
          "name": "stdout",
          "text": [
            "[ 0.6122652  1.1225883 -0.8544134 -0.8127325 -0.890405 ]\n",
            "[ 0.6122652  1.1225883 -0.8544134 -0.8127325 -0.890405 ]\n"
          ]
        }
      ],
      "source": [
        "key = jax.random.PRNGKey(42)\n",
        "print(random.normal(key, shape=(5,)))\n",
        "print(random.normal(key, shape=(5,)))"
      ]
    },
    {
      "cell_type": "code",
      "execution_count": 21,
      "metadata": {
        "id": "Mg36TNqVe9FG",
        "outputId": "0d28641a-afdd-477e-92e4-1cbd78845212",
        "colab": {
          "base_uri": "https://localhost:8080/"
        }
      },
      "outputs": [
        {
          "output_type": "stream",
          "name": "stdout",
          "text": [
            "[-0.55338794  0.944283   -0.74176395 -0.5769758   1.1251862 ]\n",
            "[-0.32761317 -0.4066346   1.2469071   1.1900425   1.100263  ]\n"
          ]
        }
      ],
      "source": [
        "# never reuse a key\n",
        "key = jax.random.PRNGKey(42)\n",
        "key, subkey = random.split(key)\n",
        "print(random.normal(subkey, shape=(5,)))\n",
        "key, subkey = random.split(key)\n",
        "print(random.normal(subkey, shape=(5,)))"
      ]
    },
    {
      "cell_type": "code",
      "execution_count": 21,
      "metadata": {
        "id": "FyRrkcRFe9FG"
      },
      "outputs": [],
      "source": []
    },
    {
      "cell_type": "markdown",
      "metadata": {
        "id": "NOlqFRrbe9FG"
      },
      "source": [
        "## Common models"
      ]
    },
    {
      "cell_type": "markdown",
      "metadata": {
        "id": "JcVVHRXte9FG"
      },
      "source": [
        "### Linear model"
      ]
    },
    {
      "cell_type": "markdown",
      "metadata": {
        "id": "wUmd6HX0e9FG"
      },
      "source": [
        "$y = wx + b$\n",
        "\n",
        "Generate observed values"
      ]
    },
    {
      "cell_type": "code",
      "execution_count": 22,
      "metadata": {
        "id": "0I1_wPx6e9FG",
        "outputId": "6c8f5fe2-29bd-4481-902a-a6538370a150",
        "colab": {
          "base_uri": "https://localhost:8080/"
        }
      },
      "outputs": [
        {
          "output_type": "stream",
          "name": "stdout",
          "text": [
            "[ 1. -1.  3.  5. -2.  2.]\n"
          ]
        }
      ],
      "source": [
        "key = jax.random.PRNGKey(212)\n",
        "w = jnp.array([1., -1., 3., 5., -2.])\n",
        "b = 2\n",
        "theta_true = jnp.append(w, b)\n",
        "print(theta_true)"
      ]
    },
    {
      "cell_type": "code",
      "execution_count": 23,
      "metadata": {
        "id": "RleLnXPRe9FH"
      },
      "outputs": [],
      "source": [
        "@jax.jit\n",
        "def model(theta, x):\n",
        "    w = theta[:-1]\n",
        "    b = theta[-1]\n",
        "    y = jnp.dot(w, x) + b\n",
        "    return y\n",
        "\n",
        "model_vmap = jax.vmap(model, in_axes=[None, 1])"
      ]
    },
    {
      "cell_type": "code",
      "execution_count": 25,
      "metadata": {
        "id": "jHQKvm67e9FH",
        "outputId": "57582346-855a-4759-cc81-0b0a1e89d467",
        "colab": {
          "base_uri": "https://localhost:8080/"
        }
      },
      "outputs": [
        {
          "output_type": "execute_result",
          "data": {
            "text/plain": [
              "Array(20., dtype=float32)"
            ]
          },
          "metadata": {},
          "execution_count": 25
        }
      ],
      "source": [
        "model(theta_true, jnp.array([1, 2, 3, 4, 5]))"
      ]
    },
    {
      "cell_type": "code",
      "execution_count": 26,
      "metadata": {
        "id": "24pWVd6Me9FH",
        "outputId": "ddef0480-305c-4c5b-b20a-9944d40cd26e",
        "colab": {
          "base_uri": "https://localhost:8080/"
        }
      },
      "outputs": [
        {
          "output_type": "execute_result",
          "data": {
            "text/plain": [
              "array([[1, 2],\n",
              "       [3, 4],\n",
              "       [5, 1],\n",
              "       [2, 3],\n",
              "       [4, 5]])"
            ]
          },
          "metadata": {},
          "execution_count": 26
        }
      ],
      "source": [
        "np.array([1, 2, 3, 4, 5, 1, 2, 3, 4, 5]).reshape(5, 2)"
      ]
    },
    {
      "cell_type": "code",
      "execution_count": 27,
      "metadata": {
        "id": "Kr_rTy8Oe9FH"
      },
      "outputs": [],
      "source": [
        "#model_vmap(theta, np.array([1, 2, 3, 4, 5, 1, 2, 3, 4, 5]).reshape(5, 2))"
      ]
    },
    {
      "cell_type": "code",
      "execution_count": 28,
      "metadata": {
        "id": "lrxjSHpMe9FH",
        "outputId": "1fb1afdc-d54c-4969-eedb-c80c72554e80",
        "colab": {
          "base_uri": "https://localhost:8080/"
        }
      },
      "outputs": [
        {
          "output_type": "stream",
          "name": "stdout",
          "text": [
            "(5, 50)\n",
            "[-1.9834332  3.693717  -2.6479702  1.790731  12.152575 ]\n"
          ]
        }
      ],
      "source": [
        "n_obs = 50\n",
        "x_observed = jax.random.normal(key, shape=(5,n_obs))\n",
        "print(x_observed.shape)\n",
        "print(jnp.sum(x_observed, axis=1))\n"
      ]
    },
    {
      "cell_type": "code",
      "execution_count": 29,
      "metadata": {
        "id": "VGFFvG0Ve9FH",
        "outputId": "78660b16-6f0e-4e74-a1d3-8429035692ba",
        "colab": {
          "base_uri": "https://localhost:8080/"
        }
      },
      "outputs": [
        {
          "output_type": "stream",
          "name": "stdout",
          "text": [
            "[  5.061532     2.4697185   -3.1689067   -7.6509895   -3.878571\n",
            "  11.230026     1.4037006    4.2314587    9.178272     5.9207597\n",
            "  -1.3583989   -4.3980184    5.3401203    0.41575944  -1.9732022\n",
            "  -8.83993      6.2698207   -2.5513077    6.314845    -8.689926\n",
            "  -1.7106991   -5.669702     8.188997    10.294529     5.785759\n",
            "  -5.8465557   17.606495     5.477191    11.000769     7.3086863\n",
            "  -3.7401242    6.787878     8.182899     1.5911278    1.0267415\n",
            "   4.3348236   -5.980621   -11.129906    -4.772352    -3.095614\n",
            "  -0.26369235  -5.845175    -2.9242475    3.4858134   11.435972\n",
            "  11.133466    -4.316735     0.92751443  -5.489374    -8.450031  ]\n"
          ]
        }
      ],
      "source": [
        "# observations - model plus some noise\n",
        "y_observed = model(theta_true, x_observed) + jax.random.normal(key, shape=(n_obs,))\n",
        "print(y_observed)"
      ]
    },
    {
      "cell_type": "code",
      "execution_count": 30,
      "metadata": {
        "id": "9v89eEq5e9FI",
        "outputId": "31461a1c-4870-482c-842a-974f7ae6118b",
        "colab": {
          "base_uri": "https://localhost:8080/",
          "height": 470
        }
      },
      "outputs": [
        {
          "output_type": "execute_result",
          "data": {
            "text/plain": [
              "Text(0.5, 1.0, 'Noisy observations vs underlying model')"
            ]
          },
          "metadata": {},
          "execution_count": 30
        },
        {
          "output_type": "display_data",
          "data": {
            "text/plain": [
              "<Figure size 640x480 with 1 Axes>"
            ],
            "image/png": "[encoded data removed]"
          },
          "metadata": {}
        }
      ],
      "source": [
        "plt.scatter(model(theta_true, x_observed), y_observed)\n",
        "plt.plot(model(theta_true, x_observed), model(theta_true, x_observed))\n",
        "plt.title('Noisy observations vs underlying model')"
      ]
    },
    {
      "cell_type": "code",
      "execution_count": null,
      "metadata": {
        "id": "jL4r5SlJe9FI",
        "outputId": "195c760e-c53c-4154-bf98-db5ed2fd8ed2"
      },
      "outputs": [
        {
          "name": "stdout",
          "output_type": "stream",
          "text": [
            "7.6 µs ± 137 ns per loop (mean ± std. dev. of 7 runs, 100,000 loops each)\n"
          ]
        }
      ],
      "source": [
        "%timeit model(theta_true, x_observed)"
      ]
    },
    {
      "cell_type": "code",
      "execution_count": 31,
      "metadata": {
        "id": "wD_ywQ2ve9FI",
        "outputId": "7b6cf1f0-eadf-4f4b-93b5-e824d857dd94",
        "colab": {
          "base_uri": "https://localhost:8080/"
        }
      },
      "outputs": [
        {
          "output_type": "stream",
          "name": "stdout",
          "text": [
            "[ 2.9883358e+00  2.3349292e+00 -1.5650349e+00 -6.1130486e+00\n",
            " -5.0836453e+00  1.2472522e+01  1.8045750e+00  5.0270219e+00\n",
            "  1.0129258e+01  5.9141598e+00 -1.4724889e+00 -4.2724571e+00\n",
            "  6.0810962e+00  5.5440164e-01 -1.5313129e+00 -7.7776632e+00\n",
            "  6.5286217e+00 -2.9492378e+00  6.2737894e+00 -7.3210154e+00\n",
            "  1.4329433e-02 -5.8055058e+00  7.4530363e+00  8.3956413e+00\n",
            "  4.1605120e+00 -5.3344989e+00  1.8990660e+01  6.3681188e+00\n",
            "  1.0795193e+01  7.7783060e+00 -1.1883299e+00  6.2501445e+00\n",
            "  7.3560805e+00  1.6167390e+00  3.5765314e-01  6.0111747e+00\n",
            " -5.7826834e+00 -1.1694789e+01 -7.5610752e+00 -2.0660710e+00\n",
            " -2.2288561e-01 -5.6120420e+00 -2.8691711e+00  4.5343022e+00\n",
            "  1.0853861e+01  1.2338906e+01 -4.6002135e+00  1.9807792e+00\n",
            " -5.6962886e+00 -7.8172445e+00]\n"
          ]
        }
      ],
      "source": [
        "y_observed = model_vmap(theta_true, x_observed)\n",
        "print(y_observed)"
      ]
    },
    {
      "cell_type": "code",
      "execution_count": null,
      "metadata": {
        "id": "XMEl_bLte9FI",
        "outputId": "40a4124b-bb75-44a8-d7c3-6cae1ad40f64"
      },
      "outputs": [
        {
          "name": "stdout",
          "output_type": "stream",
          "text": [
            "717 µs ± 12.6 µs per loop (mean ± std. dev. of 7 runs, 1,000 loops each)\n"
          ]
        }
      ],
      "source": [
        "# slower tham model?\n",
        "%timeit model_vmap(theta_true, x_observed)"
      ]
    },
    {
      "cell_type": "code",
      "execution_count": 32,
      "metadata": {
        "id": "vdnjyjGpe9FI"
      },
      "outputs": [],
      "source": [
        "# loss function - mean squared error\n",
        "def loss_fn(theta, x, y):\n",
        "  prediction = model(theta, x)\n",
        "  return jnp.mean((prediction-y)**2)"
      ]
    },
    {
      "cell_type": "code",
      "execution_count": 33,
      "metadata": {
        "id": "KSB1AqW_e9FI"
      },
      "outputs": [],
      "source": [
        "# update step\n",
        "@jax.jit\n",
        "def update(theta, x, y, lr=0.01):\n",
        "  return theta - lr * grad(loss_fn)(theta, x, y)"
      ]
    },
    {
      "cell_type": "code",
      "execution_count": 42,
      "metadata": {
        "id": "8o8zevxme9FJ",
        "outputId": "16b3d3a4-7517-45dc-e542-07bc7a2481df",
        "colab": {
          "base_uri": "https://localhost:8080/"
        }
      },
      "outputs": [
        {
          "output_type": "stream",
          "name": "stdout",
          "text": [
            "True vs fitted parameters:\n",
            "[[ 1. -1.  3.  5. -2.  2.]\n",
            " [ 1. -1.  3.  5. -2.  2.]]\n"
          ]
        }
      ],
      "source": [
        "# initial parateters\n",
        "theta = jnp.array([1., 1., 1., 1., 1., 1.])\n",
        "theta\n",
        "n_iterations = 1000\n",
        "lr = .01\n",
        "for i in range(n_iterations):\n",
        "    theta = update(theta, x_observed, y_observed, lr=lr)\n",
        "print('True vs fitted parameters:')\n",
        "print(jnp.vstack([jnp.round(theta, 4), theta_true]))\n"
      ]
    },
    {
      "cell_type": "markdown",
      "metadata": {
        "id": "XMDjCiSle9FJ"
      },
      "source": [
        "### Logistic regression classifier"
      ]
    },
    {
      "cell_type": "markdown",
      "metadata": {
        "id": "ePrjFvEAe9FJ"
      },
      "source": [
        "First, we create data using bivariate normal distribution."
      ]
    },
    {
      "cell_type": "code",
      "execution_count": 44,
      "metadata": {
        "id": "_oSYnBtne9FJ",
        "outputId": "a5468855-96ac-4a1e-c006-ca8663396167",
        "colab": {
          "base_uri": "https://localhost:8080/"
        }
      },
      "outputs": [
        {
          "output_type": "execute_result",
          "data": {
            "text/plain": [
              "Array([[ 2.2076726 ,  0.6332452 ],\n",
              "       [ 0.53972983, -0.51073563],\n",
              "       [ 1.6998711 ,  1.4444137 ],\n",
              "       [-0.05809402,  1.330411  ],\n",
              "       [ 0.23326337,  0.6060622 ]], dtype=float32)"
            ]
          },
          "metadata": {},
          "execution_count": 44
        }
      ],
      "source": [
        "class1 = random.multivariate_normal(key,\n",
        "                           mean=jnp.array([1, 1]),\n",
        "                           cov=.5*np.array([1, .5, .5, 1]).reshape(2,2),\n",
        "                          shape=[100,])\n",
        "class1[:5,:]"
      ]
    },
    {
      "cell_type": "code",
      "execution_count": 45,
      "metadata": {
        "id": "r0CUv8Sre9FJ",
        "outputId": "e3f77fb2-c2c1-4d50-bb64-fc8ceeed0cdb",
        "colab": {
          "base_uri": "https://localhost:8080/",
          "height": 450
        }
      },
      "outputs": [
        {
          "output_type": "execute_result",
          "data": {
            "text/plain": [
              "<matplotlib.collections.PathCollection at 0x7ff1b7501e50>"
            ]
          },
          "metadata": {},
          "execution_count": 45
        },
        {
          "output_type": "display_data",
          "data": {
            "text/plain": [
              "<Figure size 640x480 with 1 Axes>"
            ],
            "image/png": "[encoded data removed]"
          },
          "metadata": {}
        }
      ],
      "source": [
        "plt.scatter(class1[:, 0], class1[:, 1])"
      ]
    },
    {
      "cell_type": "code",
      "execution_count": 47,
      "metadata": {
        "id": "r-eDDdpze9FJ",
        "outputId": "bd46ac85-9a5e-43fc-d845-6300669c6d7b",
        "colab": {
          "base_uri": "https://localhost:8080/"
        }
      },
      "outputs": [
        {
          "output_type": "execute_result",
          "data": {
            "text/plain": [
              "Array([[3.8344638, 3.6424365],\n",
              "       [3.7436981, 4.086054 ],\n",
              "       [2.1166985, 2.5441346],\n",
              "       [3.5168748, 3.2564943],\n",
              "       [2.899921 , 3.3229437]], dtype=float32)"
            ]
          },
          "metadata": {},
          "execution_count": 47
        }
      ],
      "source": [
        "key, subkey = random.split(key)\n",
        "class2 = random.multivariate_normal(key,\n",
        "                           mean=jnp.array([3, 3]),\n",
        "                           cov=.5*np.array([1, .7, .7, 1]).reshape(2,2),\n",
        "                          shape=[100,])\n",
        "class2[:5,:]"
      ]
    },
    {
      "cell_type": "code",
      "execution_count": 48,
      "metadata": {
        "id": "3vA8YMIDe9FK",
        "outputId": "e3cfd479-37b0-44e7-b764-23d33990b37f",
        "colab": {
          "base_uri": "https://localhost:8080/",
          "height": 470
        }
      },
      "outputs": [
        {
          "output_type": "execute_result",
          "data": {
            "text/plain": [
              "<matplotlib.legend.Legend at 0x7ff1b644b790>"
            ]
          },
          "metadata": {},
          "execution_count": 48
        },
        {
          "output_type": "display_data",
          "data": {
            "text/plain": [
              "<Figure size 640x480 with 1 Axes>"
            ],
            "image/png": "[encoded data removed]"
          },
          "metadata": {}
        }
      ],
      "source": [
        "\n",
        "fig = plt.figure()\n",
        "ax1 = fig.add_subplot(111)\n",
        "\n",
        "ax1.scatter(class1[:, 0], class1[:, 1], s=10, c='b', marker=\"s\", label='class1')\n",
        "ax1.scatter(class2[:, 0], class2[:, 1], s=10, c='r', marker=\"s\", label='class2')\n",
        "plt.title('Two classes')\n",
        "plt.legend()\n"
      ]
    },
    {
      "cell_type": "markdown",
      "metadata": {
        "id": "RiX2d9que9FK"
      },
      "source": [
        "Logistic regression models the probability of belonging to $class1$ as\n",
        "$$\n",
        "p = \\frac{1}{1+e^{-(wx + b)}},\n",
        "$$\n",
        "where, in our case, $w = (w_1, w_2), x = (x_1, x_2)$, and $b$ is a scalar.\n",
        "The loss function at $p_k, y_k$ is defined as \n",
        "\n",
        "$$\n",
        "\\left\\{\n",
        "\\begin{array}{l}\n",
        "      -log(p_k),\\ if\\  y_k = 1\\ \\    (class 1),\\\\\n",
        "      -log(1-p_k),\\ if\\  y_k=0 \\ \\    (class 2).\n",
        "      \\end{array}\n",
        "  \\right.\n",
        "$$\n",
        "Combining, we get cross entropy loss function\n",
        "\n",
        "$$\n",
        "L = -\\Sigma_1^N (y_k\\log(p_k) + (1-y_k)log(1-p_k)).\n",
        "$$"
      ]
    },
    {
      "cell_type": "code",
      "execution_count": 49,
      "metadata": {
        "id": "ZIFK2PhDe9FK"
      },
      "outputs": [],
      "source": [
        "# implement functions\n",
        "@jax.jit\n",
        "def sigmoid(t):\n",
        "    return 1/(1 + jnp.exp(-t))\n",
        "\n",
        "@jax.jit\n",
        "def model(theta, x):\n",
        "    w = theta[:-1]\n",
        "    b = theta[-1]\n",
        "    t = jnp.dot(w, x) + b\n",
        "    p = sigmoid(t)\n",
        "    return p\n",
        "\n",
        "# loss function - cross entropy\n",
        "def loss_fn(theta, x, y):\n",
        "  p = model(theta, x)\n",
        "#  print(theta.dtype)\n",
        "#  print(y.dtype)\n",
        "# print(y*(jnp.log(p) + (1-y)*jnp.log(1-p)))    \n",
        "  return -jnp.mean(y*jnp.log(p) + (1-y)*jnp.log(1-p))\n",
        "\n",
        "# update step\n",
        "@jax.jit\n",
        "def update(theta, x, y, lr=0.01):\n",
        "  return theta - lr * grad(loss_fn)(theta, x, y)"
      ]
    },
    {
      "cell_type": "code",
      "execution_count": 50,
      "metadata": {
        "id": "WKRzeTE3e9FK",
        "outputId": "69a2fb55-dc17-4382-ab99-9b6b5135d71f",
        "colab": {
          "base_uri": "https://localhost:8080/"
        }
      },
      "outputs": [
        {
          "output_type": "execute_result",
          "data": {
            "text/plain": [
              "Array([[ 2.2076726 ,  0.6332452 ],\n",
              "       [ 0.53972983, -0.51073563],\n",
              "       [ 1.6998711 ,  1.4444137 ],\n",
              "       [-0.05809402,  1.330411  ],\n",
              "       [ 0.23326337,  0.6060622 ]], dtype=float32)"
            ]
          },
          "metadata": {},
          "execution_count": 50
        }
      ],
      "source": [
        "class1[:5, :]"
      ]
    },
    {
      "cell_type": "code",
      "execution_count": 51,
      "metadata": {
        "id": "vcYvh6Lee9FK",
        "outputId": "fddf18d9-0618-4412-ca9a-55466e301d0e",
        "colab": {
          "base_uri": "https://localhost:8080/"
        }
      },
      "outputs": [
        {
          "output_type": "execute_result",
          "data": {
            "text/plain": [
              "Array([0.97897756, 0.73672086, 0.98439276, 0.9065582 , 0.8628689 ],      dtype=float32)"
            ]
          },
          "metadata": {},
          "execution_count": 51
        }
      ],
      "source": [
        "theta = np.array([1., 1., 1.])\n",
        "model(theta, class1[:5, :].transpose())"
      ]
    },
    {
      "cell_type": "code",
      "execution_count": 52,
      "metadata": {
        "id": "Vf7G130xe9FK"
      },
      "outputs": [],
      "source": [
        "#loss_fn(theta, data[:,:-1].transpose(), lbl)"
      ]
    },
    {
      "cell_type": "code",
      "execution_count": 53,
      "metadata": {
        "id": "7l8gBW1qe9FL",
        "outputId": "d27933bb-d61b-4939-835d-8a4f9fc34169",
        "colab": {
          "base_uri": "https://localhost:8080/"
        }
      },
      "outputs": [
        {
          "output_type": "execute_result",
          "data": {
            "text/plain": [
              "3.5157510870691544"
            ]
          },
          "metadata": {},
          "execution_count": 53
        }
      ],
      "source": [
        "# alternative cross entropy function\n",
        "from sklearn.metrics import log_loss\n",
        "lbl = jnp.concatenate((jnp.ones(shape=(len(class1),)), jnp.zeros(shape=(len(class2),))))\n",
        "data = jnp.column_stack((jnp.row_stack((class1, class2)), lbl))\n",
        "log_loss(lbl, model(theta, data[:,:-1].transpose()))"
      ]
    },
    {
      "cell_type": "code",
      "execution_count": 54,
      "metadata": {
        "id": "huPH9UG1e9FL"
      },
      "outputs": [],
      "source": [
        "def BinaryCrossEntropy(y_true, y_pred):\n",
        "    y_pred = np.clip(y_pred, 1e-7, 1 - 1e-7)\n",
        "    term_0 = (1-y_true) * np.log(1-y_pred + 1e-7)\n",
        "    term_1 = y_true * np.log(y_pred + 1e-7)\n",
        "    return -np.mean(term_0+term_1, axis=0)"
      ]
    },
    {
      "cell_type": "code",
      "execution_count": 55,
      "metadata": {
        "id": "1S_eNwWDe9FL",
        "outputId": "619b1143-9fe9-40e2-c207-93a57b8c21f6",
        "colab": {
          "base_uri": "https://localhost:8080/"
        }
      },
      "outputs": [
        {
          "output_type": "execute_result",
          "data": {
            "text/plain": [
              "Array(3.5156238, dtype=float32)"
            ]
          },
          "metadata": {},
          "execution_count": 55
        }
      ],
      "source": [
        "BinaryCrossEntropy(lbl, model(theta, data[:,:-1].transpose()))"
      ]
    },
    {
      "cell_type": "code",
      "execution_count": 55,
      "metadata": {
        "id": "q67Za-zde9FL"
      },
      "outputs": [],
      "source": []
    },
    {
      "cell_type": "code",
      "execution_count": 56,
      "metadata": {
        "id": "vIB-FBT0e9FL",
        "outputId": "142e3b2f-d3ec-422a-bd33-41d701fa86eb",
        "colab": {
          "base_uri": "https://localhost:8080/"
        }
      },
      "outputs": [
        {
          "output_type": "execute_result",
          "data": {
            "text/plain": [
              "Array([1.0003867, 1.0003953, 1.0009131], dtype=float32)"
            ]
          },
          "metadata": {},
          "execution_count": 56
        }
      ],
      "source": [
        "update(theta, class1[:, :].transpose(), jnp.ones(shape=(len(class1),)))"
      ]
    },
    {
      "cell_type": "code",
      "execution_count": 57,
      "metadata": {
        "id": "9gIBobSre9FL",
        "outputId": "8006609e-c8fb-427e-8dcc-088bdc3fce9b",
        "colab": {
          "base_uri": "https://localhost:8080/"
        }
      },
      "outputs": [
        {
          "output_type": "stream",
          "name": "stdout",
          "text": [
            "(200, 3)\n",
            "[[ 2.2076726   0.6332452   1.        ]\n",
            " [ 0.53972983 -0.51073563  1.        ]\n",
            " [ 1.6998711   1.4444137   1.        ]\n",
            " [-0.05809402  1.330411    1.        ]\n",
            " [ 0.23326337  0.6060622   1.        ]]\n",
            "[[2.4291148 2.125376  0.       ]\n",
            " [2.281614  2.8917508 0.       ]\n",
            " [4.2973366 3.5974226 0.       ]\n",
            " [2.8771503 2.9964821 0.       ]\n",
            " [2.3972902 2.1762762 0.       ]]\n"
          ]
        }
      ],
      "source": [
        "#input data\n",
        "lbl = jnp.concatenate((jnp.ones(shape=(len(class1),)), jnp.zeros(shape=(len(class2),))))\n",
        "data = jnp.column_stack((jnp.row_stack((class1, class2)), lbl))\n",
        "print(data.shape)\n",
        "print(data[:5, :])\n",
        "print(data[-5:, :])\n",
        "# train/test split\n",
        "X_train, X_test, y_train, y_test = train_test_split(\n",
        "    data[:,:-1], \n",
        "    data[:,-1], \n",
        "    test_size=0.3, random_state=212\n",
        ")"
      ]
    },
    {
      "cell_type": "code",
      "execution_count": 58,
      "metadata": {
        "id": "RbcrkPsbe9FL",
        "outputId": "1866de34-8ca4-47ac-fcb5-5bae938b2254",
        "colab": {
          "base_uri": "https://localhost:8080/"
        }
      },
      "outputs": [
        {
          "output_type": "stream",
          "name": "stdout",
          "text": [
            "(140, 2)\n",
            "(60, 2)\n",
            "(140,)\n",
            "(60,)\n",
            "30.0\n"
          ]
        }
      ],
      "source": [
        "print(X_train.shape)\n",
        "print(X_test.shape)\n",
        "print(y_train.shape)\n",
        "print(y_test.shape)\n",
        "print(y_test.sum())"
      ]
    },
    {
      "cell_type": "code",
      "execution_count": 59,
      "metadata": {
        "id": "uqFPE2Fze9FM",
        "outputId": "a4c48fd1-f407-4c4c-c963-33521d221a1b",
        "colab": {
          "base_uri": "https://localhost:8080/"
        }
      },
      "outputs": [
        {
          "output_type": "stream",
          "name": "stdout",
          "text": [
            "[-1.4721686 -1.1317884  4.7135835]\n"
          ]
        }
      ],
      "source": [
        "# fit parameters\n",
        "# initial parateters\n",
        "theta = jnp.array([1., 1., 1.])\n",
        "n_iterations = 1000\n",
        "lr = .1\n",
        "for i in range(n_iterations):\n",
        "    #print(theta)\n",
        "    theta = update(theta, X_train.transpose(), y_train, lr=lr)\n",
        "    #print(loss_fn(theta, X_train.transpose(), y_train))\n",
        "print(theta)"
      ]
    },
    {
      "cell_type": "code",
      "execution_count": 60,
      "metadata": {
        "id": "-3EbI1sUe9FM"
      },
      "outputs": [],
      "source": [
        "#jnp.column_stack((model(theta, X_train.transpose()), y_train))"
      ]
    },
    {
      "cell_type": "code",
      "execution_count": null,
      "metadata": {
        "id": "qTnVU-ORe9FM",
        "outputId": "da5a2cb5-2f5e-4c7c-f55a-b1538ba50a6b"
      },
      "outputs": [
        {
          "data": {
            "text/html": [
              "<div>\n",
              "<style scoped>\n",
              "    .dataframe tbody tr th:only-of-type {\n",
              "        vertical-align: middle;\n",
              "    }\n",
              "\n",
              "    .dataframe tbody tr th {\n",
              "        vertical-align: top;\n",
              "    }\n",
              "\n",
              "    .dataframe thead th {\n",
              "        text-align: right;\n",
              "    }\n",
              "</style>\n",
              "<table border=\"1\" class=\"dataframe\">\n",
              "  <thead>\n",
              "    <tr style=\"text-align: right;\">\n",
              "      <th></th>\n",
              "      <th>Prevalence</th>\n",
              "      <th>Sensitivity</th>\n",
              "      <th>Specificity</th>\n",
              "      <th>Accuracy</th>\n",
              "      <th>Precision</th>\n",
              "      <th>F1</th>\n",
              "      <th>FPR</th>\n",
              "      <th>MCC</th>\n",
              "      <th>AUC</th>\n",
              "      <th>LogLoss</th>\n",
              "    </tr>\n",
              "  </thead>\n",
              "  <tbody>\n",
              "    <tr>\n",
              "      <th>0</th>\n",
              "      <td>0.5</td>\n",
              "      <td>0.9</td>\n",
              "      <td>1.0</td>\n",
              "      <td>0.95</td>\n",
              "      <td>1.0</td>\n",
              "      <td>0.9474</td>\n",
              "      <td>0.0</td>\n",
              "      <td>0.9045</td>\n",
              "      <td>0.9945</td>\n",
              "      <td>0.1431</td>\n",
              "    </tr>\n",
              "  </tbody>\n",
              "</table>\n",
              "</div>"
            ],
            "text/plain": [
              "   Prevalence  Sensitivity  Specificity  Accuracy  Precision      F1  FPR  \\\n",
              "0         0.5          0.9          1.0      0.95        1.0  0.9474  0.0   \n",
              "\n",
              "      MCC     AUC  LogLoss  \n",
              "0  0.9045  0.9945   0.1431  "
            ]
          },
          "execution_count": 56,
          "metadata": {},
          "output_type": "execute_result"
        }
      ],
      "source": [
        "from usefulml.ml_utils import  binary_classification_metrics\n",
        "binary_classification_metrics(y_train,\n",
        "                              jnp.round(model(theta, X_train.transpose()), 0),\n",
        "                              model(theta, X_train.transpose()),\n",
        "                              4\n",
        "                             )"
      ]
    },
    {
      "cell_type": "code",
      "execution_count": null,
      "metadata": {
        "id": "h7oP6shDe9FM",
        "outputId": "02c23dee-cdbe-48eb-b55a-e4f50d997f2d"
      },
      "outputs": [
        {
          "data": {
            "text/html": [
              "<div>\n",
              "<style scoped>\n",
              "    .dataframe tbody tr th:only-of-type {\n",
              "        vertical-align: middle;\n",
              "    }\n",
              "\n",
              "    .dataframe tbody tr th {\n",
              "        vertical-align: top;\n",
              "    }\n",
              "\n",
              "    .dataframe thead th {\n",
              "        text-align: right;\n",
              "    }\n",
              "</style>\n",
              "<table border=\"1\" class=\"dataframe\">\n",
              "  <thead>\n",
              "    <tr style=\"text-align: right;\">\n",
              "      <th></th>\n",
              "      <th>Prevalence</th>\n",
              "      <th>Sensitivity</th>\n",
              "      <th>Specificity</th>\n",
              "      <th>Accuracy</th>\n",
              "      <th>Precision</th>\n",
              "      <th>F1</th>\n",
              "      <th>FPR</th>\n",
              "      <th>MCC</th>\n",
              "      <th>AUC</th>\n",
              "      <th>LogLoss</th>\n",
              "    </tr>\n",
              "  </thead>\n",
              "  <tbody>\n",
              "    <tr>\n",
              "      <th>0</th>\n",
              "      <td>0.5</td>\n",
              "      <td>1.0</td>\n",
              "      <td>0.9333</td>\n",
              "      <td>0.9667</td>\n",
              "      <td>0.9375</td>\n",
              "      <td>0.9677</td>\n",
              "      <td>0.0667</td>\n",
              "      <td>0.9354</td>\n",
              "      <td>0.9956</td>\n",
              "      <td>0.161</td>\n",
              "    </tr>\n",
              "  </tbody>\n",
              "</table>\n",
              "</div>"
            ],
            "text/plain": [
              "   Prevalence  Sensitivity  Specificity  Accuracy  Precision      F1     FPR  \\\n",
              "0         0.5          1.0       0.9333    0.9667     0.9375  0.9677  0.0667   \n",
              "\n",
              "      MCC     AUC  LogLoss  \n",
              "0  0.9354  0.9956    0.161  "
            ]
          },
          "execution_count": 57,
          "metadata": {},
          "output_type": "execute_result"
        }
      ],
      "source": [
        "# now for test data\n",
        "binary_classification_metrics(y_test,\n",
        "                              jnp.round(model(theta, X_test.transpose()), 0),\n",
        "                              model(theta, X_test.transpose()),\n",
        "                              4\n",
        "                             )"
      ]
    },
    {
      "cell_type": "markdown",
      "metadata": {
        "id": "FSgPMq1Me9FM"
      },
      "source": [
        "Draw a decision boundary using cutoff of 0.5\n",
        "$$\n",
        "w_1x_1 + w_2x_2 + b = 0, \\newline\n",
        "x_2 = -\\frac{w_1}{w_2}x_1 - \\frac{b}{w_2}\n",
        "$$ "
      ]
    },
    {
      "cell_type": "code",
      "execution_count": 61,
      "metadata": {
        "id": "VIObCU3qe9FM",
        "outputId": "344a513f-42fa-42d8-a41d-c2d8d2b60634",
        "colab": {
          "base_uri": "https://localhost:8080/",
          "height": 470
        }
      },
      "outputs": [
        {
          "output_type": "execute_result",
          "data": {
            "text/plain": [
              "<matplotlib.legend.Legend at 0x7ff1b31f4220>"
            ]
          },
          "metadata": {},
          "execution_count": 61
        },
        {
          "output_type": "display_data",
          "data": {
            "text/plain": [
              "<Figure size 640x480 with 1 Axes>"
            ],
            "image/png": "[encoded data removed]"
          },
          "metadata": {}
        }
      ],
      "source": [
        "fig = plt.figure()\n",
        "ax1 = fig.add_subplot(111)\n",
        "\n",
        "ax1.scatter(class1[:, 0], class1[:, 1], s=10, c='b', marker=\"s\", label='class1')\n",
        "ax1.scatter(class2[:, 0], class2[:, 1], s=10, c='r', marker=\"s\", label='class2')\n",
        "x1 = jnp.linspace(.5, 3.5, 50)\n",
        "x2 = ( -theta[0]*x1 - theta[2])/theta[1]\n",
        "ax1.plot(x1, x2, c='g')\n",
        "plt.title('Two classes with a decision boundary.')\n",
        "plt.legend()\n"
      ]
    },
    {
      "cell_type": "code",
      "execution_count": null,
      "metadata": {
        "id": "Ip9Nr5Noe9FM",
        "outputId": "09086ddb-2450-4bd7-90b3-fffa43231070"
      },
      "outputs": [
        {
          "data": {
            "text/plain": [
              "Array(5.084245, dtype=float32)"
            ]
          },
          "execution_count": 59,
          "metadata": {},
          "output_type": "execute_result"
        }
      ],
      "source": [
        "theta[2]"
      ]
    },
    {
      "cell_type": "code",
      "execution_count": null,
      "metadata": {
        "id": "9LQbiExqe9FN"
      },
      "outputs": [],
      "source": []
    },
    {
      "cell_type": "markdown",
      "metadata": {
        "id": "vc2KmO3de9FN"
      },
      "source": [
        "### Fully connected neural network."
      ]
    },
    {
      "cell_type": "markdown",
      "metadata": {
        "id": "Mf1_Tm_ee9FN"
      },
      "source": [
        "$x \\in R^n$, an input vector, transformed to a vector of length $m$ via \n",
        "$$\n",
        "x = xW + b, \\newline\n",
        "x = activation\\_function(x),\n",
        "$$\n",
        "where $W \\in R^{n\\times m}, b \\in R^m$.\n",
        "This represents one layer of the network. The final layer transforms to the dimension of the output, and in case of classsification - sigmoid.\n"
      ]
    },
    {
      "cell_type": "code",
      "execution_count": null,
      "metadata": {
        "id": "PDVc1PGce9FN"
      },
      "outputs": [],
      "source": [
        "# A link to the data is availailable in the following blog post\n",
        "# https://scipython.com/blog/a-shallow-neural-network-for-simple-nonlinear-classification/\n",
        "df = pd.read_csv('../non_linear_class_example/labeled_points.txt', sep=' ',\n",
        "                usecols=[1,3,5], names=['x1', 'x2', 'label'])"
      ]
    },
    {
      "cell_type": "code",
      "execution_count": null,
      "metadata": {
        "id": "1jxFukGFe9FN",
        "outputId": "c768784e-9557-457e-ad90-0d67ef3ceae8"
      },
      "outputs": [
        {
          "data": {
            "text/html": [
              "<div>\n",
              "<style scoped>\n",
              "    .dataframe tbody tr th:only-of-type {\n",
              "        vertical-align: middle;\n",
              "    }\n",
              "\n",
              "    .dataframe tbody tr th {\n",
              "        vertical-align: top;\n",
              "    }\n",
              "\n",
              "    .dataframe thead th {\n",
              "        text-align: right;\n",
              "    }\n",
              "</style>\n",
              "<table border=\"1\" class=\"dataframe\">\n",
              "  <thead>\n",
              "    <tr style=\"text-align: right;\">\n",
              "      <th></th>\n",
              "      <th>x1</th>\n",
              "      <th>x2</th>\n",
              "      <th>label</th>\n",
              "    </tr>\n",
              "  </thead>\n",
              "  <tbody>\n",
              "    <tr>\n",
              "      <th>0</th>\n",
              "      <td>0.50873</td>\n",
              "      <td>0.08490</td>\n",
              "      <td>1</td>\n",
              "    </tr>\n",
              "    <tr>\n",
              "      <th>1</th>\n",
              "      <td>0.96767</td>\n",
              "      <td>0.96752</td>\n",
              "      <td>1</td>\n",
              "    </tr>\n",
              "    <tr>\n",
              "      <th>2</th>\n",
              "      <td>0.72096</td>\n",
              "      <td>0.90628</td>\n",
              "      <td>1</td>\n",
              "    </tr>\n",
              "    <tr>\n",
              "      <th>3</th>\n",
              "      <td>0.66071</td>\n",
              "      <td>0.32757</td>\n",
              "      <td>1</td>\n",
              "    </tr>\n",
              "    <tr>\n",
              "      <th>4</th>\n",
              "      <td>0.48690</td>\n",
              "      <td>0.58265</td>\n",
              "      <td>0</td>\n",
              "    </tr>\n",
              "  </tbody>\n",
              "</table>\n",
              "</div>"
            ],
            "text/plain": [
              "        x1       x2  label\n",
              "0  0.50873  0.08490      1\n",
              "1  0.96767  0.96752      1\n",
              "2  0.72096  0.90628      1\n",
              "3  0.66071  0.32757      1\n",
              "4  0.48690  0.58265      0"
            ]
          },
          "execution_count": 61,
          "metadata": {},
          "output_type": "execute_result"
        }
      ],
      "source": [
        "df.head()"
      ]
    },
    {
      "cell_type": "code",
      "execution_count": null,
      "metadata": {
        "id": "hD9-_C_ie9FN",
        "outputId": "e3b5d89d-e3e1-42a3-b440-2330884e3af3"
      },
      "outputs": [
        {
          "data": {
            "text/plain": [
              "<matplotlib.legend.Legend at 0x7f865c6576d0>"
            ]
          },
          "execution_count": 62,
          "metadata": {},
          "output_type": "execute_result"
        },
        {
          "data": {
            "image/png": "[encoded data removed]",
            "text/plain": [
              "<Figure size 432x288 with 1 Axes>"
            ]
          },
          "metadata": {
            "needs_background": "light"
          },
          "output_type": "display_data"
        }
      ],
      "source": [
        "fig = plt.figure()\n",
        "ax1 = fig.add_subplot(111)\n",
        "df_cl1 = df[df.label == 0]\n",
        "df_cl2 = df[df.label == 1]\n",
        "ax1.scatter(df_cl1.x1, df_cl1.x2, s=5, c='b', marker=\"s\", label='class1')\n",
        "ax1.scatter(df_cl2.x1, df_cl2.x2, s=5, c='r', marker=\"s\", label='class2')\n",
        "fig.tight_layout()\n",
        "plt.title('Two classes')\n",
        "plt.legend()\n"
      ]
    },
    {
      "cell_type": "code",
      "execution_count": null,
      "metadata": {
        "id": "gcziA3tze9FN",
        "outputId": "e7954141-2c31-4d09-8538-b4686eb52cb7"
      },
      "outputs": [
        {
          "name": "stdout",
          "output_type": "stream",
          "text": [
            "(2506, 2)\n",
            "(2506,)\n"
          ]
        }
      ],
      "source": [
        "# lets see how grad works\n",
        "x = jnp.array(df[['x1', 'x2']])\n",
        "y = jnp.array(df['label'])\n",
        "print(x.shape)\n",
        "print(y.shape)"
      ]
    },
    {
      "cell_type": "code",
      "execution_count": null,
      "metadata": {
        "id": "o-aZXiKDe9FO",
        "outputId": "c6f2fd0e-2dd9-430f-fe16-b5743c190774"
      },
      "outputs": [
        {
          "name": "stdout",
          "output_type": "stream",
          "text": [
            "[0.50873 0.0849 ]\n",
            "init inputs with random numbers:\n",
            "dimensions:\n",
            "W: (2, 10)\n",
            "b: (1, 10)\n",
            "W1: (10, 10)\n",
            "b1: (1, 10)\n",
            "w: (10, 1)\n",
            "model:\n",
            "[[0.500121  ]\n",
            " [0.5001213 ]\n",
            " [0.5001215 ]\n",
            " [0.50012106]\n",
            " [0.5001215 ]\n",
            " [0.50012153]\n",
            " [0.50012046]\n",
            " [0.5001213 ]\n",
            " [0.5001212 ]\n",
            " [0.5001213 ]]\n",
            "loss function:\n",
            "0.6930502\n",
            "gradient dim:\n",
            "[(2, 10), (1, 10), (10, 10), (1, 10), (10, 1)]\n"
          ]
        }
      ],
      "source": [
        "#first point\n",
        "print(x[0])\n",
        "# W dim\n",
        "input_dim = 2\n",
        "hidden_dim = 10\n",
        "#key = jax.random.PRNGKey(42)\n",
        "#key, subkey = random.split(key)\n",
        "#print(random.normal(subkey, shape=(5,)))\n",
        "print('init inputs with random numbers:')\n",
        "W = jax.random.normal(key, shape=(input_dim, hidden_dim)) * .01\n",
        "b = jax.random.normal(key, shape=(1, hidden_dim)) * .01\n",
        "W1 = jax.random.normal(key, shape=(hidden_dim, hidden_dim)) * .01\n",
        "b1 = jax.random.normal(key, shape=(1, hidden_dim)) * .01\n",
        "w = jax.random.normal(key, shape=(hidden_dim, 1)) * .01\n",
        "print('dimensions:')\n",
        "print('W:', W.shape)\n",
        "print('b:', b.shape)\n",
        "print('W1:', W1.shape)\n",
        "print('b1:', b1.shape)\n",
        "print('w:', w.shape)\n",
        "print('model:')\n",
        "print(model((W, b, W1, b1, w), x[0:10]))\n",
        "print('loss function:')\n",
        "print(loss_fn((W, b, W1, b1, w), x[0:10], y[0:10]))\n",
        "print('gradient dim:')\n",
        "print(list(map(lambda i: i.shape, grad(loss_fn)((W, b, W1, b1, w), x[0:5], y[0:5]))))"
      ]
    },
    {
      "cell_type": "code",
      "execution_count": null,
      "metadata": {
        "id": "7xqSv6pge9FO",
        "outputId": "ef877d46-7353-4899-e36a-ac8b2d4e2efe"
      },
      "outputs": [
        {
          "name": "stdout",
          "output_type": "stream",
          "text": [
            "[(1754, 2), (752, 2), (1754,), (752,)]\n",
            "1051 451\n"
          ]
        }
      ],
      "source": [
        "# split the data\n",
        "X_train, X_test, y_train, y_test = train_test_split(\n",
        "    x, \n",
        "    y,\n",
        "    stratify=y,\n",
        "    test_size=0.3, random_state=212\n",
        ")\n",
        "print(list(map(lambda i: i.shape, (X_train, X_test, y_train, y_test))))\n",
        "print(y_train.sum(), y_test.sum())"
      ]
    },
    {
      "cell_type": "markdown",
      "metadata": {
        "id": "587E8wrLe9FO"
      },
      "source": [
        "#### 2-layer nn using optax for optimization"
      ]
    },
    {
      "cell_type": "code",
      "execution_count": null,
      "metadata": {
        "id": "U6L-nnEqe9FO",
        "outputId": "8c843fbe-2abd-4ced-941b-907afa649e10"
      },
      "outputs": [
        {
          "name": "stdout",
          "output_type": "stream",
          "text": [
            "Dimensions are  2 100 2\n",
            "Dimensions of w1 are  (2, 100)\n",
            "Dimensions of b1 are  (1, 100)\n",
            "Dimensions of w2 are  (100, 100)\n",
            "Dimensions of b2 are  (1, 100)\n",
            "Dimensions of w3 are  (100, 2)\n",
            "Dimensions of b3 are  (1, 2)\n"
          ]
        }
      ],
      "source": [
        "key, w1key, b1key, w2key, b2key, w3key, b3key = jax.random.split(key, 7)\n",
        "num_input = X_train.shape[1]\n",
        "num_hidden1 = 100\n",
        "num_hidden2 = 100\n",
        "num_labels = y_train.max() + 1\n",
        "print('Dimensions are ', num_input, num_hidden1, num_labels)\n",
        "#num_hidden2 = 1024\n",
        "params = dict(\n",
        "    w1 = 1e-2*jax.random.normal(w1key, (num_input, num_hidden1)),\n",
        "    b1 = 1e-2*jax.random.normal(b1key, (1, num_hidden1)),\n",
        "    w2 = 1e-2*jax.random.normal(w2key, (num_hidden1, num_hidden2)),\n",
        "    b2 = 1e-2*jax.random.normal(b2key, (1, num_hidden2)),\n",
        "    w3 = 1e-2*jax.random.normal(w3key, (num_hidden2, num_labels)),\n",
        "    b3 = 1e-2*jax.random.normal(b3key, (1, num_labels)),\n",
        ")\n",
        "for k in params.keys():\n",
        "    print(f'Dimensions of {k} are ', params[k].shape)"
      ]
    },
    {
      "cell_type": "code",
      "execution_count": null,
      "metadata": {
        "id": "JWGwE2QMe9FO"
      },
      "outputs": [],
      "source": [
        "@jax.jit\n",
        "def net(params, x):\n",
        "    x = jax.nn.relu(x@params[\"w1\"] + params[\"b1\"])\n",
        "    x = jax.nn.relu(x@params[\"w2\"] + params[\"b2\"])\n",
        "    x = x@params[\"w3\"] + params[\"b3\"]\n",
        "#    x = sigmoid(x)\n",
        "    return x"
      ]
    },
    {
      "cell_type": "code",
      "execution_count": null,
      "metadata": {
        "id": "iUC_VPrUe9FO",
        "outputId": "6ea76d40-577a-42ca-b906-ebbf20999dbf"
      },
      "outputs": [
        {
          "data": {
            "text/plain": [
              "Array(1.3842765, dtype=float32)"
            ]
          },
          "execution_count": 177,
          "metadata": {},
          "output_type": "execute_result"
        }
      ],
      "source": [
        "@jax.jit\n",
        "def loss(params: optax.Params, batch: jnp.ndarray, labels: jnp.ndarray) -> jnp.ndarray:\n",
        "  y_hat = net(params, batch)\n",
        "\n",
        "  # optax also provides a number of common loss functions.\n",
        "  loss_value = optax.sigmoid_binary_cross_entropy(y_hat, labels).sum(axis=-1)\n",
        "\n",
        "  return loss_value.mean()\n",
        "\n",
        "loss(params, X_train, jax.nn.one_hot(y_train, 2))"
      ]
    },
    {
      "cell_type": "code",
      "execution_count": null,
      "metadata": {
        "id": "1YUDWma8e9FO"
      },
      "outputs": [],
      "source": [
        "@jax.jit\n",
        "def xeloss(x, y):\n",
        "    _elementwise_xeloss = jax.vmap(lambda x, y: -jax.nn.log_softmax(x)[y])\n",
        "    #print(_elementwise_xeloss(x, y))\n",
        "    return _elementwise_xeloss(x, y).mean()"
      ]
    },
    {
      "cell_type": "code",
      "execution_count": null,
      "metadata": {
        "id": "4FvEhe2te9FP",
        "outputId": "d3f22a94-3631-46bf-f74f-4d260bb3f033"
      },
      "outputs": [
        {
          "name": "stdout",
          "output_type": "stream",
          "text": [
            "model:\n",
            "[[ -63.644627    63.66596  ]\n",
            " [ -62.31705     62.33611  ]\n",
            " [ -13.637184    13.641239 ]\n",
            " [ -56.681774    56.700428 ]\n",
            " [   7.23103     -7.2333503]\n",
            " [   5.1875577   -5.1888404]\n",
            " [-289.67157    289.74     ]\n",
            " [  -6.3834777    6.3855453]\n",
            " [  -4.095489     4.0966735]\n",
            " [  31.733517   -31.743288 ]]\n",
            "loss functions:\n",
            "3.1121668e-05\n",
            "6356.39\n"
          ]
        }
      ],
      "source": [
        "print('model:')\n",
        "print(net(params, x[0:10]))\n",
        "print('loss functions:')\n",
        "print(xeloss(net(params, x[0:10]), y[0:10]))\n",
        "print(loss(params, net(params, x[0:10]), jax.nn.one_hot(y[0:10], 2)))"
      ]
    },
    {
      "cell_type": "code",
      "execution_count": null,
      "metadata": {
        "id": "-STpYjcje9FP",
        "outputId": "16fbe091-4afa-47ab-9650-eca8e2cfb623"
      },
      "outputs": [
        {
          "data": {
            "text/plain": [
              "Array(70., dtype=float32)"
            ]
          },
          "execution_count": 130,
          "metadata": {},
          "output_type": "execute_result"
        }
      ],
      "source": [
        "@jax.jit\n",
        "def accuracy(x, y):\n",
        "    return 100*(jnp.argmax(x, 1) == y).mean()\n",
        "accuracy(net(params, x[0:10]), y[0:10])"
      ]
    },
    {
      "cell_type": "code",
      "execution_count": null,
      "metadata": {
        "id": "NJZW7yUZe9FP",
        "outputId": "2d02ed07-7d5a-4ee6-b6c1-57d1596fd949"
      },
      "outputs": [
        {
          "data": {
            "text/plain": [
              "Array(0.69033426, dtype=float32)"
            ]
          },
          "execution_count": 131,
          "metadata": {},
          "output_type": "execute_result"
        }
      ],
      "source": [
        "@jax.jit\n",
        "def lossforward(params, x, y):\n",
        "    x = net(params, x)\n",
        "    loss = xeloss(x, y)\n",
        "    return loss\n",
        "lossforward(params, x[0:10], y[0:10])"
      ]
    },
    {
      "cell_type": "code",
      "execution_count": null,
      "metadata": {
        "id": "r078GrVfe9FP",
        "outputId": "f0fc0357-e15f-4c99-ecd9-85502764d585"
      },
      "outputs": [
        {
          "name": "stdout",
          "output_type": "stream",
          "text": [
            "[1 1 1 1 0 0 1 1 1 0]\n"
          ]
        },
        {
          "data": {
            "text/plain": [
              "Array([[0., 1.],\n",
              "       [0., 1.],\n",
              "       [0., 1.],\n",
              "       [0., 1.],\n",
              "       [1., 0.],\n",
              "       [1., 0.],\n",
              "       [0., 1.],\n",
              "       [0., 1.],\n",
              "       [0., 1.],\n",
              "       [1., 0.]], dtype=float32)"
            ]
          },
          "execution_count": 91,
          "metadata": {},
          "output_type": "execute_result"
        }
      ],
      "source": [
        "print(y[0:10])\n",
        "jax.nn.one_hot(y[0:10], 2)"
      ]
    },
    {
      "cell_type": "code",
      "execution_count": null,
      "metadata": {
        "id": "dI1PQR5Ce9FP",
        "outputId": "cf2f5cf1-2f82-4af2-da9f-425dcfcb5990"
      },
      "outputs": [
        {
          "data": {
            "text/plain": [
              "Array(1.3834784, dtype=float32)"
            ]
          },
          "execution_count": 122,
          "metadata": {},
          "output_type": "execute_result"
        }
      ],
      "source": [
        "#import optax\n",
        "optax.sigmoid_binary_cross_entropy(forward(params, x[0:10]), jax.nn.one_hot(y[0:10], 2)).sum(axis=-1).mean()"
      ]
    },
    {
      "cell_type": "code",
      "execution_count": null,
      "metadata": {
        "id": "tOZINWKwe9FP",
        "outputId": "0e06f501-d5ed-460c-f2ce-8c258fd257b4"
      },
      "outputs": [
        {
          "name": "stdout",
          "output_type": "stream",
          "text": [
            "[[0.         0.68638366]\n",
            " [0.         0.6865215 ]\n",
            " [0.         0.68650347]\n",
            " [0.         0.6864257 ]\n",
            " [0.6935593  0.        ]\n",
            " [0.6936048  0.        ]\n",
            " [0.         0.6864719 ]\n",
            " [0.         0.68642807]\n",
            " [0.         0.68647456]\n",
            " [0.69361055 0.        ]]\n",
            "[[0.6926755  0.        ]\n",
            " [0.69278437 0.        ]\n",
            " [0.69277936 0.        ]\n",
            " [0.69269395 0.        ]\n",
            " [0.         0.6998886 ]\n",
            " [0.         0.6999688 ]\n",
            " [0.6926106  0.        ]\n",
            " [0.6927092  0.        ]\n",
            " [0.6927417  0.        ]\n",
            " [0.         0.69994897]]\n",
            "[[0.6926755  0.68638366]\n",
            " [0.69278437 0.6865215 ]\n",
            " [0.69277936 0.68650347]\n",
            " [0.69269395 0.6864257 ]\n",
            " [0.6935593  0.6998886 ]\n",
            " [0.6936048  0.6999688 ]\n",
            " [0.6926106  0.6864719 ]\n",
            " [0.6927092  0.68642807]\n",
            " [0.6927417  0.68647456]\n",
            " [0.69361055 0.69994897]]\n"
          ]
        },
        {
          "data": {
            "text/plain": [
              "Array(1.3834784, dtype=float32)"
            ]
          },
          "execution_count": 132,
          "metadata": {},
          "output_type": "execute_result"
        }
      ],
      "source": [
        "print(-jnp.log(sigmoid(net(params, x[0:10]))) * jax.nn.one_hot(y[0:10], 2))\n",
        "print(-jnp.log(sigmoid(-net(params, x[0:10]))) * (1-jax.nn.one_hot(y[0:10], 2)))\n",
        "print(-jnp.log(sigmoid(net(params, x[0:10]))) * jax.nn.one_hot(y[0:10], 2) -\n",
        "    jnp.log(sigmoid(-net(params, x[0:10]))) * (1-jax.nn.one_hot(y[0:10], 2)))\n",
        "xe = (-jnp.log(sigmoid(net(params, x[0:10]))) * jax.nn.one_hot(y[0:10], 2) -\n",
        "    jnp.log(sigmoid(-net(params, x[0:10]))) * (1-jax.nn.one_hot(y[0:10], 2)))\n",
        "xe.sum(axis=-1).mean()"
      ]
    },
    {
      "cell_type": "code",
      "execution_count": null,
      "metadata": {
        "id": "a1urJ5DWe9FP",
        "outputId": "c79a11a5-0688-40f6-9807-066b2be09e3e"
      },
      "outputs": [
        {
          "data": {
            "text/plain": [
              "Array(-0.69361055, dtype=float32, weak_type=True)"
            ]
          },
          "execution_count": 133,
          "metadata": {},
          "output_type": "execute_result"
        }
      ],
      "source": [
        "jnp.log(sigmoid(-0.00092671))"
      ]
    },
    {
      "cell_type": "code",
      "execution_count": null,
      "metadata": {
        "id": "2mzpMXtne9FQ",
        "outputId": "7aca5799-e046-45b7-fca8-b3d2bc7095a4"
      },
      "outputs": [
        {
          "data": {
            "text/plain": [
              "Array(-0.69361055, dtype=float32, weak_type=True)"
            ]
          },
          "execution_count": 134,
          "metadata": {},
          "output_type": "execute_result"
        }
      ],
      "source": [
        "jnp.log(jax.nn.sigmoid(-0.00092671))"
      ]
    },
    {
      "cell_type": "code",
      "execution_count": null,
      "metadata": {
        "id": "5gKCeh6Pe9FQ",
        "outputId": "f2075b09-3e0e-4874-8860-2e824ce3b553"
      },
      "outputs": [
        {
          "data": {
            "text/plain": [
              "Array(-0.69361067, dtype=float32, weak_type=True)"
            ]
          },
          "execution_count": 135,
          "metadata": {},
          "output_type": "execute_result"
        }
      ],
      "source": [
        "jax.nn.log_sigmoid(-0.00092671)"
      ]
    },
    {
      "cell_type": "code",
      "execution_count": null,
      "metadata": {
        "id": "vl_DPYSAe9FQ",
        "outputId": "a6649344-e20b-4d31-df39-1c739cec2654"
      },
      "outputs": [
        {
          "data": {
            "text/plain": [
              "(1754, 2)"
            ]
          },
          "execution_count": 137,
          "metadata": {},
          "output_type": "execute_result"
        }
      ],
      "source": [
        "X_train.shape"
      ]
    },
    {
      "cell_type": "code",
      "execution_count": null,
      "metadata": {
        "id": "tMlHuNw1e9FQ",
        "outputId": "b9b5e5ab-f018-47c5-96fb-848a7dda3726"
      },
      "outputs": [
        {
          "name": "stdout",
          "output_type": "stream",
          "text": [
            "step 0, loss: 0.0366048738360405\n",
            "step 100, loss: 0.037176646292209625\n",
            "step 200, loss: 0.028823602944612503\n",
            "step 300, loss: 0.030315933749079704\n",
            "step 400, loss: 0.061887964606285095\n",
            "step 500, loss: 0.034682147204875946\n",
            "step 600, loss: 0.04339027777314186\n",
            "step 700, loss: 0.0886143371462822\n",
            "step 800, loss: 0.04739900305867195\n",
            "step 900, loss: 0.049404729157686234\n",
            "step 1000, loss: 0.04624310880899429\n",
            "step 1100, loss: 0.03089667484164238\n",
            "step 1200, loss: 0.131735160946846\n",
            "step 1300, loss: 0.03887549415230751\n",
            "step 1400, loss: 0.04807274416089058\n",
            "step 1500, loss: 0.1775963455438614\n",
            "step 1600, loss: 0.020372292026877403\n",
            "step 1700, loss: 0.021085897460579872\n",
            "step 1800, loss: 0.033136315643787384\n",
            "step 1900, loss: 0.025753313675522804\n"
          ]
        }
      ],
      "source": [
        "# optimizer\n",
        "# import optax\n",
        "# learning_rate = 0.001\n",
        "batch_size = 1500\n",
        "train_size = X_train.shape[0]\n",
        "num_steps = 2000\n",
        "def fit(params: optax.Params, optimizer: optax.GradientTransformation) -> optax.Params:\n",
        "    opt_state = optimizer.init(params)\n",
        "\n",
        "    @jax.jit\n",
        "    def step(params, opt_state, batch, labels):\n",
        "        loss_value, grads = jax.value_and_grad(loss)(params, batch, labels)\n",
        "        updates, opt_state = optimizer.update(grads, opt_state, params)\n",
        "        params = optax.apply_updates(params, updates)\n",
        "        return params, opt_state, loss_value\n",
        "    key = jax.random.PRNGKey(42)\n",
        "    for i in range(num_steps):\n",
        "        # draw a batch randomly from training set\n",
        "        key, key1 = jax.random.split(key)\n",
        "        idxs = jax.random.randint(key1, (batch_size,), 0, train_size)\n",
        "        x = X_train[idxs]\n",
        "        y = jax.nn.one_hot(y_train[idxs], 2)\n",
        "\n",
        "        params, opt_state, loss_value = step(params, opt_state, x, y)\n",
        "        if i % 100 == 0:\n",
        "          print(f'step {i}, loss: {loss_value}')\n",
        "\n",
        "    return params\n",
        "\n",
        "# Finally, we can fit our parametrized function using the Adam optimizer\n",
        "# provided by optax.\n",
        "optimizer = optax.adam(learning_rate=1e-1)\n",
        "params = fit(params, optimizer)\n"
      ]
    },
    {
      "cell_type": "code",
      "execution_count": null,
      "metadata": {
        "id": "jmkzfVIxe9FQ",
        "outputId": "77988331-5695-4e30-d846-7ead408a1df2"
      },
      "outputs": [
        {
          "data": {
            "text/plain": [
              "Array(0.02290623, dtype=float32)"
            ]
          },
          "execution_count": 194,
          "metadata": {},
          "output_type": "execute_result"
        }
      ],
      "source": [
        "loss(params, X_train, jax.nn.one_hot(y_train, 2))"
      ]
    },
    {
      "cell_type": "code",
      "execution_count": null,
      "metadata": {
        "id": "x8JIUMAFe9FQ",
        "outputId": "eca0a281-532c-4869-f073-a43d12859a73"
      },
      "outputs": [
        {
          "data": {
            "text/plain": [
              "Array([32.970787, -8.388418, -8.388418, ..., 35.476456, -8.388418,\n",
              "       -8.388418], dtype=float32)"
            ]
          },
          "execution_count": 195,
          "metadata": {},
          "output_type": "execute_result"
        }
      ],
      "source": [
        "net(params, X_train)[:, 1] #, jax.nn.one_hot(y_train, 2))"
      ]
    },
    {
      "cell_type": "code",
      "execution_count": null,
      "metadata": {
        "id": "V5PAh8oye9FQ",
        "outputId": "620d1e67-4d40-408f-abb8-a131e3640221"
      },
      "outputs": [
        {
          "data": {
            "text/plain": [
              "Array([1., 0., 0., ..., 1., 0., 0.], dtype=float32)"
            ]
          },
          "execution_count": 196,
          "metadata": {},
          "output_type": "execute_result"
        }
      ],
      "source": [
        "jnp.round(sigmoid(net(params, X_train)[:, 1]),0)"
      ]
    },
    {
      "cell_type": "code",
      "execution_count": null,
      "metadata": {
        "id": "HlHi65E8e9FR",
        "outputId": "28d93cf3-d177-4ae9-a0d9-65c554e52896"
      },
      "outputs": [
        {
          "data": {
            "text/html": [
              "<div>\n",
              "<style scoped>\n",
              "    .dataframe tbody tr th:only-of-type {\n",
              "        vertical-align: middle;\n",
              "    }\n",
              "\n",
              "    .dataframe tbody tr th {\n",
              "        vertical-align: top;\n",
              "    }\n",
              "\n",
              "    .dataframe thead th {\n",
              "        text-align: right;\n",
              "    }\n",
              "</style>\n",
              "<table border=\"1\" class=\"dataframe\">\n",
              "  <thead>\n",
              "    <tr style=\"text-align: right;\">\n",
              "      <th></th>\n",
              "      <th>Prevalence</th>\n",
              "      <th>Sensitivity</th>\n",
              "      <th>Specificity</th>\n",
              "      <th>Accuracy</th>\n",
              "      <th>Precision</th>\n",
              "      <th>F1</th>\n",
              "      <th>FPR</th>\n",
              "      <th>MCC</th>\n",
              "      <th>AUC</th>\n",
              "      <th>LogLoss</th>\n",
              "    </tr>\n",
              "  </thead>\n",
              "  <tbody>\n",
              "    <tr>\n",
              "      <th>0</th>\n",
              "      <td>0.5992</td>\n",
              "      <td>0.9952</td>\n",
              "      <td>0.9986</td>\n",
              "      <td>0.9966</td>\n",
              "      <td>0.999</td>\n",
              "      <td>0.9971</td>\n",
              "      <td>0.0014</td>\n",
              "      <td>0.9929</td>\n",
              "      <td>1.0</td>\n",
              "      <td>0.0115</td>\n",
              "    </tr>\n",
              "  </tbody>\n",
              "</table>\n",
              "</div>"
            ],
            "text/plain": [
              "   Prevalence  Sensitivity  Specificity  Accuracy  Precision      F1     FPR  \\\n",
              "0      0.5992       0.9952       0.9986    0.9966      0.999  0.9971  0.0014   \n",
              "\n",
              "      MCC  AUC  LogLoss  \n",
              "0  0.9929  1.0   0.0115  "
            ]
          },
          "execution_count": 199,
          "metadata": {},
          "output_type": "execute_result"
        }
      ],
      "source": [
        "# performance metrics on training set\n",
        "binary_classification_metrics(y_train,\n",
        "                              jnp.round(sigmoid(net(params, X_train)[:, 1]),0),\n",
        "                              sigmoid(net(params, X_train)[:, 1]),\n",
        "                              4\n",
        "                             )"
      ]
    },
    {
      "cell_type": "code",
      "execution_count": null,
      "metadata": {
        "id": "KShQCNrAe9FR",
        "outputId": "90c8c9db-2a10-440e-acd3-05627023ce61"
      },
      "outputs": [
        {
          "data": {
            "text/html": [
              "<div>\n",
              "<style scoped>\n",
              "    .dataframe tbody tr th:only-of-type {\n",
              "        vertical-align: middle;\n",
              "    }\n",
              "\n",
              "    .dataframe tbody tr th {\n",
              "        vertical-align: top;\n",
              "    }\n",
              "\n",
              "    .dataframe thead th {\n",
              "        text-align: right;\n",
              "    }\n",
              "</style>\n",
              "<table border=\"1\" class=\"dataframe\">\n",
              "  <thead>\n",
              "    <tr style=\"text-align: right;\">\n",
              "      <th></th>\n",
              "      <th>Prevalence</th>\n",
              "      <th>Sensitivity</th>\n",
              "      <th>Specificity</th>\n",
              "      <th>Accuracy</th>\n",
              "      <th>Precision</th>\n",
              "      <th>F1</th>\n",
              "      <th>FPR</th>\n",
              "      <th>MCC</th>\n",
              "      <th>AUC</th>\n",
              "      <th>LogLoss</th>\n",
              "    </tr>\n",
              "  </thead>\n",
              "  <tbody>\n",
              "    <tr>\n",
              "      <th>0</th>\n",
              "      <td>0.5997</td>\n",
              "      <td>0.9823</td>\n",
              "      <td>1.0</td>\n",
              "      <td>0.9894</td>\n",
              "      <td>1.0</td>\n",
              "      <td>0.9911</td>\n",
              "      <td>0.0</td>\n",
              "      <td>0.9782</td>\n",
              "      <td>0.9994</td>\n",
              "      <td>0.0338</td>\n",
              "    </tr>\n",
              "  </tbody>\n",
              "</table>\n",
              "</div>"
            ],
            "text/plain": [
              "   Prevalence  Sensitivity  Specificity  Accuracy  Precision      F1  FPR  \\\n",
              "0      0.5997       0.9823          1.0    0.9894        1.0  0.9911  0.0   \n",
              "\n",
              "      MCC     AUC  LogLoss  \n",
              "0  0.9782  0.9994   0.0338  "
            ]
          },
          "execution_count": 201,
          "metadata": {},
          "output_type": "execute_result"
        }
      ],
      "source": [
        "# performance metrics on validation set\n",
        "binary_classification_metrics(y_test,\n",
        "                              jnp.round(sigmoid(net(params, X_test)[:, 1]),0),\n",
        "                              sigmoid(net(params, X_test)[:, 1]),\n",
        "                              4\n",
        "                             )"
      ]
    },
    {
      "cell_type": "code",
      "execution_count": null,
      "metadata": {
        "id": "mF738tWIe9FR"
      },
      "outputs": [],
      "source": []
    },
    {
      "cell_type": "code",
      "execution_count": null,
      "metadata": {
        "id": "5TlSqvyHe9FR"
      },
      "outputs": [],
      "source": [
        "# @jax.jit\n",
        "# def train_step(step, optim_state, x, y):\n",
        "#     params = optim_params(optim_state)\n",
        "#     loss, grads = jax.value_and_grad(lossforward)(params, x, y)\n",
        "#     optim_state = optim_update(step, grads, optim_state)\n",
        "#     return loss, optim_state"
      ]
    },
    {
      "cell_type": "code",
      "execution_count": null,
      "metadata": {
        "id": "6euc4znZe9FR"
      },
      "outputs": [],
      "source": [
        "# history = []\n",
        "# batch_size = 100\n",
        "# num_steps = 2000\n",
        "# for step in range(num_steps):\n",
        "#     if step%200 == 0 or step == num_steps - 1:\n",
        "#         valid_logits = forward(optim_params(optim_state), valid_values)\n",
        "#         valid_loss = xeloss(valid_logits, valid_labels)\n",
        "#         valid_accuracy = accuracy(valid_logits, valid_labels)\n",
        "#         history.append((step, valid_loss, valid_accuracy))\n",
        "#         print(f\"Step {step:5.0f}\\t Valid. Acc. = {valid_accuracy:5.2f}\")\n",
        "#     prng, key = jax.random.split(prng)\n",
        "#     idxs = jax.random.randint(key, (batch_size,), 0, train_size)\n",
        "#     x = train_values[idxs]\n",
        "#     y = train_labels[idxs]\n",
        "#     loss, optim_state = train_step(step, optim_state, x, y)"
      ]
    },
    {
      "cell_type": "code",
      "execution_count": null,
      "metadata": {
        "id": "5M7diHfoe9FR"
      },
      "outputs": [],
      "source": []
    },
    {
      "cell_type": "code",
      "execution_count": null,
      "metadata": {
        "id": "ygXEJIK2e9FR"
      },
      "outputs": [],
      "source": []
    },
    {
      "cell_type": "markdown",
      "metadata": {
        "id": "inqDP5e1e9FR"
      },
      "source": [
        "### LSTM by chatGPT"
      ]
    },
    {
      "cell_type": "code",
      "execution_count": null,
      "metadata": {
        "id": "DbKdXDMoe9FR",
        "outputId": "cbf15810-5e29-43fc-ea7e-5169caa7e8c6"
      },
      "outputs": [
        {
          "ename": "AttributeError",
          "evalue": "module 'jax.numpy' has no attribute 'scan'",
          "output_type": "error",
          "traceback": [
            "\u001b[0;31m---------------------------------------------------------------------------\u001b[0m",
            "\u001b[0;31mAttributeError\u001b[0m                            Traceback (most recent call last)",
            "Input \u001b[0;32mIn [256]\u001b[0m, in \u001b[0;36m<cell line: 47>\u001b[0;34m()\u001b[0m\n\u001b[1;32m     44\u001b[0m initial_cell_state \u001b[38;5;241m=\u001b[39m np\u001b[38;5;241m.\u001b[39mzeros((\u001b[38;5;241m2\u001b[39m, \u001b[38;5;241m10\u001b[39m))\n\u001b[1;32m     45\u001b[0m params \u001b[38;5;241m=\u001b[39m [np\u001b[38;5;241m.\u001b[39mzeros((\u001b[38;5;241m3\u001b[39m, \u001b[38;5;241m10\u001b[39m)), np\u001b[38;5;241m.\u001b[39mzeros(\u001b[38;5;241m10\u001b[39m), np\u001b[38;5;241m.\u001b[39mzeros((\u001b[38;5;241m3\u001b[39m, \u001b[38;5;241m10\u001b[39m)), np\u001b[38;5;241m.\u001b[39mzeros(\u001b[38;5;241m10\u001b[39m), np\u001b[38;5;241m.\u001b[39mzeros((\u001b[38;5;241m3\u001b[39m, \u001b[38;5;241m10\u001b[39m)), np\u001b[38;5;241m.\u001b[39mzeros(\u001b[38;5;241m10\u001b[39m), np\u001b[38;5;241m.\u001b[39mzeros((\u001b[38;5;241m3\u001b[39m, \u001b[38;5;241m10\u001b[39m)), np\u001b[38;5;241m.\u001b[39mzeros(\u001b[38;5;241m10\u001b[39m)]\n\u001b[0;32m---> 47\u001b[0m hidden_states, cell_states \u001b[38;5;241m=\u001b[39m \u001b[43mlstm\u001b[49m\u001b[43m(\u001b[49m\u001b[43minputs\u001b[49m\u001b[43m,\u001b[49m\u001b[43m \u001b[49m\u001b[43minitial_hidden_state\u001b[49m\u001b[43m,\u001b[49m\u001b[43m \u001b[49m\u001b[43minitial_cell_state\u001b[49m\u001b[43m,\u001b[49m\u001b[43m \u001b[49m\u001b[43mparams\u001b[49m\u001b[43m)\u001b[49m\n",
            "Input \u001b[0;32mIn [256]\u001b[0m, in \u001b[0;36mlstm\u001b[0;34m(inputs, initial_hidden_state, initial_cell_state, params)\u001b[0m\n\u001b[1;32m     36\u001b[0m     new_hidden_state, new_cell_state \u001b[38;5;241m=\u001b[39m lstm_cell(hidden_state, cell_state, input_vector, params)\n\u001b[1;32m     37\u001b[0m     \u001b[38;5;28;01mreturn\u001b[39;00m new_hidden_state, new_cell_state\n\u001b[0;32m---> 38\u001b[0m hidden_states, cell_states \u001b[38;5;241m=\u001b[39m \u001b[43mnp\u001b[49m\u001b[38;5;241;43m.\u001b[39;49m\u001b[43mscan\u001b[49m(step, inputs, (initial_hidden_state, initial_cell_state))\n\u001b[1;32m     39\u001b[0m \u001b[38;5;28;01mreturn\u001b[39;00m hidden_states, cell_states\n",
            "\u001b[0;31mAttributeError\u001b[0m: module 'jax.numpy' has no attribute 'scan'"
          ]
        }
      ],
      "source": [
        "import jax.numpy as np\n",
        "from jax import grad, jit, vmap\n",
        "\n",
        "def sigmoid(x):\n",
        "    return 1 / (1 + np.exp(-x))\n",
        "\n",
        "def tanh(x):\n",
        "    return np.tanh(x)\n",
        "\n",
        "def lstm_cell(hidden_state, cell_state, input_vector, params):\n",
        "    W_f, b_f, W_i, b_i, W_o, b_o, W_c, b_c = params\n",
        "\n",
        "    # forget gate\n",
        "    forget_gate = sigmoid(np.dot(input_vector, W_f) + np.dot(hidden_state, W_f) + b_f)\n",
        "\n",
        "    # input gate\n",
        "    input_gate = sigmoid(np.dot(input_vector, W_i) + np.dot(hidden_state, W_i) + b_i)\n",
        "\n",
        "    # candidate cell state\n",
        "    candidate_cell_state = tanh(np.dot(input_vector, W_c) + np.dot(hidden_state, W_c) + b_c)\n",
        "\n",
        "    # cell state\n",
        "    cell_state = forget_gate * cell_state + input_gate * candidate_cell_state\n",
        "\n",
        "    # output gate\n",
        "    output_gate = sigmoid(np.dot(input_vector, W_o) + np.dot(hidden_state, W_o) + b_o)\n",
        "\n",
        "    # hidden state\n",
        "    hidden_state = output_gate * tanh(cell_state)\n",
        "\n",
        "    return hidden_state, cell_state\n",
        "\n",
        "def lstm(inputs, initial_hidden_state, initial_cell_state, params):\n",
        "    def step(hidden_state_and_cell_state, input_vector):\n",
        "        hidden_state, cell_state = hidden_state_and_cell_state\n",
        "        new_hidden_state, new_cell_state = lstm_cell(hidden_state, cell_state, input_vector, params)\n",
        "        return new_hidden_state, new_cell_state\n",
        "    hidden_states, cell_states = np.scan(step, inputs, (initial_hidden_state, initial_cell_state))\n",
        "    return hidden_states, cell_states\n",
        "\n",
        "# example usage\n",
        "inputs = np.array([[1, 2, 3], [4, 5, 6]])\n",
        "initial_hidden_state = np.zeros((2, 10))\n",
        "initial_cell_state = np.zeros((2, 10))\n",
        "params = [np.zeros((3, 10)), np.zeros(10), np.zeros((3, 10)), np.zeros(10), np.zeros((3, 10)), np.zeros(10), np.zeros((3, 10)), np.zeros(10)]\n",
        "\n",
        "hidden_states, cell_states = lstm(inputs, initial_hidden_state, initial_cell_state, params)\n"
      ]
    },
    {
      "cell_type": "code",
      "execution_count": null,
      "metadata": {
        "id": "IUaBHlJ-e9FS"
      },
      "outputs": [],
      "source": []
    }
  ],
  "metadata": {
    "kernelspec": {
      "display_name": "Python 3",
      "name": "python3"
    },
    "language_info": {
      "name": "python"
    },
    "colab": {
      "provenance": []
    },
    "gpuClass": "standard"
  },
  "nbformat": 4,
  "nbformat_minor": 0
}