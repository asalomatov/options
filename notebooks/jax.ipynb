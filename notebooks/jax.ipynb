{
 "cells": [
  {
   "cell_type": "code",
   "execution_count": 48,
   "metadata": {},
   "outputs": [],
   "source": [
    "import jax\n",
    "import jax.numpy as jnp\n",
    "from jax import grad, jit, vmap\n",
    "from jax import random\n",
    "import numpy as np\n",
    "import pandas as pd\n",
    "from matplotlib import pyplot as plt"
   ]
  },
  {
   "cell_type": "code",
   "execution_count": 52,
   "metadata": {},
   "outputs": [],
   "source": [
    "%config Completer.use_jedi = False"
   ]
  },
  {
   "cell_type": "markdown",
   "metadata": {},
   "source": [
    "## Tutorial"
   ]
  },
  {
   "cell_type": "markdown",
   "metadata": {},
   "source": [
    "### Fit a linear regression"
   ]
  },
  {
   "cell_type": "code",
   "execution_count": 9,
   "metadata": {},
   "outputs": [
    {
     "data": {
      "image/png": "[encoded data removed]",
      "text/plain": [
       "<Figure size 432x288 with 1 Axes>"
      ]
     },
     "metadata": {
      "needs_background": "light"
     },
     "output_type": "display_data"
    }
   ],
   "source": [
    "import numpy as np\n",
    "import matplotlib.pyplot as plt\n",
    "\n",
    "n = 300\n",
    "xs = np.random.normal(size=(n,))\n",
    "noise = np.random.normal(scale=0.5, size=(n,))\n",
    "ys = xs * 3 - 1 + noise\n",
    "\n",
    "plt.scatter(xs, ys);"
   ]
  },
  {
   "cell_type": "code",
   "execution_count": 11,
   "metadata": {},
   "outputs": [],
   "source": [
    "# theta = [w, b] - model parameters\n",
    "def model(theta, x):\n",
    "  \"\"\"Computes wx + b on a batch of input x.\"\"\"\n",
    "  w, b = theta\n",
    "  return w * x + b"
   ]
  },
  {
   "cell_type": "markdown",
   "metadata": {},
   "source": [
    "Loss function is the sum of squared errors, $ L = \\Sigma (y - y_{pred})^2$"
   ]
  },
  {
   "cell_type": "code",
   "execution_count": 75,
   "metadata": {},
   "outputs": [],
   "source": [
    "def loss_fn(theta, x, y):\n",
    "  prediction = model(theta, x)\n",
    "  return jnp.mean((prediction-y)**2)"
   ]
  },
  {
   "cell_type": "code",
   "execution_count": 76,
   "metadata": {},
   "outputs": [
    {
     "data": {
      "text/plain": [
       "Array(9., dtype=float32)"
      ]
     },
     "execution_count": 76,
     "metadata": {},
     "output_type": "execute_result"
    }
   ],
   "source": [
    "loss_fn((3,1), 0, 4)"
   ]
  },
  {
   "cell_type": "code",
   "execution_count": 77,
   "metadata": {},
   "outputs": [
    {
     "data": {
      "text/plain": [
       "Array(4.0463347, dtype=float32)"
      ]
     },
     "execution_count": 77,
     "metadata": {},
     "output_type": "execute_result"
    }
   ],
   "source": [
    "loss_fn((3,1), xs, ys)"
   ]
  },
  {
   "cell_type": "markdown",
   "metadata": {},
   "source": [
    "Use gradient discend to find the optimal parameters, \n",
    "$$\n",
    "\\theta_{updated}=\\theta + \\lambda\\nabla_{\\theta}L(\\theta, x, y)\n",
    "$$\n",
    "where $\\lambda$ is learning rate."
   ]
  },
  {
   "cell_type": "code",
   "execution_count": 78,
   "metadata": {},
   "outputs": [],
   "source": [
    "@jax.jit\n",
    "def update(theta, x, y, lr=0.1):\n",
    "  return theta - lr * grad(loss_fn)(theta, x, y)"
   ]
  },
  {
   "cell_type": "code",
   "execution_count": 79,
   "metadata": {},
   "outputs": [
    {
     "data": {
      "text/plain": [
       "Array([1., 1.], dtype=float32)"
      ]
     },
     "execution_count": 79,
     "metadata": {},
     "output_type": "execute_result"
    }
   ],
   "source": [
    "theta = jnp.array([1., 1.])\n",
    "theta"
   ]
  },
  {
   "cell_type": "code",
   "execution_count": 80,
   "metadata": {},
   "outputs": [
    {
     "data": {
      "text/plain": [
       "Array([2., 2.], dtype=float32)"
      ]
     },
     "execution_count": 80,
     "metadata": {},
     "output_type": "execute_result"
    }
   ],
   "source": [
    "grad(loss_fn)(theta, 1., 1.)"
   ]
  },
  {
   "cell_type": "code",
   "execution_count": 81,
   "metadata": {},
   "outputs": [
    {
     "data": {
      "text/plain": [
       "Array([16.,  8.], dtype=float32)"
      ]
     },
     "execution_count": 81,
     "metadata": {},
     "output_type": "execute_result"
    }
   ],
   "source": [
    "grad(loss_fn)(theta, 2., -1.)"
   ]
  },
  {
   "cell_type": "markdown",
   "metadata": {},
   "source": [
    "Gradient returns the average gradient for vectors of parameters."
   ]
  },
  {
   "cell_type": "code",
   "execution_count": 82,
   "metadata": {},
   "outputs": [
    {
     "data": {
      "text/plain": [
       "Array([9., 5.], dtype=float32)"
      ]
     },
     "execution_count": 82,
     "metadata": {},
     "output_type": "execute_result"
    }
   ],
   "source": [
    "grad(loss_fn)(theta, jnp.array([1., 2.]), jnp.array([1., -1.]))"
   ]
  },
  {
   "cell_type": "code",
   "execution_count": 83,
   "metadata": {},
   "outputs": [
    {
     "data": {
      "text/plain": [
       "Array([ 2.9908185 , -0.94820195], dtype=float32)"
      ]
     },
     "execution_count": 83,
     "metadata": {},
     "output_type": "execute_result"
    }
   ],
   "source": [
    "# initial parateters\n",
    "theta = jnp.array([1., 1.])\n",
    "theta\n",
    "n_iterations = 200\n",
    "lr = .1\n",
    "for i in range(n_iterations):\n",
    "    theta = update(theta, xs, ys, lr=lr)\n",
    "theta"
   ]
  },
  {
   "cell_type": "markdown",
   "metadata": {},
   "source": [
    "### Compute greeks of Black-Scholes option prices with jax.grad"
   ]
  },
  {
   "cell_type": "code",
   "execution_count": 111,
   "metadata": {},
   "outputs": [],
   "source": [
    "#@jax.jit\n",
    "def bs_call(S, X, T, sig, r):\n",
    "    d1 = (jnp.log(S/X) + (r + .5 * sig**2) * T)/(jnp.sqrt(T) * sig)\n",
    "    print(f'd1 = {d1}')\n",
    "    d2 = d1 - jnp.sqrt(T) * sig\n",
    "    print(f'd2 = {d2}')\n",
    "    c = S * jax.scipy.stats.norm.cdf(d1) - X * jnp.exp(-r*T)* jax.scipy.stats.norm.cdf(d2)\n",
    "    print(f'delta = {jax.scipy.stats.norm.cdf(d1)}')\n",
    "    return c"
   ]
  },
  {
   "cell_type": "code",
   "execution_count": 112,
   "metadata": {},
   "outputs": [
    {
     "name": "stdout",
     "output_type": "stream",
     "text": [
      "d1 = -0.3252846896648407\n",
      "d2 = -0.4752846956253052\n",
      "delta = 0.3724828064441681\n"
     ]
    },
    {
     "data": {
      "text/plain": [
       "Array(2.1333694, dtype=float32)"
      ]
     },
     "execution_count": 112,
     "metadata": {},
     "output_type": "execute_result"
    }
   ],
   "source": [
    "S=60.\n",
    "X=65.\n",
    "r=.08\n",
    "sig=.30\n",
    "T=.25\n",
    "bs_call(S, X, T, sig, r)"
   ]
  },
  {
   "cell_type": "code",
   "execution_count": 101,
   "metadata": {},
   "outputs": [],
   "source": [
    "# pars = [S, X, T, sig, r]\n",
    "def euro_call(pars):\n",
    "    S, X, T, sig, r = pars\n",
    "    c = bs_call(S, X, T, sig, r)\n",
    "    return c"
   ]
  },
  {
   "cell_type": "code",
   "execution_count": 102,
   "metadata": {},
   "outputs": [
    {
     "name": "stdout",
     "output_type": "stream",
     "text": [
      "d1 = -0.3252846896648407\n",
      "d2 = -0.4752846956253052\n"
     ]
    },
    {
     "data": {
      "text/plain": [
       "Array(2.1333694, dtype=float32)"
      ]
     },
     "execution_count": 102,
     "metadata": {},
     "output_type": "execute_result"
    }
   ],
   "source": [
    "euro_call([S, X, T, sig, r])"
   ]
  },
  {
   "cell_type": "code",
   "execution_count": null,
   "metadata": {},
   "outputs": [],
   "source": []
  },
  {
   "cell_type": "code",
   "execution_count": 110,
   "metadata": {},
   "outputs": [
    {
     "name": "stdout",
     "output_type": "stream",
     "text": [
      "d1 = Traced<ConcreteArray(-0.3252846896648407, dtype=float32, weak_type=True)>with<JVPTrace(level=2/0)> with\n",
      "  primal = Array(-0.3252847, dtype=float32, weak_type=True)\n",
      "  tangent = Traced<ShapedArray(float32[], weak_type=True)>with<JaxprTrace(level=1/0)> with\n",
      "    pval = (ShapedArray(float32[], weak_type=True), None)\n",
      "    recipe = JaxprEqnRecipe(eqn_id=<object object at 0x7fc9e5a52820>, in_tracers=(Traced<ConcreteArray(0.15000000596046448, dtype=float32, weak_type=True):JaxprTrace(level=1/0)>, Traced<ConcreteArray(-0.048792704939842224, dtype=float32, weak_type=True):JaxprTrace(level=1/0)>, Traced<ConcreteArray(44.44444274902344, dtype=float32, weak_type=True):JaxprTrace(level=1/0)>, Traced<ShapedArray(float32[], weak_type=True):JaxprTrace(level=1/0)>, Traced<ShapedArray(float32[], weak_type=True):JaxprTrace(level=1/0)>), out_tracer_refs=[<weakref at 0x7fc9e5ddaca0; to 'JaxprTracer' at 0x7fc9e5dda980>], out_avals=[ShapedArray(float32[], weak_type=True)], primitive=xla_call, params={'device': None, 'backend': None, 'name': 'true_divide', 'donated_invars': (False, False, False, False, False), 'inline': True, 'keep_unused': False, 'call_jaxpr': { lambda ; a:f32[] b:f32[] c:f32[] d:f32[] e:f32[]. let\n",
      "    f:f32[] = div d a\n",
      "    g:f32[] = neg e\n",
      "    h:f32[] = mul g b\n",
      "    i:f32[] = mul h c\n",
      "    j:f32[] = add_any f i\n",
      "  in (j,) }}, effects=set(), source_info=SourceInfo(traceback=<jaxlib.xla_extension.Traceback object at 0x7fc9e5dc35f0>, name_stack=NameStack(stack=(Transform(name='jvp'),))))\n",
      "d2 = Traced<ConcreteArray(-0.4752846956253052, dtype=float32, weak_type=True)>with<JVPTrace(level=2/0)> with\n",
      "  primal = Array(-0.4752847, dtype=float32, weak_type=True)\n",
      "  tangent = Traced<ShapedArray(float32[], weak_type=True)>with<JaxprTrace(level=1/0)> with\n",
      "    pval = (ShapedArray(float32[], weak_type=True), None)\n",
      "    recipe = JaxprEqnRecipe(eqn_id=<object object at 0x7fc9e5a52980>, in_tracers=(Traced<ShapedArray(float32[], weak_type=True):JaxprTrace(level=1/0)>, Traced<ShapedArray(float32[], weak_type=True):JaxprTrace(level=1/0)>), out_tracer_refs=[<weakref at 0x7fc9e5ddb4c0; to 'JaxprTracer' at 0x7fc9e5ddb560>], out_avals=[ShapedArray(float32[], weak_type=True)], primitive=xla_call, params={'device': None, 'backend': None, 'name': '<lambda>', 'donated_invars': (False, False), 'inline': True, 'keep_unused': False, 'call_jaxpr': { lambda ; a:f32[] b:f32[]. let c:f32[] = sub a b in (c,) }}, effects=set(), source_info=SourceInfo(traceback=<jaxlib.xla_extension.Traceback object at 0x7fc9e5dc1cf0>, name_stack=NameStack(stack=(Transform(name='jvp'),))))\n"
     ]
    },
    {
     "data": {
      "text/plain": [
       "[Array(0.3724828, dtype=float32, weak_type=True),\n",
       " Array(-0.31100923, dtype=float32, weak_type=True),\n",
       " Array(8.428175, dtype=float32, weak_type=True),\n",
       " Array(11.351544, dtype=float32, weak_type=True),\n",
       " Array(5.0539, dtype=float32, weak_type=True)]"
      ]
     },
     "execution_count": 110,
     "metadata": {},
     "output_type": "execute_result"
    }
   ],
   "source": [
    "pars = [S, X, T, sig, r]\n",
    "jax.grad(euro_call)(pars)"
   ]
  },
  {
   "cell_type": "code",
   "execution_count": null,
   "metadata": {},
   "outputs": [],
   "source": [
    "\n"
   ]
  },
  {
   "cell_type": "code",
   "execution_count": 86,
   "metadata": {},
   "outputs": [
    {
     "data": {
      "text/plain": [
       "4.0"
      ]
     },
     "execution_count": 86,
     "metadata": {},
     "output_type": "execute_result"
    }
   ],
   "source": [
    "np.sqrt(4) + 2"
   ]
  },
  {
   "cell_type": "markdown",
   "metadata": {},
   "source": [
    "### Random numbers"
   ]
  },
  {
   "cell_type": "code",
   "execution_count": 116,
   "metadata": {},
   "outputs": [
    {
     "name": "stdout",
     "output_type": "stream",
     "text": [
      "[ 0.6122652  1.1225883 -0.8544134 -0.8127325 -0.890405 ]\n",
      "[ 0.6122652  1.1225883 -0.8544134 -0.8127325 -0.890405 ]\n"
     ]
    }
   ],
   "source": [
    "key = jax.random.PRNGKey(42)\n",
    "print(random.normal(key, shape=(5,)))\n",
    "print(random.normal(key, shape=(5,)))"
   ]
  },
  {
   "cell_type": "code",
   "execution_count": 139,
   "metadata": {},
   "outputs": [
    {
     "name": "stdout",
     "output_type": "stream",
     "text": [
      "[ 2.2267756  -0.13086218  0.25786653 -0.24483226  0.81554765]\n",
      "[ 0.34828487 -0.5508627   0.98981917  1.7686307  -1.3842639 ]\n"
     ]
    }
   ],
   "source": [
    "# never reuse a key\n",
    "key, subkey = random.split(key)\n",
    "print(random.normal(subkey, shape=(5,)))\n",
    "key, subkey = random.split(key)\n",
    "print(random.normal(subkey, shape=(5,)))"
   ]
  },
  {
   "cell_type": "code",
   "execution_count": null,
   "metadata": {},
   "outputs": [],
   "source": []
  },
  {
   "cell_type": "markdown",
   "metadata": {},
   "source": [
    "## Common models"
   ]
  },
  {
   "cell_type": "markdown",
   "metadata": {},
   "source": [
    "### Linear model"
   ]
  },
  {
   "cell_type": "markdown",
   "metadata": {},
   "source": [
    "$y = wx + b$\n",
    "\n",
    "Generate observed values"
   ]
  },
  {
   "cell_type": "code",
   "execution_count": 236,
   "metadata": {},
   "outputs": [
    {
     "name": "stdout",
     "output_type": "stream",
     "text": [
      "[ 1. -1.  3.  5. -2.  2.]\n"
     ]
    }
   ],
   "source": [
    "key = jax.random.PRNGKey(212)\n",
    "w = jnp.array([1., -1., 3., 5., -2.])\n",
    "b = 2\n",
    "theta_true = jnp.append(w, b)\n",
    "print(theta_true)"
   ]
  },
  {
   "cell_type": "code",
   "execution_count": 211,
   "metadata": {},
   "outputs": [],
   "source": [
    "@jax.jit\n",
    "def model(theta, x):\n",
    "    w = theta[:-1]\n",
    "    b = theta[-1]\n",
    "    y = jnp.dot(w, x) + b\n",
    "    return y\n",
    "\n",
    "model_vmap = jax.vmap(model, in_axes=[None, 1])"
   ]
  },
  {
   "cell_type": "code",
   "execution_count": 237,
   "metadata": {},
   "outputs": [
    {
     "data": {
      "text/plain": [
       "Array(20., dtype=float32)"
      ]
     },
     "execution_count": 237,
     "metadata": {},
     "output_type": "execute_result"
    }
   ],
   "source": [
    "model(theta_true, jnp.array([1, 2, 3, 4, 5]))"
   ]
  },
  {
   "cell_type": "code",
   "execution_count": 238,
   "metadata": {},
   "outputs": [
    {
     "data": {
      "text/plain": [
       "array([[1, 2],\n",
       "       [3, 4],\n",
       "       [5, 1],\n",
       "       [2, 3],\n",
       "       [4, 5]])"
      ]
     },
     "execution_count": 238,
     "metadata": {},
     "output_type": "execute_result"
    }
   ],
   "source": [
    "np.array([1, 2, 3, 4, 5, 1, 2, 3, 4, 5]).reshape(5, 2)"
   ]
  },
  {
   "cell_type": "code",
   "execution_count": 239,
   "metadata": {},
   "outputs": [
    {
     "data": {
      "text/plain": [
       "Array([17.,  8.], dtype=float32)"
      ]
     },
     "execution_count": 239,
     "metadata": {},
     "output_type": "execute_result"
    }
   ],
   "source": [
    "model_vmap(theta, np.array([1, 2, 3, 4, 5, 1, 2, 3, 4, 5]).reshape(5, 2))"
   ]
  },
  {
   "cell_type": "code",
   "execution_count": 240,
   "metadata": {},
   "outputs": [
    {
     "name": "stdout",
     "output_type": "stream",
     "text": [
      "(5, 50)\n",
      "[-1.9834332  3.693717  -2.6479702  1.790731  12.152575 ]\n"
     ]
    }
   ],
   "source": [
    "n_obs = 50\n",
    "x_observed = jax.random.normal(key, shape=(5,n_obs))\n",
    "print(x_observed.shape)\n",
    "print(jnp.sum(x_observed, axis=1))\n"
   ]
  },
  {
   "cell_type": "code",
   "execution_count": 241,
   "metadata": {},
   "outputs": [
    {
     "name": "stdout",
     "output_type": "stream",
     "text": [
      "[  5.061532     2.4697185   -3.1689067   -7.6509895   -3.878571\n",
      "  11.230026     1.4037006    4.2314587    9.178272     5.9207597\n",
      "  -1.3583989   -4.3980184    5.3401203    0.41575944  -1.9732022\n",
      "  -8.83993      6.2698207   -2.5513077    6.314845    -8.689926\n",
      "  -1.7106991   -5.669702     8.188997    10.294529     5.785759\n",
      "  -5.8465557   17.606495     5.477191    11.000769     7.3086863\n",
      "  -3.7401242    6.787878     8.182899     1.5911278    1.0267415\n",
      "   4.3348236   -5.980621   -11.129906    -4.772352    -3.095614\n",
      "  -0.26369235  -5.845175    -2.9242475    3.4858134   11.435972\n",
      "  11.133466    -4.316735     0.92751443  -5.489374    -8.450031  ]\n"
     ]
    }
   ],
   "source": [
    "# observations - model plus some noise\n",
    "y_observed = model(theta_true, x_observed) + jax.random.normal(key, shape=(n_obs,))\n",
    "print(y_observed)"
   ]
  },
  {
   "cell_type": "code",
   "execution_count": 242,
   "metadata": {},
   "outputs": [
    {
     "data": {
      "text/plain": [
       "Text(0.5, 1.0, 'Noisy observations vs underlying model')"
      ]
     },
     "execution_count": 242,
     "metadata": {},
     "output_type": "execute_result"
    },
    {
     "data": {
      "image/png": "[encoded data removed]",
      "text/plain": [
       "<Figure size 432x288 with 1 Axes>"
      ]
     },
     "metadata": {
      "needs_background": "light"
     },
     "output_type": "display_data"
    }
   ],
   "source": [
    "plt.scatter(model(theta_true, x_observed), y_observed)\n",
    "plt.plot(model(theta_true, x_observed), model(theta_true, x_observed))\n",
    "plt.title('Noisy observations vs underlying model')"
   ]
  },
  {
   "cell_type": "code",
   "execution_count": 234,
   "metadata": {},
   "outputs": [
    {
     "name": "stdout",
     "output_type": "stream",
     "text": [
      "6.03 µs ± 94.5 ns per loop (mean ± std. dev. of 7 runs, 100,000 loops each)\n"
     ]
    }
   ],
   "source": [
    "%timeit model(theta, x_observed)"
   ]
  },
  {
   "cell_type": "code",
   "execution_count": 235,
   "metadata": {},
   "outputs": [
    {
     "name": "stdout",
     "output_type": "stream",
     "text": [
      "[ 2.9883358e+00  2.3349292e+00 -1.5650349e+00 -6.1130486e+00\n",
      " -5.0836453e+00  1.2472522e+01  1.8045750e+00  5.0270219e+00\n",
      "  1.0129258e+01  5.9141598e+00 -1.4724889e+00 -4.2724571e+00\n",
      "  6.0810962e+00  5.5440164e-01 -1.5313129e+00 -7.7776632e+00\n",
      "  6.5286217e+00 -2.9492378e+00  6.2737894e+00 -7.3210154e+00\n",
      "  1.4329433e-02 -5.8055058e+00  7.4530363e+00  8.3956413e+00\n",
      "  4.1605120e+00 -5.3344989e+00  1.8990660e+01  6.3681188e+00\n",
      "  1.0795193e+01  7.7783060e+00 -1.1883299e+00  6.2501445e+00\n",
      "  7.3560805e+00  1.6167390e+00  3.5765314e-01  6.0111747e+00\n",
      " -5.7826834e+00 -1.1694789e+01 -7.5610752e+00 -2.0660710e+00\n",
      " -2.2288561e-01 -5.6120420e+00 -2.8691711e+00  4.5343022e+00\n",
      "  1.0853861e+01  1.2338906e+01 -4.6002135e+00  1.9807792e+00\n",
      " -5.6962886e+00 -7.8172445e+00]\n"
     ]
    }
   ],
   "source": [
    "y_observed = model_vmap(theta, x_observed)\n",
    "print(y_observed)"
   ]
  },
  {
   "cell_type": "code",
   "execution_count": 214,
   "metadata": {},
   "outputs": [
    {
     "name": "stdout",
     "output_type": "stream",
     "text": [
      "512 µs ± 11.6 µs per loop (mean ± std. dev. of 7 runs, 1,000 loops each)\n"
     ]
    }
   ],
   "source": [
    "# slower tham model?\n",
    "%timeit model_vmap(theta, x_observed)"
   ]
  },
  {
   "cell_type": "code",
   "execution_count": 198,
   "metadata": {},
   "outputs": [
    {
     "data": {
      "text/plain": [
       "(6,)"
      ]
     },
     "execution_count": 198,
     "metadata": {},
     "output_type": "execute_result"
    }
   ],
   "source": [
    "theta.shape"
   ]
  },
  {
   "cell_type": "code",
   "execution_count": 199,
   "metadata": {},
   "outputs": [
    {
     "data": {
      "text/plain": [
       "(5, 10)"
      ]
     },
     "execution_count": 199,
     "metadata": {},
     "output_type": "execute_result"
    }
   ],
   "source": [
    "x_observed.shape"
   ]
  },
  {
   "cell_type": "code",
   "execution_count": 200,
   "metadata": {},
   "outputs": [
    {
     "data": {
      "text/plain": [
       "Array([-13.893337 ,   5.8226943,   7.5892367,   8.266286 ,  10.703922 ,\n",
       "        -5.687273 ,  -3.8512158,   3.064666 ,  15.154473 ,  -1.9154913],      dtype=float32)"
      ]
     },
     "execution_count": 200,
     "metadata": {},
     "output_type": "execute_result"
    }
   ],
   "source": [
    "jnp.dot(theta[:-1], x_observed) + theta[-1]"
   ]
  },
  {
   "cell_type": "code",
   "execution_count": 243,
   "metadata": {},
   "outputs": [],
   "source": [
    "# loss function - mean squared error\n",
    "def loss_fn(theta, x, y):\n",
    "  prediction = model(theta, x)\n",
    "  return jnp.mean((prediction-y)**2)"
   ]
  },
  {
   "cell_type": "code",
   "execution_count": 244,
   "metadata": {},
   "outputs": [],
   "source": [
    "# update step\n",
    "@jax.jit\n",
    "def update(theta, x, y, lr=0.01):\n",
    "  return theta - lr * grad(loss_fn)(theta, x, y)"
   ]
  },
  {
   "cell_type": "code",
   "execution_count": 254,
   "metadata": {},
   "outputs": [
    {
     "name": "stdout",
     "output_type": "stream",
     "text": [
      "[ 0.66539353 -1.1277934   2.9419792   4.9687157  -2.0028186   1.7875602 ]\n",
      "[ 1. -1.  3.  5. -2.  2.]\n"
     ]
    }
   ],
   "source": [
    "# initial parateters\n",
    "theta = jnp.array([1., 1., 1., 1., 1., 1.])\n",
    "theta\n",
    "n_iterations = 1000\n",
    "lr = .01\n",
    "for i in range(n_iterations):\n",
    "    theta = update(theta, x_observed, y_observed, lr=lr)\n",
    "print(theta)\n",
    "print(theta_true)\n"
   ]
  },
  {
   "cell_type": "code",
   "execution_count": null,
   "metadata": {},
   "outputs": [],
   "source": []
  }
 ],
 "metadata": {
  "kernelspec": {
   "display_name": "options",
   "language": "python",
   "name": "options"
  },
  "language_info": {
   "codemirror_mode": {
    "name": "ipython",
    "version": 3
   },
   "file_extension": ".py",
   "mimetype": "text/x-python",
   "name": "python",
   "nbconvert_exporter": "python",
   "pygments_lexer": "ipython3",
   "version": "3.10.4"
  }
 },
 "nbformat": 4,
 "nbformat_minor": 4
}
