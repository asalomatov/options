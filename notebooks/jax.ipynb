{
 "cells": [
  {
   "cell_type": "code",
   "execution_count": 1,
   "metadata": {
    "colab": {
     "base_uri": "https://localhost:8080/"
    },
    "id": "bgPK9lEHAxrt",
    "outputId": "16ae2ae2-479a-44bd-802f-4227b6666e32"
   },
   "outputs": [
    {
     "name": "stdout",
     "output_type": "stream",
     "text": [
      "/home/aps/miniconda3/envs/options/bin/python\n"
     ]
    }
   ],
   "source": [
    "import sys\n",
    "print(sys.executable) "
   ]
  },
  {
   "cell_type": "code",
   "execution_count": 329,
   "metadata": {
    "id": "rjra_QLxe9E7"
   },
   "outputs": [],
   "source": [
    "import jax\n",
    "import jax.numpy as jnp\n",
    "from jax import grad, jit, vmap\n",
    "from jax import random\n",
    "import numpy as np\n",
    "import pandas as pd\n",
    "from matplotlib import pyplot as plt\n",
    "from sklearn.model_selection import train_test_split\n",
    "from sklearn.preprocessing import MinMaxScaler\n",
    "import optax\n",
    "import yfinance as yf\n",
    "from ml.ml_utils import  binary_classification_metrics"
   ]
  },
  {
   "cell_type": "code",
   "execution_count": 48,
   "metadata": {
    "id": "_DEbnRUNEa3T"
   },
   "outputs": [],
   "source": [
    "#!pip install pandas_datareader"
   ]
  },
  {
   "cell_type": "code",
   "execution_count": 45,
   "metadata": {},
   "outputs": [],
   "source": [
    "#!pip install nasdaq-data-link\n",
    "#import nasdaqdatalink"
   ]
  },
  {
   "cell_type": "code",
   "execution_count": 46,
   "metadata": {},
   "outputs": [],
   "source": [
    "#import nasdaqdatalink"
   ]
  },
  {
   "cell_type": "code",
   "execution_count": null,
   "metadata": {
    "id": "3txuxSdjAxrv"
   },
   "outputs": [],
   "source": [
    "# to make envs available in notebooks\n",
    "# pip install jax pandas matplotlib seaborn scikit-learn optax jaxopt\n",
    "# conda install notebook ipykernel\n",
    "# ipython kernel install --user --name=options"
   ]
  },
  {
   "cell_type": "code",
   "execution_count": null,
   "metadata": {
    "id": "WUAcYZLse9E9"
   },
   "outputs": [],
   "source": []
  },
  {
   "cell_type": "code",
   "execution_count": null,
   "metadata": {
    "id": "8lEDnC57e9E-"
   },
   "outputs": [],
   "source": [
    "# needed this on mac to get autocomplete to work\n",
    "# %config Completer.use_jedi = False"
   ]
  },
  {
   "cell_type": "markdown",
   "metadata": {
    "id": "YmejtTEMe9E-"
   },
   "source": [
    "## Use jax to implement major models"
   ]
  },
  {
   "cell_type": "markdown",
   "metadata": {
    "id": "TWAqRbBRAxrw"
   },
   "source": [
    "### What device is being used for computing?\n",
    "\n",
    "Use conda to install cuda: conda install cuda -c nvidia"
   ]
  },
  {
   "cell_type": "code",
   "execution_count": 5,
   "metadata": {
    "colab": {
     "base_uri": "https://localhost:8080/"
    },
    "id": "ho53t9uSAxrw",
    "outputId": "7592ae5d-193e-444e-ac9a-9f37103053b8"
   },
   "outputs": [
    {
     "data": {
      "text/plain": [
       "[gpu(id=0)]"
      ]
     },
     "execution_count": 5,
     "metadata": {},
     "output_type": "execute_result"
    }
   ],
   "source": [
    "jax.devices()"
   ]
  },
  {
   "cell_type": "code",
   "execution_count": 6,
   "metadata": {
    "colab": {
     "base_uri": "https://localhost:8080/",
     "height": 35
    },
    "id": "k4oAnNnCAxrw",
    "outputId": "0ed92a98-79bc-4766-e4f8-9762dc976e6d"
   },
   "outputs": [
    {
     "data": {
      "text/plain": [
       "'gpu'"
      ]
     },
     "execution_count": 6,
     "metadata": {},
     "output_type": "execute_result"
    }
   ],
   "source": [
    "jax.devices()[0].platform"
   ]
  },
  {
   "cell_type": "code",
   "execution_count": null,
   "metadata": {},
   "outputs": [],
   "source": []
  },
  {
   "cell_type": "code",
   "execution_count": 7,
   "metadata": {
    "colab": {
     "base_uri": "https://localhost:8080/"
    },
    "id": "4Zc_75gaAxrw",
    "outputId": "4e6fbcea-fd69-456d-8943-3b15820c37fa"
   },
   "outputs": [
    {
     "data": {
      "text/plain": [
       "True"
      ]
     },
     "execution_count": 7,
     "metadata": {},
     "output_type": "execute_result"
    }
   ],
   "source": [
    "def jax_has_gpu():\n",
    "    try:\n",
    "        _ = jax.device_put(jax.numpy.ones(1), device=jax.devices('gpu')[0])\n",
    "        return True\n",
    "    except:\n",
    "        return False\n",
    "jax_has_gpu()"
   ]
  },
  {
   "cell_type": "markdown",
   "metadata": {
    "id": "pSko_JT7e9E_"
   },
   "source": [
    "### Fit a linear regression"
   ]
  },
  {
   "cell_type": "code",
   "execution_count": 9,
   "metadata": {
    "colab": {
     "base_uri": "https://localhost:8080/",
     "height": 430
    },
    "id": "_-uHDp0Le9E_",
    "outputId": "4a19c968-27c6-4bd1-8c79-4f6dfce72465"
   },
   "outputs": [
    {
     "data": {
      "image/png": "[encoded data removed]",
      "text/plain": [
       "<Figure size 640x480 with 1 Axes>"
      ]
     },
     "metadata": {},
     "output_type": "display_data"
    }
   ],
   "source": [
    "import numpy as np\n",
    "import matplotlib.pyplot as plt\n",
    "\n",
    "n = 300\n",
    "xs = np.random.normal(size=(n,))\n",
    "noise = np.random.normal(scale=0.5, size=(n,))\n",
    "ys = xs * 3 - 1 + noise\n",
    "\n",
    "plt.scatter(xs, ys);"
   ]
  },
  {
   "cell_type": "code",
   "execution_count": 10,
   "metadata": {
    "id": "zjSp7xbse9FA"
   },
   "outputs": [],
   "source": [
    "# theta = [w, b] - model parameters\n",
    "def model(theta, x):\n",
    "  \"\"\"Computes wx + b on a batch of input x.\"\"\"\n",
    "  w, b = theta\n",
    "  return w * x + b"
   ]
  },
  {
   "cell_type": "markdown",
   "metadata": {
    "id": "gPFl84X1e9FA"
   },
   "source": [
    "Loss function is the sum of squared errors, $ L = \\frac{\\Sigma (y - y_{pred})^2}{N}$"
   ]
  },
  {
   "cell_type": "code",
   "execution_count": 11,
   "metadata": {
    "id": "Ka_WB-QEe9FB"
   },
   "outputs": [],
   "source": [
    "def loss_fn(theta, x, y):\n",
    "  prediction = model(theta, x)\n",
    "  return jnp.mean((prediction-y)**2)"
   ]
  },
  {
   "cell_type": "code",
   "execution_count": 12,
   "metadata": {
    "colab": {
     "base_uri": "https://localhost:8080/"
    },
    "id": "_-kcBdBte9FB",
    "outputId": "68f90dfd-7662-456d-aa75-20791b53360a"
   },
   "outputs": [
    {
     "data": {
      "text/plain": [
       "Array(9., dtype=float32)"
      ]
     },
     "execution_count": 12,
     "metadata": {},
     "output_type": "execute_result"
    }
   ],
   "source": [
    "loss_fn((3,1), 0, 4)"
   ]
  },
  {
   "cell_type": "code",
   "execution_count": 13,
   "metadata": {
    "colab": {
     "base_uri": "https://localhost:8080/"
    },
    "id": "RlgvVP48e9FB",
    "outputId": "d142a33f-43df-48db-b3b3-d2cc303a8205"
   },
   "outputs": [
    {
     "data": {
      "text/plain": [
       "Array(4.1818676, dtype=float32)"
      ]
     },
     "execution_count": 13,
     "metadata": {},
     "output_type": "execute_result"
    }
   ],
   "source": [
    "loss_fn((3,1), xs, ys)"
   ]
  },
  {
   "cell_type": "markdown",
   "metadata": {
    "id": "8lDLTj_Ee9FC"
   },
   "source": [
    "Use gradient discend to find the optimal parameters, \n",
    "$$\n",
    "\\theta_{updated}=\\theta - \\lambda\\nabla_{\\theta}L(\\theta, x, y)\n",
    "$$\n",
    "where $\\lambda$ is learning rate."
   ]
  },
  {
   "cell_type": "code",
   "execution_count": 14,
   "metadata": {
    "id": "aamwPgFle9FC"
   },
   "outputs": [],
   "source": [
    "@jax.jit\n",
    "def update(theta, x, y, lr=0.1):\n",
    "  return theta - lr * grad(loss_fn)(theta, x, y)"
   ]
  },
  {
   "cell_type": "code",
   "execution_count": 15,
   "metadata": {
    "colab": {
     "base_uri": "https://localhost:8080/"
    },
    "id": "6ItzMia8e9FC",
    "outputId": "de00ef03-ace8-43c3-a86e-62ce122de252"
   },
   "outputs": [
    {
     "data": {
      "text/plain": [
       "Array([1., 1.], dtype=float32)"
      ]
     },
     "execution_count": 15,
     "metadata": {},
     "output_type": "execute_result"
    }
   ],
   "source": [
    "theta = jnp.array([1., 1.])\n",
    "theta"
   ]
  },
  {
   "cell_type": "code",
   "execution_count": 16,
   "metadata": {
    "colab": {
     "base_uri": "https://localhost:8080/"
    },
    "id": "Onw08G1le9FC",
    "outputId": "fd5bab3b-934f-4583-b785-2d3869ab06d5"
   },
   "outputs": [
    {
     "data": {
      "text/plain": [
       "Array([2., 2.], dtype=float32)"
      ]
     },
     "execution_count": 16,
     "metadata": {},
     "output_type": "execute_result"
    }
   ],
   "source": [
    "grad(loss_fn)(theta, 1., 1.)"
   ]
  },
  {
   "cell_type": "code",
   "execution_count": 17,
   "metadata": {
    "colab": {
     "base_uri": "https://localhost:8080/"
    },
    "id": "hkKajHdYe9FD",
    "outputId": "7f5ccef5-82e5-447e-ee8d-fd5ea4a29322"
   },
   "outputs": [
    {
     "data": {
      "text/plain": [
       "Array([16.,  8.], dtype=float32)"
      ]
     },
     "execution_count": 17,
     "metadata": {},
     "output_type": "execute_result"
    }
   ],
   "source": [
    "grad(loss_fn)(theta, 2., -1.)"
   ]
  },
  {
   "cell_type": "markdown",
   "metadata": {
    "id": "z879vkfUe9FD"
   },
   "source": [
    "Gradient returns the average gradient for vectors of variables."
   ]
  },
  {
   "cell_type": "code",
   "execution_count": 18,
   "metadata": {
    "colab": {
     "base_uri": "https://localhost:8080/"
    },
    "id": "fJhC70ZIe9FD",
    "outputId": "0fc0b61f-9930-4b68-b1ce-c6387e47075a"
   },
   "outputs": [
    {
     "data": {
      "text/plain": [
       "Array([9., 5.], dtype=float32)"
      ]
     },
     "execution_count": 18,
     "metadata": {},
     "output_type": "execute_result"
    }
   ],
   "source": [
    "grad(loss_fn)(theta, jnp.array([1., 2.]), jnp.array([1., -1.]))"
   ]
  },
  {
   "cell_type": "code",
   "execution_count": 19,
   "metadata": {
    "colab": {
     "base_uri": "https://localhost:8080/"
    },
    "id": "WSWTjVMHe9FD",
    "outputId": "1460f6fa-0917-4aa2-e0f7-f372a20d1fce"
   },
   "outputs": [
    {
     "data": {
      "text/plain": [
       "Array([ 2.9962494 , -0.97515374], dtype=float32)"
      ]
     },
     "execution_count": 19,
     "metadata": {},
     "output_type": "execute_result"
    }
   ],
   "source": [
    "# initial parateters\n",
    "theta = jnp.array([1., 1.])\n",
    "theta\n",
    "n_iterations = 200\n",
    "lr = .1\n",
    "for i in range(n_iterations):\n",
    "    theta = update(theta, xs, ys, lr=lr)\n",
    "theta"
   ]
  },
  {
   "cell_type": "markdown",
   "metadata": {
    "id": "ERVBgYYye9FD"
   },
   "source": [
    "### Compute greeks of Black-Scholes option prices with jax.grad"
   ]
  },
  {
   "cell_type": "code",
   "execution_count": 20,
   "metadata": {
    "id": "b5QEu6tse9FE"
   },
   "outputs": [],
   "source": [
    "#@jax.jit\n",
    "def bs_call(S, X, T, sig, r):\n",
    "    d1 = (jnp.log(S/X) + (r + .5 * sig**2) * T)/(jnp.sqrt(T) * sig)\n",
    "    print(f'd1 = {d1}')\n",
    "    d2 = d1 - jnp.sqrt(T) * sig\n",
    "    print(f'd2 = {d2}')\n",
    "    c = S * jax.scipy.stats.norm.cdf(d1) - X * jnp.exp(-r*T)* jax.scipy.stats.norm.cdf(d2)\n",
    "    print(f'delta = {jax.scipy.stats.norm.cdf(d1)}')\n",
    "    return c"
   ]
  },
  {
   "cell_type": "code",
   "execution_count": 21,
   "metadata": {
    "colab": {
     "base_uri": "https://localhost:8080/"
    },
    "id": "OtYCw929e9FE",
    "outputId": "fd34ab79-daa4-4d90-f1d7-13d180fa5615"
   },
   "outputs": [
    {
     "name": "stdout",
     "output_type": "stream",
     "text": [
      "d1 = -0.3252846896648407\n",
      "d2 = -0.4752846956253052\n",
      "delta = 0.3724828064441681\n"
     ]
    },
    {
     "data": {
      "text/plain": [
       "Array(2.1333694, dtype=float32)"
      ]
     },
     "execution_count": 21,
     "metadata": {},
     "output_type": "execute_result"
    }
   ],
   "source": [
    "S=60.\n",
    "X=65.\n",
    "r=.08\n",
    "sig=.30\n",
    "T=.25\n",
    "bs_call(S, X, T, sig, r)"
   ]
  },
  {
   "cell_type": "code",
   "execution_count": 22,
   "metadata": {
    "id": "8ER9zC_ze9FE"
   },
   "outputs": [],
   "source": [
    "# pars = [S, X, T, sig, r]\n",
    "def euro_call(pars):\n",
    "    S, X, T, sig, r = pars\n",
    "    c = bs_call(S, X, T, sig, r)\n",
    "    return c"
   ]
  },
  {
   "cell_type": "code",
   "execution_count": 23,
   "metadata": {
    "colab": {
     "base_uri": "https://localhost:8080/"
    },
    "id": "qv2akFTRe9FE",
    "outputId": "a2ce70e4-d018-4fb8-debe-41d06bc0d6c0"
   },
   "outputs": [
    {
     "name": "stdout",
     "output_type": "stream",
     "text": [
      "d1 = -0.3252846896648407\n",
      "d2 = -0.4752846956253052\n",
      "delta = 0.3724828064441681\n"
     ]
    },
    {
     "data": {
      "text/plain": [
       "Array(2.1333694, dtype=float32)"
      ]
     },
     "execution_count": 23,
     "metadata": {},
     "output_type": "execute_result"
    }
   ],
   "source": [
    "euro_call([S, X, T, sig, r])"
   ]
  },
  {
   "cell_type": "code",
   "execution_count": null,
   "metadata": {
    "id": "4slqBtZse9FF"
   },
   "outputs": [],
   "source": []
  },
  {
   "cell_type": "code",
   "execution_count": 24,
   "metadata": {
    "colab": {
     "base_uri": "https://localhost:8080/"
    },
    "id": "hJntMTVWe9FF",
    "outputId": "8f5e066e-458a-4fc4-c88e-e51b2d387d54"
   },
   "outputs": [
    {
     "name": "stdout",
     "output_type": "stream",
     "text": [
      "d1 = Traced<ConcreteArray(-0.3252846896648407, dtype=float32, weak_type=True)>with<JVPTrace(level=2/0)> with\n",
      "  primal = Array(-0.3252847, dtype=float32, weak_type=True)\n",
      "  tangent = Traced<ShapedArray(float32[], weak_type=True)>with<JaxprTrace(level=1/0)> with\n",
      "    pval = (ShapedArray(float32[], weak_type=True), None)\n",
      "    recipe = JaxprEqnRecipe(eqn_id=<object object at 0x7f61d02bb460>, in_tracers=(Traced<ShapedArray(float32[], weak_type=True):JaxprTrace(level=1/0)>, Traced<ShapedArray(float32[], weak_type=True):JaxprTrace(level=1/0)>, Traced<ConcreteArray(0.15000000596046448, dtype=float32, weak_type=True):JaxprTrace(level=1/0)>, Traced<ConcreteArray(-0.048792704939842224, dtype=float32, weak_type=True):JaxprTrace(level=1/0)>, Traced<ConcreteArray(44.44444274902344, dtype=float32, weak_type=True):JaxprTrace(level=1/0)>), out_tracer_refs=[<weakref at 0x7f61d01c2de0; to 'JaxprTracer' at 0x7f61d01c2d40>], out_avals=[ShapedArray(float32[], weak_type=True)], primitive=pjit, params={'jaxpr': { lambda ; a:f32[] b:f32[] c:f32[] d:f32[] e:f32[]. let\n",
      "    f:f32[] = div a c\n",
      "    g:f32[] = neg b\n",
      "    h:f32[] = mul g d\n",
      "    i:f32[] = mul h e\n",
      "    j:f32[] = add_any f i\n",
      "  in (j,) }, 'in_shardings': (UnspecifiedValue, UnspecifiedValue, UnspecifiedValue, UnspecifiedValue, UnspecifiedValue), 'out_shardings': (UnspecifiedValue,), 'resource_env': None, 'donated_invars': (False, False, False, False, False), 'name': 'true_divide', 'keep_unused': False, 'inline': True}, effects=set(), source_info=SourceInfo(traceback=<jaxlib.xla_extension.Traceback object at 0x7f61c0704bb0>, name_stack=NameStack(stack=(Transform(name='jvp'),))))\n",
      "d2 = Traced<ConcreteArray(-0.4752846956253052, dtype=float32, weak_type=True)>with<JVPTrace(level=2/0)> with\n",
      "  primal = Array(-0.4752847, dtype=float32, weak_type=True)\n",
      "  tangent = Traced<ShapedArray(float32[], weak_type=True)>with<JaxprTrace(level=1/0)> with\n",
      "    pval = (ShapedArray(float32[], weak_type=True), None)\n",
      "    recipe = JaxprEqnRecipe(eqn_id=<object object at 0x7f61d02bb5f0>, in_tracers=(Traced<ShapedArray(float32[], weak_type=True):JaxprTrace(level=1/0)>, Traced<ShapedArray(float32[], weak_type=True):JaxprTrace(level=1/0)>), out_tracer_refs=[<weakref at 0x7f61c070dc60; to 'JaxprTracer' at 0x7f61c070dbc0>], out_avals=[ShapedArray(float32[], weak_type=True)], primitive=pjit, params={'jaxpr': { lambda ; a:f32[] b:f32[]. let c:f32[] = sub a b in (c,) }, 'in_shardings': (UnspecifiedValue, UnspecifiedValue), 'out_shardings': (UnspecifiedValue,), 'resource_env': None, 'donated_invars': (False, False), 'name': '<lambda>', 'keep_unused': False, 'inline': True}, effects=set(), source_info=SourceInfo(traceback=<jaxlib.xla_extension.Traceback object at 0x7f61c07068f0>, name_stack=NameStack(stack=(Transform(name='jvp'),))))\n",
      "delta = Traced<ConcreteArray(0.3724828064441681, dtype=float32)>with<JVPTrace(level=2/0)> with\n",
      "  primal = Array(0.3724828, dtype=float32)\n",
      "  tangent = Traced<ShapedArray(float32[])>with<JaxprTrace(level=1/0)> with\n",
      "    pval = (ShapedArray(float32[]), None)\n",
      "    recipe = JaxprEqnRecipe(eqn_id=<object object at 0x7f61c0728d10>, in_tracers=(Traced<ShapedArray(float32[]):JaxprTrace(level=1/0)>, Traced<ConcreteArray(0.5, dtype=float32):JaxprTrace(level=1/0)>), out_tracer_refs=[<weakref at 0x7f61c07566b0; to 'JaxprTracer' at 0x7f61c0756660>], out_avals=[ShapedArray(float32[])], primitive=pjit, params={'jaxpr': { lambda ; a:f32[] b:f32[]. let c:f32[] = mul b a in (c,) }, 'in_shardings': (UnspecifiedValue, UnspecifiedValue), 'out_shardings': (UnspecifiedValue,), 'resource_env': None, 'donated_invars': (False, False), 'name': 'fn', 'keep_unused': False, 'inline': True}, effects=set(), source_info=SourceInfo(traceback=<jaxlib.xla_extension.Traceback object at 0x7f61c0759630>, name_stack=NameStack(stack=(Transform(name='jvp'),))))\n"
     ]
    },
    {
     "data": {
      "text/plain": [
       "[Array(0.3724828, dtype=float32, weak_type=True),\n",
       " Array(-0.31100923, dtype=float32, weak_type=True),\n",
       " Array(8.428175, dtype=float32, weak_type=True),\n",
       " Array(11.351544, dtype=float32, weak_type=True),\n",
       " Array(5.0539, dtype=float32, weak_type=True)]"
      ]
     },
     "execution_count": 24,
     "metadata": {},
     "output_type": "execute_result"
    }
   ],
   "source": [
    "pars = [S, X, T, sig, r]\n",
    "jax.grad(euro_call)(pars)"
   ]
  },
  {
   "cell_type": "code",
   "execution_count": null,
   "metadata": {
    "id": "m3T0zDBre9FF"
   },
   "outputs": [],
   "source": [
    "\n"
   ]
  },
  {
   "cell_type": "code",
   "execution_count": 25,
   "metadata": {
    "colab": {
     "base_uri": "https://localhost:8080/"
    },
    "id": "8H_439MFe9FF",
    "outputId": "366b393f-cee2-4d89-9644-72ee553c1d49"
   },
   "outputs": [
    {
     "data": {
      "text/plain": [
       "4.0"
      ]
     },
     "execution_count": 25,
     "metadata": {},
     "output_type": "execute_result"
    }
   ],
   "source": [
    "np.sqrt(4) + 2"
   ]
  },
  {
   "cell_type": "markdown",
   "metadata": {
    "id": "TgpSLrqve9FF"
   },
   "source": [
    "### Random numbers"
   ]
  },
  {
   "cell_type": "code",
   "execution_count": 26,
   "metadata": {
    "colab": {
     "base_uri": "https://localhost:8080/"
    },
    "id": "WJ_6fjWie9FG",
    "outputId": "bce349e0-a21f-480e-c064-de9238a1bd14"
   },
   "outputs": [
    {
     "name": "stdout",
     "output_type": "stream",
     "text": [
      "[ 0.6122652  1.1225883 -0.8544134 -0.8127325 -0.890405 ]\n",
      "[ 0.6122652  1.1225883 -0.8544134 -0.8127325 -0.890405 ]\n"
     ]
    }
   ],
   "source": [
    "key = jax.random.PRNGKey(42)\n",
    "print(random.normal(key, shape=(5,)))\n",
    "print(random.normal(key, shape=(5,)))"
   ]
  },
  {
   "cell_type": "code",
   "execution_count": 27,
   "metadata": {
    "colab": {
     "base_uri": "https://localhost:8080/"
    },
    "id": "Mg36TNqVe9FG",
    "outputId": "0d28641a-afdd-477e-92e4-1cbd78845212"
   },
   "outputs": [
    {
     "name": "stdout",
     "output_type": "stream",
     "text": [
      "[-0.55338794  0.944283   -0.74176395 -0.5769758   1.1251862 ]\n",
      "[-0.32761317 -0.4066346   1.2469071   1.1900425   1.100263  ]\n",
      "[ 0.52089006  0.5769043  -0.843142   -0.88776976 -0.26607993]\n"
     ]
    }
   ],
   "source": [
    "# never reuse a key\n",
    "key = jax.random.PRNGKey(42)\n",
    "key, subkey = random.split(key)\n",
    "print(random.normal(subkey, shape=(5,)))\n",
    "key, subkey = random.split(key)\n",
    "print(random.normal(subkey, shape=(5,)))\n",
    "key, subkey = random.split(key)\n",
    "print(random.normal(subkey, shape=(5,)))"
   ]
  },
  {
   "cell_type": "code",
   "execution_count": null,
   "metadata": {
    "id": "FyRrkcRFe9FG"
   },
   "outputs": [],
   "source": []
  },
  {
   "cell_type": "markdown",
   "metadata": {
    "id": "NOlqFRrbe9FG"
   },
   "source": [
    "## Common models"
   ]
  },
  {
   "cell_type": "markdown",
   "metadata": {
    "id": "JcVVHRXte9FG"
   },
   "source": [
    "### Linear model"
   ]
  },
  {
   "cell_type": "markdown",
   "metadata": {
    "id": "wUmd6HX0e9FG"
   },
   "source": [
    "$y = wx + b$\n",
    "\n",
    "Generate observed values"
   ]
  },
  {
   "cell_type": "code",
   "execution_count": 28,
   "metadata": {
    "colab": {
     "base_uri": "https://localhost:8080/"
    },
    "id": "0I1_wPx6e9FG",
    "outputId": "6c8f5fe2-29bd-4481-902a-a6538370a150"
   },
   "outputs": [
    {
     "name": "stdout",
     "output_type": "stream",
     "text": [
      "[ 1. -1.  3.  5. -2.  2.]\n"
     ]
    }
   ],
   "source": [
    "key = jax.random.PRNGKey(212)\n",
    "w = jnp.array([1., -1., 3., 5., -2.])\n",
    "b = 2\n",
    "theta_true = jnp.append(w, b)\n",
    "print(theta_true)"
   ]
  },
  {
   "cell_type": "code",
   "execution_count": 29,
   "metadata": {
    "id": "RleLnXPRe9FH"
   },
   "outputs": [],
   "source": [
    "@jax.jit\n",
    "def model(theta, x):\n",
    "    w = theta[:-1]\n",
    "    b = theta[-1]\n",
    "    y = jnp.dot(w, x) + b\n",
    "    return y\n",
    "\n",
    "model_vmap = jax.vmap(model, in_axes=[None, 1])"
   ]
  },
  {
   "cell_type": "code",
   "execution_count": 30,
   "metadata": {
    "colab": {
     "base_uri": "https://localhost:8080/"
    },
    "id": "jHQKvm67e9FH",
    "outputId": "57582346-855a-4759-cc81-0b0a1e89d467"
   },
   "outputs": [
    {
     "data": {
      "text/plain": [
       "Array(20., dtype=float32)"
      ]
     },
     "execution_count": 30,
     "metadata": {},
     "output_type": "execute_result"
    }
   ],
   "source": [
    "model(theta_true, jnp.array([1, 2, 3, 4, 5]))"
   ]
  },
  {
   "cell_type": "code",
   "execution_count": 31,
   "metadata": {
    "colab": {
     "base_uri": "https://localhost:8080/"
    },
    "id": "24pWVd6Me9FH",
    "outputId": "ddef0480-305c-4c5b-b20a-9944d40cd26e"
   },
   "outputs": [
    {
     "data": {
      "text/plain": [
       "array([[1, 2],\n",
       "       [3, 4],\n",
       "       [5, 1],\n",
       "       [2, 3],\n",
       "       [4, 5]])"
      ]
     },
     "execution_count": 31,
     "metadata": {},
     "output_type": "execute_result"
    }
   ],
   "source": [
    "np.array([1, 2, 3, 4, 5, 1, 2, 3, 4, 5]).reshape(5, 2)"
   ]
  },
  {
   "cell_type": "code",
   "execution_count": 32,
   "metadata": {
    "id": "Kr_rTy8Oe9FH"
   },
   "outputs": [],
   "source": [
    "#model_vmap(theta, np.array([1, 2, 3, 4, 5, 1, 2, 3, 4, 5]).reshape(5, 2))"
   ]
  },
  {
   "cell_type": "code",
   "execution_count": 33,
   "metadata": {
    "colab": {
     "base_uri": "https://localhost:8080/"
    },
    "id": "lrxjSHpMe9FH",
    "outputId": "1fb1afdc-d54c-4969-eedb-c80c72554e80"
   },
   "outputs": [
    {
     "name": "stdout",
     "output_type": "stream",
     "text": [
      "(5, 50)\n",
      "[-1.9834338  3.6937184 -2.6479697  1.7907314 12.152573 ]\n"
     ]
    }
   ],
   "source": [
    "n_obs = 50\n",
    "x_observed = jax.random.normal(key, shape=(5,n_obs))\n",
    "print(x_observed.shape)\n",
    "print(jnp.sum(x_observed, axis=1))\n"
   ]
  },
  {
   "cell_type": "code",
   "execution_count": 34,
   "metadata": {
    "colab": {
     "base_uri": "https://localhost:8080/"
    },
    "id": "VGFFvG0Ve9FH",
    "outputId": "78660b16-6f0e-4e74-a1d3-8429035692ba"
   },
   "outputs": [
    {
     "name": "stdout",
     "output_type": "stream",
     "text": [
      "[  5.0615315    2.4697185   -3.1689072   -7.6509895   -3.878571\n",
      "  11.230026     1.4037006    4.231458     9.178272     5.9207597\n",
      "  -1.3583989   -4.3980184    5.34012      0.41575944  -1.9732018\n",
      "  -8.83993      6.2698207   -2.5513077    6.314845    -8.689926\n",
      "  -1.7106981   -5.669702     8.188997    10.294529     5.785759\n",
      "  -5.8465557   17.606491     5.4771914   11.000769     7.3086863\n",
      "  -3.7401242    6.7878776    8.182899     1.5911285    1.0267415\n",
      "   4.3348236   -5.980621   -11.129906    -4.772352    -3.095614\n",
      "  -0.26369235  -5.845175    -2.924248     3.485813    11.435972\n",
      "  11.133466    -4.316735     0.92751515  -5.489374    -8.450031  ]\n"
     ]
    }
   ],
   "source": [
    "# observations - model plus some noise\n",
    "y_observed = model(theta_true, x_observed) + jax.random.normal(key, shape=(n_obs,))\n",
    "print(y_observed)"
   ]
  },
  {
   "cell_type": "code",
   "execution_count": 35,
   "metadata": {
    "colab": {
     "base_uri": "https://localhost:8080/",
     "height": 470
    },
    "id": "9v89eEq5e9FI",
    "outputId": "31461a1c-4870-482c-842a-974f7ae6118b"
   },
   "outputs": [
    {
     "data": {
      "text/plain": [
       "Text(0.5, 1.0, 'Noisy observations vs underlying model')"
      ]
     },
     "execution_count": 35,
     "metadata": {},
     "output_type": "execute_result"
    },
    {
     "data": {
      "image/png": "[encoded data removed]",
      "text/plain": [
       "<Figure size 640x480 with 1 Axes>"
      ]
     },
     "metadata": {},
     "output_type": "display_data"
    }
   ],
   "source": [
    "plt.scatter(model(theta_true, x_observed), y_observed)\n",
    "plt.plot(model(theta_true, x_observed), model(theta_true, x_observed))\n",
    "plt.title('Noisy observations vs underlying model')"
   ]
  },
  {
   "cell_type": "code",
   "execution_count": 36,
   "metadata": {
    "id": "jL4r5SlJe9FI",
    "outputId": "195c760e-c53c-4154-bf98-db5ed2fd8ed2"
   },
   "outputs": [
    {
     "name": "stdout",
     "output_type": "stream",
     "text": [
      "52.5 µs ± 1.04 µs per loop (mean ± std. dev. of 7 runs, 10,000 loops each)\n"
     ]
    }
   ],
   "source": [
    "%timeit model(theta_true, x_observed)"
   ]
  },
  {
   "cell_type": "code",
   "execution_count": 37,
   "metadata": {
    "colab": {
     "base_uri": "https://localhost:8080/"
    },
    "id": "wD_ywQ2ve9FI",
    "outputId": "7b6cf1f0-eadf-4f4b-93b5-e824d857dd94"
   },
   "outputs": [
    {
     "name": "stdout",
     "output_type": "stream",
     "text": [
      "[ 2.9883356e+00  2.3349292e+00 -1.5650353e+00 -6.1130486e+00\n",
      " -5.0836453e+00  1.2472522e+01  1.8045750e+00  5.0270214e+00\n",
      "  1.0129258e+01  5.9141598e+00 -1.4724889e+00 -4.2724571e+00\n",
      "  6.0810957e+00  5.5440164e-01 -1.5313125e+00 -7.7776632e+00\n",
      "  6.5286217e+00 -2.9492378e+00  6.2737894e+00 -7.3210154e+00\n",
      "  1.4330387e-02 -5.8055058e+00  7.4530363e+00  8.3956413e+00\n",
      "  4.1605120e+00 -5.3344989e+00  1.8990658e+01  6.3681192e+00\n",
      "  1.0795193e+01  7.7783060e+00 -1.1883299e+00  6.2501440e+00\n",
      "  7.3560801e+00  1.6167397e+00  3.5765314e-01  6.0111747e+00\n",
      " -5.7826834e+00 -1.1694789e+01 -7.5610752e+00 -2.0660710e+00\n",
      " -2.2288561e-01 -5.6120420e+00 -2.8691716e+00  4.5343018e+00\n",
      "  1.0853861e+01  1.2338906e+01 -4.6002135e+00  1.9807799e+00\n",
      " -5.6962886e+00 -7.8172445e+00]\n"
     ]
    }
   ],
   "source": [
    "y_observed = model_vmap(theta_true, x_observed)\n",
    "print(y_observed)"
   ]
  },
  {
   "cell_type": "code",
   "execution_count": 38,
   "metadata": {
    "id": "XMEl_bLte9FI",
    "outputId": "40a4124b-bb75-44a8-d7c3-6cae1ad40f64"
   },
   "outputs": [
    {
     "name": "stdout",
     "output_type": "stream",
     "text": [
      "659 µs ± 6.73 µs per loop (mean ± std. dev. of 7 runs, 1,000 loops each)\n"
     ]
    }
   ],
   "source": [
    "# slower tham model?\n",
    "%timeit model_vmap(theta_true, x_observed)"
   ]
  },
  {
   "cell_type": "code",
   "execution_count": 39,
   "metadata": {
    "id": "vdnjyjGpe9FI"
   },
   "outputs": [],
   "source": [
    "# loss function - mean squared error\n",
    "def loss_fn(theta, x, y):\n",
    "  prediction = model(theta, x)\n",
    "  return jnp.mean((prediction-y)**2)"
   ]
  },
  {
   "cell_type": "code",
   "execution_count": 40,
   "metadata": {
    "id": "KSB1AqW_e9FI"
   },
   "outputs": [],
   "source": [
    "# update step\n",
    "@jax.jit\n",
    "def update(theta, x, y, lr=0.01):\n",
    "  return theta - lr * grad(loss_fn)(theta, x, y)"
   ]
  },
  {
   "cell_type": "code",
   "execution_count": 41,
   "metadata": {
    "colab": {
     "base_uri": "https://localhost:8080/"
    },
    "id": "8o8zevxme9FJ",
    "outputId": "16b3d3a4-7517-45dc-e542-07bc7a2481df"
   },
   "outputs": [
    {
     "name": "stdout",
     "output_type": "stream",
     "text": [
      "True vs fitted parameters:\n",
      "[[ 1. -1.  3.  5. -2.  2.]\n",
      " [ 1. -1.  3.  5. -2.  2.]]\n"
     ]
    }
   ],
   "source": [
    "# initial parateters\n",
    "theta = jnp.array([1., 1., 1., 1., 1., 1.])\n",
    "theta\n",
    "n_iterations = 1000\n",
    "lr = .01\n",
    "for i in range(n_iterations):\n",
    "    theta = update(theta, x_observed, y_observed, lr=lr)\n",
    "print('True vs fitted parameters:')\n",
    "print(jnp.vstack([jnp.round(theta, 4), theta_true]))\n"
   ]
  },
  {
   "cell_type": "markdown",
   "metadata": {
    "id": "XMDjCiSle9FJ"
   },
   "source": [
    "### Logistic regression classifier"
   ]
  },
  {
   "cell_type": "markdown",
   "metadata": {
    "id": "ePrjFvEAe9FJ"
   },
   "source": [
    "First, we create data using bivariate normal distribution."
   ]
  },
  {
   "cell_type": "code",
   "execution_count": 42,
   "metadata": {
    "colab": {
     "base_uri": "https://localhost:8080/"
    },
    "id": "_oSYnBtne9FJ",
    "outputId": "a5468855-96ac-4a1e-c006-ca8663396167"
   },
   "outputs": [
    {
     "data": {
      "text/plain": [
       "Array([[ 2.2076726 ,  0.63324547],\n",
       "       [ 0.53972983, -0.5107355 ],\n",
       "       [ 1.6998711 ,  1.4444137 ],\n",
       "       [-0.05809402,  1.3304108 ],\n",
       "       [ 0.23326337,  0.6060622 ]], dtype=float32)"
      ]
     },
     "execution_count": 42,
     "metadata": {},
     "output_type": "execute_result"
    }
   ],
   "source": [
    "class1 = random.multivariate_normal(key,\n",
    "                           mean=jnp.array([1, 1]),\n",
    "                           cov=.5*np.array([1, .5, .5, 1]).reshape(2,2),\n",
    "                          shape=[100,])\n",
    "class1[:5,:]"
   ]
  },
  {
   "cell_type": "code",
   "execution_count": 43,
   "metadata": {
    "colab": {
     "base_uri": "https://localhost:8080/",
     "height": 450
    },
    "id": "r0CUv8Sre9FJ",
    "outputId": "e3f77fb2-c2c1-4d50-bb64-fc8ceeed0cdb"
   },
   "outputs": [
    {
     "data": {
      "text/plain": [
       "<matplotlib.collections.PathCollection at 0x7f61c0582690>"
      ]
     },
     "execution_count": 43,
     "metadata": {},
     "output_type": "execute_result"
    },
    {
     "data": {
      "image/png": "[encoded data removed]",
      "text/plain": [
       "<Figure size 640x480 with 1 Axes>"
      ]
     },
     "metadata": {},
     "output_type": "display_data"
    }
   ],
   "source": [
    "plt.scatter(class1[:, 0], class1[:, 1])"
   ]
  },
  {
   "cell_type": "code",
   "execution_count": 44,
   "metadata": {
    "colab": {
     "base_uri": "https://localhost:8080/"
    },
    "id": "r-eDDdpze9FJ",
    "outputId": "bd46ac85-9a5e-43fc-d845-6300669c6d7b"
   },
   "outputs": [
    {
     "data": {
      "text/plain": [
       "Array([[3.6587057, 3.276566 ],\n",
       "       [2.3907404, 3.2305648],\n",
       "       [2.9801316, 2.669557 ],\n",
       "       [1.739017 , 1.6249541],\n",
       "       [2.5033264, 2.8402581]], dtype=float32)"
      ]
     },
     "execution_count": 44,
     "metadata": {},
     "output_type": "execute_result"
    }
   ],
   "source": [
    "key, subkey = random.split(key)\n",
    "class2 = random.multivariate_normal(key,\n",
    "                           mean=jnp.array([3, 3]),\n",
    "                           cov=.5*np.array([1, .7, .7, 1]).reshape(2,2),\n",
    "                          shape=[100,])\n",
    "class2[:5,:]"
   ]
  },
  {
   "cell_type": "code",
   "execution_count": 45,
   "metadata": {
    "colab": {
     "base_uri": "https://localhost:8080/",
     "height": 470
    },
    "id": "3vA8YMIDe9FK",
    "outputId": "e3cfd479-37b0-44e7-b764-23d33990b37f"
   },
   "outputs": [
    {
     "data": {
      "text/plain": [
       "<matplotlib.legend.Legend at 0x7f61c0569110>"
      ]
     },
     "execution_count": 45,
     "metadata": {},
     "output_type": "execute_result"
    },
    {
     "data": {
      "image/png": "[encoded data removed]",
      "text/plain": [
       "<Figure size 640x480 with 1 Axes>"
      ]
     },
     "metadata": {},
     "output_type": "display_data"
    }
   ],
   "source": [
    "\n",
    "fig = plt.figure()\n",
    "ax1 = fig.add_subplot(111)\n",
    "\n",
    "ax1.scatter(class1[:, 0], class1[:, 1], s=10, c='b', marker=\"s\", label='class1')\n",
    "ax1.scatter(class2[:, 0], class2[:, 1], s=10, c='r', marker=\"s\", label='class2')\n",
    "plt.title('Two classes')\n",
    "plt.legend()\n"
   ]
  },
  {
   "cell_type": "markdown",
   "metadata": {
    "id": "RiX2d9que9FK"
   },
   "source": [
    "Logistic regression models the probability of belonging to $class1$ as\n",
    "$$\n",
    "p = \\frac{1}{1+e^{-(wx + b)}},\n",
    "$$\n",
    "where, in our case, $w = (w_1, w_2), x = (x_1, x_2)$, and $b$ is a scalar.\n",
    "The loss function at $p_k, y_k$ is defined as \n",
    "\n",
    "$$\n",
    "\\left\\{\n",
    "\\begin{array}{l}\n",
    "      -log(p_k),\\ if\\  y_k = 1\\ \\    (class 1),\\\\\n",
    "      -log(1-p_k),\\ if\\  y_k=0 \\ \\    (class 2).\n",
    "      \\end{array}\n",
    "  \\right.\n",
    "$$\n",
    "Combining, we get cross entropy loss function\n",
    "\n",
    "$$\n",
    "L = -\\Sigma_1^N (y_k\\log(p_k) + (1-y_k)log(1-p_k)).\n",
    "$$"
   ]
  },
  {
   "cell_type": "code",
   "execution_count": 46,
   "metadata": {
    "id": "ZIFK2PhDe9FK"
   },
   "outputs": [],
   "source": [
    "# implement functions\n",
    "@jax.jit\n",
    "def sigmoid(t):\n",
    "    return 1/(1 + jnp.exp(-t))\n",
    "\n",
    "@jax.jit\n",
    "def model(theta, x):\n",
    "    w = theta[:-1]\n",
    "    b = theta[-1]\n",
    "    t = jnp.dot(w, x) + b\n",
    "    p = sigmoid(t)\n",
    "    return p\n",
    "\n",
    "# loss function - cross entropy\n",
    "def loss_fn(theta, x, y):\n",
    "  p = model(theta, x)\n",
    "#  print(theta.dtype)\n",
    "#  print(y.dtype)\n",
    "# print(y*(jnp.log(p) + (1-y)*jnp.log(1-p)))    \n",
    "  return -jnp.mean(y*jnp.log(p) + (1-y)*jnp.log(1-p))\n",
    "\n",
    "# update step\n",
    "@jax.jit\n",
    "def update(theta, x, y, lr=0.01):\n",
    "  return theta - lr * grad(loss_fn)(theta, x, y)"
   ]
  },
  {
   "cell_type": "code",
   "execution_count": 47,
   "metadata": {
    "colab": {
     "base_uri": "https://localhost:8080/"
    },
    "id": "WKRzeTE3e9FK",
    "outputId": "69a2fb55-dc17-4382-ab99-9b6b5135d71f"
   },
   "outputs": [
    {
     "data": {
      "text/plain": [
       "Array([[ 2.2076726 ,  0.63324547],\n",
       "       [ 0.53972983, -0.5107355 ],\n",
       "       [ 1.6998711 ,  1.4444137 ],\n",
       "       [-0.05809402,  1.3304108 ],\n",
       "       [ 0.23326337,  0.6060622 ]], dtype=float32)"
      ]
     },
     "execution_count": 47,
     "metadata": {},
     "output_type": "execute_result"
    }
   ],
   "source": [
    "class1[:5, :]"
   ]
  },
  {
   "cell_type": "code",
   "execution_count": 48,
   "metadata": {
    "colab": {
     "base_uri": "https://localhost:8080/"
    },
    "id": "vcYvh6Lee9FK",
    "outputId": "fddf18d9-0618-4412-ca9a-55466e301d0e"
   },
   "outputs": [
    {
     "data": {
      "text/plain": [
       "Array([0.97897756, 0.73672086, 0.98439276, 0.9065582 , 0.8628689 ],      dtype=float32)"
      ]
     },
     "execution_count": 48,
     "metadata": {},
     "output_type": "execute_result"
    }
   ],
   "source": [
    "theta = np.array([1., 1., 1.])\n",
    "model(theta, class1[:5, :].transpose())"
   ]
  },
  {
   "cell_type": "code",
   "execution_count": 49,
   "metadata": {
    "id": "Vf7G130xe9FK",
    "outputId": "d88eb88b-1bfb-4636-e70c-ad33821db324"
   },
   "outputs": [
    {
     "ename": "NameError",
     "evalue": "name 'data' is not defined",
     "output_type": "error",
     "traceback": [
      "\u001b[0;31m---------------------------------------------------------------------------\u001b[0m",
      "\u001b[0;31mNameError\u001b[0m                                 Traceback (most recent call last)",
      "Cell \u001b[0;32mIn[49], line 1\u001b[0m\n\u001b[0;32m----> 1\u001b[0m loss_fn(theta, data[:,:\u001b[38;5;241m-\u001b[39m\u001b[38;5;241m1\u001b[39m]\u001b[38;5;241m.\u001b[39mtranspose(), lbl)\n",
      "\u001b[0;31mNameError\u001b[0m: name 'data' is not defined"
     ]
    }
   ],
   "source": [
    "loss_fn(theta, data[:,:-1].transpose(), lbl)"
   ]
  },
  {
   "cell_type": "code",
   "execution_count": 50,
   "metadata": {
    "colab": {
     "base_uri": "https://localhost:8080/"
    },
    "id": "7l8gBW1qe9FL",
    "outputId": "d27933bb-d61b-4939-835d-8a4f9fc34169"
   },
   "outputs": [
    {
     "data": {
      "text/plain": [
       "3.565970814956701"
      ]
     },
     "execution_count": 50,
     "metadata": {},
     "output_type": "execute_result"
    }
   ],
   "source": [
    "# alternative cross entropy function\n",
    "from sklearn.metrics import log_loss\n",
    "lbl = jnp.concatenate((jnp.ones(shape=(len(class1),)), jnp.zeros(shape=(len(class2),))))\n",
    "data = jnp.column_stack((jnp.row_stack((class1, class2)), lbl))\n",
    "log_loss(lbl, model(theta, data[:,:-1].transpose()))"
   ]
  },
  {
   "cell_type": "code",
   "execution_count": 51,
   "metadata": {
    "id": "huPH9UG1e9FL"
   },
   "outputs": [],
   "source": [
    "def BinaryCrossEntropy(y_true, y_pred):\n",
    "    y_pred = np.clip(y_pred, 1e-7, 1 - 1e-7)\n",
    "    term_0 = (1-y_true) * np.log(1-y_pred + 1e-7)\n",
    "    term_1 = y_true * np.log(y_pred + 1e-7)\n",
    "    return -np.mean(term_0+term_1, axis=0)"
   ]
  },
  {
   "cell_type": "code",
   "execution_count": 52,
   "metadata": {
    "colab": {
     "base_uri": "https://localhost:8080/"
    },
    "id": "1S_eNwWDe9FL",
    "outputId": "619b1143-9fe9-40e2-c207-93a57b8c21f6"
   },
   "outputs": [
    {
     "data": {
      "text/plain": [
       "Array(3.5658102, dtype=float32)"
      ]
     },
     "execution_count": 52,
     "metadata": {},
     "output_type": "execute_result"
    }
   ],
   "source": [
    "BinaryCrossEntropy(lbl, model(theta, data[:,:-1].transpose()))"
   ]
  },
  {
   "cell_type": "code",
   "execution_count": null,
   "metadata": {
    "id": "q67Za-zde9FL"
   },
   "outputs": [],
   "source": []
  },
  {
   "cell_type": "code",
   "execution_count": 53,
   "metadata": {
    "colab": {
     "base_uri": "https://localhost:8080/"
    },
    "id": "vIB-FBT0e9FL",
    "outputId": "142e3b2f-d3ec-422a-bd33-41d701fa86eb"
   },
   "outputs": [
    {
     "data": {
      "text/plain": [
       "Array([1.0003867, 1.0003953, 1.0009131], dtype=float32)"
      ]
     },
     "execution_count": 53,
     "metadata": {},
     "output_type": "execute_result"
    }
   ],
   "source": [
    "update(theta, class1[:, :].transpose(), jnp.ones(shape=(len(class1),)))"
   ]
  },
  {
   "cell_type": "code",
   "execution_count": 95,
   "metadata": {
    "colab": {
     "base_uri": "https://localhost:8080/"
    },
    "id": "9gIBobSre9FL",
    "outputId": "8006609e-c8fb-427e-8dcc-088bdc3fce9b"
   },
   "outputs": [
    {
     "name": "stdout",
     "output_type": "stream",
     "text": [
      "(200, 3)\n",
      "[[ 2.2076726   0.63324547  1.        ]\n",
      " [ 0.53972983 -0.5107355   1.        ]\n",
      " [ 1.6998711   1.4444137   1.        ]\n",
      " [-0.05809402  1.3304108   1.        ]\n",
      " [ 0.23326337  0.6060622   1.        ]]\n",
      "[[4.2168283 4.838749  0.       ]\n",
      " [3.027188  2.895407  0.       ]\n",
      " [4.1475687 3.578512  0.       ]\n",
      " [3.8165798 4.3165026 0.       ]\n",
      " [0.9768336 1.3954045 0.       ]]\n"
     ]
    }
   ],
   "source": [
    "#input data\n",
    "lbl = jnp.concatenate((jnp.ones(shape=(len(class1),)), jnp.zeros(shape=(len(class2),))))\n",
    "data = jnp.column_stack((jnp.row_stack((class1, class2)), lbl))\n",
    "print(data.shape)\n",
    "print(data[:5, :])\n",
    "print(data[-5:, :])\n",
    "# train/test split\n",
    "X_train, X_test, y_train, y_test = train_test_split(\n",
    "    data[:,:-1], \n",
    "    data[:,-1], \n",
    "    test_size=0.3, random_state=212\n",
    ")"
   ]
  },
  {
   "cell_type": "code",
   "execution_count": 96,
   "metadata": {
    "colab": {
     "base_uri": "https://localhost:8080/"
    },
    "id": "RbcrkPsbe9FL",
    "outputId": "1866de34-8ca4-47ac-fcb5-5bae938b2254"
   },
   "outputs": [
    {
     "name": "stdout",
     "output_type": "stream",
     "text": [
      "(140, 2)\n",
      "(60, 2)\n",
      "(140,)\n",
      "(60,)\n",
      "30.0\n"
     ]
    }
   ],
   "source": [
    "print(X_train.shape)\n",
    "print(X_test.shape)\n",
    "print(y_train.shape)\n",
    "print(y_test.shape)\n",
    "print(y_test.sum())"
   ]
  },
  {
   "cell_type": "code",
   "execution_count": 97,
   "metadata": {
    "colab": {
     "base_uri": "https://localhost:8080/"
    },
    "id": "uqFPE2Fze9FM",
    "outputId": "a4c48fd1-f407-4c4c-c963-33521d221a1b"
   },
   "outputs": [
    {
     "name": "stdout",
     "output_type": "stream",
     "text": [
      "3.1687317 2.9157207\n",
      "2.6889741 2.48175\n",
      "2.2205 2.059703\n",
      "1.7718313 1.6576842\n",
      "1.3596144 1.2906746\n",
      "1.012599 0.98337924\n",
      "0.7634139 0.7628756\n",
      "0.6172642 0.6326694\n",
      "0.5421018 0.56481814\n",
      "0.50348717 0.5293926\n",
      "0.4822276 0.50956506\n",
      "0.46948668 0.49749896\n",
      "0.46118453 0.48953354\n",
      "0.45532972 0.4838617\n",
      "0.4508901 0.4795364\n",
      "0.44730198 0.47603482\n",
      "0.44424433 0.4730556\n",
      "0.44152758 0.4704189\n",
      "0.43903673 0.46801388\n",
      "0.43670037 0.46577084\n",
      "0.4344732 0.46364474\n",
      "0.43232614 0.46160612\n",
      "0.43024018 0.45963505\n",
      "0.42820278 0.45771822\n",
      "0.4262054 0.4558463\n",
      "0.42424244 0.4540127\n",
      "0.42230982 0.45221266\n",
      "0.42040488 0.45044288\n",
      "0.41852564 0.44870064\n",
      "0.41667068 0.44698408\n",
      "0.41483882 0.44529164\n",
      "0.41302928 0.44362205\n",
      "0.41124144 0.4419744\n",
      "0.4094747 0.44034776\n",
      "0.40772858 0.4387415\n",
      "0.4060027 0.437155\n",
      "0.40429667 0.43558767\n",
      "0.40261012 0.43403912\n",
      "0.40094277 0.4325088\n",
      "0.39929432 0.43099642\n",
      "0.39766443 0.4295015\n",
      "0.39605284 0.42802376\n",
      "0.39445928 0.42656285\n",
      "0.39288348 0.4251185\n",
      "0.39132515 0.42369038\n",
      "0.38978404 0.42227817\n",
      "0.38825995 0.42088175\n",
      "0.3867526 0.41950068\n",
      "0.3852617 0.41813487\n",
      "0.38378704 0.416784\n",
      "0.38232848 0.4154478\n",
      "0.38088563 0.4141261\n",
      "0.37945834 0.41281867\n",
      "0.37804642 0.41152534\n",
      "0.37664962 0.41024584\n",
      "0.37526768 0.40897998\n",
      "0.37390044 0.40772754\n",
      "0.3725477 0.4064884\n",
      "0.37120923 0.40526226\n",
      "0.36988482 0.40404904\n",
      "0.36857426 0.40284848\n",
      "0.36727738 0.40166047\n",
      "0.365994 0.40048477\n",
      "0.36472392 0.39932126\n",
      "0.36346695 0.3981697\n",
      "0.36222288 0.39702994\n",
      "0.3609916 0.3959019\n",
      "0.35977286 0.39478537\n",
      "0.35856652 0.39368016\n",
      "0.3573724 0.3925861\n",
      "0.35619032 0.3915031\n",
      "0.35502014 0.39043105\n",
      "0.35386166 0.38936964\n",
      "0.35271475 0.38831884\n",
      "0.35157928 0.38727853\n",
      "0.35045505 0.3862485\n",
      "0.3493419 0.38522863\n",
      "0.34823975 0.38421887\n",
      "0.34714833 0.3832189\n",
      "0.3460676 0.38222882\n",
      "0.34499738 0.3812483\n",
      "0.34393755 0.38027734\n",
      "0.3428879 0.3793157\n",
      "0.3418484 0.37836334\n",
      "0.34081885 0.37742016\n",
      "0.3397991 0.37648603\n",
      "0.3387891 0.37556076\n",
      "0.33778864 0.3746443\n",
      "0.33679762 0.37373653\n",
      "0.33581597 0.37283728\n",
      "0.3348435 0.37194654\n",
      "0.33388007 0.3710641\n",
      "0.33292565 0.37018996\n",
      "0.33198008 0.36932394\n",
      "0.33104318 0.36846593\n",
      "0.33011496 0.36761585\n",
      "0.32919523 0.36677364\n",
      "0.3282839 0.36593914\n",
      "0.32738087 0.36511222\n",
      "0.32648605 0.36429292\n",
      "0.32559928 0.36348104\n",
      "0.3247205 0.3626765\n",
      "0.3238496 0.36187923\n",
      "0.3229865 0.36108914\n",
      "0.32213107 0.36030608\n",
      "0.32128322 0.35953012\n",
      "0.32044291 0.358761\n",
      "0.31960997 0.35799873\n",
      "0.31878433 0.3572432\n",
      "0.31796592 0.35649434\n",
      "0.31715465 0.35575205\n",
      "0.31635043 0.3550163\n",
      "0.3155531 0.35428688\n",
      "0.3147627 0.35356385\n",
      "0.3139791 0.35284713\n",
      "0.31320217 0.35213655\n",
      "0.31243187 0.35143209\n",
      "0.31166813 0.3507337\n",
      "0.31091085 0.3500413\n",
      "0.31015995 0.3493548\n",
      "0.30941537 0.34867412\n",
      "0.30867702 0.34799922\n",
      "0.3079448 0.34733003\n",
      "0.30721873 0.34666649\n",
      "0.30649868 0.34600845\n",
      "0.3057845 0.34535593\n",
      "0.30507627 0.34470892\n",
      "0.30437383 0.34406722\n",
      "0.3036771 0.34343085\n",
      "0.3029861 0.34279978\n",
      "0.30230066 0.34217384\n",
      "0.30162075 0.34155306\n",
      "0.30094638 0.3409374\n",
      "0.30027738 0.3403267\n",
      "0.29961374 0.339721\n",
      "0.2989554 0.33912018\n",
      "0.2983023 0.33852425\n",
      "0.29765433 0.33793312\n",
      "0.29701155 0.33734667\n",
      "0.29637375 0.336765\n",
      "0.29574096 0.3361879\n",
      "0.29511315 0.3356154\n",
      "0.29449016 0.33504745\n",
      "0.2938721 0.33448398\n",
      "0.2932588 0.33392495\n",
      "0.29265016 0.33337033\n",
      "0.29204625 0.33282003\n",
      "0.29144695 0.33227402\n",
      "0.2908522 0.33173233\n",
      "0.290262 0.33119476\n",
      "0.28967628 0.3306614\n",
      "0.28909498 0.33013213\n",
      "0.28851804 0.3296069\n",
      "0.2879454 0.3290857\n",
      "0.2873771 0.32856855\n",
      "0.286813 0.32805526\n",
      "0.28625315 0.32754594\n",
      "0.28569734 0.32704043\n",
      "0.28514567 0.32653877\n",
      "0.2845981 0.32604083\n",
      "0.28405452 0.32554665\n",
      "0.2835149 0.32505623\n",
      "0.2829792 0.3245694\n",
      "0.2824474 0.32408622\n",
      "0.28191948 0.32360664\n",
      "0.28139535 0.32313055\n",
      "0.2808749 0.322658\n",
      "0.28035828 0.32218897\n",
      "0.27984533 0.3217233\n",
      "0.27933604 0.3212611\n",
      "0.27883035 0.32080224\n",
      "0.27832818 0.3203467\n",
      "0.27782965 0.3198945\n",
      "0.27733457 0.31944555\n",
      "0.27684298 0.31899983\n",
      "0.2763548 0.31855735\n",
      "0.27587003 0.31811798\n",
      "0.2753886 0.31768182\n",
      "0.2749105 0.3172487\n",
      "0.27443576 0.31681868\n",
      "0.2739642 0.3163917\n",
      "0.27349594 0.31596777\n",
      "0.27303085 0.3155468\n",
      "0.2725689 0.31512877\n",
      "0.27211016 0.31471375\n",
      "0.27165446 0.31430158\n",
      "0.27120188 0.31389228\n",
      "0.27075228 0.3134858\n",
      "0.27030575 0.31308216\n",
      "0.26986217 0.3126813\n",
      "0.2694216 0.31228322\n",
      "0.2689839 0.3118879\n",
      "0.26854914 0.3114952\n",
      "0.2681172 0.3111053\n",
      "0.26768816 0.31071797\n",
      "0.2672619 0.31033334\n",
      "0.26683846 0.30995128\n",
      "0.26641774 0.30957183\n",
      "0.26599976 0.30919495\n",
      "0.26558453 0.30882055\n",
      "0.26517195 0.30844867\n",
      "0.26476207 0.30807936\n",
      "0.26435477 0.3077124\n",
      "0.2639501 0.30734798\n",
      "0.26354802 0.30698594\n",
      "0.2631485 0.30662626\n",
      "0.26275152 0.30626902\n",
      "0.26235703 0.30591413\n",
      "0.26196507 0.3055615\n",
      "0.26157555 0.30521128\n",
      "0.26118848 0.30486327\n",
      "0.26080385 0.30451757\n",
      "0.2604216 0.30417413\n",
      "0.26004174 0.30383286\n",
      "0.2596642 0.30349383\n",
      "0.25928903 0.30315703\n",
      "0.25891617 0.30282235\n",
      "0.2585456 0.30248988\n",
      "0.2581773 0.30215946\n",
      "0.25781128 0.30183113\n",
      "0.25744745 0.30150497\n",
      "0.25708586 0.30118087\n",
      "0.25672644 0.30085883\n",
      "0.2563692 0.30053878\n",
      "0.25601414 0.30022082\n",
      "0.2556612 0.29990485\n",
      "0.25531033 0.29959083\n",
      "0.2549616 0.29927877\n",
      "0.25461495 0.29896864\n",
      "0.25427034 0.2986605\n",
      "0.25392777 0.29835427\n",
      "0.25358725 0.2980499\n",
      "0.25324872 0.29774743\n",
      "0.2529122 0.2974469\n",
      "0.25257763 0.29714814\n",
      "0.252245 0.29685122\n",
      "0.25191432 0.29655614\n",
      "0.25158557 0.29626283\n",
      "0.25125873 0.29597136\n",
      "0.2509338 0.29568166\n",
      "0.2506107 0.29539365\n",
      "0.2502895 0.29510748\n",
      "0.24997011 0.294823\n",
      "0.24965253 0.29454023\n",
      "0.24933681 0.29425916\n",
      "0.24902287 0.29397976\n",
      "0.24871069 0.293702\n",
      "0.24840029 0.29342598\n",
      "0.24809167 0.2931516\n",
      "0.24778472 0.2928788\n",
      "0.24747953 0.29260764\n",
      "0.24717604 0.29233813\n",
      "0.24687427 0.29207015\n",
      "0.24657413 0.29180375\n",
      "0.24627571 0.29153895\n",
      "0.24597892 0.29127568\n",
      "0.24568376 0.291014\n",
      "0.24539024 0.29075375\n",
      "0.24509834 0.2904951\n",
      "0.24480797 0.29023793\n",
      "0.24451926 0.28998223\n",
      "0.24423212 0.28972802\n",
      "0.24394651 0.28947526\n",
      "0.24366248 0.289224\n",
      "0.24337998 0.28897417\n",
      "0.24309899 0.28872576\n",
      "0.24281952 0.2884788\n",
      "0.24254154 0.2882332\n",
      "0.24226505 0.28798905\n",
      "0.24199003 0.28774625\n",
      "0.24171649 0.28750485\n",
      "0.2414444 0.28726485\n",
      "0.24117374 0.28702617\n",
      "0.24090454 0.28678882\n",
      "0.24063672 0.2865528\n",
      "0.24037035 0.28631815\n",
      "0.24010533 0.28608477\n",
      "0.23984173 0.2858527\n",
      "0.2395795 0.28562194\n",
      "0.23931862 0.28539246\n",
      "0.23905912 0.28516427\n",
      "0.23880094 0.2849373\n",
      "0.23854408 0.28471163\n",
      "0.23828861 0.28448716\n",
      "0.23803438 0.28426394\n",
      "0.2377815 0.284042\n",
      "0.23752992 0.28382123\n",
      "0.2372796 0.28360167\n",
      "0.23703055 0.2833833\n",
      "0.23678279 0.28316617\n",
      "0.23653628 0.2829502\n",
      "0.23629099 0.28273535\n",
      "0.23604693 0.2825217\n",
      "0.23580416 0.28230923\n",
      "0.23556255 0.2820979\n",
      "0.23532213 0.2818877\n",
      "0.23508295 0.2816786\n",
      "0.23484497 0.28147063\n",
      "0.23460816 0.2812638\n",
      "0.23437256 0.28105807\n",
      "0.23413806 0.28085342\n",
      "0.23390476 0.2806499\n",
      "0.2336726 0.2804474\n",
      "0.23344155 0.280246\n",
      "0.23321165 0.28004566\n",
      "0.23298289 0.2798464\n",
      "0.23275523 0.27964815\n",
      "0.23252869 0.27945095\n",
      "0.23230323 0.27925482\n",
      "0.23207888 0.27905968\n",
      "0.23185559 0.27886558\n",
      "0.23163341 0.2786725\n",
      "0.23141229 0.2784804\n",
      "0.23119223 0.2782893\n",
      "0.23097318 0.2780992\n",
      "0.23075521 0.2779101\n",
      "0.2305383 0.277722\n",
      "0.2303224 0.2775348\n",
      "0.2301075 0.2773486\n",
      "0.22989365 0.27716333\n",
      "0.22968079 0.27697906\n",
      "0.22946894 0.2767957\n",
      "0.2292581 0.2766133\n",
      "0.2290482 0.2764318\n",
      "0.22883935 0.27625123\n",
      "0.22863144 0.2760716\n",
      "0.22842449 0.27589285\n",
      "0.22821851 0.27571502\n",
      "0.2280135 0.2755381\n",
      "0.22780941 0.2753621\n",
      "0.22760627 0.2751869\n",
      "0.22740407 0.27501267\n",
      "0.2272028 0.27483922\n",
      "0.22700244 0.27466673\n",
      "0.226803 0.274495\n",
      "0.22660449 0.27432424\n",
      "0.22640686 0.27415428\n",
      "0.22621015 0.27398518\n",
      "0.2260143 0.27381688\n",
      "0.22581936 0.27364942\n",
      "0.22562528 0.2734828\n",
      "0.22543208 0.27331704\n",
      "0.22523974 0.27315202\n",
      "0.2250483 0.27298784\n",
      "0.22485767 0.27282453\n",
      "0.22466792 0.27266195\n",
      "0.22447899 0.2725002\n",
      "0.22429094 0.2723392\n",
      "0.22410369 0.272179\n",
      "0.22391729 0.2720196\n",
      "0.2237317 0.27186096\n",
      "0.22354692 0.2717031\n",
      "0.22336297 0.271546\n",
      "0.2231798 0.27138963\n",
      "0.22299747 0.271234\n",
      "0.2228159 0.2710792\n",
      "0.22263514 0.2709251\n",
      "0.22245516 0.27077174\n",
      "0.22227596 0.2706191\n",
      "0.22209756 0.2704672\n",
      "0.22191991 0.27031603\n",
      "0.22174302 0.2701656\n",
      "0.22156692 0.27001587\n",
      "0.22139154 0.26986682\n",
      "0.22121693 0.26971853\n",
      "0.22104305 0.2695709\n",
      "0.22086994 0.26942402\n",
      "0.22069757 0.26927778\n",
      "0.2205259 0.26913226\n",
      "0.22035499 0.2689874\n",
      "0.22018477 0.26884323\n",
      "0.2200153 0.26869974\n",
      "0.21984653 0.2685569\n",
      "0.21967848 0.26841474\n",
      "0.21951112 0.26827323\n",
      "0.21934447 0.26813242\n",
      "0.21917853 0.26799223\n",
      "0.21901327 0.2678527\n",
      "0.21884868 0.26771384\n",
      "0.21868479 0.2675756\n",
      "0.21852158 0.267438\n",
      "0.21835905 0.26730102\n",
      "0.21819717 0.26716468\n",
      "0.21803597 0.267029\n",
      "0.21787542 0.26689392\n",
      "0.21771558 0.26675946\n",
      "0.21755636 0.26662558\n",
      "0.21739778 0.26649237\n",
      "0.21723987 0.26635972\n",
      "0.21708259 0.2662277\n",
      "0.21692595 0.26609626\n",
      "0.21676995 0.26596543\n",
      "0.21661456 0.2658352\n",
      "0.21645984 0.26570556\n",
      "0.2163057 0.2655765\n",
      "0.21615222 0.26544803\n",
      "0.21599932 0.26532015\n",
      "0.21584705 0.2651928\n",
      "0.21569538 0.26506606\n",
      "0.21554434 0.26493987\n",
      "0.21539389 0.26481426\n",
      "0.21524405 0.2646892\n",
      "0.21509479 0.2645647\n",
      "0.21494612 0.26444077\n",
      "0.21479803 0.26431736\n",
      "0.21465054 0.26419455\n",
      "0.21450363 0.26407224\n",
      "0.21435732 0.2639505\n",
      "0.21421154 0.2638293\n",
      "0.21406634 0.2637086\n",
      "0.21392173 0.26358843\n",
      "0.21377765 0.26346883\n",
      "0.21363416 0.26334974\n",
      "0.21349122 0.26323122\n",
      "0.21334882 0.26311314\n",
      "0.21320699 0.2629956\n",
      "0.21306571 0.2628786\n",
      "0.21292496 0.2627621\n",
      "0.21278477 0.26264608\n",
      "0.21264513 0.2625306\n",
      "0.21250598 0.2624156\n",
      "0.2123674 0.26230112\n",
      "0.21222933 0.26218712\n",
      "0.21209179 0.2620736\n",
      "0.21195477 0.2619606\n",
      "0.2118183 0.26184806\n",
      "0.2116823 0.26173604\n",
      "0.21154684 0.2616245\n",
      "0.2114119 0.2615134\n",
      "0.21127746 0.2614028\n",
      "0.21114352 0.26129267\n",
      "0.21101008 0.26118302\n",
      "0.21087717 0.26107383\n",
      "0.21074474 0.26096508\n",
      "0.21061279 0.26085684\n",
      "0.21048135 0.26074907\n",
      "0.21035041 0.26064172\n",
      "0.21021993 0.26053485\n",
      "0.21008995 0.26042843\n",
      "0.20996042 0.26032245\n",
      "0.2098314 0.26021692\n",
      "0.20970286 0.26011184\n",
      "0.20957479 0.26000723\n",
      "0.20944718 0.259903\n",
      "0.20932004 0.25979924\n",
      "0.20919336 0.25969592\n",
      "0.20906717 0.259593\n",
      "0.20894143 0.25949058\n",
      "0.20881614 0.25938857\n",
      "0.2086913 0.25928694\n",
      "0.20856693 0.25918576\n",
      "0.20844302 0.259085\n",
      "0.20831954 0.25898466\n",
      "0.2081965 0.25888476\n",
      "0.20807391 0.25878522\n",
      "0.20795177 0.25868616\n",
      "0.20783006 0.25858748\n",
      "0.20770879 0.25848922\n",
      "0.20758797 0.2583913\n",
      "0.20746754 0.25829384\n",
      "0.20734757 0.25819674\n",
      "0.207228 0.25810012\n",
      "0.2071089 0.25800383\n",
      "0.2069902 0.25790796\n",
      "0.20687193 0.2578125\n",
      "0.20675406 0.25771737\n",
      "0.20663662 0.2576227\n",
      "0.20651959 0.25752836\n",
      "0.20640297 0.25743446\n",
      "0.20628676 0.25734088\n",
      "0.20617093 0.25724775\n"
     ]
    },
    {
     "name": "stdout",
     "output_type": "stream",
     "text": [
      "0.20605557 0.2571549\n",
      "0.20594057 0.25706252\n",
      "0.20582595 0.2569705\n",
      "0.20571178 0.25687882\n",
      "0.20559798 0.2567875\n",
      "0.20548458 0.2566966\n",
      "0.20537157 0.256606\n",
      "0.20525895 0.2565158\n",
      "0.20514673 0.256426\n",
      "0.20503488 0.25633654\n",
      "0.20492342 0.2562474\n",
      "0.20481235 0.25615865\n",
      "0.20470166 0.25607026\n",
      "0.20459136 0.25598222\n",
      "0.20448142 0.2558945\n",
      "0.20437187 0.25580716\n",
      "0.20426267 0.25572014\n",
      "0.20415385 0.2556335\n",
      "0.2040454 0.2555472\n",
      "0.20393732 0.25546122\n",
      "0.2038296 0.25537562\n",
      "0.20372227 0.25529033\n",
      "0.20361528 0.25520536\n",
      "0.20350865 0.25512075\n",
      "0.20340239 0.25503647\n",
      "0.20329647 0.25495252\n",
      "0.20319092 0.2548689\n",
      "0.2030857 0.25478563\n",
      "0.20298086 0.25470266\n"
     ]
    }
   ],
   "source": [
    "# fit parameters\n",
    "# initial parateters\n",
    "theta = jnp.array([1., 1., 1.])\n",
    "n_iterations = 500\n",
    "lr = .1\n",
    "for i in range(n_iterations):\n",
    "    #print(theta)\n",
    "    theta = update(theta, X_train.transpose(), y_train, lr=lr)\n",
    "    print(loss_fn(theta, X_train.transpose(), y_train), loss_fn(theta, X_test.transpose(), y_test))\n",
    "#print(theta)\n"
   ]
  },
  {
   "cell_type": "code",
   "execution_count": 57,
   "metadata": {
    "id": "-3EbI1sUe9FM"
   },
   "outputs": [],
   "source": [
    "#jnp.column_stack((model(theta, X_train.transpose()), y_train))"
   ]
  },
  {
   "cell_type": "code",
   "execution_count": 98,
   "metadata": {
    "id": "qTnVU-ORe9FM",
    "outputId": "da5a2cb5-2f5e-4c7c-f55a-b1538ba50a6b"
   },
   "outputs": [
    {
     "data": {
      "text/html": [
       "<div>\n",
       "<style scoped>\n",
       "    .dataframe tbody tr th:only-of-type {\n",
       "        vertical-align: middle;\n",
       "    }\n",
       "\n",
       "    .dataframe tbody tr th {\n",
       "        vertical-align: top;\n",
       "    }\n",
       "\n",
       "    .dataframe thead th {\n",
       "        text-align: right;\n",
       "    }\n",
       "</style>\n",
       "<table border=\"1\" class=\"dataframe\">\n",
       "  <thead>\n",
       "    <tr style=\"text-align: right;\">\n",
       "      <th></th>\n",
       "      <th>Prevalence</th>\n",
       "      <th>Sensitivity</th>\n",
       "      <th>Specificity</th>\n",
       "      <th>Accuracy</th>\n",
       "      <th>Precision</th>\n",
       "      <th>F1</th>\n",
       "      <th>FPR</th>\n",
       "      <th>MCC</th>\n",
       "      <th>AUC</th>\n",
       "      <th>LogLoss</th>\n",
       "    </tr>\n",
       "  </thead>\n",
       "  <tbody>\n",
       "    <tr>\n",
       "      <th>0</th>\n",
       "      <td>0.5</td>\n",
       "      <td>0.9</td>\n",
       "      <td>0.9714</td>\n",
       "      <td>0.9357</td>\n",
       "      <td>0.9692</td>\n",
       "      <td>0.9333</td>\n",
       "      <td>0.0286</td>\n",
       "      <td>0.8737</td>\n",
       "      <td>0.9855</td>\n",
       "      <td>0.203</td>\n",
       "    </tr>\n",
       "  </tbody>\n",
       "</table>\n",
       "</div>"
      ],
      "text/plain": [
       "   Prevalence  Sensitivity  Specificity  Accuracy  Precision      F1     FPR  \\\n",
       "0         0.5          0.9       0.9714    0.9357     0.9692  0.9333  0.0286   \n",
       "\n",
       "      MCC     AUC  LogLoss  \n",
       "0  0.8737  0.9855    0.203  "
      ]
     },
     "execution_count": 98,
     "metadata": {},
     "output_type": "execute_result"
    }
   ],
   "source": [
    "from ml.ml_utils import  binary_classification_metrics\n",
    "binary_classification_metrics(y_train,\n",
    "                              jnp.round(model(theta, X_train.transpose()), 0),\n",
    "                              model(theta, X_train.transpose()),\n",
    "                              4\n",
    "                             )"
   ]
  },
  {
   "cell_type": "code",
   "execution_count": 99,
   "metadata": {
    "id": "h7oP6shDe9FM",
    "outputId": "02c23dee-cdbe-48eb-b55a-e4f50d997f2d"
   },
   "outputs": [
    {
     "data": {
      "text/html": [
       "<div>\n",
       "<style scoped>\n",
       "    .dataframe tbody tr th:only-of-type {\n",
       "        vertical-align: middle;\n",
       "    }\n",
       "\n",
       "    .dataframe tbody tr th {\n",
       "        vertical-align: top;\n",
       "    }\n",
       "\n",
       "    .dataframe thead th {\n",
       "        text-align: right;\n",
       "    }\n",
       "</style>\n",
       "<table border=\"1\" class=\"dataframe\">\n",
       "  <thead>\n",
       "    <tr style=\"text-align: right;\">\n",
       "      <th></th>\n",
       "      <th>Prevalence</th>\n",
       "      <th>Sensitivity</th>\n",
       "      <th>Specificity</th>\n",
       "      <th>Accuracy</th>\n",
       "      <th>Precision</th>\n",
       "      <th>F1</th>\n",
       "      <th>FPR</th>\n",
       "      <th>MCC</th>\n",
       "      <th>AUC</th>\n",
       "      <th>LogLoss</th>\n",
       "    </tr>\n",
       "  </thead>\n",
       "  <tbody>\n",
       "    <tr>\n",
       "      <th>0</th>\n",
       "      <td>0.5</td>\n",
       "      <td>0.9667</td>\n",
       "      <td>0.9333</td>\n",
       "      <td>0.95</td>\n",
       "      <td>0.9355</td>\n",
       "      <td>0.9508</td>\n",
       "      <td>0.0667</td>\n",
       "      <td>0.9005</td>\n",
       "      <td>0.9656</td>\n",
       "      <td>0.2547</td>\n",
       "    </tr>\n",
       "  </tbody>\n",
       "</table>\n",
       "</div>"
      ],
      "text/plain": [
       "   Prevalence  Sensitivity  Specificity  Accuracy  Precision      F1     FPR  \\\n",
       "0         0.5       0.9667       0.9333      0.95     0.9355  0.9508  0.0667   \n",
       "\n",
       "      MCC     AUC  LogLoss  \n",
       "0  0.9005  0.9656   0.2547  "
      ]
     },
     "execution_count": 99,
     "metadata": {},
     "output_type": "execute_result"
    }
   ],
   "source": [
    "# now for test data\n",
    "binary_classification_metrics(y_test,\n",
    "                              jnp.round(model(theta, X_test.transpose()), 0),\n",
    "                              model(theta, X_test.transpose()),\n",
    "                              4\n",
    "                             )"
   ]
  },
  {
   "cell_type": "markdown",
   "metadata": {
    "id": "FSgPMq1Me9FM"
   },
   "source": [
    "Draw a decision boundary using cutoff of 0.5\n",
    "$$\n",
    "w_1x_1 + w_2x_2 + b = 0, \\newline\n",
    "x_2 = -\\frac{w_1}{w_2}x_1 - \\frac{b}{w_2}\n",
    "$$ "
   ]
  },
  {
   "cell_type": "code",
   "execution_count": 100,
   "metadata": {
    "colab": {
     "base_uri": "https://localhost:8080/",
     "height": 470
    },
    "id": "VIObCU3qe9FM",
    "outputId": "344a513f-42fa-42d8-a41d-c2d8d2b60634"
   },
   "outputs": [
    {
     "data": {
      "text/plain": [
       "<matplotlib.legend.Legend at 0x7f619c54f710>"
      ]
     },
     "execution_count": 100,
     "metadata": {},
     "output_type": "execute_result"
    },
    {
     "data": {
      "image/png": "[encoded data removed]",
      "text/plain": [
       "<Figure size 640x480 with 1 Axes>"
      ]
     },
     "metadata": {},
     "output_type": "display_data"
    }
   ],
   "source": [
    "fig = plt.figure()\n",
    "ax1 = fig.add_subplot(111)\n",
    "\n",
    "ax1.scatter(class1[:, 0], class1[:, 1], s=10, c='b', marker=\"s\", label='class1')\n",
    "ax1.scatter(class2[:, 0], class2[:, 1], s=10, c='r', marker=\"s\", label='class2')\n",
    "x1 = jnp.linspace(.5, 3.5, 50)\n",
    "x2 = ( -theta[0]*x1 - theta[2])/theta[1]\n",
    "ax1.plot(x1, x2, c='g')\n",
    "plt.title('Two classes with a decision boundary.')\n",
    "plt.legend()\n"
   ]
  },
  {
   "cell_type": "code",
   "execution_count": 101,
   "metadata": {
    "id": "Ip9Nr5Noe9FM",
    "outputId": "09086ddb-2450-4bd7-90b3-fffa43231070"
   },
   "outputs": [
    {
     "data": {
      "text/plain": [
       "Array(3.6837006, dtype=float32)"
      ]
     },
     "execution_count": 101,
     "metadata": {},
     "output_type": "execute_result"
    }
   ],
   "source": [
    "theta[2]"
   ]
  },
  {
   "cell_type": "code",
   "execution_count": null,
   "metadata": {
    "id": "9LQbiExqe9FN"
   },
   "outputs": [],
   "source": []
  },
  {
   "cell_type": "markdown",
   "metadata": {
    "id": "vc2KmO3de9FN"
   },
   "source": [
    "### Fully connected neural network."
   ]
  },
  {
   "cell_type": "markdown",
   "metadata": {
    "id": "Mf1_Tm_ee9FN"
   },
   "source": [
    "$x \\in R^n$, an input vector, transformed to a vector of length $m$ via \n",
    "$$\n",
    "x = xW + b, \\newline\n",
    "x = activation\\_function(x),\n",
    "$$\n",
    "where $W \\in R^{n\\times m}, b \\in R^m$.\n",
    "This represents one layer of the network. The final layer transforms to the dimension of the output, and in case of classsification - sigmoid.\n"
   ]
  },
  {
   "cell_type": "code",
   "execution_count": 3,
   "metadata": {
    "id": "PDVc1PGce9FN"
   },
   "outputs": [],
   "source": [
    "# A link to the data is availailable in the following blog post\n",
    "# https://scipython.com/blog/a-shallow-neural-network-for-simple-nonlinear-classification/\n",
    "df = pd.read_csv('../non_linear_class_example/labeled_points.txt', sep=' ',\n",
    "                usecols=[1,3,5], names=['x1', 'x2', 'label'])"
   ]
  },
  {
   "cell_type": "code",
   "execution_count": 4,
   "metadata": {
    "id": "1jxFukGFe9FN",
    "outputId": "c768784e-9557-457e-ad90-0d67ef3ceae8"
   },
   "outputs": [
    {
     "data": {
      "text/html": [
       "<div>\n",
       "<style scoped>\n",
       "    .dataframe tbody tr th:only-of-type {\n",
       "        vertical-align: middle;\n",
       "    }\n",
       "\n",
       "    .dataframe tbody tr th {\n",
       "        vertical-align: top;\n",
       "    }\n",
       "\n",
       "    .dataframe thead th {\n",
       "        text-align: right;\n",
       "    }\n",
       "</style>\n",
       "<table border=\"1\" class=\"dataframe\">\n",
       "  <thead>\n",
       "    <tr style=\"text-align: right;\">\n",
       "      <th></th>\n",
       "      <th>x1</th>\n",
       "      <th>x2</th>\n",
       "      <th>label</th>\n",
       "    </tr>\n",
       "  </thead>\n",
       "  <tbody>\n",
       "    <tr>\n",
       "      <th>0</th>\n",
       "      <td>0.50873</td>\n",
       "      <td>0.08490</td>\n",
       "      <td>1</td>\n",
       "    </tr>\n",
       "    <tr>\n",
       "      <th>1</th>\n",
       "      <td>0.96767</td>\n",
       "      <td>0.96752</td>\n",
       "      <td>1</td>\n",
       "    </tr>\n",
       "    <tr>\n",
       "      <th>2</th>\n",
       "      <td>0.72096</td>\n",
       "      <td>0.90628</td>\n",
       "      <td>1</td>\n",
       "    </tr>\n",
       "    <tr>\n",
       "      <th>3</th>\n",
       "      <td>0.66071</td>\n",
       "      <td>0.32757</td>\n",
       "      <td>1</td>\n",
       "    </tr>\n",
       "    <tr>\n",
       "      <th>4</th>\n",
       "      <td>0.48690</td>\n",
       "      <td>0.58265</td>\n",
       "      <td>0</td>\n",
       "    </tr>\n",
       "  </tbody>\n",
       "</table>\n",
       "</div>"
      ],
      "text/plain": [
       "        x1       x2  label\n",
       "0  0.50873  0.08490      1\n",
       "1  0.96767  0.96752      1\n",
       "2  0.72096  0.90628      1\n",
       "3  0.66071  0.32757      1\n",
       "4  0.48690  0.58265      0"
      ]
     },
     "execution_count": 4,
     "metadata": {},
     "output_type": "execute_result"
    }
   ],
   "source": [
    "df.head()"
   ]
  },
  {
   "cell_type": "code",
   "execution_count": 5,
   "metadata": {
    "id": "hD9-_C_ie9FN",
    "outputId": "e3b5d89d-e3e1-42a3-b440-2330884e3af3"
   },
   "outputs": [
    {
     "data": {
      "text/plain": [
       "<matplotlib.legend.Legend at 0x7fadc1f76b90>"
      ]
     },
     "execution_count": 5,
     "metadata": {},
     "output_type": "execute_result"
    },
    {
     "data": {
      "image/png": "[encoded data removed]",
      "text/plain": [
       "<Figure size 640x480 with 1 Axes>"
      ]
     },
     "metadata": {},
     "output_type": "display_data"
    }
   ],
   "source": [
    "fig = plt.figure()\n",
    "ax1 = fig.add_subplot(111)\n",
    "df_cl1 = df[df.label == 0]\n",
    "df_cl2 = df[df.label == 1]\n",
    "ax1.scatter(df_cl1.x1, df_cl1.x2, s=5, c='b', marker=\"s\", label='class1')\n",
    "ax1.scatter(df_cl2.x1, df_cl2.x2, s=5, c='r', marker=\"s\", label='class2')\n",
    "fig.tight_layout()\n",
    "plt.title('Two classes')\n",
    "plt.legend()\n"
   ]
  },
  {
   "cell_type": "code",
   "execution_count": 6,
   "metadata": {
    "id": "gcziA3tze9FN",
    "outputId": "e7954141-2c31-4d09-8538-b4686eb52cb7"
   },
   "outputs": [
    {
     "name": "stdout",
     "output_type": "stream",
     "text": [
      "(2506, 2)\n",
      "(2506,)\n"
     ]
    }
   ],
   "source": [
    "# \n",
    "x = jnp.array(df[['x1', 'x2']])\n",
    "y = jnp.array(df['label'])\n",
    "print(x.shape)\n",
    "print(y.shape)"
   ]
  },
  {
   "cell_type": "code",
   "execution_count": 8,
   "metadata": {
    "id": "o-aZXiKDe9FO",
    "outputId": "c6f2fd0e-2dd9-430f-fe16-b5743c190774"
   },
   "outputs": [
    {
     "name": "stdout",
     "output_type": "stream",
     "text": [
      "[0.50873 0.0849 ]\n",
      "init inputs with random numbers:\n",
      "dimensions:\n",
      "W: (2, 100)\n",
      "b: (1, 100)\n",
      "W1: (100, 100)\n",
      "b1: (1, 100)\n",
      "w: (100, 1)\n"
     ]
    }
   ],
   "source": [
    "#first point\n",
    "print(x[0])\n",
    "# W dim\n",
    "input_dim = 2\n",
    "hidden_dim = 100\n",
    "key = jax.random.PRNGKey(42)\n",
    "#key, subkey = random.split(key)\n",
    "#print(random.normal(subkey, shape=(5,)))\n",
    "print('init inputs with random numbers:')\n",
    "W = jax.random.normal(key, shape=(input_dim, hidden_dim)) * .01\n",
    "b = jax.random.normal(key, shape=(1, hidden_dim)) * .01\n",
    "W1 = jax.random.normal(key, shape=(hidden_dim, hidden_dim)) * .01\n",
    "b1 = jax.random.normal(key, shape=(1, hidden_dim)) * .01\n",
    "w = jax.random.normal(key, shape=(hidden_dim, 1)) * .01\n",
    "print('dimensions:')\n",
    "print('W:', W.shape)\n",
    "print('b:', b.shape)\n",
    "print('W1:', W1.shape)\n",
    "print('b1:', b1.shape)\n",
    "print('w:', w.shape)\n",
    "#print('model:')\n",
    "#print(model((W, b, W1, b1, w), x[0:10]))\n",
    "#print('loss function:')\n",
    "#print(loss_fn((W, b, W1, b1, w), x[0:10], y[0:10]))\n",
    "#print('gradient dim:')\n",
    "#print(list(map(lambda i: i.shape, grad(loss_fn)((W, b, W1, b1, w), x[0:5], y[0:5]))))"
   ]
  },
  {
   "cell_type": "code",
   "execution_count": 9,
   "metadata": {
    "id": "7xqSv6pge9FO",
    "outputId": "ef877d46-7353-4899-e36a-ac8b2d4e2efe"
   },
   "outputs": [
    {
     "name": "stdout",
     "output_type": "stream",
     "text": [
      "[(1754, 2), (752, 2), (1754,), (752,)]\n",
      "1051 451\n"
     ]
    }
   ],
   "source": [
    "# split the data\n",
    "X_train, X_test, y_train, y_test = train_test_split(\n",
    "    x, \n",
    "    y,\n",
    "    stratify=y,\n",
    "    test_size=0.3, random_state=212\n",
    ")\n",
    "print(list(map(lambda i: i.shape, (X_train, X_test, y_train, y_test))))\n",
    "print(y_train.sum(), y_test.sum())"
   ]
  },
  {
   "cell_type": "markdown",
   "metadata": {
    "id": "587E8wrLe9FO"
   },
   "source": [
    "#### 2-layer nn using optax for optimization"
   ]
  },
  {
   "cell_type": "code",
   "execution_count": 36,
   "metadata": {
    "id": "U6L-nnEqe9FO",
    "outputId": "8c843fbe-2abd-4ced-941b-907afa649e10"
   },
   "outputs": [
    {
     "name": "stdout",
     "output_type": "stream",
     "text": [
      "Dimensions are  2 128 2\n",
      "Dimensions of w1 are  (2, 128)\n",
      "Dimensions of b1 are  (1, 128)\n",
      "Dimensions of w2 are  (128, 128)\n",
      "Dimensions of b2 are  (1, 128)\n",
      "Dimensions of w3 are  (128, 2)\n",
      "Dimensions of b3 are  (1, 2)\n"
     ]
    }
   ],
   "source": [
    "key, w1key, b1key, w2key, b2key, w3key, b3key = jax.random.split(key, 7)\n",
    "num_input = X_train.shape[1]\n",
    "num_hidden1 = 128\n",
    "num_hidden2 = 128\n",
    "num_labels = y_train.max() + 1\n",
    "print('Dimensions are ', num_input, num_hidden1, num_labels)\n",
    "#num_hidden2 = 1024\n",
    "params = dict(\n",
    "    w1 = 1e-2*jax.random.normal(w1key, (num_input, num_hidden1)),\n",
    "    b1 = 1e-2*jax.random.normal(b1key, (1, num_hidden1)),\n",
    "    w2 = 1e-2*jax.random.normal(w2key, (num_hidden1, num_hidden2)),\n",
    "    b2 = 1e-2*jax.random.normal(b2key, (1, num_hidden2)),\n",
    "    w3 = 1e-2*jax.random.normal(w3key, (num_hidden2, num_labels)),\n",
    "    b3 = 1e-2*jax.random.normal(b3key, (1, num_labels)),\n",
    ")\n",
    "for k in params.keys():\n",
    "    print(f'Dimensions of {k} are ', params[k].shape)"
   ]
  },
  {
   "cell_type": "code",
   "execution_count": 37,
   "metadata": {
    "id": "JWGwE2QMe9FO"
   },
   "outputs": [],
   "source": [
    "@jax.jit\n",
    "def net(params, x):\n",
    "    x = jax.nn.relu(x@params[\"w1\"] + params[\"b1\"])\n",
    "    x = jax.nn.relu(x@params[\"w2\"] + params[\"b2\"])\n",
    "    x = x@params[\"w3\"] + params[\"b3\"]\n",
    "#     x = sigmoid(x)\n",
    "    return x"
   ]
  },
  {
   "cell_type": "markdown",
   "metadata": {
    "id": "X5esoZLYAxr6"
   },
   "source": [
    "### Common loss functions"
   ]
  },
  {
   "cell_type": "markdown",
   "metadata": {
    "id": "o8XJLD51Axr6"
   },
   "source": [
    "#### L2 loss or squared loss\n",
    "\n",
    "$$\n",
    "Loss(y, \\hat{y}) = 0.5 * (y -\\hat{y})^2\n",
    "$$"
   ]
  },
  {
   "cell_type": "code",
   "execution_count": 15,
   "metadata": {
    "id": "NKQunpS1Axr7",
    "outputId": "c2c2ee3d-f10f-449e-8df6-02cfcff307be"
   },
   "outputs": [
    {
     "name": "stdout",
     "output_type": "stream",
     "text": [
      "[1.1757147e-03 1.4729156e+00 1.3867368e-01]\n",
      "0.53758836\n"
     ]
    }
   ],
   "source": [
    "import optax._src.loss as optax_loss\n",
    "l2 = optax_loss.l2_loss(jnp.array([1., 2., 3.]), jnp.array([1., 2.,3.]) + jax.random.normal(key, shape=(3,)))\n",
    "print(l2)\n",
    "# the acctual loss function should return the mean\n",
    "print(l2.mean())"
   ]
  },
  {
   "cell_type": "markdown",
   "metadata": {
    "id": "zgCCUR66Axr7"
   },
   "source": [
    "#### Softmax cross entropy"
   ]
  },
  {
   "cell_type": "code",
   "execution_count": 16,
   "metadata": {
    "id": "q9foI8URAxr7",
    "outputId": "bff445ac-7601-4074-c0cb-2f5e387d5382"
   },
   "outputs": [
    {
     "data": {
      "text/plain": [
       "Array([[ 0.01146681, -0.00883568],\n",
       "       [ 0.01149749, -0.0088382 ],\n",
       "       [ 0.01148136, -0.00883772],\n",
       "       [ 0.01147696, -0.00883594],\n",
       "       [ 0.01146699, -0.00883682],\n",
       "       [ 0.01144741, -0.00884022],\n",
       "       [ 0.0114938 , -0.0088306 ],\n",
       "       [ 0.01146762, -0.00883694],\n",
       "       [ 0.01148721, -0.00883548],\n",
       "       [ 0.01145677, -0.00883814]], dtype=float32)"
      ]
     },
     "execution_count": 16,
     "metadata": {},
     "output_type": "execute_result"
    }
   ],
   "source": [
    "net(params, x[0:10])"
   ]
  },
  {
   "cell_type": "code",
   "execution_count": 143,
   "metadata": {
    "id": "3Oo_n-mnAxr7",
    "outputId": "b558eaa0-e04a-43bf-cac3-f7f9440fdbfa"
   },
   "outputs": [
    {
     "data": {
      "text/plain": [
       "Array([1, 1, 1, 1, 0, 0, 1, 1, 1, 0], dtype=int32)"
      ]
     },
     "execution_count": 143,
     "metadata": {},
     "output_type": "execute_result"
    }
   ],
   "source": [
    "y[:10]"
   ]
  },
  {
   "cell_type": "code",
   "execution_count": 144,
   "metadata": {
    "id": "ntCkkyMsAxr7",
    "outputId": "2da8a2f8-ec98-45ff-ff94-ee4c9156f21c"
   },
   "outputs": [
    {
     "data": {
      "text/plain": [
       "Array([[0., 1.],\n",
       "       [0., 1.],\n",
       "       [0., 1.],\n",
       "       [0., 1.],\n",
       "       [1., 0.],\n",
       "       [1., 0.],\n",
       "       [0., 1.],\n",
       "       [0., 1.],\n",
       "       [0., 1.],\n",
       "       [1., 0.]], dtype=float32)"
      ]
     },
     "execution_count": 144,
     "metadata": {},
     "output_type": "execute_result"
    }
   ],
   "source": [
    "jax.nn.one_hot(y[0:10], 2)"
   ]
  },
  {
   "cell_type": "code",
   "execution_count": 17,
   "metadata": {
    "id": "zeD85SJnAxr7",
    "outputId": "89e922d1-f178-4182-ea4a-923b0e1b69d7"
   },
   "outputs": [
    {
     "name": "stdout",
     "output_type": "stream",
     "text": [
      "[0.70334995 0.70336664 0.70335835 0.7033552  0.6830468  0.6830548\n",
      " 0.70336103 0.70335096 0.7033601  0.6830512 ]\n",
      "0.69726557\n"
     ]
    }
   ],
   "source": [
    "xe = optax_loss.softmax_cross_entropy(net(params, x[0:10]), jax.nn.one_hot(y[0:10], 2))\n",
    "print(xe)\n",
    "print(xe.mean())"
   ]
  },
  {
   "cell_type": "code",
   "execution_count": 18,
   "metadata": {
    "id": "1YUDWma8e9FO"
   },
   "outputs": [],
   "source": [
    "# implement\n",
    "@jax.jit\n",
    "def xeloss(x, y):\n",
    "#    _elementwise_xeloss = jax.vmap(lambda x, y: -jax.nn.log_softmax(x)[y])\n",
    "    _elementwise_xeloss = jax.vmap(lambda x, y: -jax.nn.log_softmax(x)[y])\n",
    "    #print(_elementwise_xeloss(x, y))\n",
    "    return _elementwise_xeloss(x, y).mean()"
   ]
  },
  {
   "cell_type": "code",
   "execution_count": 19,
   "metadata": {
    "id": "4FvEhe2te9FP",
    "outputId": "d3f22a94-3631-46bf-f74f-4d260bb3f033"
   },
   "outputs": [
    {
     "name": "stdout",
     "output_type": "stream",
     "text": [
      "model:\n",
      "[[ 0.01146681 -0.00883568]\n",
      " [ 0.01149749 -0.0088382 ]\n",
      " [ 0.01148136 -0.00883772]\n",
      " [ 0.01147696 -0.00883594]\n",
      " [ 0.01146699 -0.00883682]\n",
      " [ 0.01144741 -0.00884022]\n",
      " [ 0.0114938  -0.0088306 ]\n",
      " [ 0.01146762 -0.00883694]\n",
      " [ 0.01148721 -0.00883548]\n",
      " [ 0.01145677 -0.00883814]]\n",
      "loss functions:\n",
      "0.69726557\n"
     ]
    }
   ],
   "source": [
    "print('model:')\n",
    "print(net(params, x[0:10]))\n",
    "print('loss functions:')\n",
    "print(xeloss(net(params, x[0:10]), y[0:10]))\n"
   ]
  },
  {
   "cell_type": "markdown",
   "metadata": {
    "id": "i5Xga9NOAxr7"
   },
   "source": [
    "#### Softmax cross entropy for binary classification"
   ]
  },
  {
   "cell_type": "code",
   "execution_count": 20,
   "metadata": {
    "id": "iUC_VPrUe9FO",
    "outputId": "6ea76d40-577a-42ca-b906-ebbf20999dbf"
   },
   "outputs": [
    {
     "data": {
      "text/plain": [
       "Array(1.3903873, dtype=float32)"
      ]
     },
     "execution_count": 20,
     "metadata": {},
     "output_type": "execute_result"
    }
   ],
   "source": [
    "@jax.jit\n",
    "def sigmoidXEloss(params: optax.Params, batch: jnp.ndarray, labels: jnp.ndarray) -> jnp.ndarray:\n",
    "  y_hat = net(params, batch)\n",
    "  # optax also provides a number of common loss functions.\n",
    "  loss_value = optax.sigmoid_binary_cross_entropy(y_hat, labels).sum(axis=-1)\n",
    "\n",
    "  return loss_value.mean()\n",
    "\n",
    "sigmoidXEloss(params, x[:10], jax.nn.one_hot(y[:10], 2))"
   ]
  },
  {
   "cell_type": "code",
   "execution_count": 21,
   "metadata": {
    "id": "32coBaRbAxr7",
    "outputId": "3bf6ee01-c747-4751-b65c-d656e4a32d13"
   },
   "outputs": [
    {
     "data": {
      "text/plain": [
       "Array(0.69726557, dtype=float32)"
      ]
     },
     "execution_count": 21,
     "metadata": {},
     "output_type": "execute_result"
    }
   ],
   "source": [
    "@jax.jit\n",
    "def softmaxXEloss(params: optax.Params, batch: jnp.ndarray, labels: jnp.ndarray) -> jnp.ndarray:\n",
    "  y_hat = net(params, batch)\n",
    "  # optax also provides a number of common loss functions.\n",
    "  loss_value = optax_loss.softmax_cross_entropy(y_hat, labels)\n",
    "  return loss_value.mean()\n",
    "\n",
    "softmaxXEloss(params, x[:10], jax.nn.one_hot(y[:10], 2))"
   ]
  },
  {
   "cell_type": "code",
   "execution_count": 22,
   "metadata": {
    "id": "-STpYjcje9FP",
    "outputId": "16fbe091-4afa-47ab-9650-eca8e2cfb623"
   },
   "outputs": [
    {
     "data": {
      "text/plain": [
       "Array(30., dtype=float32)"
      ]
     },
     "execution_count": 22,
     "metadata": {},
     "output_type": "execute_result"
    }
   ],
   "source": [
    "@jax.jit\n",
    "def accuracy(x, y):\n",
    "    return 100*(jnp.argmax(x, 1) == y).mean()\n",
    "accuracy(net(params, x[0:10]), y[0:10])"
   ]
  },
  {
   "cell_type": "code",
   "execution_count": 23,
   "metadata": {
    "id": "NJZW7yUZe9FP",
    "outputId": "2d02ed07-7d5a-4ee6-b6c1-57d1596fd949"
   },
   "outputs": [
    {
     "data": {
      "text/plain": [
       "Array(0.69726557, dtype=float32)"
      ]
     },
     "execution_count": 23,
     "metadata": {},
     "output_type": "execute_result"
    }
   ],
   "source": [
    "@jax.jit\n",
    "def lossforward(params, x, y):\n",
    "    x = net(params, x)\n",
    "    loss = xeloss(x, y)\n",
    "    return loss\n",
    "lossforward(params, x[0:10], y[0:10])"
   ]
  },
  {
   "cell_type": "code",
   "execution_count": 24,
   "metadata": {
    "id": "r078GrVfe9FP",
    "outputId": "f0fc0357-e15f-4c99-ecd9-85502764d585"
   },
   "outputs": [
    {
     "name": "stdout",
     "output_type": "stream",
     "text": [
      "[1 1 1 1 0 0 1 1 1 0]\n"
     ]
    },
    {
     "data": {
      "text/plain": [
       "Array([[0., 1.],\n",
       "       [0., 1.],\n",
       "       [0., 1.],\n",
       "       [0., 1.],\n",
       "       [1., 0.],\n",
       "       [1., 0.],\n",
       "       [0., 1.],\n",
       "       [0., 1.],\n",
       "       [0., 1.],\n",
       "       [1., 0.]], dtype=float32)"
      ]
     },
     "execution_count": 24,
     "metadata": {},
     "output_type": "execute_result"
    }
   ],
   "source": [
    "print(y[0:10])\n",
    "jax.nn.one_hot(y[0:10], 2)"
   ]
  },
  {
   "cell_type": "code",
   "execution_count": 25,
   "metadata": {
    "id": "dI1PQR5Ce9FP",
    "outputId": "cf2f5cf1-2f82-4af2-da9f-425dcfcb5990"
   },
   "outputs": [
    {
     "data": {
      "text/plain": [
       "Array(1.3903874, dtype=float32)"
      ]
     },
     "execution_count": 25,
     "metadata": {},
     "output_type": "execute_result"
    }
   ],
   "source": [
    "#import optax\n",
    "optax.sigmoid_binary_cross_entropy(net(params, x[0:10]), jax.nn.one_hot(y[0:10], 2)).sum(axis=-1).mean()"
   ]
  },
  {
   "cell_type": "code",
   "execution_count": 154,
   "metadata": {
    "id": "tOZINWKwe9FP"
   },
   "outputs": [],
   "source": [
    "#print(-jnp.log(sigmoid(net(params, x[0:10]))) * jax.nn.one_hot(y[0:10], 2))\n",
    "#print(-jnp.log(sigmoid(-net(params, x[0:10]))) * (1-jax.nn.one_hot(y[0:10], 2)))\n",
    "#print(-jnp.log(sigmoid(net(params, x[0:10]))) * jax.nn.one_hot(y[0:10], 2) -\n",
    "#    jnp.log(sigmoid(-net(params, x[0:10]))) * (1-jax.nn.one_hot(y[0:10], 2)))\n",
    "#xe = (-jnp.log(sigmoid(net(params, x[0:10]))) * jax.nn.one_hot(y[0:10], 2) -\n",
    "#    jnp.log(sigmoid(-net(params, x[0:10]))) * (1-jax.nn.one_hot(y[0:10], 2)))\n",
    "#print(xe.sum(axis=-1))\n",
    "#xe.sum(axis=-1).mean()"
   ]
  },
  {
   "cell_type": "code",
   "execution_count": 155,
   "metadata": {
    "id": "a1urJ5DWe9FP",
    "outputId": "c79a11a5-0688-40f6-9807-066b2be09e3e"
   },
   "outputs": [
    {
     "data": {
      "text/plain": [
       "Array(-0.6936107, dtype=float32, weak_type=True)"
      ]
     },
     "execution_count": 155,
     "metadata": {},
     "output_type": "execute_result"
    }
   ],
   "source": [
    "jnp.log(sigmoid(-0.00092671))"
   ]
  },
  {
   "cell_type": "code",
   "execution_count": 156,
   "metadata": {
    "id": "2mzpMXtne9FQ",
    "outputId": "7aca5799-e046-45b7-fca8-b3d2bc7095a4"
   },
   "outputs": [
    {
     "data": {
      "text/plain": [
       "Array(-0.6936107, dtype=float32, weak_type=True)"
      ]
     },
     "execution_count": 156,
     "metadata": {},
     "output_type": "execute_result"
    }
   ],
   "source": [
    "jnp.log(jax.nn.sigmoid(-0.00092671))"
   ]
  },
  {
   "cell_type": "code",
   "execution_count": 157,
   "metadata": {
    "id": "5gKCeh6Pe9FQ",
    "outputId": "f2075b09-3e0e-4874-8860-2e824ce3b553"
   },
   "outputs": [
    {
     "data": {
      "text/plain": [
       "Array(-0.6936107, dtype=float32, weak_type=True)"
      ]
     },
     "execution_count": 157,
     "metadata": {},
     "output_type": "execute_result"
    }
   ],
   "source": [
    "jax.nn.log_sigmoid(-0.00092671)"
   ]
  },
  {
   "cell_type": "code",
   "execution_count": 158,
   "metadata": {
    "id": "vl_DPYSAe9FQ",
    "outputId": "a6649344-e20b-4d31-df39-1c739cec2654"
   },
   "outputs": [
    {
     "data": {
      "text/plain": [
       "(1754, 2)"
      ]
     },
     "execution_count": 158,
     "metadata": {},
     "output_type": "execute_result"
    }
   ],
   "source": [
    "X_train.shape"
   ]
  },
  {
   "cell_type": "code",
   "execution_count": 38,
   "metadata": {
    "id": "tMlHuNw1e9FQ",
    "outputId": "b9b5e5ab-f018-47c5-96fb-848a7dda3726"
   },
   "outputs": [
    {
     "name": "stdout",
     "output_type": "stream",
     "text": [
      "step 0, loss: 0.6914153099060059\n",
      "step 100, loss: 0.3371897041797638\n",
      "step 200, loss: 0.23597250878810883\n",
      "step 300, loss: 0.19311030209064484\n",
      "step 400, loss: 0.17671062052249908\n"
     ]
    }
   ],
   "source": [
    "# optimizer\n",
    "# import optax\n",
    "# learning_rate = 0.001\n",
    "batch_size = 500\n",
    "train_size = X_train.shape[0]\n",
    "num_steps = 500\n",
    "def fit(params: optax.Params, optimizer: optax.GradientTransformation) -> optax.Params:\n",
    "    opt_state = optimizer.init(params)\n",
    "\n",
    "    @jax.jit\n",
    "    def step(params, opt_state, batch, labels):\n",
    "        loss_value, grads = jax.value_and_grad(softmaxXEloss)(params, batch, labels)\n",
    "        updates, opt_state = optimizer.update(grads, opt_state, params)\n",
    "        params = optax.apply_updates(params, updates)\n",
    "        return params, opt_state, loss_value\n",
    "    key = jax.random.PRNGKey(42)\n",
    "    for i in range(num_steps):\n",
    "        # draw a batch randomly from training set\n",
    "        key, key1 = jax.random.split(key)\n",
    "        idxs = jax.random.randint(key1, (batch_size,), 0, train_size)\n",
    "        x = X_train[idxs]\n",
    "        y = jax.nn.one_hot(y_train[idxs], 2)\n",
    "\n",
    "        params, opt_state, loss_value = step(params, opt_state, x, y)\n",
    "        if i % 100 == 0:\n",
    "          print(f'step {i}, loss: {loss_value}')\n",
    "\n",
    "    return params\n",
    "\n",
    "# Finally, we can fit our parametrized function using the Adam optimizer\n",
    "# provided by optax.\n",
    "optimizer = optax.adam(learning_rate=1e-1)\n",
    "params = fit(params, optimizer)\n"
   ]
  },
  {
   "cell_type": "code",
   "execution_count": 27,
   "metadata": {
    "id": "jmkzfVIxe9FQ",
    "outputId": "77988331-5695-4e30-d846-7ead408a1df2"
   },
   "outputs": [
    {
     "data": {
      "text/plain": [
       "Array(0.67345995, dtype=float32)"
      ]
     },
     "execution_count": 27,
     "metadata": {},
     "output_type": "execute_result"
    }
   ],
   "source": [
    "#print(params)\n",
    "softmaxXEloss(params, X_train, jax.nn.one_hot(y_train, 2))"
   ]
  },
  {
   "cell_type": "code",
   "execution_count": 28,
   "metadata": {
    "id": "x8JIUMAFe9FQ",
    "outputId": "eca0a281-532c-4869-f073-a43d12859a73"
   },
   "outputs": [
    {
     "data": {
      "text/plain": [
       "Array([0.21850298, 0.21850298, 0.21850298, ..., 0.21850298, 0.21850298,\n",
       "       0.21850298], dtype=float32)"
      ]
     },
     "execution_count": 28,
     "metadata": {},
     "output_type": "execute_result"
    }
   ],
   "source": [
    "net(params, X_train)[:, 1] #, jax.nn.one_hot(y_train, 2))"
   ]
  },
  {
   "cell_type": "code",
   "execution_count": 29,
   "metadata": {
    "id": "V5PAh8oye9FQ",
    "outputId": "620d1e67-4d40-408f-abb8-a131e3640221"
   },
   "outputs": [
    {
     "data": {
      "text/plain": [
       "Array([1., 1., 1., ..., 1., 1., 1.], dtype=float32)"
      ]
     },
     "execution_count": 29,
     "metadata": {},
     "output_type": "execute_result"
    }
   ],
   "source": [
    "jnp.round(jax.nn.sigmoid(net(params, X_train)[:, 1]),0)"
   ]
  },
  {
   "cell_type": "code",
   "execution_count": 30,
   "metadata": {
    "id": "PVdR-A6GAxr8",
    "outputId": "17e08ccf-0b25-42f7-b475-57b0fad1d140"
   },
   "outputs": [
    {
     "data": {
      "text/plain": [
       "Array([1., 1., 1., ..., 1., 1., 1.], dtype=float32)"
      ]
     },
     "execution_count": 30,
     "metadata": {},
     "output_type": "execute_result"
    }
   ],
   "source": [
    "jnp.round(jax.nn.softmax(net(params, X_train)),0)[:, 1]"
   ]
  },
  {
   "cell_type": "code",
   "execution_count": 39,
   "metadata": {
    "id": "HlHi65E8e9FR",
    "outputId": "28d93cf3-d177-4ae9-a0d9-65c554e52896"
   },
   "outputs": [
    {
     "data": {
      "text/html": [
       "<div>\n",
       "<style scoped>\n",
       "    .dataframe tbody tr th:only-of-type {\n",
       "        vertical-align: middle;\n",
       "    }\n",
       "\n",
       "    .dataframe tbody tr th {\n",
       "        vertical-align: top;\n",
       "    }\n",
       "\n",
       "    .dataframe thead th {\n",
       "        text-align: right;\n",
       "    }\n",
       "</style>\n",
       "<table border=\"1\" class=\"dataframe\">\n",
       "  <thead>\n",
       "    <tr style=\"text-align: right;\">\n",
       "      <th></th>\n",
       "      <th>Prevalence</th>\n",
       "      <th>Sensitivity</th>\n",
       "      <th>Specificity</th>\n",
       "      <th>Accuracy</th>\n",
       "      <th>Precision</th>\n",
       "      <th>F1</th>\n",
       "      <th>FPR</th>\n",
       "      <th>MCC</th>\n",
       "      <th>AUC</th>\n",
       "      <th>LogLoss</th>\n",
       "    </tr>\n",
       "  </thead>\n",
       "  <tbody>\n",
       "    <tr>\n",
       "      <th>0</th>\n",
       "      <td>0.5992</td>\n",
       "      <td>0.9467</td>\n",
       "      <td>0.9331</td>\n",
       "      <td>0.9413</td>\n",
       "      <td>0.9549</td>\n",
       "      <td>0.9508</td>\n",
       "      <td>0.0669</td>\n",
       "      <td>0.8781</td>\n",
       "      <td>0.9833</td>\n",
       "      <td>0.2043</td>\n",
       "    </tr>\n",
       "  </tbody>\n",
       "</table>\n",
       "</div>"
      ],
      "text/plain": [
       "   Prevalence  Sensitivity  Specificity  Accuracy  Precision      F1     FPR  \\\n",
       "0      0.5992       0.9467       0.9331    0.9413     0.9549  0.9508  0.0669   \n",
       "\n",
       "      MCC     AUC  LogLoss  \n",
       "0  0.8781  0.9833   0.2043  "
      ]
     },
     "execution_count": 39,
     "metadata": {},
     "output_type": "execute_result"
    }
   ],
   "source": [
    "# performance metrics on training set\n",
    "binary_classification_metrics(y_train,\n",
    "                              jnp.round(jax.nn.sigmoid(net(params, X_train)[:, 1]),0),\n",
    "                              jax.nn.sigmoid(net(params, X_train)[:, 1]),\n",
    "                              4\n",
    "                             )"
   ]
  },
  {
   "cell_type": "code",
   "execution_count": 41,
   "metadata": {
    "id": "KShQCNrAe9FR",
    "outputId": "90c8c9db-2a10-440e-acd3-05627023ce61"
   },
   "outputs": [
    {
     "data": {
      "text/html": [
       "<div>\n",
       "<style scoped>\n",
       "    .dataframe tbody tr th:only-of-type {\n",
       "        vertical-align: middle;\n",
       "    }\n",
       "\n",
       "    .dataframe tbody tr th {\n",
       "        vertical-align: top;\n",
       "    }\n",
       "\n",
       "    .dataframe thead th {\n",
       "        text-align: right;\n",
       "    }\n",
       "</style>\n",
       "<table border=\"1\" class=\"dataframe\">\n",
       "  <thead>\n",
       "    <tr style=\"text-align: right;\">\n",
       "      <th></th>\n",
       "      <th>Prevalence</th>\n",
       "      <th>Sensitivity</th>\n",
       "      <th>Specificity</th>\n",
       "      <th>Accuracy</th>\n",
       "      <th>Precision</th>\n",
       "      <th>F1</th>\n",
       "      <th>FPR</th>\n",
       "      <th>MCC</th>\n",
       "      <th>AUC</th>\n",
       "      <th>LogLoss</th>\n",
       "    </tr>\n",
       "  </thead>\n",
       "  <tbody>\n",
       "    <tr>\n",
       "      <th>0</th>\n",
       "      <td>0.5997</td>\n",
       "      <td>0.929</td>\n",
       "      <td>0.9435</td>\n",
       "      <td>0.9348</td>\n",
       "      <td>0.961</td>\n",
       "      <td>0.9448</td>\n",
       "      <td>0.0565</td>\n",
       "      <td>0.8661</td>\n",
       "      <td>0.9793</td>\n",
       "      <td>0.2093</td>\n",
       "    </tr>\n",
       "  </tbody>\n",
       "</table>\n",
       "</div>"
      ],
      "text/plain": [
       "   Prevalence  Sensitivity  Specificity  Accuracy  Precision      F1     FPR  \\\n",
       "0      0.5997        0.929       0.9435    0.9348      0.961  0.9448  0.0565   \n",
       "\n",
       "      MCC     AUC  LogLoss  \n",
       "0  0.8661  0.9793   0.2093  "
      ]
     },
     "execution_count": 41,
     "metadata": {},
     "output_type": "execute_result"
    }
   ],
   "source": [
    "# performance metrics on validation set\n",
    "binary_classification_metrics(y_test,\n",
    "                              jnp.round(jax.nn.sigmoid(net(params, X_test)[:, 1]),0),\n",
    "                              jax.nn.sigmoid(net(params, X_test)[:, 1]),\n",
    "                              4\n",
    "                             )"
   ]
  },
  {
   "cell_type": "code",
   "execution_count": null,
   "metadata": {
    "id": "mF738tWIe9FR"
   },
   "outputs": [],
   "source": []
  },
  {
   "cell_type": "code",
   "execution_count": null,
   "metadata": {
    "id": "5TlSqvyHe9FR"
   },
   "outputs": [],
   "source": [
    "# @jax.jit\n",
    "# def train_step(step, optim_state, x, y):\n",
    "#     params = optim_params(optim_state)\n",
    "#     loss, grads = jax.value_and_grad(lossforward)(params, x, y)\n",
    "#     optim_state = optim_update(step, grads, optim_state)\n",
    "#     return loss, optim_state"
   ]
  },
  {
   "cell_type": "code",
   "execution_count": null,
   "metadata": {
    "id": "6euc4znZe9FR"
   },
   "outputs": [],
   "source": [
    "# history = []\n",
    "# batch_size = 100\n",
    "# num_steps = 2000\n",
    "# for step in range(num_steps):\n",
    "#     if step%200 == 0 or step == num_steps - 1:\n",
    "#         valid_logits = forward(optim_params(optim_state), valid_values)\n",
    "#         valid_loss = xeloss(valid_logits, valid_labels)\n",
    "#         valid_accuracy = accuracy(valid_logits, valid_labels)\n",
    "#         history.append((step, valid_loss, valid_accuracy))\n",
    "#         print(f\"Step {step:5.0f}\\t Valid. Acc. = {valid_accuracy:5.2f}\")\n",
    "#     prng, key = jax.random.split(prng)\n",
    "#     idxs = jax.random.randint(key, (batch_size,), 0, train_size)\n",
    "#     x = train_values[idxs]\n",
    "#     y = train_labels[idxs]\n",
    "#     loss, optim_state = train_step(step, optim_state, x, y)"
   ]
  },
  {
   "cell_type": "code",
   "execution_count": null,
   "metadata": {
    "id": "5M7diHfoe9FR"
   },
   "outputs": [],
   "source": []
  },
  {
   "cell_type": "code",
   "execution_count": null,
   "metadata": {
    "id": "ygXEJIK2e9FR"
   },
   "outputs": [],
   "source": []
  },
  {
   "cell_type": "code",
   "execution_count": 7,
   "metadata": {
    "id": "IUaBHlJ-e9FS"
   },
   "outputs": [],
   "source": []
  },
  {
   "cell_type": "markdown",
   "metadata": {
    "id": "I-Snmy0qFARc"
   },
   "source": [
    "Reading financial data."
   ]
  },
  {
   "cell_type": "code",
   "execution_count": 15,
   "metadata": {
    "id": "-OYHEZjFEy2b"
   },
   "outputs": [],
   "source": [
    "# from pandas_datareader import wb\n",
    "# from datetime import datetime\n",
    "# import plotly.graph_objects as go\n",
    "# import pandas_datareader.data as web\n"
   ]
  },
  {
   "cell_type": "code",
   "execution_count": 16,
   "metadata": {
    "id": "eaHPyWw2FIiM"
   },
   "outputs": [],
   "source": [
    "from pandas_datareader.nasdaq_trader import get_nasdaq_symbols\n",
    "symbols = get_nasdaq_symbols()"
   ]
  },
  {
   "cell_type": "code",
   "execution_count": 17,
   "metadata": {
    "colab": {
     "base_uri": "https://localhost:8080/"
    },
    "id": "b2KE1t-REy-7",
    "outputId": "33a3f88b-f467-439f-fa1f-dab74738d800"
   },
   "outputs": [
    {
     "data": {
      "text/plain": [
       "Nasdaq Traded                            True\n",
       "Security Name       Apple Inc. - Common Stock\n",
       "Listing Exchange                            Q\n",
       "Market Category                             Q\n",
       "ETF                                     False\n",
       "Round Lot Size                          100.0\n",
       "Test Issue                              False\n",
       "Financial Status                            N\n",
       "CQS Symbol                                NaN\n",
       "NASDAQ Symbol                            AAPL\n",
       "NextShares                              False\n",
       "Name: AAPL, dtype: object"
      ]
     },
     "execution_count": 17,
     "metadata": {},
     "output_type": "execute_result"
    }
   ],
   "source": [
    "symbols.loc['AAPL']"
   ]
  },
  {
   "cell_type": "code",
   "execution_count": 18,
   "metadata": {
    "id": "t6aUzNQcGBOH"
   },
   "outputs": [],
   "source": [
    "#stock = 'MSFT'\n",
    "symbol = 'WIKI/AAPL'  # or 'AAPL.US'\n",
    "start = datetime(2019, 1, 1)\n",
    "\n",
    "#df = web.DataReader(symbol, data_source='quandl', start=start)\n",
    "df = web.DataReader('^DJI', 'stooq')\n",
    "df = web.DataReader('^SPX', 'stooq')"
   ]
  },
  {
   "cell_type": "code",
   "execution_count": 20,
   "metadata": {
    "colab": {
     "base_uri": "https://localhost:8080/",
     "height": 455
    },
    "id": "KBiKiyJlEzDz",
    "outputId": "d3d0b48a-4f15-46cc-96d6-6e288b7d6a87"
   },
   "outputs": [
    {
     "data": {
      "text/html": [
       "<div>\n",
       "<style scoped>\n",
       "    .dataframe tbody tr th:only-of-type {\n",
       "        vertical-align: middle;\n",
       "    }\n",
       "\n",
       "    .dataframe tbody tr th {\n",
       "        vertical-align: top;\n",
       "    }\n",
       "\n",
       "    .dataframe thead th {\n",
       "        text-align: right;\n",
       "    }\n",
       "</style>\n",
       "<table border=\"1\" class=\"dataframe\">\n",
       "  <thead>\n",
       "    <tr style=\"text-align: right;\">\n",
       "      <th></th>\n",
       "      <th>Open</th>\n",
       "      <th>High</th>\n",
       "      <th>Low</th>\n",
       "      <th>Close</th>\n",
       "      <th>Volume</th>\n",
       "    </tr>\n",
       "    <tr>\n",
       "      <th>Date</th>\n",
       "      <th></th>\n",
       "      <th></th>\n",
       "      <th></th>\n",
       "      <th></th>\n",
       "      <th></th>\n",
       "    </tr>\n",
       "  </thead>\n",
       "  <tbody>\n",
       "    <tr>\n",
       "      <th>2023-05-26</th>\n",
       "      <td>4156.16</td>\n",
       "      <td>4212.87</td>\n",
       "      <td>4156.16</td>\n",
       "      <td>4205.45</td>\n",
       "      <td>2.589576e+09</td>\n",
       "    </tr>\n",
       "    <tr>\n",
       "      <th>2023-05-25</th>\n",
       "      <td>4155.71</td>\n",
       "      <td>4165.74</td>\n",
       "      <td>4129.73</td>\n",
       "      <td>4151.28</td>\n",
       "      <td>2.827445e+09</td>\n",
       "    </tr>\n",
       "    <tr>\n",
       "      <th>2023-05-24</th>\n",
       "      <td>4132.96</td>\n",
       "      <td>4132.96</td>\n",
       "      <td>4103.98</td>\n",
       "      <td>4115.24</td>\n",
       "      <td>2.295841e+09</td>\n",
       "    </tr>\n",
       "    <tr>\n",
       "      <th>2023-05-23</th>\n",
       "      <td>4176.80</td>\n",
       "      <td>4185.68</td>\n",
       "      <td>4142.54</td>\n",
       "      <td>4145.58</td>\n",
       "      <td>2.437496e+09</td>\n",
       "    </tr>\n",
       "    <tr>\n",
       "      <th>2023-05-22</th>\n",
       "      <td>4190.78</td>\n",
       "      <td>4209.22</td>\n",
       "      <td>4179.68</td>\n",
       "      <td>4192.63</td>\n",
       "      <td>2.222521e+09</td>\n",
       "    </tr>\n",
       "    <tr>\n",
       "      <th>...</th>\n",
       "      <td>...</td>\n",
       "      <td>...</td>\n",
       "      <td>...</td>\n",
       "      <td>...</td>\n",
       "      <td>...</td>\n",
       "    </tr>\n",
       "    <tr>\n",
       "      <th>2018-06-04</th>\n",
       "      <td>2741.67</td>\n",
       "      <td>2749.16</td>\n",
       "      <td>2740.54</td>\n",
       "      <td>2746.87</td>\n",
       "      <td>1.875839e+09</td>\n",
       "    </tr>\n",
       "    <tr>\n",
       "      <th>2018-06-01</th>\n",
       "      <td>2718.70</td>\n",
       "      <td>2736.93</td>\n",
       "      <td>2718.70</td>\n",
       "      <td>2734.62</td>\n",
       "      <td>2.046739e+09</td>\n",
       "    </tr>\n",
       "    <tr>\n",
       "      <th>2018-05-31</th>\n",
       "      <td>2720.98</td>\n",
       "      <td>2722.50</td>\n",
       "      <td>2700.68</td>\n",
       "      <td>2705.27</td>\n",
       "      <td>2.352983e+09</td>\n",
       "    </tr>\n",
       "    <tr>\n",
       "      <th>2018-05-30</th>\n",
       "      <td>2702.43</td>\n",
       "      <td>2729.34</td>\n",
       "      <td>2702.43</td>\n",
       "      <td>2724.01</td>\n",
       "      <td>1.978361e+09</td>\n",
       "    </tr>\n",
       "    <tr>\n",
       "      <th>2018-05-29</th>\n",
       "      <td>2705.11</td>\n",
       "      <td>2710.67</td>\n",
       "      <td>2676.81</td>\n",
       "      <td>2689.86</td>\n",
       "      <td>2.076050e+09</td>\n",
       "    </tr>\n",
       "  </tbody>\n",
       "</table>\n",
       "<p>1259 rows × 5 columns</p>\n",
       "</div>"
      ],
      "text/plain": [
       "               Open     High      Low    Close        Volume\n",
       "Date                                                        \n",
       "2023-05-26  4156.16  4212.87  4156.16  4205.45  2.589576e+09\n",
       "2023-05-25  4155.71  4165.74  4129.73  4151.28  2.827445e+09\n",
       "2023-05-24  4132.96  4132.96  4103.98  4115.24  2.295841e+09\n",
       "2023-05-23  4176.80  4185.68  4142.54  4145.58  2.437496e+09\n",
       "2023-05-22  4190.78  4209.22  4179.68  4192.63  2.222521e+09\n",
       "...             ...      ...      ...      ...           ...\n",
       "2018-06-04  2741.67  2749.16  2740.54  2746.87  1.875839e+09\n",
       "2018-06-01  2718.70  2736.93  2718.70  2734.62  2.046739e+09\n",
       "2018-05-31  2720.98  2722.50  2700.68  2705.27  2.352983e+09\n",
       "2018-05-30  2702.43  2729.34  2702.43  2724.01  1.978361e+09\n",
       "2018-05-29  2705.11  2710.67  2676.81  2689.86  2.076050e+09\n",
       "\n",
       "[1259 rows x 5 columns]"
      ]
     },
     "execution_count": 20,
     "metadata": {},
     "output_type": "execute_result"
    }
   ],
   "source": [
    "df"
   ]
  },
  {
   "cell_type": "markdown",
   "metadata": {},
   "source": [
    "#### Use NASDAQ API"
   ]
  },
  {
   "cell_type": "code",
   "execution_count": 21,
   "metadata": {},
   "outputs": [],
   "source": [
    "oil = nasdaqdatalink.get('NSE/OIL')"
   ]
  },
  {
   "cell_type": "code",
   "execution_count": 25,
   "metadata": {},
   "outputs": [
    {
     "data": {
      "text/html": [
       "<div>\n",
       "<style scoped>\n",
       "    .dataframe tbody tr th:only-of-type {\n",
       "        vertical-align: middle;\n",
       "    }\n",
       "\n",
       "    .dataframe tbody tr th {\n",
       "        vertical-align: top;\n",
       "    }\n",
       "\n",
       "    .dataframe thead th {\n",
       "        text-align: right;\n",
       "    }\n",
       "</style>\n",
       "<table border=\"1\" class=\"dataframe\">\n",
       "  <thead>\n",
       "    <tr style=\"text-align: right;\">\n",
       "      <th></th>\n",
       "      <th>Open</th>\n",
       "      <th>High</th>\n",
       "      <th>Low</th>\n",
       "      <th>Last</th>\n",
       "      <th>Close</th>\n",
       "      <th>Total Trade Quantity</th>\n",
       "      <th>Turnover (Lacs)</th>\n",
       "    </tr>\n",
       "    <tr>\n",
       "      <th>Date</th>\n",
       "      <th></th>\n",
       "      <th></th>\n",
       "      <th></th>\n",
       "      <th></th>\n",
       "      <th></th>\n",
       "      <th></th>\n",
       "      <th></th>\n",
       "    </tr>\n",
       "  </thead>\n",
       "  <tbody>\n",
       "    <tr>\n",
       "      <th>2009-09-30</th>\n",
       "      <td>1096.0</td>\n",
       "      <td>1156.7</td>\n",
       "      <td>1090.0</td>\n",
       "      <td>1135.00</td>\n",
       "      <td>1141.20</td>\n",
       "      <td>19748012.0</td>\n",
       "      <td>223877.07</td>\n",
       "    </tr>\n",
       "    <tr>\n",
       "      <th>2009-10-01</th>\n",
       "      <td>1102.0</td>\n",
       "      <td>1173.7</td>\n",
       "      <td>1102.0</td>\n",
       "      <td>1167.00</td>\n",
       "      <td>1166.35</td>\n",
       "      <td>3074254.0</td>\n",
       "      <td>35463.78</td>\n",
       "    </tr>\n",
       "    <tr>\n",
       "      <th>2009-10-05</th>\n",
       "      <td>1152.0</td>\n",
       "      <td>1165.9</td>\n",
       "      <td>1136.6</td>\n",
       "      <td>1143.00</td>\n",
       "      <td>1140.55</td>\n",
       "      <td>919832.0</td>\n",
       "      <td>10581.13</td>\n",
       "    </tr>\n",
       "    <tr>\n",
       "      <th>2009-10-06</th>\n",
       "      <td>1149.8</td>\n",
       "      <td>1157.2</td>\n",
       "      <td>1132.1</td>\n",
       "      <td>1143.30</td>\n",
       "      <td>1144.90</td>\n",
       "      <td>627957.0</td>\n",
       "      <td>7185.90</td>\n",
       "    </tr>\n",
       "    <tr>\n",
       "      <th>2009-10-07</th>\n",
       "      <td>1153.8</td>\n",
       "      <td>1160.7</td>\n",
       "      <td>1140.0</td>\n",
       "      <td>1141.45</td>\n",
       "      <td>1141.60</td>\n",
       "      <td>698216.0</td>\n",
       "      <td>8032.98</td>\n",
       "    </tr>\n",
       "  </tbody>\n",
       "</table>\n",
       "</div>"
      ],
      "text/plain": [
       "              Open    High     Low     Last    Close  Total Trade Quantity  \\\n",
       "Date                                                                         \n",
       "2009-09-30  1096.0  1156.7  1090.0  1135.00  1141.20            19748012.0   \n",
       "2009-10-01  1102.0  1173.7  1102.0  1167.00  1166.35             3074254.0   \n",
       "2009-10-05  1152.0  1165.9  1136.6  1143.00  1140.55              919832.0   \n",
       "2009-10-06  1149.8  1157.2  1132.1  1143.30  1144.90              627957.0   \n",
       "2009-10-07  1153.8  1160.7  1140.0  1141.45  1141.60              698216.0   \n",
       "\n",
       "            Turnover (Lacs)  \n",
       "Date                         \n",
       "2009-09-30        223877.07  \n",
       "2009-10-01         35463.78  \n",
       "2009-10-05         10581.13  \n",
       "2009-10-06          7185.90  \n",
       "2009-10-07          8032.98  "
      ]
     },
     "execution_count": 25,
     "metadata": {},
     "output_type": "execute_result"
    }
   ],
   "source": [
    "oil.head()"
   ]
  },
  {
   "cell_type": "code",
   "execution_count": 26,
   "metadata": {},
   "outputs": [],
   "source": [
    "\n",
    "data_oil = nasdaqdatalink.get(\"EIA/PET_RWTC_D\")"
   ]
  },
  {
   "cell_type": "code",
   "execution_count": 28,
   "metadata": {},
   "outputs": [
    {
     "data": {
      "text/html": [
       "<div>\n",
       "<style scoped>\n",
       "    .dataframe tbody tr th:only-of-type {\n",
       "        vertical-align: middle;\n",
       "    }\n",
       "\n",
       "    .dataframe tbody tr th {\n",
       "        vertical-align: top;\n",
       "    }\n",
       "\n",
       "    .dataframe thead th {\n",
       "        text-align: right;\n",
       "    }\n",
       "</style>\n",
       "<table border=\"1\" class=\"dataframe\">\n",
       "  <thead>\n",
       "    <tr style=\"text-align: right;\">\n",
       "      <th></th>\n",
       "      <th>Value</th>\n",
       "    </tr>\n",
       "    <tr>\n",
       "      <th>Date</th>\n",
       "      <th></th>\n",
       "    </tr>\n",
       "  </thead>\n",
       "  <tbody>\n",
       "    <tr>\n",
       "      <th>2022-02-02</th>\n",
       "      <td>88.16</td>\n",
       "    </tr>\n",
       "    <tr>\n",
       "      <th>2022-02-03</th>\n",
       "      <td>90.17</td>\n",
       "    </tr>\n",
       "    <tr>\n",
       "      <th>2022-02-04</th>\n",
       "      <td>92.27</td>\n",
       "    </tr>\n",
       "    <tr>\n",
       "      <th>2022-02-07</th>\n",
       "      <td>91.25</td>\n",
       "    </tr>\n",
       "    <tr>\n",
       "      <th>2022-02-08</th>\n",
       "      <td>89.32</td>\n",
       "    </tr>\n",
       "  </tbody>\n",
       "</table>\n",
       "</div>"
      ],
      "text/plain": [
       "            Value\n",
       "Date             \n",
       "2022-02-02  88.16\n",
       "2022-02-03  90.17\n",
       "2022-02-04  92.27\n",
       "2022-02-07  91.25\n",
       "2022-02-08  89.32"
      ]
     },
     "execution_count": 28,
     "metadata": {},
     "output_type": "execute_result"
    }
   ],
   "source": [
    "data_oil.tail()"
   ]
  },
  {
   "cell_type": "markdown",
   "metadata": {},
   "source": [
    "#### Use yfinance\n",
    "pip install yfinance"
   ]
  },
  {
   "cell_type": "code",
   "execution_count": 29,
   "metadata": {},
   "outputs": [],
   "source": [
    "import yfinance as yf"
   ]
  },
  {
   "cell_type": "code",
   "execution_count": 330,
   "metadata": {},
   "outputs": [
    {
     "name": "stdout",
     "output_type": "stream",
     "text": [
      "{'address1': '1600 Amphitheatre Parkway', 'city': 'Mountain View', 'state': 'CA', 'zip': '94043', 'country': 'United States', 'phone': '650 253 0000', 'website': 'https://www.abc.xyz', 'industry': 'Internet Content & Information', 'industryDisp': 'Internet Content & Information', 'sector': 'Communication Services', 'longBusinessSummary': 'Alphabet Inc. offers various products and platforms in the United States, Europe, the Middle East, Africa, the Asia-Pacific, Canada, and Latin America. It operates through Google Services, Google Cloud, and Other Bets segments. The Google Services segment provides products and services, including ads, Android, Chrome, hardware, Gmail, Google Drive, Google Maps, Google Photos, Google Play, Search, and YouTube. It is also involved in the sale of apps and in-app purchases and digital content in the Google Play store; and Fitbit wearable devices, Google Nest home products, Pixel phones, and other devices, as well as in the provision of YouTube non-advertising services. The Google Cloud segment offers infrastructure, cybersecurity, data, analytics, AI, and machine learning, and other services; Google Workspace that include cloud-based collaboration tools for enterprises, such as Gmail, Docs, Drive, Calendar, and Meet; and other services for enterprise customers. The Other Bets segment sells health technology and internet services. The company was founded in 1998 and is headquartered in Mountain View, California.', 'fullTimeEmployees': 190711, 'companyOfficers': [{'maxAge': 1, 'name': 'Mr. Sundar  Pichai', 'age': 49, 'title': 'CEO & Director', 'yearBorn': 1973, 'fiscalYear': 2022, 'totalPay': 7947461, 'exercisedValue': 39618220, 'unexercisedValue': 0}, {'maxAge': 1, 'name': 'Mr. Lawrence Edward Page', 'age': 49, 'title': 'Co-Founder & Director', 'yearBorn': 1973, 'fiscalYear': 2022, 'totalPay': 1, 'exercisedValue': 0, 'unexercisedValue': 0}, {'maxAge': 1, 'name': 'Mr. Sergey  Brin', 'age': 48, 'title': 'Co-Founder & Director', 'yearBorn': 1974, 'fiscalYear': 2022, 'totalPay': 1, 'exercisedValue': 0, 'unexercisedValue': 0}, {'maxAge': 1, 'name': 'Ms. Ruth M. Porat', 'age': 64, 'title': 'Sr. VP & CFO', 'yearBorn': 1958, 'fiscalYear': 2022, 'totalPay': 1790046, 'exercisedValue': 0, 'unexercisedValue': 0}, {'maxAge': 1, 'name': 'Mr. J. Kent Walker', 'age': 61, 'title': 'Pres of Global Affairs, Chief Legal Officer & Company Sec.', 'yearBorn': 1961, 'fiscalYear': 2022, 'totalPay': 1787541, 'exercisedValue': 0, 'unexercisedValue': 0}, {'maxAge': 1, 'name': 'Dr. Prabhakar  Raghavan', 'age': 61, 'title': 'Sr. VP of Knowledge and Information - Google', 'yearBorn': 1961, 'fiscalYear': 2022, 'totalPay': 1785329, 'exercisedValue': 0, 'unexercisedValue': 0}, {'maxAge': 1, 'name': 'Mr. Philipp  Schindler', 'age': 51, 'title': 'Sr. VP & Chief Bus. Officer of Google', 'yearBorn': 1971, 'fiscalYear': 2022, 'totalPay': 1785814, 'exercisedValue': 0, 'unexercisedValue': 0}, {'maxAge': 1, 'name': \"Ms. Amie Thuener O'Toole\", 'age': 47, 'title': 'Chief Accounting Officer & VP', 'yearBorn': 1975, 'exercisedValue': 0, 'unexercisedValue': 0}, {'maxAge': 1, 'name': 'Ms. Ellen  West', 'title': 'VP of Investor Relations', 'exercisedValue': 0, 'unexercisedValue': 0}, {'maxAge': 1, 'name': 'Ms. Fiona Clare Cicconi', 'age': 56, 'title': 'Chief People Officer', 'yearBorn': 1966, 'exercisedValue': 0, 'unexercisedValue': 0}], 'auditRisk': 8, 'boardRisk': 2, 'compensationRisk': 10, 'shareHolderRightsRisk': 10, 'overallRisk': 10, 'governanceEpochDate': 1688169600, 'compensationAsOfEpochDate': 1672444800, 'maxAge': 86400, 'priceHint': 2, 'previousClose': 120.93, 'open': 120.89, 'dayLow': 120.09, 'dayHigh': 121.75, 'regularMarketPreviousClose': 120.93, 'regularMarketOpen': 120.89, 'regularMarketDayLow': 120.09, 'regularMarketDayHigh': 121.75, 'payoutRatio': 0.0, 'beta': 1.052595, 'trailingPE': 26.697777, 'forwardPE': 19.28411, 'volume': 20997665, 'regularMarketVolume': 20997665, 'averageVolume': 25421974, 'averageVolume10days': 21251950, 'averageDailyVolume10Day': 21251950, 'bid': 120.01, 'ask': 120.23, 'bidSize': 1100, 'askSize': 900, 'marketCap': 1519855075328, 'fiftyTwoWeekLow': 83.45, 'fiftyTwoWeekHigh': 129.55, 'priceToSalesTrailing12Months': 5.340095, 'fiftyDayAverage': 119.2299, 'twoHundredDayAverage': 102.76792, 'trailingAnnualDividendRate': 0.0, 'trailingAnnualDividendYield': 0.0, 'currency': 'USD', 'enterpriseValue': 1471424102400, 'profitMargins': 0.20584999, 'floatShares': 10958907670, 'sharesOutstanding': 5873999872, 'sharesShort': 31178685, 'sharesShortPriorMonth': 35633260, 'sharesShortPreviousMonthDate': 1684108800, 'dateShortInterest': 1686787200, 'sharesPercentSharesOut': 0.0025, 'heldPercentInsiders': 0.00014999999, 'heldPercentInstitutions': 0.64203, 'shortRatio': 1.2, 'impliedSharesOutstanding': 0, 'bookValue': 20.507, 'priceToBook': 5.858487, 'lastFiscalYearEnd': 1672444800, 'nextFiscalYearEnd': 1703980800, 'mostRecentQuarter': 1680220800, 'earningsQuarterlyGrowth': -0.084, 'netIncomeToCommon': 58587000832, 'trailingEps': 4.5, 'forwardEps': 6.23, 'pegRatio': 1.29, 'lastSplitFactor': '20:1', 'lastSplitDate': 1658102400, 'enterpriseToRevenue': 5.17, 'enterpriseToEbitda': 16.817, '52WeekChange': 3.1045556, 'SandP52WeekChange': 14.127123, 'exchange': 'NMS', 'quoteType': 'EQUITY', 'symbol': 'GOOG', 'underlyingSymbol': 'GOOG', 'shortName': 'Alphabet Inc.', 'longName': 'Alphabet Inc.', 'firstTradeDateEpochUtc': 1092922200, 'timeZoneFullName': 'America/New_York', 'timeZoneShortName': 'EDT', 'uuid': 'ee8cce8c-2475-31c0-8436-ecdf889cbfbd', 'messageBoardId': 'finmb_29096', 'gmtOffSetMilliseconds': -14400000, 'currentPrice': 120.14, 'targetHighPrice': 145.0, 'targetLowPrice': 120.0, 'targetMeanPrice': 130.44, 'targetMedianPrice': 130.0, 'recommendationMean': 1.6, 'recommendationKey': 'buy', 'numberOfAnalystOpinions': 9, 'totalCash': 115101999104, 'totalCashPerShare': 9.065, 'ebitda': 87495999488, 'totalDebt': 29493000192, 'quickRatio': 2.195, 'currentRatio': 2.353, 'totalRevenue': 284612001792, 'debtToEquity': 11.305, 'revenuePerShare': 21.965, 'returnOnAssets': 0.12415, 'returnOnEquity': 0.22757, 'grossProfits': 156633000000, 'freeCashflow': 55862624256, 'operatingCashflow': 89898000384, 'earningsGrowth': -0.047, 'revenueGrowth': 0.026, 'grossMargins': 0.55302, 'ebitdaMargins': 0.30742002, 'operatingMargins': 0.25355, 'financialCurrency': 'USD', 'trailingPegRatio': 1.4879}\n",
      "Ticker: GOOG\n",
      "Market Price: 120.14\n",
      "Previous Close Price: 120.93\n"
     ]
    }
   ],
   "source": [
    "ticker = yf.Ticker('GOOG').info\n",
    "print(ticker)\n",
    "#print(ticker.keys())\n",
    "market_price = ticker['currentPrice']\n",
    "previous_close_price = ticker['regularMarketPreviousClose']\n",
    "print('Ticker: GOOG')\n",
    "print('Market Price:', market_price)\n",
    "print('Previous Close Price:', previous_close_price)"
   ]
  },
  {
   "cell_type": "code",
   "execution_count": 331,
   "metadata": {},
   "outputs": [
    {
     "name": "stdout",
     "output_type": "stream",
     "text": [
      "[*********************100%***********************]  1 of 1 completed\n",
      "                  Open        High         Low       Close   Adj Close  \\\n",
      "Date                                                                     \n",
      "2023-05-22  418.640015  420.390015  417.350006  418.790009  417.240143   \n",
      "2023-05-23  417.079987  418.720001  413.679993  414.089996  412.557526   \n",
      "2023-05-24  412.420013  412.820007  409.880005  411.089996  409.568604   \n",
      "2023-05-25  414.739990  416.160004  412.410004  414.649994  413.115448   \n",
      "2023-05-26  415.329987  420.769989  415.250000  420.019989  418.465546   \n",
      "\n",
      "              Volume  \n",
      "Date                  \n",
      "2023-05-22  60745400  \n",
      "2023-05-23  86383500  \n",
      "2023-05-24  89213700  \n",
      "2023-05-25  90961600  \n",
      "2023-05-26  93830000  \n"
     ]
    }
   ],
   "source": [
    "# Importing the yfinance package\n",
    "import yfinance as yf\n",
    " \n",
    "# Set the start and end date\n",
    "start_date = '2020-01-01'\n",
    "end_date = '2023-05-29'\n",
    " \n",
    "# Set the ticker\n",
    "ticker = 'SPY'\n",
    " \n",
    "# Get the data\n",
    "data = yf.download(ticker, start_date, end_date)\n",
    " \n",
    "# Print the last 5 rows\n",
    "print(data.tail())"
   ]
  },
  {
   "cell_type": "code",
   "execution_count": 332,
   "metadata": {},
   "outputs": [
    {
     "name": "stdout",
     "output_type": "stream",
     "text": [
      "[*********************100%***********************]  5 of 5 completed\n",
      "            Adj Close                                  Close           \\\n",
      "                  AGG DBC VIXY        VTI   ^VIX         AGG DBC VIXY   \n",
      "Date                                                                    \n",
      "2006-01-03  59.070999 NaN  NaN  45.043743  11.14  100.639999 NaN  NaN   \n",
      "2006-01-04  59.211884 NaN  NaN  45.371269  11.37  100.879997 NaN  NaN   \n",
      "2006-01-05  59.211884 NaN  NaN  45.342484  11.31  100.879997 NaN  NaN   \n",
      "2006-01-06  59.076881 NaN  NaN  45.788788  11.00  100.650002 NaN  NaN   \n",
      "2006-01-09  59.141422 NaN  NaN  45.957935  11.13  100.760002 NaN  NaN   \n",
      "\n",
      "                              ...        Open                             \\\n",
      "                  VTI   ^VIX  ...         AGG DBC VIXY        VTI   ^VIX   \n",
      "Date                          ...                                          \n",
      "2006-01-03  62.575001  11.14  ...  100.470001 NaN  NaN  61.855000  12.25   \n",
      "2006-01-04  63.029999  11.37  ...  100.690002 NaN  NaN  62.660000  11.22   \n",
      "2006-01-05  62.990002  11.31  ...  100.820000 NaN  NaN  62.985001  11.43   \n",
      "2006-01-06  63.610001  11.00  ...  100.879997 NaN  NaN  63.415001  11.23   \n",
      "2006-01-09  63.845001  11.13  ...  100.739998 NaN  NaN  63.665001  11.35   \n",
      "\n",
      "            Volume                         \n",
      "               AGG DBC VIXY      VTI ^VIX  \n",
      "Date                                       \n",
      "2006-01-03  170600 NaN  NaN  1769800    0  \n",
      "2006-01-04  284500 NaN  NaN   763600    0  \n",
      "2006-01-05  203100 NaN  NaN   258200    0  \n",
      "2006-01-06  201100 NaN  NaN   436000    0  \n",
      "2006-01-09  170500 NaN  NaN   689600    0  \n",
      "\n",
      "[5 rows x 30 columns]\n",
      "            Adj Close                                               Close  \\\n",
      "                  AGG        DBC       VIXY         VTI   ^VIX        AGG   \n",
      "Date                                                                        \n",
      "2023-06-30  97.695000  22.700001  24.959999  220.279999  13.59  97.949997   \n",
      "2023-07-03  97.580002  22.700001  24.760000  220.940002  13.57  97.580002   \n",
      "2023-07-05  97.139999  22.840000  25.240000  220.270004  14.18  97.139999   \n",
      "2023-07-06  96.510002  22.790001  26.570000  218.309998  15.44  96.510002   \n",
      "2023-07-07  96.529999  22.980000  25.969999  218.039993  14.83  96.529999   \n",
      "\n",
      "                                                     ...       Open  \\\n",
      "                  DBC       VIXY         VTI   ^VIX  ...        AGG   \n",
      "Date                                                 ...              \n",
      "2023-06-30  22.700001  24.959999  220.279999  13.59  ...  97.860001   \n",
      "2023-07-03  22.700001  24.760000  220.940002  13.57  ...  97.820000   \n",
      "2023-07-05  22.840000  25.240000  220.270004  14.18  ...  97.510002   \n",
      "2023-07-06  22.790001  26.570000  218.309998  15.44  ...  96.559998   \n",
      "2023-07-07  22.980000  25.969999  218.039993  14.83  ...  96.419998   \n",
      "\n",
      "                                                       Volume             \\\n",
      "                  DBC       VIXY         VTI   ^VIX       AGG        DBC   \n",
      "Date                                                                       \n",
      "2023-06-30  22.610001  25.090000  219.610001  13.51  13417300   942700.0   \n",
      "2023-07-03  22.799999  24.850000  220.279999  13.85   3691600   902200.0   \n",
      "2023-07-05  22.910000  25.219999  220.080002  14.19   6046200  2849100.0   \n",
      "2023-07-06  22.820000  26.430000  218.539993  14.85   9534200   629100.0   \n",
      "2023-07-07  22.799999  26.879999  217.910004  15.97   8310500   807800.0   \n",
      "\n",
      "                                     \n",
      "                 VIXY      VTI ^VIX  \n",
      "Date                                 \n",
      "2023-06-30  1245300.0  3443600    0  \n",
      "2023-07-03   576100.0  2423600    0  \n",
      "2023-07-05  1505300.0  3341400    0  \n",
      "2023-07-06  6535600.0  3404300    0  \n",
      "2023-07-07  3041500.0  2771700    0  \n",
      "\n",
      "[5 rows x 30 columns]\n"
     ]
    }
   ],
   "source": [
    "start_date = '2006-01-01'\n",
    "end_date = '2023-12-31'\n",
    " \n",
    "# Add multiple space separated tickers here\n",
    "ticker = 'VTI AGG DBC VIXY ^VIX'\n",
    "data = yf.download(ticker, start_date, end_date)\n",
    "print(data.head())\n",
    "print(data.tail())"
   ]
  },
  {
   "cell_type": "code",
   "execution_count": null,
   "metadata": {},
   "outputs": [],
   "source": []
  },
  {
   "cell_type": "code",
   "execution_count": null,
   "metadata": {},
   "outputs": [],
   "source": []
  },
  {
   "cell_type": "code",
   "execution_count": null,
   "metadata": {},
   "outputs": [],
   "source": []
  },
  {
   "cell_type": "code",
   "execution_count": 19,
   "metadata": {
    "id": "jUn0S07YGUfc"
   },
   "outputs": [],
   "source": [
    "# Functionality needed\n",
    "# Prepare data, train-test split.\n",
    "# Iputs are N securuties with daily data of length k.\n",
    "# Each asset is described by kxm matrix, where each one of the m features decribes something about the asset.\n",
    "# Price might be enough (or should be enough), but we can provide returns, highs, lows, ranges, volume, options data etc.\n",
    "# X will be of dimension kxmN\n",
    "# y could be a range, a TS of price, vol ..."
   ]
  },
  {
   "cell_type": "code",
   "execution_count": null,
   "metadata": {},
   "outputs": [],
   "source": []
  },
  {
   "cell_type": "markdown",
   "metadata": {},
   "source": [
    "### Let's implement a data loader for TS in JAX"
   ]
  },
  {
   "cell_type": "code",
   "execution_count": 390,
   "metadata": {},
   "outputs": [
    {
     "name": "stdout",
     "output_type": "stream",
     "text": [
      "[*********************100%***********************]  4 of 4 completed\n",
      "            Adj Close                                    Close              \\\n",
      "                  QQQ         SPY        TLT   ^VIX        QQQ         SPY   \n",
      "Date                                                                         \n",
      "2013-01-02  61.144379  120.399696  92.908348  14.68  67.199997  146.059998   \n",
      "2013-01-03  60.825920  120.127655  91.649414  14.56  66.849998  145.729996   \n",
      "2013-01-04  60.625755  120.655197  92.006828  13.83  66.629997  146.369995   \n",
      "2013-01-07  60.643974  120.325500  92.045746  13.79  66.650002  145.970001   \n",
      "2013-01-08  60.525658  119.979271  92.651871  13.62  66.519997  145.550003   \n",
      "\n",
      "                                    High              ...         Low         \\\n",
      "                   TLT   ^VIX        QQQ         SPY  ...         TLT   ^VIX   \n",
      "Date                                                  ...                      \n",
      "2013-01-02  119.559998  14.68  67.230003  146.149994  ...  119.410004  14.60   \n",
      "2013-01-03  117.940002  14.56  67.339996  146.369995  ...  117.900002  14.24   \n",
      "2013-01-04  118.400002  13.83  66.879997  146.610001  ...  117.360001  13.64   \n",
      "2013-01-07  118.449997  13.79  66.760002  146.110001  ...  118.000000  13.71   \n",
      "2013-01-08  119.230003  13.62  66.820000  145.910004  ...  118.820000  13.62   \n",
      "\n",
      "                 Open                                   Volume             \\\n",
      "                  QQQ         SPY         TLT   ^VIX       QQQ        SPY   \n",
      "Date                                                                        \n",
      "2013-01-02  66.730003  145.110001  119.760002  15.24  70695900  192059000   \n",
      "2013-01-03  67.199997  145.990005  119.379997  14.77  47366500  144761800   \n",
      "2013-01-04  66.879997  145.970001  117.660004  14.23  33972500  116817700   \n",
      "2013-01-07  66.459999  145.850006  118.370003  14.53  26766200  110002500   \n",
      "2013-01-08  66.639999  145.710007  119.040001  13.88  28734900  121265100   \n",
      "\n",
      "                           \n",
      "                 TLT ^VIX  \n",
      "Date                       \n",
      "2013-01-02   7472700    0  \n",
      "2013-01-03  10004300    0  \n",
      "2013-01-04   9574600    0  \n",
      "2013-01-07   4193100    0  \n",
      "2013-01-08   4380900    0  \n",
      "\n",
      "[5 rows x 24 columns]\n",
      "             Adj Close                                      Close              \\\n",
      "                   QQQ         SPY         TLT   ^VIX         QQQ         SPY   \n",
      "Date                                                                            \n",
      "2023-07-03  370.290009  443.790009  102.080002  13.57  370.290009  443.790009   \n",
      "2023-07-05  370.279999  443.130005  101.110001  14.18  370.279999  443.130005   \n",
      "2023-07-06  367.459991  439.660004   99.680000  15.44  367.459991  439.660004   \n",
      "2023-07-07  366.239990  438.549988   99.080002  14.83  366.239990  438.549988   \n",
      "2023-07-10  366.359985  439.660004   99.209999  15.07  366.359985  439.660004   \n",
      "\n",
      "                                     High              ...         Low         \\\n",
      "                   TLT   ^VIX         QQQ         SPY  ...         TLT   ^VIX   \n",
      "Date                                                   ...                      \n",
      "2023-07-03  102.080002  13.57  370.929993  444.079987  ...  102.059998  13.47   \n",
      "2023-07-05  101.110001  14.18  372.010010  443.890015  ...  100.739998  14.05   \n",
      "2023-07-06   99.680000  15.44  367.910004  440.100006  ...   99.470001  14.79   \n",
      "2023-07-07   99.080002  14.83  370.480011  442.640015  ...   98.989998  14.33   \n",
      "2023-07-10   99.209999  15.07  367.049988  439.829987  ...   98.849998  15.04   \n",
      "\n",
      "                  Open                                   Volume            \\\n",
      "                   QQQ         SPY         TLT   ^VIX       QQQ       SPY   \n",
      "Date                                                                        \n",
      "2023-07-03  370.070007  442.920013  102.839996  13.85  19432900  32793400   \n",
      "2023-07-05  368.700012  441.910004  101.889999  14.19  34460900  58418400   \n",
      "2023-07-06  366.510010  439.420013  100.199997  14.85  49374700  80658300   \n",
      "2023-07-07  367.230011  438.630005   99.180000  15.97  47083200  86076100   \n",
      "2023-07-10  365.959991  438.179993   98.860001  16.08  48377123  62155844   \n",
      "\n",
      "                           \n",
      "                 TLT ^VIX  \n",
      "Date                       \n",
      "2023-07-03  16011800    0  \n",
      "2023-07-05  28170300    0  \n",
      "2023-07-06  41375700    0  \n",
      "2023-07-07  28979600    0  \n",
      "2023-07-10  24649576    0  \n",
      "\n",
      "[5 rows x 24 columns]\n"
     ]
    }
   ],
   "source": [
    "# create dataset\n",
    "start_date = '2013-01-01'\n",
    "end_date = '2023-12-31'\n",
    "tickers = 'SPY ^VIX TLT QQQ'\n",
    "\n",
    "data = yf.download(tickers, start_date, end_date)\n",
    "print(data.head())\n",
    "print(data.tail())\n",
    "#data.isnull().sum()"
   ]
  },
  {
   "cell_type": "code",
   "execution_count": 391,
   "metadata": {},
   "outputs": [
    {
     "data": {
      "text/plain": [
       "MultiIndex([('Adj Close',  'QQQ'),\n",
       "            ('Adj Close',  'SPY'),\n",
       "            ('Adj Close',  'TLT'),\n",
       "            ('Adj Close', '^VIX'),\n",
       "            (    'Close',  'QQQ'),\n",
       "            (    'Close',  'SPY'),\n",
       "            (    'Close',  'TLT'),\n",
       "            (    'Close', '^VIX'),\n",
       "            (     'High',  'QQQ'),\n",
       "            (     'High',  'SPY'),\n",
       "            (     'High',  'TLT'),\n",
       "            (     'High', '^VIX'),\n",
       "            (      'Low',  'QQQ'),\n",
       "            (      'Low',  'SPY'),\n",
       "            (      'Low',  'TLT'),\n",
       "            (      'Low', '^VIX'),\n",
       "            (     'Open',  'QQQ'),\n",
       "            (     'Open',  'SPY'),\n",
       "            (     'Open',  'TLT'),\n",
       "            (     'Open', '^VIX'),\n",
       "            (   'Volume',  'QQQ'),\n",
       "            (   'Volume',  'SPY'),\n",
       "            (   'Volume',  'TLT'),\n",
       "            (   'Volume', '^VIX')],\n",
       "           )"
      ]
     },
     "execution_count": 391,
     "metadata": {},
     "output_type": "execute_result"
    }
   ],
   "source": [
    "data.columns"
   ]
  },
  {
   "cell_type": "code",
   "execution_count": 392,
   "metadata": {},
   "outputs": [
    {
     "name": "stdout",
     "output_type": "stream",
     "text": [
      "[('Adj Close', 'SPY'), ('Adj Close', '^VIX'), ('Adj Close', 'TLT'), ('Adj Close', 'QQQ')]\n"
     ]
    },
    {
     "data": {
      "text/html": [
       "<div>\n",
       "<style scoped>\n",
       "    .dataframe tbody tr th:only-of-type {\n",
       "        vertical-align: middle;\n",
       "    }\n",
       "\n",
       "    .dataframe tbody tr th {\n",
       "        vertical-align: top;\n",
       "    }\n",
       "\n",
       "    .dataframe thead tr th {\n",
       "        text-align: left;\n",
       "    }\n",
       "\n",
       "    .dataframe thead tr:last-of-type th {\n",
       "        text-align: right;\n",
       "    }\n",
       "</style>\n",
       "<table border=\"1\" class=\"dataframe\">\n",
       "  <thead>\n",
       "    <tr>\n",
       "      <th></th>\n",
       "      <th colspan=\"4\" halign=\"left\">Adj Close</th>\n",
       "    </tr>\n",
       "    <tr>\n",
       "      <th></th>\n",
       "      <th>SPY</th>\n",
       "      <th>^VIX</th>\n",
       "      <th>TLT</th>\n",
       "      <th>QQQ</th>\n",
       "    </tr>\n",
       "    <tr>\n",
       "      <th>Date</th>\n",
       "      <th></th>\n",
       "      <th></th>\n",
       "      <th></th>\n",
       "      <th></th>\n",
       "    </tr>\n",
       "  </thead>\n",
       "  <tbody>\n",
       "    <tr>\n",
       "      <th>2013-01-02</th>\n",
       "      <td>120.399696</td>\n",
       "      <td>14.68</td>\n",
       "      <td>92.908348</td>\n",
       "      <td>61.144379</td>\n",
       "    </tr>\n",
       "    <tr>\n",
       "      <th>2013-01-03</th>\n",
       "      <td>120.127655</td>\n",
       "      <td>14.56</td>\n",
       "      <td>91.649414</td>\n",
       "      <td>60.825920</td>\n",
       "    </tr>\n",
       "    <tr>\n",
       "      <th>2013-01-04</th>\n",
       "      <td>120.655197</td>\n",
       "      <td>13.83</td>\n",
       "      <td>92.006828</td>\n",
       "      <td>60.625755</td>\n",
       "    </tr>\n",
       "    <tr>\n",
       "      <th>2013-01-07</th>\n",
       "      <td>120.325500</td>\n",
       "      <td>13.79</td>\n",
       "      <td>92.045746</td>\n",
       "      <td>60.643974</td>\n",
       "    </tr>\n",
       "    <tr>\n",
       "      <th>2013-01-08</th>\n",
       "      <td>119.979271</td>\n",
       "      <td>13.62</td>\n",
       "      <td>92.651871</td>\n",
       "      <td>60.525658</td>\n",
       "    </tr>\n",
       "    <tr>\n",
       "      <th>...</th>\n",
       "      <td>...</td>\n",
       "      <td>...</td>\n",
       "      <td>...</td>\n",
       "      <td>...</td>\n",
       "    </tr>\n",
       "    <tr>\n",
       "      <th>2023-07-03</th>\n",
       "      <td>443.790009</td>\n",
       "      <td>13.57</td>\n",
       "      <td>102.080002</td>\n",
       "      <td>370.290009</td>\n",
       "    </tr>\n",
       "    <tr>\n",
       "      <th>2023-07-05</th>\n",
       "      <td>443.130005</td>\n",
       "      <td>14.18</td>\n",
       "      <td>101.110001</td>\n",
       "      <td>370.279999</td>\n",
       "    </tr>\n",
       "    <tr>\n",
       "      <th>2023-07-06</th>\n",
       "      <td>439.660004</td>\n",
       "      <td>15.44</td>\n",
       "      <td>99.680000</td>\n",
       "      <td>367.459991</td>\n",
       "    </tr>\n",
       "    <tr>\n",
       "      <th>2023-07-07</th>\n",
       "      <td>438.549988</td>\n",
       "      <td>14.83</td>\n",
       "      <td>99.080002</td>\n",
       "      <td>366.239990</td>\n",
       "    </tr>\n",
       "    <tr>\n",
       "      <th>2023-07-10</th>\n",
       "      <td>439.660004</td>\n",
       "      <td>15.07</td>\n",
       "      <td>99.209999</td>\n",
       "      <td>366.359985</td>\n",
       "    </tr>\n",
       "  </tbody>\n",
       "</table>\n",
       "<p>2647 rows × 4 columns</p>\n",
       "</div>"
      ],
      "text/plain": [
       "             Adj Close                               \n",
       "                   SPY   ^VIX         TLT         QQQ\n",
       "Date                                                 \n",
       "2013-01-02  120.399696  14.68   92.908348   61.144379\n",
       "2013-01-03  120.127655  14.56   91.649414   60.825920\n",
       "2013-01-04  120.655197  13.83   92.006828   60.625755\n",
       "2013-01-07  120.325500  13.79   92.045746   60.643974\n",
       "2013-01-08  119.979271  13.62   92.651871   60.525658\n",
       "...                ...    ...         ...         ...\n",
       "2023-07-03  443.790009  13.57  102.080002  370.290009\n",
       "2023-07-05  443.130005  14.18  101.110001  370.279999\n",
       "2023-07-06  439.660004  15.44   99.680000  367.459991\n",
       "2023-07-07  438.549988  14.83   99.080002  366.239990\n",
       "2023-07-10  439.660004  15.07   99.209999  366.359985\n",
       "\n",
       "[2647 rows x 4 columns]"
      ]
     },
     "execution_count": 392,
     "metadata": {},
     "output_type": "execute_result"
    }
   ],
   "source": [
    "clmns = [('Adj Close', i) for i in tickers.split()]\n",
    "print(clmns)\n",
    "data[clmns]"
   ]
  },
  {
   "cell_type": "code",
   "execution_count": 393,
   "metadata": {},
   "outputs": [],
   "source": [
    "# add returns\n",
    "for col in clmns:\n",
    "    data[('Ret', col[1])] = data[col]/data[col].shift(1)"
   ]
  },
  {
   "cell_type": "code",
   "execution_count": 394,
   "metadata": {},
   "outputs": [
    {
     "data": {
      "text/html": [
       "<div>\n",
       "<style scoped>\n",
       "    .dataframe tbody tr th:only-of-type {\n",
       "        vertical-align: middle;\n",
       "    }\n",
       "\n",
       "    .dataframe tbody tr th {\n",
       "        vertical-align: top;\n",
       "    }\n",
       "\n",
       "    .dataframe thead tr th {\n",
       "        text-align: left;\n",
       "    }\n",
       "\n",
       "    .dataframe thead tr:last-of-type th {\n",
       "        text-align: right;\n",
       "    }\n",
       "</style>\n",
       "<table border=\"1\" class=\"dataframe\">\n",
       "  <thead>\n",
       "    <tr>\n",
       "      <th></th>\n",
       "      <th>Adj Close</th>\n",
       "      <th>Ret</th>\n",
       "      <th>Adj Close</th>\n",
       "      <th>Ret</th>\n",
       "    </tr>\n",
       "    <tr>\n",
       "      <th></th>\n",
       "      <th>SPY</th>\n",
       "      <th>SPY</th>\n",
       "      <th>^VIX</th>\n",
       "      <th>^VIX</th>\n",
       "    </tr>\n",
       "    <tr>\n",
       "      <th>Date</th>\n",
       "      <th></th>\n",
       "      <th></th>\n",
       "      <th></th>\n",
       "      <th></th>\n",
       "    </tr>\n",
       "  </thead>\n",
       "  <tbody>\n",
       "    <tr>\n",
       "      <th>2023-06-26</th>\n",
       "      <td>431.440002</td>\n",
       "      <td>0.995914</td>\n",
       "      <td>14.25</td>\n",
       "      <td>1.060268</td>\n",
       "    </tr>\n",
       "    <tr>\n",
       "      <th>2023-06-27</th>\n",
       "      <td>436.170013</td>\n",
       "      <td>1.010963</td>\n",
       "      <td>13.74</td>\n",
       "      <td>0.964211</td>\n",
       "    </tr>\n",
       "    <tr>\n",
       "      <th>2023-06-28</th>\n",
       "      <td>436.390015</td>\n",
       "      <td>1.000504</td>\n",
       "      <td>13.43</td>\n",
       "      <td>0.977438</td>\n",
       "    </tr>\n",
       "    <tr>\n",
       "      <th>2023-06-29</th>\n",
       "      <td>438.109985</td>\n",
       "      <td>1.003941</td>\n",
       "      <td>13.54</td>\n",
       "      <td>1.008191</td>\n",
       "    </tr>\n",
       "    <tr>\n",
       "      <th>2023-06-30</th>\n",
       "      <td>443.279999</td>\n",
       "      <td>1.011801</td>\n",
       "      <td>13.59</td>\n",
       "      <td>1.003693</td>\n",
       "    </tr>\n",
       "    <tr>\n",
       "      <th>2023-07-03</th>\n",
       "      <td>443.790009</td>\n",
       "      <td>1.001151</td>\n",
       "      <td>13.57</td>\n",
       "      <td>0.998528</td>\n",
       "    </tr>\n",
       "    <tr>\n",
       "      <th>2023-07-05</th>\n",
       "      <td>443.130005</td>\n",
       "      <td>0.998513</td>\n",
       "      <td>14.18</td>\n",
       "      <td>1.044952</td>\n",
       "    </tr>\n",
       "    <tr>\n",
       "      <th>2023-07-06</th>\n",
       "      <td>439.660004</td>\n",
       "      <td>0.992169</td>\n",
       "      <td>15.44</td>\n",
       "      <td>1.088857</td>\n",
       "    </tr>\n",
       "    <tr>\n",
       "      <th>2023-07-07</th>\n",
       "      <td>438.549988</td>\n",
       "      <td>0.997475</td>\n",
       "      <td>14.83</td>\n",
       "      <td>0.960492</td>\n",
       "    </tr>\n",
       "    <tr>\n",
       "      <th>2023-07-10</th>\n",
       "      <td>439.660004</td>\n",
       "      <td>1.002531</td>\n",
       "      <td>15.07</td>\n",
       "      <td>1.016183</td>\n",
       "    </tr>\n",
       "  </tbody>\n",
       "</table>\n",
       "</div>"
      ],
      "text/plain": [
       "             Adj Close       Ret Adj Close       Ret\n",
       "                   SPY       SPY      ^VIX      ^VIX\n",
       "Date                                                \n",
       "2023-06-26  431.440002  0.995914     14.25  1.060268\n",
       "2023-06-27  436.170013  1.010963     13.74  0.964211\n",
       "2023-06-28  436.390015  1.000504     13.43  0.977438\n",
       "2023-06-29  438.109985  1.003941     13.54  1.008191\n",
       "2023-06-30  443.279999  1.011801     13.59  1.003693\n",
       "2023-07-03  443.790009  1.001151     13.57  0.998528\n",
       "2023-07-05  443.130005  0.998513     14.18  1.044952\n",
       "2023-07-06  439.660004  0.992169     15.44  1.088857\n",
       "2023-07-07  438.549988  0.997475     14.83  0.960492\n",
       "2023-07-10  439.660004  1.002531     15.07  1.016183"
      ]
     },
     "execution_count": 394,
     "metadata": {},
     "output_type": "execute_result"
    }
   ],
   "source": [
    "data[[('Adj Close', 'SPY'), ('Ret', 'SPY'), ('Adj Close', '^VIX'), ('Ret', '^VIX')]].tail(10)"
   ]
  },
  {
   "cell_type": "code",
   "execution_count": null,
   "metadata": {},
   "outputs": [],
   "source": []
  },
  {
   "cell_type": "markdown",
   "metadata": {},
   "source": [
    "#### Prepare data frame with X and y and use a generic dataloader to iterate. "
   ]
  },
  {
   "cell_type": "code",
   "execution_count": 45,
   "metadata": {},
   "outputs": [],
   "source": [
    "# predict hh & ll in the next N days\n",
    "# predict hh - ll\n",
    "# predict TS for the next N periods\n",
    "def prepDataHHLLPred(df, \n",
    "                     s0 = 'SPY',\n",
    "                     assets = ('SPY', '^VIX'),\n",
    "                     features = ('Close',),\n",
    "                     hrzn = 5):\n",
    "    df[('hh', s0)] = df[('Close', s0)].rolling(hrzn).max().shift(-hrzn)\n",
    "    df[('ll', s0)] = df[('Close', s0)].rolling(hrzn).min().shift(-hrzn)\n",
    "    clmns = [(j, i) for i in assets for j in features]\n",
    "    clmns += [('hh', s0), ('ll', s0)]\n",
    "#     print(clmns)\n",
    "    return df.loc[:, clmns].dropna()\n",
    "                      "
   ]
  },
  {
   "cell_type": "code",
   "execution_count": 334,
   "metadata": {},
   "outputs": [],
   "source": [
    "def prepDataSetHHLLPred(df, \n",
    "                     s0 = 'SPY',\n",
    "                     assets = ('SPY', '^VIX'),\n",
    "                     features = ('Close',),\n",
    "                     hrzn = 5,\n",
    "                     lookback = 50,\n",
    "                     ):\n",
    "    df[('hh', s0)] = df[('Close', s0)].rolling(hrzn).max().shift(-hrzn)\n",
    "    df[('ll', s0)] = df[('Close', s0)].rolling(hrzn).min().shift(-hrzn)\n",
    "    clmns_ftr = [(j, i) for i in assets for j in features]\n",
    "    clmns_trg = [('hh', s0), ('ll', s0)]\n",
    "    clmns = clmns_ftr + clmns_trg\n",
    "    df = df.loc[:, clmns].dropna()\n",
    "    l_obs = []\n",
    "    l_trg = []\n",
    "    for i in range(len(df) - lookback + 1):\n",
    "        obs = df.iloc[i : i + lookback][clmns_ftr]\n",
    "        trg = df.iloc[i + lookback - 1][clmns_trg]\n",
    "        l_obs.append(jnp.ravel(jnp.array(obs), order='F'))\n",
    "        l_trg.append(jnp.array(trg))\n",
    "    return [jnp.array(l_obs), jnp.array(l_trg)]               "
   ]
  },
  {
   "cell_type": "code",
   "execution_count": 378,
   "metadata": {},
   "outputs": [],
   "source": [
    "def prepDataSetHHLLPred111(df, \n",
    "                     s0 = 'SPY',\n",
    "                     assets = ('SPY', '^VIX'),\n",
    "                     features = ('Ret',),\n",
    "                     hrzn = 5,\n",
    "                     lookback = 50):\n",
    "    df[('hh', s0)] = df[('Adj Close', s0)].rolling(hrzn).max().shift(-hrzn)/df[('Adj Close', s0)]\n",
    "    df[('ll', s0)] = df[('Adj Close', s0)].rolling(hrzn).min().shift(-hrzn)/df[('Adj Close', s0)]\n",
    "    clmns_ftr = [(j, i) for i in assets for j in features]\n",
    "    clmns_trg = [('hh', s0), ('ll', s0)]\n",
    "    clmns = clmns_ftr + clmns_trg\n",
    "    df = df.loc[:, clmns].dropna()\n",
    "    l_obs = []\n",
    "    l_trg = []\n",
    "    for i in range(len(df) - lookback + 1):\n",
    "        obs = df.iloc[i : i + lookback][clmns_ftr]\n",
    "        trg = df.iloc[i + lookback - 1][clmns_trg]\n",
    "        l_obs.append(jnp.array(obs))\n",
    "        l_trg.append(jnp.array(trg))\n",
    "    return (jnp.array(l_obs), jnp.array(l_trg))               "
   ]
  },
  {
   "cell_type": "code",
   "execution_count": 395,
   "metadata": {},
   "outputs": [],
   "source": [
    "datasetHL111 = prepDataSetHHLLPred111(data)"
   ]
  },
  {
   "cell_type": "code",
   "execution_count": 396,
   "metadata": {},
   "outputs": [
    {
     "data": {
      "text/plain": [
       "((2592, 50, 2), (2592, 2))"
      ]
     },
     "execution_count": 396,
     "metadata": {},
     "output_type": "execute_result"
    }
   ],
   "source": [
    "(datasetHL111[0].shape, datasetHL111[1].shape)"
   ]
  },
  {
   "cell_type": "code",
   "execution_count": 357,
   "metadata": {},
   "outputs": [
    {
     "data": {
      "text/plain": [
       "Array([[0.99242777, 1.1242983 ],\n",
       "       [1.003815  , 0.98787445],\n",
       "       [0.99718803, 0.9956678 ],\n",
       "       [1.0053297 , 0.9753444 ],\n",
       "       [1.0067806 , 0.932342  ],\n",
       "       [0.9971222 , 1.0015949 ],\n",
       "       [1.0068774 , 0.98089164],\n",
       "       [0.9984754 , 1.0056819 ],\n",
       "       [1.00226   , 1.0024213 ],\n",
       "       [1.0083183 , 0.9919484 ],\n",
       "       [1.0031124 , 0.9821429 ],\n",
       "       [0.99804187, 1.0619835 ],\n",
       "       [1.0001206 , 1.0046692 ],\n",
       "       [1.0011469 , 1.0054221 ],\n",
       "       [0.991107  , 1.1217258 ],\n",
       "       [0.98397017, 1.2520604 ],\n",
       "       [1.0104798 , 0.8930335 ],\n",
       "       [0.9991738 , 1.0067567 ],\n",
       "       [1.0032452 , 0.9450885 ],\n",
       "       [0.9818423 , 1.2162685 ],\n",
       "       [1.0074285 , 0.9538216 ],\n",
       "       [1.0152413 , 0.8931553 ],\n",
       "       [1.0115479 , 0.94392526],\n",
       "       [1.0033648 , 0.98745877],\n",
       "       [0.9946703 , 1.0340909 ],\n",
       "       [1.0074656 , 0.97220427],\n",
       "       [1.001733  , 1.0093086 ],\n",
       "       [1.0064428 , 0.9051383 ],\n",
       "       [0.9989331 , 1.0298399 ],\n",
       "       [1.001602  , 0.9667845 ],\n",
       "       [0.99742305, 1.0840642 ],\n",
       "       [1.0047811 , 0.9696561 ],\n",
       "       [0.9958918 , 1.0820584 ],\n",
       "       [0.9897019 , 1.0976863 ],\n",
       "       [0.9668345 , 1.4654567 ],\n",
       "       [0.96969765, 1.1126648 ],\n",
       "       [0.99632186, 0.98958707],\n",
       "       [0.9550881 , 1.4208999 ],\n",
       "       [0.9957988 , 1.0242594 ],\n",
       "       [1.0433062 , 0.8332086 ],\n",
       "       [0.97136784, 1.1017356 ],\n",
       "       [1.042033  , 0.8688213 ],\n",
       "       [0.9667581 , 1.238512  ],\n",
       "       [0.983469  , 1.0585563 ],\n",
       "       [0.92190546, 1.2985218 ],\n",
       "       [1.0517448 , 0.86852735],\n",
       "       [0.9512519 , 1.139535  ],\n",
       "       [0.90432274, 1.4001855 ],\n",
       "       [1.0854862 , 0.76626474],\n",
       "       [0.8905764 , 1.4298807 ]], dtype=float32)"
      ]
     },
     "execution_count": 357,
     "metadata": {},
     "output_type": "execute_result"
    }
   ],
   "source": [
    "datasetHL111[0][0, :, :]"
   ]
  },
  {
   "cell_type": "code",
   "execution_count": 358,
   "metadata": {},
   "outputs": [
    {
     "data": {
      "text/plain": [
       "Array([1.053992  , 0.93500507], dtype=float32)"
      ]
     },
     "execution_count": 358,
     "metadata": {},
     "output_type": "execute_result"
    }
   ],
   "source": [
    "datasetHL111[1][0, :]"
   ]
  },
  {
   "cell_type": "code",
   "execution_count": 47,
   "metadata": {},
   "outputs": [],
   "source": [
    "datasetHL = prepDataSetHHLLPred(data)"
   ]
  },
  {
   "cell_type": "code",
   "execution_count": 48,
   "metadata": {},
   "outputs": [
    {
     "data": {
      "text/plain": [
       "((826, 100), (826, 2))"
      ]
     },
     "execution_count": 48,
     "metadata": {},
     "output_type": "execute_result"
    }
   ],
   "source": [
    "(datasetHL[0].shape, datasetHL[1].shape)"
   ]
  },
  {
   "cell_type": "code",
   "execution_count": 49,
   "metadata": {},
   "outputs": [],
   "source": [
    "import jax.numpy as jnp\n",
    "class DataLoader:\n",
    "    def __init__(self, data, batch_size):\n",
    "        self.data = data\n",
    "        self.batch_size = batch_size\n",
    "        self.num_samples = data.shape[0]\n",
    "        self.num_batches = (self.num_samples + self.batch_size - 1) // self.batch_size\n",
    "        self.current_batch = 0\n",
    "\n",
    "    def __iter__(self):\n",
    "        return self\n",
    "\n",
    "    def __next__(self):\n",
    "        if self.current_batch >= self.num_batches:\n",
    "            raise StopIteration\n",
    "        start = self.current_batch * self.batch_size\n",
    "        end = min(start + self.batch_size, self.num_samples)\n",
    "        batch = self.data[start:end]\n",
    "        self.current_batch += 1\n",
    "        return jnp.array(batch)\n",
    "\n",
    "    def __len__(self):\n",
    "        return self.num_batches"
   ]
  },
  {
   "cell_type": "code",
   "execution_count": 50,
   "metadata": {},
   "outputs": [],
   "source": [
    "class DataLoaderXY:\n",
    "    def __init__(self, xs, ys, batch_size):\n",
    "        assert xs.shape[0] == ys.shape[0]\n",
    "        self.X = xs\n",
    "        self.y = ys\n",
    "        self.batch_size = batch_size\n",
    "        self.num_samples = xs.shape[0]\n",
    "        self.num_batches = (self.num_samples + self.batch_size - 1) // self.batch_size\n",
    "        self.current_batch = 0\n",
    "\n",
    "    def __iter__(self):\n",
    "        return self\n",
    "\n",
    "    def __next__(self):\n",
    "        if self.current_batch >= self.num_batches:\n",
    "            raise StopIteration\n",
    "        start = self.current_batch * self.batch_size\n",
    "        end = min(start + self.batch_size, self.num_samples)\n",
    "        X = self.X[start:end]\n",
    "        y = self.y[start:end]\n",
    "        self.current_batch += 1\n",
    "        return X, y\n",
    "\n",
    "    def __len__(self):\n",
    "        return self.num_batches"
   ]
  },
  {
   "cell_type": "code",
   "execution_count": 51,
   "metadata": {},
   "outputs": [],
   "source": [
    "# df = prepDataHHLLPred(data)\n",
    "\n",
    "# data_loader = DataLoader(df, batch_size=100)\n",
    "\n",
    "# for batch in data_loader:\n",
    "#     # Process the batch using JAX\n",
    "#     # processed_batch = jax_function(batch)\n",
    "#     print(batch.shape)"
   ]
  },
  {
   "cell_type": "code",
   "execution_count": 52,
   "metadata": {},
   "outputs": [
    {
     "name": "stdout",
     "output_type": "stream",
     "text": [
      "(100, 100) (100, 2)\n",
      "(100, 100) (100, 2)\n",
      "(100, 100) (100, 2)\n",
      "(100, 100) (100, 2)\n",
      "(100, 100) (100, 2)\n",
      "(100, 100) (100, 2)\n",
      "(100, 100) (100, 2)\n",
      "(100, 100) (100, 2)\n",
      "(26, 100) (26, 2)\n"
     ]
    }
   ],
   "source": [
    "# datasetHL = prepDataSetHHLLPred(data)\n",
    "data_loader = DataLoaderXY(datasetHL[0], datasetHL[1], batch_size=100)\n",
    "\n",
    "for batch in data_loader:\n",
    "    # Process the batch using JAX\n",
    "    # processed_batch = jax_function(batch)\n",
    "    print(batch[0].shape, batch[1].shape)"
   ]
  },
  {
   "cell_type": "code",
   "execution_count": 53,
   "metadata": {},
   "outputs": [
    {
     "data": {
      "text/plain": [
       "(Array([[398.92, 391.56, 385.91, ...,  17.12,  17.99,  16.87],\n",
       "        [391.56, 385.91, 385.36, ...,  17.99,  16.87,  16.05],\n",
       "        [385.91, 385.36, 391.73, ...,  16.87,  16.05,  16.81],\n",
       "        ...,\n",
       "        [409.72, 408.05, 413.47, ...,  13.54,  13.88,  13.2 ],\n",
       "        [408.05, 413.47, 412.46, ...,  13.88,  13.2 ,  12.91],\n",
       "        [413.47, 412.46, 413.94, ...,  13.2 ,  12.91,  13.44]],      dtype=float32),\n",
       " Array([[419.23, 411.09],\n",
       "        [418.79, 411.09],\n",
       "        [420.02, 411.09],\n",
       "        [420.18, 411.09],\n",
       "        [420.18, 411.09],\n",
       "        [421.82, 414.65],\n",
       "        [427.92, 417.85],\n",
       "        [427.92, 417.85],\n",
       "        [428.03, 417.85],\n",
       "        [428.03, 421.82],\n",
       "        [429.13, 426.55],\n",
       "        [429.9 , 426.55],\n",
       "        [433.8 , 426.55],\n",
       "        [436.66, 426.55],\n",
       "        [437.18, 429.13],\n",
       "        [442.6 , 429.9 ],\n",
       "        [442.6 , 433.8 ],\n",
       "        [442.6 , 436.66],\n",
       "        [442.6 , 434.94],\n",
       "        [442.6 , 434.94],\n",
       "        [439.46, 433.21],\n",
       "        [437.18, 431.44],\n",
       "        [436.51, 431.44],\n",
       "        [436.51, 431.44],\n",
       "        [438.11, 431.44],\n",
       "        [443.28, 431.44]], dtype=float32))"
      ]
     },
     "execution_count": 53,
     "metadata": {},
     "output_type": "execute_result"
    }
   ],
   "source": [
    "batch"
   ]
  },
  {
   "cell_type": "code",
   "execution_count": 54,
   "metadata": {},
   "outputs": [
    {
     "data": {
      "text/plain": [
       "(26, 100)"
      ]
     },
     "execution_count": 54,
     "metadata": {},
     "output_type": "execute_result"
    }
   ],
   "source": [
    "batch[0].shape"
   ]
  },
  {
   "cell_type": "code",
   "execution_count": 95,
   "metadata": {},
   "outputs": [],
   "source": [
    "class LSTMjax:\n",
    "    def __init__(self, input_size, hidden_size, output_size):\n",
    "        self.input_size = input_size\n",
    "        self.hidden_size = hidden_size\n",
    "        self.output_size = output_size\n",
    "\n",
    "    def initialize_params(self, rng):\n",
    "        k1, k2, k3, k4, k5, k6, k7, k8, k9, k10, k11, k12, k13, k14, k15, k16, k17, k18 = random.split(rng, 18)\n",
    "        \n",
    "        self.params = dict()\n",
    "        # forget gate\n",
    "        self.params['Wxf'] = np.sqrt(1.0 / self.hidden_size) *\\\n",
    "            random.normal(k1, (self.input_size, self.hidden_size))\n",
    "        self.params['Bxf'] = np.sqrt(1.0 / self.hidden_size) * random.normal(k2, (self.hidden_size,))\n",
    "        self.params['Whf'] = np.sqrt(1.0 / self.hidden_size) *\\\n",
    "            random.normal(k3, (self.hidden_size, self.hidden_size))\n",
    "        self.params['Bhf'] = np.sqrt(1.0 / self.hidden_size) *\\\n",
    "            random.normal(k4, (self.hidden_size,))\n",
    "        \n",
    "        # input gate\n",
    "        # input\n",
    "        self.params['Wxi'] = np.sqrt(1.0 / self.hidden_size) *\\\n",
    "            random.normal(k5, (self.input_size, self.hidden_size))\n",
    "        self.params['Bxi'] = np.sqrt(1.0 / self.hidden_size) * random.normal(k6, (self.hidden_size,))\n",
    "        self.params['Whi'] = np.sqrt(1.0 / self.hidden_size) *\\\n",
    "            random.normal(k7, (self.hidden_size, self.hidden_size))\n",
    "        self.params['Bhi'] = np.sqrt(1.0 / self.hidden_size) * random.normal(k8, (self.hidden_size,))\n",
    "        # learn\n",
    "        self.params['Wxl'] = np.sqrt(1.0 / self.hidden_size) *\\\n",
    "            random.normal(k9, (self.input_size, self.hidden_size))\n",
    "        self.params['Bxl'] = np.sqrt(1.0 / self.hidden_size) * random.normal(k10, (self.hidden_size,))\n",
    "        self.params['Whl'] = np.sqrt(1.0 / self.hidden_size) *\\\n",
    "            random.normal(k11, (self.hidden_size, self.hidden_size))\n",
    "        self.params['Bhl'] = np.sqrt(1.0 / self.hidden_size) * random.normal(k12, (self.hidden_size,))\n",
    "        \n",
    "        # output gate\n",
    "        self.params['Wxo'] = np.sqrt(1.0 / self.hidden_size) *\\\n",
    "            random.normal(k13, (self.input_size, self.hidden_size))\n",
    "        self.params['Bxo'] = np.sqrt(1.0 / self.hidden_size) * random.normal(k14, (self.hidden_size,))\n",
    "        self.params['Who'] = np.sqrt(1.0 / self.hidden_size) *\\\n",
    "            random.normal(k15, (self.hidden_size, self.hidden_size))\n",
    "        self.params['Bho'] = np.sqrt(1.0 / self.hidden_size) * random.normal(k16, (self.hidden_size,))\n",
    "\n",
    "        # final output\n",
    "        self.params['Wo'] = np.sqrt(1.0 / self.hidden_size) *\\\n",
    "            random.normal(k17, (self.hidden_size, self.output_size))\n",
    "        self.params['Bo'] = np.sqrt(1.0 / self.output_size) * random.normal(k18, (self.output_size,))\n",
    "        \n",
    "        return self.params\n",
    "#         return self.Wxf, self.Bxf, self.Whf, self.Bhf, self.Wxi, self.Bxi, self.Whi, self.Bhi,\\\n",
    "#                 self.Wxl, self.Bxl, self.Whl, self.Bhl, self.Wxo, self.Bxo, self.Who, self.Bho, self.Wo, self.Bo\n",
    "\n",
    "    def forget_gate(self, x, h, c):\n",
    "        forget_eventx  = jnp.dot(x, self.params['Wxf']) + self.params['Bxf']\n",
    "        forget_hidden  = h @ self.params['Whf'] + self.params['Bhf']\n",
    "        return jnp.multiply(jax.nn.sigmoid(forget_eventx + forget_hidden), c)\n",
    "    \n",
    "    def input_gate(self, x, h):\n",
    "        ignore_eventx  = x @ self.params['Wxi'] + self.params['Bxi']\n",
    "        ignore_hidden  = h @ self.params['Whi'] + self.params['Bhi']\n",
    "        learn_eventx  = x @ self.params['Wxl'] + self.params['Bxl']\n",
    "        learn_hidden  = h @ self.params['Whl'] + self.params['Bhl']\n",
    "        return jnp.multiply(jax.nn.sigmoid(ignore_eventx + ignore_hidden),\n",
    "                            jax.nn.tanh(learn_eventx + learn_hidden)) \n",
    "\n",
    "    def cell_state(self, forget_gate_output, input_gate_output):\n",
    "        return forget_gate_output + input_gate_output\n",
    "\n",
    "    def output_gate(self, x, h, new_c):\n",
    "        out_eventx  = x @ self.params['Wxo'] + self.params['Bxo']\n",
    "        out_hidden  = h @ self.params['Who'] + self.params['Bho']\n",
    "        return jnp.multiply(jax.nn.sigmoid(out_eventx + out_hidden), jax.nn.tanh(new_c) )\n",
    "    \n",
    "    def lstm_cell(self, carry, x):\n",
    "        h, c = carry\n",
    "#        print('h dim', h.shape)\n",
    "#        print('c dim', c.shape)\n",
    "        forget_gate = self.forget_gate(x, h, c)\n",
    "        input_gate = self.input_gate(x, h)\n",
    "        new_c = self.cell_state(forget_gate, input_gate)\n",
    "        new_h = self.output_gate(x, h, new_c)\n",
    "#        print('new h dim', new_h.shape)\n",
    "#        print('new c dim', new_c.shape)\n",
    "        return (new_h, new_c), new_h\n",
    "\n",
    "    def forward(self, inputs, params):\n",
    "#         self.Wxf, self.Bxf, self.Whf, self.Bhf, self.Wxi, self.Bxi, self.Whi, self.Bhi,\\\n",
    "#             self.Wxl, self.Bxl, self.Whl, self.Bhl, self.Wxo, self.Bxo, self.Who,\\\n",
    "#             self.Bho, self.Wo, self.Bo = params\n",
    "        self.params = params.copy()\n",
    "        self.final_state , self.hstate = jax.lax.scan(self.lstm_cell, (jnp.zeros((self.hidden_size,)),\n",
    "                                                       jnp.zeros((self.hidden_size,))),\n",
    "                                      inputs)\n",
    "#         self.hstate = hstate\n",
    "#         self.final_state = final_state\n",
    "#        print(self.params['Wo'].shape, self.final_state[0].shape)\n",
    "#        print((self.final_state[0] @ self.params['Wo']).shape)\n",
    "#         return self.final_state[0] @ self.params['Wo'] + self.params['Bo']\n",
    "        return self.hstate @ self.params['Wo'] + self.params['Bo']\n",
    "\n",
    "#     def loss(self, inputs, targets, params):\n",
    "#         predictions = self.forward(inputs, params)\n",
    "#         return jnp.mean((predictions - targets) ** 2)\n",
    "\n",
    "#     def update(self, inputs, targets, params, opt_state):\n",
    "#         loss_value, grads = jax.value_and_grad(self.loss)(inputs, targets, params)\n",
    "#         updates, new_opt_state = opt_update(grads, opt_state)\n",
    "#         new_params = optax.apply_updates(params, updates)\n",
    "#         return loss_value, new_params, new_opt_state        "
   ]
  },
  {
   "cell_type": "code",
   "execution_count": 96,
   "metadata": {},
   "outputs": [
    {
     "name": "stdout",
     "output_type": "stream",
     "text": [
      "Wxf (100, 50)\n",
      "Bxf (50,)\n",
      "Whf (50, 50)\n",
      "Bhf (50,)\n",
      "Wxi (100, 50)\n",
      "Bxi (50,)\n",
      "Whi (50, 50)\n",
      "Bhi (50,)\n",
      "Wxl (100, 50)\n",
      "Bxl (50,)\n",
      "Whl (50, 50)\n",
      "Bhl (50,)\n",
      "Wxo (100, 50)\n",
      "Bxo (50,)\n",
      "Who (50, 50)\n",
      "Bho (50,)\n",
      "Wo (50, 2)\n",
      "Bo (2,)\n"
     ]
    }
   ],
   "source": [
    "data_key, model_key = random.split(jax.random.PRNGKey(212), 2)\n",
    "lstmj = LSTMjax(100, 50, 2)\n",
    "params = lstmj.initialize_params(model_key)\n",
    "for i in params.keys():\n",
    "    print(i, params[i].shape)"
   ]
  },
  {
   "cell_type": "code",
   "execution_count": 70,
   "metadata": {},
   "outputs": [
    {
     "name": "stdout",
     "output_type": "stream",
     "text": [
      "h dim (50,)\n",
      "c dim (50,)\n",
      "new h dim (50,)\n",
      "new c dim (50,)\n",
      "(50, 2) (50,)\n",
      "(2,)\n"
     ]
    },
    {
     "data": {
      "text/plain": [
       "Array([[ 1.7456347 , -0.01571721],\n",
       "       [ 1.8657119 , -0.06756604],\n",
       "       [ 1.9162483 , -0.08986092],\n",
       "       [ 1.9219131 , -0.09163332],\n",
       "       [ 1.9240918 , -0.09185678],\n",
       "       [ 1.9242189 , -0.09188944],\n",
       "       [ 1.9242373 , -0.09189367],\n",
       "       [ 1.924238  , -0.09189409],\n",
       "       [ 1.924237  , -0.09189337],\n",
       "       [ 1.9242384 , -0.09190923],\n",
       "       [ 1.9242272 , -0.09188932],\n",
       "       [ 1.9239314 , -0.09186059],\n",
       "       [ 1.9266841 , -0.10038698],\n",
       "       [ 1.9355528 , -0.11548036],\n",
       "       [ 1.9257171 , -0.09520149],\n",
       "       [ 1.9242027 , -0.09225202],\n",
       "       [ 1.9242957 , -0.09210289],\n",
       "       [ 1.8964727 , -0.10703206],\n",
       "       [ 1.9276764 , -0.09941584],\n",
       "       [ 1.9247558 , -0.09296155],\n",
       "       [ 1.9243131 , -0.09204644],\n",
       "       [ 1.9313369 , -0.10656542],\n",
       "       [ 1.9444609 , -0.13369304],\n",
       "       [ 1.9355354 , -0.11608052],\n",
       "       [ 1.92892   , -0.10958755],\n",
       "       [ 1.9252188 , -0.09457952]], dtype=float32)"
      ]
     },
     "execution_count": 70,
     "metadata": {},
     "output_type": "execute_result"
    }
   ],
   "source": [
    "lstmj.forward(batch[0], params)"
   ]
  },
  {
   "cell_type": "code",
   "execution_count": 65,
   "metadata": {},
   "outputs": [
    {
     "data": {
      "text/plain": [
       "(50,)"
      ]
     },
     "execution_count": 65,
     "metadata": {},
     "output_type": "execute_result"
    }
   ],
   "source": [
    "lstmj.final_state[0].shape"
   ]
  },
  {
   "cell_type": "code",
   "execution_count": 67,
   "metadata": {},
   "outputs": [
    {
     "data": {
      "text/plain": [
       "(26, 50)"
      ]
     },
     "execution_count": 67,
     "metadata": {},
     "output_type": "execute_result"
    }
   ],
   "source": [
    "lstmj.hstate.shape"
   ]
  },
  {
   "cell_type": "code",
   "execution_count": 72,
   "metadata": {},
   "outputs": [
    {
     "data": {
      "text/plain": [
       "Array([[0., 0.],\n",
       "       [0., 0.],\n",
       "       [0., 0.],\n",
       "       [0., 0.],\n",
       "       [0., 0.],\n",
       "       [0., 0.],\n",
       "       [0., 0.],\n",
       "       [0., 0.],\n",
       "       [0., 0.],\n",
       "       [0., 0.],\n",
       "       [0., 0.],\n",
       "       [0., 0.],\n",
       "       [0., 0.],\n",
       "       [0., 0.],\n",
       "       [0., 0.],\n",
       "       [0., 0.],\n",
       "       [0., 0.],\n",
       "       [0., 0.],\n",
       "       [0., 0.],\n",
       "       [0., 0.],\n",
       "       [0., 0.],\n",
       "       [0., 0.],\n",
       "       [0., 0.],\n",
       "       [0., 0.],\n",
       "       [0., 0.],\n",
       "       [0., 0.]], dtype=float32)"
      ]
     },
     "execution_count": 72,
     "metadata": {},
     "output_type": "execute_result"
    }
   ],
   "source": [
    "optax.l2_loss(batch[1], batch[1])"
   ]
  },
  {
   "cell_type": "code",
   "execution_count": 74,
   "metadata": {},
   "outputs": [
    {
     "data": {
      "text/plain": [
       "Array([[0., 0.],\n",
       "       [0., 0.],\n",
       "       [0., 0.],\n",
       "       [0., 0.],\n",
       "       [0., 0.],\n",
       "       [0., 0.],\n",
       "       [0., 0.],\n",
       "       [0., 0.],\n",
       "       [0., 0.],\n",
       "       [0., 0.],\n",
       "       [0., 0.],\n",
       "       [0., 0.],\n",
       "       [0., 0.],\n",
       "       [0., 0.],\n",
       "       [0., 0.],\n",
       "       [0., 0.],\n",
       "       [0., 0.],\n",
       "       [0., 0.],\n",
       "       [0., 0.],\n",
       "       [0., 0.],\n",
       "       [0., 0.],\n",
       "       [0., 0.],\n",
       "       [0., 0.],\n",
       "       [0., 0.],\n",
       "       [0., 0.],\n",
       "       [0., 0.]], dtype=float32)"
      ]
     },
     "execution_count": 74,
     "metadata": {},
     "output_type": "execute_result"
    }
   ],
   "source": [
    "batch[1] -batch[1]"
   ]
  },
  {
   "cell_type": "code",
   "execution_count": 81,
   "metadata": {},
   "outputs": [
    {
     "data": {
      "text/plain": [
       "Array([[252.8 , 228.8 ],\n",
       "       [252.8 , 222.95],\n",
       "       [243.15, 222.95],\n",
       "       [246.79, 222.95],\n",
       "       [261.2 , 222.95],\n",
       "       [261.2 , 222.95],\n",
       "       [261.65, 243.15],\n",
       "       [261.65, 246.79],\n",
       "       [261.65, 246.15],\n",
       "       [261.65, 246.15]], dtype=float32)"
      ]
     },
     "execution_count": 81,
     "metadata": {},
     "output_type": "execute_result"
    }
   ],
   "source": [
    "datasetHL[1][:10]"
   ]
  },
  {
   "cell_type": "code",
   "execution_count": 133,
   "metadata": {},
   "outputs": [
    {
     "data": {
      "text/plain": [
       "Array([286.64, 275.66], dtype=float32)"
      ]
     },
     "execution_count": 133,
     "metadata": {},
     "output_type": "execute_result"
    }
   ],
   "source": [
    "datasetHL[1][10:20][-1]"
   ]
  },
  {
   "cell_type": "code",
   "execution_count": 85,
   "metadata": {},
   "outputs": [
    {
     "data": {
      "text/plain": [
       "Array(574.84155, dtype=float32)"
      ]
     },
     "execution_count": 85,
     "metadata": {},
     "output_type": "execute_result"
    }
   ],
   "source": [
    "jnp.mean((datasetHL[1][:10] - datasetHL[1][10:20])**2)"
   ]
  },
  {
   "cell_type": "code",
   "execution_count": 91,
   "metadata": {},
   "outputs": [],
   "source": [
    "data_loader = DataLoaderXY(datasetHL[0], datasetHL[1], batch_size=batch_size)"
   ]
  },
  {
   "cell_type": "code",
   "execution_count": 92,
   "metadata": {},
   "outputs": [
    {
     "name": "stdout",
     "output_type": "stream",
     "text": [
      "(50, 100) (50, 2)\n",
      "(50, 100) (50, 2)\n",
      "(50, 100) (50, 2)\n",
      "(50, 100) (50, 2)\n",
      "(50, 100) (50, 2)\n",
      "(50, 100) (50, 2)\n",
      "(50, 100) (50, 2)\n",
      "(50, 100) (50, 2)\n",
      "(50, 100) (50, 2)\n",
      "(50, 100) (50, 2)\n",
      "(50, 100) (50, 2)\n",
      "(50, 100) (50, 2)\n",
      "(50, 100) (50, 2)\n",
      "(50, 100) (50, 2)\n",
      "(50, 100) (50, 2)\n",
      "(50, 100) (50, 2)\n",
      "(26, 100) (26, 2)\n"
     ]
    }
   ],
   "source": [
    "for batch in data_loader:\n",
    "    print(batch[0].shape, batch[1].shape)"
   ]
  },
  {
   "cell_type": "code",
   "execution_count": null,
   "metadata": {},
   "outputs": [],
   "source": []
  },
  {
   "cell_type": "code",
   "execution_count": 112,
   "metadata": {},
   "outputs": [
    {
     "data": {
      "text/plain": [
       "(826, 100)"
      ]
     },
     "execution_count": 112,
     "metadata": {},
     "output_type": "execute_result"
    }
   ],
   "source": [
    "datasetHL[0].shape"
   ]
  },
  {
   "cell_type": "code",
   "execution_count": 157,
   "metadata": {},
   "outputs": [
    {
     "name": "stdout",
     "output_type": "stream",
     "text": [
      "Wxf (100, 500)\n",
      "Bxf (500,)\n",
      "Whf (500, 500)\n",
      "Bhf (500,)\n",
      "Wxi (100, 500)\n",
      "Bxi (500,)\n",
      "Whi (500, 500)\n",
      "Bhi (500,)\n",
      "Wxl (100, 500)\n",
      "Bxl (500,)\n",
      "Whl (500, 500)\n",
      "Bhl (500,)\n",
      "Wxo (100, 500)\n",
      "Bxo (500,)\n",
      "Who (500, 500)\n",
      "Bho (500,)\n",
      "Wo (500, 2)\n",
      "Bo (2,)\n",
      "epoch 0, loss: 187166.84375\n",
      "epoch 10, loss: 176610.3125\n",
      "epoch 20, loss: 166487.234375\n",
      "epoch 30, loss: 156699.671875\n",
      "epoch 40, loss: 147408.171875\n",
      "epoch 50, loss: 138555.9375\n",
      "epoch 60, loss: 129954.5\n",
      "epoch 70, loss: 121615.109375\n",
      "epoch 80, loss: 113759.953125\n",
      "epoch 90, loss: 106334.2734375\n",
      "epoch 100, loss: 99298.25\n",
      "epoch 110, loss: 92628.8671875\n",
      "epoch 120, loss: 86308.484375\n",
      "epoch 130, loss: 80322.09375\n",
      "epoch 140, loss: 74656.15625\n",
      "epoch 150, loss: 69298.171875\n",
      "epoch 160, loss: 64236.3359375\n",
      "epoch 170, loss: 59459.359375\n",
      "epoch 180, loss: 54956.453125\n",
      "epoch 190, loss: 50717.15625\n",
      "epoch 200, loss: 46731.390625\n",
      "epoch 210, loss: 42989.3125\n",
      "epoch 220, loss: 39481.30859375\n",
      "epoch 230, loss: 36197.99609375\n",
      "epoch 240, loss: 33130.1640625\n",
      "epoch 250, loss: 30268.810546875\n",
      "epoch 260, loss: 27605.083984375\n",
      "epoch 270, loss: 25130.2265625\n",
      "epoch 280, loss: 22835.638671875\n",
      "epoch 290, loss: 20712.849609375\n",
      "epoch 300, loss: 18753.54296875\n",
      "epoch 310, loss: 16949.40625\n",
      "epoch 320, loss: 15292.3359375\n",
      "epoch 330, loss: 13774.3154296875\n",
      "epoch 340, loss: 12387.4296875\n",
      "epoch 350, loss: 11123.9248046875\n",
      "epoch 360, loss: 9976.15625\n",
      "epoch 370, loss: 8936.630859375\n",
      "epoch 380, loss: 7998.0322265625\n",
      "epoch 390, loss: 7153.22802734375\n",
      "epoch 400, loss: 6395.2841796875\n",
      "epoch 410, loss: 5717.447265625\n",
      "epoch 420, loss: 5113.259765625\n",
      "epoch 430, loss: 4576.501953125\n",
      "epoch 440, loss: 4101.18896484375\n",
      "epoch 450, loss: 3681.708740234375\n",
      "epoch 460, loss: 3312.709716796875\n",
      "epoch 470, loss: 2989.16357421875\n",
      "epoch 480, loss: 2706.40185546875\n",
      "epoch 490, loss: 2460.06787109375\n"
     ]
    }
   ],
   "source": [
    "data_key, model_key = random.split(jax.random.PRNGKey(212), 2)\n",
    "lstmj = LSTMjax(100, 500, 2)\n",
    "params = lstmj.initialize_params(model_key)\n",
    "for i in params.keys():\n",
    "    print(i, params[i].shape)\n",
    "\n",
    "# optimizer\n",
    "# import optax\n",
    "learning_rate = 0.001\n",
    "batch_size = 100\n",
    "#data_loader = DataLoaderXY(datasetHL[0], datasetHL[1], batch_size=batch_size)\n",
    "\n",
    "# train_size = X_train.shape[0]\n",
    "num_epochs = 500\n",
    "def fit(params: optax.Params, optimizer: optax.GradientTransformation) -> optax.Params:\n",
    "    opt_state = optimizer.init(params)\n",
    "\n",
    "    def l2_loss(params, x, y):\n",
    "        y_pred = lstmj.forward(x, params)\n",
    "        l2 = jnp.mean((y_pred[-3:] - y[-3:])**2)\n",
    "        return l2\n",
    "    \n",
    "    @jax.jit\n",
    "    def run_batch(params, opt_state, batch_x, batch_y):\n",
    "        loss_value, grads = jax.value_and_grad(l2_loss)(params, batch_x, batch_y)\n",
    "        updates, opt_state = optimizer.update(grads, opt_state, params)\n",
    "        params = optax.apply_updates(params, updates)\n",
    "        return params, opt_state, loss_value\n",
    "    \n",
    "    for i in range(num_epochs):\n",
    "        data_loader = DataLoaderXY(datasetHL[0], datasetHL[1], batch_size=batch_size)\n",
    "        j = 0\n",
    "        for batch in data_loader:\n",
    "            params, opt_state, loss_value = run_batch(params, opt_state, batch[0], batch[1])\n",
    "#             if j % 2 == 0:\n",
    "#                 print(f'batch {j}, loss: {loss_value}')\n",
    "#             j += 1\n",
    "        if i % 10 == 0: print(f'epoch {i}, loss: {loss_value}')\n",
    "        i += 1\n",
    "        \n",
    "    return params\n",
    "\n",
    "# Fit our parametrized function using the Adam optimizer\n",
    "\n",
    "optimizer = optax.adam(learning_rate=learning_rate)\n",
    "params = fit(params, optimizer)\n"
   ]
  },
  {
   "cell_type": "code",
   "execution_count": null,
   "metadata": {},
   "outputs": [],
   "source": []
  },
  {
   "cell_type": "code",
   "execution_count": 158,
   "metadata": {},
   "outputs": [
    {
     "data": {
      "text/plain": [
       "{'Bhf': Array([-9.52478051e-02,  9.87952761e-03,  1.88455675e-02,  7.45466277e-02,\n",
       "        -1.38312019e-02,  9.16572735e-02, -8.00402090e-02,  2.30532195e-02,\n",
       "         3.25846374e-02,  7.53044933e-02,  1.95374954e-02, -5.68133704e-02,\n",
       "        -4.82216403e-02, -1.28017901e-03,  4.31282297e-02,  5.16417474e-02,\n",
       "         1.82083137e-02,  2.71509010e-02, -8.06970224e-02, -5.82590327e-02,\n",
       "        -5.22065461e-02, -3.40457112e-02, -7.95596186e-03,  2.18360182e-02,\n",
       "         3.90631109e-02,  7.60116577e-02,  2.16217916e-02, -2.89709680e-02,\n",
       "         3.72436494e-02, -2.18782481e-02, -2.37498321e-02,  2.30067479e-03,\n",
       "        -2.88653243e-02, -6.83590621e-02,  1.03904698e-02,  4.50549349e-02,\n",
       "        -4.67866845e-02, -3.19389328e-02,  4.55142418e-03,  8.79394473e-04,\n",
       "        -3.83563451e-02,  1.49417073e-02,  6.74083307e-02,  7.37768412e-02,\n",
       "        -1.59983169e-02, -4.18795869e-02,  8.03379491e-02, -7.41228238e-02,\n",
       "        -7.66770691e-02, -3.45280729e-02, -4.67522815e-02,  6.40554801e-02,\n",
       "        -5.23989275e-02,  2.27461960e-02, -9.00417380e-03,  2.61106566e-02,\n",
       "         2.17362996e-02, -2.79909596e-02, -2.28524245e-02,  2.02424265e-02,\n",
       "        -4.61695194e-02,  1.81997623e-02,  4.61685471e-02,  1.53924832e-02,\n",
       "         4.38052900e-02, -6.61310703e-02, -1.45250838e-02,  4.01076600e-02,\n",
       "        -2.70089898e-02,  8.59974846e-02,  3.03748008e-02, -2.85425805e-03,\n",
       "         6.07792623e-02, -3.34459879e-02,  4.48203599e-03,  2.39394233e-02,\n",
       "        -8.23339075e-02,  3.82206850e-02, -8.56265798e-03, -5.64409420e-02,\n",
       "        -2.57344525e-02,  3.10827959e-02,  3.89867015e-02, -1.08952178e-02,\n",
       "         4.25708806e-03,  1.89890787e-02, -2.33032927e-02, -9.58457217e-03,\n",
       "         3.78729515e-02,  1.39613375e-02,  1.95483323e-02, -9.58699267e-03,\n",
       "         5.51920906e-02,  2.24674530e-02,  2.50123162e-02,  6.42080605e-03,\n",
       "        -2.46975031e-02,  2.02631969e-02, -4.24039289e-02,  3.75181884e-02,\n",
       "         3.89274061e-02,  1.83701646e-02,  1.03114620e-02,  1.51340989e-03,\n",
       "        -8.48930981e-03,  7.38973767e-02,  7.45971277e-02,  2.07742341e-02,\n",
       "        -8.55621765e-05, -2.32683532e-02,  3.83025594e-02,  9.64389089e-03,\n",
       "         3.98188690e-03, -1.88821927e-02,  3.95797566e-02, -3.29953507e-02,\n",
       "        -1.64426602e-02, -9.53331590e-03, -3.80951585e-03,  7.91049525e-02,\n",
       "        -7.21921846e-02, -4.17763963e-02,  1.76070929e-02,  3.41382027e-02,\n",
       "        -5.69217987e-02,  1.18256621e-01, -1.64625514e-02,  9.44295079e-02,\n",
       "        -3.27620506e-02, -3.09226831e-04, -3.45716700e-02,  6.67843968e-02,\n",
       "        -1.05404526e-01, -5.72325289e-02,  5.14230132e-02, -2.20736768e-02,\n",
       "         3.84430364e-02, -3.16983089e-02, -8.66361894e-03,  3.75226550e-02,\n",
       "         4.29730751e-02,  1.05662802e-02, -1.78824328e-02, -5.16011156e-02,\n",
       "         5.91970384e-02,  6.90435320e-02,  8.47294703e-02,  2.07187422e-02,\n",
       "         6.38953410e-03,  1.19996769e-02,  1.32143963e-02, -6.53560013e-02,\n",
       "        -1.13012027e-02, -2.60213055e-02,  7.31064007e-02, -5.91950305e-03,\n",
       "         5.36238886e-02,  5.64389974e-02, -2.39756564e-03, -9.68526751e-02,\n",
       "         8.40064604e-03, -4.97814454e-02, -1.05271064e-01, -7.60411620e-02,\n",
       "         8.00593477e-03, -5.45547456e-02,  9.69549194e-02, -4.28365432e-02,\n",
       "         4.73004431e-02, -9.35651883e-02, -4.33895290e-02, -2.28789374e-02,\n",
       "         4.20008078e-02,  5.90020157e-02, -7.65427649e-02,  7.97118898e-03,\n",
       "        -4.56864946e-02, -2.22457834e-02,  1.22144977e-02, -1.80848688e-02,\n",
       "         2.72677578e-02,  8.28478038e-02, -1.12817183e-01, -2.16247272e-02,\n",
       "         4.28841673e-02,  1.07346997e-02, -5.40211573e-02,  1.27658442e-01,\n",
       "        -3.77870575e-02,  1.07636871e-02, -1.84042077e-03,  4.91120741e-02,\n",
       "        -6.21869881e-03,  1.89928208e-02,  5.90284020e-02, -3.77395861e-02,\n",
       "        -9.78229567e-02,  4.99391146e-02, -8.43965821e-03, -4.09678146e-02,\n",
       "        -6.11010566e-02, -4.32656892e-02, -2.64211535e-03, -3.78694460e-02,\n",
       "        -1.23618692e-02, -2.42089177e-03, -4.84719723e-02,  4.96689603e-02,\n",
       "         6.53887317e-02, -5.11127040e-02,  1.59488861e-02,  1.14287762e-02,\n",
       "        -3.54008423e-03, -1.82864852e-02,  2.45888662e-02,  4.48337756e-02,\n",
       "         3.58737353e-03, -2.49378663e-02, -6.12837635e-02,  9.39638317e-02,\n",
       "         1.58829559e-02, -3.36836185e-03,  1.21400403e-02, -2.84777489e-02,\n",
       "        -5.14373109e-02, -9.93263721e-03,  6.03992958e-03, -1.70389283e-03,\n",
       "        -2.45210547e-02, -2.86824871e-02,  1.25029674e-02, -4.56507653e-02,\n",
       "        -2.09591072e-02,  8.81118758e-04, -2.72183437e-02,  4.10555258e-05,\n",
       "         6.62247743e-03,  1.46285733e-02,  8.26145783e-02,  4.07838784e-02,\n",
       "         3.04321330e-02,  3.37967686e-02, -4.83565032e-02,  4.99458518e-03,\n",
       "        -3.51155326e-02,  2.24045403e-02,  3.32870968e-02,  7.66014233e-02,\n",
       "         3.13351862e-02, -4.70804647e-02, -5.40707819e-02,  6.48266524e-02,\n",
       "         2.67954879e-02,  3.20440158e-02,  5.71497418e-02, -2.51781307e-02,\n",
       "        -5.21959551e-02, -5.74914925e-02,  5.36824539e-02,  3.44596687e-03,\n",
       "         1.52242323e-02,  2.44124923e-02,  4.79719862e-02,  8.16236064e-02,\n",
       "         1.06490403e-01,  5.91820246e-03,  7.75621533e-02,  2.30053086e-02,\n",
       "        -2.35676020e-02, -8.64776596e-03,  9.02750064e-03,  4.28169556e-02,\n",
       "         4.41093631e-02,  3.19039598e-02, -4.72114757e-02, -2.77830511e-02,\n",
       "        -1.52658643e-02,  5.07063642e-02,  2.80975597e-03, -3.39255035e-02,\n",
       "        -7.14126751e-02,  2.58306134e-02, -5.58342934e-02, -1.29968429e-03,\n",
       "        -5.38908765e-02, -4.77330312e-02,  7.36442581e-02, -3.56832854e-02,\n",
       "         2.53906529e-02, -4.92609963e-02,  5.70982099e-02,  8.91289711e-02,\n",
       "        -3.38997804e-02,  1.12127103e-02, -1.63590461e-02,  1.68719236e-02,\n",
       "         3.07502281e-02,  2.76501179e-02,  8.96222740e-02,  7.14025646e-03,\n",
       "         3.77218388e-02, -2.35938607e-03,  9.10693705e-02,  7.40292147e-02,\n",
       "        -3.18047702e-02, -2.13383529e-02, -8.06947872e-02,  2.19340492e-02,\n",
       "         9.97079089e-02,  1.42922858e-03, -1.58750359e-02, -3.59497070e-02,\n",
       "        -2.91887131e-02, -1.19454287e-01, -4.11999263e-02,  9.34146345e-03,\n",
       "        -5.06811216e-02,  1.50835793e-02, -1.97004825e-02,  9.93101299e-02,\n",
       "        -2.89876834e-02,  5.16565070e-02,  1.88874453e-02, -3.26613486e-02,\n",
       "        -1.18310712e-01, -4.66659153e-03, -7.16475025e-02, -1.12486994e-02,\n",
       "         1.72254944e-03,  1.03523560e-01,  7.93866143e-02, -1.96308400e-02,\n",
       "        -9.26953405e-02,  2.98137474e-03,  7.19912490e-03,  1.37556181e-03,\n",
       "        -3.14027555e-02,  6.12079687e-02,  1.12618819e-01, -6.20365664e-02,\n",
       "         9.19788145e-03,  6.28055632e-02, -5.60029298e-02, -3.69364920e-04,\n",
       "        -5.50598046e-03,  1.73664391e-02,  4.10256302e-03,  2.32726466e-02,\n",
       "         6.63478449e-02,  4.70623188e-02,  6.61472902e-02,  4.55682166e-02,\n",
       "         1.98840089e-02, -2.37926487e-02,  2.91457865e-02, -2.19641142e-02,\n",
       "         1.58875361e-02, -2.51580421e-02,  2.38619335e-02,  2.89927348e-02,\n",
       "         2.79346062e-03, -2.36124918e-02, -3.53062712e-02, -2.50842981e-02,\n",
       "        -1.36662868e-03, -1.19270934e-02, -7.49124736e-02, -4.43991125e-02,\n",
       "         5.53491823e-02,  3.47603559e-02,  6.53366223e-02,  4.49405424e-02,\n",
       "        -3.18770185e-02,  1.86943039e-02, -5.94840124e-02,  4.59348187e-02,\n",
       "        -7.90152848e-02, -1.11610396e-02, -2.78920047e-02, -3.55497673e-02,\n",
       "         4.15730067e-02, -2.39926353e-02,  4.14852705e-03, -1.52364525e-03,\n",
       "         3.90929915e-02, -5.89297079e-02, -3.72033156e-02,  2.74131112e-02,\n",
       "         3.54750152e-03,  5.13362363e-02, -1.22524332e-02,  5.84899522e-02,\n",
       "        -2.92922817e-02, -1.15327304e-02, -1.18211284e-02,  1.45117799e-02,\n",
       "        -2.61262525e-03,  6.03017993e-02, -4.76326756e-02, -6.91580996e-02,\n",
       "         3.33942968e-04, -6.91000596e-02, -7.32723549e-02,  2.79728118e-02,\n",
       "        -4.43642810e-02, -6.58142194e-02, -7.14183152e-02,  5.88433556e-02,\n",
       "         3.40315439e-02, -5.95296547e-02, -3.11811212e-02,  4.66376245e-02,\n",
       "        -2.09598094e-02,  5.06792159e-04, -3.14952992e-02,  3.58524621e-02,\n",
       "        -7.98191875e-03,  3.41088511e-02,  1.02923876e-02, -1.15153929e-02,\n",
       "         2.53318213e-02,  1.72813348e-02,  5.95746487e-02, -2.87694205e-03,\n",
       "         3.25552039e-02,  5.14902212e-02,  3.65047604e-02,  1.68279912e-02,\n",
       "        -3.83503474e-02,  5.41338697e-04,  6.12790026e-02,  1.17075234e-03,\n",
       "        -1.29312754e-01, -1.28382875e-03,  1.48136241e-04,  6.75258692e-03,\n",
       "         3.61240543e-02, -2.90704165e-02, -3.13495621e-02, -2.08810344e-02,\n",
       "        -1.30958296e-02,  1.91456974e-02, -2.98041571e-02, -4.91293110e-02,\n",
       "         4.02764678e-02, -6.39780378e-03, -5.47871888e-02,  6.21681176e-02,\n",
       "         7.43660936e-03,  3.92480418e-02, -3.38203423e-02, -7.71183847e-03,\n",
       "        -1.88128799e-02, -6.12088740e-02, -1.65031422e-02, -2.60077771e-02,\n",
       "        -2.94338427e-02, -4.98344041e-02, -3.30836587e-02, -7.70715326e-02,\n",
       "        -7.72081837e-02,  5.00605740e-02, -5.83876409e-02, -1.33078219e-02,\n",
       "        -8.55234079e-03,  1.61107369e-02, -5.59021235e-02, -6.06967025e-02,\n",
       "        -1.63447317e-02,  2.72286274e-02, -5.88309877e-02,  6.98179286e-03,\n",
       "         2.43494827e-02,  3.32477503e-02, -3.47157493e-02,  5.78415543e-02,\n",
       "         3.06132287e-02, -8.51943437e-03, -2.07408592e-02,  4.31374647e-02,\n",
       "         4.80342796e-03,  4.52459976e-03,  1.38157876e-02, -7.62970001e-02,\n",
       "        -7.37782791e-02, -5.64199947e-02, -2.24565174e-02,  1.41762691e-02,\n",
       "        -1.04724035e-01, -1.41385226e-02, -1.42033845e-02, -5.85163338e-03,\n",
       "         7.81538244e-03, -2.44557224e-02,  3.13743316e-02,  1.75358504e-02,\n",
       "         7.88832679e-02, -1.44872656e-02, -2.45991405e-02, -1.80405155e-02],      dtype=float32),\n",
       " 'Bhi': Array([-1.03200190e-02,  8.37259591e-02,  3.36254425e-02,  1.96487140e-02,\n",
       "         1.90259647e-02,  3.02540548e-02,  7.80143067e-02, -5.36483191e-02,\n",
       "        -1.65542960e-02,  1.38513818e-02, -7.02398270e-03,  4.66406830e-02,\n",
       "         8.60206317e-03,  2.68006232e-02,  1.38495583e-02,  9.65430122e-03,\n",
       "         8.99591744e-02, -4.19933386e-02,  5.39585017e-02, -1.24859279e-02,\n",
       "         2.61942148e-02, -8.46841261e-02,  1.27404062e-02, -1.33343235e-01,\n",
       "        -3.02783540e-03, -5.96601609e-03, -5.68215922e-03,  8.58191121e-03,\n",
       "        -3.97230014e-02,  1.11988887e-01,  3.39906961e-02, -9.86647010e-02,\n",
       "        -7.15571791e-02, -3.11326589e-02, -6.33691400e-02, -3.37486155e-02,\n",
       "        -5.15327137e-03, -4.64216024e-02, -2.52999160e-02, -8.91020671e-02,\n",
       "         7.17216507e-02,  3.87177430e-02,  4.07487899e-02, -2.96507888e-02,\n",
       "        -7.30511500e-04, -3.79780754e-02, -1.28102489e-02, -6.23254366e-02,\n",
       "        -3.87981050e-02, -8.68536830e-02, -4.19627577e-02,  2.00161245e-02,\n",
       "        -2.80277058e-02,  7.52942543e-03, -1.03829941e-02,  8.68333951e-02,\n",
       "        -3.75252813e-02, -5.66160306e-03,  1.40898209e-02, -5.86497691e-03,\n",
       "         3.75118814e-02, -3.77018414e-02,  2.34952886e-02, -2.14751977e-02,\n",
       "         5.46403276e-03, -2.38575656e-02, -3.28724418e-04,  6.63544312e-02,\n",
       "         9.23560467e-04,  3.51518057e-02, -4.26523127e-02, -1.34657240e-02,\n",
       "        -1.13168089e-02, -4.69987690e-02, -3.14425901e-02,  6.57036677e-02,\n",
       "        -4.74201106e-02,  3.73344570e-02, -4.59740013e-02,  6.22988604e-02,\n",
       "         3.31216268e-02,  4.52537201e-02, -5.14506772e-02, -3.97063605e-02,\n",
       "        -1.71703007e-02, -4.81845848e-02, -1.03689637e-02, -3.36544663e-02,\n",
       "        -5.97972795e-03,  3.79984304e-02,  8.85080267e-03,  6.53344160e-03,\n",
       "        -4.59288955e-02, -4.84049274e-03, -4.48408443e-03,  1.88581105e-02,\n",
       "        -4.77668419e-02, -4.59185503e-02,  1.20561123e-01,  3.16036725e-03,\n",
       "         8.83195084e-03, -8.37757811e-02, -2.87315138e-02, -6.91039935e-02,\n",
       "        -3.45203057e-02, -2.05856152e-02, -2.97805835e-02,  1.75842643e-02,\n",
       "         5.69565129e-03,  5.35603017e-02, -4.96561453e-02,  2.27931887e-03,\n",
       "         5.66295236e-02, -2.43779197e-02, -7.54253641e-02, -7.23240525e-02,\n",
       "        -4.98815812e-02, -3.11267674e-02,  3.17685376e-03, -5.18993400e-02,\n",
       "        -7.79659078e-02,  1.53981689e-02,  3.32225710e-02,  4.25025001e-02,\n",
       "        -4.09994945e-02, -3.92982215e-02,  4.44748998e-02,  1.76375210e-02,\n",
       "         2.02444158e-02, -4.86485958e-02, -9.30869300e-03, -2.25039590e-02,\n",
       "         1.09105967e-01,  8.90337117e-03,  8.53565931e-02,  6.87577482e-03,\n",
       "         4.57026288e-02,  2.50112935e-04,  5.07426448e-02, -8.57609138e-03,\n",
       "         3.96743417e-02, -1.65027827e-02,  1.75847970e-02, -8.48824009e-02,\n",
       "        -3.48687731e-02,  2.71537760e-03,  8.39732811e-02,  3.28561924e-02,\n",
       "        -6.21807994e-03,  2.21308358e-02,  3.18900347e-02,  3.32317650e-02,\n",
       "         2.40518916e-02, -1.02541812e-01,  3.20908166e-02, -2.30816063e-02,\n",
       "         1.81476604e-02, -1.11119412e-02, -8.90782103e-03,  5.54829352e-02,\n",
       "         8.98245722e-02,  7.08142936e-04, -1.57352630e-02, -2.83711823e-03,\n",
       "        -7.36937150e-02,  7.12034628e-02,  3.37873921e-02,  7.99576472e-03,\n",
       "        -5.06723151e-02, -3.06341075e-03,  4.73630754e-03,  2.13648956e-02,\n",
       "        -8.22389573e-02, -3.35602164e-02, -5.95849864e-02,  5.27290776e-02,\n",
       "         6.24157414e-02, -1.53208645e-02, -4.38177362e-02,  2.25908104e-02,\n",
       "         4.75656465e-02, -6.55901581e-02,  1.09477649e-02, -7.07361090e-04,\n",
       "         8.31841398e-03, -3.22607644e-02,  7.02862218e-02,  6.71430603e-02,\n",
       "        -8.71859863e-02,  3.65207829e-02,  6.35061460e-03, -2.36078668e-02,\n",
       "        -8.29105265e-03,  2.30303444e-02,  3.34837399e-02,  3.84582616e-02,\n",
       "         3.23352888e-02, -6.64258189e-03, -1.45899570e-02, -3.53753706e-03,\n",
       "         1.57906301e-03,  1.85526758e-02,  5.12687415e-02,  1.75988080e-03,\n",
       "         5.20402491e-02,  1.70745160e-02,  4.16737348e-02,  8.26392509e-03,\n",
       "        -3.56399268e-02, -1.05958767e-02,  4.91483929e-03, -5.33572724e-03,\n",
       "         1.54513618e-05,  2.10572891e-02,  5.70633495e-03, -3.47761512e-02,\n",
       "        -3.86622399e-02, -3.80991660e-02,  7.64364004e-02, -1.00315558e-02,\n",
       "        -1.80220064e-02,  1.65643319e-02,  3.32656093e-02, -2.34018620e-02,\n",
       "        -2.34031472e-02,  1.18539240e-02,  2.79456954e-02, -1.10327797e-02,\n",
       "         8.75593442e-03, -3.25290114e-02, -3.10300142e-02,  4.46198620e-02,\n",
       "        -7.25737214e-02, -4.57478091e-02,  4.76207137e-02,  3.75662521e-02,\n",
       "         3.29715423e-02, -2.27458943e-02,  7.35677704e-02, -1.33820530e-02,\n",
       "        -1.09194908e-02, -8.37163553e-02, -3.47250514e-02, -4.32056114e-02,\n",
       "        -4.14881334e-02,  8.45896751e-02, -3.07850484e-02,  5.76830329e-03,\n",
       "         3.45419757e-02, -3.73269506e-02, -1.22251488e-01, -5.98447844e-02,\n",
       "         1.57024488e-02,  4.74878661e-02,  2.97486805e-03, -5.00545613e-02,\n",
       "        -2.93096229e-02, -3.49968206e-03, -1.15224235e-02,  2.64925719e-03,\n",
       "         7.92465806e-02, -7.58494670e-03, -3.90765443e-02,  1.21538453e-01,\n",
       "         1.91599801e-02, -3.37052271e-02, -2.05476973e-02, -2.80869007e-03,\n",
       "        -1.21257678e-02,  5.62102394e-03, -8.67316425e-02,  4.49001417e-03,\n",
       "        -7.00423270e-02, -4.04747166e-02,  4.23875041e-02, -2.31264085e-02,\n",
       "        -4.67778184e-02,  3.22839394e-02, -1.89015828e-02, -3.06346919e-02,\n",
       "        -3.68843158e-03,  3.22679691e-02, -3.69229130e-02,  8.24648514e-03,\n",
       "         2.44989004e-02, -7.57397478e-03,  3.48339491e-02,  4.13501859e-02,\n",
       "        -4.88491245e-02,  2.15239562e-02, -1.75027910e-03, -4.20980155e-02,\n",
       "        -1.40158655e-02, -8.04554671e-02, -2.70813238e-02, -2.82408930e-02,\n",
       "         1.19656287e-02, -5.29244728e-03, -2.27559060e-02, -1.14073884e-02,\n",
       "         1.58280004e-02, -2.74594990e-03, -9.77453403e-03,  4.72798310e-02,\n",
       "         1.80952437e-02,  3.72487530e-02, -4.13409173e-02, -1.14695504e-01,\n",
       "        -1.83101642e-04,  1.09800119e-02, -1.08682376e-03, -2.59654745e-02,\n",
       "         1.05528282e-02,  1.14646696e-01, -4.24349830e-02,  2.53095068e-02,\n",
       "         1.97989447e-03, -6.39480946e-04, -3.08423303e-03,  1.18828245e-01,\n",
       "         2.79183593e-02,  2.18686461e-02,  7.50136981e-03, -2.07060222e-02,\n",
       "        -4.68037538e-02, -1.83724556e-02,  3.12707499e-02, -9.20465961e-03,\n",
       "         3.73817757e-02,  1.58495381e-02,  7.11323810e-04, -3.07171177e-02,\n",
       "         2.32999027e-02, -1.49564035e-02,  4.58881445e-02,  3.76526378e-02,\n",
       "         2.23373771e-02, -1.27861919e-02,  3.78574245e-02, -7.14044496e-02,\n",
       "        -3.75744477e-02,  3.61789651e-02, -6.05989189e-04,  1.77206397e-02,\n",
       "        -4.63947207e-02, -6.98435819e-03, -2.22215429e-02, -3.11644562e-02,\n",
       "         1.03133120e-01, -2.22759116e-02, -5.85304759e-02,  5.36798276e-02,\n",
       "        -5.29932976e-02, -6.28056899e-02, -6.05352037e-02, -4.05059010e-02,\n",
       "         6.05102144e-02,  3.80683541e-02,  7.41285784e-03, -3.39682512e-02,\n",
       "        -1.23520400e-02,  8.62005875e-02, -4.72011864e-02, -3.27871647e-03,\n",
       "         1.21235009e-02,  5.80858774e-02,  5.92106096e-02,  2.36856062e-02,\n",
       "         4.00803797e-02, -3.04723978e-02,  2.64616273e-02, -4.27168757e-02,\n",
       "        -5.28003387e-02,  7.12064877e-02, -4.94466117e-03, -4.37730961e-02,\n",
       "        -2.60753985e-02, -4.25341949e-02,  4.67834510e-02, -6.13379106e-02,\n",
       "         6.44358248e-02, -1.95201412e-02, -3.53826433e-02, -6.10857224e-03,\n",
       "        -3.87462564e-02, -5.32282144e-03, -4.39137481e-02, -1.67884678e-02,\n",
       "         1.04486477e-02, -2.71847732e-02,  2.47991830e-02, -9.49232280e-03,\n",
       "         5.08934744e-02, -1.78738795e-02,  2.98222899e-02, -3.21865454e-02,\n",
       "         2.99431779e-03, -1.83899496e-02, -3.60636115e-02, -9.63834953e-03,\n",
       "        -2.10172031e-02, -2.45179906e-02,  4.53543141e-02,  1.68637708e-02,\n",
       "         6.71062171e-02,  2.73200944e-02, -5.31723583e-03, -6.26369715e-02,\n",
       "        -1.77460480e-02, -6.21085949e-02,  7.98015017e-03, -1.09965608e-01,\n",
       "        -7.51520395e-02,  7.98259396e-03,  1.95058212e-02,  4.45405468e-02,\n",
       "         1.00752581e-02, -1.01538058e-02, -6.35463139e-03, -4.38674092e-02,\n",
       "        -1.19465054e-04, -1.79579444e-02,  7.15908334e-02,  6.34011701e-02,\n",
       "         4.03826050e-02,  3.88409682e-02,  4.07140516e-02, -6.48578256e-02,\n",
       "        -4.20450345e-02, -2.49433815e-02, -4.63849716e-02, -1.25849545e-02,\n",
       "         2.49537081e-02, -2.64254548e-02, -1.73225477e-02, -2.07463205e-02,\n",
       "        -3.08947321e-02, -1.35660265e-02, -7.73565248e-02,  3.96762490e-02,\n",
       "        -5.48113883e-02,  4.65926453e-02, -1.76091902e-02, -3.84368002e-02,\n",
       "        -4.29712748e-03,  9.64440703e-02,  4.08758968e-02,  1.46479411e-02,\n",
       "        -2.71059331e-02, -7.90129509e-03, -6.04164880e-03,  5.26848920e-02,\n",
       "         6.27018437e-02,  7.18532354e-02,  6.79200292e-02,  1.35412831e-02,\n",
       "         3.34797986e-02,  3.79706696e-02, -7.72575475e-03, -4.46621627e-02,\n",
       "         5.41849434e-02, -1.92723814e-02, -2.24041864e-02,  7.23760054e-02,\n",
       "        -1.04904911e-02, -1.09786186e-02,  7.49068037e-02, -9.27445292e-02,\n",
       "         4.68052551e-02,  2.24725585e-02, -2.79723816e-02, -1.36490853e-03,\n",
       "        -4.10933085e-02,  7.32660964e-02, -6.22072257e-03, -2.33660936e-02,\n",
       "        -1.91903412e-02, -2.94097792e-02, -1.48152253e-02, -2.15086667e-03,\n",
       "         1.45440977e-02,  1.76225286e-02,  1.03524052e-01,  5.43345474e-02,\n",
       "         4.01612557e-02, -2.57119834e-02, -6.80642053e-02,  5.24903461e-02,\n",
       "        -2.15624850e-02, -1.04389591e-02, -2.51806639e-02, -2.07493827e-03,\n",
       "         7.11814407e-03,  6.84395656e-02, -4.73077670e-02,  2.36725397e-02,\n",
       "        -2.69492455e-02, -5.92076182e-02, -4.49810363e-02, -1.03155458e-02],      dtype=float32),\n",
       " 'Bhl': Array([-0.0518325 , -0.00254878, -0.0104192 ,  0.00290345,  0.03380278,\n",
       "        -0.07728022,  0.06602838,  0.0519497 , -0.00694344,  0.03123034,\n",
       "        -0.0260879 , -0.02288022,  0.04282226,  0.05041742,  0.00482851,\n",
       "        -0.0007245 ,  0.01288415, -0.01703883,  0.00102344,  0.01068917,\n",
       "         0.00164293, -0.0612621 , -0.02854194,  0.01599333, -0.03260069,\n",
       "         0.04784553, -0.02552552, -0.04548349, -0.01726608,  0.01406777,\n",
       "         0.06478434, -0.00776864,  0.05273855, -0.00017602, -0.04683848,\n",
       "        -0.01320011,  0.0420268 ,  0.03941067,  0.07082711, -0.00902095,\n",
       "        -0.04301713, -0.05540396, -0.03088783,  0.02082137, -0.10903653,\n",
       "        -0.03668   , -0.01065544, -0.0262638 , -0.0180013 , -0.03424142,\n",
       "         0.01541103,  0.01482391, -0.00045982, -0.05648725,  0.02928194,\n",
       "        -0.04461947, -0.08320812,  0.01223897, -0.00795621,  0.09202816,\n",
       "         0.01694497,  0.03327333,  0.02254561,  0.02347161, -0.01079851,\n",
       "         0.0138308 ,  0.06000178,  0.04269929,  0.00702483,  0.05198384,\n",
       "         0.09979893,  0.01740189, -0.03338584, -0.03689279,  0.01589393,\n",
       "        -0.00281737, -0.01554822, -0.01483685,  0.01590321,  0.0305568 ,\n",
       "         0.05560309, -0.02700646, -0.02642407, -0.08043755,  0.04668214,\n",
       "         0.00625457, -0.06744075, -0.03321096,  0.02013169,  0.02437229,\n",
       "        -0.00655976, -0.02946083,  0.03509317, -0.05673237, -0.00202473,\n",
       "        -0.00411046, -0.01702703, -0.00048535, -0.0134147 ,  0.0390972 ,\n",
       "         0.02692388, -0.05718365,  0.0521197 , -0.02838977, -0.05014243,\n",
       "         0.00512917,  0.00304362,  0.01723856,  0.05818371, -0.06758609,\n",
       "         0.03621269, -0.05252076,  0.05755156,  0.06234151,  0.0556059 ,\n",
       "         0.06019701, -0.00993584, -0.04720629,  0.06103025, -0.00318214,\n",
       "         0.00884857, -0.02285421, -0.0600213 ,  0.02353044, -0.00610867,\n",
       "         0.02798011,  0.0298463 ,  0.07438631,  0.00987459,  0.02578574,\n",
       "        -0.03945987, -0.03701958,  0.00902119,  0.07555754, -0.01247113,\n",
       "        -0.06722646, -0.0050953 , -0.03543191,  0.00527044,  0.00881342,\n",
       "         0.03792771, -0.04106668, -0.00916556, -0.09713601, -0.01699751,\n",
       "         0.04162435,  0.10146377,  0.03422358,  0.00389461, -0.03969918,\n",
       "        -0.02500683,  0.05668303,  0.00354911,  0.01621129, -0.01508478,\n",
       "         0.11713544,  0.07179195, -0.0847074 , -0.01968857, -0.00500182,\n",
       "         0.02394298, -0.08719506,  0.04790341,  0.01863015,  0.04844956,\n",
       "         0.02745618,  0.00020621,  0.09198512,  0.01645834,  0.03858338,\n",
       "         0.00773858,  0.10330337,  0.05925074, -0.07292689,  0.11022887,\n",
       "        -0.00280139, -0.01964178, -0.01034568,  0.05771279, -0.01575956,\n",
       "         0.04970049, -0.01619658, -0.06152386, -0.01336133, -0.04014363,\n",
       "        -0.01118911,  0.00885691,  0.00033973, -0.07264281,  0.02308457,\n",
       "         0.09218361, -0.00538531,  0.03170103, -0.03500854, -0.03698253,\n",
       "         0.0221051 , -0.05954282,  0.01013709, -0.01663374, -0.08213972,\n",
       "         0.00646995,  0.00616762,  0.07500676, -0.01465069, -0.02934642,\n",
       "        -0.03489095, -0.07669857,  0.0247033 ,  0.0378072 , -0.00235079,\n",
       "        -0.00253978,  0.02454866, -0.07812435, -0.02703169, -0.00019795,\n",
       "         0.06083044, -0.01795566, -0.02803496, -0.04426189,  0.03027996,\n",
       "        -0.02974015, -0.0044833 ,  0.07209554, -0.04799774, -0.03032646,\n",
       "         0.04624216, -0.00307532, -0.08460782, -0.03275658,  0.02642211,\n",
       "         0.04268946, -0.05253989, -0.06717444, -0.00921802,  0.01830721,\n",
       "         0.02186476, -0.07135721, -0.11460871, -0.0418908 ,  0.02573875,\n",
       "         0.03504452,  0.00517309,  0.00359629,  0.04513341,  0.05104662,\n",
       "        -0.05832529,  0.05140006,  0.04619038, -0.07680458, -0.08273077,\n",
       "        -0.0892226 , -0.01774029,  0.05803801,  0.01824515, -0.01583989,\n",
       "        -0.02439426,  0.03705959,  0.02014714, -0.05594678, -0.00775293,\n",
       "         0.11546259,  0.04462969, -0.00687409,  0.02580671,  0.04862085,\n",
       "        -0.05255651, -0.0360481 , -0.05917649, -0.0166816 , -0.06516846,\n",
       "         0.04380196, -0.04690381,  0.04895914,  0.05718977, -0.00698372,\n",
       "         0.0373374 ,  0.01430776, -0.04431244,  0.00557127,  0.05621159,\n",
       "         0.0042245 ,  0.00249004, -0.07899639, -0.02150529, -0.04159643,\n",
       "         0.04141002, -0.0284905 , -0.00241309, -0.03159411, -0.04501989,\n",
       "         0.02837892, -0.05547638, -0.02206125,  0.01353562, -0.01698052,\n",
       "         0.02887083, -0.0546227 ,  0.01275313, -0.08148243,  0.03449973,\n",
       "         0.02816222,  0.02690555,  0.03889835, -0.00697174, -0.05161652,\n",
       "        -0.00365086,  0.00631077, -0.02598705, -0.02690941,  0.03986994,\n",
       "         0.01602162, -0.03052025, -0.01441792,  0.01856655,  0.11315178,\n",
       "        -0.03550959, -0.00626296, -0.01005926,  0.0846632 ,  0.00033258,\n",
       "         0.03639432,  0.00828089,  0.01866023,  0.04715814,  0.04363605,\n",
       "        -0.00831811,  0.0012298 , -0.06507451, -0.00652389, -0.09040035,\n",
       "        -0.07400296, -0.0777098 , -0.02433891,  0.01859559, -0.06961213,\n",
       "        -0.01886361, -0.01912354,  0.02647766,  0.05897576, -0.00182572,\n",
       "        -0.08432746, -0.07633943,  0.0117363 ,  0.04001156, -0.01303746,\n",
       "         0.01098076, -0.00582367,  0.03233374, -0.0112619 ,  0.02990957,\n",
       "        -0.03653122,  0.03349793,  0.00135104,  0.05334957, -0.02309985,\n",
       "        -0.06089237,  0.01573568, -0.08389109, -0.01670461,  0.00564116,\n",
       "        -0.05396303, -0.02326048,  0.01431081, -0.00876708, -0.07946078,\n",
       "        -0.00727166, -0.03817729,  0.00035125, -0.12114157,  0.00561495,\n",
       "        -0.00657288,  0.02561884, -0.02999984,  0.06871483, -0.01875656,\n",
       "         0.01825721,  0.03462421,  0.00753878, -0.01689852, -0.04436203,\n",
       "         0.00228256, -0.02548134,  0.04197438,  0.04409524, -0.06823956,\n",
       "         0.02262932,  0.06923169,  0.01576777,  0.0297066 , -0.04324843,\n",
       "        -0.01901739, -0.09386793, -0.03808882, -0.04466388, -0.02375219,\n",
       "         0.02712762,  0.01514534,  0.02378408, -0.02520496,  0.03616262,\n",
       "         0.09780171, -0.01312613, -0.01736161,  0.05395175,  0.01541215,\n",
       "        -0.02901052,  0.04226497, -0.02637101,  0.04405002,  0.02148833,\n",
       "         0.08812409, -0.02728301, -0.00069179,  0.00088199, -0.03159713,\n",
       "         0.01013293,  0.10315412, -0.00559783,  0.01559759, -0.01841203,\n",
       "         0.02375126, -0.02657038,  0.0526282 ,  0.02208713, -0.1345214 ,\n",
       "        -0.04511675, -0.06956273, -0.04395   , -0.00768096, -0.06416101,\n",
       "        -0.02200038,  0.05355143, -0.03430096, -0.00865219,  0.01959111,\n",
       "        -0.09129328,  0.04423863,  0.02024395,  0.05667822,  0.01107978,\n",
       "         0.00133243,  0.02198769,  0.01050934,  0.07814097,  0.01453567,\n",
       "        -0.01333362,  0.02794276,  0.06910843,  0.05767372,  0.05614064,\n",
       "        -0.03652586,  0.01104563,  0.07958172,  0.06272031,  0.10246705,\n",
       "        -0.01761713,  0.01186202, -0.01426443,  0.00393177,  0.04067726,\n",
       "         0.02295084,  0.03413615,  0.06045344, -0.00595559, -0.03616172,\n",
       "        -0.04984902,  0.00671824,  0.00818349, -0.06194729, -0.03399161,\n",
       "        -0.03938879,  0.02328908,  0.00225629, -0.00439162,  0.03084596,\n",
       "        -0.04862726, -0.01450708,  0.00446673, -0.07389949,  0.06198515,\n",
       "        -0.03943244, -0.00936532, -0.04870751, -0.01153176,  0.00684314,\n",
       "        -0.0605125 ,  0.02091948,  0.01856966,  0.00038473, -0.00929483,\n",
       "        -0.05778235,  0.00549572, -0.00939232, -0.00381972,  0.01698944,\n",
       "         0.04689822, -0.07742695,  0.03838415, -0.03342392,  0.00628618],      dtype=float32),\n",
       " 'Bho': Array([-2.58616544e-02, -1.16807505e-01, -2.14246493e-02,  6.97630048e-02,\n",
       "        -1.84232555e-02, -4.08797413e-02,  5.79380877e-02,  4.72385399e-02,\n",
       "         2.91978456e-02,  1.15808202e-02, -7.71845728e-02, -3.28244194e-02,\n",
       "         4.36532684e-02, -1.48192272e-02,  2.24132836e-02, -9.04172584e-02,\n",
       "        -4.46046181e-02,  2.94575468e-02,  1.06974347e-02,  3.48882005e-02,\n",
       "        -1.60763192e-03, -4.07707021e-02,  6.07943423e-02,  7.74403289e-03,\n",
       "         1.25921695e-02,  6.34282231e-02, -6.12031445e-02,  1.44432141e-02,\n",
       "         4.99340193e-03,  3.08223087e-02,  3.13512795e-02,  9.45909396e-02,\n",
       "         3.54993008e-02, -1.39296688e-02,  7.46001825e-02, -3.65680293e-03,\n",
       "         1.10997641e-02, -4.80207503e-02,  2.07440201e-02, -1.88493878e-02,\n",
       "         3.73085425e-03, -2.92808060e-02, -1.89079978e-02,  8.45237635e-03,\n",
       "        -5.08555099e-02,  6.50289729e-02, -2.50410177e-02, -9.88361612e-03,\n",
       "         4.06134836e-02,  4.79714870e-02,  5.16235977e-02, -6.48802519e-02,\n",
       "         1.28307380e-02,  2.18507294e-02,  1.00869566e-01,  2.36692801e-02,\n",
       "        -5.76225296e-02, -4.91837636e-02,  5.64483851e-02,  6.50075683e-03,\n",
       "         3.22488323e-02,  1.85212642e-02,  5.04775671e-03, -9.06395912e-02,\n",
       "        -2.92600878e-03,  1.66188441e-02,  4.23781611e-02, -4.46821675e-02,\n",
       "         8.56117904e-02,  4.20127288e-02,  1.99818909e-02, -4.35076915e-02,\n",
       "         4.69096154e-02, -2.39513516e-02,  5.67265507e-03,  9.48178843e-02,\n",
       "        -4.84409854e-02, -3.80926579e-02, -2.62413044e-02, -1.73459214e-03,\n",
       "        -3.27002853e-02,  4.04824503e-02,  4.31990437e-02, -1.71611011e-02,\n",
       "        -2.26238780e-02,  3.63797590e-04, -3.25393192e-02,  2.87886541e-02,\n",
       "         6.22272789e-02,  2.78899465e-02,  8.07414204e-02, -6.52859062e-02,\n",
       "        -4.68176976e-02,  1.93544794e-02, -7.62939081e-02, -6.23281971e-02,\n",
       "         1.50973434e-02,  7.34649459e-03, -1.58935934e-02, -1.80495903e-02,\n",
       "         3.31652649e-02, -1.60196740e-02,  2.43302099e-02, -1.83828808e-02,\n",
       "        -4.34593968e-02,  7.33103752e-02,  1.31004313e-02,  7.25530903e-04,\n",
       "         2.90667173e-02,  2.76363045e-02,  7.48368502e-02, -9.81442854e-02,\n",
       "        -2.75934767e-02,  2.50884797e-02, -3.05459127e-02,  2.60192920e-02,\n",
       "         2.89241131e-02,  5.18882722e-02, -1.76771693e-02,  4.35150005e-02,\n",
       "         6.30928874e-02,  3.37140472e-03,  3.61611210e-02,  7.59583339e-02,\n",
       "        -6.76569063e-03,  6.70858622e-02,  7.55415931e-02, -5.43310121e-02,\n",
       "         1.91349275e-02, -6.31981343e-02,  5.30369915e-02, -1.06893694e-02,\n",
       "        -1.08488621e-02, -8.97977054e-02, -1.01571411e-01, -3.37441042e-02,\n",
       "        -4.27109078e-02,  3.73175927e-02, -3.56560647e-02,  4.08230834e-02,\n",
       "        -1.69506595e-02,  1.11221606e-02,  2.57492415e-03, -3.06149740e-02,\n",
       "         4.09739651e-03,  3.66904475e-02, -7.70919351e-03, -1.25464899e-02,\n",
       "        -2.53038555e-02, -5.88560142e-02,  5.11145331e-02,  4.06968594e-03,\n",
       "         3.29994485e-02,  3.70816491e-03,  9.11014993e-03, -2.54398007e-02,\n",
       "         4.54825088e-02, -5.99261895e-02, -4.53196699e-03, -1.23017905e-02,\n",
       "        -2.80256271e-02,  3.84520628e-02, -8.93582217e-03, -1.66618917e-03,\n",
       "        -2.66804988e-03,  1.91665422e-02,  5.56405038e-02, -4.72468585e-02,\n",
       "         4.92543690e-02,  7.18732039e-03, -2.94178743e-02, -4.09792848e-02,\n",
       "         2.40115672e-02,  5.78174926e-02, -9.87737160e-03,  2.34808517e-03,\n",
       "         1.06350712e-01, -6.84012175e-02, -9.73474309e-02, -7.26660565e-02,\n",
       "         6.74241558e-02,  6.03521541e-02,  1.19872214e-02, -1.42156975e-02,\n",
       "        -2.74152644e-02, -4.48186807e-02, -7.56754950e-02, -4.07873914e-02,\n",
       "         3.54773225e-03, -3.86986881e-02, -6.38418272e-02,  6.26370823e-03,\n",
       "         2.76028458e-02,  9.45715047e-03, -2.46051326e-02, -5.76262549e-02,\n",
       "        -3.18366960e-02, -9.10382867e-02, -4.05511595e-02,  3.29190791e-02,\n",
       "         2.28196029e-02,  8.04981962e-03,  7.17801675e-02,  7.84397647e-02,\n",
       "         3.39372531e-02, -2.42723264e-02,  7.79952779e-02,  1.24308513e-02,\n",
       "         2.12250440e-03,  2.66529396e-02, -3.92205007e-02, -1.02357089e-03,\n",
       "         2.72428654e-02,  1.94478855e-02,  4.07882333e-02,  3.14383619e-02,\n",
       "        -1.39080989e-03,  1.51541699e-02, -5.17482832e-02, -3.77659798e-02,\n",
       "         6.66757375e-02, -1.38547985e-04, -7.97575805e-03,  6.67687356e-02,\n",
       "         5.63993156e-02, -1.12338774e-01, -4.22784500e-03, -7.32564274e-03,\n",
       "         1.49182510e-02,  1.04987398e-01, -6.10766783e-02, -4.11027670e-02,\n",
       "        -5.82511686e-02, -1.02519738e-02,  8.12134221e-02, -8.54307264e-02,\n",
       "        -2.15614829e-02,  4.96134646e-02,  2.44272081e-03,  5.96749177e-03,\n",
       "        -2.54896991e-02,  4.37150262e-02, -4.25095782e-02,  9.04723071e-04,\n",
       "         6.37417585e-02,  2.83698514e-02,  4.03286563e-03, -2.31215525e-02,\n",
       "        -4.54339348e-02,  8.83190259e-02, -4.91063185e-02, -5.40569378e-03,\n",
       "         3.62185948e-02, -3.77516858e-02,  2.51092035e-02, -1.83463879e-02,\n",
       "        -9.61656682e-04,  4.51591685e-02, -5.15406504e-02, -4.85253371e-02,\n",
       "         1.67428367e-02,  1.80024188e-02,  4.60820785e-03,  1.90800615e-02,\n",
       "        -5.89914061e-02, -8.33533611e-03,  9.45586786e-02, -2.73033101e-02,\n",
       "         1.35781365e-02,  9.32096411e-03,  9.11808852e-03,  7.07371011e-02,\n",
       "         7.76679604e-04,  2.32763495e-02,  1.65626705e-02, -1.01336138e-02,\n",
       "         7.33763725e-02,  2.34046131e-02,  1.07229449e-01,  5.05773649e-02,\n",
       "         1.81641858e-02,  2.41139177e-02,  1.91268809e-02,  2.79766682e-04,\n",
       "         3.84230241e-02,  1.07169487e-02, -1.02796957e-01, -5.31013720e-02,\n",
       "         1.42118618e-01,  2.73211114e-02, -4.82740067e-03, -3.85378636e-02,\n",
       "         5.46128266e-02, -1.27288356e-01, -7.39703625e-02, -6.63028006e-03,\n",
       "        -4.98011010e-03,  3.14733386e-02, -9.25748888e-03, -4.02642749e-02,\n",
       "        -4.29459708e-03,  4.70362380e-02, -4.21672463e-02, -2.84509435e-02,\n",
       "        -9.71831232e-02,  4.09969054e-02, -3.42335962e-02, -2.83375103e-02,\n",
       "         3.82049344e-02,  4.13688645e-02, -4.19367366e-02,  1.43640991e-02,\n",
       "        -2.62221321e-02, -7.45653117e-04,  2.42362525e-02,  1.97759341e-03,\n",
       "         1.40544502e-02, -1.05899796e-02, -5.94361946e-02,  1.61067341e-02,\n",
       "        -1.50563745e-02,  4.28576255e-03,  4.53755893e-02,  9.85132996e-04,\n",
       "         7.52774775e-02,  5.48103899e-02,  3.91704962e-02,  1.31156705e-02,\n",
       "        -6.66022161e-03,  3.28941494e-02,  4.09506857e-02, -1.33575741e-02,\n",
       "        -1.09295556e-02,  8.70645642e-02,  1.14711458e-02, -2.38494296e-02,\n",
       "         1.66654754e-02, -7.81388301e-03,  3.24560069e-02,  1.07613660e-03,\n",
       "        -8.55439715e-03, -6.93925247e-02, -2.53205709e-02,  6.10586740e-02,\n",
       "        -3.34782526e-02,  2.48144120e-02,  2.90260855e-02, -4.90806997e-03,\n",
       "         4.61646579e-02, -5.66161200e-02,  7.85711035e-03,  7.35223070e-02,\n",
       "         2.70930659e-02, -6.65454566e-02, -4.70556319e-02,  3.48671563e-02,\n",
       "         2.54421663e-02, -6.92781946e-03, -5.66215487e-03, -2.29065139e-02,\n",
       "        -2.34539788e-02, -3.20525803e-02,  2.38123648e-02,  4.15953174e-02,\n",
       "         7.33436197e-02,  2.41841115e-02,  3.21292575e-03,  2.00476148e-03,\n",
       "         9.26884189e-02,  2.27359924e-02, -4.72350642e-02, -5.29507957e-02,\n",
       "        -5.07134106e-03,  5.44366054e-02, -4.39438708e-02,  1.26274694e-02,\n",
       "         1.12477705e-01, -2.42606495e-02, -2.41329856e-02,  2.32428163e-02,\n",
       "        -3.53112854e-02,  4.37396765e-02,  6.42298087e-02, -1.00532975e-02,\n",
       "        -2.75455303e-02,  4.47689965e-02, -8.30168463e-03, -2.95365416e-02,\n",
       "        -2.99301650e-02, -1.43054863e-02, -3.42128575e-02, -4.64759395e-02,\n",
       "         3.27889062e-02,  2.98631061e-02,  1.71805564e-02, -2.63421554e-02,\n",
       "         4.91027981e-02,  1.81570314e-02, -2.24663713e-03,  2.72050556e-02,\n",
       "         5.29721938e-02, -1.16276175e-01, -3.49441282e-02,  5.52341938e-02,\n",
       "        -2.99491156e-02,  1.43813749e-03, -1.21309301e-02,  3.91328819e-02,\n",
       "        -1.98080745e-02,  9.61216632e-03, -4.04529385e-02,  4.02538441e-02,\n",
       "         3.30530889e-02, -6.94599003e-02,  2.13117898e-02, -1.93411596e-02,\n",
       "        -9.32908151e-03,  7.70401955e-03, -2.10446063e-02, -9.03090015e-02,\n",
       "         5.13128489e-02,  2.86033358e-02,  5.30535914e-03, -5.34542836e-03,\n",
       "         4.96982923e-03, -2.01682281e-02,  6.20927736e-02, -9.75685194e-03,\n",
       "         8.72851443e-03,  6.29751533e-02,  2.67857499e-03, -4.05986384e-02,\n",
       "         9.19984840e-03,  5.51973321e-02,  1.03035159e-02,  1.01775005e-02,\n",
       "         3.86382006e-02,  3.83121781e-02,  2.80648991e-02,  8.67541414e-03,\n",
       "        -6.39930591e-02,  3.01072225e-02, -9.37336311e-03, -7.32789636e-02,\n",
       "         3.31285559e-02,  3.77780409e-03, -6.18404932e-02, -2.39699706e-02,\n",
       "        -8.20930600e-02,  3.64378057e-02, -3.14629031e-03, -2.78130285e-02,\n",
       "         5.30414693e-02, -8.95373523e-02, -1.63839497e-02, -8.60610697e-03,\n",
       "         1.21215452e-02, -6.13620330e-04, -3.42946150e-03,  7.94143304e-02,\n",
       "         3.59998792e-02, -2.66002808e-02,  4.22724262e-02,  5.63120171e-02,\n",
       "         3.36016691e-03, -3.62778567e-02, -3.21908779e-02, -4.11133096e-02,\n",
       "         4.44237851e-02, -7.24159554e-02, -7.29061514e-02,  2.12129857e-02,\n",
       "         5.27335843e-03,  1.32052116e-02, -3.73991951e-02, -1.63939036e-02,\n",
       "        -3.69229494e-03, -5.22296652e-02, -1.70452204e-02, -6.99635735e-03,\n",
       "         6.94039091e-03,  9.92903579e-03, -5.93761355e-02, -3.27442773e-02,\n",
       "        -2.95966212e-02,  1.32264569e-03, -2.64889579e-02, -7.05415830e-02,\n",
       "         5.36837466e-02,  6.65381923e-02,  1.24145886e-02, -2.37656198e-02,\n",
       "        -1.47171849e-02,  4.84863110e-03,  3.90020828e-03,  3.77114341e-02,\n",
       "        -2.97788829e-02,  4.99458201e-02,  5.59177995e-03, -4.85319309e-02],      dtype=float32),\n",
       " 'Bo': Array([3.53165  , 3.2140222], dtype=float32),\n",
       " 'Bxf': Array([ 1.65688545e-02, -2.06920635e-02, -5.75393401e-02,  6.39427453e-02,\n",
       "        -2.95940042e-02, -3.73975933e-02, -7.27796108e-02, -2.63257865e-02,\n",
       "         1.19028604e-02,  6.02308707e-03,  6.83320090e-02, -1.13525416e-03,\n",
       "         4.44831811e-02, -1.50118470e-02, -3.31046246e-02, -3.65414061e-02,\n",
       "         6.96633235e-02, -3.12777944e-02, -7.27319345e-02, -4.66371290e-02,\n",
       "         1.12805031e-02,  2.62473579e-02, -3.61787751e-02, -3.82668078e-02,\n",
       "        -5.85253686e-02,  7.90328439e-03, -1.13828313e-02,  3.84865999e-02,\n",
       "        -4.19864878e-02, -5.76509126e-02,  7.84898177e-03, -7.15534836e-02,\n",
       "         3.52910794e-02,  2.95335911e-02,  3.30663659e-02,  5.33938296e-02,\n",
       "         2.65726689e-02,  2.11726483e-02,  9.72100049e-02, -2.23376555e-03,\n",
       "         1.03969802e-03, -4.65558581e-02,  3.61983813e-02, -5.35674728e-02,\n",
       "         1.32327387e-03, -3.75969894e-02,  1.09820133e-02,  7.42055550e-02,\n",
       "         3.22625227e-02,  3.04760318e-03,  9.21957940e-02, -1.58506026e-03,\n",
       "        -1.72699112e-02,  6.76133845e-04,  3.14720697e-03,  2.42980774e-02,\n",
       "        -3.79929729e-02,  4.89283688e-02,  1.82214975e-02,  6.21711370e-03,\n",
       "         2.94941608e-02, -1.33996538e-03,  7.80054089e-03,  1.42645016e-02,\n",
       "         1.40420813e-02, -7.91135337e-03,  6.96961135e-02,  9.11271349e-02,\n",
       "         1.12889167e-02,  3.00943162e-02,  1.72019657e-02,  5.10284770e-03,\n",
       "         2.63183694e-02,  2.72077564e-02,  3.95045094e-02,  1.30815580e-01,\n",
       "        -2.02382263e-02, -1.24671003e-02,  5.44354180e-03,  1.36244390e-02,\n",
       "         8.29662755e-02, -5.15846871e-02,  5.67989796e-02,  5.30213118e-02,\n",
       "         4.88819852e-02, -3.40632610e-02, -2.82833651e-02, -1.29682012e-02,\n",
       "         4.56841178e-02,  2.54965127e-02,  3.89902331e-02, -1.62973832e-02,\n",
       "        -6.11289181e-02,  2.55872179e-02, -5.33200838e-02,  2.44531017e-02,\n",
       "        -3.58338654e-02, -1.04165062e-01,  1.29490541e-02, -3.37027423e-02,\n",
       "        -2.73489561e-02,  1.94857903e-02, -5.61601110e-02, -1.49150938e-02,\n",
       "         2.31908709e-02, -5.54990582e-02, -4.61958498e-02, -1.74498372e-02,\n",
       "        -8.28653127e-02, -1.68069024e-02,  1.01950923e-02, -6.17894381e-02,\n",
       "         9.36091691e-02,  2.22515073e-02,  3.25613730e-02, -7.85509497e-03,\n",
       "         1.50816282e-02, -6.58968538e-02, -3.50762568e-02,  6.40081689e-02,\n",
       "         4.78135273e-02,  2.43711062e-02,  4.76001715e-03, -1.84776802e-02,\n",
       "        -3.39778960e-02,  3.07938438e-02, -4.77143767e-04,  1.57228168e-02,\n",
       "        -5.39955609e-02, -1.57700852e-02,  3.38172391e-02,  3.94793078e-02,\n",
       "        -8.07458237e-02, -2.31776922e-03, -1.79573968e-02,  4.03255448e-02,\n",
       "        -3.75257321e-02, -4.03004773e-02, -2.19267476e-02, -1.70553811e-02,\n",
       "        -2.24752985e-02, -4.13453020e-02, -4.24209014e-02,  1.12887025e-01,\n",
       "        -6.44985363e-02,  4.51673381e-02, -8.78088549e-02, -4.75751869e-02,\n",
       "        -1.90555714e-02, -2.08426509e-02, -8.85049477e-02, -1.21454649e-01,\n",
       "        -1.43587738e-02, -4.48699109e-02,  4.94144559e-02, -1.63577672e-04,\n",
       "         2.43389141e-02,  1.18601499e-02, -4.06805165e-02,  7.54495636e-02,\n",
       "         5.66330776e-02,  5.91278896e-02, -1.62028074e-02,  4.43760753e-02,\n",
       "        -1.79965561e-03, -2.41826233e-02,  4.01084833e-02,  1.76252574e-02,\n",
       "        -1.78131962e-03, -3.29100080e-02,  6.97113620e-03, -2.07110122e-02,\n",
       "         2.88824178e-02, -4.43196669e-02, -5.90183958e-02, -3.99783179e-02,\n",
       "         2.03383639e-02,  5.76498508e-02,  6.92310259e-02,  4.01122533e-02,\n",
       "        -8.84659216e-03, -2.07954999e-02, -2.13688128e-02,  5.13172634e-02,\n",
       "         4.18089591e-02,  3.43125425e-02, -5.11529334e-02, -1.73124783e-02,\n",
       "         3.38973105e-02, -8.75437707e-02, -3.47245112e-02,  8.16232786e-02,\n",
       "         4.48244363e-02, -2.72300541e-02,  6.90606087e-02,  3.50518078e-02,\n",
       "         1.26535743e-02,  9.39013250e-03, -2.57318560e-02, -7.48937428e-02,\n",
       "        -8.11475292e-02, -1.63201038e-02,  5.35749719e-02, -2.29241587e-02,\n",
       "        -5.40260077e-02,  2.81932037e-02,  7.69408569e-02, -4.67450805e-02,\n",
       "        -6.08385913e-02,  5.88589832e-02, -2.07471829e-02,  1.56861637e-02,\n",
       "        -4.40091789e-02, -2.69786268e-02, -1.78988781e-02,  4.46010232e-02,\n",
       "         1.24273654e-02, -1.93347670e-02,  4.92645167e-02,  3.07959486e-02,\n",
       "        -4.09618951e-02, -1.03049772e-02, -6.67088255e-02,  1.83512215e-02,\n",
       "        -5.43135172e-03,  6.28023073e-02, -4.09175232e-02,  1.91230308e-02,\n",
       "         1.31394798e-02, -4.76466194e-02,  1.17471004e-02,  4.09320965e-02,\n",
       "         7.91434664e-03,  9.57151875e-02, -1.60605758e-02,  2.12324895e-02,\n",
       "         2.78283451e-02, -3.67928185e-02,  4.96849827e-02,  4.70697647e-03,\n",
       "        -1.10427707e-01,  5.26659302e-02, -2.98820939e-02, -4.14623506e-02,\n",
       "         1.01699699e-02,  9.66090858e-02, -2.40523033e-02, -4.74956967e-02,\n",
       "        -2.07632557e-02,  5.04916832e-02,  2.78463811e-02,  4.57541551e-03,\n",
       "         2.45309696e-02, -5.22217080e-02, -2.61271484e-02,  7.58858994e-02,\n",
       "         8.86143744e-02,  2.82085761e-02,  8.05970654e-02, -3.39889005e-02,\n",
       "         3.29732075e-02, -6.23228513e-02,  4.01675329e-02, -3.20349075e-02,\n",
       "        -1.75060183e-02, -8.40947730e-04,  5.37745981e-03,  3.79395224e-02,\n",
       "         1.66327879e-02,  2.62340754e-02,  8.78512335e-04, -5.34640625e-02,\n",
       "         2.07426678e-02,  7.34980106e-02, -5.42280450e-02,  6.39775246e-02,\n",
       "        -7.40370303e-02,  1.08183883e-02, -4.05959450e-02,  2.20078658e-02,\n",
       "         6.28267080e-02,  8.76456127e-03, -9.74216983e-02,  1.89292673e-02,\n",
       "         3.38739972e-03, -4.17757407e-02, -4.04444113e-02, -3.87802836e-03,\n",
       "        -2.88099349e-02, -5.84053658e-02, -1.21086463e-02,  1.43854897e-02,\n",
       "        -5.10136597e-02,  8.49418715e-03,  1.82689298e-02, -7.86923710e-03,\n",
       "        -7.68260732e-02, -5.96916750e-02, -3.01475916e-02,  3.50620747e-02,\n",
       "        -1.40306624e-02, -5.09561785e-03,  4.60957251e-02,  5.22247888e-02,\n",
       "         8.46600085e-02, -1.39985615e-02,  2.47060414e-03, -2.19754353e-02,\n",
       "         4.06356826e-02, -1.10455919e-02, -4.75344025e-02, -1.28211379e-02,\n",
       "        -3.05033829e-02, -3.42229567e-02,  3.92963216e-02, -2.56058313e-02,\n",
       "        -6.54196590e-02,  3.10697984e-02,  5.88291325e-02, -3.82410474e-02,\n",
       "         6.80890167e-03,  3.21406759e-02,  4.17119591e-03, -2.57724617e-03,\n",
       "         7.13613853e-02, -6.41338388e-03, -6.46417262e-04,  1.73050966e-02,\n",
       "        -2.47310083e-02, -3.92523147e-02,  1.87213141e-02, -1.76426803e-03,\n",
       "         3.25103803e-03, -4.57406882e-03,  3.04396953e-02,  3.00343484e-02,\n",
       "         8.03882536e-03,  2.63218973e-02,  4.18464206e-02,  3.33880610e-03,\n",
       "        -2.13551838e-02, -7.80967101e-02, -2.04202559e-04, -3.12196231e-03,\n",
       "        -2.67437994e-02, -3.70123945e-02, -6.43707812e-02,  5.08946963e-02,\n",
       "         2.68461095e-04, -1.76630821e-02,  6.14297949e-02, -4.17318344e-02,\n",
       "        -3.93724293e-02, -1.17386440e-02, -3.92667726e-02, -6.23194613e-02,\n",
       "        -1.66460592e-02, -1.71101274e-04, -2.91277692e-02, -4.39627916e-02,\n",
       "         9.01878532e-03, -1.99189708e-02, -8.22717033e-04,  8.90935585e-03,\n",
       "        -7.75733544e-03,  2.91783977e-02, -5.24596609e-02, -3.41006704e-02,\n",
       "         4.44747657e-02, -4.30490077e-03, -6.04992434e-02, -2.15011761e-02,\n",
       "        -2.92591676e-02, -2.25619636e-02, -6.77096024e-02,  5.62717877e-02,\n",
       "        -3.42270024e-02, -4.36967649e-02, -2.00628638e-02, -5.80905229e-02,\n",
       "         7.10768020e-03, -3.23437713e-03, -4.32595648e-02,  4.79159355e-02,\n",
       "        -2.95418762e-02, -5.22098504e-02,  3.80949900e-02, -4.35600467e-02,\n",
       "         2.47353315e-02, -2.35297624e-02,  2.86063217e-02,  5.39084226e-02,\n",
       "        -7.32591674e-02,  4.21649689e-04,  6.59148842e-02, -5.88237830e-02,\n",
       "        -2.03146832e-03, -1.38659845e-03, -9.15904250e-03, -1.49358995e-04,\n",
       "         3.90108004e-02, -1.45194782e-02,  7.83298165e-03,  2.50424799e-02,\n",
       "        -8.52375850e-02, -3.34560424e-02, -5.75345419e-02,  2.57863756e-02,\n",
       "         6.93284944e-02,  4.95666079e-02,  8.16869661e-02, -6.75679296e-02,\n",
       "         1.43495370e-02,  9.74325463e-03,  1.22562923e-01, -5.33431284e-02,\n",
       "         4.82760146e-02,  1.55643463e-01,  4.72908877e-02, -3.86153869e-02,\n",
       "        -1.90382861e-02,  9.75395646e-03,  3.00453673e-03,  5.70150316e-02,\n",
       "        -6.77460134e-02, -5.84040768e-02,  4.22811359e-02,  2.33443007e-02,\n",
       "         7.91797705e-04, -7.23942965e-02, -2.73235012e-02,  2.34939102e-02,\n",
       "        -3.24982568e-03,  1.27057713e-02,  1.36996359e-01,  2.21958980e-02,\n",
       "         1.44002680e-02, -2.53458638e-02,  2.78550442e-02, -2.45845187e-02,\n",
       "        -5.94611801e-02, -1.32263117e-02,  4.88089547e-02,  2.68316846e-02,\n",
       "        -6.03497354e-03, -2.15021204e-02, -5.21902256e-02,  5.60386814e-02,\n",
       "        -4.25154604e-02, -4.18694802e-02,  7.65640810e-02, -4.17634333e-03,\n",
       "        -1.00126438e-01,  2.17810497e-02, -1.16651291e-02,  6.20362349e-02,\n",
       "         3.69261242e-02,  4.62830216e-02,  2.77866423e-02,  6.78768307e-02,\n",
       "         3.68223786e-02, -9.32536740e-03, -4.40410301e-02,  4.27869372e-02,\n",
       "        -2.67234612e-02,  4.12085988e-02, -5.63183287e-03, -5.95168173e-02,\n",
       "         6.54643343e-04, -3.70584503e-02,  5.23372106e-02, -1.48472050e-02,\n",
       "        -2.62429398e-02, -3.92995514e-02, -9.43799154e-04,  7.51956739e-03,\n",
       "         5.45337573e-02, -2.30965819e-02, -4.37024496e-02,  3.25621404e-02,\n",
       "        -5.15226182e-03,  3.51971388e-02,  1.22123562e-01, -2.95334663e-02,\n",
       "         3.75404656e-02, -4.33708541e-02,  1.01022804e-02, -8.85469373e-03,\n",
       "        -2.73956079e-02,  5.59854805e-02, -2.28973571e-03,  1.84585880e-02,\n",
       "        -3.62540446e-02, -6.23585172e-02, -3.37100402e-02,  8.60573351e-03,\n",
       "        -2.52088215e-02, -3.95093672e-03, -3.25787887e-02,  7.67875230e-03],      dtype=float32),\n",
       " 'Bxi': Array([-0.00650773, -0.0562463 , -0.04854974, -0.07721154, -0.02930767,\n",
       "        -0.02041949, -0.02267275,  0.02684287, -0.02492509,  0.00210203,\n",
       "        -0.04343103,  0.00894971, -0.03222099,  0.00328995,  0.04742512,\n",
       "         0.0012959 , -0.01284804, -0.04489557,  0.07944552, -0.00708992,\n",
       "        -0.08611685,  0.0163114 ,  0.09245062,  0.05075214, -0.01202067,\n",
       "        -0.04229053, -0.0359585 , -0.0246184 , -0.07436536, -0.01383884,\n",
       "        -0.03299607,  0.0086985 , -0.00501499, -0.02962219,  0.03425872,\n",
       "         0.0457022 ,  0.01404217,  0.01118698, -0.05225825,  0.01349221,\n",
       "         0.01081601,  0.03820616, -0.03486032,  0.02217796,  0.00549238,\n",
       "        -0.00117128,  0.0121601 ,  0.03037795, -0.03648006,  0.06810259,\n",
       "        -0.0448662 , -0.04792983,  0.07491202,  0.09957822, -0.02317131,\n",
       "        -0.04124975, -0.00564838,  0.01140049, -0.01053753, -0.03589379,\n",
       "         0.03601307, -0.01612157,  0.00636559,  0.00588953, -0.07608078,\n",
       "        -0.08975773, -0.04123846, -0.05892407, -0.04424778,  0.07453794,\n",
       "        -0.027689  , -0.0647257 ,  0.00767727, -0.0434197 , -0.0563777 ,\n",
       "         0.05911857,  0.0633548 , -0.0021072 ,  0.12074736, -0.05567973,\n",
       "        -0.02096813, -0.01440849,  0.09453757, -0.11076523, -0.0296853 ,\n",
       "        -0.00028716, -0.00125722, -0.00930809,  0.06234228, -0.04590143,\n",
       "         0.04679104, -0.04492088, -0.04562924, -0.01886797,  0.00231141,\n",
       "         0.0495172 ,  0.03114169,  0.06350713, -0.08832236,  0.01187649,\n",
       "         0.09482735,  0.0131369 ,  0.03614042, -0.02001829, -0.02437167,\n",
       "        -0.00775879, -0.03171733,  0.04595117, -0.03563565, -0.02690108,\n",
       "        -0.03732388, -0.04142722,  0.00524305, -0.00317571, -0.01020211,\n",
       "        -0.04735322,  0.00312998,  0.01678715,  0.05379472, -0.01293035,\n",
       "        -0.04422886,  0.0449547 , -0.01053005, -0.02392375,  0.0744061 ,\n",
       "         0.02004344,  0.06893417,  0.10893902, -0.01692149,  0.01733536,\n",
       "        -0.01247388, -0.02386182, -0.02855573,  0.01939989, -0.03288629,\n",
       "         0.00265869,  0.02795869, -0.05916242,  0.05935062,  0.0911363 ,\n",
       "        -0.03773478, -0.03760976,  0.02168661, -0.01252899,  0.03303112,\n",
       "        -0.0435667 ,  0.02362501,  0.0978561 , -0.04406631,  0.01321812,\n",
       "        -0.02891121,  0.04580427,  0.05494504, -0.00424732,  0.00229647,\n",
       "         0.02812683,  0.0471769 ,  0.02994399,  0.04281432, -0.01469393,\n",
       "         0.1025646 ,  0.02684754, -0.02899733, -0.03855961, -0.04144225,\n",
       "        -0.10182289, -0.01129903,  0.02919398, -0.00183115,  0.03232155,\n",
       "        -0.06417301, -0.01397198,  0.01509275,  0.00188658, -0.01703702,\n",
       "        -0.02066452, -0.10682973, -0.01147908, -0.01189777, -0.01837094,\n",
       "        -0.0212857 , -0.01854574,  0.01987746,  0.01439748,  0.05321869,\n",
       "         0.00896029,  0.07098761,  0.03567933, -0.01602838, -0.04557272,\n",
       "        -0.00223795,  0.03769056,  0.02638466, -0.03285051,  0.02360742,\n",
       "         0.0305443 , -0.07615575,  0.02487453, -0.05106949, -0.09330337,\n",
       "         0.07769677,  0.03043956,  0.02720073,  0.02478356, -0.00436095,\n",
       "         0.00299089, -0.10811498,  0.06864089, -0.01577889, -0.05894442,\n",
       "         0.07578567,  0.03677052, -0.03510388, -0.02466055, -0.04492194,\n",
       "        -0.03606745,  0.07418752, -0.01866108, -0.06638661,  0.01815695,\n",
       "        -0.04691556, -0.01789398, -0.02591164,  0.02104264,  0.00285734,\n",
       "         0.00963288,  0.05372608, -0.05803952, -0.03973228, -0.00901126,\n",
       "         0.05651959, -0.05876787,  0.0634879 , -0.04172018, -0.02904328,\n",
       "         0.02070724, -0.03515119,  0.0121843 , -0.01175687, -0.04472311,\n",
       "        -0.03190955, -0.05472608, -0.09261812,  0.06260846, -0.02171759,\n",
       "         0.00474617,  0.08048147,  0.05757004, -0.05601474,  0.02991019,\n",
       "        -0.02642365, -0.01821841,  0.08207523, -0.01358829,  0.0516612 ,\n",
       "        -0.01818026,  0.00200982, -0.02895841, -0.01993075,  0.06211682,\n",
       "         0.00157696, -0.02609514,  0.05144583,  0.01947164, -0.03564967,\n",
       "        -0.02211936, -0.0408128 ,  0.07541166, -0.01367958,  0.0074865 ,\n",
       "         0.05921839, -0.03010842, -0.01431152,  0.01900152, -0.07267532,\n",
       "        -0.0586465 , -0.02001245,  0.02255575,  0.0381683 ,  0.03985897,\n",
       "        -0.03088887,  0.00322558, -0.03391758, -0.02587229, -0.02930572,\n",
       "         0.0132585 ,  0.01975238, -0.04889734,  0.04218763,  0.03176421,\n",
       "         0.01340735,  0.00119178, -0.05844408,  0.08594526, -0.00096629,\n",
       "         0.02456759, -0.04029474,  0.01531835,  0.06468906,  0.05491952,\n",
       "        -0.04148895, -0.00380143,  0.01381322, -0.01148238,  0.00635552,\n",
       "        -0.01274711,  0.01122803,  0.02113349,  0.08117583, -0.01280989,\n",
       "        -0.03921381, -0.03005934, -0.00846676,  0.00203737,  0.022998  ,\n",
       "         0.03951569, -0.05198418,  0.03292416, -0.05915475, -0.01553526,\n",
       "        -0.01744352, -0.03262292,  0.04070111, -0.00950021, -0.01382739,\n",
       "        -0.03806792, -0.06401604,  0.01069451,  0.06672845, -0.05201528,\n",
       "         0.02989679,  0.02108381,  0.04152239,  0.12499458, -0.01180007,\n",
       "         0.02458327, -0.0933943 , -0.04616594, -0.04349249,  0.04324554,\n",
       "         0.00195687,  0.00092795, -0.09446573, -0.00967188,  0.10027254,\n",
       "        -0.02086878,  0.03777828,  0.00508554,  0.03537099, -0.06568678,\n",
       "         0.07543187, -0.04111415, -0.00700253, -0.04996329,  0.02868768,\n",
       "        -0.03482913, -0.03922068,  0.02481906, -0.10505573,  0.01699825,\n",
       "         0.00259662,  0.03984754,  0.05042219, -0.04380494,  0.01398723,\n",
       "         0.04399811, -0.0620003 , -0.00679515, -0.0420991 ,  0.04404457,\n",
       "        -0.03426923, -0.04172698,  0.02741856, -0.03882006, -0.0078532 ,\n",
       "        -0.05577099,  0.01360269, -0.01360382, -0.07243427, -0.07261772,\n",
       "        -0.03408861, -0.04895996,  0.01430161,  0.07492252, -0.03719495,\n",
       "        -0.00777342,  0.02651348, -0.07601194, -0.00144893,  0.05668117,\n",
       "         0.00205527,  0.01113829, -0.01813688, -0.02019036,  0.01386092,\n",
       "        -0.02688459,  0.05898871,  0.02080257, -0.02409863,  0.04588509,\n",
       "         0.01127162, -0.00726063, -0.05203634,  0.05423511,  0.05220292,\n",
       "        -0.08625508, -0.0604232 ,  0.01522074,  0.01097273,  0.00738331,\n",
       "        -0.03290183, -0.01271049, -0.0420968 , -0.0453511 , -0.04994876,\n",
       "         0.04135616,  0.01624362, -0.04059784,  0.00603529, -0.0039531 ,\n",
       "         0.0806642 , -0.03631318, -0.03701531,  0.02417822, -0.00931956,\n",
       "         0.0199424 , -0.04365848, -0.03422412,  0.00791294,  0.06717764,\n",
       "         0.06851207, -0.06527934, -0.06023558, -0.01471085, -0.01913994,\n",
       "        -0.06401775,  0.03498004,  0.02178541, -0.0346335 , -0.01827222,\n",
       "         0.03696625,  0.02792357, -0.00923031, -0.01593344,  0.03241073,\n",
       "         0.02930225,  0.0362278 , -0.05270595,  0.04111193, -0.02812359,\n",
       "        -0.01359453,  0.01401259, -0.02588147,  0.02229434,  0.01864203,\n",
       "         0.0197017 ,  0.0259875 ,  0.01843075,  0.01466675,  0.02920411,\n",
       "         0.01722135, -0.05953237,  0.0319012 ,  0.03301798,  0.03187792,\n",
       "         0.01536505,  0.07597084,  0.0614607 ,  0.00984826, -0.03200234,\n",
       "         0.14039077, -0.02150396, -0.00670946, -0.03784245,  0.14598624,\n",
       "        -0.02934624,  0.03328122, -0.05115242,  0.04611959, -0.07604315,\n",
       "         0.01869131,  0.03076694,  0.04803915,  0.07409725, -0.02753182,\n",
       "        -0.04642618,  0.00852874, -0.03059578, -0.04582761, -0.04430151,\n",
       "         0.01850522, -0.03510876, -0.00229413,  0.0135539 ,  0.04513228,\n",
       "        -0.10093371,  0.02361145,  0.01956586,  0.04366463,  0.03467464],      dtype=float32),\n",
       " 'Bxl': Array([ 1.26728579e-01,  1.04082152e-02, -6.89944476e-02, -1.53940357e-02,\n",
       "         1.71620566e-02,  1.93988532e-02, -7.54168537e-03, -4.54235449e-02,\n",
       "        -2.20930465e-02,  2.24216143e-03, -1.02418624e-02, -4.19635288e-02,\n",
       "         5.10321446e-02,  3.68965119e-02,  6.42493814e-02, -2.02368270e-03,\n",
       "         1.10684289e-02,  2.76301093e-02, -6.95287362e-02,  5.33826873e-02,\n",
       "        -1.93725602e-04,  1.49263050e-02,  9.03791711e-02,  5.15538920e-03,\n",
       "        -9.08940658e-03,  2.43495312e-02, -4.69073094e-02, -5.35220020e-02,\n",
       "        -1.77888721e-02, -7.21146315e-02,  4.73705195e-02, -8.89936015e-02,\n",
       "         2.94520725e-02, -3.37986834e-02, -3.37814912e-02, -4.23154458e-02,\n",
       "        -6.21676445e-02, -6.17723987e-02,  4.27287035e-02, -9.84108075e-02,\n",
       "         4.00340334e-02,  2.43377965e-02,  2.66953763e-02,  6.91672089e-03,\n",
       "        -6.34488314e-02,  1.34182051e-02, -3.82544361e-02, -4.12664041e-02,\n",
       "        -5.49352588e-03, -8.32353346e-03, -2.64807278e-03, -1.49944155e-02,\n",
       "        -2.39822152e-03,  4.88604493e-02,  4.44422401e-02,  1.83810038e-03,\n",
       "         2.12592594e-02,  6.80586472e-02, -5.00439890e-02,  4.44845408e-02,\n",
       "         3.25951949e-02, -2.64919996e-02, -2.26255618e-02,  3.75821046e-03,\n",
       "         1.10507645e-02,  4.27085049e-02,  1.24285463e-02,  9.90943704e-03,\n",
       "         2.63291635e-02, -5.15867174e-02,  4.59872074e-02,  1.75510179e-02,\n",
       "        -1.60214845e-02,  1.09102775e-03,  3.29726301e-02, -1.00597804e-02,\n",
       "        -3.44308056e-02,  1.25114601e-02, -2.54702084e-02, -5.77334315e-02,\n",
       "        -2.35033389e-02,  4.15517204e-02,  3.11061461e-02,  7.99618736e-02,\n",
       "        -1.62693243e-02,  1.17268516e-02, -9.57997795e-03,  4.90270741e-02,\n",
       "        -1.95453539e-02, -1.81677043e-02, -5.11791632e-02,  1.33144381e-02,\n",
       "        -6.54185712e-02,  2.17743274e-02,  1.24990633e-02, -3.09135672e-02,\n",
       "         4.35802266e-02, -2.77415551e-02,  2.87305079e-02, -1.34308236e-02,\n",
       "         7.08565488e-02, -3.40283178e-02, -1.07372642e-01, -2.80414824e-04,\n",
       "         7.11886436e-02,  3.13943662e-02,  1.89671554e-02, -3.46934870e-02,\n",
       "         1.64466705e-02, -1.90131199e-02,  4.78094183e-02, -6.59814896e-06,\n",
       "         5.92186907e-03,  5.84694333e-02, -4.47274838e-03,  1.82542875e-02,\n",
       "        -1.97279397e-02,  4.41677198e-02,  6.26844494e-03,  5.24707921e-02,\n",
       "        -8.47802311e-02,  1.06849400e-02, -3.79458107e-02, -4.44626212e-02,\n",
       "        -2.58782003e-02, -4.77349199e-02, -3.27008814e-02, -7.11496621e-02,\n",
       "        -3.16432007e-02,  3.27935023e-03, -2.50397213e-02,  3.12494114e-02,\n",
       "        -4.90205642e-03,  1.75475271e-03, -2.45258329e-03,  1.08053032e-02,\n",
       "         5.56132644e-02, -2.73372605e-03, -3.47745158e-02, -4.11697812e-02,\n",
       "         3.30805555e-02, -4.59454060e-02,  1.19737625e-01, -6.37648478e-02,\n",
       "        -3.55031416e-02, -6.65697157e-02,  4.36189957e-02, -3.53796631e-02,\n",
       "         1.72018539e-02,  4.41380218e-02,  7.41127953e-02, -5.14827995e-03,\n",
       "        -7.41882324e-02, -5.30406088e-03, -4.01976369e-02,  4.97444719e-02,\n",
       "        -1.05102304e-02, -1.74965113e-02,  2.11367942e-02, -1.32629527e-02,\n",
       "        -2.77655330e-02,  2.85757836e-02,  3.09131923e-03, -6.00591749e-02,\n",
       "         1.74634848e-02, -1.60136204e-02, -2.71224268e-02, -2.93863304e-02,\n",
       "         1.99529398e-02,  4.18850929e-02, -4.37749140e-02, -1.12287421e-02,\n",
       "        -1.74461156e-02,  9.58340336e-03, -3.07479165e-02,  6.31549046e-04,\n",
       "        -1.55973928e-02, -5.01346476e-02,  5.00744805e-02,  1.78897493e-02,\n",
       "         3.46267968e-02, -3.60903926e-02,  2.47811843e-02, -5.42820850e-03,\n",
       "        -4.60509816e-03,  3.34441848e-02, -8.21944177e-02,  5.26997931e-02,\n",
       "        -2.03602165e-02, -3.01807746e-02,  3.83528359e-02, -1.08994022e-02,\n",
       "         3.99585842e-04,  4.24558436e-03, -1.11825606e-02,  4.84094694e-02,\n",
       "        -9.18975845e-02, -9.01144277e-03,  5.56767546e-02, -7.98241496e-02,\n",
       "        -1.19290873e-02, -3.37351859e-02, -3.15338895e-02, -5.17635792e-02,\n",
       "         2.11278466e-03, -7.99783617e-02,  5.45029156e-02,  4.34019305e-02,\n",
       "         8.02571625e-02,  1.88025963e-02, -4.86876592e-02,  6.98209479e-02,\n",
       "         3.72123177e-04,  3.82113047e-02,  7.79864788e-02,  5.09225242e-02,\n",
       "         1.37774181e-02,  3.92732024e-02,  1.83911920e-02, -2.81260498e-02,\n",
       "        -5.62514588e-02, -6.42716140e-02,  2.38349251e-02, -2.14132667e-02,\n",
       "         1.05729215e-01, -6.16701506e-02, -1.09185418e-02,  7.10687414e-02,\n",
       "         4.28398550e-02,  5.42460121e-02,  7.74025247e-02,  5.85735627e-02,\n",
       "         4.61656302e-02,  3.68090272e-02,  1.18604759e-02, -5.66270165e-02,\n",
       "         3.59834544e-02,  3.27843465e-02,  3.01992591e-03, -8.20694212e-03,\n",
       "         4.97407317e-02, -6.54132739e-02,  9.55360532e-02, -6.05803281e-02,\n",
       "         1.33313974e-02,  1.96137801e-02,  3.45688835e-02,  3.30384006e-03,\n",
       "        -1.20492838e-02, -1.12438746e-01, -8.39831010e-02, -2.61976011e-03,\n",
       "        -4.44744667e-03,  1.15389526e-02, -7.67720416e-02,  4.87495065e-02,\n",
       "         1.26659973e-02,  3.27712521e-02,  5.28388955e-02,  2.95221712e-02,\n",
       "        -1.27269570e-02, -1.74495485e-02, -6.81406409e-02,  3.43577377e-03,\n",
       "        -2.99207103e-02,  2.53040977e-02,  5.83627000e-02,  5.44680767e-02,\n",
       "        -3.55247930e-02,  7.67420158e-02,  9.95692834e-02, -5.41332625e-02,\n",
       "        -6.17466718e-02, -7.51259848e-02, -1.30088478e-02, -1.52262137e-03,\n",
       "        -1.56400003e-03,  5.64385839e-02, -2.34594680e-02, -9.54205077e-03,\n",
       "        -1.18057013e-01,  3.21066715e-02, -2.45201662e-02, -7.69732567e-03,\n",
       "        -1.17033310e-01,  3.62090617e-02,  3.72525938e-02, -4.44517136e-02,\n",
       "        -5.26135825e-02,  2.75382530e-02,  6.13829009e-02, -2.07924787e-02,\n",
       "         6.05172254e-02, -2.18353290e-02,  3.91535349e-02,  8.75813980e-03,\n",
       "        -2.70647891e-02, -2.39584632e-02, -3.28453109e-02,  4.37127762e-02,\n",
       "         2.00991295e-02, -2.24024914e-02,  3.44554409e-02,  1.18963104e-02,\n",
       "        -3.00801322e-02, -4.85616620e-04,  9.66845825e-02, -4.70502069e-03,\n",
       "        -4.17867340e-02, -4.41929176e-02, -5.19729368e-02, -3.84510532e-02,\n",
       "         4.00708094e-02, -1.83236860e-02,  1.18876966e-02, -1.10352859e-02,\n",
       "         1.35153197e-02, -6.21629059e-02,  7.13657821e-03,  7.05992281e-02,\n",
       "        -2.92526986e-02,  1.59485023e-02,  8.16885978e-02,  2.59694364e-03,\n",
       "         2.01203004e-02,  1.70561634e-02, -7.00724777e-03, -9.69390944e-03,\n",
       "         6.86520012e-03, -1.40691986e-02, -5.30292420e-03,  7.56744761e-03,\n",
       "        -3.13347876e-02, -1.52131664e-02, -3.59138511e-02, -1.01544648e-01,\n",
       "         8.34657997e-02, -1.55498870e-02, -5.59302457e-02, -3.93175296e-02,\n",
       "        -5.07063530e-02, -2.58008414e-03, -2.73398664e-02, -9.27667134e-03,\n",
       "         7.43330196e-02, -4.21384946e-02,  4.75487597e-02,  5.86429462e-02,\n",
       "        -3.35754454e-02,  3.72000635e-02,  2.46452186e-02, -2.65966915e-02,\n",
       "        -1.49526214e-02,  6.41985312e-02,  1.04504880e-02,  4.38893959e-02,\n",
       "         1.47531554e-02, -8.12562332e-02, -1.63139068e-02,  2.72795241e-02,\n",
       "         7.95929879e-02, -4.23982330e-02, -4.13822709e-03, -1.16225658e-02,\n",
       "         3.09340935e-02, -2.59008873e-02,  4.37224917e-02,  4.82226461e-02,\n",
       "         3.60891805e-03, -3.35759036e-02,  2.41701920e-02, -7.37604648e-02,\n",
       "         1.61395445e-02,  4.04513702e-02,  4.85865511e-02,  8.65956619e-02,\n",
       "        -2.21534260e-02, -1.06720300e-02,  1.90507360e-02,  3.96407992e-02,\n",
       "         3.60945449e-03, -3.12206317e-02, -3.41153927e-02,  2.50534546e-02,\n",
       "        -3.26667912e-02, -4.65097837e-03,  1.87502876e-02, -2.23584240e-03,\n",
       "         3.36506069e-02, -5.09997308e-02,  1.65480878e-02, -8.99589527e-03,\n",
       "         7.73459375e-02,  8.91341595e-04,  1.68360397e-02,  3.88562726e-03,\n",
       "         6.87517896e-02,  3.43999788e-02, -2.20101252e-02,  1.60979154e-03,\n",
       "        -6.04526373e-03,  5.77941015e-02,  9.47178714e-03, -1.87636912e-02,\n",
       "         7.82543942e-02, -1.07757160e-02, -4.82734628e-02, -6.24338805e-04,\n",
       "        -1.81902312e-02, -1.82928275e-02, -5.56496205e-03,  7.59781478e-03,\n",
       "         8.83024707e-02,  5.46452589e-02,  1.25750080e-02,  4.85648736e-02,\n",
       "         3.05243526e-02, -7.00866745e-04,  3.87215912e-02, -8.71404484e-02,\n",
       "        -5.13726696e-02,  3.34633552e-02, -5.20836236e-03,  4.35963273e-03,\n",
       "        -1.48957685e-01,  1.11039812e-02,  3.66179161e-02,  2.84914300e-02,\n",
       "         1.56260259e-03,  7.75366724e-02,  7.58671109e-03,  2.36883145e-02,\n",
       "        -9.76775866e-03, -3.95871811e-02,  4.82493788e-02,  4.43741903e-02,\n",
       "         8.73379875e-04,  1.37330741e-02,  1.51252868e-02,  4.80181724e-02,\n",
       "         5.07094376e-02, -6.41848445e-02,  1.06969187e-02,  3.89526552e-03,\n",
       "        -2.96122208e-02, -6.32618591e-02, -1.31923622e-02, -3.85741405e-02,\n",
       "         5.00967763e-02, -6.96570948e-02, -3.72679788e-03, -2.62342412e-02,\n",
       "         2.85345744e-02, -6.02536164e-02, -4.05167090e-03,  4.48213443e-02,\n",
       "         5.20867808e-03,  3.39711569e-02, -3.94631214e-02,  4.44840686e-03,\n",
       "         1.26329586e-02,  3.38763259e-02, -3.73393786e-03, -2.17770860e-02,\n",
       "         3.17254812e-02,  4.99725826e-02,  1.13080931e-03, -3.84912752e-02,\n",
       "        -2.89094299e-02,  5.24760000e-02,  2.66100969e-02,  3.13956365e-02,\n",
       "        -5.74231744e-02,  3.32997702e-02, -9.13849007e-03, -8.21575522e-02,\n",
       "        -1.23605365e-02, -2.09570746e-03, -5.07361442e-03, -2.73376107e-02,\n",
       "         1.72657296e-02,  1.29594132e-02,  1.97011940e-02,  2.68449169e-02,\n",
       "         2.15278361e-02, -5.01955636e-02,  2.59414278e-02, -5.88590354e-02,\n",
       "        -2.92378347e-02,  3.15227103e-03, -9.66319814e-03, -1.60906129e-02,\n",
       "        -6.06492627e-03, -4.45832387e-02, -4.18528058e-02, -1.32155493e-02,\n",
       "         6.62005171e-02,  5.88785335e-02, -8.12593289e-03, -2.41066013e-02],      dtype=float32),\n",
       " 'Bxo': Array([-0.06900465, -0.02460501, -0.06304984, -0.00750309, -0.05387436,\n",
       "        -0.01692455,  0.05127503,  0.02112334, -0.01767769, -0.00921659,\n",
       "         0.02178666,  0.04580904,  0.01155321,  0.01629812,  0.03896798,\n",
       "         0.04008559, -0.09168048, -0.03521951, -0.00436373, -0.09553008,\n",
       "        -0.05855155, -0.03141632, -0.00808613, -0.10378917,  0.02348922,\n",
       "         0.00196614,  0.04321663,  0.04306164, -0.02625904, -0.02071525,\n",
       "        -0.02052085, -0.02336128, -0.09816183, -0.06152727, -0.01583259,\n",
       "         0.03464475,  0.00799409,  0.00751761,  0.01670942, -0.05915415,\n",
       "         0.03741207, -0.03203689, -0.05350478,  0.00218383,  0.02042472,\n",
       "         0.03334041, -0.05009706, -0.02904832, -0.04519492, -0.01035566,\n",
       "        -0.05079612,  0.05179199, -0.06471454, -0.06011893, -0.06083572,\n",
       "         0.00116407,  0.05598397,  0.02618103, -0.02939152, -0.05651852,\n",
       "        -0.03339627, -0.04924938, -0.06501891,  0.02215912,  0.01123156,\n",
       "        -0.00162107, -0.04685046, -0.00073016, -0.02652184,  0.09009022,\n",
       "        -0.0542008 ,  0.03715241, -0.00088873, -0.09508986, -0.04971555,\n",
       "        -0.00820583, -0.0235426 , -0.02230378,  0.03185966, -0.02452711,\n",
       "        -0.00936367,  0.02983932, -0.0950982 ,  0.04918786, -0.00256432,\n",
       "         0.04005732,  0.0131167 ,  0.00908066,  0.02799639, -0.02139078,\n",
       "        -0.02909999,  0.01289858,  0.10881377,  0.04935211,  0.0668242 ,\n",
       "        -0.02884468, -0.00725147,  0.02747138, -0.02109844, -0.024723  ,\n",
       "         0.00513157, -0.10003655, -0.01781201, -0.01321224,  0.07444872,\n",
       "         0.04435306, -0.08385037,  0.00532427, -0.10131491, -0.0081926 ,\n",
       "         0.02755271,  0.06256061,  0.00642545,  0.00453168,  0.02889669,\n",
       "        -0.05126783, -0.05508519, -0.04920187,  0.05388939, -0.02371757,\n",
       "        -0.00076394,  0.00038676,  0.0048032 , -0.01970598, -0.02367501,\n",
       "        -0.02646366,  0.00966122,  0.07260936,  0.06021115, -0.02864734,\n",
       "        -0.06567259, -0.00521888,  0.03255756,  0.0157071 , -0.07344013,\n",
       "         0.02473147, -0.03383791, -0.03403628,  0.0342232 , -0.01345017,\n",
       "         0.00355312, -0.02103546, -0.02591946, -0.02795547, -0.04142494,\n",
       "        -0.06430924,  0.02619702,  0.03611959,  0.00815445,  0.03050442,\n",
       "         0.02745584, -0.00557386,  0.03608714, -0.09310842, -0.02828691,\n",
       "         0.00660319, -0.01447421, -0.02136807,  0.08956978, -0.01443187,\n",
       "         0.01774447,  0.00506838,  0.01001807,  0.06321774, -0.09450039,\n",
       "         0.04104542, -0.08268484, -0.01228075, -0.01398769, -0.01039858,\n",
       "         0.00816884,  0.02925055, -0.00993441,  0.0052935 , -0.01275799,\n",
       "         0.01683664, -0.01777649,  0.04250907,  0.00102427, -0.02419638,\n",
       "         0.0414047 , -0.03239521,  0.02376726,  0.01399172, -0.00664553,\n",
       "        -0.02864271,  0.04080275, -0.03642423, -0.0085362 , -0.04861213,\n",
       "        -0.07249311, -0.01070326,  0.00069736,  0.04611027, -0.08301926,\n",
       "        -0.03019198, -0.003014  , -0.03928046,  0.00210608, -0.00928948,\n",
       "        -0.00225497, -0.00199067, -0.02198834,  0.05280842,  0.05610757,\n",
       "         0.00447383, -0.01297467,  0.02251047,  0.0129896 ,  0.07993796,\n",
       "         0.05367652,  0.08133283, -0.09050802,  0.06911354,  0.02322952,\n",
       "         0.00388085,  0.01356815,  0.08133662,  0.03040556, -0.00669092,\n",
       "         0.00192275, -0.04260652, -0.02105495, -0.01157597,  0.03972805,\n",
       "         0.01175998,  0.00397056, -0.04322499, -0.05675645,  0.08361091,\n",
       "         0.03637699,  0.05077458, -0.01945799,  0.07013695,  0.01521194,\n",
       "         0.04768384,  0.06240397, -0.00959674, -0.00835393,  0.02511265,\n",
       "        -0.00303021, -0.05883041,  0.02942468, -0.02817576,  0.00494438,\n",
       "         0.01704388,  0.02394496,  0.08550075, -0.00139188,  0.08446847,\n",
       "         0.01588503, -0.06073402, -0.06180714,  0.04624971,  0.01813588,\n",
       "        -0.04016719,  0.05127946,  0.02121137, -0.00202113,  0.03506146,\n",
       "         0.03340684, -0.0168114 , -0.0345355 , -0.01486039,  0.07664202,\n",
       "        -0.010514  ,  0.04518768,  0.01911015, -0.00856933,  0.01950254,\n",
       "         0.0227794 ,  0.0374969 ,  0.02325554, -0.02508685,  0.07945213,\n",
       "        -0.00438793,  0.03461091, -0.05539671,  0.02619237, -0.01435422,\n",
       "         0.08003958,  0.02104835, -0.04993367,  0.04579992, -0.01445526,\n",
       "         0.01377289, -0.02047643, -0.05644716,  0.10656042,  0.00653148,\n",
       "        -0.00553692,  0.04229024, -0.04823539,  0.03215832,  0.10280569,\n",
       "        -0.05416436, -0.04709216, -0.01366926,  0.029349  ,  0.02801405,\n",
       "        -0.00960037, -0.01649482, -0.04511613,  0.04034451, -0.00126001,\n",
       "        -0.00645952, -0.00385117,  0.12078623, -0.00142357, -0.0006615 ,\n",
       "         0.00261585, -0.00859823, -0.0109852 , -0.00606281, -0.02130565,\n",
       "         0.02194258, -0.03868667, -0.04373697,  0.02159988, -0.01642177,\n",
       "         0.06590926, -0.02070286,  0.0303867 , -0.04001032,  0.00448029,\n",
       "        -0.03810409,  0.06767185, -0.04051985,  0.03773847, -0.0217142 ,\n",
       "         0.04996745, -0.05082172, -0.03855141,  0.0654465 , -0.04975315,\n",
       "        -0.08691765, -0.0373689 ,  0.03354492, -0.03971438,  0.01967109,\n",
       "         0.04554188, -0.00964998, -0.00084811,  0.05181656,  0.02829495,\n",
       "        -0.03043125,  0.100229  , -0.01090351, -0.06568796,  0.01700398,\n",
       "         0.0272192 ,  0.01983027, -0.05567677, -0.00517314, -0.01394663,\n",
       "         0.08754228, -0.0599076 ,  0.03177512, -0.02081393,  0.02944811,\n",
       "        -0.00772958,  0.00842724,  0.00643711, -0.01161209,  0.03630602,\n",
       "        -0.07294685, -0.06031251, -0.02992748,  0.00357863,  0.04132407,\n",
       "        -0.00729145,  0.05321164, -0.00497275,  0.07837243,  0.0051904 ,\n",
       "        -0.08282102, -0.02478046, -0.08275073,  0.01482685, -0.02123769,\n",
       "        -0.03285702,  0.002528  ,  0.03989793, -0.06150011, -0.05624333,\n",
       "         0.03799133, -0.02227198, -0.01170421,  0.02785361, -0.00604645,\n",
       "        -0.05353502,  0.03311219,  0.07356855,  0.02247246,  0.03014274,\n",
       "        -0.02676215, -0.03776516,  0.06330588,  0.05030204,  0.05289273,\n",
       "        -0.026151  , -0.04537785,  0.02283442, -0.0593631 ,  0.01457438,\n",
       "        -0.02259513, -0.0705254 , -0.06786507,  0.03843432,  0.03979627,\n",
       "         0.02646647, -0.05102375, -0.02908367, -0.04015245,  0.02773663,\n",
       "        -0.0109374 , -0.05292486,  0.02705506,  0.04525232, -0.04819784,\n",
       "         0.0783526 ,  0.01316853,  0.04006628, -0.04392465,  0.08490089,\n",
       "        -0.07141428,  0.06878481, -0.00945272, -0.05981451,  0.02449165,\n",
       "         0.04228458, -0.02906021, -0.00702299,  0.0154109 , -0.00666215,\n",
       "        -0.02313968,  0.016498  ,  0.02233154, -0.08736537,  0.01763073,\n",
       "        -0.01698457, -0.09616469,  0.00083311, -0.04695828,  0.00410279,\n",
       "         0.08699441, -0.02882538, -0.03467494, -0.00078942, -0.00422391,\n",
       "         0.05055347, -0.07103761,  0.01867182,  0.02112963, -0.05085834,\n",
       "         0.0469707 , -0.05838891, -0.02258065, -0.00663508, -0.05461515,\n",
       "        -0.01074307, -0.01669382, -0.00413146,  0.03004103, -0.01208834,\n",
       "         0.01101597, -0.06631519, -0.04672169, -0.04657769,  0.04190125,\n",
       "         0.00789647, -0.05728706,  0.03751736,  0.01139591,  0.00448206,\n",
       "         0.0387447 ,  0.00535325,  0.01508277, -0.03576446,  0.01590781,\n",
       "        -0.00891475,  0.14037599,  0.00315893,  0.04777057, -0.02406081,\n",
       "        -0.01412668,  0.00878366,  0.02987171,  0.00611268, -0.04924456,\n",
       "        -0.00916839, -0.00829595, -0.05724856, -0.09614338,  0.0527423 ,\n",
       "        -0.01929964,  0.0017281 , -0.04200622, -0.04510986, -0.05444012],      dtype=float32),\n",
       " 'Whf': Array([[ 0.02255801,  0.03909981, -0.06568062, ...,  0.09334379,\n",
       "          0.03933955, -0.03434366],\n",
       "        [ 0.04505613, -0.05471627,  0.01679029, ...,  0.00604874,\n",
       "         -0.02909117,  0.00111763],\n",
       "        [ 0.052728  , -0.03349284, -0.04714375, ..., -0.06301502,\n",
       "          0.01684468, -0.00879402],\n",
       "        ...,\n",
       "        [ 0.01031222,  0.04956075,  0.06255961, ...,  0.05245353,\n",
       "          0.07782231,  0.06679744],\n",
       "        [ 0.07360627,  0.03140295, -0.00673877, ...,  0.01296008,\n",
       "          0.00090303,  0.01399409],\n",
       "        [-0.03503645,  0.02486435,  0.02182924, ...,  0.05638455,\n",
       "         -0.04064064,  0.02543653]], dtype=float32),\n",
       " 'Whi': Array([[ 0.03223892, -0.04045479, -0.02229597, ..., -0.00676078,\n",
       "         -0.05025728, -0.03889189],\n",
       "        [ 0.10758127, -0.05294433,  0.05951301, ...,  0.07446606,\n",
       "         -0.0248858 , -0.01471486],\n",
       "        [ 0.02959677, -0.03666576,  0.03501888, ...,  0.01043836,\n",
       "          0.04001718, -0.00449851],\n",
       "        ...,\n",
       "        [-0.06418686,  0.00849065, -0.04797739, ...,  0.06807678,\n",
       "          0.01108251,  0.03714534],\n",
       "        [ 0.07816166, -0.05982968, -0.03588017, ..., -0.05499857,\n",
       "         -0.05676668,  0.00984433],\n",
       "        [-0.01654882,  0.03115861, -0.09795946, ..., -0.09385415,\n",
       "         -0.06712636, -0.02152192]], dtype=float32),\n",
       " 'Whl': Array([[ 0.02256291,  0.09790932, -0.03624684, ...,  0.02457391,\n",
       "         -0.17017367, -0.02487899],\n",
       "        [-0.02809867,  0.07339869,  0.02434837, ...,  0.00811342,\n",
       "         -0.01213801,  0.03401021],\n",
       "        [-0.00033587,  0.00330027, -0.04021539, ...,  0.00913475,\n",
       "         -0.02365407, -0.03445768],\n",
       "        ...,\n",
       "        [ 0.0325701 , -0.02668206,  0.02782528, ...,  0.09253568,\n",
       "          0.07000498,  0.03820507],\n",
       "        [-0.06251412, -0.06846453, -0.03643664, ...,  0.03724428,\n",
       "          0.01585266, -0.04925157],\n",
       "        [ 0.00648107, -0.10854567, -0.01835988, ..., -0.01172184,\n",
       "         -0.0058358 ,  0.00766622]], dtype=float32),\n",
       " 'Who': Array([[ 0.04215911, -0.07251932, -0.00564185, ...,  0.04498255,\n",
       "         -0.04921803, -0.02749795],\n",
       "        [-0.05208546,  0.07194784,  0.02736374, ..., -0.00361817,\n",
       "         -0.02085288, -0.00665775],\n",
       "        [-0.05630329,  0.05788441, -0.00167403, ..., -0.03560608,\n",
       "         -0.05507813,  0.01288559],\n",
       "        ...,\n",
       "        [ 0.00232159, -0.05715163,  0.02285126, ...,  0.00554929,\n",
       "          0.00456796,  0.06925885],\n",
       "        [-0.05198052,  0.01327686,  0.05829554, ...,  0.10219105,\n",
       "          0.02455869, -0.00910685],\n",
       "        [ 0.03274193,  0.04365191, -0.06278323, ..., -0.02537287,\n",
       "          0.04046727,  0.00311211]], dtype=float32),\n",
       " 'Wo': Array([[-2.98579093e-02,  2.83402973e-03],\n",
       "        [-2.76743841e+00, -2.69855142e+00],\n",
       "        [-6.35226667e-02,  2.58240066e-02],\n",
       "        [ 6.28292933e-02, -2.06170641e-02],\n",
       "        [ 3.43357213e-02, -1.33416029e-02],\n",
       "        [ 8.16355795e-02,  3.56632546e-02],\n",
       "        [-2.11162437e-02,  2.67886017e-02],\n",
       "        [-3.72214802e-02,  3.17525491e-02],\n",
       "        [ 4.98025902e-02, -2.52529513e-02],\n",
       "        [-2.73228955e+00, -2.66275597e+00],\n",
       "        [ 2.85783768e+00,  2.65968370e+00],\n",
       "        [ 6.63884506e-02,  1.26769710e-02],\n",
       "        [-8.86388589e-03, -1.01395316e-01],\n",
       "        [ 4.63906415e-02, -5.07291555e-02],\n",
       "        [-3.73961888e-02,  1.85491201e-02],\n",
       "        [-2.75131440e+00, -2.69000363e+00],\n",
       "        [ 2.73816085e+00,  2.70250034e+00],\n",
       "        [-2.75451875e+00, -2.74639988e+00],\n",
       "        [ 2.74109864e+00,  2.63633370e+00],\n",
       "        [ 4.11317125e-02, -9.45913717e-02],\n",
       "        [-4.98521738e-02,  1.32032866e-02],\n",
       "        [-5.35853095e-02, -1.19840726e-01],\n",
       "        [ 5.93773238e-02,  6.30891994e-02],\n",
       "        [ 2.73941326e+00,  2.70898843e+00],\n",
       "        [-2.72061396e+00, -2.65844274e+00],\n",
       "        [-7.65502732e-03,  8.75074491e-02],\n",
       "        [-4.31079268e-02, -1.01693058e-02],\n",
       "        [ 7.82209914e-03, -1.37257408e-02],\n",
       "        [-6.68379664e-02, -4.70064320e-02],\n",
       "        [ 2.67878556e+00,  2.69403601e+00],\n",
       "        [-7.97707736e-02,  3.83330323e-02],\n",
       "        [-1.60354506e-02,  9.90748871e-04],\n",
       "        [-1.15872756e-01, -2.32134759e-02],\n",
       "        [ 2.10765507e-02,  9.35871340e-03],\n",
       "        [-2.75230813e+00, -2.69572592e+00],\n",
       "        [ 1.83309000e-02,  3.93212922e-02],\n",
       "        [-5.70453629e-02, -5.97508922e-02],\n",
       "        [ 5.82752973e-02, -1.37045337e-02],\n",
       "        [-8.72330624e-04,  2.38092244e-02],\n",
       "        [ 3.82059924e-02, -1.07370904e-02],\n",
       "        [ 3.18570100e-02, -5.10623045e-02],\n",
       "        [-3.92824039e-03,  3.76911089e-02],\n",
       "        [-5.77793419e-02, -5.63186780e-02],\n",
       "        [-2.81420350e+00, -2.70584822e+00],\n",
       "        [ 2.30173040e-02, -7.46487360e-03],\n",
       "        [ 3.04033589e+00,  2.97831821e+00],\n",
       "        [ 4.55944091e-02, -1.09724417e-01],\n",
       "        [-3.88683081e-02,  4.10277769e-02],\n",
       "        [-2.69784665e+00, -2.75844240e+00],\n",
       "        [-2.71690512e+00, -2.67068839e+00],\n",
       "        [-1.10476995e-02,  5.73168099e-02],\n",
       "        [ 3.68745402e-02, -6.57683983e-02],\n",
       "        [ 2.71418595e+00,  2.69674301e+00],\n",
       "        [-1.27978297e-02,  3.04401349e-02],\n",
       "        [-8.78289863e-02,  1.46491705e-02],\n",
       "        [-8.80331472e-02,  1.51803130e-02],\n",
       "        [ 2.76732635e+00,  2.74503517e+00],\n",
       "        [-6.64094836e-02,  1.41941076e-02],\n",
       "        [ 3.01368143e-02, -9.70791932e-03],\n",
       "        [ 1.31863551e-02,  4.24760394e-02],\n",
       "        [ 8.04071967e-03, -7.28625432e-03],\n",
       "        [-1.66485202e-03,  5.36293797e-02],\n",
       "        [ 2.82457304e+00,  2.77252722e+00],\n",
       "        [ 1.12081788e-01,  4.00497206e-03],\n",
       "        [ 5.93586601e-02, -3.07116527e-02],\n",
       "        [-4.76490241e-03,  6.40328601e-02],\n",
       "        [-8.01034048e-02,  2.41350941e-02],\n",
       "        [ 4.91141528e-02,  2.57098489e-02],\n",
       "        [ 5.92380725e-02, -1.03244763e-02],\n",
       "        [-6.83085015e-03,  8.55847523e-02],\n",
       "        [-2.70868897e+00, -2.64527965e+00],\n",
       "        [-2.79899502e+00, -2.75303960e+00],\n",
       "        [-3.42344902e-02,  9.04328097e-03],\n",
       "        [ 3.33496220e-02, -2.32285401e-03],\n",
       "        [ 2.15260405e-02,  4.63008359e-02],\n",
       "        [-4.74342033e-02, -2.05458067e-02],\n",
       "        [ 5.34929242e-03, -6.87659439e-03],\n",
       "        [-1.72925461e-02, -2.16466319e-02],\n",
       "        [ 1.37193175e-02, -3.70101556e-02],\n",
       "        [ 2.75891256e+00,  2.65504384e+00],\n",
       "        [ 2.74437547e+00,  2.70469737e+00],\n",
       "        [-3.01120430e-02,  4.49973717e-02],\n",
       "        [-3.86092649e-03, -4.06237766e-02],\n",
       "        [-5.51551022e-02, -5.70787340e-02],\n",
       "        [-4.22400571e-02,  6.01230375e-02],\n",
       "        [-3.12216207e-03, -8.49446561e-03],\n",
       "        [-2.74912953e+00, -2.63849759e+00],\n",
       "        [ 2.74541593e+00,  2.77709365e+00],\n",
       "        [ 2.73215532e+00,  2.75680614e+00],\n",
       "        [-3.08315866e-02, -6.79845586e-02],\n",
       "        [-2.63342522e-02,  2.95174718e-02],\n",
       "        [ 1.98164266e-02,  3.57938595e-02],\n",
       "        [ 5.90316914e-02, -7.07818568e-03],\n",
       "        [-3.19837686e-03,  3.27636153e-02],\n",
       "        [-2.16468852e-02, -5.69899604e-02],\n",
       "        [-1.74054597e-02,  3.55995782e-02],\n",
       "        [-6.08502282e-03, -3.19106020e-02],\n",
       "        [-6.23263493e-02, -9.32134837e-02],\n",
       "        [-2.94729567e+00, -2.81891680e+00],\n",
       "        [ 4.46485765e-02,  2.28962991e-02],\n",
       "        [-3.37603465e-02,  5.82394786e-02],\n",
       "        [-3.88259441e-02, -6.93258690e-03],\n",
       "        [-2.78531051e+00, -2.71076488e+00],\n",
       "        [-3.32737081e-02, -1.67384855e-02],\n",
       "        [ 2.69894767e+00,  2.77886200e+00],\n",
       "        [ 3.14397598e-03,  1.13722540e-01],\n",
       "        [-8.51012766e-03,  3.74863967e-02],\n",
       "        [-4.69298102e-02, -3.64327729e-02],\n",
       "        [ 1.31994300e-02,  3.02560511e-03],\n",
       "        [ 2.72646427e+00,  2.65580797e+00],\n",
       "        [-2.81972599e+00, -2.71554112e+00],\n",
       "        [-5.29951043e-02,  6.21427372e-02],\n",
       "        [ 3.95073779e-02,  1.41339805e-02],\n",
       "        [ 2.02991441e-02,  1.79039240e-02],\n",
       "        [-7.96868354e-02,  5.44871157e-03],\n",
       "        [ 2.74836087e+00,  2.65423775e+00],\n",
       "        [-6.20971583e-02,  6.74236193e-02],\n",
       "        [-4.68454659e-02, -2.39501968e-02],\n",
       "        [ 7.66174197e-02, -2.23140772e-02],\n",
       "        [-1.59589183e-02, -3.09985541e-02],\n",
       "        [ 7.90622924e-03,  1.90288876e-03],\n",
       "        [-3.38843744e-03, -7.03433752e-02],\n",
       "        [ 3.49182822e-02, -3.81068699e-02],\n",
       "        [ 2.76329994e+00,  2.72627783e+00],\n",
       "        [-1.41206831e-02, -4.90654893e-02],\n",
       "        [ 1.77239589e-02, -6.47430569e-02],\n",
       "        [ 9.46727209e-03,  1.88124292e-02],\n",
       "        [ 3.73055339e-02, -8.17690883e-03],\n",
       "        [-2.73077583e+00, -2.69989157e+00],\n",
       "        [-4.78823408e-02, -3.78793702e-02],\n",
       "        [-2.25652251e-02,  1.42303213e-01],\n",
       "        [ 3.03201918e-02,  6.06305525e-02],\n",
       "        [ 2.75881600e+00,  2.73476839e+00],\n",
       "        [-9.82355475e-02, -3.06339003e-02],\n",
       "        [ 2.67650509e+00,  2.69714165e+00],\n",
       "        [ 4.87981886e-02,  3.00538745e-02],\n",
       "        [ 2.75482702e+00,  2.66827774e+00],\n",
       "        [ 2.79067039e+00,  2.67559028e+00],\n",
       "        [ 2.68623185e+00,  2.80669498e+00],\n",
       "        [ 8.06593150e-02,  4.48312331e-03],\n",
       "        [-4.26754206e-02, -2.50659678e-02],\n",
       "        [-3.24419178e-02, -2.09047757e-02],\n",
       "        [ 6.52531022e-03, -1.77163712e-03],\n",
       "        [ 2.74020958e+00,  2.75014687e+00],\n",
       "        [-6.05849363e-03,  3.94557305e-02],\n",
       "        [ 8.84067193e-02, -3.14812455e-03],\n",
       "        [-2.74358797e+00, -2.76096010e+00],\n",
       "        [ 1.44988503e-02, -3.13356169e-04],\n",
       "        [ 2.78305364e+00,  2.73202944e+00],\n",
       "        [-1.06964242e-02,  7.48625621e-02],\n",
       "        [ 2.68238163e+00,  2.59257388e+00],\n",
       "        [-2.34970935e-02, -4.28410526e-03],\n",
       "        [-2.06123888e-02, -5.36944792e-02],\n",
       "        [-5.51054534e-03, -2.72990745e-02],\n",
       "        [ 7.43311569e-02,  4.28665779e-04],\n",
       "        [-2.75435662e+00, -2.73588133e+00],\n",
       "        [-4.48227040e-02,  1.62316747e-02],\n",
       "        [ 2.22139303e-02, -9.51964855e-02],\n",
       "        [ 6.46422207e-02,  2.48373244e-02],\n",
       "        [ 2.73175693e+00,  2.67392468e+00],\n",
       "        [ 2.76827860e+00,  2.72329903e+00],\n",
       "        [ 2.78246856e+00,  2.75352311e+00],\n",
       "        [-5.76865338e-02,  6.54609278e-02],\n",
       "        [-9.28433239e-03, -1.13347247e-01],\n",
       "        [-2.76493597e+00, -2.80978966e+00],\n",
       "        [ 2.79509926e+00,  2.65542197e+00],\n",
       "        [-2.72036958e+00, -2.66748691e+00],\n",
       "        [-1.12329699e-01, -5.72659411e-02],\n",
       "        [ 3.94106796e-03,  3.58840227e-02],\n",
       "        [-2.66213012e+00, -2.77034831e+00],\n",
       "        [-3.79072130e-02,  3.95463370e-02],\n",
       "        [ 6.78905845e-03,  2.35462897e-02],\n",
       "        [ 7.10179582e-02, -4.22750972e-03],\n",
       "        [ 2.76719308e+00,  2.67380786e+00],\n",
       "        [ 2.75091839e+00,  2.79533601e+00],\n",
       "        [-1.83782727e-02, -3.86868864e-02],\n",
       "        [ 3.55400071e-02,  3.62793617e-02],\n",
       "        [ 2.31787805e-02, -4.95592356e-02],\n",
       "        [ 5.59164174e-02, -2.47424543e-02],\n",
       "        [ 1.72707234e-02, -4.88820449e-02],\n",
       "        [ 2.80216265e+00,  2.71695781e+00],\n",
       "        [-2.75372338e+00, -2.73654962e+00],\n",
       "        [ 2.54064333e-02,  3.02484762e-02],\n",
       "        [-2.66979265e+00, -2.75279832e+00],\n",
       "        [ 1.39823733e-02,  2.37325616e-02],\n",
       "        [ 2.79994988e+00,  2.69534254e+00],\n",
       "        [ 2.45049726e-02,  3.17183621e-02],\n",
       "        [-2.79705115e-02,  5.61515167e-02],\n",
       "        [ 2.53451038e-02,  7.08153248e-02],\n",
       "        [-1.84546672e-02, -4.47178707e-02],\n",
       "        [ 2.51649227e-02,  1.20137921e-02],\n",
       "        [ 2.80902338e+00,  2.69755006e+00],\n",
       "        [ 7.03722099e-03, -3.07385903e-03],\n",
       "        [-1.22074448e-02,  4.92361374e-02],\n",
       "        [-2.74788523e+00, -2.72185588e+00],\n",
       "        [ 7.94012565e-03, -1.91238578e-02],\n",
       "        [ 6.72623739e-02,  1.04037868e-02],\n",
       "        [-1.18407439e-02,  1.27433613e-02],\n",
       "        [-1.09221699e-04, -1.75483897e-02],\n",
       "        [ 2.89421845e-02,  6.47303089e-02],\n",
       "        [-2.76979152e-02,  4.66639511e-02],\n",
       "        [-5.35250828e-02, -3.54956985e-02],\n",
       "        [ 1.30356790e-03, -8.40570927e-02],\n",
       "        [ 2.69515395e+00,  2.77332354e+00],\n",
       "        [-1.60932075e-02,  2.07670294e-02],\n",
       "        [ 3.60962865e-03,  9.26274955e-02],\n",
       "        [ 2.81062245e+00,  2.78241754e+00],\n",
       "        [-1.47582004e-02, -4.49305959e-02],\n",
       "        [ 2.77622819e+00,  2.69251680e+00],\n",
       "        [ 5.25425114e-02, -5.73795587e-02],\n",
       "        [-2.74761081e+00, -2.73542142e+00],\n",
       "        [-5.43962512e-03,  1.58094484e-02],\n",
       "        [ 3.59534548e-04, -1.05256857e-02],\n",
       "        [ 4.80799824e-02, -6.50283918e-02],\n",
       "        [-2.33965591e-02, -3.70906368e-02],\n",
       "        [-5.48449643e-02, -5.22426441e-02],\n",
       "        [ 2.62222067e-02, -6.43735304e-02],\n",
       "        [ 2.77011275e+00,  2.75894332e+00],\n",
       "        [-1.22890798e-02, -1.25671804e-01],\n",
       "        [ 2.70634651e+00,  2.77067733e+00],\n",
       "        [-2.68938160e+00, -2.70919085e+00],\n",
       "        [-2.71407866e+00, -2.69108224e+00],\n",
       "        [-2.70495117e-02,  6.48866966e-03],\n",
       "        [ 1.73069257e-02, -5.17371632e-02],\n",
       "        [-3.18900049e-02,  6.90499786e-03],\n",
       "        [ 2.72577453e+00,  2.66247845e+00],\n",
       "        [-3.94257978e-02, -5.53173311e-02],\n",
       "        [ 2.70486069e+00,  2.78454804e+00],\n",
       "        [ 2.10378524e-02,  4.46863584e-02],\n",
       "        [ 1.17536388e-01, -6.13812022e-02],\n",
       "        [-2.02274648e-03,  4.33167443e-02],\n",
       "        [ 2.80525661e+00,  2.69377375e+00],\n",
       "        [ 2.23145857e-02,  7.76525214e-02],\n",
       "        [-2.65002203e+00, -2.71518826e+00],\n",
       "        [ 2.82915545e+00,  2.70605803e+00],\n",
       "        [ 2.32066400e-02, -2.32479572e-02],\n",
       "        [ 1.49269542e-02,  9.66291875e-03],\n",
       "        [-7.97527730e-02, -5.38079962e-02],\n",
       "        [ 3.18124741e-02, -3.55864577e-02],\n",
       "        [ 1.88181866e-02,  4.80824076e-02],\n",
       "        [-1.31307673e-02,  8.58799554e-03],\n",
       "        [ 1.29400585e-02, -5.18313982e-02],\n",
       "        [-5.74044809e-02, -3.07021127e-03],\n",
       "        [ 3.54261510e-02, -3.18074599e-02],\n",
       "        [ 1.31808417e-02, -3.30918133e-02],\n",
       "        [ 1.98831074e-02, -3.07020266e-02],\n",
       "        [-6.42803265e-03,  2.97829602e-02],\n",
       "        [-6.87265024e-02,  6.51703328e-02],\n",
       "        [ 8.88897553e-02,  4.33642790e-02],\n",
       "        [ 2.77572489e+00,  2.71945930e+00],\n",
       "        [-3.04197241e-02,  3.18075866e-02],\n",
       "        [ 2.85713207e-02,  1.82927977e-02],\n",
       "        [-2.59803820e+00, -2.72890592e+00],\n",
       "        [ 2.34698579e-02,  8.70551169e-02],\n",
       "        [-2.74987984e+00, -2.61770582e+00],\n",
       "        [-2.22999398e-02, -5.94321685e-03],\n",
       "        [-7.04334751e-02, -4.98291478e-02],\n",
       "        [-2.76121616e+00, -2.67866564e+00],\n",
       "        [-5.97991655e-03, -4.01938930e-02],\n",
       "        [ 5.20863533e-02, -1.64099538e-03],\n",
       "        [-4.02196199e-02, -1.41981859e-02],\n",
       "        [ 2.73491096e+00,  2.65332866e+00],\n",
       "        [-9.68736969e-03, -1.05598252e-02],\n",
       "        [ 2.72980142e+00,  2.76565361e+00],\n",
       "        [ 7.39687532e-02, -5.56013994e-02],\n",
       "        [ 2.89066527e-02,  6.72479197e-02],\n",
       "        [ 2.17422619e-02, -7.15390444e-02],\n",
       "        [ 2.65720892e+00,  2.81221890e+00],\n",
       "        [ 7.93994069e-02, -1.11996178e-02],\n",
       "        [ 6.11926317e-02, -5.61147258e-02],\n",
       "        [-2.83613491e+00, -2.70125127e+00],\n",
       "        [ 2.77341151e+00,  2.72122025e+00],\n",
       "        [-4.47907858e-02, -7.32912356e-03],\n",
       "        [ 2.79969978e+00,  2.70137024e+00],\n",
       "        [-2.77060866e+00, -2.72779012e+00],\n",
       "        [-2.74515033e+00, -2.77963877e+00],\n",
       "        [ 9.98124778e-02,  2.19980665e-02],\n",
       "        [ 3.72552536e-02,  1.79190245e-02],\n",
       "        [-2.70075250e+00, -2.73255229e+00],\n",
       "        [ 2.72638440e+00,  2.62931466e+00],\n",
       "        [ 1.68584473e-02, -6.36541285e-03],\n",
       "        [-2.75719857e+00, -2.62850046e+00],\n",
       "        [-3.03458683e-02, -1.79875605e-02],\n",
       "        [-3.54799256e-02, -3.07423510e-02],\n",
       "        [-3.03312279e-02,  2.04380099e-02],\n",
       "        [ 7.11043328e-02,  4.06565815e-02],\n",
       "        [ 2.24425625e-02, -1.81554421e-03],\n",
       "        [-3.66780721e-02, -3.17398235e-02],\n",
       "        [ 3.61048640e-03, -5.68881966e-02],\n",
       "        [-3.63560431e-02,  9.58650261e-02],\n",
       "        [ 2.11655162e-02, -2.95851566e-02],\n",
       "        [ 2.37042289e-02,  5.43363132e-02],\n",
       "        [ 8.84833261e-02, -8.51463825e-02],\n",
       "        [ 2.75569177e+00,  2.67068028e+00],\n",
       "        [ 1.34340860e-02,  2.28196848e-03],\n",
       "        [ 1.10444687e-02,  3.67733352e-02],\n",
       "        [ 2.24646628e-02, -2.23665778e-02],\n",
       "        [-4.29646298e-02,  5.93269393e-02],\n",
       "        [ 2.75200081e+00,  2.64142156e+00],\n",
       "        [ 2.72868204e+00,  2.71481681e+00],\n",
       "        [ 2.76372266e+00,  2.71372676e+00],\n",
       "        [ 4.61401865e-02,  1.45733636e-02],\n",
       "        [-2.00502612e-02, -2.40435153e-02],\n",
       "        [-2.82087851e+00, -2.69009686e+00],\n",
       "        [ 3.38597782e-02,  8.73119310e-02],\n",
       "        [-4.70440229e-03,  4.12501320e-02],\n",
       "        [-2.80484509e+00, -2.67260814e+00],\n",
       "        [ 4.07488272e-02, -2.13956460e-02],\n",
       "        [ 6.07933733e-04,  1.10675223e-01],\n",
       "        [-6.02326430e-02, -5.92738800e-02],\n",
       "        [ 4.44163894e-03, -3.62682319e-03],\n",
       "        [ 6.18517883e-02, -8.41794070e-03],\n",
       "        [-2.81408262e+00, -2.66497660e+00],\n",
       "        [ 2.73998022e+00,  2.75765324e+00],\n",
       "        [-2.79759836e+00, -2.67874336e+00],\n",
       "        [-3.83755714e-02,  1.30242752e-02],\n",
       "        [ 5.13054915e-02,  1.20392546e-01],\n",
       "        [-1.51643832e-03, -2.92064045e-02],\n",
       "        [ 2.75468421e+00,  2.71090126e+00],\n",
       "        [ 2.75352287e+00,  2.73284650e+00],\n",
       "        [ 3.38589400e-02, -4.24529519e-03],\n",
       "        [-2.74386764e+00, -2.74514914e+00],\n",
       "        [ 7.09693239e-04, -6.02056980e-02],\n",
       "        [ 2.82474494e+00,  2.72974730e+00],\n",
       "        [ 3.11757438e-03,  1.27837002e-01],\n",
       "        [ 2.78074408e+00,  2.76205635e+00],\n",
       "        [ 5.35239130e-02,  1.48795662e-03],\n",
       "        [-1.29425861e-02, -1.42483246e-02],\n",
       "        [ 1.26517396e-02, -2.16607247e-02],\n",
       "        [-1.02991033e-02,  4.43385281e-02],\n",
       "        [-2.78161931e+00, -2.64264464e+00],\n",
       "        [-5.62286600e-02,  4.36615720e-02],\n",
       "        [ 3.58500145e-02,  9.61667392e-03],\n",
       "        [ 2.80415082e+00,  2.75166559e+00],\n",
       "        [-1.04799410e-02, -7.00454786e-02],\n",
       "        [-1.68253370e-02,  6.08952492e-02],\n",
       "        [ 1.88369527e-02,  2.07051151e-02],\n",
       "        [ 4.36991230e-02, -1.86141469e-02],\n",
       "        [ 2.70596218e+00,  2.68916512e+00],\n",
       "        [ 1.43215666e-03, -7.11839348e-02],\n",
       "        [ 1.13821886e-02,  4.15511467e-02],\n",
       "        [-2.49466449e-02, -3.43703888e-02],\n",
       "        [ 1.84321068e-02,  6.36296626e-03],\n",
       "        [ 2.80775523e+00,  2.78130722e+00],\n",
       "        [ 4.29921458e-03,  2.12708605e-03],\n",
       "        [ 2.80215955e+00,  2.73517394e+00],\n",
       "        [-4.02309140e-03, -1.84633378e-02],\n",
       "        [ 1.00381739e-01, -5.43156788e-02],\n",
       "        [ 2.73848939e+00,  2.71593022e+00],\n",
       "        [-1.05635583e-01,  4.29881853e-04],\n",
       "        [ 3.15939523e-02,  3.82585712e-02],\n",
       "        [-3.26101594e-02,  3.63254733e-02],\n",
       "        [ 2.78676438e+00,  2.68362522e+00],\n",
       "        [ 6.42876886e-03,  1.21934563e-02],\n",
       "        [-8.33239555e-02, -3.01890163e-04],\n",
       "        [ 2.71157956e+00,  2.71837378e+00],\n",
       "        [ 4.25726315e-03,  8.63301829e-02],\n",
       "        [ 1.19607188e-01, -4.85402794e-04],\n",
       "        [-5.33863530e-03, -6.57054633e-02],\n",
       "        [-1.87384766e-02, -6.06256835e-02],\n",
       "        [-1.44095626e-02,  2.75546331e-02],\n",
       "        [ 1.95620488e-03,  3.04193646e-02],\n",
       "        [-1.21431397e-02, -2.78159473e-02],\n",
       "        [-3.90935503e-02, -4.14470360e-02],\n",
       "        [-1.27882389e-02,  2.01208685e-02],\n",
       "        [ 2.74377179e+00,  2.70041060e+00],\n",
       "        [ 7.20401062e-03,  2.40510236e-02],\n",
       "        [ 2.80382347e+00,  2.67336249e+00],\n",
       "        [ 1.91373806e-02, -5.26269861e-02],\n",
       "        [ 2.05452330e-02, -1.04097668e-02],\n",
       "        [ 2.32700229e-04, -1.80718321e-02],\n",
       "        [-2.71888995e+00, -2.68132973e+00],\n",
       "        [-2.81399465e+00, -2.65443015e+00],\n",
       "        [ 2.69202757e+00,  2.70861244e+00],\n",
       "        [-2.32692491e-02, -3.94608965e-03],\n",
       "        [ 2.87846196e-02,  1.05093427e-01],\n",
       "        [-3.02524660e-02, -4.00776304e-02],\n",
       "        [-7.05229715e-02, -2.82812268e-02],\n",
       "        [-4.73724380e-02,  2.12380644e-02],\n",
       "        [ 3.16165574e-02,  3.30397934e-02],\n",
       "        [-2.53622346e-02, -4.68885303e-02],\n",
       "        [ 3.09469504e-03,  6.79652020e-02],\n",
       "        [-2.75391722e+00, -2.65947461e+00],\n",
       "        [ 1.35064647e-02, -4.36134376e-02],\n",
       "        [ 1.28674898e-02, -7.94188399e-03],\n",
       "        [ 3.38862725e-02,  5.48425503e-03],\n",
       "        [-6.86365226e-03, -1.46688363e-02],\n",
       "        [-2.66892388e-02, -1.90744572e-03],\n",
       "        [ 2.78792071e+00,  2.76988506e+00],\n",
       "        [-1.49484240e-02,  7.40241306e-03],\n",
       "        [ 1.31801432e-02,  3.05576306e-02],\n",
       "        [-7.11999685e-02,  6.05720207e-02],\n",
       "        [ 2.00653244e-02, -4.23272848e-02],\n",
       "        [-2.71702743e+00, -2.74283600e+00],\n",
       "        [-3.77437822e-03,  9.67605188e-02],\n",
       "        [ 5.43592423e-02, -6.95080683e-02],\n",
       "        [ 2.79863644e+00,  2.71687603e+00],\n",
       "        [ 8.54236111e-02, -7.57271051e-02],\n",
       "        [ 2.71947598e+00,  2.70649838e+00],\n",
       "        [ 6.00029267e-02, -3.81882638e-02],\n",
       "        [-6.82490095e-02,  6.02750555e-02],\n",
       "        [ 2.40676459e-02,  2.04076208e-02],\n",
       "        [-3.59254405e-02, -5.32925166e-02],\n",
       "        [-8.72295536e-03,  1.28814867e-02],\n",
       "        [-1.71218459e-02, -2.31294781e-02],\n",
       "        [ 2.78459477e+00,  2.81905246e+00],\n",
       "        [-8.43365956e-03,  9.62560344e-03],\n",
       "        [ 2.72980738e+00,  2.73495460e+00],\n",
       "        [-2.75064468e+00, -2.74291229e+00],\n",
       "        [-4.31816559e-03,  4.91944188e-03],\n",
       "        [ 3.67073976e-02,  3.16676907e-02],\n",
       "        [-1.70776551e-03, -6.19631335e-02],\n",
       "        [ 4.00292426e-02, -4.98618707e-02],\n",
       "        [-2.42792033e-02,  4.36870456e-02],\n",
       "        [ 2.72853899e+00,  2.73219872e+00],\n",
       "        [ 5.29662333e-02,  1.69966128e-02],\n",
       "        [-2.79642773e+00, -2.69609547e+00],\n",
       "        [ 9.20522027e-03, -2.81172264e-02],\n",
       "        [ 7.01176301e-02,  7.77880289e-03],\n",
       "        [-2.73320174e+00, -2.69645929e+00],\n",
       "        [-2.82780218e+00, -2.72189665e+00],\n",
       "        [-1.12821616e-01,  5.14436364e-02],\n",
       "        [-3.32655646e-02, -4.68874648e-02],\n",
       "        [-5.27593261e-03,  2.20288965e-03],\n",
       "        [-2.77356219e+00, -2.75485516e+00],\n",
       "        [ 2.74158144e+00,  2.72078180e+00],\n",
       "        [-2.81624889e+00, -2.77308273e+00],\n",
       "        [ 2.75008965e+00,  2.71334195e+00],\n",
       "        [-3.05991471e-02,  3.39299440e-02],\n",
       "        [ 3.15577872e-02,  5.17133586e-02],\n",
       "        [ 2.35996731e-02,  1.35346232e-02],\n",
       "        [-3.68750431e-02,  7.49388710e-02],\n",
       "        [ 2.74686337e+00,  2.70845437e+00],\n",
       "        [-1.02475584e-01, -7.38107264e-02],\n",
       "        [-1.87302940e-02, -2.81314235e-02],\n",
       "        [ 1.58131099e-03, -5.53033277e-02],\n",
       "        [-8.03556014e-03,  2.60568596e-02],\n",
       "        [-3.82536120e-04,  4.23433110e-02],\n",
       "        [-3.27555500e-02, -5.68946861e-02],\n",
       "        [ 6.42427942e-04,  4.27650809e-02],\n",
       "        [-2.70900106e+00, -2.77327228e+00],\n",
       "        [-1.51394650e-01, -4.91174646e-02],\n",
       "        [ 2.72771645e+00,  2.76036382e+00],\n",
       "        [-2.77938414e+00, -2.78286362e+00],\n",
       "        [ 2.80991077e+00,  2.72749352e+00],\n",
       "        [ 1.00027315e-01, -4.45498060e-03],\n",
       "        [ 2.79428673e+00,  2.66884923e+00],\n",
       "        [ 2.92427111e+00,  2.97230935e+00],\n",
       "        [ 5.64219616e-02, -7.77966483e-03],\n",
       "        [ 2.69251776e+00,  2.75792789e+00],\n",
       "        [-2.70868087e+00, -2.80066442e+00],\n",
       "        [-1.26606168e-03,  6.73968494e-02],\n",
       "        [ 7.75750400e-03,  1.04411636e-02],\n",
       "        [-2.73280454e+00, -2.70068192e+00],\n",
       "        [-2.73467755e+00, -2.75009346e+00],\n",
       "        [ 5.60169406e-02,  1.12444591e-02],\n",
       "        [-4.19320501e-02,  2.14928128e-02],\n",
       "        [ 2.74720359e+00,  2.72857237e+00],\n",
       "        [ 5.78564405e-02, -6.26763701e-02],\n",
       "        [-1.74572486e-02, -6.38852417e-02],\n",
       "        [-2.81643558e+00, -2.72204947e+00],\n",
       "        [ 2.70228434e+00,  2.78352118e+00],\n",
       "        [ 1.42079443e-02, -2.28736326e-02],\n",
       "        [-2.73155761e+00, -2.66948271e+00],\n",
       "        [-1.58013161e-02, -2.36984063e-02],\n",
       "        [-4.96670157e-02, -3.48525159e-02],\n",
       "        [-7.18488470e-02, -4.86450978e-02],\n",
       "        [ 2.16834694e-02,  3.53183784e-02],\n",
       "        [ 2.71985674e+00,  2.76095796e+00],\n",
       "        [-2.78612232e+00, -2.60006523e+00],\n",
       "        [-6.54995143e-02, -1.28826648e-02],\n",
       "        [ 3.87844183e-02,  2.68203244e-02],\n",
       "        [ 1.71923693e-02,  3.58053646e-03],\n",
       "        [ 2.77502036e+00,  2.71047688e+00],\n",
       "        [-6.24743327e-02,  7.80546921e-04],\n",
       "        [-1.25631336e-02,  9.57016891e-04],\n",
       "        [ 2.73165298e+00,  2.67692423e+00],\n",
       "        [ 6.01773076e-02, -4.64620963e-02],\n",
       "        [ 2.75710821e+00,  2.68326306e+00],\n",
       "        [ 1.74176693e-03, -3.29561010e-02],\n",
       "        [-7.09740669e-02,  3.20839696e-02],\n",
       "        [-3.17991525e-03,  1.03119425e-02],\n",
       "        [-2.72635245e+00, -2.81390047e+00],\n",
       "        [-3.08839255e-04,  1.65869496e-04],\n",
       "        [-3.97217693e-04, -5.34086674e-02],\n",
       "        [ 2.88713388e-02,  5.95176406e-02],\n",
       "        [-2.40534469e-02, -1.16485491e-01],\n",
       "        [-6.28490970e-02,  9.09188762e-03],\n",
       "        [-2.73310757e+00, -2.72178650e+00],\n",
       "        [ 2.15660390e-02,  7.05073625e-02],\n",
       "        [-2.70652986e+00, -2.74336624e+00],\n",
       "        [-8.37215781e-02, -5.19671328e-02],\n",
       "        [ 3.15208770e-02, -1.93425417e-02],\n",
       "        [ 1.93667784e-02, -2.72915866e-02],\n",
       "        [-2.77646923e+00, -2.78464651e+00],\n",
       "        [ 3.15599213e-03, -8.03926121e-03],\n",
       "        [-8.75162240e-03, -8.28017220e-02],\n",
       "        [-6.92993328e-02,  3.04396246e-02],\n",
       "        [ 3.70588675e-02,  4.07108814e-02],\n",
       "        [ 2.73786497e+00,  2.65651774e+00]], dtype=float32),\n",
       " 'Wxf': Array([[ 0.06991199, -0.07237202, -0.00281652, ...,  0.03935293,\n",
       "         -0.0097756 , -0.0198767 ],\n",
       "        [-0.00874909,  0.00844568, -0.04652989, ..., -0.01170418,\n",
       "          0.01678223, -0.00753799],\n",
       "        [-0.05143332,  0.03483594,  0.04241041, ..., -0.02058865,\n",
       "          0.12044582,  0.09015934],\n",
       "        ...,\n",
       "        [ 0.01993236,  0.06088675, -0.02071144, ...,  0.07657091,\n",
       "          0.03332299, -0.00725153],\n",
       "        [-0.05668764,  0.05824376, -0.02491815, ..., -0.06549947,\n",
       "         -0.01427052,  0.02387223],\n",
       "        [ 0.0088616 ,  0.01399665,  0.00926176, ..., -0.01168063,\n",
       "          0.12168604,  0.01711103]], dtype=float32),\n",
       " 'Wxi': Array([[ 0.01125911, -0.05028913,  0.09013062, ...,  0.06256311,\n",
       "          0.05431801, -0.01010599],\n",
       "        [-0.07795278,  0.01384453,  0.03492739, ..., -0.00315808,\n",
       "         -0.02126983,  0.01339598],\n",
       "        [ 0.01752377,  0.07068948, -0.00307408, ..., -0.04023956,\n",
       "         -0.01960677,  0.10479124],\n",
       "        ...,\n",
       "        [ 0.0182249 ,  0.02102091, -0.01135571, ...,  0.0475775 ,\n",
       "          0.00535468,  0.00115994],\n",
       "        [-0.01311789, -0.00637546,  0.05454317, ..., -0.05348237,\n",
       "         -0.00834344, -0.05722758],\n",
       "        [ 0.01111596, -0.07274884,  0.06951614, ...,  0.01494725,\n",
       "          0.04463746,  0.07659331]], dtype=float32),\n",
       " 'Wxl': Array([[-0.03383272, -0.01625809, -0.02493486, ...,  0.04967023,\n",
       "          0.09813456, -0.00772156],\n",
       "        [-0.08796008,  0.04277234, -0.03276081, ...,  0.04116818,\n",
       "         -0.0298501 ,  0.04913463],\n",
       "        [ 0.00165445, -0.06564667, -0.00809902, ..., -0.06576174,\n",
       "          0.05787114, -0.01674273],\n",
       "        ...,\n",
       "        [-0.09576523, -0.02935826, -0.02044182, ...,  0.01025883,\n",
       "          0.00067383,  0.04761157],\n",
       "        [ 0.00978674, -0.01381235,  0.04150841, ...,  0.0084755 ,\n",
       "          0.04699036, -0.04197118],\n",
       "        [-0.0334136 ,  0.01137982, -0.0187149 , ..., -0.01579547,\n",
       "          0.0537114 ,  0.10801159]], dtype=float32),\n",
       " 'Wxo': Array([[-6.7926221e-02,  1.5375711e-02, -5.4458633e-02, ...,\n",
       "         -1.4868458e-02, -2.8428381e-02, -4.5972716e-02],\n",
       "        [-2.2671187e-02, -3.3161946e-02, -8.4152244e-02, ...,\n",
       "          2.9941451e-02, -4.1340169e-02, -7.8331955e-02],\n",
       "        [ 1.6785212e-02,  6.4876825e-02, -1.6931230e-02, ...,\n",
       "          2.8172750e-02, -2.7810846e-02, -5.6082617e-02],\n",
       "        ...,\n",
       "        [-1.1492737e-01, -6.7857639e-03, -4.7097255e-02, ...,\n",
       "         -5.1713206e-02,  5.7000609e-04, -5.8031263e-05],\n",
       "        [ 7.0016041e-02,  4.8406400e-02, -4.2190529e-02, ...,\n",
       "          2.1296086e-02,  5.7409960e-03,  4.7633674e-02],\n",
       "        [ 1.5825815e-02,  4.1082124e-03, -1.3430228e-02, ...,\n",
       "          8.8284589e-02,  6.3665219e-02, -7.1695633e-02]], dtype=float32)}"
      ]
     },
     "execution_count": 158,
     "metadata": {},
     "output_type": "execute_result"
    }
   ],
   "source": [
    "params"
   ]
  },
  {
   "cell_type": "code",
   "execution_count": 160,
   "metadata": {},
   "outputs": [
    {
     "data": {
      "text/plain": [
       "Array([[326.80344, 322.18808],\n",
       "       [380.99802, 375.59006],\n",
       "       [389.3045 , 383.77505],\n",
       "       [390.44882, 384.90265],\n",
       "       [390.60413, 385.0557 ],\n",
       "       [390.62515, 385.0764 ],\n",
       "       [390.62802, 385.07916],\n",
       "       [390.6284 , 385.07956],\n",
       "       [390.62842, 385.07962],\n",
       "       [390.62842, 385.07962],\n",
       "       [390.62842, 385.07962],\n",
       "       [390.62842, 385.07962],\n",
       "       [390.62842, 385.07962],\n",
       "       [390.62842, 385.07962],\n",
       "       [390.62842, 385.07962],\n",
       "       [390.62842, 385.07962],\n",
       "       [390.62842, 385.07962],\n",
       "       [390.62842, 385.07962],\n",
       "       [390.62842, 385.07962],\n",
       "       [390.62845, 385.07962],\n",
       "       [390.62845, 385.07962],\n",
       "       [390.62845, 385.07962],\n",
       "       [390.62845, 385.07962],\n",
       "       [390.62845, 385.07962],\n",
       "       [390.62845, 385.07962],\n",
       "       [390.62845, 385.07962],\n",
       "       [390.62845, 385.07962],\n",
       "       [390.62845, 385.07962],\n",
       "       [390.62845, 385.07962],\n",
       "       [390.62845, 385.07962],\n",
       "       [390.62845, 385.07962],\n",
       "       [390.62845, 385.07962],\n",
       "       [390.62845, 385.07962],\n",
       "       [390.62845, 385.07962],\n",
       "       [390.62845, 385.07962],\n",
       "       [390.62845, 385.07962],\n",
       "       [390.62845, 385.07962],\n",
       "       [390.62845, 385.07962],\n",
       "       [390.62845, 385.07962],\n",
       "       [390.62845, 385.07962],\n",
       "       [390.62845, 385.07962],\n",
       "       [390.62845, 385.07962],\n",
       "       [390.62845, 385.07962],\n",
       "       [390.62845, 385.07962],\n",
       "       [390.62845, 385.07962],\n",
       "       [390.62845, 385.07962],\n",
       "       [390.62845, 385.07962],\n",
       "       [390.62845, 385.07962],\n",
       "       [390.62845, 385.07962],\n",
       "       [390.62845, 385.07962],\n",
       "       [390.62845, 385.07962],\n",
       "       [390.62845, 385.07962],\n",
       "       [390.62845, 385.07962],\n",
       "       [390.62845, 385.07962],\n",
       "       [390.62845, 385.07962],\n",
       "       [390.62845, 385.07962],\n",
       "       [390.62845, 385.07962],\n",
       "       [390.62845, 385.07962],\n",
       "       [390.62845, 385.07962],\n",
       "       [390.62845, 385.07962],\n",
       "       [390.62845, 385.07962],\n",
       "       [390.62845, 385.07962],\n",
       "       [390.62845, 385.07962],\n",
       "       [390.62845, 385.07962],\n",
       "       [390.62845, 385.07962],\n",
       "       [390.62845, 385.07962],\n",
       "       [390.62845, 385.07962],\n",
       "       [390.62845, 385.07962],\n",
       "       [390.62845, 385.07962],\n",
       "       [390.62845, 385.07962],\n",
       "       [390.62845, 385.07962],\n",
       "       [390.62845, 385.07962],\n",
       "       [390.62845, 385.07962],\n",
       "       [390.62845, 385.07962],\n",
       "       [390.62845, 385.07962],\n",
       "       [390.62845, 385.07962],\n",
       "       [390.62845, 385.07962],\n",
       "       [390.62845, 385.07962],\n",
       "       [390.62845, 385.07962],\n",
       "       [390.62845, 385.07962],\n",
       "       [390.62845, 385.07962],\n",
       "       [390.62845, 385.07962],\n",
       "       [390.62845, 385.07962],\n",
       "       [390.62845, 385.07962],\n",
       "       [390.62845, 385.07962],\n",
       "       [390.62845, 385.07962],\n",
       "       [390.62845, 385.07962],\n",
       "       [390.62845, 385.07962],\n",
       "       [390.62845, 385.07962],\n",
       "       [390.62845, 385.07962],\n",
       "       [390.62845, 385.07962],\n",
       "       [390.62845, 385.07962],\n",
       "       [390.62845, 385.07962],\n",
       "       [390.62845, 385.07962],\n",
       "       [390.62845, 385.07962],\n",
       "       [390.62845, 385.07962],\n",
       "       [390.62845, 385.07962],\n",
       "       [390.62845, 385.07962],\n",
       "       [390.62845, 385.07962],\n",
       "       [390.62845, 385.07962]], dtype=float32)"
      ]
     },
     "execution_count": 160,
     "metadata": {},
     "output_type": "execute_result"
    }
   ],
   "source": [
    "lstmj.forward(datasetHL[0][-100:], params)"
   ]
  },
  {
   "cell_type": "code",
   "execution_count": 106,
   "metadata": {},
   "outputs": [
    {
     "data": {
      "text/plain": [
       "Array([[419.23, 411.09],\n",
       "       [418.79, 411.09],\n",
       "       [420.02, 411.09],\n",
       "       [420.18, 411.09],\n",
       "       [420.18, 411.09],\n",
       "       [421.82, 414.65],\n",
       "       [427.92, 417.85],\n",
       "       [427.92, 417.85],\n",
       "       [428.03, 417.85],\n",
       "       [428.03, 421.82],\n",
       "       [429.13, 426.55],\n",
       "       [429.9 , 426.55],\n",
       "       [433.8 , 426.55],\n",
       "       [436.66, 426.55],\n",
       "       [437.18, 429.13],\n",
       "       [442.6 , 429.9 ],\n",
       "       [442.6 , 433.8 ],\n",
       "       [442.6 , 436.66],\n",
       "       [442.6 , 434.94],\n",
       "       [442.6 , 434.94],\n",
       "       [439.46, 433.21],\n",
       "       [437.18, 431.44],\n",
       "       [436.51, 431.44],\n",
       "       [436.51, 431.44],\n",
       "       [438.11, 431.44],\n",
       "       [443.28, 431.44]], dtype=float32)"
      ]
     },
     "execution_count": 106,
     "metadata": {},
     "output_type": "execute_result"
    }
   ],
   "source": [
    "batch[1]"
   ]
  },
  {
   "cell_type": "code",
   "execution_count": 127,
   "metadata": {},
   "outputs": [
    {
     "data": {
      "text/plain": [
       "Array(1279.7205, dtype=float32)"
      ]
     },
     "execution_count": 127,
     "metadata": {},
     "output_type": "execute_result"
    }
   ],
   "source": [
    "jnp.mean((batch[1] - lstmj.forward(batch[0], params))**2)"
   ]
  },
  {
   "cell_type": "code",
   "execution_count": null,
   "metadata": {},
   "outputs": [],
   "source": []
  },
  {
   "cell_type": "code",
   "execution_count": null,
   "metadata": {},
   "outputs": [],
   "source": []
  },
  {
   "cell_type": "code",
   "execution_count": 506,
   "metadata": {},
   "outputs": [
    {
     "data": {
      "text/plain": [
       "Array([ True,  True,  True,  True,  True,  True,  True,  True,  True,\n",
       "        True,  True,  True,  True,  True,  True,  True,  True,  True,\n",
       "        True,  True,  True,  True,  True,  True,  True,  True,  True,\n",
       "        True,  True,  True,  True,  True,  True,  True,  True,  True,\n",
       "        True,  True,  True,  True,  True,  True,  True,  True,  True,\n",
       "        True,  True,  True,  True,  True], dtype=bool)"
      ]
     },
     "execution_count": 506,
     "metadata": {},
     "output_type": "execute_result"
    }
   ],
   "source": [
    "lstmj.final_state[0] == lstmj.hstate[-1]"
   ]
  },
  {
   "cell_type": "code",
   "execution_count": null,
   "metadata": {},
   "outputs": [],
   "source": []
  },
  {
   "cell_type": "code",
   "execution_count": 438,
   "metadata": {},
   "outputs": [],
   "source": [
    "def cumsum(carry, x):\n",
    "    return carry + x, carry + x"
   ]
  },
  {
   "cell_type": "code",
   "execution_count": 442,
   "metadata": {},
   "outputs": [
    {
     "data": {
      "text/plain": [
       "(Array(45, dtype=int32),\n",
       " Array([ 0,  1,  3,  6, 10, 15, 21, 28, 36, 45], dtype=int32))"
      ]
     },
     "execution_count": 442,
     "metadata": {},
     "output_type": "execute_result"
    }
   ],
   "source": [
    "jax.lax.scan(cumsum, 0, jnp.arange(10))"
   ]
  },
  {
   "cell_type": "code",
   "execution_count": null,
   "metadata": {},
   "outputs": [],
   "source": []
  },
  {
   "cell_type": "code",
   "execution_count": null,
   "metadata": {},
   "outputs": [],
   "source": []
  },
  {
   "cell_type": "markdown",
   "metadata": {},
   "source": [
    "### LSTM using Equinox"
   ]
  },
  {
   "cell_type": "code",
   "execution_count": 161,
   "metadata": {},
   "outputs": [],
   "source": [
    "#let's compare jax only implementation above to equinox"
   ]
  },
  {
   "cell_type": "code",
   "execution_count": 162,
   "metadata": {},
   "outputs": [
    {
     "data": {
      "text/plain": [
       "'0.4.13'"
      ]
     },
     "execution_count": 162,
     "metadata": {},
     "output_type": "execute_result"
    }
   ],
   "source": [
    "jax.__version__"
   ]
  },
  {
   "cell_type": "code",
   "execution_count": 172,
   "metadata": {},
   "outputs": [],
   "source": [
    "import math\n",
    "# import jax\n",
    "# import jax.lax as lax\n",
    "# import jax.numpy as jnp\n",
    "# import jax.random as jrandom\n",
    "import numpy as np\n",
    "# import optax  # https://github.com/deepmind/optax\n",
    "\n",
    "import equinox as eqx"
   ]
  },
  {
   "cell_type": "code",
   "execution_count": 421,
   "metadata": {},
   "outputs": [],
   "source": [
    "def dataloader(arrays, batch_size):\n",
    "    dataset_size = arrays[0].shape[0]\n",
    "    assert all(array.shape[0] == dataset_size for array in arrays)\n",
    "    indices = np.arange(dataset_size)\n",
    "    epoch = -1\n",
    "    while True:\n",
    "#         perm = np.random.permutation(indices) # removed shuffling for TS\n",
    "        perm = indices\n",
    "        start = 0\n",
    "        end = batch_size\n",
    "        epoch += 1\n",
    "        print(f'starting epoch {epoch}')\n",
    "        while end <= dataset_size:\n",
    "            batch_perm = perm[start:end]\n",
    "            yield tuple(array[batch_perm] for array in arrays)\n",
    "            start = end\n",
    "            end = start + batch_size\n",
    "\n",
    "\n",
    "def get_data(dataset_size, seq_length, *, key):\n",
    "    t = jnp.linspace(0, 2 * math.pi, seq_length)\n",
    "    offset = jax.random.uniform(key, (dataset_size, 1), minval=0, maxval=2 * math.pi)\n",
    "    x1 = jnp.sin(t + offset) / (1 + t)\n",
    "    x2 = jnp.cos(t + offset) / (1 + t)\n",
    "    y = jnp.ones((dataset_size, 1))\n",
    "\n",
    "    half_dataset_size = dataset_size // 2\n",
    "    x1 = x1.at[:half_dataset_size].multiply(-1)\n",
    "    y = y.at[:half_dataset_size].set(0)\n",
    "    x = jnp.stack([x1, x2], axis=-1)\n",
    "\n",
    "    return x, y"
   ]
  },
  {
   "cell_type": "code",
   "execution_count": 405,
   "metadata": {},
   "outputs": [],
   "source": [
    "# spirals curling in oposite direction\n",
    "# think of each spiral as a sequence, or a time series\n",
    "# hence GRU/LSTM for classifying sequences\n",
    "# input dim is 2 in this case, and we are observing \n",
    "# a sequence of (x1, x2) points\n",
    "dataset_size = 2\n",
    "seq_length = 20\n",
    "batch_size = 1\n",
    "data_key, model_key = jax.random.split(jax.random.PRNGKey(212), 2)\n",
    "xs, ys = get_data(dataset_size, seq_length, key=data_key)\n",
    "iter_data = dataloader((xs, ys), batch_size)\n"
   ]
  },
  {
   "cell_type": "code",
   "execution_count": 406,
   "metadata": {},
   "outputs": [
    {
     "name": "stdout",
     "output_type": "stream",
     "text": [
      "(2, 20, 2) (2, 1)\n"
     ]
    }
   ],
   "source": [
    "print(xs.shape, ys.shape)"
   ]
  },
  {
   "cell_type": "code",
   "execution_count": 407,
   "metadata": {},
   "outputs": [
    {
     "data": {
      "text/plain": [
       "<matplotlib.legend.Legend at 0x7fabddf05450>"
      ]
     },
     "execution_count": 407,
     "metadata": {},
     "output_type": "execute_result"
    },
    {
     "data": {
      "image/png": "[encoded data removed]",
      "text/plain": [
       "<Figure size 640x480 with 1 Axes>"
      ]
     },
     "metadata": {},
     "output_type": "display_data"
    }
   ],
   "source": [
    "# \n",
    "fig = plt.figure()\n",
    "ax1 = fig.add_subplot(111)\n",
    "# df_cl1 = df[df.label == 0]\n",
    "# df_cl2 = df[df.label == 1]\n",
    "for i in range(dataset_size):\n",
    "    if ys[i][0] == 0.:\n",
    "        clr ='b'\n",
    "    else:\n",
    "        clr = 'r'\n",
    "    ax1.scatter(xs[i][:, 0], xs[i][:, 1], s=5, c=clr, marker=\"s\", label=ys[i][0])\n",
    "#     ax1.scatter(df_cl2.x1, df_cl2.x2, s=5, c='r', marker=\"s\", label='class2')\n",
    "fig.tight_layout()\n",
    "plt.title('Two classes')\n",
    "plt.legend()\n",
    "\n",
    "\n",
    "# plt.scatter(xs[0][:, 0], xs[0][:, 1])"
   ]
  },
  {
   "cell_type": "code",
   "execution_count": 408,
   "metadata": {},
   "outputs": [],
   "source": [
    "# larger data set\n",
    "dataset_size = 100\n",
    "batch_size = 10\n",
    "seq_length = 20\n",
    "data_key, model_key = jax.random.split(jax.random.PRNGKey(212), 2)\n",
    "xs, ys = get_data(dataset_size, seq_length, key=data_key)\n",
    "iter_data = dataloader((xs, ys), batch_size)\n"
   ]
  },
  {
   "cell_type": "code",
   "execution_count": 409,
   "metadata": {},
   "outputs": [
    {
     "data": {
      "text/plain": [
       "(100, 20, 2)"
      ]
     },
     "execution_count": 409,
     "metadata": {},
     "output_type": "execute_result"
    }
   ],
   "source": [
    "xs.shape"
   ]
  },
  {
   "cell_type": "code",
   "execution_count": 410,
   "metadata": {},
   "outputs": [
    {
     "data": {
      "text/plain": [
       "Array([[0.],\n",
       "       [0.]], dtype=float32)"
      ]
     },
     "execution_count": 410,
     "metadata": {},
     "output_type": "execute_result"
    }
   ],
   "source": [
    "ys[:2]"
   ]
  },
  {
   "cell_type": "code",
   "execution_count": 411,
   "metadata": {},
   "outputs": [],
   "source": [
    "iter_data = dataloader(datasetHL, 100)"
   ]
  },
  {
   "cell_type": "code",
   "execution_count": null,
   "metadata": {},
   "outputs": [],
   "source": []
  },
  {
   "cell_type": "code",
   "execution_count": 412,
   "metadata": {},
   "outputs": [
    {
     "name": "stdout",
     "output_type": "stream",
     "text": [
      "(100, 100) (100, 2)\n",
      "(100, 100) (100, 2)\n",
      "(100, 100) (100, 2)\n",
      "(100, 100) (100, 2)\n",
      "(100, 100) (100, 2)\n",
      "(100, 100) (100, 2)\n",
      "(100, 100) (100, 2)\n",
      "(100, 100) (100, 2)\n",
      "(100, 100) (100, 2)\n",
      "(100, 100) (100, 2)\n",
      "(100, 100) (100, 2)\n",
      "(100, 100) (100, 2)\n",
      "(100, 100) (100, 2)\n",
      "(100, 100) (100, 2)\n",
      "(100, 100) (100, 2)\n",
      "(100, 100) (100, 2)\n",
      "(100, 100) (100, 2)\n",
      "(100, 100) (100, 2)\n",
      "(100, 100) (100, 2)\n",
      "(100, 100) (100, 2)\n",
      "(100, 100) (100, 2)\n",
      "(100, 100) (100, 2)\n",
      "(100, 100) (100, 2)\n",
      "(100, 100) (100, 2)\n",
      "(100, 100) (100, 2)\n",
      "(100, 100) (100, 2)\n",
      "(100, 100) (100, 2)\n",
      "(100, 100) (100, 2)\n",
      "(100, 100) (100, 2)\n",
      "(100, 100) (100, 2)\n",
      "(100, 100) (100, 2)\n",
      "(100, 100) (100, 2)\n",
      "(100, 100) (100, 2)\n",
      "(100, 100) (100, 2)\n",
      "(100, 100) (100, 2)\n",
      "(100, 100) (100, 2)\n",
      "(100, 100) (100, 2)\n",
      "(100, 100) (100, 2)\n",
      "(100, 100) (100, 2)\n",
      "(100, 100) (100, 2)\n",
      "(100, 100) (100, 2)\n",
      "(100, 100) (100, 2)\n",
      "(100, 100) (100, 2)\n",
      "(100, 100) (100, 2)\n",
      "(100, 100) (100, 2)\n",
      "(100, 100) (100, 2)\n",
      "(100, 100) (100, 2)\n",
      "(100, 100) (100, 2)\n",
      "(100, 100) (100, 2)\n",
      "(100, 100) (100, 2)\n",
      "(100, 100) (100, 2)\n",
      "(100, 100) (100, 2)\n",
      "(100, 100) (100, 2)\n",
      "(100, 100) (100, 2)\n",
      "(100, 100) (100, 2)\n",
      "(100, 100) (100, 2)\n",
      "(100, 100) (100, 2)\n",
      "(100, 100) (100, 2)\n",
      "(100, 100) (100, 2)\n",
      "(100, 100) (100, 2)\n",
      "(100, 100) (100, 2)\n",
      "(100, 100) (100, 2)\n",
      "(100, 100) (100, 2)\n",
      "(100, 100) (100, 2)\n",
      "(100, 100) (100, 2)\n",
      "(100, 100) (100, 2)\n",
      "(100, 100) (100, 2)\n",
      "(100, 100) (100, 2)\n",
      "(100, 100) (100, 2)\n",
      "(100, 100) (100, 2)\n",
      "(100, 100) (100, 2)\n",
      "(100, 100) (100, 2)\n",
      "(100, 100) (100, 2)\n",
      "(100, 100) (100, 2)\n",
      "(100, 100) (100, 2)\n",
      "(100, 100) (100, 2)\n",
      "(100, 100) (100, 2)\n",
      "(100, 100) (100, 2)\n",
      "(100, 100) (100, 2)\n",
      "(100, 100) (100, 2)\n",
      "(100, 100) (100, 2)\n",
      "(100, 100) (100, 2)\n",
      "(100, 100) (100, 2)\n",
      "(100, 100) (100, 2)\n",
      "(100, 100) (100, 2)\n",
      "(100, 100) (100, 2)\n",
      "(100, 100) (100, 2)\n",
      "(100, 100) (100, 2)\n",
      "(100, 100) (100, 2)\n",
      "(100, 100) (100, 2)\n",
      "(100, 100) (100, 2)\n",
      "(100, 100) (100, 2)\n",
      "(100, 100) (100, 2)\n",
      "(100, 100) (100, 2)\n",
      "(100, 100) (100, 2)\n",
      "(100, 100) (100, 2)\n",
      "(100, 100) (100, 2)\n",
      "(100, 100) (100, 2)\n",
      "(100, 100) (100, 2)\n",
      "(100, 100) (100, 2)\n",
      "(100, 100) (100, 2)\n",
      "(100, 100) (100, 2)\n",
      "(100, 100) (100, 2)\n",
      "(100, 100) (100, 2)\n",
      "(100, 100) (100, 2)\n",
      "(100, 100) (100, 2)\n",
      "(100, 100) (100, 2)\n",
      "(100, 100) (100, 2)\n",
      "(100, 100) (100, 2)\n",
      "(100, 100) (100, 2)\n",
      "(100, 100) (100, 2)\n",
      "(100, 100) (100, 2)\n",
      "(100, 100) (100, 2)\n",
      "(100, 100) (100, 2)\n",
      "(100, 100) (100, 2)\n",
      "(100, 100) (100, 2)\n",
      "(100, 100) (100, 2)\n",
      "(100, 100) (100, 2)\n",
      "(100, 100) (100, 2)\n",
      "(100, 100) (100, 2)\n",
      "(100, 100) (100, 2)\n",
      "(100, 100) (100, 2)\n",
      "(100, 100) (100, 2)\n",
      "(100, 100) (100, 2)\n",
      "(100, 100) (100, 2)\n",
      "(100, 100) (100, 2)\n",
      "(100, 100) (100, 2)\n",
      "(100, 100) (100, 2)\n",
      "(100, 100) (100, 2)\n",
      "(100, 100) (100, 2)\n",
      "(100, 100) (100, 2)\n",
      "(100, 100) (100, 2)\n",
      "(100, 100) (100, 2)\n",
      "(100, 100) (100, 2)\n",
      "(100, 100) (100, 2)\n",
      "(100, 100) (100, 2)\n",
      "(100, 100) (100, 2)\n",
      "(100, 100) (100, 2)\n",
      "(100, 100) (100, 2)\n",
      "(100, 100) (100, 2)\n",
      "(100, 100) (100, 2)\n",
      "(100, 100) (100, 2)\n",
      "(100, 100) (100, 2)\n",
      "(100, 100) (100, 2)\n",
      "(100, 100) (100, 2)\n",
      "(100, 100) (100, 2)\n",
      "(100, 100) (100, 2)\n",
      "(100, 100) (100, 2)\n",
      "(100, 100) (100, 2)\n",
      "(100, 100) (100, 2)\n",
      "(100, 100) (100, 2)\n",
      "(100, 100) (100, 2)\n",
      "(100, 100) (100, 2)\n",
      "(100, 100) (100, 2)\n",
      "(100, 100) (100, 2)\n",
      "(100, 100) (100, 2)\n",
      "(100, 100) (100, 2)\n",
      "(100, 100) (100, 2)\n",
      "(100, 100) (100, 2)\n",
      "(100, 100) (100, 2)\n",
      "(100, 100) (100, 2)\n",
      "(100, 100) (100, 2)\n",
      "(100, 100) (100, 2)\n",
      "(100, 100) (100, 2)\n",
      "(100, 100) (100, 2)\n",
      "(100, 100) (100, 2)\n",
      "(100, 100) (100, 2)\n",
      "(100, 100) (100, 2)\n",
      "(100, 100) (100, 2)\n",
      "(100, 100) (100, 2)\n",
      "(100, 100) (100, 2)\n",
      "(100, 100) (100, 2)\n",
      "(100, 100) (100, 2)\n",
      "(100, 100) (100, 2)\n",
      "(100, 100) (100, 2)\n",
      "(100, 100) (100, 2)\n",
      "(100, 100) (100, 2)\n",
      "(100, 100) (100, 2)\n",
      "(100, 100) (100, 2)\n",
      "(100, 100) (100, 2)\n",
      "(100, 100) (100, 2)\n",
      "(100, 100) (100, 2)\n",
      "(100, 100) (100, 2)\n",
      "(100, 100) (100, 2)\n",
      "(100, 100) (100, 2)\n",
      "(100, 100) (100, 2)\n",
      "(100, 100) (100, 2)\n",
      "(100, 100) (100, 2)\n",
      "(100, 100) (100, 2)\n",
      "(100, 100) (100, 2)\n",
      "(100, 100) (100, 2)\n",
      "(100, 100) (100, 2)\n",
      "(100, 100) (100, 2)\n",
      "(100, 100) (100, 2)\n",
      "(100, 100) (100, 2)\n",
      "(100, 100) (100, 2)\n",
      "(100, 100) (100, 2)\n",
      "(100, 100) (100, 2)\n",
      "(100, 100) (100, 2)\n",
      "(100, 100) (100, 2)\n",
      "(100, 100) (100, 2)\n",
      "(100, 100) (100, 2)\n",
      "(100, 100) (100, 2)\n",
      "(100, 100) (100, 2)\n",
      "(100, 100) (100, 2)\n",
      "(100, 100) (100, 2)\n",
      "(100, 100) (100, 2)\n",
      "(100, 100) (100, 2)\n",
      "(100, 100) (100, 2)\n",
      "(100, 100) (100, 2)\n",
      "(100, 100) (100, 2)\n",
      "(100, 100) (100, 2)\n",
      "(100, 100) (100, 2)\n",
      "(100, 100) (100, 2)\n",
      "(100, 100) (100, 2)\n",
      "(100, 100) (100, 2)\n",
      "(100, 100) (100, 2)\n",
      "(100, 100) (100, 2)\n",
      "(100, 100) (100, 2)\n",
      "(100, 100) (100, 2)\n",
      "(100, 100) (100, 2)\n",
      "(100, 100) (100, 2)\n",
      "(100, 100) (100, 2)\n",
      "(100, 100) (100, 2)\n",
      "(100, 100) (100, 2)\n",
      "(100, 100) (100, 2)\n",
      "(100, 100) (100, 2)\n",
      "(100, 100) (100, 2)\n",
      "(100, 100) (100, 2)\n",
      "(100, 100) (100, 2)\n",
      "(100, 100) (100, 2)\n",
      "(100, 100) (100, 2)\n",
      "(100, 100) (100, 2)\n",
      "(100, 100) (100, 2)\n",
      "(100, 100) (100, 2)\n",
      "(100, 100) (100, 2)\n",
      "(100, 100) (100, 2)\n",
      "(100, 100) (100, 2)\n",
      "(100, 100) (100, 2)\n",
      "(100, 100) (100, 2)\n",
      "(100, 100) (100, 2)\n",
      "(100, 100) (100, 2)\n",
      "(100, 100) (100, 2)\n",
      "(100, 100) (100, 2)\n",
      "(100, 100) (100, 2)\n",
      "(100, 100) (100, 2)\n",
      "(100, 100) (100, 2)\n",
      "(100, 100) (100, 2)\n",
      "(100, 100) (100, 2)\n",
      "(100, 100) (100, 2)\n",
      "(100, 100) (100, 2)\n",
      "(100, 100) (100, 2)\n",
      "(100, 100) (100, 2)\n",
      "(100, 100) (100, 2)\n",
      "(100, 100) (100, 2)\n",
      "(100, 100) (100, 2)\n",
      "(100, 100) (100, 2)\n",
      "(100, 100) (100, 2)\n",
      "(100, 100) (100, 2)\n",
      "(100, 100) (100, 2)\n",
      "(100, 100) (100, 2)\n",
      "(100, 100) (100, 2)\n",
      "(100, 100) (100, 2)\n",
      "(100, 100) (100, 2)\n",
      "(100, 100) (100, 2)\n",
      "(100, 100) (100, 2)\n",
      "(100, 100) (100, 2)\n",
      "(100, 100) (100, 2)\n",
      "(100, 100) (100, 2)\n",
      "(100, 100) (100, 2)\n",
      "(100, 100) (100, 2)\n",
      "(100, 100) (100, 2)\n",
      "(100, 100) (100, 2)\n",
      "(100, 100) (100, 2)\n",
      "(100, 100) (100, 2)\n",
      "(100, 100) (100, 2)\n",
      "(100, 100) (100, 2)\n",
      "(100, 100) (100, 2)\n",
      "(100, 100) (100, 2)\n",
      "(100, 100) (100, 2)\n",
      "(100, 100) (100, 2)\n",
      "(100, 100) (100, 2)\n",
      "(100, 100) (100, 2)\n",
      "(100, 100) (100, 2)\n",
      "(100, 100) (100, 2)\n",
      "(100, 100) (100, 2)\n",
      "(100, 100) (100, 2)\n",
      "(100, 100) (100, 2)\n",
      "(100, 100) (100, 2)\n",
      "(100, 100) (100, 2)\n",
      "(100, 100) (100, 2)\n",
      "(100, 100) (100, 2)\n",
      "(100, 100) (100, 2)\n",
      "(100, 100) (100, 2)\n",
      "(100, 100) (100, 2)\n",
      "(100, 100) (100, 2)\n",
      "(100, 100) (100, 2)\n",
      "(100, 100) (100, 2)\n",
      "(100, 100) (100, 2)\n",
      "(100, 100) (100, 2)\n",
      "(100, 100) (100, 2)\n",
      "(100, 100) (100, 2)\n",
      "(100, 100) (100, 2)\n",
      "(100, 100) (100, 2)\n",
      "(100, 100) (100, 2)\n",
      "(100, 100) (100, 2)\n",
      "(100, 100) (100, 2)\n",
      "(100, 100) (100, 2)\n",
      "(100, 100) (100, 2)\n",
      "(100, 100) (100, 2)\n",
      "(100, 100) (100, 2)\n",
      "(100, 100) (100, 2)\n",
      "(100, 100) (100, 2)\n",
      "(100, 100) (100, 2)\n",
      "(100, 100) (100, 2)\n",
      "(100, 100) (100, 2)\n",
      "(100, 100) (100, 2)\n",
      "(100, 100) (100, 2)\n",
      "(100, 100) (100, 2)\n",
      "(100, 100) (100, 2)\n",
      "(100, 100) (100, 2)\n",
      "(100, 100) (100, 2)\n",
      "(100, 100) (100, 2)\n",
      "(100, 100) (100, 2)\n",
      "(100, 100) (100, 2)\n",
      "(100, 100) (100, 2)\n",
      "(100, 100) (100, 2)\n",
      "(100, 100) (100, 2)\n",
      "(100, 100) (100, 2)\n",
      "(100, 100) (100, 2)\n",
      "(100, 100) (100, 2)\n",
      "(100, 100) (100, 2)\n",
      "(100, 100) (100, 2)\n",
      "(100, 100) (100, 2)\n",
      "(100, 100) (100, 2)\n",
      "(100, 100) (100, 2)\n",
      "(100, 100) (100, 2)\n",
      "(100, 100) (100, 2)\n",
      "(100, 100) (100, 2)\n",
      "(100, 100) (100, 2)\n",
      "(100, 100) (100, 2)\n",
      "(100, 100) (100, 2)\n",
      "(100, 100) (100, 2)\n",
      "(100, 100) (100, 2)\n",
      "(100, 100) (100, 2)\n",
      "(100, 100) (100, 2)\n",
      "(100, 100) (100, 2)\n",
      "(100, 100) (100, 2)\n",
      "(100, 100) (100, 2)\n",
      "(100, 100) (100, 2)\n",
      "(100, 100) (100, 2)\n",
      "(100, 100) (100, 2)\n",
      "(100, 100) (100, 2)\n",
      "(100, 100) (100, 2)\n",
      "(100, 100) (100, 2)\n",
      "(100, 100) (100, 2)\n",
      "(100, 100) (100, 2)\n",
      "(100, 100) (100, 2)\n",
      "(100, 100) (100, 2)\n",
      "(100, 100) (100, 2)\n",
      "(100, 100) (100, 2)\n",
      "(100, 100) (100, 2)\n",
      "(100, 100) (100, 2)\n",
      "(100, 100) (100, 2)\n",
      "(100, 100) (100, 2)\n",
      "(100, 100) (100, 2)\n",
      "(100, 100) (100, 2)\n",
      "(100, 100) (100, 2)\n",
      "(100, 100) (100, 2)\n",
      "(100, 100) (100, 2)\n",
      "(100, 100) (100, 2)\n",
      "(100, 100) (100, 2)\n",
      "(100, 100) (100, 2)\n",
      "(100, 100) (100, 2)\n",
      "(100, 100) (100, 2)\n",
      "(100, 100) (100, 2)\n",
      "(100, 100) (100, 2)\n",
      "(100, 100) (100, 2)\n",
      "(100, 100) (100, 2)\n",
      "(100, 100) (100, 2)\n",
      "(100, 100) (100, 2)\n",
      "(100, 100) (100, 2)\n",
      "(100, 100) (100, 2)\n",
      "(100, 100) (100, 2)\n",
      "(100, 100) (100, 2)\n",
      "(100, 100) (100, 2)\n",
      "(100, 100) (100, 2)\n",
      "(100, 100) (100, 2)\n",
      "(100, 100) (100, 2)\n",
      "(100, 100) (100, 2)\n",
      "(100, 100) (100, 2)\n",
      "(100, 100) (100, 2)\n",
      "(100, 100) (100, 2)\n",
      "(100, 100) (100, 2)\n",
      "(100, 100) (100, 2)\n",
      "(100, 100) (100, 2)\n",
      "(100, 100) (100, 2)\n",
      "(100, 100) (100, 2)\n",
      "(100, 100) (100, 2)\n",
      "(100, 100) (100, 2)\n",
      "(100, 100) (100, 2)\n",
      "(100, 100) (100, 2)\n",
      "(100, 100) (100, 2)\n",
      "(100, 100) (100, 2)\n",
      "(100, 100) (100, 2)\n",
      "(100, 100) (100, 2)\n",
      "(100, 100) (100, 2)\n",
      "(100, 100) (100, 2)\n",
      "(100, 100) (100, 2)\n",
      "(100, 100) (100, 2)\n",
      "(100, 100) (100, 2)\n",
      "(100, 100) (100, 2)\n",
      "(100, 100) (100, 2)\n",
      "(100, 100) (100, 2)\n",
      "(100, 100) (100, 2)\n",
      "(100, 100) (100, 2)\n",
      "(100, 100) (100, 2)\n",
      "(100, 100) (100, 2)\n"
     ]
    },
    {
     "name": "stdout",
     "output_type": "stream",
     "text": [
      "(100, 100) (100, 2)\n",
      "(100, 100) (100, 2)\n",
      "(100, 100) (100, 2)\n",
      "(100, 100) (100, 2)\n",
      "(100, 100) (100, 2)\n",
      "(100, 100) (100, 2)\n",
      "(100, 100) (100, 2)\n",
      "(100, 100) (100, 2)\n",
      "(100, 100) (100, 2)\n",
      "(100, 100) (100, 2)\n",
      "(100, 100) (100, 2)\n",
      "(100, 100) (100, 2)\n",
      "(100, 100) (100, 2)\n",
      "(100, 100) (100, 2)\n",
      "(100, 100) (100, 2)\n",
      "(100, 100) (100, 2)\n",
      "(100, 100) (100, 2)\n",
      "(100, 100) (100, 2)\n",
      "(100, 100) (100, 2)\n",
      "(100, 100) (100, 2)\n",
      "(100, 100) (100, 2)\n",
      "(100, 100) (100, 2)\n",
      "(100, 100) (100, 2)\n",
      "(100, 100) (100, 2)\n",
      "(100, 100) (100, 2)\n",
      "(100, 100) (100, 2)\n",
      "(100, 100) (100, 2)\n",
      "(100, 100) (100, 2)\n",
      "(100, 100) (100, 2)\n",
      "(100, 100) (100, 2)\n",
      "(100, 100) (100, 2)\n",
      "(100, 100) (100, 2)\n",
      "(100, 100) (100, 2)\n",
      "(100, 100) (100, 2)\n",
      "(100, 100) (100, 2)\n",
      "(100, 100) (100, 2)\n",
      "(100, 100) (100, 2)\n",
      "(100, 100) (100, 2)\n",
      "(100, 100) (100, 2)\n",
      "(100, 100) (100, 2)\n",
      "(100, 100) (100, 2)\n",
      "(100, 100) (100, 2)\n",
      "(100, 100) (100, 2)\n",
      "(100, 100) (100, 2)\n",
      "(100, 100) (100, 2)\n",
      "(100, 100) (100, 2)\n",
      "(100, 100) (100, 2)\n",
      "(100, 100) (100, 2)\n",
      "(100, 100) (100, 2)\n",
      "(100, 100) (100, 2)\n",
      "(100, 100) (100, 2)\n",
      "(100, 100) (100, 2)\n",
      "(100, 100) (100, 2)\n",
      "(100, 100) (100, 2)\n",
      "(100, 100) (100, 2)\n",
      "(100, 100) (100, 2)\n",
      "(100, 100) (100, 2)\n",
      "(100, 100) (100, 2)\n",
      "(100, 100) (100, 2)\n",
      "(100, 100) (100, 2)\n",
      "(100, 100) (100, 2)\n",
      "(100, 100) (100, 2)\n",
      "(100, 100) (100, 2)\n",
      "(100, 100) (100, 2)\n",
      "(100, 100) (100, 2)\n",
      "(100, 100) (100, 2)\n",
      "(100, 100) (100, 2)\n",
      "(100, 100) (100, 2)\n",
      "(100, 100) (100, 2)\n",
      "(100, 100) (100, 2)\n",
      "(100, 100) (100, 2)\n",
      "(100, 100) (100, 2)\n",
      "(100, 100) (100, 2)\n",
      "(100, 100) (100, 2)\n",
      "(100, 100) (100, 2)\n",
      "(100, 100) (100, 2)\n",
      "(100, 100) (100, 2)\n",
      "(100, 100) (100, 2)\n",
      "(100, 100) (100, 2)\n",
      "(100, 100) (100, 2)\n",
      "(100, 100) (100, 2)\n",
      "(100, 100) (100, 2)\n",
      "(100, 100) (100, 2)\n",
      "(100, 100) (100, 2)\n",
      "(100, 100) (100, 2)\n",
      "(100, 100) (100, 2)\n",
      "(100, 100) (100, 2)\n",
      "(100, 100) (100, 2)\n",
      "(100, 100) (100, 2)\n",
      "(100, 100) (100, 2)\n",
      "(100, 100) (100, 2)\n",
      "(100, 100) (100, 2)\n",
      "(100, 100) (100, 2)\n",
      "(100, 100) (100, 2)\n",
      "(100, 100) (100, 2)\n",
      "(100, 100) (100, 2)\n",
      "(100, 100) (100, 2)\n",
      "(100, 100) (100, 2)\n",
      "(100, 100) (100, 2)\n",
      "(100, 100) (100, 2)\n",
      "(100, 100) (100, 2)\n",
      "(100, 100) (100, 2)\n",
      "(100, 100) (100, 2)\n",
      "(100, 100) (100, 2)\n",
      "(100, 100) (100, 2)\n",
      "(100, 100) (100, 2)\n",
      "(100, 100) (100, 2)\n",
      "(100, 100) (100, 2)\n",
      "(100, 100) (100, 2)\n",
      "(100, 100) (100, 2)\n",
      "(100, 100) (100, 2)\n",
      "(100, 100) (100, 2)\n",
      "(100, 100) (100, 2)\n",
      "(100, 100) (100, 2)\n",
      "(100, 100) (100, 2)\n",
      "(100, 100) (100, 2)\n",
      "(100, 100) (100, 2)\n",
      "(100, 100) (100, 2)\n",
      "(100, 100) (100, 2)\n",
      "(100, 100) (100, 2)\n",
      "(100, 100) (100, 2)\n",
      "(100, 100) (100, 2)\n",
      "(100, 100) (100, 2)\n",
      "(100, 100) (100, 2)\n",
      "(100, 100) (100, 2)\n",
      "(100, 100) (100, 2)\n",
      "(100, 100) (100, 2)\n",
      "(100, 100) (100, 2)\n",
      "(100, 100) (100, 2)\n",
      "(100, 100) (100, 2)\n",
      "(100, 100) (100, 2)\n",
      "(100, 100) (100, 2)\n",
      "(100, 100) (100, 2)\n",
      "(100, 100) (100, 2)\n",
      "(100, 100) (100, 2)\n",
      "(100, 100) (100, 2)\n",
      "(100, 100) (100, 2)\n",
      "(100, 100) (100, 2)\n",
      "(100, 100) (100, 2)\n",
      "(100, 100) (100, 2)\n",
      "(100, 100) (100, 2)\n",
      "(100, 100) (100, 2)\n",
      "(100, 100) (100, 2)\n",
      "(100, 100) (100, 2)\n",
      "(100, 100) (100, 2)\n",
      "(100, 100) (100, 2)\n",
      "(100, 100) (100, 2)\n",
      "(100, 100) (100, 2)\n",
      "(100, 100) (100, 2)\n",
      "(100, 100) (100, 2)\n",
      "(100, 100) (100, 2)\n",
      "(100, 100) (100, 2)\n",
      "(100, 100) (100, 2)\n",
      "(100, 100) (100, 2)\n",
      "(100, 100) (100, 2)\n",
      "(100, 100) (100, 2)\n",
      "(100, 100) (100, 2)\n",
      "(100, 100) (100, 2)\n",
      "(100, 100) (100, 2)\n",
      "(100, 100) (100, 2)\n",
      "(100, 100) (100, 2)\n",
      "(100, 100) (100, 2)\n",
      "(100, 100) (100, 2)\n",
      "(100, 100) (100, 2)\n",
      "(100, 100) (100, 2)\n",
      "(100, 100) (100, 2)\n",
      "(100, 100) (100, 2)\n",
      "(100, 100) (100, 2)\n",
      "(100, 100) (100, 2)\n",
      "(100, 100) (100, 2)\n",
      "(100, 100) (100, 2)\n",
      "(100, 100) (100, 2)\n",
      "(100, 100) (100, 2)\n",
      "(100, 100) (100, 2)\n",
      "(100, 100) (100, 2)\n",
      "(100, 100) (100, 2)\n",
      "(100, 100) (100, 2)\n",
      "(100, 100) (100, 2)\n",
      "(100, 100) (100, 2)\n",
      "(100, 100) (100, 2)\n",
      "(100, 100) (100, 2)\n",
      "(100, 100) (100, 2)\n",
      "(100, 100) (100, 2)\n",
      "(100, 100) (100, 2)\n",
      "(100, 100) (100, 2)\n",
      "(100, 100) (100, 2)\n",
      "(100, 100) (100, 2)\n",
      "(100, 100) (100, 2)\n",
      "(100, 100) (100, 2)\n",
      "(100, 100) (100, 2)\n",
      "(100, 100) (100, 2)\n",
      "(100, 100) (100, 2)\n",
      "(100, 100) (100, 2)\n",
      "(100, 100) (100, 2)\n",
      "(100, 100) (100, 2)\n",
      "(100, 100) (100, 2)\n",
      "(100, 100) (100, 2)\n",
      "(100, 100) (100, 2)\n",
      "(100, 100) (100, 2)\n",
      "(100, 100) (100, 2)\n",
      "(100, 100) (100, 2)\n",
      "(100, 100) (100, 2)\n",
      "(100, 100) (100, 2)\n",
      "(100, 100) (100, 2)\n",
      "(100, 100) (100, 2)\n",
      "(100, 100) (100, 2)\n",
      "(100, 100) (100, 2)\n",
      "(100, 100) (100, 2)\n",
      "(100, 100) (100, 2)\n",
      "(100, 100) (100, 2)\n",
      "(100, 100) (100, 2)\n",
      "(100, 100) (100, 2)\n",
      "(100, 100) (100, 2)\n",
      "(100, 100) (100, 2)\n",
      "(100, 100) (100, 2)\n",
      "(100, 100) (100, 2)\n",
      "(100, 100) (100, 2)\n",
      "(100, 100) (100, 2)\n",
      "(100, 100) (100, 2)\n",
      "(100, 100) (100, 2)\n",
      "(100, 100) (100, 2)\n",
      "(100, 100) (100, 2)\n",
      "(100, 100) (100, 2)\n",
      "(100, 100) (100, 2)\n",
      "(100, 100) (100, 2)\n",
      "(100, 100) (100, 2)\n",
      "(100, 100) (100, 2)\n",
      "(100, 100) (100, 2)\n",
      "(100, 100) (100, 2)\n",
      "(100, 100) (100, 2)\n",
      "(100, 100) (100, 2)\n",
      "(100, 100) (100, 2)\n",
      "(100, 100) (100, 2)\n",
      "(100, 100) (100, 2)\n",
      "(100, 100) (100, 2)\n",
      "(100, 100) (100, 2)\n",
      "(100, 100) (100, 2)\n",
      "(100, 100) (100, 2)\n",
      "(100, 100) (100, 2)\n",
      "(100, 100) (100, 2)\n",
      "(100, 100) (100, 2)\n",
      "(100, 100) (100, 2)\n",
      "(100, 100) (100, 2)\n",
      "(100, 100) (100, 2)\n",
      "(100, 100) (100, 2)\n",
      "(100, 100) (100, 2)\n",
      "(100, 100) (100, 2)\n",
      "(100, 100) (100, 2)\n",
      "(100, 100) (100, 2)\n",
      "(100, 100) (100, 2)\n",
      "(100, 100) (100, 2)\n",
      "(100, 100) (100, 2)\n",
      "(100, 100) (100, 2)\n",
      "(100, 100) (100, 2)\n",
      "(100, 100) (100, 2)\n",
      "(100, 100) (100, 2)\n",
      "(100, 100) (100, 2)\n",
      "(100, 100) (100, 2)\n",
      "(100, 100) (100, 2)\n",
      "(100, 100) (100, 2)\n",
      "(100, 100) (100, 2)\n",
      "(100, 100) (100, 2)\n",
      "(100, 100) (100, 2)\n",
      "(100, 100) (100, 2)\n",
      "(100, 100) (100, 2)\n",
      "(100, 100) (100, 2)\n",
      "(100, 100) (100, 2)\n",
      "(100, 100) (100, 2)\n",
      "(100, 100) (100, 2)\n",
      "(100, 100) (100, 2)\n",
      "(100, 100) (100, 2)\n",
      "(100, 100) (100, 2)\n",
      "(100, 100) (100, 2)\n",
      "(100, 100) (100, 2)\n",
      "(100, 100) (100, 2)\n",
      "(100, 100) (100, 2)\n",
      "(100, 100) (100, 2)\n",
      "(100, 100) (100, 2)\n",
      "(100, 100) (100, 2)\n",
      "(100, 100) (100, 2)\n",
      "(100, 100) (100, 2)\n",
      "(100, 100) (100, 2)\n",
      "(100, 100) (100, 2)\n",
      "(100, 100) (100, 2)\n",
      "(100, 100) (100, 2)\n",
      "(100, 100) (100, 2)\n",
      "(100, 100) (100, 2)\n",
      "(100, 100) (100, 2)\n",
      "(100, 100) (100, 2)\n",
      "(100, 100) (100, 2)\n",
      "(100, 100) (100, 2)\n",
      "(100, 100) (100, 2)\n",
      "(100, 100) (100, 2)\n",
      "(100, 100) (100, 2)\n",
      "(100, 100) (100, 2)\n",
      "(100, 100) (100, 2)\n",
      "(100, 100) (100, 2)\n",
      "(100, 100) (100, 2)\n",
      "(100, 100) (100, 2)\n",
      "(100, 100) (100, 2)\n",
      "(100, 100) (100, 2)\n",
      "(100, 100) (100, 2)\n",
      "(100, 100) (100, 2)\n",
      "(100, 100) (100, 2)\n",
      "(100, 100) (100, 2)\n",
      "(100, 100) (100, 2)\n",
      "(100, 100) (100, 2)\n",
      "(100, 100) (100, 2)\n",
      "(100, 100) (100, 2)\n",
      "(100, 100) (100, 2)\n",
      "(100, 100) (100, 2)\n",
      "(100, 100) (100, 2)\n",
      "(100, 100) (100, 2)\n",
      "(100, 100) (100, 2)\n",
      "(100, 100) (100, 2)\n",
      "(100, 100) (100, 2)\n",
      "(100, 100) (100, 2)\n",
      "(100, 100) (100, 2)\n",
      "(100, 100) (100, 2)\n",
      "(100, 100) (100, 2)\n",
      "(100, 100) (100, 2)\n",
      "(100, 100) (100, 2)\n",
      "(100, 100) (100, 2)\n",
      "(100, 100) (100, 2)\n",
      "(100, 100) (100, 2)\n",
      "(100, 100) (100, 2)\n",
      "(100, 100) (100, 2)\n",
      "(100, 100) (100, 2)\n",
      "(100, 100) (100, 2)\n",
      "(100, 100) (100, 2)\n",
      "(100, 100) (100, 2)\n",
      "(100, 100) (100, 2)\n",
      "(100, 100) (100, 2)\n",
      "(100, 100) (100, 2)\n",
      "(100, 100) (100, 2)\n",
      "(100, 100) (100, 2)\n",
      "(100, 100) (100, 2)\n",
      "(100, 100) (100, 2)\n",
      "(100, 100) (100, 2)\n",
      "(100, 100) (100, 2)\n",
      "(100, 100) (100, 2)\n",
      "(100, 100) (100, 2)\n",
      "(100, 100) (100, 2)\n",
      "(100, 100) (100, 2)\n",
      "(100, 100) (100, 2)\n",
      "(100, 100) (100, 2)\n",
      "(100, 100) (100, 2)\n",
      "(100, 100) (100, 2)\n",
      "(100, 100) (100, 2)\n",
      "(100, 100) (100, 2)\n",
      "(100, 100) (100, 2)\n",
      "(100, 100) (100, 2)\n",
      "(100, 100) (100, 2)\n",
      "(100, 100) (100, 2)\n",
      "(100, 100) (100, 2)\n",
      "(100, 100) (100, 2)\n",
      "(100, 100) (100, 2)\n",
      "(100, 100) (100, 2)\n",
      "(100, 100) (100, 2)\n",
      "(100, 100) (100, 2)\n",
      "(100, 100) (100, 2)\n",
      "(100, 100) (100, 2)\n",
      "(100, 100) (100, 2)\n",
      "(100, 100) (100, 2)\n",
      "(100, 100) (100, 2)\n",
      "(100, 100) (100, 2)\n",
      "(100, 100) (100, 2)\n",
      "(100, 100) (100, 2)\n",
      "(100, 100) (100, 2)\n",
      "(100, 100) (100, 2)\n",
      "(100, 100) (100, 2)\n",
      "(100, 100) (100, 2)\n",
      "(100, 100) (100, 2)\n",
      "(100, 100) (100, 2)\n",
      "(100, 100) (100, 2)\n",
      "(100, 100) (100, 2)\n",
      "(100, 100) (100, 2)\n",
      "(100, 100) (100, 2)\n",
      "(100, 100) (100, 2)\n",
      "(100, 100) (100, 2)\n",
      "(100, 100) (100, 2)\n",
      "(100, 100) (100, 2)\n",
      "(100, 100) (100, 2)\n",
      "(100, 100) (100, 2)\n",
      "(100, 100) (100, 2)\n",
      "(100, 100) (100, 2)\n",
      "(100, 100) (100, 2)\n",
      "(100, 100) (100, 2)\n",
      "(100, 100) (100, 2)\n",
      "(100, 100) (100, 2)\n",
      "(100, 100) (100, 2)\n",
      "(100, 100) (100, 2)\n",
      "(100, 100) (100, 2)\n",
      "(100, 100) (100, 2)\n",
      "(100, 100) (100, 2)\n",
      "(100, 100) (100, 2)\n",
      "(100, 100) (100, 2)\n",
      "(100, 100) (100, 2)\n",
      "(100, 100) (100, 2)\n",
      "(100, 100) (100, 2)\n",
      "(100, 100) (100, 2)\n",
      "(100, 100) (100, 2)\n",
      "(100, 100) (100, 2)\n",
      "(100, 100) (100, 2)\n",
      "(100, 100) (100, 2)\n",
      "(100, 100) (100, 2)\n",
      "(100, 100) (100, 2)\n",
      "(100, 100) (100, 2)\n",
      "(100, 100) (100, 2)\n",
      "(100, 100) (100, 2)\n",
      "(100, 100) (100, 2)\n",
      "(100, 100) (100, 2)\n",
      "(100, 100) (100, 2)\n",
      "(100, 100) (100, 2)\n",
      "(100, 100) (100, 2)\n",
      "(100, 100) (100, 2)\n",
      "(100, 100) (100, 2)\n",
      "(100, 100) (100, 2)\n",
      "(100, 100) (100, 2)\n",
      "(100, 100) (100, 2)\n"
     ]
    },
    {
     "name": "stdout",
     "output_type": "stream",
     "text": [
      "(100, 100) (100, 2)\n",
      "(100, 100) (100, 2)\n",
      "(100, 100) (100, 2)\n",
      "(100, 100) (100, 2)\n",
      "(100, 100) (100, 2)\n",
      "(100, 100) (100, 2)\n",
      "(100, 100) (100, 2)\n",
      "(100, 100) (100, 2)\n",
      "(100, 100) (100, 2)\n",
      "(100, 100) (100, 2)\n",
      "(100, 100) (100, 2)\n",
      "(100, 100) (100, 2)\n",
      "(100, 100) (100, 2)\n",
      "(100, 100) (100, 2)\n",
      "(100, 100) (100, 2)\n",
      "(100, 100) (100, 2)\n",
      "(100, 100) (100, 2)\n",
      "(100, 100) (100, 2)\n",
      "(100, 100) (100, 2)\n",
      "(100, 100) (100, 2)\n",
      "(100, 100) (100, 2)\n",
      "(100, 100) (100, 2)\n",
      "(100, 100) (100, 2)\n",
      "(100, 100) (100, 2)\n",
      "(100, 100) (100, 2)\n",
      "(100, 100) (100, 2)\n",
      "(100, 100) (100, 2)\n",
      "(100, 100) (100, 2)\n",
      "(100, 100) (100, 2)\n",
      "(100, 100) (100, 2)\n",
      "(100, 100) (100, 2)\n",
      "(100, 100) (100, 2)\n",
      "(100, 100) (100, 2)\n",
      "(100, 100) (100, 2)\n",
      "(100, 100) (100, 2)\n",
      "(100, 100) (100, 2)\n",
      "(100, 100) (100, 2)\n",
      "(100, 100) (100, 2)\n",
      "(100, 100) (100, 2)\n",
      "(100, 100) (100, 2)\n",
      "(100, 100) (100, 2)\n",
      "(100, 100) (100, 2)\n",
      "(100, 100) (100, 2)\n",
      "(100, 100) (100, 2)\n",
      "(100, 100) (100, 2)\n",
      "(100, 100) (100, 2)\n",
      "(100, 100) (100, 2)\n",
      "(100, 100) (100, 2)\n",
      "(100, 100) (100, 2)\n",
      "(100, 100) (100, 2)\n",
      "(100, 100) (100, 2)\n",
      "(100, 100) (100, 2)\n",
      "(100, 100) (100, 2)\n",
      "(100, 100) (100, 2)\n",
      "(100, 100) (100, 2)\n",
      "(100, 100) (100, 2)\n",
      "(100, 100) (100, 2)\n",
      "(100, 100) (100, 2)\n",
      "(100, 100) (100, 2)\n",
      "(100, 100) (100, 2)\n",
      "(100, 100) (100, 2)\n",
      "(100, 100) (100, 2)\n",
      "(100, 100) (100, 2)\n",
      "(100, 100) (100, 2)\n",
      "(100, 100) (100, 2)\n",
      "(100, 100) (100, 2)\n",
      "(100, 100) (100, 2)\n",
      "(100, 100) (100, 2)\n",
      "(100, 100) (100, 2)\n",
      "(100, 100) (100, 2)\n",
      "(100, 100) (100, 2)\n",
      "(100, 100) (100, 2)\n",
      "(100, 100) (100, 2)\n",
      "(100, 100) (100, 2)\n",
      "(100, 100) (100, 2)\n",
      "(100, 100) (100, 2)\n",
      "(100, 100) (100, 2)\n",
      "(100, 100) (100, 2)\n",
      "(100, 100) (100, 2)\n",
      "(100, 100) (100, 2)\n",
      "(100, 100) (100, 2)\n",
      "(100, 100) (100, 2)\n",
      "(100, 100) (100, 2)\n",
      "(100, 100) (100, 2)\n",
      "(100, 100) (100, 2)\n",
      "(100, 100) (100, 2)\n",
      "(100, 100) (100, 2)\n",
      "(100, 100) (100, 2)\n",
      "(100, 100) (100, 2)\n",
      "(100, 100) (100, 2)\n",
      "(100, 100) (100, 2)\n",
      "(100, 100) (100, 2)\n",
      "(100, 100) (100, 2)\n",
      "(100, 100) (100, 2)\n",
      "(100, 100) (100, 2)\n",
      "(100, 100) (100, 2)\n",
      "(100, 100) (100, 2)\n",
      "(100, 100) (100, 2)\n",
      "(100, 100) (100, 2)\n",
      "(100, 100) (100, 2)\n",
      "(100, 100) (100, 2)\n",
      "(100, 100) (100, 2)\n",
      "(100, 100) (100, 2)\n",
      "(100, 100) (100, 2)\n",
      "(100, 100) (100, 2)\n",
      "(100, 100) (100, 2)\n",
      "(100, 100) (100, 2)\n",
      "(100, 100) (100, 2)\n",
      "(100, 100) (100, 2)\n",
      "(100, 100) (100, 2)\n",
      "(100, 100) (100, 2)\n",
      "(100, 100) (100, 2)\n",
      "(100, 100) (100, 2)\n",
      "(100, 100) (100, 2)\n",
      "(100, 100) (100, 2)\n",
      "(100, 100) (100, 2)\n",
      "(100, 100) (100, 2)\n",
      "(100, 100) (100, 2)\n",
      "(100, 100) (100, 2)\n",
      "(100, 100) (100, 2)\n",
      "(100, 100) (100, 2)\n",
      "(100, 100) (100, 2)\n",
      "(100, 100) (100, 2)\n",
      "(100, 100) (100, 2)\n",
      "(100, 100) (100, 2)\n",
      "(100, 100) (100, 2)\n",
      "(100, 100) (100, 2)\n",
      "(100, 100) (100, 2)\n",
      "(100, 100) (100, 2)\n",
      "(100, 100) (100, 2)\n",
      "(100, 100) (100, 2)\n",
      "(100, 100) (100, 2)\n",
      "(100, 100) (100, 2)\n",
      "(100, 100) (100, 2)\n",
      "(100, 100) (100, 2)\n",
      "(100, 100) (100, 2)\n",
      "(100, 100) (100, 2)\n",
      "(100, 100) (100, 2)\n",
      "(100, 100) (100, 2)\n",
      "(100, 100) (100, 2)\n",
      "(100, 100) (100, 2)\n",
      "(100, 100) (100, 2)\n",
      "(100, 100) (100, 2)\n",
      "(100, 100) (100, 2)\n",
      "(100, 100) (100, 2)\n",
      "(100, 100) (100, 2)\n",
      "(100, 100) (100, 2)\n",
      "(100, 100) (100, 2)\n",
      "(100, 100) (100, 2)\n",
      "(100, 100) (100, 2)\n",
      "(100, 100) (100, 2)\n",
      "(100, 100) (100, 2)\n",
      "(100, 100) (100, 2)\n",
      "(100, 100) (100, 2)\n",
      "(100, 100) (100, 2)\n",
      "(100, 100) (100, 2)\n",
      "(100, 100) (100, 2)\n",
      "(100, 100) (100, 2)\n",
      "(100, 100) (100, 2)\n",
      "(100, 100) (100, 2)\n",
      "(100, 100) (100, 2)\n",
      "(100, 100) (100, 2)\n",
      "(100, 100) (100, 2)\n",
      "(100, 100) (100, 2)\n",
      "(100, 100) (100, 2)\n",
      "(100, 100) (100, 2)\n",
      "(100, 100) (100, 2)\n",
      "(100, 100) (100, 2)\n",
      "(100, 100) (100, 2)\n",
      "(100, 100) (100, 2)\n",
      "(100, 100) (100, 2)\n",
      "(100, 100) (100, 2)\n",
      "(100, 100) (100, 2)\n",
      "(100, 100) (100, 2)\n",
      "(100, 100) (100, 2)\n",
      "(100, 100) (100, 2)\n",
      "(100, 100) (100, 2)\n",
      "(100, 100) (100, 2)\n",
      "(100, 100) (100, 2)\n",
      "(100, 100) (100, 2)\n",
      "(100, 100) (100, 2)\n",
      "(100, 100) (100, 2)\n",
      "(100, 100) (100, 2)\n",
      "(100, 100) (100, 2)\n",
      "(100, 100) (100, 2)\n",
      "(100, 100) (100, 2)\n",
      "(100, 100) (100, 2)\n",
      "(100, 100) (100, 2)\n",
      "(100, 100) (100, 2)\n",
      "(100, 100) (100, 2)\n",
      "(100, 100) (100, 2)\n",
      "(100, 100) (100, 2)\n",
      "(100, 100) (100, 2)\n",
      "(100, 100) (100, 2)\n",
      "(100, 100) (100, 2)\n",
      "(100, 100) (100, 2)\n",
      "(100, 100) (100, 2)\n",
      "(100, 100) (100, 2)\n",
      "(100, 100) (100, 2)\n",
      "(100, 100) (100, 2)\n",
      "(100, 100) (100, 2)\n",
      "(100, 100) (100, 2)\n",
      "(100, 100) (100, 2)\n",
      "(100, 100) (100, 2)\n",
      "(100, 100) (100, 2)\n",
      "(100, 100) (100, 2)\n",
      "(100, 100) (100, 2)\n",
      "(100, 100) (100, 2)\n",
      "(100, 100) (100, 2)\n",
      "(100, 100) (100, 2)\n",
      "(100, 100) (100, 2)\n",
      "(100, 100) (100, 2)\n",
      "(100, 100) (100, 2)\n",
      "(100, 100) (100, 2)\n",
      "(100, 100) (100, 2)\n",
      "(100, 100) (100, 2)\n",
      "(100, 100) (100, 2)\n",
      "(100, 100) (100, 2)\n",
      "(100, 100) (100, 2)\n",
      "(100, 100) (100, 2)\n",
      "(100, 100) (100, 2)\n",
      "(100, 100) (100, 2)\n",
      "(100, 100) (100, 2)\n",
      "(100, 100) (100, 2)\n",
      "(100, 100) (100, 2)\n",
      "(100, 100) (100, 2)\n",
      "(100, 100) (100, 2)\n",
      "(100, 100) (100, 2)\n",
      "(100, 100) (100, 2)\n",
      "(100, 100) (100, 2)\n",
      "(100, 100) (100, 2)\n",
      "(100, 100) (100, 2)\n",
      "(100, 100) (100, 2)\n",
      "(100, 100) (100, 2)\n",
      "(100, 100) (100, 2)\n",
      "(100, 100) (100, 2)\n",
      "(100, 100) (100, 2)\n",
      "(100, 100) (100, 2)\n",
      "(100, 100) (100, 2)\n",
      "(100, 100) (100, 2)\n",
      "(100, 100) (100, 2)\n",
      "(100, 100) (100, 2)\n",
      "(100, 100) (100, 2)\n",
      "(100, 100) (100, 2)\n",
      "(100, 100) (100, 2)\n",
      "(100, 100) (100, 2)\n",
      "(100, 100) (100, 2)\n",
      "(100, 100) (100, 2)\n",
      "(100, 100) (100, 2)\n",
      "(100, 100) (100, 2)\n",
      "(100, 100) (100, 2)\n",
      "(100, 100) (100, 2)\n",
      "(100, 100) (100, 2)\n",
      "(100, 100) (100, 2)\n",
      "(100, 100) (100, 2)\n",
      "(100, 100) (100, 2)\n",
      "(100, 100) (100, 2)\n",
      "(100, 100) (100, 2)\n",
      "(100, 100) (100, 2)\n",
      "(100, 100) (100, 2)\n",
      "(100, 100) (100, 2)\n",
      "(100, 100) (100, 2)\n",
      "(100, 100) (100, 2)\n",
      "(100, 100) (100, 2)\n",
      "(100, 100) (100, 2)\n",
      "(100, 100) (100, 2)\n",
      "(100, 100) (100, 2)\n",
      "(100, 100) (100, 2)\n",
      "(100, 100) (100, 2)\n",
      "(100, 100) (100, 2)\n",
      "(100, 100) (100, 2)\n",
      "(100, 100) (100, 2)\n",
      "(100, 100) (100, 2)\n",
      "(100, 100) (100, 2)\n",
      "(100, 100) (100, 2)\n",
      "(100, 100) (100, 2)\n",
      "(100, 100) (100, 2)\n",
      "(100, 100) (100, 2)\n",
      "(100, 100) (100, 2)\n",
      "(100, 100) (100, 2)\n",
      "(100, 100) (100, 2)\n",
      "(100, 100) (100, 2)\n",
      "(100, 100) (100, 2)\n",
      "(100, 100) (100, 2)\n",
      "(100, 100) (100, 2)\n",
      "(100, 100) (100, 2)\n",
      "(100, 100) (100, 2)\n",
      "(100, 100) (100, 2)\n",
      "(100, 100) (100, 2)\n",
      "(100, 100) (100, 2)\n",
      "(100, 100) (100, 2)\n",
      "(100, 100) (100, 2)\n",
      "(100, 100) (100, 2)\n",
      "(100, 100) (100, 2)\n",
      "(100, 100) (100, 2)\n",
      "(100, 100) (100, 2)\n",
      "(100, 100) (100, 2)\n",
      "(100, 100) (100, 2)\n",
      "(100, 100) (100, 2)\n",
      "(100, 100) (100, 2)\n",
      "(100, 100) (100, 2)\n",
      "(100, 100) (100, 2)\n",
      "(100, 100) (100, 2)\n",
      "(100, 100) (100, 2)\n",
      "(100, 100) (100, 2)\n",
      "(100, 100) (100, 2)\n",
      "(100, 100) (100, 2)\n",
      "(100, 100) (100, 2)\n",
      "(100, 100) (100, 2)\n",
      "(100, 100) (100, 2)\n",
      "(100, 100) (100, 2)\n",
      "(100, 100) (100, 2)\n",
      "(100, 100) (100, 2)\n",
      "(100, 100) (100, 2)\n",
      "(100, 100) (100, 2)\n",
      "(100, 100) (100, 2)\n",
      "(100, 100) (100, 2)\n",
      "(100, 100) (100, 2)\n",
      "(100, 100) (100, 2)\n",
      "(100, 100) (100, 2)\n",
      "(100, 100) (100, 2)\n",
      "(100, 100) (100, 2)\n",
      "(100, 100) (100, 2)\n",
      "(100, 100) (100, 2)\n",
      "(100, 100) (100, 2)\n",
      "(100, 100) (100, 2)\n",
      "(100, 100) (100, 2)\n",
      "(100, 100) (100, 2)\n",
      "(100, 100) (100, 2)\n",
      "(100, 100) (100, 2)\n",
      "(100, 100) (100, 2)\n",
      "(100, 100) (100, 2)\n",
      "(100, 100) (100, 2)\n",
      "(100, 100) (100, 2)\n",
      "(100, 100) (100, 2)\n",
      "(100, 100) (100, 2)\n",
      "(100, 100) (100, 2)\n",
      "(100, 100) (100, 2)\n",
      "(100, 100) (100, 2)\n",
      "(100, 100) (100, 2)\n",
      "(100, 100) (100, 2)\n",
      "(100, 100) (100, 2)\n",
      "(100, 100) (100, 2)\n",
      "(100, 100) (100, 2)\n",
      "(100, 100) (100, 2)\n",
      "(100, 100) (100, 2)\n",
      "(100, 100) (100, 2)\n",
      "(100, 100) (100, 2)\n",
      "(100, 100) (100, 2)\n",
      "(100, 100) (100, 2)\n",
      "(100, 100) (100, 2)\n",
      "(100, 100) (100, 2)\n",
      "(100, 100) (100, 2)\n",
      "(100, 100) (100, 2)\n",
      "(100, 100) (100, 2)\n",
      "(100, 100) (100, 2)\n",
      "(100, 100) (100, 2)\n",
      "(100, 100) (100, 2)\n",
      "(100, 100) (100, 2)\n",
      "(100, 100) (100, 2)\n",
      "(100, 100) (100, 2)\n",
      "(100, 100) (100, 2)\n",
      "(100, 100) (100, 2)\n",
      "(100, 100) (100, 2)\n",
      "(100, 100) (100, 2)\n",
      "(100, 100) (100, 2)\n",
      "(100, 100) (100, 2)\n",
      "(100, 100) (100, 2)\n",
      "(100, 100) (100, 2)\n",
      "(100, 100) (100, 2)\n",
      "(100, 100) (100, 2)\n",
      "(100, 100) (100, 2)\n",
      "(100, 100) (100, 2)\n",
      "(100, 100) (100, 2)\n",
      "(100, 100) (100, 2)\n",
      "(100, 100) (100, 2)\n",
      "(100, 100) (100, 2)\n",
      "(100, 100) (100, 2)\n",
      "(100, 100) (100, 2)\n",
      "(100, 100) (100, 2)\n",
      "(100, 100) (100, 2)\n",
      "(100, 100) (100, 2)\n",
      "(100, 100) (100, 2)\n",
      "(100, 100) (100, 2)\n",
      "(100, 100) (100, 2)\n",
      "(100, 100) (100, 2)\n",
      "(100, 100) (100, 2)\n",
      "(100, 100) (100, 2)\n",
      "(100, 100) (100, 2)\n",
      "(100, 100) (100, 2)\n",
      "(100, 100) (100, 2)\n",
      "(100, 100) (100, 2)\n",
      "(100, 100) (100, 2)\n",
      "(100, 100) (100, 2)\n",
      "(100, 100) (100, 2)\n",
      "(100, 100) (100, 2)\n",
      "(100, 100) (100, 2)\n",
      "(100, 100) (100, 2)\n",
      "(100, 100) (100, 2)\n",
      "(100, 100) (100, 2)\n",
      "(100, 100) (100, 2)\n",
      "(100, 100) (100, 2)\n",
      "(100, 100) (100, 2)\n",
      "(100, 100) (100, 2)\n",
      "(100, 100) (100, 2)\n",
      "(100, 100) (100, 2)\n",
      "(100, 100) (100, 2)\n",
      "(100, 100) (100, 2)\n",
      "(100, 100) (100, 2)\n",
      "(100, 100) (100, 2)\n",
      "(100, 100) (100, 2)\n",
      "(100, 100) (100, 2)\n",
      "(100, 100) (100, 2)\n",
      "(100, 100) (100, 2)\n",
      "(100, 100) (100, 2)\n",
      "(100, 100) (100, 2)\n",
      "(100, 100) (100, 2)\n",
      "(100, 100) (100, 2)\n",
      "(100, 100) (100, 2)\n",
      "(100, 100) (100, 2)\n",
      "(100, 100) (100, 2)\n",
      "(100, 100) (100, 2)\n",
      "(100, 100) (100, 2)\n",
      "(100, 100) (100, 2)\n"
     ]
    },
    {
     "name": "stdout",
     "output_type": "stream",
     "text": [
      "(100, 100) (100, 2)\n",
      "(100, 100) (100, 2)\n",
      "(100, 100) (100, 2)\n",
      "(100, 100) (100, 2)\n",
      "(100, 100) (100, 2)\n",
      "(100, 100) (100, 2)\n",
      "(100, 100) (100, 2)\n",
      "(100, 100) (100, 2)\n",
      "(100, 100) (100, 2)\n",
      "(100, 100) (100, 2)\n",
      "(100, 100) (100, 2)\n",
      "(100, 100) (100, 2)\n",
      "(100, 100) (100, 2)\n",
      "(100, 100) (100, 2)\n",
      "(100, 100) (100, 2)\n",
      "(100, 100) (100, 2)\n",
      "(100, 100) (100, 2)\n",
      "(100, 100) (100, 2)\n",
      "(100, 100) (100, 2)\n",
      "(100, 100) (100, 2)\n",
      "(100, 100) (100, 2)\n",
      "(100, 100) (100, 2)\n",
      "(100, 100) (100, 2)\n",
      "(100, 100) (100, 2)\n",
      "(100, 100) (100, 2)\n",
      "(100, 100) (100, 2)\n",
      "(100, 100) (100, 2)\n",
      "(100, 100) (100, 2)\n",
      "(100, 100) (100, 2)\n",
      "(100, 100) (100, 2)\n",
      "(100, 100) (100, 2)\n",
      "(100, 100) (100, 2)\n",
      "(100, 100) (100, 2)\n",
      "(100, 100) (100, 2)\n",
      "(100, 100) (100, 2)\n",
      "(100, 100) (100, 2)\n",
      "(100, 100) (100, 2)\n",
      "(100, 100) (100, 2)\n",
      "(100, 100) (100, 2)\n",
      "(100, 100) (100, 2)\n",
      "(100, 100) (100, 2)\n",
      "(100, 100) (100, 2)\n",
      "(100, 100) (100, 2)\n",
      "(100, 100) (100, 2)\n",
      "(100, 100) (100, 2)\n",
      "(100, 100) (100, 2)\n",
      "(100, 100) (100, 2)\n",
      "(100, 100) (100, 2)\n",
      "(100, 100) (100, 2)\n",
      "(100, 100) (100, 2)\n",
      "(100, 100) (100, 2)\n",
      "(100, 100) (100, 2)\n",
      "(100, 100) (100, 2)\n",
      "(100, 100) (100, 2)\n",
      "(100, 100) (100, 2)\n",
      "(100, 100) (100, 2)\n",
      "(100, 100) (100, 2)\n",
      "(100, 100) (100, 2)\n",
      "(100, 100) (100, 2)\n",
      "(100, 100) (100, 2)\n",
      "(100, 100) (100, 2)\n",
      "(100, 100) (100, 2)\n",
      "(100, 100) (100, 2)\n",
      "(100, 100) (100, 2)\n",
      "(100, 100) (100, 2)\n",
      "(100, 100) (100, 2)\n",
      "(100, 100) (100, 2)\n",
      "(100, 100) (100, 2)\n",
      "(100, 100) (100, 2)\n",
      "(100, 100) (100, 2)\n",
      "(100, 100) (100, 2)\n",
      "(100, 100) (100, 2)\n",
      "(100, 100) (100, 2)\n",
      "(100, 100) (100, 2)\n",
      "(100, 100) (100, 2)\n",
      "(100, 100) (100, 2)\n",
      "(100, 100) (100, 2)\n",
      "(100, 100) (100, 2)\n",
      "(100, 100) (100, 2)\n",
      "(100, 100) (100, 2)\n",
      "(100, 100) (100, 2)\n",
      "(100, 100) (100, 2)\n",
      "(100, 100) (100, 2)\n",
      "(100, 100) (100, 2)\n",
      "(100, 100) (100, 2)\n",
      "(100, 100) (100, 2)\n",
      "(100, 100) (100, 2)\n",
      "(100, 100) (100, 2)\n",
      "(100, 100) (100, 2)\n",
      "(100, 100) (100, 2)\n",
      "(100, 100) (100, 2)\n",
      "(100, 100) (100, 2)\n",
      "(100, 100) (100, 2)\n",
      "(100, 100) (100, 2)\n",
      "(100, 100) (100, 2)\n",
      "(100, 100) (100, 2)\n",
      "(100, 100) (100, 2)\n",
      "(100, 100) (100, 2)\n",
      "(100, 100) (100, 2)\n",
      "(100, 100) (100, 2)\n",
      "(100, 100) (100, 2)\n",
      "(100, 100) (100, 2)\n",
      "(100, 100) (100, 2)\n",
      "(100, 100) (100, 2)\n",
      "(100, 100) (100, 2)\n",
      "(100, 100) (100, 2)\n",
      "(100, 100) (100, 2)\n",
      "(100, 100) (100, 2)\n",
      "(100, 100) (100, 2)\n",
      "(100, 100) (100, 2)\n",
      "(100, 100) (100, 2)\n",
      "(100, 100) (100, 2)\n",
      "(100, 100) (100, 2)\n",
      "(100, 100) (100, 2)\n",
      "(100, 100) (100, 2)\n",
      "(100, 100) (100, 2)\n",
      "(100, 100) (100, 2)\n",
      "(100, 100) (100, 2)\n",
      "(100, 100) (100, 2)\n",
      "(100, 100) (100, 2)\n",
      "(100, 100) (100, 2)\n",
      "(100, 100) (100, 2)\n",
      "(100, 100) (100, 2)\n",
      "(100, 100) (100, 2)\n",
      "(100, 100) (100, 2)\n",
      "(100, 100) (100, 2)\n",
      "(100, 100) (100, 2)\n",
      "(100, 100) (100, 2)\n",
      "(100, 100) (100, 2)\n",
      "(100, 100) (100, 2)\n",
      "(100, 100) (100, 2)\n",
      "(100, 100) (100, 2)\n",
      "(100, 100) (100, 2)\n",
      "(100, 100) (100, 2)\n",
      "(100, 100) (100, 2)\n",
      "(100, 100) (100, 2)\n",
      "(100, 100) (100, 2)\n",
      "(100, 100) (100, 2)\n",
      "(100, 100) (100, 2)\n",
      "(100, 100) (100, 2)\n",
      "(100, 100) (100, 2)\n",
      "(100, 100) (100, 2)\n",
      "(100, 100) (100, 2)\n",
      "(100, 100) (100, 2)\n",
      "(100, 100) (100, 2)\n",
      "(100, 100) (100, 2)\n",
      "(100, 100) (100, 2)\n",
      "(100, 100) (100, 2)\n",
      "(100, 100) (100, 2)\n",
      "(100, 100) (100, 2)\n",
      "(100, 100) (100, 2)\n",
      "(100, 100) (100, 2)\n",
      "(100, 100) (100, 2)\n",
      "(100, 100) (100, 2)\n",
      "(100, 100) (100, 2)\n",
      "(100, 100) (100, 2)\n",
      "(100, 100) (100, 2)\n",
      "(100, 100) (100, 2)\n",
      "(100, 100) (100, 2)\n",
      "(100, 100) (100, 2)\n",
      "(100, 100) (100, 2)\n",
      "(100, 100) (100, 2)\n",
      "(100, 100) (100, 2)\n",
      "(100, 100) (100, 2)\n",
      "(100, 100) (100, 2)\n",
      "(100, 100) (100, 2)\n",
      "(100, 100) (100, 2)\n",
      "(100, 100) (100, 2)\n",
      "(100, 100) (100, 2)\n",
      "(100, 100) (100, 2)\n",
      "(100, 100) (100, 2)\n",
      "(100, 100) (100, 2)\n",
      "(100, 100) (100, 2)\n",
      "(100, 100) (100, 2)\n",
      "(100, 100) (100, 2)\n",
      "(100, 100) (100, 2)\n",
      "(100, 100) (100, 2)\n",
      "(100, 100) (100, 2)\n",
      "(100, 100) (100, 2)\n",
      "(100, 100) (100, 2)\n",
      "(100, 100) (100, 2)\n",
      "(100, 100) (100, 2)\n",
      "(100, 100) (100, 2)\n",
      "(100, 100) (100, 2)\n",
      "(100, 100) (100, 2)\n",
      "(100, 100) (100, 2)\n",
      "(100, 100) (100, 2)\n",
      "(100, 100) (100, 2)\n",
      "(100, 100) (100, 2)\n",
      "(100, 100) (100, 2)\n",
      "(100, 100) (100, 2)\n",
      "(100, 100) (100, 2)\n",
      "(100, 100) (100, 2)\n",
      "(100, 100) (100, 2)\n",
      "(100, 100) (100, 2)\n",
      "(100, 100) (100, 2)\n",
      "(100, 100) (100, 2)\n",
      "(100, 100) (100, 2)\n",
      "(100, 100) (100, 2)\n",
      "(100, 100) (100, 2)\n",
      "(100, 100) (100, 2)\n",
      "(100, 100) (100, 2)\n",
      "(100, 100) (100, 2)\n",
      "(100, 100) (100, 2)\n",
      "(100, 100) (100, 2)\n",
      "(100, 100) (100, 2)\n",
      "(100, 100) (100, 2)\n",
      "(100, 100) (100, 2)\n",
      "(100, 100) (100, 2)\n",
      "(100, 100) (100, 2)\n",
      "(100, 100) (100, 2)\n",
      "(100, 100) (100, 2)\n",
      "(100, 100) (100, 2)\n",
      "(100, 100) (100, 2)\n",
      "(100, 100) (100, 2)\n",
      "(100, 100) (100, 2)\n",
      "(100, 100) (100, 2)\n",
      "(100, 100) (100, 2)\n",
      "(100, 100) (100, 2)\n",
      "(100, 100) (100, 2)\n",
      "(100, 100) (100, 2)\n",
      "(100, 100) (100, 2)\n",
      "(100, 100) (100, 2)\n",
      "(100, 100) (100, 2)\n",
      "(100, 100) (100, 2)\n",
      "(100, 100) (100, 2)\n",
      "(100, 100) (100, 2)\n",
      "(100, 100) (100, 2)\n",
      "(100, 100) (100, 2)\n",
      "(100, 100) (100, 2)\n",
      "(100, 100) (100, 2)\n",
      "(100, 100) (100, 2)\n",
      "(100, 100) (100, 2)\n",
      "(100, 100) (100, 2)\n",
      "(100, 100) (100, 2)\n",
      "(100, 100) (100, 2)\n",
      "(100, 100) (100, 2)\n",
      "(100, 100) (100, 2)\n",
      "(100, 100) (100, 2)\n",
      "(100, 100) (100, 2)\n",
      "(100, 100) (100, 2)\n",
      "(100, 100) (100, 2)\n",
      "(100, 100) (100, 2)\n",
      "(100, 100) (100, 2)\n",
      "(100, 100) (100, 2)\n",
      "(100, 100) (100, 2)\n",
      "(100, 100) (100, 2)\n",
      "(100, 100) (100, 2)\n",
      "(100, 100) (100, 2)\n",
      "(100, 100) (100, 2)\n",
      "(100, 100) (100, 2)\n",
      "(100, 100) (100, 2)\n",
      "(100, 100) (100, 2)\n",
      "(100, 100) (100, 2)\n",
      "(100, 100) (100, 2)\n",
      "(100, 100) (100, 2)\n",
      "(100, 100) (100, 2)\n",
      "(100, 100) (100, 2)\n",
      "(100, 100) (100, 2)\n",
      "(100, 100) (100, 2)\n",
      "(100, 100) (100, 2)\n",
      "(100, 100) (100, 2)\n",
      "(100, 100) (100, 2)\n",
      "(100, 100) (100, 2)\n",
      "(100, 100) (100, 2)\n",
      "(100, 100) (100, 2)\n",
      "(100, 100) (100, 2)\n",
      "(100, 100) (100, 2)\n",
      "(100, 100) (100, 2)\n",
      "(100, 100) (100, 2)\n",
      "(100, 100) (100, 2)\n",
      "(100, 100) (100, 2)\n",
      "(100, 100) (100, 2)\n",
      "(100, 100) (100, 2)\n",
      "(100, 100) (100, 2)\n",
      "(100, 100) (100, 2)\n",
      "(100, 100) (100, 2)\n",
      "(100, 100) (100, 2)\n",
      "(100, 100) (100, 2)\n",
      "(100, 100) (100, 2)\n",
      "(100, 100) (100, 2)\n",
      "(100, 100) (100, 2)\n",
      "(100, 100) (100, 2)\n",
      "(100, 100) (100, 2)\n",
      "(100, 100) (100, 2)\n",
      "(100, 100) (100, 2)\n",
      "(100, 100) (100, 2)\n",
      "(100, 100) (100, 2)\n",
      "(100, 100) (100, 2)\n",
      "(100, 100) (100, 2)\n",
      "(100, 100) (100, 2)\n",
      "(100, 100) (100, 2)\n",
      "(100, 100) (100, 2)\n",
      "(100, 100) (100, 2)\n",
      "(100, 100) (100, 2)\n",
      "(100, 100) (100, 2)\n",
      "(100, 100) (100, 2)\n",
      "(100, 100) (100, 2)\n",
      "(100, 100) (100, 2)\n",
      "(100, 100) (100, 2)\n",
      "(100, 100) (100, 2)\n",
      "(100, 100) (100, 2)\n",
      "(100, 100) (100, 2)\n",
      "(100, 100) (100, 2)\n",
      "(100, 100) (100, 2)\n",
      "(100, 100) (100, 2)\n",
      "(100, 100) (100, 2)\n",
      "(100, 100) (100, 2)\n",
      "(100, 100) (100, 2)\n",
      "(100, 100) (100, 2)\n",
      "(100, 100) (100, 2)\n",
      "(100, 100) (100, 2)\n",
      "(100, 100) (100, 2)\n",
      "(100, 100) (100, 2)\n",
      "(100, 100) (100, 2)\n",
      "(100, 100) (100, 2)\n",
      "(100, 100) (100, 2)\n",
      "(100, 100) (100, 2)\n",
      "(100, 100) (100, 2)\n",
      "(100, 100) (100, 2)\n",
      "(100, 100) (100, 2)\n",
      "(100, 100) (100, 2)\n",
      "(100, 100) (100, 2)\n",
      "(100, 100) (100, 2)\n",
      "(100, 100) (100, 2)\n",
      "(100, 100) (100, 2)\n",
      "(100, 100) (100, 2)\n",
      "(100, 100) (100, 2)\n",
      "(100, 100) (100, 2)\n",
      "(100, 100) (100, 2)\n",
      "(100, 100) (100, 2)\n",
      "(100, 100) (100, 2)\n",
      "(100, 100) (100, 2)\n",
      "(100, 100) (100, 2)\n",
      "(100, 100) (100, 2)\n",
      "(100, 100) (100, 2)\n",
      "(100, 100) (100, 2)\n",
      "(100, 100) (100, 2)\n",
      "(100, 100) (100, 2)\n",
      "(100, 100) (100, 2)\n",
      "(100, 100) (100, 2)\n",
      "(100, 100) (100, 2)\n",
      "(100, 100) (100, 2)\n",
      "(100, 100) (100, 2)\n",
      "(100, 100) (100, 2)\n",
      "(100, 100) (100, 2)\n",
      "(100, 100) (100, 2)\n",
      "(100, 100) (100, 2)\n",
      "(100, 100) (100, 2)\n",
      "(100, 100) (100, 2)\n",
      "(100, 100) (100, 2)\n",
      "(100, 100) (100, 2)\n",
      "(100, 100) (100, 2)\n",
      "(100, 100) (100, 2)\n",
      "(100, 100) (100, 2)\n",
      "(100, 100) (100, 2)\n",
      "(100, 100) (100, 2)\n",
      "(100, 100) (100, 2)\n",
      "(100, 100) (100, 2)\n",
      "(100, 100) (100, 2)\n",
      "(100, 100) (100, 2)\n",
      "(100, 100) (100, 2)\n",
      "(100, 100) (100, 2)\n",
      "(100, 100) (100, 2)\n",
      "(100, 100) (100, 2)\n",
      "(100, 100) (100, 2)\n",
      "(100, 100) (100, 2)\n",
      "(100, 100) (100, 2)\n",
      "(100, 100) (100, 2)\n",
      "(100, 100) (100, 2)\n",
      "(100, 100) (100, 2)\n",
      "(100, 100) (100, 2)\n",
      "(100, 100) (100, 2)\n",
      "(100, 100) (100, 2)\n",
      "(100, 100) (100, 2)\n",
      "(100, 100) (100, 2)\n",
      "(100, 100) (100, 2)\n",
      "(100, 100) (100, 2)\n",
      "(100, 100) (100, 2)\n",
      "(100, 100) (100, 2)\n",
      "(100, 100) (100, 2)\n",
      "(100, 100) (100, 2)\n",
      "(100, 100) (100, 2)\n",
      "(100, 100) (100, 2)\n",
      "(100, 100) (100, 2)\n",
      "(100, 100) (100, 2)\n",
      "(100, 100) (100, 2)\n",
      "(100, 100) (100, 2)\n",
      "(100, 100) (100, 2)\n",
      "(100, 100) (100, 2)\n",
      "(100, 100) (100, 2)\n",
      "(100, 100) (100, 2)\n",
      "(100, 100) (100, 2)\n",
      "(100, 100) (100, 2)\n",
      "(100, 100) (100, 2)\n",
      "(100, 100) (100, 2)\n",
      "(100, 100) (100, 2)\n",
      "(100, 100) (100, 2)\n",
      "(100, 100) (100, 2)\n",
      "(100, 100) (100, 2)\n",
      "(100, 100) (100, 2)\n",
      "(100, 100) (100, 2)\n",
      "(100, 100) (100, 2)\n",
      "(100, 100) (100, 2)\n",
      "(100, 100) (100, 2)\n",
      "(100, 100) (100, 2)\n",
      "(100, 100) (100, 2)\n",
      "(100, 100) (100, 2)\n",
      "(100, 100) (100, 2)\n",
      "(100, 100) (100, 2)\n"
     ]
    },
    {
     "name": "stdout",
     "output_type": "stream",
     "text": [
      "(100, 100) (100, 2)\n",
      "(100, 100) (100, 2)\n",
      "(100, 100) (100, 2)\n",
      "(100, 100) (100, 2)\n",
      "(100, 100) (100, 2)\n",
      "(100, 100) (100, 2)\n",
      "(100, 100) (100, 2)\n",
      "(100, 100) (100, 2)\n",
      "(100, 100) (100, 2)\n",
      "(100, 100) (100, 2)\n",
      "(100, 100) (100, 2)\n",
      "(100, 100) (100, 2)\n",
      "(100, 100) (100, 2)\n",
      "(100, 100) (100, 2)\n",
      "(100, 100) (100, 2)\n",
      "(100, 100) (100, 2)\n",
      "(100, 100) (100, 2)\n",
      "(100, 100) (100, 2)\n",
      "(100, 100) (100, 2)\n",
      "(100, 100) (100, 2)\n",
      "(100, 100) (100, 2)\n",
      "(100, 100) (100, 2)\n",
      "(100, 100) (100, 2)\n",
      "(100, 100) (100, 2)\n",
      "(100, 100) (100, 2)\n",
      "(100, 100) (100, 2)\n",
      "(100, 100) (100, 2)\n",
      "(100, 100) (100, 2)\n",
      "(100, 100) (100, 2)\n",
      "(100, 100) (100, 2)\n",
      "(100, 100) (100, 2)\n",
      "(100, 100) (100, 2)\n",
      "(100, 100) (100, 2)\n",
      "(100, 100) (100, 2)\n",
      "(100, 100) (100, 2)\n",
      "(100, 100) (100, 2)\n",
      "(100, 100) (100, 2)\n",
      "(100, 100) (100, 2)\n",
      "(100, 100) (100, 2)\n",
      "(100, 100) (100, 2)\n",
      "(100, 100) (100, 2)\n",
      "(100, 100) (100, 2)\n",
      "(100, 100) (100, 2)\n",
      "(100, 100) (100, 2)\n",
      "(100, 100) (100, 2)\n",
      "(100, 100) (100, 2)\n",
      "(100, 100) (100, 2)\n",
      "(100, 100) (100, 2)\n",
      "(100, 100) (100, 2)\n",
      "(100, 100) (100, 2)\n",
      "(100, 100) (100, 2)\n",
      "(100, 100) (100, 2)\n",
      "(100, 100) (100, 2)\n",
      "(100, 100) (100, 2)\n",
      "(100, 100) (100, 2)\n",
      "(100, 100) (100, 2)\n",
      "(100, 100) (100, 2)\n",
      "(100, 100) (100, 2)\n",
      "(100, 100) (100, 2)\n",
      "(100, 100) (100, 2)\n",
      "(100, 100) (100, 2)\n",
      "(100, 100) (100, 2)\n",
      "(100, 100) (100, 2)\n",
      "(100, 100) (100, 2)\n",
      "(100, 100) (100, 2)\n",
      "(100, 100) (100, 2)\n",
      "(100, 100) (100, 2)\n",
      "(100, 100) (100, 2)\n",
      "(100, 100) (100, 2)\n",
      "(100, 100) (100, 2)\n",
      "(100, 100) (100, 2)\n",
      "(100, 100) (100, 2)\n",
      "(100, 100) (100, 2)\n",
      "(100, 100) (100, 2)\n",
      "(100, 100) (100, 2)\n",
      "(100, 100) (100, 2)\n",
      "(100, 100) (100, 2)\n",
      "(100, 100) (100, 2)\n",
      "(100, 100) (100, 2)\n",
      "(100, 100) (100, 2)\n",
      "(100, 100) (100, 2)\n",
      "(100, 100) (100, 2)\n",
      "(100, 100) (100, 2)\n",
      "(100, 100) (100, 2)\n",
      "(100, 100) (100, 2)\n",
      "(100, 100) (100, 2)\n",
      "(100, 100) (100, 2)\n",
      "(100, 100) (100, 2)\n",
      "(100, 100) (100, 2)\n",
      "(100, 100) (100, 2)\n",
      "(100, 100) (100, 2)\n",
      "(100, 100) (100, 2)\n",
      "(100, 100) (100, 2)\n",
      "(100, 100) (100, 2)\n",
      "(100, 100) (100, 2)\n",
      "(100, 100) (100, 2)\n",
      "(100, 100) (100, 2)\n",
      "(100, 100) (100, 2)\n",
      "(100, 100) (100, 2)\n",
      "(100, 100) (100, 2)\n",
      "(100, 100) (100, 2)\n",
      "(100, 100) (100, 2)\n",
      "(100, 100) (100, 2)\n",
      "(100, 100) (100, 2)\n",
      "(100, 100) (100, 2)\n",
      "(100, 100) (100, 2)\n",
      "(100, 100) (100, 2)\n",
      "(100, 100) (100, 2)\n",
      "(100, 100) (100, 2)\n",
      "(100, 100) (100, 2)\n",
      "(100, 100) (100, 2)\n",
      "(100, 100) (100, 2)\n",
      "(100, 100) (100, 2)\n",
      "(100, 100) (100, 2)\n",
      "(100, 100) (100, 2)\n",
      "(100, 100) (100, 2)\n",
      "(100, 100) (100, 2)\n",
      "(100, 100) (100, 2)\n",
      "(100, 100) (100, 2)\n",
      "(100, 100) (100, 2)\n",
      "(100, 100) (100, 2)\n",
      "(100, 100) (100, 2)\n",
      "(100, 100) (100, 2)\n",
      "(100, 100) (100, 2)\n",
      "(100, 100) (100, 2)\n",
      "(100, 100) (100, 2)\n",
      "(100, 100) (100, 2)\n",
      "(100, 100) (100, 2)\n",
      "(100, 100) (100, 2)\n",
      "(100, 100) (100, 2)\n",
      "(100, 100) (100, 2)\n",
      "(100, 100) (100, 2)\n",
      "(100, 100) (100, 2)\n",
      "(100, 100) (100, 2)\n",
      "(100, 100) (100, 2)\n",
      "(100, 100) (100, 2)\n",
      "(100, 100) (100, 2)\n",
      "(100, 100) (100, 2)\n",
      "(100, 100) (100, 2)\n",
      "(100, 100) (100, 2)\n",
      "(100, 100) (100, 2)\n",
      "(100, 100) (100, 2)\n",
      "(100, 100) (100, 2)\n",
      "(100, 100) (100, 2)\n",
      "(100, 100) (100, 2)\n",
      "(100, 100) (100, 2)\n",
      "(100, 100) (100, 2)\n",
      "(100, 100) (100, 2)\n",
      "(100, 100) (100, 2)\n",
      "(100, 100) (100, 2)\n",
      "(100, 100) (100, 2)\n",
      "(100, 100) (100, 2)\n",
      "(100, 100) (100, 2)\n",
      "(100, 100) (100, 2)\n",
      "(100, 100) (100, 2)\n",
      "(100, 100) (100, 2)\n",
      "(100, 100) (100, 2)\n",
      "(100, 100) (100, 2)\n",
      "(100, 100) (100, 2)\n",
      "(100, 100) (100, 2)\n",
      "(100, 100) (100, 2)\n",
      "(100, 100) (100, 2)\n",
      "(100, 100) (100, 2)\n",
      "(100, 100) (100, 2)\n",
      "(100, 100) (100, 2)\n",
      "(100, 100) (100, 2)\n",
      "(100, 100) (100, 2)\n",
      "(100, 100) (100, 2)\n",
      "(100, 100) (100, 2)\n",
      "(100, 100) (100, 2)\n",
      "(100, 100) (100, 2)\n",
      "(100, 100) (100, 2)\n",
      "(100, 100) (100, 2)\n",
      "(100, 100) (100, 2)\n",
      "(100, 100) (100, 2)\n",
      "(100, 100) (100, 2)\n",
      "(100, 100) (100, 2)\n",
      "(100, 100) (100, 2)\n",
      "(100, 100) (100, 2)\n",
      "(100, 100) (100, 2)\n",
      "(100, 100) (100, 2)\n",
      "(100, 100) (100, 2)\n",
      "(100, 100) (100, 2)\n",
      "(100, 100) (100, 2)\n",
      "(100, 100) (100, 2)\n",
      "(100, 100) (100, 2)\n",
      "(100, 100) (100, 2)\n",
      "(100, 100) (100, 2)\n",
      "(100, 100) (100, 2)\n",
      "(100, 100) (100, 2)\n",
      "(100, 100) (100, 2)\n",
      "(100, 100) (100, 2)\n",
      "(100, 100) (100, 2)\n",
      "(100, 100) (100, 2)\n",
      "(100, 100) (100, 2)\n",
      "(100, 100) (100, 2)\n",
      "(100, 100) (100, 2)\n",
      "(100, 100) (100, 2)\n",
      "(100, 100) (100, 2)\n",
      "(100, 100) (100, 2)\n",
      "(100, 100) (100, 2)\n",
      "(100, 100) (100, 2)\n",
      "(100, 100) (100, 2)\n",
      "(100, 100) (100, 2)\n",
      "(100, 100) (100, 2)\n",
      "(100, 100) (100, 2)\n",
      "(100, 100) (100, 2)\n",
      "(100, 100) (100, 2)\n",
      "(100, 100) (100, 2)\n",
      "(100, 100) (100, 2)\n",
      "(100, 100) (100, 2)\n",
      "(100, 100) (100, 2)\n",
      "(100, 100) (100, 2)\n",
      "(100, 100) (100, 2)\n",
      "(100, 100) (100, 2)\n",
      "(100, 100) (100, 2)\n",
      "(100, 100) (100, 2)\n",
      "(100, 100) (100, 2)\n",
      "(100, 100) (100, 2)\n",
      "(100, 100) (100, 2)\n",
      "(100, 100) (100, 2)\n",
      "(100, 100) (100, 2)\n",
      "(100, 100) (100, 2)\n",
      "(100, 100) (100, 2)\n",
      "(100, 100) (100, 2)\n",
      "(100, 100) (100, 2)\n",
      "(100, 100) (100, 2)\n",
      "(100, 100) (100, 2)\n",
      "(100, 100) (100, 2)\n",
      "(100, 100) (100, 2)\n",
      "(100, 100) (100, 2)\n",
      "(100, 100) (100, 2)\n",
      "(100, 100) (100, 2)\n",
      "(100, 100) (100, 2)\n",
      "(100, 100) (100, 2)\n",
      "(100, 100) (100, 2)\n",
      "(100, 100) (100, 2)\n",
      "(100, 100) (100, 2)\n",
      "(100, 100) (100, 2)\n",
      "(100, 100) (100, 2)\n",
      "(100, 100) (100, 2)\n",
      "(100, 100) (100, 2)\n",
      "(100, 100) (100, 2)\n",
      "(100, 100) (100, 2)\n",
      "(100, 100) (100, 2)\n",
      "(100, 100) (100, 2)\n",
      "(100, 100) (100, 2)\n",
      "(100, 100) (100, 2)\n",
      "(100, 100) (100, 2)\n",
      "(100, 100) (100, 2)\n",
      "(100, 100) (100, 2)\n",
      "(100, 100) (100, 2)\n",
      "(100, 100) (100, 2)\n",
      "(100, 100) (100, 2)\n",
      "(100, 100) (100, 2)\n",
      "(100, 100) (100, 2)\n",
      "(100, 100) (100, 2)\n",
      "(100, 100) (100, 2)\n",
      "(100, 100) (100, 2)\n",
      "(100, 100) (100, 2)\n",
      "(100, 100) (100, 2)\n",
      "(100, 100) (100, 2)\n",
      "(100, 100) (100, 2)\n",
      "(100, 100) (100, 2)\n",
      "(100, 100) (100, 2)\n",
      "(100, 100) (100, 2)\n",
      "(100, 100) (100, 2)\n",
      "(100, 100) (100, 2)\n",
      "(100, 100) (100, 2)\n",
      "(100, 100) (100, 2)\n",
      "(100, 100) (100, 2)\n",
      "(100, 100) (100, 2)\n",
      "(100, 100) (100, 2)\n",
      "(100, 100) (100, 2)\n",
      "(100, 100) (100, 2)\n",
      "(100, 100) (100, 2)\n",
      "(100, 100) (100, 2)\n",
      "(100, 100) (100, 2)\n",
      "(100, 100) (100, 2)\n",
      "(100, 100) (100, 2)\n",
      "(100, 100) (100, 2)\n",
      "(100, 100) (100, 2)\n",
      "(100, 100) (100, 2)\n",
      "(100, 100) (100, 2)\n",
      "(100, 100) (100, 2)\n",
      "(100, 100) (100, 2)\n",
      "(100, 100) (100, 2)\n",
      "(100, 100) (100, 2)\n",
      "(100, 100) (100, 2)\n",
      "(100, 100) (100, 2)\n",
      "(100, 100) (100, 2)\n",
      "(100, 100) (100, 2)\n",
      "(100, 100) (100, 2)\n",
      "(100, 100) (100, 2)\n",
      "(100, 100) (100, 2)\n",
      "(100, 100) (100, 2)\n",
      "(100, 100) (100, 2)\n",
      "(100, 100) (100, 2)\n",
      "(100, 100) (100, 2)\n",
      "(100, 100) (100, 2)\n",
      "(100, 100) (100, 2)\n",
      "(100, 100) (100, 2)\n",
      "(100, 100) (100, 2)\n",
      "(100, 100) (100, 2)\n",
      "(100, 100) (100, 2)\n",
      "(100, 100) (100, 2)\n",
      "(100, 100) (100, 2)\n",
      "(100, 100) (100, 2)\n",
      "(100, 100) (100, 2)\n",
      "(100, 100) (100, 2)\n",
      "(100, 100) (100, 2)\n",
      "(100, 100) (100, 2)\n",
      "(100, 100) (100, 2)\n",
      "(100, 100) (100, 2)\n",
      "(100, 100) (100, 2)\n",
      "(100, 100) (100, 2)\n",
      "(100, 100) (100, 2)\n",
      "(100, 100) (100, 2)\n",
      "(100, 100) (100, 2)\n",
      "(100, 100) (100, 2)\n",
      "(100, 100) (100, 2)\n",
      "(100, 100) (100, 2)\n",
      "(100, 100) (100, 2)\n",
      "(100, 100) (100, 2)\n",
      "(100, 100) (100, 2)\n",
      "(100, 100) (100, 2)\n",
      "(100, 100) (100, 2)\n",
      "(100, 100) (100, 2)\n",
      "(100, 100) (100, 2)\n",
      "(100, 100) (100, 2)\n",
      "(100, 100) (100, 2)\n",
      "(100, 100) (100, 2)\n",
      "(100, 100) (100, 2)\n",
      "(100, 100) (100, 2)\n",
      "(100, 100) (100, 2)\n",
      "(100, 100) (100, 2)\n",
      "(100, 100) (100, 2)\n",
      "(100, 100) (100, 2)\n",
      "(100, 100) (100, 2)\n",
      "(100, 100) (100, 2)\n",
      "(100, 100) (100, 2)\n",
      "(100, 100) (100, 2)\n",
      "(100, 100) (100, 2)\n",
      "(100, 100) (100, 2)\n",
      "(100, 100) (100, 2)\n",
      "(100, 100) (100, 2)\n",
      "(100, 100) (100, 2)\n",
      "(100, 100) (100, 2)\n",
      "(100, 100) (100, 2)\n",
      "(100, 100) (100, 2)\n",
      "(100, 100) (100, 2)\n",
      "(100, 100) (100, 2)\n",
      "(100, 100) (100, 2)\n",
      "(100, 100) (100, 2)\n",
      "(100, 100) (100, 2)\n",
      "(100, 100) (100, 2)\n",
      "(100, 100) (100, 2)\n",
      "(100, 100) (100, 2)\n",
      "(100, 100) (100, 2)\n",
      "(100, 100) (100, 2)\n",
      "(100, 100) (100, 2)\n",
      "(100, 100) (100, 2)\n",
      "(100, 100) (100, 2)\n",
      "(100, 100) (100, 2)\n",
      "(100, 100) (100, 2)\n",
      "(100, 100) (100, 2)\n",
      "(100, 100) (100, 2)\n",
      "(100, 100) (100, 2)\n",
      "(100, 100) (100, 2)\n",
      "(100, 100) (100, 2)\n",
      "(100, 100) (100, 2)\n",
      "(100, 100) (100, 2)\n",
      "(100, 100) (100, 2)\n",
      "(100, 100) (100, 2)\n",
      "(100, 100) (100, 2)\n",
      "(100, 100) (100, 2)\n",
      "(100, 100) (100, 2)\n",
      "(100, 100) (100, 2)\n",
      "(100, 100) (100, 2)\n",
      "(100, 100) (100, 2)\n",
      "(100, 100) (100, 2)\n",
      "(100, 100) (100, 2)\n",
      "(100, 100) (100, 2)\n",
      "(100, 100) (100, 2)\n",
      "(100, 100) (100, 2)\n",
      "(100, 100) (100, 2)\n",
      "(100, 100) (100, 2)\n",
      "(100, 100) (100, 2)\n",
      "(100, 100) (100, 2)\n",
      "(100, 100) (100, 2)\n",
      "(100, 100) (100, 2)\n",
      "(100, 100) (100, 2)\n",
      "(100, 100) (100, 2)\n",
      "(100, 100) (100, 2)\n",
      "(100, 100) (100, 2)\n",
      "(100, 100) (100, 2)\n",
      "(100, 100) (100, 2)\n",
      "(100, 100) (100, 2)\n",
      "(100, 100) (100, 2)\n",
      "(100, 100) (100, 2)\n",
      "(100, 100) (100, 2)\n",
      "(100, 100) (100, 2)\n",
      "(100, 100) (100, 2)\n",
      "(100, 100) (100, 2)\n",
      "(100, 100) (100, 2)\n",
      "(100, 100) (100, 2)\n",
      "(100, 100) (100, 2)\n",
      "(100, 100) (100, 2)\n",
      "(100, 100) (100, 2)\n",
      "(100, 100) (100, 2)\n",
      "(100, 100) (100, 2)\n",
      "(100, 100) (100, 2)\n",
      "(100, 100) (100, 2)\n",
      "(100, 100) (100, 2)\n",
      "(100, 100) (100, 2)\n",
      "(100, 100) (100, 2)\n",
      "(100, 100) (100, 2)\n",
      "(100, 100) (100, 2)\n",
      "(100, 100) (100, 2)\n",
      "(100, 100) (100, 2)\n",
      "(100, 100) (100, 2)\n",
      "(100, 100) (100, 2)\n",
      "(100, 100) (100, 2)\n",
      "(100, 100) (100, 2)\n",
      "(100, 100) (100, 2)\n",
      "(100, 100) (100, 2)\n",
      "(100, 100) (100, 2)\n",
      "(100, 100) (100, 2)\n",
      "(100, 100) (100, 2)\n",
      "(100, 100) (100, 2)\n",
      "(100, 100) (100, 2)\n",
      "(100, 100) (100, 2)\n",
      "(100, 100) (100, 2)\n",
      "(100, 100) (100, 2)\n",
      "(100, 100) (100, 2)\n",
      "(100, 100) (100, 2)\n",
      "(100, 100) (100, 2)\n",
      "(100, 100) (100, 2)\n",
      "(100, 100) (100, 2)\n",
      "(100, 100) (100, 2)\n",
      "(100, 100) (100, 2)\n",
      "(100, 100) (100, 2)\n",
      "(100, 100) (100, 2)\n",
      "(100, 100) (100, 2)\n",
      "(100, 100) (100, 2)\n",
      "(100, 100) (100, 2)\n",
      "(100, 100) (100, 2)\n",
      "(100, 100) (100, 2)\n",
      "(100, 100) (100, 2)\n",
      "(100, 100) (100, 2)\n",
      "(100, 100) (100, 2)\n",
      "(100, 100) (100, 2)\n"
     ]
    },
    {
     "ename": "KeyboardInterrupt",
     "evalue": "",
     "output_type": "error",
     "traceback": [
      "\u001b[0;31m---------------------------------------------------------------------------\u001b[0m",
      "\u001b[0;31mKeyboardInterrupt\u001b[0m                         Traceback (most recent call last)",
      "Cell \u001b[0;32mIn[412], line 1\u001b[0m\n\u001b[0;32m----> 1\u001b[0m \u001b[38;5;28;01mfor\u001b[39;00m (x, y) \u001b[38;5;129;01min\u001b[39;00m iter_data:\n\u001b[1;32m      2\u001b[0m     \u001b[38;5;28mprint\u001b[39m(x\u001b[38;5;241m.\u001b[39mshape, y\u001b[38;5;241m.\u001b[39mshape)\n",
      "Cell \u001b[0;32mIn[404], line 12\u001b[0m, in \u001b[0;36mdataloader\u001b[0;34m(arrays, batch_size)\u001b[0m\n\u001b[1;32m     10\u001b[0m \u001b[38;5;28;01mwhile\u001b[39;00m end \u001b[38;5;241m<\u001b[39m\u001b[38;5;241m=\u001b[39m dataset_size:\n\u001b[1;32m     11\u001b[0m     batch_perm \u001b[38;5;241m=\u001b[39m perm[start:end]\n\u001b[0;32m---> 12\u001b[0m     \u001b[38;5;28;01myield\u001b[39;00m \u001b[38;5;28mtuple\u001b[39m(array[batch_perm] \u001b[38;5;28;01mfor\u001b[39;00m array \u001b[38;5;129;01min\u001b[39;00m arrays)\n\u001b[1;32m     13\u001b[0m     start \u001b[38;5;241m=\u001b[39m end\n\u001b[1;32m     14\u001b[0m     end \u001b[38;5;241m=\u001b[39m start \u001b[38;5;241m+\u001b[39m batch_size\n",
      "Cell \u001b[0;32mIn[404], line 12\u001b[0m, in \u001b[0;36m<genexpr>\u001b[0;34m(.0)\u001b[0m\n\u001b[1;32m     10\u001b[0m \u001b[38;5;28;01mwhile\u001b[39;00m end \u001b[38;5;241m<\u001b[39m\u001b[38;5;241m=\u001b[39m dataset_size:\n\u001b[1;32m     11\u001b[0m     batch_perm \u001b[38;5;241m=\u001b[39m perm[start:end]\n\u001b[0;32m---> 12\u001b[0m     \u001b[38;5;28;01myield\u001b[39;00m \u001b[38;5;28mtuple\u001b[39m(array[batch_perm] \u001b[38;5;28;01mfor\u001b[39;00m array \u001b[38;5;129;01min\u001b[39;00m arrays)\n\u001b[1;32m     13\u001b[0m     start \u001b[38;5;241m=\u001b[39m end\n\u001b[1;32m     14\u001b[0m     end \u001b[38;5;241m=\u001b[39m start \u001b[38;5;241m+\u001b[39m batch_size\n",
      "File \u001b[0;32m~/miniconda3/envs/options/lib/python3.11/site-packages/jax/_src/array.py:317\u001b[0m, in \u001b[0;36mArrayImpl.__getitem__\u001b[0;34m(self, idx)\u001b[0m\n\u001b[1;32m    315\u001b[0m   \u001b[38;5;28;01mreturn\u001b[39;00m lax_numpy\u001b[38;5;241m.\u001b[39m_rewriting_take(\u001b[38;5;28mself\u001b[39m, idx)\n\u001b[1;32m    316\u001b[0m \u001b[38;5;28;01melse\u001b[39;00m:\n\u001b[0;32m--> 317\u001b[0m   \u001b[38;5;28;01mreturn\u001b[39;00m lax_numpy\u001b[38;5;241m.\u001b[39m_rewriting_take(\u001b[38;5;28mself\u001b[39m, idx)\n",
      "File \u001b[0;32m~/miniconda3/envs/options/lib/python3.11/site-packages/jax/_src/numpy/lax_numpy.py:4143\u001b[0m, in \u001b[0;36m_rewriting_take\u001b[0;34m(arr, idx, indices_are_sorted, unique_indices, mode, fill_value)\u001b[0m\n\u001b[1;32m   4140\u001b[0m       \u001b[38;5;28;01mreturn\u001b[39;00m lax\u001b[38;5;241m.\u001b[39mdynamic_index_in_dim(arr, idx, keepdims\u001b[38;5;241m=\u001b[39m\u001b[38;5;28;01mFalse\u001b[39;00m)\n\u001b[1;32m   4142\u001b[0m treedef, static_idx, dynamic_idx \u001b[38;5;241m=\u001b[39m _split_index_for_jit(idx, arr\u001b[38;5;241m.\u001b[39mshape)\n\u001b[0;32m-> 4143\u001b[0m \u001b[38;5;28;01mreturn\u001b[39;00m _gather(arr, treedef, static_idx, dynamic_idx, indices_are_sorted,\n\u001b[1;32m   4144\u001b[0m                unique_indices, mode, fill_value)\n",
      "File \u001b[0;32m~/miniconda3/envs/options/lib/python3.11/site-packages/jax/_src/numpy/lax_numpy.py:4152\u001b[0m, in \u001b[0;36m_gather\u001b[0;34m(arr, treedef, static_idx, dynamic_idx, indices_are_sorted, unique_indices, mode, fill_value)\u001b[0m\n\u001b[1;32m   4149\u001b[0m \u001b[38;5;28;01mdef\u001b[39;00m \u001b[38;5;21m_gather\u001b[39m(arr, treedef, static_idx, dynamic_idx, indices_are_sorted,\n\u001b[1;32m   4150\u001b[0m             unique_indices, mode, fill_value):\n\u001b[1;32m   4151\u001b[0m   idx \u001b[38;5;241m=\u001b[39m _merge_static_and_dynamic_indices(treedef, static_idx, dynamic_idx)\n\u001b[0;32m-> 4152\u001b[0m   indexer \u001b[38;5;241m=\u001b[39m _index_to_gather(shape(arr), idx)  \u001b[38;5;66;03m# shared with _scatter_update\u001b[39;00m\n\u001b[1;32m   4153\u001b[0m   y \u001b[38;5;241m=\u001b[39m arr\n\u001b[1;32m   4155\u001b[0m   \u001b[38;5;28;01mif\u001b[39;00m fill_value \u001b[38;5;129;01mis\u001b[39;00m \u001b[38;5;129;01mnot\u001b[39;00m \u001b[38;5;28;01mNone\u001b[39;00m:\n",
      "File \u001b[0;32m~/miniconda3/envs/options/lib/python3.11/site-packages/jax/_src/numpy/lax_numpy.py:4327\u001b[0m, in \u001b[0;36m_index_to_gather\u001b[0;34m(x_shape, idx, normalize_indices)\u001b[0m\n\u001b[1;32m   4324\u001b[0m ndim \u001b[38;5;241m=\u001b[39m \u001b[38;5;28mlen\u001b[39m(shape)\n\u001b[1;32m   4326\u001b[0m start_dim \u001b[38;5;241m=\u001b[39m \u001b[38;5;28mlen\u001b[39m(gather_indices_shape)\n\u001b[0;32m-> 4327\u001b[0m gather_indices \u001b[38;5;241m+\u001b[39m\u001b[38;5;241m=\u001b[39m ((lax\u001b[38;5;241m.\u001b[39mconvert_element_type(a, index_dtype), start_dim)\n\u001b[1;32m   4328\u001b[0m                    \u001b[38;5;28;01mfor\u001b[39;00m a \u001b[38;5;129;01min\u001b[39;00m advanced_indexes)\n\u001b[1;32m   4329\u001b[0m gather_indices_shape \u001b[38;5;241m+\u001b[39m\u001b[38;5;241m=\u001b[39m shape\n\u001b[1;32m   4331\u001b[0m start_index_map\u001b[38;5;241m.\u001b[39mextend(x_advanced_axes)\n",
      "File \u001b[0;32m~/miniconda3/envs/options/lib/python3.11/site-packages/jax/_src/numpy/lax_numpy.py:4327\u001b[0m, in \u001b[0;36m<genexpr>\u001b[0;34m(.0)\u001b[0m\n\u001b[1;32m   4324\u001b[0m ndim \u001b[38;5;241m=\u001b[39m \u001b[38;5;28mlen\u001b[39m(shape)\n\u001b[1;32m   4326\u001b[0m start_dim \u001b[38;5;241m=\u001b[39m \u001b[38;5;28mlen\u001b[39m(gather_indices_shape)\n\u001b[0;32m-> 4327\u001b[0m gather_indices \u001b[38;5;241m+\u001b[39m\u001b[38;5;241m=\u001b[39m ((lax\u001b[38;5;241m.\u001b[39mconvert_element_type(a, index_dtype), start_dim)\n\u001b[1;32m   4328\u001b[0m                    \u001b[38;5;28;01mfor\u001b[39;00m a \u001b[38;5;129;01min\u001b[39;00m advanced_indexes)\n\u001b[1;32m   4329\u001b[0m gather_indices_shape \u001b[38;5;241m+\u001b[39m\u001b[38;5;241m=\u001b[39m shape\n\u001b[1;32m   4331\u001b[0m start_index_map\u001b[38;5;241m.\u001b[39mextend(x_advanced_axes)\n",
      "File \u001b[0;32m~/miniconda3/envs/options/lib/python3.11/site-packages/jax/_src/lax/lax.py:510\u001b[0m, in \u001b[0;36mconvert_element_type\u001b[0;34m(operand, new_dtype)\u001b[0m\n\u001b[1;32m    495\u001b[0m \u001b[38;5;28;01mdef\u001b[39;00m \u001b[38;5;21mconvert_element_type\u001b[39m(operand: ArrayLike, new_dtype: DTypeLike) \u001b[38;5;241m-\u001b[39m\u001b[38;5;241m>\u001b[39m Array:\n\u001b[1;32m    496\u001b[0m   \u001b[38;5;124;03m\"\"\"Elementwise cast.\u001b[39;00m\n\u001b[1;32m    497\u001b[0m \n\u001b[1;32m    498\u001b[0m \u001b[38;5;124;03m  Wraps XLA's `ConvertElementType\u001b[39;00m\n\u001b[0;32m   (...)\u001b[0m\n\u001b[1;32m    508\u001b[0m \u001b[38;5;124;03m    An array with the same shape as `operand`, cast elementwise to `new_dtype`.\u001b[39;00m\n\u001b[1;32m    509\u001b[0m \u001b[38;5;124;03m  \"\"\"\u001b[39;00m\n\u001b[0;32m--> 510\u001b[0m   \u001b[38;5;28;01mreturn\u001b[39;00m _convert_element_type(operand, new_dtype, weak_type\u001b[38;5;241m=\u001b[39m\u001b[38;5;28;01mFalse\u001b[39;00m)\n",
      "File \u001b[0;32m~/miniconda3/envs/options/lib/python3.11/site-packages/jax/_src/lax/lax.py:529\u001b[0m, in \u001b[0;36m_convert_element_type\u001b[0;34m(operand, new_dtype, weak_type)\u001b[0m\n\u001b[1;32m    527\u001b[0m   new_dtype \u001b[38;5;241m=\u001b[39m old_dtype\n\u001b[1;32m    528\u001b[0m \u001b[38;5;28;01melse\u001b[39;00m:\n\u001b[0;32m--> 529\u001b[0m   new_dtype \u001b[38;5;241m=\u001b[39m np\u001b[38;5;241m.\u001b[39mdtype(new_dtype)\n\u001b[1;32m    530\u001b[0m new_dtype \u001b[38;5;241m=\u001b[39m dtypes\u001b[38;5;241m.\u001b[39mdtype(new_dtype, canonicalize\u001b[38;5;241m=\u001b[39m\u001b[38;5;28;01mTrue\u001b[39;00m)\n\u001b[1;32m    532\u001b[0m \u001b[38;5;28;01mif\u001b[39;00m (dtypes\u001b[38;5;241m.\u001b[39missubdtype(old_dtype, np\u001b[38;5;241m.\u001b[39mcomplexfloating) \u001b[38;5;129;01mand\u001b[39;00m\n\u001b[1;32m    533\u001b[0m     \u001b[38;5;129;01mnot\u001b[39;00m dtypes\u001b[38;5;241m.\u001b[39missubdtype(new_dtype, np\u001b[38;5;241m.\u001b[39mcomplexfloating)):\n",
      "\u001b[0;31mKeyboardInterrupt\u001b[0m: "
     ]
    }
   ],
   "source": [
    "for (x, y) in iter_data:\n",
    "    print(x.shape, y.shape)"
   ]
  },
  {
   "cell_type": "code",
   "execution_count": 210,
   "metadata": {},
   "outputs": [],
   "source": [
    "class RNN(eqx.Module):\n",
    "    hidden_size: int\n",
    "    cell: eqx.Module\n",
    "    linear: eqx.nn.Linear\n",
    "    bias: jax.Array\n",
    "\n",
    "    def __init__(self, in_size, out_size, hidden_size, *, key):\n",
    "        ckey, lkey = jax.random.split(key)\n",
    "        self.hidden_size = hidden_size\n",
    "        self.cell = eqx.nn.GRUCell(in_size, hidden_size, key=ckey)\n",
    "#         self.cell = eqx.nn.LSTMCell(in_size, hidden_size, key=ckey)\n",
    "        self.linear = eqx.nn.Linear(hidden_size, out_size, use_bias=False, key=lkey)\n",
    "        self.bias = jnp.zeros(out_size)\n",
    "\n",
    "    def __call__(self, input):\n",
    "        hidden = jnp.zeros((self.hidden_size,))\n",
    "\n",
    "        def f(carry, inp):\n",
    "            return self.cell(inp, carry), None\n",
    "\n",
    "        out, _ = jax.lax.scan(f, hidden, input)\n",
    "        # sigmoid because we're performing binary classification\n",
    "        return jax.nn.sigmoid(self.linear(out) + self.bias)"
   ]
  },
  {
   "cell_type": "code",
   "execution_count": 321,
   "metadata": {},
   "outputs": [],
   "source": [
    "class RNNlstm(eqx.Module):\n",
    "    hidden_size: int\n",
    "    cell1: eqx.Module\n",
    "    cell2: eqx.Module\n",
    "    linear: eqx.nn.Linear\n",
    "#     bias: jax.Array\n",
    "\n",
    "    def __init__(self, in_size, out_size, hidden_size, *, key):\n",
    "        c1key, c2key, lkey = jax.random.split(key, 3)\n",
    "        self.hidden_size = hidden_size\n",
    "#         self.cell = eqx.nn.GRUCell(in_size, hidden_size, key=ckey)\n",
    "        self.cell1 = eqx.nn.LSTMCell(in_size, hidden_size, key=c1key)\n",
    "        self.cell2 = eqx.nn.LSTMCell(hidden_size, hidden_size, key=c2key)\n",
    "        self.linear = eqx.nn.Linear(hidden_size, out_size, use_bias=True, key=lkey)\n",
    "#         self.bias = jnp.zeros(out_size)\n",
    "\n",
    "    def __call__(self, xs):\n",
    "        scan_fn = lambda state, x: (self.cell1(x, state), None)\n",
    "        init_state = (jnp.zeros(self.cell1.hidden_size),\n",
    "                      jnp.zeros(self.cell1.hidden_size))\n",
    "        final_state, _ = jax.lax.scan(scan_fn, init_state, xs)\n",
    "        \n",
    "        return self.linear(final_state[0]) # + self.bias\n",
    "#         return jax.nn.sigmoid(self.linear(final_state[0]) + self.bias)"
   ]
  },
  {
   "cell_type": "code",
   "execution_count": 323,
   "metadata": {},
   "outputs": [],
   "source": [
    "lstmeq = RNNlstm(2, 2, 32, key=model_key)"
   ]
  },
  {
   "cell_type": "code",
   "execution_count": 324,
   "metadata": {},
   "outputs": [
    {
     "data": {
      "text/plain": [
       "Array([0.13397285, 0.09302421], dtype=float32)"
      ]
     },
     "execution_count": 324,
     "metadata": {},
     "output_type": "execute_result"
    }
   ],
   "source": [
    "lstmeq(xs[0][:5, :])"
   ]
  },
  {
   "cell_type": "code",
   "execution_count": 253,
   "metadata": {},
   "outputs": [
    {
     "data": {
      "text/plain": [
       "LSTMCell(\n",
       "  weight_ih=f32[128,2],\n",
       "  weight_hh=f32[128,32],\n",
       "  bias=f32[128],\n",
       "  input_size=2,\n",
       "  hidden_size=32,\n",
       "  use_bias=True\n",
       ")"
      ]
     },
     "execution_count": 253,
     "metadata": {},
     "output_type": "execute_result"
    }
   ],
   "source": [
    "lstmeq.cell"
   ]
  },
  {
   "cell_type": "code",
   "execution_count": 254,
   "metadata": {},
   "outputs": [],
   "source": [
    "lstmeq = RNNlstm(100, 2, 32, key=model_key)"
   ]
  },
  {
   "cell_type": "code",
   "execution_count": null,
   "metadata": {},
   "outputs": [],
   "source": []
  },
  {
   "cell_type": "code",
   "execution_count": 415,
   "metadata": {},
   "outputs": [],
   "source": [
    "def main(\n",
    "    dataset_size=100,\n",
    "    batch_size=10,\n",
    "    learning_rate=3e-3,\n",
    "    steps=200,\n",
    "    hidden_size=32,\n",
    "    depth=1,\n",
    "    seed=5678,\n",
    "):\n",
    "    data_key, model_key = jax.random.split(jax.random.PRNGKey(seed), 2)\n",
    "    xs, ys = get_data(dataset_size, seq_length=14, key=data_key)\n",
    "    iter_data = dataloader((xs, ys), batch_size)\n",
    "\n",
    "    model = RNN(in_size=2, out_size=1, hidden_size=hidden_size, key=model_key)\n",
    "#     model = RNNlstm(in_size=2, out_size=1, hidden_size=hidden_size, key=model_key)\n",
    "\n",
    "    @eqx.filter_value_and_grad\n",
    "    def compute_loss(model, x, y):\n",
    "        pred_y = jax.vmap(model)(x)\n",
    "        # Trains with respect to binary cross-entropy\n",
    "        return -jnp.mean(y * jnp.log(pred_y) + (1 - y) * jnp.log(1 - pred_y))\n",
    "\n",
    "    # Important for efficiency whenever you use JAX: wrap everything into a single JIT\n",
    "    # region.\n",
    "    @eqx.filter_jit\n",
    "    def make_step(model, x, y, opt_state):\n",
    "        loss, grads = compute_loss(model, x, y)\n",
    "        updates, opt_state = optim.update(grads, opt_state)\n",
    "        model = eqx.apply_updates(model, updates)\n",
    "        return loss, model, opt_state\n",
    "\n",
    "    optim = optax.adam(learning_rate)\n",
    "    opt_state = optim.init(model)\n",
    "    for step, (x, y) in zip(range(steps), iter_data):\n",
    "        loss, model, opt_state = make_step(model, x, y, opt_state)\n",
    "        loss = loss.item()\n",
    "        print(f\"step={step}, loss={loss}\")\n",
    "\n",
    "    pred_ys = jax.vmap(model)(xs)\n",
    "    num_correct = jnp.sum((pred_ys > 0.5) == ys)\n",
    "    final_accuracy = (num_correct / dataset_size).item()\n",
    "    print(f\"final_accuracy={final_accuracy}\")"
   ]
  },
  {
   "cell_type": "code",
   "execution_count": 422,
   "metadata": {},
   "outputs": [
    {
     "name": "stdout",
     "output_type": "stream",
     "text": [
      "starting epoch 0\n",
      "step=0, loss=0.7081233263015747\n",
      "step=1, loss=0.6880833506584167\n",
      "step=2, loss=0.6670365333557129\n",
      "step=3, loss=0.6492072343826294\n",
      "step=4, loss=0.628685712814331\n",
      "step=5, loss=0.7848258018493652\n",
      "step=6, loss=0.7960376739501953\n",
      "step=7, loss=0.7989193797111511\n",
      "step=8, loss=0.7965542674064636\n",
      "step=9, loss=0.7902571558952332\n",
      "starting epoch 1\n",
      "step=10, loss=0.6111821532249451\n",
      "step=11, loss=0.6148279309272766\n",
      "step=12, loss=0.6153644919395447\n",
      "step=13, loss=0.6149423718452454\n",
      "step=14, loss=0.6114858984947205\n",
      "step=15, loss=0.7869271636009216\n",
      "step=16, loss=0.7895097732543945\n",
      "step=17, loss=0.7881371378898621\n",
      "step=18, loss=0.7853938937187195\n",
      "step=19, loss=0.7801624536514282\n",
      "starting epoch 2\n",
      "step=20, loss=0.6177666187286377\n",
      "step=21, loss=0.6210214495658875\n",
      "step=22, loss=0.6220059394836426\n",
      "step=23, loss=0.6227951645851135\n",
      "step=24, loss=0.6206672787666321\n",
      "step=25, loss=0.7737724184989929\n",
      "step=26, loss=0.7754095196723938\n",
      "step=27, loss=0.7729578018188477\n",
      "step=28, loss=0.771012008190155\n",
      "step=29, loss=0.7666424512863159\n",
      "starting epoch 3\n",
      "step=30, loss=0.6281981468200684\n",
      "step=31, loss=0.6309759020805359\n",
      "step=32, loss=0.6317358613014221\n",
      "step=33, loss=0.6328434348106384\n",
      "step=34, loss=0.6308444738388062\n",
      "step=35, loss=0.7612904906272888\n",
      "step=36, loss=0.7628366351127625\n",
      "step=37, loss=0.7596843242645264\n",
      "step=38, loss=0.758539617061615\n",
      "step=39, loss=0.7548076510429382\n",
      "starting epoch 4\n",
      "step=40, loss=0.6376927495002747\n",
      "step=41, loss=0.6400644779205322\n",
      "step=42, loss=0.6405410170555115\n",
      "step=43, loss=0.6417579650878906\n",
      "step=44, loss=0.6396514177322388\n",
      "step=45, loss=0.7509427070617676\n",
      "step=46, loss=0.7525714039802551\n",
      "step=47, loss=0.7487707138061523\n",
      "step=48, loss=0.7483318448066711\n",
      "step=49, loss=0.7450731992721558\n",
      "starting epoch 5\n",
      "step=50, loss=0.6456381678581238\n",
      "step=51, loss=0.6476673483848572\n",
      "step=52, loss=0.647902250289917\n",
      "step=53, loss=0.6491414904594421\n",
      "step=54, loss=0.6468966007232666\n",
      "step=55, loss=0.7425406575202942\n",
      "step=56, loss=0.7442739605903625\n",
      "step=57, loss=0.7397820353507996\n",
      "step=58, loss=0.7399742007255554\n",
      "step=59, loss=0.7370814085006714\n",
      "starting epoch 6\n",
      "step=60, loss=0.6521660685539246\n",
      "step=61, loss=0.6538891196250916\n",
      "step=62, loss=0.6539434194564819\n",
      "step=63, loss=0.6551335453987122\n",
      "step=64, loss=0.6527813076972961\n",
      "step=65, loss=0.7356585264205933\n",
      "step=66, loss=0.7374739646911621\n",
      "step=67, loss=0.7321969270706177\n",
      "step=68, loss=0.7329829931259155\n",
      "step=69, loss=0.7303933501243591\n",
      "starting epoch 7\n",
      "step=70, loss=0.6575227379798889\n",
      "step=71, loss=0.6589489579200745\n",
      "step=72, loss=0.6588859558105469\n",
      "step=73, loss=0.6599346995353699\n",
      "step=74, loss=0.6575307846069336\n",
      "step=75, loss=0.7299025654792786\n",
      "step=76, loss=0.7317559123039246\n",
      "step=77, loss=0.7255516052246094\n",
      "step=78, loss=0.7269302010536194\n",
      "step=79, loss=0.7246161103248596\n",
      "starting epoch 8\n",
      "step=80, loss=0.6619173288345337\n",
      "step=81, loss=0.66302889585495\n",
      "step=82, loss=0.6629173159599304\n",
      "step=83, loss=0.6636810302734375\n",
      "step=84, loss=0.6613005995750427\n",
      "step=85, loss=0.7249372005462646\n",
      "step=86, loss=0.7267576456069946\n",
      "step=87, loss=0.7194223999977112\n",
      "step=88, loss=0.7214216589927673\n",
      "step=89, loss=0.7193850874900818\n",
      "starting epoch 9\n",
      "step=90, loss=0.6654810309410095\n",
      "step=91, loss=0.6662306785583496\n",
      "step=92, loss=0.666154146194458\n",
      "step=93, loss=0.6663903594017029\n",
      "step=94, loss=0.6641355752944946\n",
      "step=95, loss=0.720433235168457\n",
      "step=96, loss=0.7221000790596008\n",
      "step=97, loss=0.7133452296257019\n",
      "step=98, loss=0.716009795665741\n",
      "step=99, loss=0.7142783403396606\n",
      "starting epoch 10\n",
      "step=100, loss=0.6682253479957581\n",
      "step=101, loss=0.6685246825218201\n",
      "step=102, loss=0.6685991287231445\n",
      "step=103, loss=0.6678609251976013\n",
      "step=104, loss=0.6658801436424255\n",
      "step=105, loss=0.7159437537193298\n",
      "step=106, loss=0.7172329425811768\n",
      "step=107, loss=0.7066518664360046\n",
      "step=108, loss=0.7100018858909607\n",
      "step=109, loss=0.7086126208305359\n",
      "starting epoch 11\n",
      "step=110, loss=0.6698940992355347\n",
      "step=111, loss=0.6695809364318848\n",
      "step=112, loss=0.6699852347373962\n",
      "step=113, loss=0.6673414707183838\n",
      "step=114, loss=0.6658520102500916\n",
      "step=115, loss=0.7105499505996704\n",
      "step=116, loss=0.7110269665718079\n",
      "step=117, loss=0.6980485916137695\n",
      "step=118, loss=0.701930820941925\n",
      "step=119, loss=0.7008163928985596\n",
      "starting epoch 12\n",
      "step=120, loss=0.6693370938301086\n",
      "step=121, loss=0.6680587530136108\n",
      "step=122, loss=0.6690753698348999\n",
      "step=123, loss=0.6621615886688232\n",
      "step=124, loss=0.6613988876342773\n",
      "step=125, loss=0.7015583515167236\n",
      "step=126, loss=0.7004317045211792\n",
      "step=127, loss=0.6840901374816895\n",
      "step=128, loss=0.6876676082611084\n",
      "step=129, loss=0.6859175562858582\n",
      "starting epoch 13\n",
      "step=130, loss=0.6612083911895752\n",
      "step=131, loss=0.6577549576759338\n",
      "step=132, loss=0.6597406268119812\n",
      "step=133, loss=0.6401106119155884\n",
      "step=134, loss=0.6395274996757507\n",
      "step=135, loss=0.6786186099052429\n",
      "step=136, loss=0.6752338409423828\n",
      "step=137, loss=0.6515180468559265\n",
      "step=138, loss=0.6522802114486694\n",
      "step=139, loss=0.6436147093772888\n",
      "starting epoch 14\n",
      "step=140, loss=0.6129977703094482\n",
      "step=141, loss=0.5992938280105591\n",
      "step=142, loss=0.6023333072662354\n",
      "step=143, loss=0.5322228670120239\n",
      "step=144, loss=0.5270711183547974\n",
      "step=145, loss=0.6016469597816467\n",
      "step=146, loss=0.6018531918525696\n",
      "step=147, loss=0.5450334548950195\n",
      "step=148, loss=0.5462079048156738\n",
      "step=149, loss=0.5020980834960938\n",
      "starting epoch 15\n",
      "step=150, loss=0.402963250875473\n",
      "step=151, loss=0.35235586762428284\n",
      "step=152, loss=0.41301342844963074\n",
      "step=153, loss=0.2516065537929535\n",
      "step=154, loss=0.30638018250465393\n",
      "step=155, loss=0.34477362036705017\n",
      "step=156, loss=0.33307501673698425\n",
      "step=157, loss=0.26496219635009766\n",
      "step=158, loss=0.2411365509033203\n",
      "step=159, loss=0.16124409437179565\n",
      "starting epoch 16\n",
      "step=160, loss=0.17684267461299896\n",
      "step=161, loss=0.13445021212100983\n",
      "step=162, loss=0.25944140553474426\n",
      "step=163, loss=0.08969908207654953\n",
      "step=164, loss=0.1700640767812729\n",
      "step=165, loss=0.05427923426032066\n",
      "step=166, loss=0.05462702736258507\n",
      "step=167, loss=0.057220470160245895\n",
      "step=168, loss=0.048549897968769073\n",
      "step=169, loss=0.04518388211727142\n",
      "starting epoch 17\n",
      "step=170, loss=0.03832395374774933\n",
      "step=171, loss=0.026241526007652283\n",
      "step=172, loss=0.0699397400021553\n",
      "step=173, loss=0.01836138591170311\n",
      "step=174, loss=0.05860127881169319\n",
      "step=175, loss=0.018325507640838623\n",
      "step=176, loss=0.017489729449152946\n",
      "step=177, loss=0.018490208312869072\n",
      "step=178, loss=0.014323261566460133\n",
      "step=179, loss=0.013486470095813274\n",
      "starting epoch 18\n",
      "step=180, loss=0.016694223508238792\n",
      "step=181, loss=0.013115172274410725\n",
      "step=182, loss=0.034832511097192764\n",
      "step=183, loss=0.009571398608386517\n",
      "step=184, loss=0.0307565089315176\n",
      "step=185, loss=0.007578036282211542\n",
      "step=186, loss=0.0072209774516522884\n",
      "step=187, loss=0.00762914726510644\n",
      "step=188, loss=0.006583090405911207\n",
      "step=189, loss=0.006611695047467947\n",
      "starting epoch 19\n",
      "step=190, loss=0.010540422052145004\n",
      "step=191, loss=0.00940848607569933\n",
      "step=192, loss=0.02012576162815094\n",
      "step=193, loss=0.006525758188217878\n",
      "step=194, loss=0.01740238629281521\n",
      "step=195, loss=0.0049327160231769085\n",
      "step=196, loss=0.0048207929357886314\n",
      "step=197, loss=0.0052036442793905735\n",
      "step=198, loss=0.0047072055749595165\n",
      "step=199, loss=0.004804616328328848\n",
      "final_accuracy=1.0\n"
     ]
    }
   ],
   "source": [
    "main()  # All right, let's run the code."
   ]
  },
  {
   "cell_type": "code",
   "execution_count": 214,
   "metadata": {},
   "outputs": [],
   "source": [
    "model = RNN(in_size=2, out_size=1, hidden_size=32, key=model_key)"
   ]
  },
  {
   "cell_type": "code",
   "execution_count": 215,
   "metadata": {},
   "outputs": [
    {
     "data": {
      "text/plain": [
       "2"
      ]
     },
     "execution_count": 215,
     "metadata": {},
     "output_type": "execute_result"
    }
   ],
   "source": [
    "model.cell.input_size"
   ]
  },
  {
   "cell_type": "code",
   "execution_count": 216,
   "metadata": {},
   "outputs": [
    {
     "data": {
      "text/plain": [
       "(96, 32)"
      ]
     },
     "execution_count": 216,
     "metadata": {},
     "output_type": "execute_result"
    }
   ],
   "source": [
    "model.cell.weight_hh.shape"
   ]
  },
  {
   "cell_type": "code",
   "execution_count": 218,
   "metadata": {},
   "outputs": [
    {
     "data": {
      "text/plain": [
       "(96, 2)"
      ]
     },
     "execution_count": 218,
     "metadata": {},
     "output_type": "execute_result"
    }
   ],
   "source": [
    "model.cell.weight_ih.shape"
   ]
  },
  {
   "cell_type": "code",
   "execution_count": 225,
   "metadata": {},
   "outputs": [
    {
     "data": {
      "text/plain": [
       "Array([0.47193635], dtype=float32)"
      ]
     },
     "execution_count": 225,
     "metadata": {},
     "output_type": "execute_result"
    }
   ],
   "source": [
    "model(xs[0][:2, :])"
   ]
  },
  {
   "cell_type": "code",
   "execution_count": 224,
   "metadata": {},
   "outputs": [
    {
     "data": {
      "text/plain": [
       "Array([[-0.8662967 ,  0.49952984],\n",
       "       [-0.6736304 ,  0.0267801 ]], dtype=float32)"
      ]
     },
     "execution_count": 224,
     "metadata": {},
     "output_type": "execute_result"
    }
   ],
   "source": [
    "xs[0][:2, :]"
   ]
  },
  {
   "cell_type": "code",
   "execution_count": 220,
   "metadata": {},
   "outputs": [
    {
     "data": {
      "text/plain": [
       "Array([[-0.8662967 ,  0.49952984],\n",
       "       [-0.6736304 ,  0.0267801 ],\n",
       "       [-0.45926854, -0.21823113],\n",
       "       [-0.24502712, -0.3264408 ],\n",
       "       [-0.05450387, -0.33652925],\n",
       "       [ 0.09283558, -0.2775747 ],\n",
       "       [ 0.18502338, -0.17752427],\n",
       "       [ 0.21916799, -0.06335385],\n",
       "       [ 0.20130827,  0.04121126],\n",
       "       [ 0.1447245 ,  0.11829499],\n",
       "       [ 0.06710994,  0.1577503 ],\n",
       "       [-0.01282473,  0.15779418],\n",
       "       [-0.07866701,  0.12425242],\n",
       "       [-0.11894477,  0.06858669]], dtype=float32)"
      ]
     },
     "execution_count": 220,
     "metadata": {},
     "output_type": "execute_result"
    }
   ],
   "source": [
    "xs[0]"
   ]
  },
  {
   "cell_type": "code",
   "execution_count": null,
   "metadata": {},
   "outputs": [],
   "source": [
    "data_key, model_key = random.split(jax.random.PRNGKey(212), 2)\n",
    "lstmj = LSTMjax(100, 500, 2)\n",
    "params = lstmj.initialize_params(model_key)\n",
    "for i in params.keys():\n",
    "    print(i, params[i].shape)\n",
    "\n",
    "# optimizer\n",
    "# import optax\n",
    "learning_rate = 0.001\n",
    "batch_size = 100\n",
    "#data_loader = DataLoaderXY(datasetHL[0], datasetHL[1], batch_size=batch_size)\n",
    "\n",
    "# train_size = X_train.shape[0]\n",
    "num_epochs = 500\n",
    "def fit(params: optax.Params, optimizer: optax.GradientTransformation) -> optax.Params:\n",
    "    opt_state = optimizer.init(params)\n",
    "\n",
    "    def l2_loss(params, x, y):\n",
    "        y_pred = lstmj.forward(x, params)\n",
    "        l2 = jnp.mean((y_pred[-3:] - y[-3:])**2)\n",
    "        return l2\n",
    "    \n",
    "    @jax.jit\n",
    "    def run_batch(params, opt_state, batch_x, batch_y):\n",
    "        loss_value, grads = jax.value_and_grad(l2_loss)(params, batch_x, batch_y)\n",
    "        updates, opt_state = optimizer.update(grads, opt_state, params)\n",
    "        params = optax.apply_updates(params, updates)\n",
    "        return params, opt_state, loss_value\n",
    "    \n",
    "    for i in range(num_epochs):\n",
    "        data_loader = DataLoaderXY(datasetHL[0], datasetHL[1], batch_size=batch_size)\n",
    "        j = 0\n",
    "        for batch in data_loader:\n",
    "            params, opt_state, loss_value = run_batch(params, opt_state, batch[0], batch[1])\n",
    "#             if j % 2 == 0:\n",
    "#                 print(f'batch {j}, loss: {loss_value}')\n",
    "#             j += 1\n",
    "        if i % 10 == 0: print(f'epoch {i}, loss: {loss_value}')\n",
    "        i += 1\n",
    "        \n",
    "    return params\n",
    "\n",
    "# Fit our parametrized function using the Adam optimizer\n",
    "\n",
    "optimizer = optax.adam(learning_rate=learning_rate)\n",
    "params = fit(params, optimizer)\n"
   ]
  },
  {
   "cell_type": "code",
   "execution_count": 359,
   "metadata": {},
   "outputs": [],
   "source": [
    "# apply to spy ts\n",
    "def main_spy(\n",
    "    batch_size=100,\n",
    "    learning_rate=3e-2,\n",
    "    steps=1000,\n",
    "    hidden_size=64,\n",
    "#     depth=1,\n",
    "    seed=5678,\n",
    "):\n",
    "    data_key, model_key = jax.random.split(jax.random.PRNGKey(seed), 2)\n",
    "#     xs, ys = get_data(dataset_size, seq_length=14, key=data_key)\n",
    "    iter_data = dataloader(datasetHL111, batch_size)\n",
    "#     iter_data = DataLoaderXY(datasetHL[0], datasetHL[1], batch_size=batch_size)\n",
    "\n",
    "#    model = RNN(in_size=2, out_size=1, hidden_size=hidden_size, key=model_key)\n",
    "    model = RNNlstm(in_size=2, out_size=2, hidden_size=hidden_size, key=model_key)\n",
    "\n",
    "    @eqx.filter_value_and_grad\n",
    "    def compute_loss(model, x, y):\n",
    "        pred_y = jax.vmap(model)(x)\n",
    "        l2 = jnp.mean((pred_y - y)**2)\n",
    "        return l2\n",
    "#         Trains with respect to binary cross-entropy\n",
    "#         return -jnp.mean(y * jnp.log(pred_y) + (1 - y) * jnp.log(1 - pred_y))\n",
    "\n",
    "    # Important for efficiency whenever you use JAX: wrap everything into a single JIT\n",
    "    # region.\n",
    "    @eqx.filter_jit\n",
    "    def make_step(model, x, y, opt_state):\n",
    "        loss, grads = compute_loss(model, x, y)\n",
    "        updates, opt_state = optim.update(grads, opt_state)\n",
    "        model = eqx.apply_updates(model, updates)\n",
    "        return loss, model, opt_state\n",
    "\n",
    "    optim = optax.adam(learning_rate)\n",
    "    opt_state = optim.init(model)\n",
    "    for step, (x, y) in zip(range(steps), iter_data):\n",
    "        loss, model, opt_state = make_step(model, x, y, opt_state)\n",
    "        loss = loss.item()\n",
    "        if step % 100 == 0: print(f\"step={step}, loss={loss}\")\n",
    "\n",
    "    pred_ys = jax.vmap(model)(xs)\n",
    "#     num_correct = jnp.sum((pred_ys > 0.5) == ys)\n",
    "#     final_accuracy = (num_correct / dataset_size).item()\n",
    "    final_loss = compute_loss(model, datasetHL111[0], datasetHL111[1])\n",
    "    print(f\"final_loss={final_loss}\")\n",
    "    return model"
   ]
  },
  {
   "cell_type": "code",
   "execution_count": 360,
   "metadata": {},
   "outputs": [
    {
     "name": "stdout",
     "output_type": "stream",
     "text": [
      "0\n",
      "(100, 50, 2)\n",
      "(100, 2)\n",
      "1\n",
      "(100, 50, 2)\n",
      "(100, 2)\n"
     ]
    }
   ],
   "source": [
    "iter_data = dataloader(datasetHL111, 100)\n",
    "for step, (x, y) in zip(range(2), iter_data):\n",
    "    print(step)\n",
    "    print(x.shape)\n",
    "    print(y.shape)\n"
   ]
  },
  {
   "cell_type": "code",
   "execution_count": null,
   "metadata": {},
   "outputs": [],
   "source": []
  },
  {
   "cell_type": "code",
   "execution_count": 435,
   "metadata": {},
   "outputs": [
    {
     "name": "stdout",
     "output_type": "stream",
     "text": [
      "starting epoch 0\n",
      "step=0, loss=1.1301002502441406\n",
      "starting epoch 1\n",
      "starting epoch 2\n",
      "starting epoch 3\n",
      "starting epoch 4\n",
      "step=100, loss=0.00016478847828693688\n",
      "starting epoch 5\n",
      "starting epoch 6\n",
      "starting epoch 7\n",
      "starting epoch 8\n",
      "step=200, loss=0.0001474556338507682\n",
      "starting epoch 9\n",
      "starting epoch 10\n",
      "starting epoch 11\n",
      "starting epoch 12\n",
      "step=300, loss=0.00014378958439920098\n",
      "starting epoch 13\n",
      "starting epoch 14\n",
      "starting epoch 15\n",
      "starting epoch 16\n",
      "step=400, loss=0.00013253962970338762\n",
      "starting epoch 17\n",
      "starting epoch 18\n",
      "starting epoch 19\n",
      "starting epoch 20\n",
      "step=500, loss=0.0001378312153974548\n",
      "starting epoch 21\n",
      "starting epoch 22\n",
      "starting epoch 23\n",
      "starting epoch 24\n",
      "step=600, loss=0.00015274550241883844\n",
      "starting epoch 25\n",
      "starting epoch 26\n",
      "starting epoch 27\n",
      "starting epoch 28\n",
      "step=700, loss=0.00018181881750933826\n",
      "starting epoch 29\n",
      "starting epoch 30\n",
      "starting epoch 31\n",
      "starting epoch 32\n",
      "step=800, loss=0.0002262513298774138\n",
      "starting epoch 33\n",
      "starting epoch 34\n",
      "starting epoch 35\n",
      "starting epoch 36\n",
      "step=900, loss=0.00026011434965766966\n",
      "starting epoch 37\n",
      "starting epoch 38\n",
      "starting epoch 39\n",
      "final_loss=(Array(0.00038965, dtype=float32), RNNlstm(\n",
      "  hidden_size=None,\n",
      "  cell1=LSTMCell(\n",
      "    weight_ih=f32[256,2],\n",
      "    weight_hh=f32[256,64],\n",
      "    bias=f32[256],\n",
      "    input_size=2,\n",
      "    hidden_size=64,\n",
      "    use_bias=True\n",
      "  ),\n",
      "  cell2=LSTMCell(\n",
      "    weight_ih=f32[256,64],\n",
      "    weight_hh=f32[256,64],\n",
      "    bias=f32[256],\n",
      "    input_size=64,\n",
      "    hidden_size=64,\n",
      "    use_bias=True\n",
      "  ),\n",
      "  linear=Linear(\n",
      "    weight=f32[2,64],\n",
      "    bias=f32[2],\n",
      "    in_features=64,\n",
      "    out_features=2,\n",
      "    use_bias=True\n",
      "  )\n",
      "))\n"
     ]
    }
   ],
   "source": [
    "model = main_spy(batch_size=100, steps=1000, hidden_size=64)"
   ]
  },
  {
   "cell_type": "code",
   "execution_count": 433,
   "metadata": {},
   "outputs": [
    {
     "data": {
      "text/plain": [
       "Array([1.0139813 , 0.97831607], dtype=float32)"
      ]
     },
     "execution_count": 433,
     "metadata": {},
     "output_type": "execute_result"
    }
   ],
   "source": [
    "model(datasetHL111[0][-1])"
   ]
  },
  {
   "cell_type": "code",
   "execution_count": 425,
   "metadata": {},
   "outputs": [
    {
     "data": {
      "text/plain": [
       "Array([[0.99454296, 1.0431349 ],\n",
       "       [1.0007769 , 0.9767036 ],\n",
       "       [1.0010432 , 1.0071555 ],\n",
       "       [0.98412615, 1.1107165 ],\n",
       "       [0.9957643 , 1.0042644 ],\n",
       "       [1.0199081 , 0.90392786],\n",
       "       [1.0085351 , 0.92660004],\n",
       "       [0.99899024, 1.0190114 ],\n",
       "       [0.9887608 , 1.1057215 ],\n",
       "       [0.993136  , 1.031496  ],\n",
       "       [0.992917  , 1.0954199 ],\n",
       "       [1.0185126 , 0.8556496 ],\n",
       "       [1.0002666 , 0.98778355],\n",
       "       [0.9956147 , 1.0429918 ],\n",
       "       [1.0046724 , 0.9565218 ],\n",
       "       [0.998256  , 0.9994097 ],\n",
       "       [0.9986898 , 1.0059067 ],\n",
       "       [1.00345   , 1.0052848 ],\n",
       "       [0.99331737, 1.0508177 ],\n",
       "       [1.012139  , 0.93774325],\n",
       "       [1.0096332 , 0.9513929 ],\n",
       "       [0.99854493, 1.0473521 ],\n",
       "       [1.0004061 , 1.0237954 ],\n",
       "       [0.98877716, 1.0766997 ],\n",
       "       [0.9927551 , 1.0809498 ],\n",
       "       [1.00866   , 0.9555666 ],\n",
       "       [1.0129507 , 0.93782663],\n",
       "       [1.000381  , 0.97270185],\n",
       "       [0.9944548 , 1.0274915 ],\n",
       "       [1.009501  , 0.87235224],\n",
       "       [1.0144612 , 0.9329074 ],\n",
       "       [0.9980838 , 1.0089041 ],\n",
       "       [1.0021775 , 0.9477258 ],\n",
       "       [0.9965422 , 0.9985673 ],\n",
       "       [1.0060487 , 0.97919655],\n",
       "       [1.0017942 , 1.0131868 ],\n",
       "       [1.0090718 , 1.0853218 ],\n",
       "       [1.0065929 , 0.97335106],\n",
       "       [1.0011908 , 0.95003426],\n",
       "       [1.0123976 , 1.0446686 ],\n",
       "       [0.9965938 , 0.9337931 ],\n",
       "       [0.99481183, 1.0251108 ],\n",
       "       [0.99487627, 0.9510086 ],\n",
       "       [1.0036097 , 0.9780303 ],\n",
       "       [0.99244   , 1.0410534 ],\n",
       "       [0.9959142 , 1.0602679 ],\n",
       "       [1.0109633 , 0.9642105 ],\n",
       "       [1.0005044 , 0.97743815],\n",
       "       [1.0039414 , 1.0081906 ],\n",
       "       [1.0118008 , 1.0036927 ]], dtype=float32)"
      ]
     },
     "execution_count": 425,
     "metadata": {},
     "output_type": "execute_result"
    }
   ],
   "source": [
    "datasetHL111[0][-1]"
   ]
  },
  {
   "cell_type": "code",
   "execution_count": 426,
   "metadata": {},
   "outputs": [
    {
     "data": {
      "text/plain": [
       "Array([1.0011505, 0.9893295], dtype=float32)"
      ]
     },
     "execution_count": 426,
     "metadata": {},
     "output_type": "execute_result"
    }
   ],
   "source": [
    "datasetHL111[1][-1]"
   ]
  },
  {
   "cell_type": "code",
   "execution_count": 427,
   "metadata": {},
   "outputs": [
    {
     "data": {
      "text/html": [
       "<div>\n",
       "<style scoped>\n",
       "    .dataframe tbody tr th:only-of-type {\n",
       "        vertical-align: middle;\n",
       "    }\n",
       "\n",
       "    .dataframe tbody tr th {\n",
       "        vertical-align: top;\n",
       "    }\n",
       "\n",
       "    .dataframe thead tr th {\n",
       "        text-align: left;\n",
       "    }\n",
       "\n",
       "    .dataframe thead tr:last-of-type th {\n",
       "        text-align: right;\n",
       "    }\n",
       "</style>\n",
       "<table border=\"1\" class=\"dataframe\">\n",
       "  <thead>\n",
       "    <tr>\n",
       "      <th></th>\n",
       "      <th colspan=\"2\" halign=\"left\">Ret</th>\n",
       "    </tr>\n",
       "    <tr>\n",
       "      <th></th>\n",
       "      <th>SPY</th>\n",
       "      <th>^VIX</th>\n",
       "    </tr>\n",
       "    <tr>\n",
       "      <th>Date</th>\n",
       "      <th></th>\n",
       "      <th></th>\n",
       "    </tr>\n",
       "  </thead>\n",
       "  <tbody>\n",
       "    <tr>\n",
       "      <th>2023-04-27</th>\n",
       "      <td>1.019908</td>\n",
       "      <td>0.903928</td>\n",
       "    </tr>\n",
       "    <tr>\n",
       "      <th>2023-04-28</th>\n",
       "      <td>1.008535</td>\n",
       "      <td>0.926600</td>\n",
       "    </tr>\n",
       "    <tr>\n",
       "      <th>2023-05-01</th>\n",
       "      <td>0.998990</td>\n",
       "      <td>1.019011</td>\n",
       "    </tr>\n",
       "    <tr>\n",
       "      <th>2023-05-02</th>\n",
       "      <td>0.988761</td>\n",
       "      <td>1.105721</td>\n",
       "    </tr>\n",
       "    <tr>\n",
       "      <th>2023-05-03</th>\n",
       "      <td>0.993136</td>\n",
       "      <td>1.031496</td>\n",
       "    </tr>\n",
       "    <tr>\n",
       "      <th>2023-05-04</th>\n",
       "      <td>0.992917</td>\n",
       "      <td>1.095420</td>\n",
       "    </tr>\n",
       "    <tr>\n",
       "      <th>2023-05-05</th>\n",
       "      <td>1.018513</td>\n",
       "      <td>0.855650</td>\n",
       "    </tr>\n",
       "    <tr>\n",
       "      <th>2023-05-08</th>\n",
       "      <td>1.000266</td>\n",
       "      <td>0.987784</td>\n",
       "    </tr>\n",
       "    <tr>\n",
       "      <th>2023-05-09</th>\n",
       "      <td>0.995615</td>\n",
       "      <td>1.042992</td>\n",
       "    </tr>\n",
       "    <tr>\n",
       "      <th>2023-05-10</th>\n",
       "      <td>1.004672</td>\n",
       "      <td>0.956522</td>\n",
       "    </tr>\n",
       "    <tr>\n",
       "      <th>2023-05-11</th>\n",
       "      <td>0.998256</td>\n",
       "      <td>0.999410</td>\n",
       "    </tr>\n",
       "    <tr>\n",
       "      <th>2023-05-12</th>\n",
       "      <td>0.998690</td>\n",
       "      <td>1.005907</td>\n",
       "    </tr>\n",
       "    <tr>\n",
       "      <th>2023-05-15</th>\n",
       "      <td>1.003450</td>\n",
       "      <td>1.005285</td>\n",
       "    </tr>\n",
       "    <tr>\n",
       "      <th>2023-05-16</th>\n",
       "      <td>0.993317</td>\n",
       "      <td>1.050818</td>\n",
       "    </tr>\n",
       "    <tr>\n",
       "      <th>2023-05-17</th>\n",
       "      <td>1.012139</td>\n",
       "      <td>0.937743</td>\n",
       "    </tr>\n",
       "    <tr>\n",
       "      <th>2023-05-18</th>\n",
       "      <td>1.009633</td>\n",
       "      <td>0.951393</td>\n",
       "    </tr>\n",
       "    <tr>\n",
       "      <th>2023-05-19</th>\n",
       "      <td>0.998545</td>\n",
       "      <td>1.047352</td>\n",
       "    </tr>\n",
       "    <tr>\n",
       "      <th>2023-05-22</th>\n",
       "      <td>1.000406</td>\n",
       "      <td>1.023795</td>\n",
       "    </tr>\n",
       "    <tr>\n",
       "      <th>2023-05-23</th>\n",
       "      <td>0.988777</td>\n",
       "      <td>1.076700</td>\n",
       "    </tr>\n",
       "    <tr>\n",
       "      <th>2023-05-24</th>\n",
       "      <td>0.992755</td>\n",
       "      <td>1.080950</td>\n",
       "    </tr>\n",
       "    <tr>\n",
       "      <th>2023-05-25</th>\n",
       "      <td>1.008660</td>\n",
       "      <td>0.955567</td>\n",
       "    </tr>\n",
       "    <tr>\n",
       "      <th>2023-05-26</th>\n",
       "      <td>1.012951</td>\n",
       "      <td>0.937827</td>\n",
       "    </tr>\n",
       "    <tr>\n",
       "      <th>2023-05-30</th>\n",
       "      <td>1.000381</td>\n",
       "      <td>0.972702</td>\n",
       "    </tr>\n",
       "    <tr>\n",
       "      <th>2023-05-31</th>\n",
       "      <td>0.994455</td>\n",
       "      <td>1.027491</td>\n",
       "    </tr>\n",
       "    <tr>\n",
       "      <th>2023-06-01</th>\n",
       "      <td>1.009501</td>\n",
       "      <td>0.872352</td>\n",
       "    </tr>\n",
       "    <tr>\n",
       "      <th>2023-06-02</th>\n",
       "      <td>1.014461</td>\n",
       "      <td>0.932907</td>\n",
       "    </tr>\n",
       "    <tr>\n",
       "      <th>2023-06-05</th>\n",
       "      <td>0.998084</td>\n",
       "      <td>1.008904</td>\n",
       "    </tr>\n",
       "    <tr>\n",
       "      <th>2023-06-06</th>\n",
       "      <td>1.002177</td>\n",
       "      <td>0.947726</td>\n",
       "    </tr>\n",
       "    <tr>\n",
       "      <th>2023-06-07</th>\n",
       "      <td>0.996542</td>\n",
       "      <td>0.998567</td>\n",
       "    </tr>\n",
       "    <tr>\n",
       "      <th>2023-06-08</th>\n",
       "      <td>1.006049</td>\n",
       "      <td>0.979197</td>\n",
       "    </tr>\n",
       "    <tr>\n",
       "      <th>2023-06-09</th>\n",
       "      <td>1.001794</td>\n",
       "      <td>1.013187</td>\n",
       "    </tr>\n",
       "    <tr>\n",
       "      <th>2023-06-12</th>\n",
       "      <td>1.009072</td>\n",
       "      <td>1.085322</td>\n",
       "    </tr>\n",
       "    <tr>\n",
       "      <th>2023-06-13</th>\n",
       "      <td>1.006593</td>\n",
       "      <td>0.973351</td>\n",
       "    </tr>\n",
       "    <tr>\n",
       "      <th>2023-06-14</th>\n",
       "      <td>1.001191</td>\n",
       "      <td>0.950034</td>\n",
       "    </tr>\n",
       "    <tr>\n",
       "      <th>2023-06-15</th>\n",
       "      <td>1.012398</td>\n",
       "      <td>1.044669</td>\n",
       "    </tr>\n",
       "    <tr>\n",
       "      <th>2023-06-16</th>\n",
       "      <td>0.996594</td>\n",
       "      <td>0.933793</td>\n",
       "    </tr>\n",
       "    <tr>\n",
       "      <th>2023-06-20</th>\n",
       "      <td>0.994812</td>\n",
       "      <td>1.025111</td>\n",
       "    </tr>\n",
       "    <tr>\n",
       "      <th>2023-06-21</th>\n",
       "      <td>0.994876</td>\n",
       "      <td>0.951009</td>\n",
       "    </tr>\n",
       "    <tr>\n",
       "      <th>2023-06-22</th>\n",
       "      <td>1.003610</td>\n",
       "      <td>0.978030</td>\n",
       "    </tr>\n",
       "    <tr>\n",
       "      <th>2023-06-23</th>\n",
       "      <td>0.992440</td>\n",
       "      <td>1.041053</td>\n",
       "    </tr>\n",
       "    <tr>\n",
       "      <th>2023-06-26</th>\n",
       "      <td>0.995914</td>\n",
       "      <td>1.060268</td>\n",
       "    </tr>\n",
       "    <tr>\n",
       "      <th>2023-06-27</th>\n",
       "      <td>1.010963</td>\n",
       "      <td>0.964211</td>\n",
       "    </tr>\n",
       "    <tr>\n",
       "      <th>2023-06-28</th>\n",
       "      <td>1.000504</td>\n",
       "      <td>0.977438</td>\n",
       "    </tr>\n",
       "    <tr>\n",
       "      <th>2023-06-29</th>\n",
       "      <td>1.003941</td>\n",
       "      <td>1.008191</td>\n",
       "    </tr>\n",
       "    <tr>\n",
       "      <th>2023-06-30</th>\n",
       "      <td>1.011801</td>\n",
       "      <td>1.003693</td>\n",
       "    </tr>\n",
       "    <tr>\n",
       "      <th>2023-07-03</th>\n",
       "      <td>1.001151</td>\n",
       "      <td>0.998528</td>\n",
       "    </tr>\n",
       "    <tr>\n",
       "      <th>2023-07-05</th>\n",
       "      <td>0.998513</td>\n",
       "      <td>1.044952</td>\n",
       "    </tr>\n",
       "    <tr>\n",
       "      <th>2023-07-06</th>\n",
       "      <td>0.992169</td>\n",
       "      <td>1.088857</td>\n",
       "    </tr>\n",
       "    <tr>\n",
       "      <th>2023-07-07</th>\n",
       "      <td>0.997475</td>\n",
       "      <td>0.960492</td>\n",
       "    </tr>\n",
       "    <tr>\n",
       "      <th>2023-07-10</th>\n",
       "      <td>1.002531</td>\n",
       "      <td>1.016183</td>\n",
       "    </tr>\n",
       "  </tbody>\n",
       "</table>\n",
       "</div>"
      ],
      "text/plain": [
       "                 Ret          \n",
       "                 SPY      ^VIX\n",
       "Date                          \n",
       "2023-04-27  1.019908  0.903928\n",
       "2023-04-28  1.008535  0.926600\n",
       "2023-05-01  0.998990  1.019011\n",
       "2023-05-02  0.988761  1.105721\n",
       "2023-05-03  0.993136  1.031496\n",
       "2023-05-04  0.992917  1.095420\n",
       "2023-05-05  1.018513  0.855650\n",
       "2023-05-08  1.000266  0.987784\n",
       "2023-05-09  0.995615  1.042992\n",
       "2023-05-10  1.004672  0.956522\n",
       "2023-05-11  0.998256  0.999410\n",
       "2023-05-12  0.998690  1.005907\n",
       "2023-05-15  1.003450  1.005285\n",
       "2023-05-16  0.993317  1.050818\n",
       "2023-05-17  1.012139  0.937743\n",
       "2023-05-18  1.009633  0.951393\n",
       "2023-05-19  0.998545  1.047352\n",
       "2023-05-22  1.000406  1.023795\n",
       "2023-05-23  0.988777  1.076700\n",
       "2023-05-24  0.992755  1.080950\n",
       "2023-05-25  1.008660  0.955567\n",
       "2023-05-26  1.012951  0.937827\n",
       "2023-05-30  1.000381  0.972702\n",
       "2023-05-31  0.994455  1.027491\n",
       "2023-06-01  1.009501  0.872352\n",
       "2023-06-02  1.014461  0.932907\n",
       "2023-06-05  0.998084  1.008904\n",
       "2023-06-06  1.002177  0.947726\n",
       "2023-06-07  0.996542  0.998567\n",
       "2023-06-08  1.006049  0.979197\n",
       "2023-06-09  1.001794  1.013187\n",
       "2023-06-12  1.009072  1.085322\n",
       "2023-06-13  1.006593  0.973351\n",
       "2023-06-14  1.001191  0.950034\n",
       "2023-06-15  1.012398  1.044669\n",
       "2023-06-16  0.996594  0.933793\n",
       "2023-06-20  0.994812  1.025111\n",
       "2023-06-21  0.994876  0.951009\n",
       "2023-06-22  1.003610  0.978030\n",
       "2023-06-23  0.992440  1.041053\n",
       "2023-06-26  0.995914  1.060268\n",
       "2023-06-27  1.010963  0.964211\n",
       "2023-06-28  1.000504  0.977438\n",
       "2023-06-29  1.003941  1.008191\n",
       "2023-06-30  1.011801  1.003693\n",
       "2023-07-03  1.001151  0.998528\n",
       "2023-07-05  0.998513  1.044952\n",
       "2023-07-06  0.992169  1.088857\n",
       "2023-07-07  0.997475  0.960492\n",
       "2023-07-10  1.002531  1.016183"
      ]
     },
     "execution_count": 427,
     "metadata": {},
     "output_type": "execute_result"
    }
   ],
   "source": [
    "data[[('Ret', 'SPY'), ('Ret', '^VIX')]].tail(50)"
   ]
  },
  {
   "cell_type": "code",
   "execution_count": 434,
   "metadata": {},
   "outputs": [
    {
     "data": {
      "text/plain": [
       "Array([1.013761  , 0.97826207], dtype=float32)"
      ]
     },
     "execution_count": 434,
     "metadata": {},
     "output_type": "execute_result"
    }
   ],
   "source": [
    "model(jnp.array(data[[('Ret', 'SPY'), ('Ret', '^VIX')]].tail(50)))"
   ]
  },
  {
   "cell_type": "markdown",
   "metadata": {},
   "source": [
    "#### LSTM implementation X"
   ]
  },
  {
   "cell_type": "code",
   "execution_count": null,
   "metadata": {},
   "outputs": [],
   "source": [
    "import jax\n",
    "import jax.numpy as np\n",
    "from jax import random, grad, jit\n",
    "import optax\n",
    "\n",
    "class LSTM:\n",
    "    def __init__(self, hidden_size, output_size):\n",
    "        self.hidden_size = hidden_size\n",
    "        self.output_size = output_size\n",
    "\n",
    "    def initialize_params(self, rng):\n",
    "        k1, k2, k3, k4 = random.split(rng, 4)\n",
    "        input_init = np.sqrt(1.0 / self.hidden_size) * random.normal(k1, (self.hidden_size, self.hidden_size))\n",
    "        forget_init = np.sqrt(1.0 / self.hidden_size) * random.normal(k2, (self.hidden_size, self.hidden_size))\n",
    "        output_init = np.sqrt(1.0 / self.hidden_size) * random.normal(k3, (self.hidden_size, self.hidden_size))\n",
    "        cell_init = np.sqrt(1.0 / self.hidden_size) * random.normal(k4, (self.hidden_size, self.hidden_size))\n",
    "        output_weights_init = np.sqrt(1.0 / self.hidden_size) * random.normal(k1, (self.hidden_size, self.output_size))\n",
    "        return input_init, forget_init, output_init, cell_init, output_weights_init\n",
    "\n",
    "    def lstm_cell(self, carry, inputs):\n",
    "        hidden_state, cell_state = carry\n",
    "        concat_input = np.concatenate([inputs, hidden_state], axis=-1)\n",
    "        input_gate = np.sigmoid(np.dot(concat_input, self.input_weights))\n",
    "        forget_gate = np.sigmoid(np.dot(concat_input, self.forget_weights))\n",
    "        output_gate = np.sigmoid(np.dot(concat_input, self.output_weights))\n",
    "        cell_candidate = np.tanh(np.dot(concat_input, self.cell_weights))\n",
    "        new_cell_state = forget_gate * cell_state + input_gate * cell_candidate\n",
    "        new_hidden_state = output_gate * np.tanh(new_cell_state)\n",
    "        return new_hidden_state, (new_hidden_state, new_cell_state)\n",
    "\n",
    "    def forward(self, inputs, params):\n",
    "        self.input_weights, self.forget_weights, self.output_weights, self.cell_weights, self.output_weights = params\n",
    "        _, final_state = jax.lax.scan(self.lstm_cell, (np.zeros((inputs.shape[0], self.hidden_size)),\n",
    "                                                       np.zeros((inputs.shape[0], self.hidden_size))),\n",
    "                                      inputs)\n",
    "        return np.dot(final_state[0], self.output_weights)\n",
    "\n",
    "    def loss(self, inputs, targets, params):\n",
    "        predictions = self.forward(inputs, params)\n",
    "        return np.mean((predictions - targets) ** 2)\n",
    "\n",
    "    def update(self, inputs, targets, params, opt_state):\n",
    "        loss_value, grads = jax.value_and_grad(self.loss)(inputs, targets, params)\n",
    "        updates, new_opt_state = opt_update(grads, opt_state)\n",
    "        new_params = optax.apply_updates(params, updates)\n",
    "        return loss_value, new_params, new_opt_state"
   ]
  },
  {
   "cell_type": "code",
   "execution_count": null,
   "metadata": {},
   "outputs": [],
   "source": [
    "def train_lstm_model(model, inputs, targets, num_epochs, learning_rate, batch_size):\n",
    "    rng = jax.random.PRNGKey(0)\n",
    "    params = model.initialize_params(rng)\n",
    "#     opt_init, opt_update, get_params = optax.adam(learning_rate)\n",
    "    optim = optax.adam(learning_rate)\n",
    "    opt_state = optim.init(params)\n",
    "\n",
    "    @jit\n",
    "    def run_epoch(inputs, targets, params, opt_state):\n",
    "        num_batches = inputs.shape[0] // batch_size\n",
    "        losses = []\n",
    "        for batch_idx in range(num_batches):\n",
    "            batch_inputs = inputs[batch_idx * batch_size:(batch_idx + 1) * batch_size]\n",
    "            batch_targets = targets[batch_idx * batch_size:(batch_idx + 1) * batch_size]\n",
    "            loss_value, params, opt_state = model.update(batch_inputs, batch_targets, params, opt_state)\n",
    "            losses.append(loss_value)\n",
    "        return np.mean(losses), params, opt_state\n",
    "\n",
    "    for epoch in range(num_epochs):\n",
    "        loss_value, params, opt_state = run_epoch(inputs, targets, params, opt_state)\n",
    "        print(f\"Epoch {epoch + 1}/{num_epochs}, Loss: {loss_value}\")\n",
    "\n",
    "    return get_params(params)"
   ]
  },
  {
   "cell_type": "code",
   "execution_count": null,
   "metadata": {},
   "outputs": [],
   "source": [
    "# Prepare your time series data (inputs and targets)\n",
    "\n",
    "# Define hyperparameters\n",
    "num_epochs = 100\n",
    "learning_rate = 0.001\n",
    "batch_size = 32\n",
    "hidden_size = 64\n",
    "output_size = 1\n",
    "\n",
    "# Create an instance of the LSTM model\n",
    "model = LSTM(hidden_size, output_size)\n",
    "\n",
    "# Train the LSTM model\n",
    "trained_params = train_lstm_model(model, inputs, targets, num_epochs, learning_rate, batch_size)"
   ]
  },
  {
   "cell_type": "code",
   "execution_count": null,
   "metadata": {},
   "outputs": [],
   "source": []
  },
  {
   "cell_type": "code",
   "execution_count": 150,
   "metadata": {},
   "outputs": [],
   "source": [
    "import jax\n",
    "import jax.numpy as np\n",
    "from jax import random, grad, jit\n",
    "import optax\n",
    "\n",
    "class LSTM:\n",
    "    def __init__(self, input_size, hidden_size, output_size):\n",
    "        self.input_size = input_size\n",
    "        self.hidden_size = hidden_size\n",
    "        self.output_size = output_size\n",
    "\n",
    "    def initialize_params(self, rng):\n",
    "        k1, k2, k3, k4 = random.split(rng, 4)\n",
    "        input_init = np.sqrt(1.0 / self.hidden_size) * random.normal(k1, (self.input_size, self.hidden_size))\n",
    "        forget_init = np.sqrt(1.0 / self.hidden_size) * random.normal(k2, (self.input_size, self.hidden_size))\n",
    "        output_init = np.sqrt(1.0 / self.hidden_size) * random.normal(k3, (self.input_size, self.hidden_size))\n",
    "        cell_init = np.sqrt(1.0 / self.hidden_size) * random.normal(k4, (self.input_size, self.hidden_size))\n",
    "        output_weights_init = np.sqrt(1.0 / self.hidden_size) * random.normal(k1, (self.hidden_size, self.output_size))\n",
    "        return input_init, forget_init, output_init, cell_init, output_weights_init\n",
    "\n",
    "    def lstm_cell(self, carry, inputs):\n",
    "        hidden_state, cell_state = carry\n",
    "        #concat_input = np.concatenate([inputs, hidden_state], axis=-1)\n",
    "        input_gate = jax.nn.sigmoid(inputs@self.input_weights)\n",
    "        forget_gate = jax.nn.sigmoid(np.dot(inputs, self.forget_weights))\n",
    "        output_gate = jax.nn.sigmoid(np.dot(inputs, self.output_weights))\n",
    "        cell_candidate = jax.nn.tanh(np.dot(inputs, self.cell_weights))\n",
    "        new_cell_state = forget_gate * cell_state + input_gate * cell_candidate\n",
    "        new_hidden_state = output_gate * jax.nn.tanh(new_cell_state)\n",
    "        return new_hidden_state, (new_hidden_state, new_cell_state)\n",
    "\n",
    "    def forward(self, inputs, params):\n",
    "        self.input_weights, self.forget_weights, self.output_weights, self.cell_weights, self.output_weights = params\n",
    "        print(inputs.shape[0], self.hidden_size)\n",
    "        _, final_state = jax.lax.scan(self.lstm_cell, (np.zeros((inputs.shape[0], self.hidden_size)),\n",
    "                                                       np.zeros((inputs.shape[0], self.hidden_size))),\n",
    "                                      inputs)\n",
    "        return np.dot(final_state[0], self.output_weights)\n",
    "\n",
    "    def loss(self, inputs, targets, params):\n",
    "        predictions = self.forward(inputs, params)\n",
    "        return np.mean((predictions - targets) ** 2)\n",
    "\n",
    "    def update(self, inputs, targets, params, opt_state):\n",
    "        loss_value, grads = jax.value_and_grad(self.loss)(inputs, targets, params)\n",
    "        updates, new_opt_state = opt_update(grads, opt_state)\n",
    "        new_params = optax.apply_updates(params, updates)\n",
    "        return loss_value, new_params, new_opt_state"
   ]
  },
  {
   "cell_type": "code",
   "execution_count": 151,
   "metadata": {},
   "outputs": [],
   "source": [
    "input_size = 50\n",
    "hidden_size = 64\n",
    "output_size = 2\n",
    "model = LSTM(input_size, hidden_size, output_size)"
   ]
  },
  {
   "cell_type": "code",
   "execution_count": 152,
   "metadata": {},
   "outputs": [
    {
     "data": {
      "text/plain": [
       "[(50, 64), (50, 64), (50, 64), (50, 64), (64, 2)]"
      ]
     },
     "execution_count": 152,
     "metadata": {},
     "output_type": "execute_result"
    }
   ],
   "source": [
    "rng = jax.random.PRNGKey(0)\n",
    "params = model.initialize_params(rng)\n",
    "list(map(lambda i: i.shape, params))"
   ]
  },
  {
   "cell_type": "code",
   "execution_count": 153,
   "metadata": {},
   "outputs": [
    {
     "data": {
      "text/plain": [
       "(4, 64)"
      ]
     },
     "execution_count": 153,
     "metadata": {},
     "output_type": "execute_result"
    }
   ],
   "source": [
    "jax.nn.sigmoid(np.array(df[0:50]).transpose()@params[0]).shape"
   ]
  },
  {
   "cell_type": "code",
   "execution_count": 154,
   "metadata": {},
   "outputs": [
    {
     "data": {
      "text/plain": [
       "(4, 64)"
      ]
     },
     "execution_count": 154,
     "metadata": {},
     "output_type": "execute_result"
    }
   ],
   "source": [
    "jax.nn.sigmoid(np.dot(np.array(df[0:50]).transpose(), params[0])).shape"
   ]
  },
  {
   "cell_type": "code",
   "execution_count": 155,
   "metadata": {},
   "outputs": [
    {
     "name": "stdout",
     "output_type": "stream",
     "text": [
      "4 64\n"
     ]
    },
    {
     "ename": "TypeError",
     "evalue": "Incompatible shapes for dot: got (50,) and (64, 2).",
     "output_type": "error",
     "traceback": [
      "\u001b[0;31m---------------------------------------------------------------------------\u001b[0m",
      "\u001b[0;31mTypeError\u001b[0m                                 Traceback (most recent call last)",
      "Cell \u001b[0;32mIn[155], line 1\u001b[0m\n\u001b[0;32m----> 1\u001b[0m model\u001b[38;5;241m.\u001b[39mforward(np\u001b[38;5;241m.\u001b[39marray(df[\u001b[38;5;241m0\u001b[39m:\u001b[38;5;241m50\u001b[39m])\u001b[38;5;241m.\u001b[39mtranspose(), params)\n",
      "Cell \u001b[0;32mIn[150], line 35\u001b[0m, in \u001b[0;36mLSTM.forward\u001b[0;34m(self, inputs, params)\u001b[0m\n\u001b[1;32m     33\u001b[0m \u001b[38;5;28mself\u001b[39m\u001b[38;5;241m.\u001b[39minput_weights, \u001b[38;5;28mself\u001b[39m\u001b[38;5;241m.\u001b[39mforget_weights, \u001b[38;5;28mself\u001b[39m\u001b[38;5;241m.\u001b[39moutput_weights, \u001b[38;5;28mself\u001b[39m\u001b[38;5;241m.\u001b[39mcell_weights, \u001b[38;5;28mself\u001b[39m\u001b[38;5;241m.\u001b[39moutput_weights \u001b[38;5;241m=\u001b[39m params\n\u001b[1;32m     34\u001b[0m \u001b[38;5;28mprint\u001b[39m(inputs\u001b[38;5;241m.\u001b[39mshape[\u001b[38;5;241m0\u001b[39m], \u001b[38;5;28mself\u001b[39m\u001b[38;5;241m.\u001b[39mhidden_size)\n\u001b[0;32m---> 35\u001b[0m _, final_state \u001b[38;5;241m=\u001b[39m jax\u001b[38;5;241m.\u001b[39mlax\u001b[38;5;241m.\u001b[39mscan(\u001b[38;5;28mself\u001b[39m\u001b[38;5;241m.\u001b[39mlstm_cell, (np\u001b[38;5;241m.\u001b[39mzeros((inputs\u001b[38;5;241m.\u001b[39mshape[\u001b[38;5;241m0\u001b[39m], \u001b[38;5;28mself\u001b[39m\u001b[38;5;241m.\u001b[39mhidden_size)),\n\u001b[1;32m     36\u001b[0m                                                np\u001b[38;5;241m.\u001b[39mzeros((inputs\u001b[38;5;241m.\u001b[39mshape[\u001b[38;5;241m0\u001b[39m], \u001b[38;5;28mself\u001b[39m\u001b[38;5;241m.\u001b[39mhidden_size))),\n\u001b[1;32m     37\u001b[0m                               inputs)\n\u001b[1;32m     38\u001b[0m \u001b[38;5;28;01mreturn\u001b[39;00m np\u001b[38;5;241m.\u001b[39mdot(final_state[\u001b[38;5;241m0\u001b[39m], \u001b[38;5;28mself\u001b[39m\u001b[38;5;241m.\u001b[39moutput_weights)\n",
      "    \u001b[0;31m[... skipping hidden 9 frame]\u001b[0m\n",
      "Cell \u001b[0;32mIn[150], line 26\u001b[0m, in \u001b[0;36mLSTM.lstm_cell\u001b[0;34m(self, carry, inputs)\u001b[0m\n\u001b[1;32m     24\u001b[0m input_gate \u001b[38;5;241m=\u001b[39m jax\u001b[38;5;241m.\u001b[39mnn\u001b[38;5;241m.\u001b[39msigmoid(inputs\u001b[38;5;129m@self\u001b[39m\u001b[38;5;241m.\u001b[39minput_weights)\n\u001b[1;32m     25\u001b[0m forget_gate \u001b[38;5;241m=\u001b[39m jax\u001b[38;5;241m.\u001b[39mnn\u001b[38;5;241m.\u001b[39msigmoid(np\u001b[38;5;241m.\u001b[39mdot(inputs, \u001b[38;5;28mself\u001b[39m\u001b[38;5;241m.\u001b[39mforget_weights))\n\u001b[0;32m---> 26\u001b[0m output_gate \u001b[38;5;241m=\u001b[39m jax\u001b[38;5;241m.\u001b[39mnn\u001b[38;5;241m.\u001b[39msigmoid(np\u001b[38;5;241m.\u001b[39mdot(inputs, \u001b[38;5;28mself\u001b[39m\u001b[38;5;241m.\u001b[39moutput_weights))\n\u001b[1;32m     27\u001b[0m cell_candidate \u001b[38;5;241m=\u001b[39m jax\u001b[38;5;241m.\u001b[39mnn\u001b[38;5;241m.\u001b[39mtanh(np\u001b[38;5;241m.\u001b[39mdot(inputs, \u001b[38;5;28mself\u001b[39m\u001b[38;5;241m.\u001b[39mcell_weights))\n\u001b[1;32m     28\u001b[0m new_cell_state \u001b[38;5;241m=\u001b[39m forget_gate \u001b[38;5;241m*\u001b[39m cell_state \u001b[38;5;241m+\u001b[39m input_gate \u001b[38;5;241m*\u001b[39m cell_candidate\n",
      "    \u001b[0;31m[... skipping hidden 12 frame]\u001b[0m\n",
      "File \u001b[0;32m~/miniconda3/envs/options/lib/python3.11/site-packages/jax/_src/numpy/lax_numpy.py:3021\u001b[0m, in \u001b[0;36mdot\u001b[0;34m(a, b, precision)\u001b[0m\n\u001b[1;32m   3019\u001b[0m   \u001b[38;5;28;01mreturn\u001b[39;00m lax\u001b[38;5;241m.\u001b[39mmul(a, b)\n\u001b[1;32m   3020\u001b[0m \u001b[38;5;28;01mif\u001b[39;00m \u001b[38;5;28mmax\u001b[39m(a_ndim, b_ndim) \u001b[38;5;241m<\u001b[39m\u001b[38;5;241m=\u001b[39m \u001b[38;5;241m2\u001b[39m:\n\u001b[0;32m-> 3021\u001b[0m   \u001b[38;5;28;01mreturn\u001b[39;00m lax\u001b[38;5;241m.\u001b[39mdot(a, b, precision\u001b[38;5;241m=\u001b[39mprecision)\n\u001b[1;32m   3023\u001b[0m \u001b[38;5;28;01mif\u001b[39;00m b_ndim \u001b[38;5;241m==\u001b[39m \u001b[38;5;241m1\u001b[39m:\n\u001b[1;32m   3024\u001b[0m   contract_dims \u001b[38;5;241m=\u001b[39m ((a_ndim \u001b[38;5;241m-\u001b[39m \u001b[38;5;241m1\u001b[39m,), (\u001b[38;5;241m0\u001b[39m,))\n",
      "File \u001b[0;32m~/miniconda3/envs/options/lib/python3.11/site-packages/jax/_src/lax/lax.py:698\u001b[0m, in \u001b[0;36mdot\u001b[0;34m(lhs, rhs, precision, preferred_element_type)\u001b[0m\n\u001b[1;32m    694\u001b[0m   \u001b[38;5;28;01mreturn\u001b[39;00m dot_general(lhs, rhs, (((lhs\u001b[38;5;241m.\u001b[39mndim \u001b[38;5;241m-\u001b[39m \u001b[38;5;241m1\u001b[39m,), (\u001b[38;5;241m0\u001b[39m,)), ((), ())),\n\u001b[1;32m    695\u001b[0m                      precision\u001b[38;5;241m=\u001b[39mprecision,\n\u001b[1;32m    696\u001b[0m                      preferred_element_type\u001b[38;5;241m=\u001b[39mpreferred_element_type)\n\u001b[1;32m    697\u001b[0m \u001b[38;5;28;01melse\u001b[39;00m:\n\u001b[0;32m--> 698\u001b[0m   \u001b[38;5;28;01mraise\u001b[39;00m \u001b[38;5;167;01mTypeError\u001b[39;00m(\u001b[38;5;124m\"\u001b[39m\u001b[38;5;124mIncompatible shapes for dot: got \u001b[39m\u001b[38;5;132;01m{}\u001b[39;00m\u001b[38;5;124m and \u001b[39m\u001b[38;5;132;01m{}\u001b[39;00m\u001b[38;5;124m.\u001b[39m\u001b[38;5;124m\"\u001b[39m\u001b[38;5;241m.\u001b[39mformat(\n\u001b[1;32m    699\u001b[0m       lhs\u001b[38;5;241m.\u001b[39mshape, rhs\u001b[38;5;241m.\u001b[39mshape))\n",
      "\u001b[0;31mTypeError\u001b[0m: Incompatible shapes for dot: got (50,) and (64, 2)."
     ]
    }
   ],
   "source": [
    "model.forward(np.array(df[0:50]).transpose(), params)"
   ]
  },
  {
   "cell_type": "code",
   "execution_count": 132,
   "metadata": {},
   "outputs": [
    {
     "ename": "TypeError",
     "evalue": "dot_general requires contracting dimensions to have the same shape, got (64,) and (50,).",
     "output_type": "error",
     "traceback": [
      "\u001b[0;31m---------------------------------------------------------------------------\u001b[0m",
      "\u001b[0;31mTypeError\u001b[0m                                 Traceback (most recent call last)",
      "Cell \u001b[0;32mIn[132], line 1\u001b[0m\n\u001b[0;32m----> 1\u001b[0m params[\u001b[38;5;241m0\u001b[39m]\u001b[38;5;129m@np\u001b[39m\u001b[38;5;241m.\u001b[39marray(df[\u001b[38;5;241m0\u001b[39m:\u001b[38;5;241m50\u001b[39m])\n",
      "File \u001b[0;32m~/miniconda3/envs/options/lib/python3.11/site-packages/jax/_src/numpy/array_methods.py:258\u001b[0m, in \u001b[0;36m_defer_to_unrecognized_arg.<locals>.deferring_binary_op\u001b[0;34m(self, other)\u001b[0m\n\u001b[1;32m    256\u001b[0m args \u001b[38;5;241m=\u001b[39m (other, \u001b[38;5;28mself\u001b[39m) \u001b[38;5;28;01mif\u001b[39;00m swap \u001b[38;5;28;01melse\u001b[39;00m (\u001b[38;5;28mself\u001b[39m, other)\n\u001b[1;32m    257\u001b[0m \u001b[38;5;28;01mif\u001b[39;00m \u001b[38;5;28misinstance\u001b[39m(other, _accepted_binop_types):\n\u001b[0;32m--> 258\u001b[0m   \u001b[38;5;28;01mreturn\u001b[39;00m binary_op(\u001b[38;5;241m*\u001b[39margs)\n\u001b[1;32m    259\u001b[0m \u001b[38;5;28;01mif\u001b[39;00m \u001b[38;5;28misinstance\u001b[39m(other, _rejected_binop_types):\n\u001b[1;32m    260\u001b[0m   \u001b[38;5;28;01mraise\u001b[39;00m \u001b[38;5;167;01mTypeError\u001b[39;00m(\u001b[38;5;124mf\u001b[39m\u001b[38;5;124m\"\u001b[39m\u001b[38;5;124munsupported operand type(s) for \u001b[39m\u001b[38;5;132;01m{\u001b[39;00mopchar\u001b[38;5;132;01m}\u001b[39;00m\u001b[38;5;124m: \u001b[39m\u001b[38;5;124m\"\u001b[39m\n\u001b[1;32m    261\u001b[0m                   \u001b[38;5;124mf\u001b[39m\u001b[38;5;124m\"\u001b[39m\u001b[38;5;132;01m{\u001b[39;00m\u001b[38;5;28mtype\u001b[39m(args[\u001b[38;5;241m0\u001b[39m])\u001b[38;5;241m.\u001b[39m\u001b[38;5;18m__name__\u001b[39m\u001b[38;5;132;01m!r}\u001b[39;00m\u001b[38;5;124m and \u001b[39m\u001b[38;5;132;01m{\u001b[39;00m\u001b[38;5;28mtype\u001b[39m(args[\u001b[38;5;241m1\u001b[39m])\u001b[38;5;241m.\u001b[39m\u001b[38;5;18m__name__\u001b[39m\u001b[38;5;132;01m!r}\u001b[39;00m\u001b[38;5;124m\"\u001b[39m)\n",
      "    \u001b[0;31m[... skipping hidden 12 frame]\u001b[0m\n",
      "File \u001b[0;32m~/miniconda3/envs/options/lib/python3.11/site-packages/jax/_src/numpy/lax_numpy.py:3088\u001b[0m, in \u001b[0;36mmatmul\u001b[0;34m(a, b, precision)\u001b[0m\n\u001b[1;32m   3086\u001b[0m a \u001b[38;5;241m=\u001b[39m lax\u001b[38;5;241m.\u001b[39msqueeze(a, \u001b[38;5;28mtuple\u001b[39m(a_squeeze))\n\u001b[1;32m   3087\u001b[0m b \u001b[38;5;241m=\u001b[39m lax\u001b[38;5;241m.\u001b[39msqueeze(b, \u001b[38;5;28mtuple\u001b[39m(b_squeeze))\n\u001b[0;32m-> 3088\u001b[0m out \u001b[38;5;241m=\u001b[39m lax\u001b[38;5;241m.\u001b[39mdot_general(\n\u001b[1;32m   3089\u001b[0m   a, b, (((ndim(a) \u001b[38;5;241m-\u001b[39m \u001b[38;5;241m1\u001b[39m,), (ndim(b) \u001b[38;5;241m-\u001b[39m \u001b[38;5;241m1\u001b[39m \u001b[38;5;241m-\u001b[39m b_is_mat,)), (a_batch, b_batch)),\n\u001b[1;32m   3090\u001b[0m   precision\u001b[38;5;241m=\u001b[39mprecision)\n\u001b[1;32m   3091\u001b[0m \u001b[38;5;28;01mreturn\u001b[39;00m lax\u001b[38;5;241m.\u001b[39mtranspose(out, perm)\n",
      "    \u001b[0;31m[... skipping hidden 7 frame]\u001b[0m\n",
      "File \u001b[0;32m~/miniconda3/envs/options/lib/python3.11/site-packages/jax/_src/lax/lax.py:2463\u001b[0m, in \u001b[0;36m_dot_general_shape_rule\u001b[0;34m(lhs, rhs, dimension_numbers, precision, preferred_element_type)\u001b[0m\n\u001b[1;32m   2460\u001b[0m \u001b[38;5;28;01mif\u001b[39;00m \u001b[38;5;129;01mnot\u001b[39;00m core\u001b[38;5;241m.\u001b[39msymbolic_equal_shape(lhs_contracting_shape, rhs_contracting_shape):\n\u001b[1;32m   2461\u001b[0m   msg \u001b[38;5;241m=\u001b[39m (\u001b[38;5;124m\"\u001b[39m\u001b[38;5;124mdot_general requires contracting dimensions to have the same \u001b[39m\u001b[38;5;124m\"\u001b[39m\n\u001b[1;32m   2462\u001b[0m          \u001b[38;5;124m\"\u001b[39m\u001b[38;5;124mshape, got \u001b[39m\u001b[38;5;132;01m{}\u001b[39;00m\u001b[38;5;124m and \u001b[39m\u001b[38;5;132;01m{}\u001b[39;00m\u001b[38;5;124m.\u001b[39m\u001b[38;5;124m\"\u001b[39m)\n\u001b[0;32m-> 2463\u001b[0m   \u001b[38;5;28;01mraise\u001b[39;00m \u001b[38;5;167;01mTypeError\u001b[39;00m(msg\u001b[38;5;241m.\u001b[39mformat(lhs_contracting_shape, rhs_contracting_shape))\n\u001b[1;32m   2465\u001b[0m \u001b[38;5;28;01mreturn\u001b[39;00m _dot_general_shape_computation(lhs\u001b[38;5;241m.\u001b[39mshape, rhs\u001b[38;5;241m.\u001b[39mshape, dimension_numbers)\n",
      "\u001b[0;31mTypeError\u001b[0m: dot_general requires contracting dimensions to have the same shape, got (64,) and (50,)."
     ]
    }
   ],
   "source": [
    "params[0]@np.array(df[0:50])"
   ]
  },
  {
   "cell_type": "code",
   "execution_count": 124,
   "metadata": {},
   "outputs": [
    {
     "data": {
      "text/plain": [
       "(4, 64)"
      ]
     },
     "execution_count": 124,
     "metadata": {},
     "output_type": "execute_result"
    }
   ],
   "source": [
    "(np.array(df[0:50]).transpose()@params[0]).shape"
   ]
  },
  {
   "cell_type": "code",
   "execution_count": null,
   "metadata": {},
   "outputs": [],
   "source": []
  },
  {
   "cell_type": "code",
   "execution_count": null,
   "metadata": {},
   "outputs": [],
   "source": []
  },
  {
   "cell_type": "code",
   "execution_count": 83,
   "metadata": {},
   "outputs": [
    {
     "data": {
      "text/plain": [
       "jaxlib.xla_extension.ArrayImpl"
      ]
     },
     "execution_count": 83,
     "metadata": {},
     "output_type": "execute_result"
    }
   ],
   "source": [
    "type(np.array(df[0:100]))"
   ]
  },
  {
   "cell_type": "code",
   "execution_count": 84,
   "metadata": {},
   "outputs": [
    {
     "name": "stdout",
     "output_type": "stream",
     "text": [
      "(100, 64) (4,)\n"
     ]
    },
    {
     "ename": "ValueError",
     "evalue": "too many values to unpack (expected 2)",
     "output_type": "error",
     "traceback": [
      "\u001b[0;31m---------------------------------------------------------------------------\u001b[0m",
      "\u001b[0;31mValueError\u001b[0m                                Traceback (most recent call last)",
      "Cell \u001b[0;32mIn[84], line 1\u001b[0m\n\u001b[0;32m----> 1\u001b[0m model\u001b[38;5;241m.\u001b[39mforward(np\u001b[38;5;241m.\u001b[39marray(df[\u001b[38;5;241m0\u001b[39m:\u001b[38;5;241m100\u001b[39m]))\n",
      "Cell \u001b[0;32mIn[79], line 30\u001b[0m, in \u001b[0;36mLSTM.forward\u001b[0;34m(self, inputs)\u001b[0m\n\u001b[1;32m     28\u001b[0m \u001b[38;5;28;01mdef\u001b[39;00m \u001b[38;5;21mforward\u001b[39m(\u001b[38;5;28mself\u001b[39m, inputs):\n\u001b[1;32m     29\u001b[0m     initial_state \u001b[38;5;241m=\u001b[39m np\u001b[38;5;241m.\u001b[39mzeros((inputs\u001b[38;5;241m.\u001b[39mshape[\u001b[38;5;241m0\u001b[39m], \u001b[38;5;28mself\u001b[39m\u001b[38;5;241m.\u001b[39mhidden_size))\n\u001b[0;32m---> 30\u001b[0m     _, final_state \u001b[38;5;241m=\u001b[39m jax\u001b[38;5;241m.\u001b[39mlax\u001b[38;5;241m.\u001b[39mscan(\u001b[38;5;28mself\u001b[39m\u001b[38;5;241m.\u001b[39mlstm_cell, initial_state, inputs)\n\u001b[1;32m     31\u001b[0m     \u001b[38;5;28;01mreturn\u001b[39;00m np\u001b[38;5;241m.\u001b[39mdot(final_state[\u001b[38;5;241m0\u001b[39m], \u001b[38;5;28mself\u001b[39m\u001b[38;5;241m.\u001b[39mW_ho)\n",
      "    \u001b[0;31m[... skipping hidden 9 frame]\u001b[0m\n",
      "Cell \u001b[0;32mIn[79], line 21\u001b[0m, in \u001b[0;36mLSTM.lstm_cell\u001b[0;34m(self, carry, inputs)\u001b[0m\n\u001b[1;32m     19\u001b[0m \u001b[38;5;28;01mdef\u001b[39;00m \u001b[38;5;21mlstm_cell\u001b[39m(\u001b[38;5;28mself\u001b[39m, carry, inputs):\n\u001b[1;32m     20\u001b[0m     \u001b[38;5;28mprint\u001b[39m(carry\u001b[38;5;241m.\u001b[39mshape, inputs\u001b[38;5;241m.\u001b[39mshape)\n\u001b[0;32m---> 21\u001b[0m     hidden_state, cell_state \u001b[38;5;241m=\u001b[39m carry\n\u001b[1;32m     22\u001b[0m     gates \u001b[38;5;241m=\u001b[39m np\u001b[38;5;241m.\u001b[39mdot(inputs, \u001b[38;5;28mself\u001b[39m\u001b[38;5;241m.\u001b[39mW_ih) \u001b[38;5;241m+\u001b[39m np\u001b[38;5;241m.\u001b[39mdot(hidden_state, \u001b[38;5;28mself\u001b[39m\u001b[38;5;241m.\u001b[39mW_fh) \u001b[38;5;241m+\u001b[39m np\u001b[38;5;241m.\u001b[39mdot(cell_state, \u001b[38;5;28mself\u001b[39m\u001b[38;5;241m.\u001b[39mW_ch)\n\u001b[1;32m     23\u001b[0m     i, f, c, o \u001b[38;5;241m=\u001b[39m np\u001b[38;5;241m.\u001b[39msplit(gates, \u001b[38;5;241m4\u001b[39m, axis\u001b[38;5;241m=\u001b[39m\u001b[38;5;241m-\u001b[39m\u001b[38;5;241m1\u001b[39m)\n",
      "\u001b[0;31mValueError\u001b[0m: too many values to unpack (expected 2)"
     ]
    }
   ],
   "source": [
    "model.forward(np.array(df[0:100]))"
   ]
  },
  {
   "cell_type": "code",
   "execution_count": null,
   "metadata": {},
   "outputs": [],
   "source": []
  },
  {
   "cell_type": "code",
   "execution_count": null,
   "metadata": {},
   "outputs": [],
   "source": []
  },
  {
   "cell_type": "code",
   "execution_count": null,
   "metadata": {},
   "outputs": [],
   "source": []
  },
  {
   "cell_type": "code",
   "execution_count": null,
   "metadata": {},
   "outputs": [],
   "source": [
    "# Prepare your time series data (inputs and targets)\n",
    "\n",
    "# Define hyperparameters\n",
    "num_epochs = 100\n",
    "learning_rate = 0.001\n",
    "batch_size = 32\n",
    "hidden_size = 64\n",
    "output_size = 1\n",
    "\n",
    "# Train the LSTM model\n",
    "trained_params = train_lstm_model(inputs, targets, num_epochs, learning_rate, batch_size, hidden_size, output_size)\n"
   ]
  },
  {
   "cell_type": "code",
   "execution_count": null,
   "metadata": {},
   "outputs": [],
   "source": []
  },
  {
   "cell_type": "code",
   "execution_count": null,
   "metadata": {},
   "outputs": [],
   "source": []
  },
  {
   "cell_type": "code",
   "execution_count": null,
   "metadata": {},
   "outputs": [],
   "source": []
  },
  {
   "cell_type": "code",
   "execution_count": 85,
   "metadata": {},
   "outputs": [
    {
     "ename": "AttributeError",
     "evalue": "module 'jax.nn' has no attribute 'Module'",
     "output_type": "error",
     "traceback": [
      "\u001b[0;31m---------------------------------------------------------------------------\u001b[0m",
      "\u001b[0;31mAttributeError\u001b[0m                            Traceback (most recent call last)",
      "Cell \u001b[0;32mIn[85], line 4\u001b[0m\n\u001b[1;32m      1\u001b[0m \u001b[38;5;28;01mimport\u001b[39;00m \u001b[38;5;21;01mjax\u001b[39;00m\u001b[38;5;21;01m.\u001b[39;00m\u001b[38;5;21;01mnumpy\u001b[39;00m \u001b[38;5;28;01mas\u001b[39;00m \u001b[38;5;21;01mjnp\u001b[39;00m\n\u001b[1;32m      2\u001b[0m \u001b[38;5;28;01mimport\u001b[39;00m \u001b[38;5;21;01moptax\u001b[39;00m\n\u001b[0;32m----> 4\u001b[0m \u001b[38;5;28;01mclass\u001b[39;00m \u001b[38;5;21;01mLSTM\u001b[39;00m(jax\u001b[38;5;241m.\u001b[39mnn\u001b[38;5;241m.\u001b[39mModule):\n\u001b[1;32m      6\u001b[0m     \u001b[38;5;28;01mdef\u001b[39;00m \u001b[38;5;21m__init__\u001b[39m(\u001b[38;5;28mself\u001b[39m, hidden_size, num_layers):\n\u001b[1;32m      7\u001b[0m         \u001b[38;5;28msuper\u001b[39m()\u001b[38;5;241m.\u001b[39m\u001b[38;5;21m__init__\u001b[39m()\n",
      "\u001b[0;31mAttributeError\u001b[0m: module 'jax.nn' has no attribute 'Module'"
     ]
    }
   ],
   "source": [
    "import jax.numpy as jnp\n",
    "import optax\n",
    "\n",
    "class LSTM(jax.nn.Module):\n",
    "\n",
    "    def __init__(self, hidden_size, num_layers):\n",
    "        super().__init__()\n",
    "        self.hidden_size = hidden_size\n",
    "        self.num_layers = num_layers\n",
    "\n",
    "        self.W_i = jax.nn.Dense(hidden_size, activation=\"relu\")\n",
    "        self.W_f = jax.nn.Dense(hidden_size, activation=\"relu\")\n",
    "        self.W_o = jax.nn.Dense(hidden_size, activation=\"relu\")\n",
    "        self.W_c = jax.nn.Dense(hidden_size, activation=\"relu\")\n",
    "\n",
    "    def __call__(self, x, h, c):\n",
    "        # x is the input sequence, h is the hidden state, and c is the cell state\n",
    "\n",
    "        # Compute the forget gate\n",
    "        f = self.W_f(x) * h\n",
    "\n",
    "        # Compute the input gate\n",
    "        i = self.W_i(x) * h\n",
    "\n",
    "        # Compute the output gate\n",
    "        o = self.W_o(x) * h\n",
    "\n",
    "        # Compute the new cell state\n",
    "        c_new = f * c + i * self.W_c(x)\n",
    "\n",
    "        # Compute the new hidden state\n",
    "        h_new = o * jnp.tanh(c_new)\n",
    "\n",
    "        return h_new, c_new\n"
   ]
  },
  {
   "cell_type": "code",
   "execution_count": null,
   "metadata": {},
   "outputs": [],
   "source": []
  }
 ],
 "metadata": {
  "colab": {
   "provenance": []
  },
  "gpuClass": "standard",
  "kernelspec": {
   "display_name": "options",
   "language": "python",
   "name": "options"
  },
  "language_info": {
   "codemirror_mode": {
    "name": "ipython",
    "version": 3
   },
   "file_extension": ".py",
   "mimetype": "text/x-python",
   "name": "python",
   "nbconvert_exporter": "python",
   "pygments_lexer": "ipython3",
   "version": "3.11.3"
  }
 },
 "nbformat": 4,
 "nbformat_minor": 1
}
