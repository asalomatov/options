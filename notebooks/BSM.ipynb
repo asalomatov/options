{
 "cells": [
  {
   "cell_type": "code",
   "execution_count": 3,
   "metadata": {},
   "outputs": [
    {
     "data": {
      "text/plain": [
       "OrderedDict([('Value', 9.925053717274437),\n",
       "             ('d1', 0.3),\n",
       "             ('d2', 0.09999999999999998),\n",
       "             ('Delta', 0.6179114221889526),\n",
       "             ('Gamma', 0.019069390773026208),\n",
       "             ('Vega', 38.138781546052414),\n",
       "             ('Theta', -5.888521694670074),\n",
       "             ('Rho', 51.86608850162082),\n",
       "             ('Omega', 6.225774084360724)])"
      ]
     },
     "execution_count": 3,
     "metadata": {},
     "output_type": "execute_result"
    }
   ],
   "source": [
    "from pyfinance.options import BSM\n",
    "import datetime\n",
    "op = BSM(S0=100, K=100, T=1, r=.04, sigma=.2)\n",
    "op.summary()"
   ]
  },
  {
   "cell_type": "code",
   "execution_count": 22,
   "metadata": {},
   "outputs": [
    {
     "data": {
      "text/plain": [
       "OrderedDict([('Value', 0.3939592131558989),\n",
       "             ('d1', -0.9836377898976464),\n",
       "             ('d2', -1.0304542487760986),\n",
       "             ('Delta', 0.16264681874810338),\n",
       "             ('Gamma', 0.052530573967688884),\n",
       "             ('Vega', 5.756775229335767),\n",
       "             ('Theta', -10.98223647338741),\n",
       "             ('Rho', 0.8696286389947638),\n",
       "             ('Omega', 41.285192303331215)])"
      ]
     },
     "execution_count": 22,
     "metadata": {},
     "output_type": "execute_result"
    }
   ],
   "source": [
    "op = BSM(S0=100, K=105, T=20/365, r=.03, sigma=.2)\n",
    "op.summary()\n"
   ]
  },
  {
   "cell_type": "code",
   "execution_count": 27,
   "metadata": {},
   "outputs": [
    {
     "data": {
      "text/plain": [
       "OrderedDict([('Value', 0.3639349908658769),\n",
       "             ('d1', -1.0121931208110313),\n",
       "             ('d2', -1.0578241604750793),\n",
       "             ('Delta', 0.155722862369441),\n",
       "             ('Gamma', 0.052381119029115554),\n",
       "             ('Vega', 5.4533767756339495),\n",
       "             ('Theta', -10.93247434320546),\n",
       "             ('Rho', 0.7916675991109211),\n",
       "             ('Omega', 42.788648049187024)])"
      ]
     },
     "execution_count": 27,
     "metadata": {},
     "output_type": "execute_result"
    }
   ],
   "source": [
    "op1 = BSM(S0=100, K=105, T=19/365, r=.03, sigma=.2)\n",
    "op1.summary()"
   ]
  },
  {
   "cell_type": "code",
   "execution_count": 28,
   "metadata": {},
   "outputs": [
    {
     "data": {
      "text/plain": [
       "0.3638708940507279"
      ]
     },
     "execution_count": 28,
     "metadata": {},
     "output_type": "execute_result"
    }
   ],
   "source": [
    "op.value() + op.theta()*1/365"
   ]
  },
  {
   "cell_type": "code",
   "execution_count": 2,
   "metadata": {},
   "outputs": [],
   "source": []
  },
  {
   "cell_type": "code",
   "execution_count": 273,
   "metadata": {},
   "outputs": [],
   "source": [
    "t_exp = datetime.datetime(2023, 2, 17)\n",
    "t_0 = datetime.datetime(2023, 2, 13)"
   ]
  },
  {
   "cell_type": "code",
   "execution_count": 274,
   "metadata": {},
   "outputs": [
    {
     "data": {
      "text/plain": [
       "0.010958904109589041"
      ]
     },
     "execution_count": 274,
     "metadata": {},
     "output_type": "execute_result"
    }
   ],
   "source": [
    "(t_exp - t_0).days/365"
   ]
  },
  {
   "cell_type": "code",
   "execution_count": 111,
   "metadata": {},
   "outputs": [],
   "source": [
    "ret = 1\n",
    "S0=109.26\n",
    "op_XOM_110 = BSM(S0=S0*ret, K=110, T=(t_exp - t_0).days/365, r=.03, sigma=.32, kind='put')\n",
    "op_XOM_108 = BSM(S0=S0*ret, K=108, T=(t_exp - t_0).days/365, r=.03, sigma=.35, kind='put')\n"
   ]
  },
  {
   "cell_type": "code",
   "execution_count": 112,
   "metadata": {},
   "outputs": [
    {
     "data": {
      "text/plain": [
       "OrderedDict([('Value', 0.757725578680077),\n",
       "             ('d1', 0.68023448769038),\n",
       "             ('d2', 0.6359193027484399),\n",
       "             ('Delta', -0.2481779992328328),\n",
       "             ('Gamma', 0.06310609322488972),\n",
       "             ('Vega', 4.961837858307167),\n",
       "             ('Theta', -40.53043461852161),\n",
       "             ('Rho', -0.5532683648846877),\n",
       "             ('Omega', -37.07314168026113)])"
      ]
     },
     "execution_count": 112,
     "metadata": {},
     "output_type": "execute_result"
    }
   ],
   "source": [
    "op_XOM_110.summary()"
   ]
  },
  {
   "cell_type": "code",
   "execution_count": 113,
   "metadata": {},
   "outputs": [
    {
     "data": {
      "text/plain": [
       "OrderedDict([('Value', 0.46332748492435627),\n",
       "             ('d1', 1.0044741733462743),\n",
       "             ('d2', 0.9560044398160273),\n",
       "             ('Delta', -0.15757505686962303),\n",
       "             ('Gamma', 0.04390729447482183),\n",
       "             ('Vega', 3.7759481046475174),\n",
       "             ('Theta', -33.90654900974868),\n",
       "             ('Rho', -0.3509444854903533),\n",
       "             ('Omega', -38.49527875512189)])"
      ]
     },
     "execution_count": 113,
     "metadata": {},
     "output_type": "execute_result"
    }
   ],
   "source": [
    "op_XOM_108.summary()"
   ]
  },
  {
   "cell_type": "code",
   "execution_count": 102,
   "metadata": {},
   "outputs": [
    {
     "data": {
      "text/plain": [
       "0.32647667059181973"
      ]
     },
     "execution_count": 102,
     "metadata": {},
     "output_type": "execute_result"
    }
   ],
   "source": [
    "op_XOM_110.implied_vol(value=.79)"
   ]
  },
  {
   "cell_type": "code",
   "execution_count": 107,
   "metadata": {},
   "outputs": [
    {
     "data": {
      "text/plain": [
       "nan"
      ]
     },
     "execution_count": 107,
     "metadata": {},
     "output_type": "execute_result"
    }
   ],
   "source": [
    "op_XOM_108.implied_vol(value=.50)"
   ]
  },
  {
   "cell_type": "code",
   "execution_count": 70,
   "metadata": {},
   "outputs": [
    {
     "data": {
      "text/plain": [
       "-0.04688269237713428"
      ]
     },
     "execution_count": 70,
     "metadata": {},
     "output_type": "execute_result"
    }
   ],
   "source": [
    "op_XOM_120.theta()/365"
   ]
  },
  {
   "cell_type": "code",
   "execution_count": 71,
   "metadata": {},
   "outputs": [
    {
     "data": {
      "text/plain": [
       "-0.07856864815397242"
      ]
     },
     "execution_count": 71,
     "metadata": {},
     "output_type": "execute_result"
    }
   ],
   "source": [
    "op_XOM_115.theta()/365"
   ]
  },
  {
   "cell_type": "code",
   "execution_count": 114,
   "metadata": {},
   "outputs": [
    {
     "data": {
      "text/plain": [
       "-0.2943980937557207"
      ]
     },
     "execution_count": 114,
     "metadata": {},
     "output_type": "execute_result"
    }
   ],
   "source": [
    "op_XOM_108.value() - op_XOM_110.value()"
   ]
  },
  {
   "cell_type": "code",
   "execution_count": 117,
   "metadata": {},
   "outputs": [
    {
     "data": {
      "text/plain": [
       "-0.018147631804857345"
      ]
     },
     "execution_count": 117,
     "metadata": {},
     "output_type": "execute_result"
    }
   ],
   "source": [
    "(-op_XOM_108.theta() + op_XOM_110.theta())/365"
   ]
  },
  {
   "cell_type": "code",
   "execution_count": 58,
   "metadata": {},
   "outputs": [],
   "source": [
    "t_exp = datetime.datetime(2023, 2, 24)\n",
    "t_0 = datetime.datetime(2023, 2, 21) \n",
    "ret = .99\n",
    "vret = 1.0\n",
    "S0=405.00\n",
    "op_SPY_s = BSM(S0=S0*ret, K=405, T=(t_exp - t_0).days/365, r=.03, sigma=.165*vret, kind='put')\n",
    "op_SPY_l = BSM(S0=S0*ret, K=400, T=(t_exp - t_0).days/365, r=.03, sigma=.175*vret, kind='put')\n"
   ]
  },
  {
   "cell_type": "code",
   "execution_count": 59,
   "metadata": {},
   "outputs": [
    {
     "data": {
      "text/plain": [
       "OrderedDict([('Value', 4.878262774369034),\n",
       "             ('d1', -0.6479026439918697),\n",
       "             ('d2', -0.6628614916509533),\n",
       "             ('Delta', -0.741476039727119),\n",
       "             ('Gamma', 0.05392226293040918),\n",
       "             ('Vega', 11.756035256163736),\n",
       "             ('Theta', -108.93601145665478),\n",
       "             ('Rho', -2.483614363585951),\n",
       "             ('Omega', -60.942764233737115)])"
      ]
     },
     "execution_count": 59,
     "metadata": {},
     "output_type": "execute_result"
    }
   ],
   "source": [
    "op_SPY_s.summary()"
   ]
  },
  {
   "cell_type": "code",
   "execution_count": 60,
   "metadata": {},
   "outputs": [
    {
     "data": {
      "text/plain": [
       "OrderedDict([('Value', 2.0445637358547515),\n",
       "             ('d1', 0.17299330341296573),\n",
       "             ('d2', 0.15712785892605888),\n",
       "             ('Delta', -0.4313283456837247),\n",
       "             ('Gamma', 0.061783016360855494),\n",
       "             ('Vega', 14.28617553809666),\n",
       "             ('Theta', -146.83867383118837),\n",
       "             ('Rho', -1.4382383337348834),\n",
       "             ('Omega', -84.58582003049641)])"
      ]
     },
     "execution_count": 60,
     "metadata": {},
     "output_type": "execute_result"
    }
   ],
   "source": [
    "op_SPY_l.summary()"
   ]
  },
  {
   "cell_type": "code",
   "execution_count": 61,
   "metadata": {},
   "outputs": [
    {
     "data": {
      "text/plain": [
       "0.10384291061516053"
      ]
     },
     "execution_count": 61,
     "metadata": {},
     "output_type": "execute_result"
    }
   ],
   "source": [
    "(op_SPY_s.theta() - op_SPY_l.theta())/365"
   ]
  },
  {
   "cell_type": "code",
   "execution_count": 62,
   "metadata": {},
   "outputs": [
    {
     "data": {
      "text/plain": [
       "2.8336990385142826"
      ]
     },
     "execution_count": 62,
     "metadata": {},
     "output_type": "execute_result"
    }
   ],
   "source": [
    "(op_SPY_s.value() - op_SPY_l.value())"
   ]
  },
  {
   "cell_type": "markdown",
   "metadata": {},
   "source": [
    "### spy bear spread"
   ]
  },
  {
   "cell_type": "code",
   "execution_count": 76,
   "metadata": {},
   "outputs": [
    {
     "name": "stdout",
     "output_type": "stream",
     "text": [
      "2023-01-27 00:00:00 2023-02-03 00:00:00 0.019178082191780823\n"
     ]
    }
   ],
   "source": [
    "t_exp = datetime.datetime(2023, 2, 3)\n",
    "t_0 = datetime.datetime(2023, 1, 27)\n",
    "T = (t_exp - t_0).days/365\n",
    "print(t_0, t_exp, T)"
   ]
  },
  {
   "cell_type": "code",
   "execution_count": 87,
   "metadata": {},
   "outputs": [
    {
     "name": "stdout",
     "output_type": "stream",
     "text": [
      "0.20953789179860652\n"
     ]
    },
    {
     "data": {
      "text/plain": [
       "OrderedDict([('Value', 2.8900000005231448),\n",
       "             ('d1', -0.34599144012247923),\n",
       "             ('d2', -0.3750092852081026),\n",
       "             ('Delta', 0.3646745738591535),\n",
       "             ('Gamma', 0.03193444233526245),\n",
       "             ('Vega', 21.101279949758244),\n",
       "             ('Theta', -119.62484947294236),\n",
       "             ('Rho', 2.7805445969740963),\n",
       "             ('Omega', 51.16800680730742)])"
      ]
     },
     "execution_count": 87,
     "metadata": {},
     "output_type": "execute_result"
    }
   ],
   "source": [
    "S0 = 405.50\n",
    "opS0 = 2.89\n",
    "opL0 = 1.32\n",
    "opS = BSM(S0=S0, K=410, T=T, r=.03, sigma=.2)\n",
    "ivS = opS.implied_vol(value=opS0)\n",
    "print(ivS)\n",
    "opS = BSM(S0=S0, K=410, T=T, r=.03, sigma=ivS)\n",
    "opS.summary()"
   ]
  },
  {
   "cell_type": "code",
   "execution_count": 92,
   "metadata": {},
   "outputs": [
    {
     "name": "stdout",
     "output_type": "stream",
     "text": [
      "nan\n"
     ]
    },
    {
     "data": {
      "text/plain": [
       "OrderedDict([('Value', 1.373825407757593),\n",
       "             ('d1', -0.5154405721028186),\n",
       "             ('d2', -0.5389830141032242),\n",
       "             ('Delta', 0.3031225936009969),\n",
       "             ('Gamma', 0.04848927290849378),\n",
       "             ('Vega', 14.802757408468688),\n",
       "             ('Theta', -68.34938616098745),\n",
       "             ('Rho', 1.7525255277781706),\n",
       "             ('Omega', 67.5162310422719)])"
      ]
     },
     "execution_count": 92,
     "metadata": {},
     "output_type": "execute_result"
    }
   ],
   "source": [
    "opL = BSM(S0=S0, K=315, T=T, r=.03, sigma=.2)\n",
    "ivL = opL.implied_vol(value=opL0)\n",
    "print(ivL)\n",
    "opL = BSM(S0=306, K=310, T=T, r=.03, sigma=.17)\n",
    "opL.summary()"
   ]
  },
  {
   "cell_type": "code",
   "execution_count": 93,
   "metadata": {},
   "outputs": [
    {
     "data": {
      "text/plain": [
       "0.1643835616438356"
      ]
     },
     "execution_count": 93,
     "metadata": {},
     "output_type": "execute_result"
    }
   ],
   "source": [
    "60/365"
   ]
  },
  {
   "cell_type": "code",
   "execution_count": 94,
   "metadata": {},
   "outputs": [
    {
     "data": {
      "text/plain": [
       "1.5161745927655517"
      ]
     },
     "execution_count": 94,
     "metadata": {},
     "output_type": "execute_result"
    }
   ],
   "source": [
    "opS.value() - opL.value()"
   ]
  },
  {
   "cell_type": "code",
   "execution_count": null,
   "metadata": {},
   "outputs": [],
   "source": []
  }
 ],
 "metadata": {
  "kernelspec": {
   "display_name": "Python 3",
   "language": "python",
   "name": "python3"
  },
  "language_info": {
   "codemirror_mode": {
    "name": "ipython",
    "version": 3
   },
   "file_extension": ".py",
   "mimetype": "text/x-python",
   "name": "python",
   "nbconvert_exporter": "python",
   "pygments_lexer": "ipython3",
   "version": "3.9.5"
  }
 },
 "nbformat": 4,
 "nbformat_minor": 4
}
