{
 "cells": [
  {
   "cell_type": "code",
   "execution_count": 1,
   "metadata": {},
   "outputs": [
    {
     "data": {
      "text/plain": [
       "OrderedDict([('Value', 9.925053717274437),\n",
       "             ('d1', 0.3),\n",
       "             ('d2', 0.09999999999999998),\n",
       "             ('Delta', 0.6179114221889526),\n",
       "             ('Gamma', 0.019069390773026208),\n",
       "             ('Vega', 38.138781546052414),\n",
       "             ('Theta', -5.888521694670074),\n",
       "             ('Rho', 51.86608850162082),\n",
       "             ('Omega', 6.225774084360724)])"
      ]
     },
     "execution_count": 1,
     "metadata": {},
     "output_type": "execute_result"
    }
   ],
   "source": [
    "from pyfinance.options import BSM\n",
    "op = BSM(S0=100, K=100, T=1, r=.04, sigma=.2)\n",
    "\n",
    "op.summary()"
   ]
  },
  {
   "cell_type": "code",
   "execution_count": 22,
   "metadata": {},
   "outputs": [
    {
     "data": {
      "text/plain": [
       "OrderedDict([('Value', 0.3939592131558989),\n",
       "             ('d1', -0.9836377898976464),\n",
       "             ('d2', -1.0304542487760986),\n",
       "             ('Delta', 0.16264681874810338),\n",
       "             ('Gamma', 0.052530573967688884),\n",
       "             ('Vega', 5.756775229335767),\n",
       "             ('Theta', -10.98223647338741),\n",
       "             ('Rho', 0.8696286389947638),\n",
       "             ('Omega', 41.285192303331215)])"
      ]
     },
     "execution_count": 22,
     "metadata": {},
     "output_type": "execute_result"
    }
   ],
   "source": [
    "op = BSM(S0=100, K=105, T=20/365, r=.03, sigma=.2)\n",
    "op.summary()\n"
   ]
  },
  {
   "cell_type": "code",
   "execution_count": 27,
   "metadata": {},
   "outputs": [
    {
     "data": {
      "text/plain": [
       "OrderedDict([('Value', 0.3639349908658769),\n",
       "             ('d1', -1.0121931208110313),\n",
       "             ('d2', -1.0578241604750793),\n",
       "             ('Delta', 0.155722862369441),\n",
       "             ('Gamma', 0.052381119029115554),\n",
       "             ('Vega', 5.4533767756339495),\n",
       "             ('Theta', -10.93247434320546),\n",
       "             ('Rho', 0.7916675991109211),\n",
       "             ('Omega', 42.788648049187024)])"
      ]
     },
     "execution_count": 27,
     "metadata": {},
     "output_type": "execute_result"
    }
   ],
   "source": [
    "op1 = BSM(S0=100, K=105, T=19/365, r=.03, sigma=.2)\n",
    "op1.summary()"
   ]
  },
  {
   "cell_type": "code",
   "execution_count": 28,
   "metadata": {},
   "outputs": [
    {
     "data": {
      "text/plain": [
       "0.3638708940507279"
      ]
     },
     "execution_count": 28,
     "metadata": {},
     "output_type": "execute_result"
    }
   ],
   "source": [
    "op.value() + op.theta()*1/365"
   ]
  },
  {
   "cell_type": "code",
   "execution_count": 29,
   "metadata": {},
   "outputs": [],
   "source": [
    "import datetime"
   ]
  },
  {
   "cell_type": "code",
   "execution_count": 35,
   "metadata": {},
   "outputs": [],
   "source": [
    "t_exp = datetime.datetime(2023, 2, 10)\n",
    "t_0 = datetime.datetime(2023, 1, 23)"
   ]
  },
  {
   "cell_type": "code",
   "execution_count": 41,
   "metadata": {},
   "outputs": [
    {
     "data": {
      "text/plain": [
       "0.049315068493150684"
      ]
     },
     "execution_count": 41,
     "metadata": {},
     "output_type": "execute_result"
    }
   ],
   "source": [
    "(t_exp - t_0).days/365"
   ]
  },
  {
   "cell_type": "code",
   "execution_count": 73,
   "metadata": {},
   "outputs": [
    {
     "data": {
      "text/plain": [
       "OrderedDict([('Value', 0.3931091293071738),\n",
       "             ('d1', -1.1613700022638556),\n",
       "             ('d2', -1.220884752363743),\n",
       "             ('Delta', 0.12274573136727324),\n",
       "             ('Gamma', 0.030594952931738046),\n",
       "             ('Vega', 5.038110799291591),\n",
       "             ('Theta', -14.08890890995996),\n",
       "             ('Rho', 0.6562886927787756),\n",
       "             ('Omega', 34.853388990713086)])"
      ]
     },
     "execution_count": 73,
     "metadata": {},
     "output_type": "execute_result"
    }
   ],
   "source": [
    "ret = .99\n",
    "op_XOM_120 = BSM(S0=112.75*ret, K=120, T=(t_exp - t_0).days/365, r=.03, sigma=.268)\n",
    "op_XOM_115 = BSM(S0=112.75*ret, K=115, T=(t_exp - t_0).days/365, r=.03, sigma=.28)\n",
    "op_XOM_120.summary()"
   ]
  },
  {
   "cell_type": "code",
   "execution_count": 60,
   "metadata": {},
   "outputs": [
    {
     "data": {
      "text/plain": [
       "0.2786239512841554"
      ]
     },
     "execution_count": 60,
     "metadata": {},
     "output_type": "execute_result"
    }
   ],
   "source": [
    "op_XOM_115.implied_vol(value=1.89)"
   ]
  },
  {
   "cell_type": "code",
   "execution_count": 63,
   "metadata": {},
   "outputs": [
    {
     "data": {
      "text/plain": [
       "0.4094844452479773"
      ]
     },
     "execution_count": 63,
     "metadata": {},
     "output_type": "execute_result"
    }
   ],
   "source": [
    "op_XOM_120.implied_vol(value=.55)"
   ]
  },
  {
   "cell_type": "code",
   "execution_count": 70,
   "metadata": {},
   "outputs": [
    {
     "data": {
      "text/plain": [
       "-0.04688269237713428"
      ]
     },
     "execution_count": 70,
     "metadata": {},
     "output_type": "execute_result"
    }
   ],
   "source": [
    "op_XOM_120.theta()/365"
   ]
  },
  {
   "cell_type": "code",
   "execution_count": 71,
   "metadata": {},
   "outputs": [
    {
     "data": {
      "text/plain": [
       "-0.07856864815397242"
      ]
     },
     "execution_count": 71,
     "metadata": {},
     "output_type": "execute_result"
    }
   ],
   "source": [
    "op_XOM_115.theta()/365"
   ]
  },
  {
   "cell_type": "code",
   "execution_count": 74,
   "metadata": {},
   "outputs": [
    {
     "data": {
      "text/plain": [
       "1.0978127494341159"
      ]
     },
     "execution_count": 74,
     "metadata": {},
     "output_type": "execute_result"
    }
   ],
   "source": [
    "op_XOM_115.value() - op_XOM_120.value()"
   ]
  }
 ],
 "metadata": {
  "kernelspec": {
   "display_name": "Python 3",
   "language": "python",
   "name": "python3"
  },
  "language_info": {
   "codemirror_mode": {
    "name": "ipython",
    "version": 3
   },
   "file_extension": ".py",
   "mimetype": "text/x-python",
   "name": "python",
   "nbconvert_exporter": "python",
   "pygments_lexer": "ipython3",
   "version": "3.9.5"
  }
 },
 "nbformat": 4,
 "nbformat_minor": 4
}
