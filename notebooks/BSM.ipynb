{
 "cells": [
  {
   "cell_type": "code",
   "execution_count": 3,
   "metadata": {},
   "outputs": [],
   "source": [
    "#! pip install pyfinance"
   ]
  },
  {
   "cell_type": "code",
   "execution_count": 4,
   "metadata": {},
   "outputs": [
    {
     "data": {
      "text/plain": [
       "OrderedDict([('Value', 9.925053717274437),\n",
       "             ('d1', 0.3),\n",
       "             ('d2', 0.09999999999999998),\n",
       "             ('Delta', 0.6179114221889526),\n",
       "             ('Gamma', 0.019069390773026208),\n",
       "             ('Vega', 38.138781546052414),\n",
       "             ('Theta', -5.888521694670074),\n",
       "             ('Rho', 51.86608850162082),\n",
       "             ('Omega', 6.225774084360724)])"
      ]
     },
     "execution_count": 4,
     "metadata": {},
     "output_type": "execute_result"
    }
   ],
   "source": [
    "from pyfinance.options import BSM\n",
    "import datetime\n",
    "op = BSM(S0=100, K=100, T=1, r=.04, sigma=.2)\n",
    "op.summary()"
   ]
  },
  {
   "cell_type": "code",
   "execution_count": 5,
   "metadata": {},
   "outputs": [
    {
     "data": {
      "text/plain": [
       "OrderedDict([('Value', 0.3939592131558989),\n",
       "             ('d1', -0.9836377898976464),\n",
       "             ('d2', -1.0304542487760986),\n",
       "             ('Delta', 0.16264681874810338),\n",
       "             ('Gamma', 0.052530573967688884),\n",
       "             ('Vega', 5.756775229335767),\n",
       "             ('Theta', -10.98223647338741),\n",
       "             ('Rho', 0.8696286389947638),\n",
       "             ('Omega', 41.285192303331215)])"
      ]
     },
     "execution_count": 5,
     "metadata": {},
     "output_type": "execute_result"
    }
   ],
   "source": [
    "op = BSM(S0=100, K=105, T=20/365, r=.03, sigma=.2)\n",
    "op.summary()\n"
   ]
  },
  {
   "cell_type": "code",
   "execution_count": 27,
   "metadata": {},
   "outputs": [
    {
     "data": {
      "text/plain": [
       "OrderedDict([('Value', 0.3639349908658769),\n",
       "             ('d1', -1.0121931208110313),\n",
       "             ('d2', -1.0578241604750793),\n",
       "             ('Delta', 0.155722862369441),\n",
       "             ('Gamma', 0.052381119029115554),\n",
       "             ('Vega', 5.4533767756339495),\n",
       "             ('Theta', -10.93247434320546),\n",
       "             ('Rho', 0.7916675991109211),\n",
       "             ('Omega', 42.788648049187024)])"
      ]
     },
     "execution_count": 27,
     "metadata": {},
     "output_type": "execute_result"
    }
   ],
   "source": [
    "op1 = BSM(S0=100, K=105, T=19/365, r=.03, sigma=.2)\n",
    "op1.summary()"
   ]
  },
  {
   "cell_type": "code",
   "execution_count": 28,
   "metadata": {},
   "outputs": [
    {
     "data": {
      "text/plain": [
       "0.3638708940507279"
      ]
     },
     "execution_count": 28,
     "metadata": {},
     "output_type": "execute_result"
    }
   ],
   "source": [
    "op.value() + op.theta()*1/365"
   ]
  },
  {
   "cell_type": "code",
   "execution_count": 2,
   "metadata": {},
   "outputs": [],
   "source": []
  },
  {
   "cell_type": "code",
   "execution_count": 273,
   "metadata": {},
   "outputs": [],
   "source": [
    "t_exp = datetime.datetime(2023, 2, 17)\n",
    "t_0 = datetime.datetime(2023, 2, 13)"
   ]
  },
  {
   "cell_type": "code",
   "execution_count": 274,
   "metadata": {},
   "outputs": [
    {
     "data": {
      "text/plain": [
       "0.010958904109589041"
      ]
     },
     "execution_count": 274,
     "metadata": {},
     "output_type": "execute_result"
    }
   ],
   "source": [
    "(t_exp - t_0).days/365"
   ]
  },
  {
   "cell_type": "code",
   "execution_count": 111,
   "metadata": {},
   "outputs": [],
   "source": [
    "ret = 1\n",
    "S0=109.26\n",
    "op_XOM_110 = BSM(S0=S0*ret, K=110, T=(t_exp - t_0).days/365, r=.03, sigma=.32, kind='put')\n",
    "op_XOM_108 = BSM(S0=S0*ret, K=108, T=(t_exp - t_0).days/365, r=.03, sigma=.35, kind='put')\n"
   ]
  },
  {
   "cell_type": "code",
   "execution_count": 112,
   "metadata": {},
   "outputs": [
    {
     "data": {
      "text/plain": [
       "OrderedDict([('Value', 0.757725578680077),\n",
       "             ('d1', 0.68023448769038),\n",
       "             ('d2', 0.6359193027484399),\n",
       "             ('Delta', -0.2481779992328328),\n",
       "             ('Gamma', 0.06310609322488972),\n",
       "             ('Vega', 4.961837858307167),\n",
       "             ('Theta', -40.53043461852161),\n",
       "             ('Rho', -0.5532683648846877),\n",
       "             ('Omega', -37.07314168026113)])"
      ]
     },
     "execution_count": 112,
     "metadata": {},
     "output_type": "execute_result"
    }
   ],
   "source": [
    "op_XOM_110.summary()"
   ]
  },
  {
   "cell_type": "code",
   "execution_count": 113,
   "metadata": {},
   "outputs": [
    {
     "data": {
      "text/plain": [
       "OrderedDict([('Value', 0.46332748492435627),\n",
       "             ('d1', 1.0044741733462743),\n",
       "             ('d2', 0.9560044398160273),\n",
       "             ('Delta', -0.15757505686962303),\n",
       "             ('Gamma', 0.04390729447482183),\n",
       "             ('Vega', 3.7759481046475174),\n",
       "             ('Theta', -33.90654900974868),\n",
       "             ('Rho', -0.3509444854903533),\n",
       "             ('Omega', -38.49527875512189)])"
      ]
     },
     "execution_count": 113,
     "metadata": {},
     "output_type": "execute_result"
    }
   ],
   "source": [
    "op_XOM_108.summary()"
   ]
  },
  {
   "cell_type": "code",
   "execution_count": 102,
   "metadata": {},
   "outputs": [
    {
     "data": {
      "text/plain": [
       "0.32647667059181973"
      ]
     },
     "execution_count": 102,
     "metadata": {},
     "output_type": "execute_result"
    }
   ],
   "source": [
    "op_XOM_110.implied_vol(value=.79)"
   ]
  },
  {
   "cell_type": "code",
   "execution_count": 107,
   "metadata": {},
   "outputs": [
    {
     "data": {
      "text/plain": [
       "nan"
      ]
     },
     "execution_count": 107,
     "metadata": {},
     "output_type": "execute_result"
    }
   ],
   "source": [
    "op_XOM_108.implied_vol(value=.50)"
   ]
  },
  {
   "cell_type": "code",
   "execution_count": 70,
   "metadata": {},
   "outputs": [
    {
     "data": {
      "text/plain": [
       "-0.04688269237713428"
      ]
     },
     "execution_count": 70,
     "metadata": {},
     "output_type": "execute_result"
    }
   ],
   "source": [
    "op_XOM_120.theta()/365"
   ]
  },
  {
   "cell_type": "code",
   "execution_count": 71,
   "metadata": {},
   "outputs": [
    {
     "data": {
      "text/plain": [
       "-0.07856864815397242"
      ]
     },
     "execution_count": 71,
     "metadata": {},
     "output_type": "execute_result"
    }
   ],
   "source": [
    "op_XOM_115.theta()/365"
   ]
  },
  {
   "cell_type": "code",
   "execution_count": 114,
   "metadata": {},
   "outputs": [
    {
     "data": {
      "text/plain": [
       "-0.2943980937557207"
      ]
     },
     "execution_count": 114,
     "metadata": {},
     "output_type": "execute_result"
    }
   ],
   "source": [
    "op_XOM_108.value() - op_XOM_110.value()"
   ]
  },
  {
   "cell_type": "code",
   "execution_count": 117,
   "metadata": {},
   "outputs": [
    {
     "data": {
      "text/plain": [
       "-0.018147631804857345"
      ]
     },
     "execution_count": 117,
     "metadata": {},
     "output_type": "execute_result"
    }
   ],
   "source": [
    "(-op_XOM_108.theta() + op_XOM_110.theta())/365"
   ]
  },
  {
   "cell_type": "code",
   "execution_count": 38,
   "metadata": {},
   "outputs": [
    {
     "name": "stdout",
     "output_type": "stream",
     "text": [
      "439.13 441.32564999999994\n"
     ]
    }
   ],
   "source": [
    "t_exp = datetime.datetime(2023, 7, 14)\n",
    "t_0 = datetime.datetime(2023, 7, 10) \n",
    "ret = 1.005\n",
    "vret = 1.0\n",
    "dt = 1\n",
    "S0=439.13\n",
    "print(S0, S0*ret)\n",
    "op_SPY_s = BSM(S0=S0*ret, K=438, T=((t_exp - t_0).days - dt)/365, r=.03, sigma=.13*vret, kind='put')\n",
    "op_SPY_l = BSM(S0=S0*ret, K=436, T=((t_exp - t_0).days - dt)/365, r=.03, sigma=.135*vret, kind='put')\n"
   ]
  },
  {
   "cell_type": "code",
   "execution_count": 34,
   "metadata": {},
   "outputs": [
    {
     "data": {
      "text/plain": [
       "OrderedDict([('Value', 0.7881268307698264),\n",
       "             ('d1', 0.6686167171655156),\n",
       "             ('d2', 0.6568309584038133),\n",
       "             ('Delta', -0.2518700029447264),\n",
       "             ('Gamma', 0.06133636586764964),\n",
       "             ('Vega', 12.764626817103757),\n",
       "             ('Theta', -97.5885791573866),\n",
       "             ('Rho', -0.9200944076371488),\n",
       "             ('Omega', -141.03909221883447)])"
      ]
     },
     "execution_count": 34,
     "metadata": {},
     "output_type": "execute_result"
    }
   ],
   "source": [
    "op_SPY_s.summary()"
   ]
  },
  {
   "cell_type": "code",
   "execution_count": 35,
   "metadata": {},
   "outputs": [
    {
     "data": {
      "text/plain": [
       "OrderedDict([('Value', 0.4370115386963249),\n",
       "             ('d1', 1.018237547764405),\n",
       "             ('d2', 1.005998490588791),\n",
       "             ('Delta', -0.15428253978026185),\n",
       "             ('Gamma', 0.043980787403039005),\n",
       "             ('Vega', 9.504811278870973),\n",
       "             ('Theta', -76.00248701700171),\n",
       "             ('Rho', -0.5632261947194898),\n",
       "             ('Omega', -155.80559349827416)])"
      ]
     },
     "execution_count": 35,
     "metadata": {},
     "output_type": "execute_result"
    }
   ],
   "source": [
    "op_SPY_l.summary()"
   ]
  },
  {
   "cell_type": "code",
   "execution_count": 36,
   "metadata": {},
   "outputs": [
    {
     "data": {
      "text/plain": [
       "-0.05913997846680792"
      ]
     },
     "execution_count": 36,
     "metadata": {},
     "output_type": "execute_result"
    }
   ],
   "source": [
    "(op_SPY_s.theta() - op_SPY_l.theta())/365"
   ]
  },
  {
   "cell_type": "code",
   "execution_count": 37,
   "metadata": {},
   "outputs": [
    {
     "data": {
      "text/plain": [
       "0.35111529207350145"
      ]
     },
     "execution_count": 37,
     "metadata": {},
     "output_type": "execute_result"
    }
   ],
   "source": [
    "(op_SPY_s.value() - op_SPY_l.value())"
   ]
  },
  {
   "cell_type": "markdown",
   "metadata": {},
   "source": [
    "### spy bear spread"
   ]
  },
  {
   "cell_type": "code",
   "execution_count": 89,
   "metadata": {},
   "outputs": [],
   "source": [
    "t_exp = datetime.datetime(2023, 3, 10)\n",
    "t_0 = datetime.datetime(2023, 3, 3) \n",
    "ret = 1.\n",
    "vret = 1.0\n",
    "S0=405.19\n",
    "op_SPY_s = BSM(S0=S0*ret, K=407, T=((t_exp - t_0).days + .15)/365, r=.03, sigma=.16*vret, kind='call')\n",
    "op_SPY_l = BSM(S0=S0*ret, K=410, T=((t_exp - t_0).days + .15)/365, r=.03, sigma=.155*vret, kind='call')\n"
   ]
  },
  {
   "cell_type": "code",
   "execution_count": 90,
   "metadata": {},
   "outputs": [
    {
     "data": {
      "text/plain": [
       "OrderedDict([('Value', 2.895392630524242),\n",
       "             ('d1', -0.16159346703454294),\n",
       "             ('d2', -0.18398720392803158),\n",
       "             ('Delta', 0.43581300112407345),\n",
       "             ('Gamma', 0.04339648255798044),\n",
       "             ('Vega', 22.330843444816555),\n",
       "             ('Theta', -96.40804103054653),\n",
       "             ('Rho', 3.402453404544697),\n",
       "             ('Omega', 60.98898921818777)])"
      ]
     },
     "execution_count": 90,
     "metadata": {},
     "output_type": "execute_result"
    }
   ],
   "source": [
    "op_SPY_s.summary()"
   ]
  },
  {
   "cell_type": "code",
   "execution_count": 91,
   "metadata": {},
   "outputs": [
    {
     "data": {
      "text/plain": [
       "OrderedDict([('Value', 1.702763735110807),\n",
       "             ('d1', -0.506043897371657),\n",
       "             ('d2', -0.5277378299872242),\n",
       "             ('Delta', 0.3064129168336605),\n",
       "             ('Gamma', 0.03993060611288128),\n",
       "             ('Vega', 19.905276517610943),\n",
       "             ('Theta', -82.42470078976166),\n",
       "             ('Rho', 2.3987306990754758),\n",
       "             ('Omega', 72.91407915952092)])"
      ]
     },
     "execution_count": 91,
     "metadata": {},
     "output_type": "execute_result"
    }
   ],
   "source": [
    "op_SPY_l.summary()"
   ]
  },
  {
   "cell_type": "code",
   "execution_count": 92,
   "metadata": {},
   "outputs": [
    {
     "data": {
      "text/plain": [
       "1.192628895413435"
      ]
     },
     "execution_count": 92,
     "metadata": {},
     "output_type": "execute_result"
    }
   ],
   "source": [
    "(op_SPY_s.value() - op_SPY_l.value())"
   ]
  },
  {
   "cell_type": "code",
   "execution_count": 93,
   "metadata": {},
   "outputs": [
    {
     "data": {
      "text/plain": [
       "-0.03831052120762978"
      ]
     },
     "execution_count": 93,
     "metadata": {},
     "output_type": "execute_result"
    }
   ],
   "source": [
    "(op_SPY_s.theta() - op_SPY_l.theta())/365"
   ]
  },
  {
   "cell_type": "code",
   "execution_count": null,
   "metadata": {},
   "outputs": [],
   "source": []
  }
 ],
 "metadata": {
  "kernelspec": {
   "display_name": "fin",
   "language": "python",
   "name": "fin"
  },
  "language_info": {
   "codemirror_mode": {
    "name": "ipython",
    "version": 3
   },
   "file_extension": ".py",
   "mimetype": "text/x-python",
   "name": "python",
   "nbconvert_exporter": "python",
   "pygments_lexer": "ipython3",
   "version": "3.10.10"
  }
 },
 "nbformat": 4,
 "nbformat_minor": 4
}
