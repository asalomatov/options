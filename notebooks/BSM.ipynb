{
 "cells": [
  {
   "cell_type": "code",
   "execution_count": 3,
   "metadata": {},
   "outputs": [],
   "source": [
    "#! pip install pyfinance"
   ]
  },
  {
   "cell_type": "code",
   "execution_count": 8,
   "metadata": {},
   "outputs": [
    {
     "data": {
      "text/plain": [
       "OrderedDict([('Value', 9.925053717274437),\n",
       "             ('d1', 0.3),\n",
       "             ('d2', 0.09999999999999998),\n",
       "             ('Delta', 0.6179114221889526),\n",
       "             ('Gamma', 0.019069390773026208),\n",
       "             ('Vega', 38.138781546052414),\n",
       "             ('Theta', -5.888521694670074),\n",
       "             ('Rho', 51.86608850162082),\n",
       "             ('Omega', 6.225774084360724)])"
      ]
     },
     "execution_count": 8,
     "metadata": {},
     "output_type": "execute_result"
    }
   ],
   "source": [
    "from pyfinance.options import BSM\n",
    "import datetime\n",
    "import pandas as pd\n",
    "op = BSM(S0=100, K=100, T=1, r=.04, sigma=.2)\n",
    "op.summary()"
   ]
  },
  {
   "cell_type": "code",
   "execution_count": 5,
   "metadata": {},
   "outputs": [
    {
     "data": {
      "text/plain": [
       "OrderedDict([('Value', 0.3939592131558989),\n",
       "             ('d1', -0.9836377898976464),\n",
       "             ('d2', -1.0304542487760986),\n",
       "             ('Delta', 0.16264681874810338),\n",
       "             ('Gamma', 0.052530573967688884),\n",
       "             ('Vega', 5.756775229335767),\n",
       "             ('Theta', -10.98223647338741),\n",
       "             ('Rho', 0.8696286389947638),\n",
       "             ('Omega', 41.285192303331215)])"
      ]
     },
     "execution_count": 5,
     "metadata": {},
     "output_type": "execute_result"
    }
   ],
   "source": [
    "op = BSM(S0=100, K=105, T=20/365, r=.03, sigma=.2)\n",
    "op.summary()\n"
   ]
  },
  {
   "cell_type": "code",
   "execution_count": 27,
   "metadata": {},
   "outputs": [
    {
     "data": {
      "text/plain": [
       "OrderedDict([('Value', 0.3639349908658769),\n",
       "             ('d1', -1.0121931208110313),\n",
       "             ('d2', -1.0578241604750793),\n",
       "             ('Delta', 0.155722862369441),\n",
       "             ('Gamma', 0.052381119029115554),\n",
       "             ('Vega', 5.4533767756339495),\n",
       "             ('Theta', -10.93247434320546),\n",
       "             ('Rho', 0.7916675991109211),\n",
       "             ('Omega', 42.788648049187024)])"
      ]
     },
     "execution_count": 27,
     "metadata": {},
     "output_type": "execute_result"
    }
   ],
   "source": [
    "op1 = BSM(S0=100, K=105, T=19/365, r=.03, sigma=.2)\n",
    "op1.summary()"
   ]
  },
  {
   "cell_type": "code",
   "execution_count": 28,
   "metadata": {},
   "outputs": [
    {
     "data": {
      "text/plain": [
       "0.3638708940507279"
      ]
     },
     "execution_count": 28,
     "metadata": {},
     "output_type": "execute_result"
    }
   ],
   "source": [
    "op.value() + op.theta()*1/365"
   ]
  },
  {
   "cell_type": "code",
   "execution_count": 2,
   "metadata": {},
   "outputs": [],
   "source": []
  },
  {
   "cell_type": "code",
   "execution_count": 273,
   "metadata": {},
   "outputs": [],
   "source": [
    "t_exp = datetime.datetime(2023, 2, 17)\n",
    "t_0 = datetime.datetime(2023, 2, 13)"
   ]
  },
  {
   "cell_type": "code",
   "execution_count": 274,
   "metadata": {},
   "outputs": [
    {
     "data": {
      "text/plain": [
       "0.010958904109589041"
      ]
     },
     "execution_count": 274,
     "metadata": {},
     "output_type": "execute_result"
    }
   ],
   "source": [
    "(t_exp - t_0).days/365"
   ]
  },
  {
   "cell_type": "code",
   "execution_count": 111,
   "metadata": {},
   "outputs": [],
   "source": [
    "ret = 1\n",
    "S0=109.26\n",
    "op_XOM_110 = BSM(S0=S0*ret, K=110, T=(t_exp - t_0).days/365, r=.03, sigma=.32, kind='put')\n",
    "op_XOM_108 = BSM(S0=S0*ret, K=108, T=(t_exp - t_0).days/365, r=.03, sigma=.35, kind='put')\n"
   ]
  },
  {
   "cell_type": "code",
   "execution_count": 112,
   "metadata": {},
   "outputs": [
    {
     "data": {
      "text/plain": [
       "OrderedDict([('Value', 0.757725578680077),\n",
       "             ('d1', 0.68023448769038),\n",
       "             ('d2', 0.6359193027484399),\n",
       "             ('Delta', -0.2481779992328328),\n",
       "             ('Gamma', 0.06310609322488972),\n",
       "             ('Vega', 4.961837858307167),\n",
       "             ('Theta', -40.53043461852161),\n",
       "             ('Rho', -0.5532683648846877),\n",
       "             ('Omega', -37.07314168026113)])"
      ]
     },
     "execution_count": 112,
     "metadata": {},
     "output_type": "execute_result"
    }
   ],
   "source": [
    "op_XOM_110.summary()"
   ]
  },
  {
   "cell_type": "code",
   "execution_count": 113,
   "metadata": {},
   "outputs": [
    {
     "data": {
      "text/plain": [
       "OrderedDict([('Value', 0.46332748492435627),\n",
       "             ('d1', 1.0044741733462743),\n",
       "             ('d2', 0.9560044398160273),\n",
       "             ('Delta', -0.15757505686962303),\n",
       "             ('Gamma', 0.04390729447482183),\n",
       "             ('Vega', 3.7759481046475174),\n",
       "             ('Theta', -33.90654900974868),\n",
       "             ('Rho', -0.3509444854903533),\n",
       "             ('Omega', -38.49527875512189)])"
      ]
     },
     "execution_count": 113,
     "metadata": {},
     "output_type": "execute_result"
    }
   ],
   "source": [
    "op_XOM_108.summary()"
   ]
  },
  {
   "cell_type": "code",
   "execution_count": 102,
   "metadata": {},
   "outputs": [
    {
     "data": {
      "text/plain": [
       "0.32647667059181973"
      ]
     },
     "execution_count": 102,
     "metadata": {},
     "output_type": "execute_result"
    }
   ],
   "source": [
    "op_XOM_110.implied_vol(value=.79)"
   ]
  },
  {
   "cell_type": "code",
   "execution_count": 107,
   "metadata": {},
   "outputs": [
    {
     "data": {
      "text/plain": [
       "nan"
      ]
     },
     "execution_count": 107,
     "metadata": {},
     "output_type": "execute_result"
    }
   ],
   "source": [
    "op_XOM_108.implied_vol(value=.50)"
   ]
  },
  {
   "cell_type": "code",
   "execution_count": 70,
   "metadata": {},
   "outputs": [
    {
     "data": {
      "text/plain": [
       "-0.04688269237713428"
      ]
     },
     "execution_count": 70,
     "metadata": {},
     "output_type": "execute_result"
    }
   ],
   "source": [
    "op_XOM_120.theta()/365"
   ]
  },
  {
   "cell_type": "code",
   "execution_count": 71,
   "metadata": {},
   "outputs": [
    {
     "data": {
      "text/plain": [
       "-0.07856864815397242"
      ]
     },
     "execution_count": 71,
     "metadata": {},
     "output_type": "execute_result"
    }
   ],
   "source": [
    "op_XOM_115.theta()/365"
   ]
  },
  {
   "cell_type": "code",
   "execution_count": 114,
   "metadata": {},
   "outputs": [
    {
     "data": {
      "text/plain": [
       "-0.2943980937557207"
      ]
     },
     "execution_count": 114,
     "metadata": {},
     "output_type": "execute_result"
    }
   ],
   "source": [
    "op_XOM_108.value() - op_XOM_110.value()"
   ]
  },
  {
   "cell_type": "code",
   "execution_count": 117,
   "metadata": {},
   "outputs": [
    {
     "data": {
      "text/plain": [
       "-0.018147631804857345"
      ]
     },
     "execution_count": 117,
     "metadata": {},
     "output_type": "execute_result"
    }
   ],
   "source": [
    "(-op_XOM_108.theta() + op_XOM_110.theta())/365"
   ]
  },
  {
   "cell_type": "code",
   "execution_count": 38,
   "metadata": {},
   "outputs": [
    {
     "name": "stdout",
     "output_type": "stream",
     "text": [
      "439.13 441.32564999999994\n"
     ]
    }
   ],
   "source": [
    "t_exp = datetime.datetime(2023, 7, 21)\n",
    "t_0 = datetime.datetime(2023, 7, 17) \n",
    "ret = 1.00\n",
    "vret = 1.0\n",
    "dt = 1\n",
    "S0=449.28\n",
    "print(S0, S0*ret)\n",
    "op_SPY_s = BSM(S0=S0*ret, K=438, T=((t_exp - t_0).days - dt)/365, r=.03, sigma=.13*vret, kind='put')\n",
    "op_SPY_l = BSM(S0=S0*ret, K=436, T=((t_exp - t_0).days - dt)/365, r=.03, sigma=.135*vret, kind='put')\n"
   ]
  },
  {
   "cell_type": "code",
   "execution_count": 34,
   "metadata": {},
   "outputs": [
    {
     "data": {
      "text/plain": [
       "OrderedDict([('Value', 0.7881268307698264),\n",
       "             ('d1', 0.6686167171655156),\n",
       "             ('d2', 0.6568309584038133),\n",
       "             ('Delta', -0.2518700029447264),\n",
       "             ('Gamma', 0.06133636586764964),\n",
       "             ('Vega', 12.764626817103757),\n",
       "             ('Theta', -97.5885791573866),\n",
       "             ('Rho', -0.9200944076371488),\n",
       "             ('Omega', -141.03909221883447)])"
      ]
     },
     "execution_count": 34,
     "metadata": {},
     "output_type": "execute_result"
    }
   ],
   "source": [
    "op_SPY_s.summary()"
   ]
  },
  {
   "cell_type": "code",
   "execution_count": 35,
   "metadata": {},
   "outputs": [
    {
     "data": {
      "text/plain": [
       "OrderedDict([('Value', 0.4370115386963249),\n",
       "             ('d1', 1.018237547764405),\n",
       "             ('d2', 1.005998490588791),\n",
       "             ('Delta', -0.15428253978026185),\n",
       "             ('Gamma', 0.043980787403039005),\n",
       "             ('Vega', 9.504811278870973),\n",
       "             ('Theta', -76.00248701700171),\n",
       "             ('Rho', -0.5632261947194898),\n",
       "             ('Omega', -155.80559349827416)])"
      ]
     },
     "execution_count": 35,
     "metadata": {},
     "output_type": "execute_result"
    }
   ],
   "source": [
    "op_SPY_l.summary()"
   ]
  },
  {
   "cell_type": "code",
   "execution_count": 36,
   "metadata": {},
   "outputs": [
    {
     "data": {
      "text/plain": [
       "-0.05913997846680792"
      ]
     },
     "execution_count": 36,
     "metadata": {},
     "output_type": "execute_result"
    }
   ],
   "source": [
    "(op_SPY_s.theta() - op_SPY_l.theta())/365"
   ]
  },
  {
   "cell_type": "code",
   "execution_count": 37,
   "metadata": {},
   "outputs": [
    {
     "data": {
      "text/plain": [
       "0.35111529207350145"
      ]
     },
     "execution_count": 37,
     "metadata": {},
     "output_type": "execute_result"
    }
   ],
   "source": [
    "(op_SPY_s.value() - op_SPY_l.value())"
   ]
  },
  {
   "cell_type": "markdown",
   "metadata": {},
   "source": [
    "### spy bear spread"
   ]
  },
  {
   "cell_type": "code",
   "execution_count": 159,
   "metadata": {},
   "outputs": [
    {
     "name": "stdout",
     "output_type": "stream",
     "text": [
      "type = put, and pc = -1\n",
      "vsk_1 1, vsk_2 1.05\n"
     ]
    }
   ],
   "source": [
    "t_exp = datetime.datetime(2023, 8, 4)\n",
    "t_0 = datetime.datetime(2023, 8, 1) \n",
    "putorcall = 'put'\n",
    "pc = -1 if putorcall == 'put' else 1\n",
    "print(f'type = {putorcall}, and pc = {pc}')\n",
    "ret = 1.005\n",
    "vret = 1\n",
    "dt = 1\n",
    "S0=456.39\n",
    "vol=.125\n",
    "vsk_1 = 1\n",
    "vsk_2 = 1.05 if putorcall == 'put' else .99\n",
    "print(f'vsk_1 {vsk_1}, vsk_2 {vsk_2}')\n",
    "op_SPY_1 = BSM(S0=S0*ret, K=456, T=((t_exp - t_0).days)/365, r=.04, sigma=vol*vret*vsk_1, kind=putorcall)\n",
    "op_SPY_2 = BSM(S0=S0*ret, K=454, T=((t_exp - t_0).days)/365, r=.04, sigma=vol*vret*vsk_2, kind=putorcall)\n"
   ]
  },
  {
   "cell_type": "code",
   "execution_count": 160,
   "metadata": {},
   "outputs": [
    {
     "data": {
      "text/html": [
       "<div>\n",
       "<style scoped>\n",
       "    .dataframe tbody tr th:only-of-type {\n",
       "        vertical-align: middle;\n",
       "    }\n",
       "\n",
       "    .dataframe tbody tr th {\n",
       "        vertical-align: top;\n",
       "    }\n",
       "\n",
       "    .dataframe thead th {\n",
       "        text-align: right;\n",
       "    }\n",
       "</style>\n",
       "<table border=\"1\" class=\"dataframe\">\n",
       "  <thead>\n",
       "    <tr style=\"text-align: right;\">\n",
       "      <th></th>\n",
       "      <th>Value</th>\n",
       "      <th>d1</th>\n",
       "      <th>d2</th>\n",
       "      <th>Delta</th>\n",
       "      <th>Gamma</th>\n",
       "      <th>Vega</th>\n",
       "      <th>Theta</th>\n",
       "      <th>Rho</th>\n",
       "      <th>Omega</th>\n",
       "    </tr>\n",
       "  </thead>\n",
       "  <tbody>\n",
       "    <tr>\n",
       "      <th>1</th>\n",
       "      <td>0.955502</td>\n",
       "      <td>0.550226</td>\n",
       "      <td>0.538894</td>\n",
       "      <td>-0.291082</td>\n",
       "      <td>0.065969</td>\n",
       "      <td>14.258877</td>\n",
       "      <td>-103.048209</td>\n",
       "      <td>-1.105206</td>\n",
       "      <td>-139.728777</td>\n",
       "    </tr>\n",
       "    <tr>\n",
       "      <th>2</th>\n",
       "      <td>0.557295</td>\n",
       "      <td>0.893986</td>\n",
       "      <td>0.882087</td>\n",
       "      <td>-0.185665</td>\n",
       "      <td>0.049017</td>\n",
       "      <td>11.124489</td>\n",
       "      <td>-85.393428</td>\n",
       "      <td>-0.704519</td>\n",
       "      <td>-152.808151</td>\n",
       "    </tr>\n",
       "  </tbody>\n",
       "</table>\n",
       "</div>"
      ],
      "text/plain": [
       "      Value        d1        d2     Delta     Gamma       Vega       Theta   \n",
       "1  0.955502  0.550226  0.538894 -0.291082  0.065969  14.258877 -103.048209  \\\n",
       "2  0.557295  0.893986  0.882087 -0.185665  0.049017  11.124489  -85.393428   \n",
       "\n",
       "        Rho       Omega  \n",
       "1 -1.105206 -139.728777  \n",
       "2 -0.704519 -152.808151  "
      ]
     },
     "execution_count": 160,
     "metadata": {},
     "output_type": "execute_result"
    }
   ],
   "source": [
    "pd.DataFrame([op_SPY_1.summary(), op_SPY_2.summary()], index = [1, 2])"
   ]
  },
  {
   "cell_type": "code",
   "execution_count": 161,
   "metadata": {},
   "outputs": [
    {
     "data": {
      "text/plain": [
       "0.3982074235796631"
      ]
     },
     "execution_count": 161,
     "metadata": {},
     "output_type": "execute_result"
    }
   ],
   "source": [
    "(op_SPY_1.value() - op_SPY_2.value())"
   ]
  },
  {
   "cell_type": "code",
   "execution_count": 143,
   "metadata": {},
   "outputs": [
    {
     "data": {
      "text/plain": [
       "0.00021910603548816183"
      ]
     },
     "execution_count": 143,
     "metadata": {},
     "output_type": "execute_result"
    }
   ],
   "source": [
    "(op_SPY_1.theta() - op_SPY_2.theta())/365"
   ]
  },
  {
   "cell_type": "code",
   "execution_count": null,
   "metadata": {},
   "outputs": [],
   "source": []
  }
 ],
 "metadata": {
  "kernelspec": {
   "display_name": "fin",
   "language": "python",
   "name": "fin"
  },
  "language_info": {
   "codemirror_mode": {
    "name": "ipython",
    "version": 3
   },
   "file_extension": ".py",
   "mimetype": "text/x-python",
   "name": "python",
   "nbconvert_exporter": "python",
   "pygments_lexer": "ipython3",
   "version": "3.10.10"
  }
 },
 "nbformat": 4,
 "nbformat_minor": 4
}
