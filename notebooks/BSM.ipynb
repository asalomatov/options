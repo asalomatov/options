{
 "cells": [
  {
   "cell_type": "code",
   "execution_count": 95,
   "metadata": {},
   "outputs": [
    {
     "data": {
      "text/plain": [
       "OrderedDict([('Value', 9.925053717274437),\n",
       "             ('d1', 0.3),\n",
       "             ('d2', 0.09999999999999998),\n",
       "             ('Delta', 0.6179114221889526),\n",
       "             ('Gamma', 0.019069390773026208),\n",
       "             ('Vega', 38.138781546052414),\n",
       "             ('Theta', -5.888521694670074),\n",
       "             ('Rho', 51.86608850162082),\n",
       "             ('Omega', 6.225774084360724)])"
      ]
     },
     "execution_count": 95,
     "metadata": {},
     "output_type": "execute_result"
    }
   ],
   "source": [
    "from pyfinance.options import BSM\n",
    "op = BSM(S0=100, K=100, T=1, r=.04, sigma=.2)\n",
    "\n",
    "op.summary()"
   ]
  },
  {
   "cell_type": "code",
   "execution_count": 22,
   "metadata": {},
   "outputs": [
    {
     "data": {
      "text/plain": [
       "OrderedDict([('Value', 0.3939592131558989),\n",
       "             ('d1', -0.9836377898976464),\n",
       "             ('d2', -1.0304542487760986),\n",
       "             ('Delta', 0.16264681874810338),\n",
       "             ('Gamma', 0.052530573967688884),\n",
       "             ('Vega', 5.756775229335767),\n",
       "             ('Theta', -10.98223647338741),\n",
       "             ('Rho', 0.8696286389947638),\n",
       "             ('Omega', 41.285192303331215)])"
      ]
     },
     "execution_count": 22,
     "metadata": {},
     "output_type": "execute_result"
    }
   ],
   "source": [
    "op = BSM(S0=100, K=105, T=20/365, r=.03, sigma=.2)\n",
    "op.summary()\n"
   ]
  },
  {
   "cell_type": "code",
   "execution_count": 27,
   "metadata": {},
   "outputs": [
    {
     "data": {
      "text/plain": [
       "OrderedDict([('Value', 0.3639349908658769),\n",
       "             ('d1', -1.0121931208110313),\n",
       "             ('d2', -1.0578241604750793),\n",
       "             ('Delta', 0.155722862369441),\n",
       "             ('Gamma', 0.052381119029115554),\n",
       "             ('Vega', 5.4533767756339495),\n",
       "             ('Theta', -10.93247434320546),\n",
       "             ('Rho', 0.7916675991109211),\n",
       "             ('Omega', 42.788648049187024)])"
      ]
     },
     "execution_count": 27,
     "metadata": {},
     "output_type": "execute_result"
    }
   ],
   "source": [
    "op1 = BSM(S0=100, K=105, T=19/365, r=.03, sigma=.2)\n",
    "op1.summary()"
   ]
  },
  {
   "cell_type": "code",
   "execution_count": 28,
   "metadata": {},
   "outputs": [
    {
     "data": {
      "text/plain": [
       "0.3638708940507279"
      ]
     },
     "execution_count": 28,
     "metadata": {},
     "output_type": "execute_result"
    }
   ],
   "source": [
    "op.value() + op.theta()*1/365"
   ]
  },
  {
   "cell_type": "code",
   "execution_count": 29,
   "metadata": {},
   "outputs": [],
   "source": [
    "import datetime"
   ]
  },
  {
   "cell_type": "code",
   "execution_count": 129,
   "metadata": {},
   "outputs": [],
   "source": [
    "t_exp = datetime.datetime(2023, 2, 10)\n",
    "t_0 = datetime.datetime(2023, 2, 3)"
   ]
  },
  {
   "cell_type": "code",
   "execution_count": 130,
   "metadata": {},
   "outputs": [
    {
     "data": {
      "text/plain": [
       "0.019178082191780823"
      ]
     },
     "execution_count": 130,
     "metadata": {},
     "output_type": "execute_result"
    }
   ],
   "source": [
    "(t_exp - t_0).days/365"
   ]
  },
  {
   "cell_type": "code",
   "execution_count": 111,
   "metadata": {},
   "outputs": [],
   "source": [
    "ret = 1\n",
    "S0=113.19\n",
    "op_XOM_110 = BSM(S0=S0*ret, K=110, T=(t_exp - t_0).days/365, r=.03, sigma=.32, kind='put')\n",
    "op_XOM_108 = BSM(S0=S0*ret, K=108, T=(t_exp - t_0).days/365, r=.03, sigma=.35, kind='put')\n"
   ]
  },
  {
   "cell_type": "code",
   "execution_count": 112,
   "metadata": {},
   "outputs": [
    {
     "data": {
      "text/plain": [
       "OrderedDict([('Value', 0.757725578680077),\n",
       "             ('d1', 0.68023448769038),\n",
       "             ('d2', 0.6359193027484399),\n",
       "             ('Delta', -0.2481779992328328),\n",
       "             ('Gamma', 0.06310609322488972),\n",
       "             ('Vega', 4.961837858307167),\n",
       "             ('Theta', -40.53043461852161),\n",
       "             ('Rho', -0.5532683648846877),\n",
       "             ('Omega', -37.07314168026113)])"
      ]
     },
     "execution_count": 112,
     "metadata": {},
     "output_type": "execute_result"
    }
   ],
   "source": [
    "op_XOM_110.summary()"
   ]
  },
  {
   "cell_type": "code",
   "execution_count": 113,
   "metadata": {},
   "outputs": [
    {
     "data": {
      "text/plain": [
       "OrderedDict([('Value', 0.46332748492435627),\n",
       "             ('d1', 1.0044741733462743),\n",
       "             ('d2', 0.9560044398160273),\n",
       "             ('Delta', -0.15757505686962303),\n",
       "             ('Gamma', 0.04390729447482183),\n",
       "             ('Vega', 3.7759481046475174),\n",
       "             ('Theta', -33.90654900974868),\n",
       "             ('Rho', -0.3509444854903533),\n",
       "             ('Omega', -38.49527875512189)])"
      ]
     },
     "execution_count": 113,
     "metadata": {},
     "output_type": "execute_result"
    }
   ],
   "source": [
    "op_XOM_108.summary()"
   ]
  },
  {
   "cell_type": "code",
   "execution_count": 102,
   "metadata": {},
   "outputs": [
    {
     "data": {
      "text/plain": [
       "0.32647667059181973"
      ]
     },
     "execution_count": 102,
     "metadata": {},
     "output_type": "execute_result"
    }
   ],
   "source": [
    "op_XOM_110.implied_vol(value=.79)"
   ]
  },
  {
   "cell_type": "code",
   "execution_count": 107,
   "metadata": {},
   "outputs": [
    {
     "data": {
      "text/plain": [
       "nan"
      ]
     },
     "execution_count": 107,
     "metadata": {},
     "output_type": "execute_result"
    }
   ],
   "source": [
    "op_XOM_108.implied_vol(value=.50)"
   ]
  },
  {
   "cell_type": "code",
   "execution_count": 70,
   "metadata": {},
   "outputs": [
    {
     "data": {
      "text/plain": [
       "-0.04688269237713428"
      ]
     },
     "execution_count": 70,
     "metadata": {},
     "output_type": "execute_result"
    }
   ],
   "source": [
    "op_XOM_120.theta()/365"
   ]
  },
  {
   "cell_type": "code",
   "execution_count": 71,
   "metadata": {},
   "outputs": [
    {
     "data": {
      "text/plain": [
       "-0.07856864815397242"
      ]
     },
     "execution_count": 71,
     "metadata": {},
     "output_type": "execute_result"
    }
   ],
   "source": [
    "op_XOM_115.theta()/365"
   ]
  },
  {
   "cell_type": "code",
   "execution_count": 114,
   "metadata": {},
   "outputs": [
    {
     "data": {
      "text/plain": [
       "-0.2943980937557207"
      ]
     },
     "execution_count": 114,
     "metadata": {},
     "output_type": "execute_result"
    }
   ],
   "source": [
    "op_XOM_108.value() - op_XOM_110.value()"
   ]
  },
  {
   "cell_type": "code",
   "execution_count": 117,
   "metadata": {},
   "outputs": [
    {
     "data": {
      "text/plain": [
       "-0.018147631804857345"
      ]
     },
     "execution_count": 117,
     "metadata": {},
     "output_type": "execute_result"
    }
   ],
   "source": [
    "(-op_XOM_108.theta() + op_XOM_110.theta())/365"
   ]
  },
  {
   "cell_type": "code",
   "execution_count": 154,
   "metadata": {},
   "outputs": [],
   "source": [
    "t_exp = datetime.datetime(2023, 2, 10)\n",
    "t_0 = datetime.datetime(2023, 2, 6)\n",
    "ret = 1\n",
    "S0=412.92\n",
    "op_SPY_420 = BSM(S0=S0*ret, K=420, T=(t_exp - t_0).days/365, r=.03, sigma=.165, kind='call')\n",
    "op_SPY_423 = BSM(S0=S0*ret, K=423, T=(t_exp - t_0).days/365, r=.03, sigma=.16, kind='call')\n"
   ]
  },
  {
   "cell_type": "code",
   "execution_count": 155,
   "metadata": {},
   "outputs": [
    {
     "data": {
      "text/plain": [
       "OrderedDict([('Value', 0.6399574274438464),\n",
       "             ('d1', -0.956574223975554),\n",
       "             ('d2', -0.9738472134210311),\n",
       "             ('Delta', 0.16939110205812885),\n",
       "             ('Gamma', 0.03539806134964211),\n",
       "             ('Vega', 10.91345811600129),\n",
       "             ('Theta', -84.23702737255418),\n",
       "             ('Rho', 0.7595070294180681),\n",
       "             ('Omega', 109.29629200683033)])"
      ]
     },
     "execution_count": 155,
     "metadata": {},
     "output_type": "execute_result"
    }
   ],
   "source": [
    "op_SPY_420.summary()"
   ]
  },
  {
   "cell_type": "code",
   "execution_count": 156,
   "metadata": {},
   "outputs": [
    {
     "data": {
      "text/plain": [
       "OrderedDict([('Value', 0.24536945577028035),\n",
       "             ('d1', -1.411933242129982),\n",
       "             ('d2', -1.4286828076528688),\n",
       "             ('Delta', 0.07898480931197316),\n",
       "             ('Gamma', 0.02128852289012139),\n",
       "             ('Vega', 6.364502709477843),\n",
       "             ('Theta', -47.43194091934815),\n",
       "             ('Rho', 0.3547291836200513),\n",
       "             ('Omega', 132.91959000648475)])"
      ]
     },
     "execution_count": 156,
     "metadata": {},
     "output_type": "execute_result"
    }
   ],
   "source": [
    "op_SPY_423.summary()"
   ]
  },
  {
   "cell_type": "code",
   "execution_count": 157,
   "metadata": {},
   "outputs": [
    {
     "data": {
      "text/plain": [
       "-0.10083585329645488"
      ]
     },
     "execution_count": 157,
     "metadata": {},
     "output_type": "execute_result"
    }
   ],
   "source": [
    "(op_SPY_420.theta() - op_SPY_423.theta())/365"
   ]
  },
  {
   "cell_type": "code",
   "execution_count": null,
   "metadata": {},
   "outputs": [],
   "source": []
  },
  {
   "cell_type": "markdown",
   "metadata": {},
   "source": [
    "### spy bear spread"
   ]
  },
  {
   "cell_type": "code",
   "execution_count": 76,
   "metadata": {},
   "outputs": [
    {
     "name": "stdout",
     "output_type": "stream",
     "text": [
      "2023-01-27 00:00:00 2023-02-03 00:00:00 0.019178082191780823\n"
     ]
    }
   ],
   "source": [
    "t_exp = datetime.datetime(2023, 2, 3)\n",
    "t_0 = datetime.datetime(2023, 1, 27)\n",
    "T = (t_exp - t_0).days/365\n",
    "print(t_0, t_exp, T)"
   ]
  },
  {
   "cell_type": "code",
   "execution_count": 87,
   "metadata": {},
   "outputs": [
    {
     "name": "stdout",
     "output_type": "stream",
     "text": [
      "0.20953789179860652\n"
     ]
    },
    {
     "data": {
      "text/plain": [
       "OrderedDict([('Value', 2.8900000005231448),\n",
       "             ('d1', -0.34599144012247923),\n",
       "             ('d2', -0.3750092852081026),\n",
       "             ('Delta', 0.3646745738591535),\n",
       "             ('Gamma', 0.03193444233526245),\n",
       "             ('Vega', 21.101279949758244),\n",
       "             ('Theta', -119.62484947294236),\n",
       "             ('Rho', 2.7805445969740963),\n",
       "             ('Omega', 51.16800680730742)])"
      ]
     },
     "execution_count": 87,
     "metadata": {},
     "output_type": "execute_result"
    }
   ],
   "source": [
    "S0 = 405.50\n",
    "opS0 = 2.89\n",
    "opL0 = 1.32\n",
    "opS = BSM(S0=S0, K=410, T=T, r=.03, sigma=.2)\n",
    "ivS = opS.implied_vol(value=opS0)\n",
    "print(ivS)\n",
    "opS = BSM(S0=S0, K=410, T=T, r=.03, sigma=ivS)\n",
    "opS.summary()"
   ]
  },
  {
   "cell_type": "code",
   "execution_count": 92,
   "metadata": {},
   "outputs": [
    {
     "name": "stdout",
     "output_type": "stream",
     "text": [
      "nan\n"
     ]
    },
    {
     "data": {
      "text/plain": [
       "OrderedDict([('Value', 1.373825407757593),\n",
       "             ('d1', -0.5154405721028186),\n",
       "             ('d2', -0.5389830141032242),\n",
       "             ('Delta', 0.3031225936009969),\n",
       "             ('Gamma', 0.04848927290849378),\n",
       "             ('Vega', 14.802757408468688),\n",
       "             ('Theta', -68.34938616098745),\n",
       "             ('Rho', 1.7525255277781706),\n",
       "             ('Omega', 67.5162310422719)])"
      ]
     },
     "execution_count": 92,
     "metadata": {},
     "output_type": "execute_result"
    }
   ],
   "source": [
    "opL = BSM(S0=S0, K=315, T=T, r=.03, sigma=.2)\n",
    "ivL = opL.implied_vol(value=opL0)\n",
    "print(ivL)\n",
    "opL = BSM(S0=306, K=310, T=T, r=.03, sigma=.17)\n",
    "opL.summary()"
   ]
  },
  {
   "cell_type": "code",
   "execution_count": 93,
   "metadata": {},
   "outputs": [
    {
     "data": {
      "text/plain": [
       "0.1643835616438356"
      ]
     },
     "execution_count": 93,
     "metadata": {},
     "output_type": "execute_result"
    }
   ],
   "source": [
    "60/365"
   ]
  },
  {
   "cell_type": "code",
   "execution_count": 94,
   "metadata": {},
   "outputs": [
    {
     "data": {
      "text/plain": [
       "1.5161745927655517"
      ]
     },
     "execution_count": 94,
     "metadata": {},
     "output_type": "execute_result"
    }
   ],
   "source": [
    "opS.value() - opL.value()"
   ]
  },
  {
   "cell_type": "code",
   "execution_count": null,
   "metadata": {},
   "outputs": [],
   "source": []
  }
 ],
 "metadata": {
  "kernelspec": {
   "display_name": "Python 3",
   "language": "python",
   "name": "python3"
  },
  "language_info": {
   "codemirror_mode": {
    "name": "ipython",
    "version": 3
   },
   "file_extension": ".py",
   "mimetype": "text/x-python",
   "name": "python",
   "nbconvert_exporter": "python",
   "pygments_lexer": "ipython3",
   "version": "3.9.5"
  }
 },
 "nbformat": 4,
 "nbformat_minor": 4
}
